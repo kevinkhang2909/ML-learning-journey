{
 "cells": [
  {
   "cell_type": "code",
   "execution_count": 4,
   "metadata": {
    "ExecuteTime": {
     "end_time": "2023-05-08T07:15:54.768586Z",
     "start_time": "2023-05-08T07:15:51.774907200Z"
    },
    "collapsed": false,
    "jupyter": {
     "outputs_hidden": false
    }
   },
   "outputs": [
    {
     "name": "stderr",
     "output_type": "stream",
     "text": [
      "Global seed set to 42\n"
     ]
    },
    {
     "data": {
      "text/plain": [
       "42"
      ]
     },
     "execution_count": 4,
     "metadata": {},
     "output_type": "execute_result"
    }
   ],
   "source": [
    "from pathlib import Path\n",
    "import pandas as pd\n",
    "from collections import Counter\n",
    "import random\n",
    "import torch\n",
    "import torch.nn as nn\n",
    "from torch.utils.data import Dataset, DataLoader\n",
    "\n",
    "from lightning import Trainer, seed_everything, LightningModule\n",
    "from lightning.pytorch.callbacks import ModelCheckpoint\n",
    "\n",
    "seed_everything(42)"
   ]
  },
  {
   "cell_type": "code",
   "execution_count": 5,
   "metadata": {
    "ExecuteTime": {
     "end_time": "2023-05-08T07:15:55.261591500Z",
     "start_time": "2023-05-08T07:15:54.771585900Z"
    },
    "collapsed": false,
    "jupyter": {
     "outputs_hidden": false
    }
   },
   "outputs": [
    {
     "name": "stdout",
     "output_type": "stream",
     "text": [
      "(1377772, 4) 124364\n"
     ]
    },
    {
     "data": {
      "text/html": [
       "<div>\n",
       "<style scoped>\n",
       "    .dataframe tbody tr th:only-of-type {\n",
       "        vertical-align: middle;\n",
       "    }\n",
       "\n",
       "    .dataframe tbody tr th {\n",
       "        vertical-align: top;\n",
       "    }\n",
       "\n",
       "    .dataframe thead th {\n",
       "        text-align: right;\n",
       "    }\n",
       "</style>\n",
       "<table border=\"1\" class=\"dataframe\">\n",
       "  <thead>\n",
       "    <tr style=\"text-align: right;\">\n",
       "      <th></th>\n",
       "      <th>order_id</th>\n",
       "      <th>product_id</th>\n",
       "      <th>add_to_cart_order</th>\n",
       "      <th>reordered</th>\n",
       "    </tr>\n",
       "  </thead>\n",
       "  <tbody>\n",
       "    <tr>\n",
       "      <th>0</th>\n",
       "      <td>1</td>\n",
       "      <td>49302</td>\n",
       "      <td>1</td>\n",
       "      <td>1</td>\n",
       "    </tr>\n",
       "    <tr>\n",
       "      <th>1</th>\n",
       "      <td>1</td>\n",
       "      <td>11109</td>\n",
       "      <td>2</td>\n",
       "      <td>1</td>\n",
       "    </tr>\n",
       "    <tr>\n",
       "      <th>2</th>\n",
       "      <td>1</td>\n",
       "      <td>10246</td>\n",
       "      <td>3</td>\n",
       "      <td>0</td>\n",
       "    </tr>\n",
       "    <tr>\n",
       "      <th>3</th>\n",
       "      <td>1</td>\n",
       "      <td>49683</td>\n",
       "      <td>4</td>\n",
       "      <td>0</td>\n",
       "    </tr>\n",
       "    <tr>\n",
       "      <th>4</th>\n",
       "      <td>1</td>\n",
       "      <td>43633</td>\n",
       "      <td>5</td>\n",
       "      <td>1</td>\n",
       "    </tr>\n",
       "    <tr>\n",
       "      <th>5</th>\n",
       "      <td>1</td>\n",
       "      <td>13176</td>\n",
       "      <td>6</td>\n",
       "      <td>0</td>\n",
       "    </tr>\n",
       "    <tr>\n",
       "      <th>6</th>\n",
       "      <td>1</td>\n",
       "      <td>47209</td>\n",
       "      <td>7</td>\n",
       "      <td>0</td>\n",
       "    </tr>\n",
       "    <tr>\n",
       "      <th>7</th>\n",
       "      <td>1</td>\n",
       "      <td>22035</td>\n",
       "      <td>8</td>\n",
       "      <td>1</td>\n",
       "    </tr>\n",
       "    <tr>\n",
       "      <th>8</th>\n",
       "      <td>36</td>\n",
       "      <td>39612</td>\n",
       "      <td>1</td>\n",
       "      <td>0</td>\n",
       "    </tr>\n",
       "    <tr>\n",
       "      <th>9</th>\n",
       "      <td>36</td>\n",
       "      <td>19660</td>\n",
       "      <td>2</td>\n",
       "      <td>1</td>\n",
       "    </tr>\n",
       "  </tbody>\n",
       "</table>\n",
       "</div>"
      ],
      "text/plain": [
       "   order_id  product_id  add_to_cart_order  reordered\n",
       "0         1       49302                  1          1\n",
       "1         1       11109                  2          1\n",
       "2         1       10246                  3          0\n",
       "3         1       49683                  4          0\n",
       "4         1       43633                  5          1\n",
       "5         1       13176                  6          0\n",
       "6         1       47209                  7          0\n",
       "7         1       22035                  8          1\n",
       "8        36       39612                  1          0\n",
       "9        36       19660                  2          1"
      ]
     },
     "execution_count": 5,
     "metadata": {},
     "output_type": "execute_result"
    }
   ],
   "source": [
    "path = Path.home() / 'OneDrive - Seagroup/ai/kaggle_dataset/instacart'\n",
    "\n",
    "df_order = pd.read_csv(path / 'order_products__train.csv')\n",
    "\n",
    "# filter orders have 1 product\n",
    "order_1_product = df_order.groupby('order_id')[['product_id']].nunique()\n",
    "order_1_product = order_1_product.query('product_id == 1').index.tolist()\n",
    "df_order.query(f'order_id != {order_1_product}', inplace=True)\n",
    "\n",
    "print(df_order.shape, df_order['order_id'].nunique())\n",
    "df_order.head(10)"
   ]
  },
  {
   "cell_type": "code",
   "execution_count": 6,
   "metadata": {
    "ExecuteTime": {
     "end_time": "2023-05-08T07:15:55.323591600Z",
     "start_time": "2023-05-08T07:15:55.263591500Z"
    },
    "collapsed": false,
    "jupyter": {
     "outputs_hidden": false
    }
   },
   "outputs": [
    {
     "name": "stdout",
     "output_type": "stream",
     "text": [
      "(49688, 2) 49688\n"
     ]
    },
    {
     "data": {
      "text/html": [
       "<div>\n",
       "<style scoped>\n",
       "    .dataframe tbody tr th:only-of-type {\n",
       "        vertical-align: middle;\n",
       "    }\n",
       "\n",
       "    .dataframe tbody tr th {\n",
       "        vertical-align: top;\n",
       "    }\n",
       "\n",
       "    .dataframe thead th {\n",
       "        text-align: right;\n",
       "    }\n",
       "</style>\n",
       "<table border=\"1\" class=\"dataframe\">\n",
       "  <thead>\n",
       "    <tr style=\"text-align: right;\">\n",
       "      <th></th>\n",
       "      <th>product_id</th>\n",
       "      <th>product_name</th>\n",
       "    </tr>\n",
       "  </thead>\n",
       "  <tbody>\n",
       "    <tr>\n",
       "      <th>0</th>\n",
       "      <td>1</td>\n",
       "      <td>Chocolate Sandwich Cookies</td>\n",
       "    </tr>\n",
       "    <tr>\n",
       "      <th>1</th>\n",
       "      <td>2</td>\n",
       "      <td>All-Seasons Salt</td>\n",
       "    </tr>\n",
       "    <tr>\n",
       "      <th>2</th>\n",
       "      <td>3</td>\n",
       "      <td>Robust Golden Unsweetened Oolong Tea</td>\n",
       "    </tr>\n",
       "    <tr>\n",
       "      <th>3</th>\n",
       "      <td>4</td>\n",
       "      <td>Smart Ones Classic Favorites Mini Rigatoni Wit...</td>\n",
       "    </tr>\n",
       "    <tr>\n",
       "      <th>4</th>\n",
       "      <td>5</td>\n",
       "      <td>Green Chile Anytime Sauce</td>\n",
       "    </tr>\n",
       "  </tbody>\n",
       "</table>\n",
       "</div>"
      ],
      "text/plain": [
       "   product_id                                       product_name\n",
       "0           1                         Chocolate Sandwich Cookies\n",
       "1           2                                   All-Seasons Salt\n",
       "2           3               Robust Golden Unsweetened Oolong Tea\n",
       "3           4  Smart Ones Classic Favorites Mini Rigatoni Wit...\n",
       "4           5                          Green Chile Anytime Sauce"
      ]
     },
     "execution_count": 6,
     "metadata": {},
     "output_type": "execute_result"
    }
   ],
   "source": [
    "df_product = pd.read_csv(path / 'products.csv', usecols=[\"product_id\", \"product_name\"])\n",
    "print(df_product.shape, df_product['product_id'].nunique())\n",
    "\n",
    "df_product.head()"
   ]
  },
  {
   "cell_type": "code",
   "execution_count": 7,
   "metadata": {
    "ExecuteTime": {
     "end_time": "2023-05-08T07:15:57.038943400Z",
     "start_time": "2023-05-08T07:15:55.297591800Z"
    },
    "collapsed": false,
    "jupyter": {
     "outputs_hidden": false
    }
   },
   "outputs": [],
   "source": [
    "orders = df_order.sort_values(by=[\"order_id\", \"add_to_cart_order\"])\n",
    "orders = orders.groupby(\"order_id\")[\"product_id\"].apply(list).tolist()\n",
    "\n",
    "product_name_by_id = df_product.set_index(\"product_id\").to_dict()[\"product_name\"]\n",
    "\n",
    "# set index\n",
    "ordered_products = set([product for order in orders for product in order])\n",
    "product_mapping = {\n",
    "    'index_by_id': dict(),\n",
    "    'name_by_index': dict(),\n",
    "}\n",
    "ind = 0\n",
    "for ind, product_id in enumerate(ordered_products):\n",
    "    product_name = product_name_by_id[product_id]\n",
    "    product_mapping[\"index_by_id\"][product_id] = ind\n",
    "    product_mapping[\"name_by_index\"][ind] = product_name\n",
    "\n",
    "indexed_orders = [\n",
    "    [product_mapping[\"index_by_id\"][product_id] for product_id in order]\n",
    "    for order in orders\n",
    "]"
   ]
  },
  {
   "cell_type": "code",
   "execution_count": 8,
   "metadata": {
    "ExecuteTime": {
     "end_time": "2023-05-08T07:15:59.294183600Z",
     "start_time": "2023-05-08T07:15:57.041950900Z"
    },
    "collapsed": false,
    "jupyter": {
     "outputs_hidden": false
    }
   },
   "outputs": [
    {
     "name": "stdout",
     "output_type": "stream",
     "text": [
      "Sample order: [38764, 8736, 8063, 39057, 34290, 10349, 37106, 17371]\n",
      "Target product: 38764, Positive context products: [8736, 8063, 39057, 34290, 10349]\n",
      "Target product: 8736, Positive context products: [38764, 8063, 39057, 34290, 10349, 37106]\n",
      "Target product: 8063, Positive context products: [38764, 8736, 39057, 34290, 10349, 37106, 17371]\n"
     ]
    }
   ],
   "source": [
    "context_window = 5\n",
    "\n",
    "# total number of context products, including positive and negative products\n",
    "all_targets = []\n",
    "all_positive_contexts = []\n",
    "for order in indexed_orders:\n",
    "    for i, product in enumerate(order):\n",
    "        all_targets.append(product)\n",
    "        positive_context = [\n",
    "            order[j]\n",
    "            for j in range(\n",
    "                max(0, i - context_window), min(len(order), i + context_window + 1)\n",
    "            )\n",
    "            if j != i\n",
    "        ]\n",
    "        all_positive_contexts.append(positive_context)\n",
    "\n",
    "print(\"Sample order:\", indexed_orders[0])\n",
    "for i in range(3):\n",
    "    print(f\"Target product: {all_targets[i]}\", end = \", \")\n",
    "    print(f\"Positive context products: {all_positive_contexts[i]}\")"
   ]
  },
  {
   "cell_type": "code",
   "execution_count": 9,
   "metadata": {
    "ExecuteTime": {
     "end_time": "2023-05-08T07:15:59.388397800Z",
     "start_time": "2023-05-08T07:15:59.311165300Z"
    },
    "collapsed": false,
    "jupyter": {
     "outputs_hidden": false
    }
   },
   "outputs": [],
   "source": [
    "def get_sampling_weights(orders):\n",
    "    product_freq = Counter([product for order in orders for product in order])\n",
    "    sampling_weights = [0 for _ in product_freq]\n",
    "    for product_index, count in product_freq.items():\n",
    "        sampling_weights[product_index] = count**0.5\n",
    "    return sampling_weights\n",
    "\n",
    "sampling_weights = get_sampling_weights(indexed_orders)"
   ]
  },
  {
   "cell_type": "code",
   "execution_count": 10,
   "metadata": {
    "ExecuteTime": {
     "end_time": "2023-05-08T07:16:02.249123100Z",
     "start_time": "2023-05-08T07:15:59.391393900Z"
    },
    "collapsed": false,
    "jupyter": {
     "outputs_hidden": false
    }
   },
   "outputs": [
    {
     "name": "stdout",
     "output_type": "stream",
     "text": [
      "Sampling samples: [18129, 15355, 20263, 23956, 38661, 29016, 34084, 18226, 24946, 17815]\n"
     ]
    }
   ],
   "source": [
    "class ProductSampler:\n",
    "    def __init__(self, products, weights, pre_drawn=10_000_000):\n",
    "        self.products = products\n",
    "        self.weights = weights\n",
    "        self.pre_drawn = pre_drawn\n",
    "        self.pre_drawn_products = []\n",
    "\n",
    "    def refill(self):\n",
    "        self.pre_drawn_products = random.choices(\n",
    "            population=self.products, weights=self.weights, k=self.pre_drawn\n",
    "        )\n",
    "\n",
    "    def draw(self):\n",
    "        if not self.pre_drawn_products:\n",
    "            self.refill()\n",
    "        return self.pre_drawn_products.pop()\n",
    "\n",
    "\n",
    "num_products = len(ordered_products)\n",
    "product_sampler = ProductSampler(\n",
    "    products=range(num_products),\n",
    "    weights=sampling_weights,\n",
    "    pre_drawn=10_000_000,\n",
    ")\n",
    "\n",
    "print(\"Sampling samples:\", [product_sampler.draw() for _ in range(10)])"
   ]
  },
  {
   "cell_type": "code",
   "execution_count": 11,
   "metadata": {
    "ExecuteTime": {
     "end_time": "2023-05-08T07:16:02.265122800Z",
     "start_time": "2023-05-08T07:16:02.252122200Z"
    },
    "collapsed": false,
    "jupyter": {
     "outputs_hidden": false
    }
   },
   "outputs": [],
   "source": [
    "class TargetContextDataset(Dataset):\n",
    "    def __init__(self,\n",
    "                 all_targets,\n",
    "                 all_positive_contexts,\n",
    "                 product_sampler,\n",
    "                 num_context_products: int = 10):\n",
    "\n",
    "        self.all_targets = all_targets\n",
    "        self.all_positive_contexts = all_positive_contexts\n",
    "        self.product_sampler = product_sampler\n",
    "        self.num_context_products = num_context_products\n",
    "\n",
    "    def __len__(self):\n",
    "        return len(self.all_targets)\n",
    "\n",
    "    def __getitem__(self, index):\n",
    "        target = torch.tensor([self.all_targets[index]], dtype=torch.int32)\n",
    "        positive_contexts = self.all_positive_contexts[index].copy()\n",
    "        num_pos = len(positive_contexts)\n",
    "        num_neg = self.num_context_products - len(positive_contexts)\n",
    "        mask = [1] * num_pos + [0] * num_neg\n",
    "        while len(positive_contexts) < self.num_context_products:\n",
    "            product = self.product_sampler.draw()\n",
    "            if product not in positive_contexts:\n",
    "                positive_contexts.append(product)\n",
    "\n",
    "        contexts = torch.IntTensor(positive_contexts)\n",
    "        mask = torch.FloatTensor(mask)\n",
    "        return target, contexts, mask\n",
    "\n",
    "\n",
    "training_data = TargetContextDataset(all_targets, all_positive_contexts, product_sampler)\n",
    "train_dataloader = DataLoader(training_data, batch_size=2**17, shuffle=True)\n",
    "val_dataloader = DataLoader(training_data, batch_size=2**17, shuffle=False)\n",
    "\n",
    "# for target in train_dataloader:\n",
    "# for target, context_products, labels in train_dataloader:\n",
    "#     print(\"Target:\", target, target.shape)\n",
    "#     print(\"Context products:\", context_products, context_products.shape)\n",
    "#     print(\"Labels:\", labels, labels.shape)\n",
    "#     break"
   ]
  },
  {
   "cell_type": "code",
   "execution_count": 12,
   "metadata": {
    "ExecuteTime": {
     "end_time": "2023-05-08T11:01:35.989207200Z",
     "start_time": "2023-05-08T11:01:35.968592200Z"
    },
    "collapsed": false,
    "jupyter": {
     "outputs_hidden": false
    }
   },
   "outputs": [
    {
     "data": {
      "text/plain": [
       "tensor(0.4066)"
      ]
     },
     "execution_count": 12,
     "metadata": {},
     "output_type": "execute_result"
    }
   ],
   "source": [
    "class SigmoidBCELoss(nn.Module):\n",
    "    def __init__(self):\n",
    "        super().__init__()\n",
    "\n",
    "    def forward(self, inputs, label):\n",
    "        inputs = torch.reshape(inputs, (inputs.shape[0], -1))\n",
    "        out = nn.BCEWithLogitsLoss()(inputs, label)\n",
    "        return out\n",
    "\n",
    "\n",
    "loss_fn = SigmoidBCELoss()\n",
    "sample_logits = torch.Tensor([[100, -100], [1, 1]])\n",
    "sample_labels = torch.Tensor([[1, 0], [1, 0]])\n",
    "loss_fn(sample_logits, sample_labels)"
   ]
  },
  {
   "cell_type": "code",
   "execution_count": 13,
   "metadata": {
    "ExecuteTime": {
     "end_time": "2023-05-08T11:02:47.453769600Z",
     "start_time": "2023-05-08T11:02:47.446769400Z"
    },
    "collapsed": false,
    "jupyter": {
     "outputs_hidden": false
    }
   },
   "outputs": [],
   "source": [
    "class Prod2VecModel(LightningModule):\n",
    "    def __init__(self, num_products, embed_size: int = 50):\n",
    "        super().__init__()\n",
    "        self.embed_size = embed_size\n",
    "        self.embed_t = nn.Embedding(num_products, self.embed_size)\n",
    "        self.embed_c = nn.Embedding(num_products, self.embed_size)\n",
    "        self.loss_fn = nn.BCEWithLogitsLoss()\n",
    "\n",
    "    def forward(self, targets, contexts):\n",
    "        v = self.embed_t(targets)\n",
    "        u = self.embed_c(contexts)\n",
    "        pred = torch.bmm(v, u.permute(0, 2, 1))\n",
    "        return pred.squeeze(1)\n",
    "\n",
    "    def training_step(self, batch, batch_idx):\n",
    "        targets, contexts, labels = batch\n",
    "        output = self.forward(targets, contexts)\n",
    "        # print(output.shape, labels.shape)\n",
    "        loss = self.loss_fn(output, labels)\n",
    "        self.log('train_loss', loss)\n",
    "        return loss\n",
    "\n",
    "    def validation_step(self, batch, batch_idx):\n",
    "        targets, contexts, labels = batch\n",
    "        output = self.forward(targets, contexts)\n",
    "        loss = self.loss_fn(output, labels)\n",
    "        self.log('val_loss', loss)\n",
    "        return loss\n",
    "\n",
    "    def configure_optimizers(self):\n",
    "        optimizer = torch.optim.Adam(self.parameters(), lr=5e-3)\n",
    "        return optimizer"
   ]
  },
  {
   "cell_type": "code",
   "execution_count": 14,
   "metadata": {
    "ExecuteTime": {
     "end_time": "2023-05-08T11:03:06.506746400Z",
     "start_time": "2023-05-08T11:02:47.980662Z"
    },
    "collapsed": false,
    "jupyter": {
     "outputs_hidden": false
    }
   },
   "outputs": [
    {
     "name": "stderr",
     "output_type": "stream",
     "text": [
      "GPU available: True (cuda), used: True\n",
      "TPU available: False, using: 0 TPU cores\n",
      "IPU available: False, using: 0 IPUs\n",
      "HPU available: False, using: 0 HPUs\n",
      "C:\\Users\\Kevin\\miniconda3\\envs\\py311\\Lib\\site-packages\\lightning\\pytorch\\trainer\\connectors\\logger_connector\\logger_connector.py:67: UserWarning: Starting from v1.9.0, `tensorboardX` has been removed as a dependency of the `lightning.pytorch` package, due to potential conflicts with other packages in the ML ecosystem. For this reason, `logger=True` will use `CSVLogger` as the default logger, unless the `tensorboard` or `tensorboardX` packages are found. Please `pip install lightning[extra]` or one of them to enable TensorBoard support by default\n",
      "  warning_cache.warn(\n",
      "You are using a CUDA device ('NVIDIA GeForce RTX 3060 Ti') that has Tensor Cores. To properly utilize them, you should set `torch.set_float32_matmul_precision('medium' | 'high')` which will trade-off precision for performance. For more details, read https://pytorch.org/docs/stable/generated/torch.set_float32_matmul_precision.html#torch.set_float32_matmul_precision\n",
      "C:\\Users\\Kevin\\miniconda3\\envs\\py311\\Lib\\site-packages\\lightning\\pytorch\\callbacks\\model_checkpoint.py:612: UserWarning: Checkpoint directory C:\\Users\\Kevin\\PycharmProjects\\ML-learning-journey\\analytic_pipeline\\product2vec exists and is not empty.\n",
      "  rank_zero_warn(f\"Checkpoint directory {dirpath} exists and is not empty.\")\n",
      "LOCAL_RANK: 0 - CUDA_VISIBLE_DEVICES: [0]\n",
      "\n",
      "  | Name    | Type              | Params\n",
      "----------------------------------------------\n",
      "0 | embed_t | Embedding         | 3.9 M \n",
      "1 | embed_c | Embedding         | 3.9 M \n",
      "2 | loss_fn | BCEWithLogitsLoss | 0     \n",
      "----------------------------------------------\n",
      "7.8 M     Trainable params\n",
      "0         Non-trainable params\n",
      "7.8 M     Total params\n",
      "31.249    Total estimated model params size (MB)\n"
     ]
    },
    {
     "data": {
      "application/vnd.jupyter.widget-view+json": {
       "model_id": "",
       "version_major": 2,
       "version_minor": 0
      },
      "text/plain": [
       "Sanity Checking: 0it [00:00, ?it/s]"
      ]
     },
     "metadata": {},
     "output_type": "display_data"
    },
    {
     "name": "stderr",
     "output_type": "stream",
     "text": [
      "C:\\Users\\Kevin\\miniconda3\\envs\\py311\\Lib\\site-packages\\lightning\\pytorch\\trainer\\connectors\\data_connector.py:430: PossibleUserWarning: The dataloader, val_dataloader, does not have many workers which may be a bottleneck. Consider increasing the value of the `num_workers` argument` (try 24 which is the number of cpus on this machine) in the `DataLoader` init to improve performance.\n",
      "  rank_zero_warn(\n",
      "C:\\Users\\Kevin\\miniconda3\\envs\\py311\\Lib\\site-packages\\lightning\\pytorch\\trainer\\connectors\\data_connector.py:430: PossibleUserWarning: The dataloader, train_dataloader, does not have many workers which may be a bottleneck. Consider increasing the value of the `num_workers` argument` (try 24 which is the number of cpus on this machine) in the `DataLoader` init to improve performance.\n",
      "  rank_zero_warn(\n"
     ]
    },
    {
     "data": {
      "application/vnd.jupyter.widget-view+json": {
       "model_id": "8edb225429f74f25abe6a370783885f3",
       "version_major": 2,
       "version_minor": 0
      },
      "text/plain": [
       "Training: 0it [00:00, ?it/s]"
      ]
     },
     "metadata": {},
     "output_type": "display_data"
    },
    {
     "data": {
      "application/vnd.jupyter.widget-view+json": {
       "model_id": "",
       "version_major": 2,
       "version_minor": 0
      },
      "text/plain": [
       "Validation: 0it [00:00, ?it/s]"
      ]
     },
     "metadata": {},
     "output_type": "display_data"
    },
    {
     "data": {
      "application/vnd.jupyter.widget-view+json": {
       "model_id": "",
       "version_major": 2,
       "version_minor": 0
      },
      "text/plain": [
       "Validation: 0it [00:00, ?it/s]"
      ]
     },
     "metadata": {},
     "output_type": "display_data"
    },
    {
     "data": {
      "application/vnd.jupyter.widget-view+json": {
       "model_id": "",
       "version_major": 2,
       "version_minor": 0
      },
      "text/plain": [
       "Validation: 0it [00:00, ?it/s]"
      ]
     },
     "metadata": {},
     "output_type": "display_data"
    },
    {
     "data": {
      "application/vnd.jupyter.widget-view+json": {
       "model_id": "",
       "version_major": 2,
       "version_minor": 0
      },
      "text/plain": [
       "Validation: 0it [00:00, ?it/s]"
      ]
     },
     "metadata": {},
     "output_type": "display_data"
    },
    {
     "data": {
      "application/vnd.jupyter.widget-view+json": {
       "model_id": "",
       "version_major": 2,
       "version_minor": 0
      },
      "text/plain": [
       "Validation: 0it [00:00, ?it/s]"
      ]
     },
     "metadata": {},
     "output_type": "display_data"
    },
    {
     "data": {
      "application/vnd.jupyter.widget-view+json": {
       "model_id": "",
       "version_major": 2,
       "version_minor": 0
      },
      "text/plain": [
       "Validation: 0it [00:00, ?it/s]"
      ]
     },
     "metadata": {},
     "output_type": "display_data"
    },
    {
     "data": {
      "application/vnd.jupyter.widget-view+json": {
       "model_id": "",
       "version_major": 2,
       "version_minor": 0
      },
      "text/plain": [
       "Validation: 0it [00:00, ?it/s]"
      ]
     },
     "metadata": {},
     "output_type": "display_data"
    },
    {
     "data": {
      "application/vnd.jupyter.widget-view+json": {
       "model_id": "",
       "version_major": 2,
       "version_minor": 0
      },
      "text/plain": [
       "Validation: 0it [00:00, ?it/s]"
      ]
     },
     "metadata": {},
     "output_type": "display_data"
    },
    {
     "data": {
      "application/vnd.jupyter.widget-view+json": {
       "model_id": "",
       "version_major": 2,
       "version_minor": 0
      },
      "text/plain": [
       "Validation: 0it [00:00, ?it/s]"
      ]
     },
     "metadata": {},
     "output_type": "display_data"
    },
    {
     "data": {
      "application/vnd.jupyter.widget-view+json": {
       "model_id": "",
       "version_major": 2,
       "version_minor": 0
      },
      "text/plain": [
       "Validation: 0it [00:00, ?it/s]"
      ]
     },
     "metadata": {},
     "output_type": "display_data"
    },
    {
     "data": {
      "application/vnd.jupyter.widget-view+json": {
       "model_id": "",
       "version_major": 2,
       "version_minor": 0
      },
      "text/plain": [
       "Validation: 0it [00:00, ?it/s]"
      ]
     },
     "metadata": {},
     "output_type": "display_data"
    },
    {
     "data": {
      "application/vnd.jupyter.widget-view+json": {
       "model_id": "",
       "version_major": 2,
       "version_minor": 0
      },
      "text/plain": [
       "Validation: 0it [00:00, ?it/s]"
      ]
     },
     "metadata": {},
     "output_type": "display_data"
    },
    {
     "data": {
      "application/vnd.jupyter.widget-view+json": {
       "model_id": "",
       "version_major": 2,
       "version_minor": 0
      },
      "text/plain": [
       "Validation: 0it [00:00, ?it/s]"
      ]
     },
     "metadata": {},
     "output_type": "display_data"
    },
    {
     "data": {
      "application/vnd.jupyter.widget-view+json": {
       "model_id": "",
       "version_major": 2,
       "version_minor": 0
      },
      "text/plain": [
       "Validation: 0it [00:00, ?it/s]"
      ]
     },
     "metadata": {},
     "output_type": "display_data"
    },
    {
     "data": {
      "application/vnd.jupyter.widget-view+json": {
       "model_id": "",
       "version_major": 2,
       "version_minor": 0
      },
      "text/plain": [
       "Validation: 0it [00:00, ?it/s]"
      ]
     },
     "metadata": {},
     "output_type": "display_data"
    },
    {
     "data": {
      "application/vnd.jupyter.widget-view+json": {
       "model_id": "",
       "version_major": 2,
       "version_minor": 0
      },
      "text/plain": [
       "Validation: 0it [00:00, ?it/s]"
      ]
     },
     "metadata": {},
     "output_type": "display_data"
    },
    {
     "data": {
      "application/vnd.jupyter.widget-view+json": {
       "model_id": "",
       "version_major": 2,
       "version_minor": 0
      },
      "text/plain": [
       "Validation: 0it [00:00, ?it/s]"
      ]
     },
     "metadata": {},
     "output_type": "display_data"
    },
    {
     "data": {
      "application/vnd.jupyter.widget-view+json": {
       "model_id": "",
       "version_major": 2,
       "version_minor": 0
      },
      "text/plain": [
       "Validation: 0it [00:00, ?it/s]"
      ]
     },
     "metadata": {},
     "output_type": "display_data"
    },
    {
     "data": {
      "application/vnd.jupyter.widget-view+json": {
       "model_id": "",
       "version_major": 2,
       "version_minor": 0
      },
      "text/plain": [
       "Validation: 0it [00:00, ?it/s]"
      ]
     },
     "metadata": {},
     "output_type": "display_data"
    },
    {
     "data": {
      "application/vnd.jupyter.widget-view+json": {
       "model_id": "",
       "version_major": 2,
       "version_minor": 0
      },
      "text/plain": [
       "Validation: 0it [00:00, ?it/s]"
      ]
     },
     "metadata": {},
     "output_type": "display_data"
    },
    {
     "data": {
      "application/vnd.jupyter.widget-view+json": {
       "model_id": "",
       "version_major": 2,
       "version_minor": 0
      },
      "text/plain": [
       "Validation: 0it [00:00, ?it/s]"
      ]
     },
     "metadata": {},
     "output_type": "display_data"
    },
    {
     "data": {
      "application/vnd.jupyter.widget-view+json": {
       "model_id": "",
       "version_major": 2,
       "version_minor": 0
      },
      "text/plain": [
       "Validation: 0it [00:00, ?it/s]"
      ]
     },
     "metadata": {},
     "output_type": "display_data"
    },
    {
     "data": {
      "application/vnd.jupyter.widget-view+json": {
       "model_id": "",
       "version_major": 2,
       "version_minor": 0
      },
      "text/plain": [
       "Validation: 0it [00:00, ?it/s]"
      ]
     },
     "metadata": {},
     "output_type": "display_data"
    },
    {
     "data": {
      "application/vnd.jupyter.widget-view+json": {
       "model_id": "",
       "version_major": 2,
       "version_minor": 0
      },
      "text/plain": [
       "Validation: 0it [00:00, ?it/s]"
      ]
     },
     "metadata": {},
     "output_type": "display_data"
    },
    {
     "data": {
      "application/vnd.jupyter.widget-view+json": {
       "model_id": "",
       "version_major": 2,
       "version_minor": 0
      },
      "text/plain": [
       "Validation: 0it [00:00, ?it/s]"
      ]
     },
     "metadata": {},
     "output_type": "display_data"
    },
    {
     "data": {
      "application/vnd.jupyter.widget-view+json": {
       "model_id": "",
       "version_major": 2,
       "version_minor": 0
      },
      "text/plain": [
       "Validation: 0it [00:00, ?it/s]"
      ]
     },
     "metadata": {},
     "output_type": "display_data"
    },
    {
     "data": {
      "application/vnd.jupyter.widget-view+json": {
       "model_id": "",
       "version_major": 2,
       "version_minor": 0
      },
      "text/plain": [
       "Validation: 0it [00:00, ?it/s]"
      ]
     },
     "metadata": {},
     "output_type": "display_data"
    },
    {
     "data": {
      "application/vnd.jupyter.widget-view+json": {
       "model_id": "",
       "version_major": 2,
       "version_minor": 0
      },
      "text/plain": [
       "Validation: 0it [00:00, ?it/s]"
      ]
     },
     "metadata": {},
     "output_type": "display_data"
    },
    {
     "data": {
      "application/vnd.jupyter.widget-view+json": {
       "model_id": "",
       "version_major": 2,
       "version_minor": 0
      },
      "text/plain": [
       "Validation: 0it [00:00, ?it/s]"
      ]
     },
     "metadata": {},
     "output_type": "display_data"
    },
    {
     "data": {
      "application/vnd.jupyter.widget-view+json": {
       "model_id": "",
       "version_major": 2,
       "version_minor": 0
      },
      "text/plain": [
       "Validation: 0it [00:00, ?it/s]"
      ]
     },
     "metadata": {},
     "output_type": "display_data"
    },
    {
     "data": {
      "application/vnd.jupyter.widget-view+json": {
       "model_id": "",
       "version_major": 2,
       "version_minor": 0
      },
      "text/plain": [
       "Validation: 0it [00:00, ?it/s]"
      ]
     },
     "metadata": {},
     "output_type": "display_data"
    },
    {
     "data": {
      "application/vnd.jupyter.widget-view+json": {
       "model_id": "",
       "version_major": 2,
       "version_minor": 0
      },
      "text/plain": [
       "Validation: 0it [00:00, ?it/s]"
      ]
     },
     "metadata": {},
     "output_type": "display_data"
    },
    {
     "data": {
      "application/vnd.jupyter.widget-view+json": {
       "model_id": "",
       "version_major": 2,
       "version_minor": 0
      },
      "text/plain": [
       "Validation: 0it [00:00, ?it/s]"
      ]
     },
     "metadata": {},
     "output_type": "display_data"
    },
    {
     "data": {
      "application/vnd.jupyter.widget-view+json": {
       "model_id": "",
       "version_major": 2,
       "version_minor": 0
      },
      "text/plain": [
       "Validation: 0it [00:00, ?it/s]"
      ]
     },
     "metadata": {},
     "output_type": "display_data"
    },
    {
     "data": {
      "application/vnd.jupyter.widget-view+json": {
       "model_id": "",
       "version_major": 2,
       "version_minor": 0
      },
      "text/plain": [
       "Validation: 0it [00:00, ?it/s]"
      ]
     },
     "metadata": {},
     "output_type": "display_data"
    },
    {
     "data": {
      "application/vnd.jupyter.widget-view+json": {
       "model_id": "",
       "version_major": 2,
       "version_minor": 0
      },
      "text/plain": [
       "Validation: 0it [00:00, ?it/s]"
      ]
     },
     "metadata": {},
     "output_type": "display_data"
    },
    {
     "data": {
      "application/vnd.jupyter.widget-view+json": {
       "model_id": "",
       "version_major": 2,
       "version_minor": 0
      },
      "text/plain": [
       "Validation: 0it [00:00, ?it/s]"
      ]
     },
     "metadata": {},
     "output_type": "display_data"
    },
    {
     "data": {
      "application/vnd.jupyter.widget-view+json": {
       "model_id": "",
       "version_major": 2,
       "version_minor": 0
      },
      "text/plain": [
       "Validation: 0it [00:00, ?it/s]"
      ]
     },
     "metadata": {},
     "output_type": "display_data"
    },
    {
     "data": {
      "application/vnd.jupyter.widget-view+json": {
       "model_id": "",
       "version_major": 2,
       "version_minor": 0
      },
      "text/plain": [
       "Validation: 0it [00:00, ?it/s]"
      ]
     },
     "metadata": {},
     "output_type": "display_data"
    },
    {
     "data": {
      "application/vnd.jupyter.widget-view+json": {
       "model_id": "",
       "version_major": 2,
       "version_minor": 0
      },
      "text/plain": [
       "Validation: 0it [00:00, ?it/s]"
      ]
     },
     "metadata": {},
     "output_type": "display_data"
    },
    {
     "data": {
      "application/vnd.jupyter.widget-view+json": {
       "model_id": "",
       "version_major": 2,
       "version_minor": 0
      },
      "text/plain": [
       "Validation: 0it [00:00, ?it/s]"
      ]
     },
     "metadata": {},
     "output_type": "display_data"
    },
    {
     "data": {
      "application/vnd.jupyter.widget-view+json": {
       "model_id": "",
       "version_major": 2,
       "version_minor": 0
      },
      "text/plain": [
       "Validation: 0it [00:00, ?it/s]"
      ]
     },
     "metadata": {},
     "output_type": "display_data"
    },
    {
     "data": {
      "application/vnd.jupyter.widget-view+json": {
       "model_id": "",
       "version_major": 2,
       "version_minor": 0
      },
      "text/plain": [
       "Validation: 0it [00:00, ?it/s]"
      ]
     },
     "metadata": {},
     "output_type": "display_data"
    },
    {
     "data": {
      "application/vnd.jupyter.widget-view+json": {
       "model_id": "",
       "version_major": 2,
       "version_minor": 0
      },
      "text/plain": [
       "Validation: 0it [00:00, ?it/s]"
      ]
     },
     "metadata": {},
     "output_type": "display_data"
    },
    {
     "data": {
      "application/vnd.jupyter.widget-view+json": {
       "model_id": "",
       "version_major": 2,
       "version_minor": 0
      },
      "text/plain": [
       "Validation: 0it [00:00, ?it/s]"
      ]
     },
     "metadata": {},
     "output_type": "display_data"
    },
    {
     "data": {
      "application/vnd.jupyter.widget-view+json": {
       "model_id": "",
       "version_major": 2,
       "version_minor": 0
      },
      "text/plain": [
       "Validation: 0it [00:00, ?it/s]"
      ]
     },
     "metadata": {},
     "output_type": "display_data"
    },
    {
     "data": {
      "application/vnd.jupyter.widget-view+json": {
       "model_id": "e4a6184a447946c89e95f066abb3345f",
       "version_major": 2,
       "version_minor": 0
      },
      "text/plain": [
       "Validation: 0it [00:00, ?it/s]"
      ]
     },
     "metadata": {},
     "output_type": "display_data"
    },
    {
     "data": {
      "application/vnd.jupyter.widget-view+json": {
       "model_id": "58839eb3791746468e1fa6bf79fd8493",
       "version_major": 2,
       "version_minor": 0
      },
      "text/plain": [
       "Validation: 0it [00:00, ?it/s]"
      ]
     },
     "metadata": {},
     "output_type": "display_data"
    },
    {
     "data": {
      "application/vnd.jupyter.widget-view+json": {
       "model_id": "bfbc944fcf024e01b639b82df1f7ad3e",
       "version_major": 2,
       "version_minor": 0
      },
      "text/plain": [
       "Validation: 0it [00:00, ?it/s]"
      ]
     },
     "metadata": {},
     "output_type": "display_data"
    },
    {
     "data": {
      "application/vnd.jupyter.widget-view+json": {
       "model_id": "8343d2cdd9734efeb1a1676e2771a53a",
       "version_major": 2,
       "version_minor": 0
      },
      "text/plain": [
       "Validation: 0it [00:00, ?it/s]"
      ]
     },
     "metadata": {},
     "output_type": "display_data"
    },
    {
     "name": "stderr",
     "output_type": "stream",
     "text": [
      "`Trainer.fit` stopped: `max_epochs=50` reached.\n"
     ]
    }
   ],
   "source": [
    "embed_size = 100\n",
    "model = Prod2VecModel(num_products, embed_size)\n",
    "\n",
    "model_checkpoint = ModelCheckpoint(dirpath='product2vec/',\n",
    "                                   save_top_k=1,\n",
    "                                   monitor=\"val_loss\",\n",
    "                                   mode=\"min\",)\n",
    "trainer = Trainer(max_epochs=50,\n",
    "                  accelerator='gpu',\n",
    "                  callbacks=[model_checkpoint],\n",
    "                  log_every_n_steps=5,)\n",
    "\n",
    "trainer.fit(model, train_dataloaders=train_dataloader, val_dataloaders=val_dataloader)"
   ]
  },
  {
   "cell_type": "code",
   "execution_count": 23,
   "metadata": {
    "ExecuteTime": {
     "end_time": "2023-05-08T07:52:49.771410300Z",
     "start_time": "2023-05-08T07:52:49.765452400Z"
    },
    "collapsed": false,
    "jupyter": {
     "outputs_hidden": false
    }
   },
   "outputs": [
    {
     "name": "stdout",
     "output_type": "stream",
     "text": [
      "model path: C:\\Users\\Kevin\\PycharmProjects\\ML-learning-journey\\analytic_pipeline\\product2vec\\epoch=49-step=550.ckpt\n",
      "best loss: 0.50\n"
     ]
    }
   ],
   "source": [
    "print(f'model path: {model_checkpoint.best_model_path}')\n",
    "print(f'best loss: {model_checkpoint.best_model_score.cpu().item():,.2f}')\n"
   ]
  },
  {
   "cell_type": "code",
   "execution_count": 27,
   "metadata": {
    "ExecuteTime": {
     "end_time": "2023-05-08T07:53:57.326680Z",
     "start_time": "2023-05-08T07:53:57.259564800Z"
    },
    "collapsed": false,
    "jupyter": {
     "outputs_hidden": false
    }
   },
   "outputs": [
    {
     "data": {
      "text/plain": [
       "Prod2VecModel(\n",
       "  (embed_t): Embedding(39061, 100)\n",
       "  (embed_c): Embedding(39061, 100)\n",
       ")"
      ]
     },
     "execution_count": 27,
     "metadata": {},
     "output_type": "execute_result"
    }
   ],
   "source": [
    "model.load_from_checkpoint(model_checkpoint.best_model_path, num_products=num_products, embed_size=embed_size)"
   ]
  },
  {
   "cell_type": "code",
   "execution_count": 33,
   "metadata": {
    "ExecuteTime": {
     "end_time": "2023-05-08T07:56:13.766486200Z",
     "start_time": "2023-05-08T07:56:13.752485500Z"
    },
    "collapsed": false,
    "jupyter": {
     "outputs_hidden": false
    }
   },
   "outputs": [],
   "source": [
    "embs_arr = model.state_dict()['embed_t.weight'].detach().numpy()"
   ]
  },
  {
   "cell_type": "code",
   "execution_count": 38,
   "metadata": {
    "ExecuteTime": {
     "end_time": "2023-05-08T07:57:18.625893900Z",
     "start_time": "2023-05-08T07:57:18.610827400Z"
    },
    "collapsed": false,
    "jupyter": {
     "outputs_hidden": false
    }
   },
   "outputs": [
    {
     "data": {
      "text/plain": [
       "array([ 0.43720758, -0.5138851 ,  0.62963295, -0.4596874 ,  0.93724656,\n",
       "       -0.12639831,  0.90524673,  0.15311292,  0.71666056, -0.6315555 ,\n",
       "       -0.48874924,  1.0050014 ,  2.7187738 ,  0.35522315, -0.8772384 ,\n",
       "       -2.0101988 ,  1.5837808 , -1.4180889 ,  1.5076984 ,  0.2034378 ,\n",
       "       -0.11139997, -1.694714  ,  0.03630535, -0.57917625, -0.5729373 ,\n",
       "        1.3544452 ,  2.0840118 , -0.67371505, -0.01930216,  0.8293551 ,\n",
       "        0.07352173,  0.58840185,  0.4468925 , -1.0258918 , -1.3451661 ,\n",
       "       -0.14209984,  0.2720714 ,  0.8545576 ,  0.03307387, -0.8443877 ,\n",
       "       -0.8201797 , -0.7926045 ,  0.30645132,  0.7059188 , -1.1148585 ,\n",
       "       -0.0383687 , -0.70483285, -0.6794859 , -1.094641  , -1.7687249 ,\n",
       "        0.0982416 ,  0.46045965, -0.6180603 , -1.7129457 , -1.7511535 ,\n",
       "       -1.1507181 ,  0.9388377 ,  1.0120523 , -0.5998491 ,  1.1275885 ,\n",
       "        0.5033181 ,  0.31725222, -0.35094416,  2.3266103 ,  0.46643716,\n",
       "       -1.7193557 ,  0.29801866,  1.554903  ,  0.6995537 ,  0.3590796 ,\n",
       "       -0.05649536, -1.5750864 , -1.4156039 , -0.31392747, -1.7557579 ,\n",
       "       -0.05611321,  1.267448  ,  0.16424313, -0.9229444 ,  0.9479247 ,\n",
       "        1.8246984 , -0.60795027,  0.39297625,  0.79436755, -0.6360375 ,\n",
       "        0.22946224,  0.10514949, -0.3572161 ,  0.72032714,  0.6912336 ,\n",
       "       -1.32926   , -0.01939934, -1.5266118 ,  0.65012383,  1.3405373 ,\n",
       "        0.30772614, -0.5865742 , -0.8042382 ,  0.98054755,  0.23546508],\n",
       "      dtype=float32)"
      ]
     },
     "execution_count": 38,
     "metadata": {},
     "output_type": "execute_result"
    }
   ],
   "source": [
    "embs_arr[6030]"
   ]
  },
  {
   "cell_type": "code",
   "execution_count": 32,
   "metadata": {
    "ExecuteTime": {
     "end_time": "2023-05-08T07:55:27.867394700Z",
     "start_time": "2023-05-08T07:55:27.850349Z"
    },
    "collapsed": false,
    "jupyter": {
     "outputs_hidden": false
    }
   },
   "outputs": [
    {
     "data": {
      "text/plain": [
       "[6030, 15007, 15656, 15702, 18870, 21973, 24238, 25469, 34826, 36151]"
      ]
     },
     "execution_count": 32,
     "metadata": {},
     "output_type": "execute_result"
    }
   ],
   "source": [
    "embs_arr = model.state_dict()['embed_t.weight'].detach().numpy()\n",
    "names = [product_mapping[\"name_by_index\"][i] for i in range(num_products)]\n",
    "sub_name = \"Organic Yogurt\"\n",
    "ids = [ind for ind, name in enumerate(names) if sub_name in name]\n",
    "for ind in ids[:5]:\n",
    "    print('==========')\n",
    "    print(f'Similar items of \"{names[ind]}\":')\n",
    "    nearest_ids = emb_nn.find_nearest_neighbors(embs_arr[ind, :], k=2)\n",
    "    print([names[i] for i in nearest_ids])"
   ]
  },
  {
   "cell_type": "code",
   "execution_count": 39,
   "metadata": {
    "ExecuteTime": {
     "end_time": "2023-05-08T07:59:17.742034500Z",
     "start_time": "2023-05-08T07:59:15.861576Z"
    },
    "collapsed": false,
    "jupyter": {
     "outputs_hidden": false
    }
   },
   "outputs": [
    {
     "data": {
      "text/plain": [
       "<matplotlib.collections.PathCollection at 0x28808d16470>"
      ]
     },
     "execution_count": 39,
     "metadata": {},
     "output_type": "execute_result"
    }
   ],
   "source": [
    "from sklearn.decomposition import PCA\n",
    "import matplotlib.pyplot as plt\n",
    "\n",
    "\n",
    "X2 = PCA(n_components=2).fit_transform(embs_arr)\n",
    "plt.figure(figsize=(20, 20))\n",
    "colors = ['b'] * num_products\n",
    "s = [1] * num_products\n",
    "for i, product in product_mapping[\"name_by_index\"].items():\n",
    "    if \"Organic\" in product:\n",
    "        colors[i] = 'r'\n",
    "        s[i] = 30\n",
    "plt.scatter(X2[:,0], X2[:,1], c=colors, s=s)"
   ]
  },
  {
   "cell_type": "code",
   "execution_count": null,
   "metadata": {
    "collapsed": false,
    "jupyter": {
     "outputs_hidden": false
    }
   },
   "outputs": [],
   "source": [
    "# embs_arr = model.state_dict()['embed_t.weight'].detach().numpy()\n",
    "#\n",
    "# emb_nn = embedding.NearestNeighbor(embs_arr, measure=\"cosine\")\n",
    "# names = [product_mapping[\"name_by_index\"][i] for i in range(num_products)]\n",
    "#\n",
    "# sub_name = \"Organic Yogurt\"\n",
    "# ids = [ind for ind, name in enumerate(names) if sub_name in name]\n",
    "# for ind in ids[:5]:\n",
    "#     print('==========')\n",
    "#     print(f'Similar items of \"{names[ind]}\":')\n",
    "#     nearest_ids = emb_nn.find_nearest_neighbors(embs_arr[ind, :], k=2)\n",
    "#     print([names[i] for i in nearest_ids])"
   ]
  }
 ],
 "metadata": {
  "kernelspec": {
   "display_name": "Python 3 (ipykernel)",
   "language": "python",
   "name": "python3"
  },
  "language_info": {
   "codemirror_mode": {
    "name": "ipython",
    "version": 3
   },
   "file_extension": ".py",
   "mimetype": "text/x-python",
   "name": "python",
   "nbconvert_exporter": "python",
   "pygments_lexer": "ipython3",
   "version": "3.11.3"
  }
 },
 "nbformat": 4,
 "nbformat_minor": 4
}
