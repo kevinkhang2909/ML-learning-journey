{
 "cells": [
  {
   "cell_type": "code",
   "execution_count": 3,
   "id": "a9818ea9-9d44-463d-b0cd-be2ade0b0b8b",
   "metadata": {},
   "outputs": [
    {
     "ename": "ValueError",
     "evalue": "numpy.ndarray size changed, may indicate binary incompatibility. Expected 96 from C header, got 88 from PyObject",
     "output_type": "error",
     "traceback": [
      "\u001b[1;31m---------------------------------------------------------------------------\u001b[0m",
      "\u001b[1;31mValueError\u001b[0m                                Traceback (most recent call last)",
      "\u001b[1;32m~\\AppData\\Local\\Temp/ipykernel_12940/4169352584.py\u001b[0m in \u001b[0;36m<module>\u001b[1;34m\u001b[0m\n\u001b[0;32m      7\u001b[0m \u001b[0msys\u001b[0m\u001b[1;33m.\u001b[0m\u001b[0mpath\u001b[0m\u001b[1;33m.\u001b[0m\u001b[0mextend\u001b[0m\u001b[1;33m(\u001b[0m\u001b[1;33m[\u001b[0m\u001b[0mstr\u001b[0m\u001b[1;33m(\u001b[0m\u001b[0mPath\u001b[0m\u001b[1;33m.\u001b[0m\u001b[0mhome\u001b[0m\u001b[1;33m(\u001b[0m\u001b[1;33m)\u001b[0m \u001b[1;33m/\u001b[0m \u001b[1;34m\"PycharmProjects/data_toolkit\"\u001b[0m\u001b[1;33m)\u001b[0m\u001b[1;33m]\u001b[0m\u001b[1;33m)\u001b[0m\u001b[1;33m\u001b[0m\u001b[1;33m\u001b[0m\u001b[0m\n\u001b[0;32m      8\u001b[0m \u001b[1;33m\u001b[0m\u001b[0m\n\u001b[1;32m----> 9\u001b[1;33m \u001b[1;32mfrom\u001b[0m \u001b[0mnlp\u001b[0m\u001b[1;33m.\u001b[0m\u001b[0mstring_matching\u001b[0m\u001b[1;33m.\u001b[0m\u001b[0mfunction\u001b[0m \u001b[1;32mimport\u001b[0m \u001b[0mrun_match\u001b[0m\u001b[1;33m\u001b[0m\u001b[1;33m\u001b[0m\u001b[0m\n\u001b[0m\u001b[0;32m     10\u001b[0m \u001b[1;33m\u001b[0m\u001b[0m\n\u001b[0;32m     11\u001b[0m \u001b[1;33m\u001b[0m\u001b[0m\n",
      "\u001b[1;32m~\\PycharmProjects\\data_toolkit\\nlp\\string_matching\\function.py\u001b[0m in \u001b[0;36m<module>\u001b[1;34m\u001b[0m\n\u001b[0;32m      3\u001b[0m \u001b[1;32mfrom\u001b[0m \u001b[0mre\u001b[0m \u001b[1;32mimport\u001b[0m \u001b[0msub\u001b[0m\u001b[1;33m\u001b[0m\u001b[1;33m\u001b[0m\u001b[0m\n\u001b[0;32m      4\u001b[0m \u001b[1;32mfrom\u001b[0m \u001b[0mtime\u001b[0m \u001b[1;32mimport\u001b[0m \u001b[0mtime\u001b[0m\u001b[1;33m\u001b[0m\u001b[1;33m\u001b[0m\u001b[0m\n\u001b[1;32m----> 5\u001b[1;33m \u001b[1;32mfrom\u001b[0m \u001b[0msparse_dot_topn\u001b[0m \u001b[1;32mimport\u001b[0m \u001b[0mawesome_cossim_topn\u001b[0m\u001b[1;33m\u001b[0m\u001b[1;33m\u001b[0m\u001b[0m\n\u001b[0m\u001b[0;32m      6\u001b[0m \u001b[1;32mfrom\u001b[0m \u001b[0msklearn\u001b[0m\u001b[1;33m.\u001b[0m\u001b[0mfeature_extraction\u001b[0m\u001b[1;33m.\u001b[0m\u001b[0mtext\u001b[0m \u001b[1;32mimport\u001b[0m \u001b[0mTfidfVectorizer\u001b[0m\u001b[1;33m\u001b[0m\u001b[1;33m\u001b[0m\u001b[0m\n\u001b[0;32m      7\u001b[0m \u001b[1;33m\u001b[0m\u001b[0m\n",
      "\u001b[1;32m~\\anaconda3\\lib\\site-packages\\sparse_dot_topn\\__init__.py\u001b[0m in \u001b[0;36m<module>\u001b[1;34m\u001b[0m\n\u001b[0;32m      3\u001b[0m \u001b[1;33m\u001b[0m\u001b[0m\n\u001b[0;32m      4\u001b[0m \u001b[1;32mif\u001b[0m \u001b[0msys\u001b[0m\u001b[1;33m.\u001b[0m\u001b[0mversion_info\u001b[0m\u001b[1;33m[\u001b[0m\u001b[1;36m0\u001b[0m\u001b[1;33m]\u001b[0m \u001b[1;33m>=\u001b[0m \u001b[1;36m3\u001b[0m\u001b[1;33m:\u001b[0m\u001b[1;33m\u001b[0m\u001b[1;33m\u001b[0m\u001b[0m\n\u001b[1;32m----> 5\u001b[1;33m     \u001b[1;32mfrom\u001b[0m \u001b[0msparse_dot_topn\u001b[0m\u001b[1;33m.\u001b[0m\u001b[0mawesome_cossim_topn\u001b[0m \u001b[1;32mimport\u001b[0m \u001b[0mawesome_cossim_topn\u001b[0m\u001b[1;33m\u001b[0m\u001b[1;33m\u001b[0m\u001b[0m\n\u001b[0m\u001b[0;32m      6\u001b[0m \u001b[1;32melse\u001b[0m\u001b[1;33m:\u001b[0m\u001b[1;33m\u001b[0m\u001b[1;33m\u001b[0m\u001b[0m\n\u001b[0;32m      7\u001b[0m     \u001b[1;32mfrom\u001b[0m \u001b[0mawesome_cossim_topn\u001b[0m \u001b[1;32mimport\u001b[0m \u001b[0mawesome_cossim_topn\u001b[0m\u001b[1;33m\u001b[0m\u001b[1;33m\u001b[0m\u001b[0m\n",
      "\u001b[1;32m~\\anaconda3\\lib\\site-packages\\sparse_dot_topn\\awesome_cossim_topn.py\u001b[0m in \u001b[0;36m<module>\u001b[1;34m\u001b[0m\n\u001b[0;32m      5\u001b[0m \u001b[1;33m\u001b[0m\u001b[0m\n\u001b[0;32m      6\u001b[0m \u001b[1;32mif\u001b[0m \u001b[0msys\u001b[0m\u001b[1;33m.\u001b[0m\u001b[0mversion_info\u001b[0m\u001b[1;33m[\u001b[0m\u001b[1;36m0\u001b[0m\u001b[1;33m]\u001b[0m \u001b[1;33m>=\u001b[0m \u001b[1;36m3\u001b[0m\u001b[1;33m:\u001b[0m\u001b[1;33m\u001b[0m\u001b[1;33m\u001b[0m\u001b[0m\n\u001b[1;32m----> 7\u001b[1;33m     \u001b[1;32mfrom\u001b[0m \u001b[0msparse_dot_topn\u001b[0m \u001b[1;32mimport\u001b[0m \u001b[0msparse_dot_topn\u001b[0m \u001b[1;32mas\u001b[0m \u001b[0mct\u001b[0m\u001b[1;33m\u001b[0m\u001b[1;33m\u001b[0m\u001b[0m\n\u001b[0m\u001b[0;32m      8\u001b[0m     \u001b[1;32mfrom\u001b[0m \u001b[0msparse_dot_topn\u001b[0m \u001b[1;32mimport\u001b[0m \u001b[0msparse_dot_topn_threaded\u001b[0m \u001b[1;32mas\u001b[0m \u001b[0mct_thread\u001b[0m\u001b[1;33m\u001b[0m\u001b[1;33m\u001b[0m\u001b[0m\n\u001b[0;32m      9\u001b[0m \u001b[1;32melse\u001b[0m\u001b[1;33m:\u001b[0m\u001b[1;33m\u001b[0m\u001b[1;33m\u001b[0m\u001b[0m\n",
      "\u001b[1;32m~\\anaconda3\\lib\\site-packages\\sparse_dot_topn\\sparse_dot_topn.pyx\u001b[0m in \u001b[0;36minit sparse_dot_topn.sparse_dot_topn\u001b[1;34m()\u001b[0m\n",
      "\u001b[1;31mValueError\u001b[0m: numpy.ndarray size changed, may indicate binary incompatibility. Expected 96 from C header, got 88 from PyObject"
     ]
    }
   ],
   "source": [
    "import matplotlib.pyplot as plt\n",
    "import seaborn as sns\n",
    "import pandas as pd\n",
    "from pathlib import Path\n",
    "from func import np, f1_score_cal\n",
    "import sys\n",
    "sys.path.extend([str(Path.home() / \"PycharmProjects/data_toolkit\")])\n",
    "\n",
    "from nlp.string_matching.function import run_match\n",
    "\n",
    "\n",
    "def clean_text(text):\n",
    "    return str(text).lower().strip()"
   ]
  },
  {
   "cell_type": "code",
   "execution_count": 4,
   "id": "8da8d8a2-4316-451a-a9dd-801d1c3e484a",
   "metadata": {},
   "outputs": [
    {
     "name": "stdout",
     "output_type": "stream",
     "text": [
      "Requirement already satisfied: numpy in c:\\users\\pc\\anaconda3\\lib\\site-packages (1.20.3)\n",
      "Collecting numpy\n",
      "  Using cached numpy-1.22.3-cp39-cp39-win_amd64.whl (14.7 MB)\n",
      "Installing collected packages: numpy\n",
      "  Attempting uninstall: numpy\n",
      "    Found existing installation: numpy 1.20.3\n",
      "    Uninstalling numpy-1.20.3:\n",
      "      Successfully uninstalled numpy-1.20.3\n",
      "Successfully installed numpy-1.22.3\n",
      "Note: you may need to restart the kernel to use updated packages.\n"
     ]
    },
    {
     "name": "stderr",
     "output_type": "stream",
     "text": [
      "ERROR: pip's dependency resolver does not currently take into account all the packages that are installed. This behaviour is the source of the following dependency conflicts.\n",
      "daal4py 2021.3.0 requires daal==2021.2.3, which is not installed.\n",
      "numba 0.54.1 requires numpy<1.21,>=1.17, but you have numpy 1.22.3 which is incompatible.\n"
     ]
    }
   ],
   "source": [
    "pip install --upgrade numpy"
   ]
  },
  {
   "cell_type": "code",
   "execution_count": null,
   "id": "89b9baa3-eb76-4599-90bc-8d0dc7045909",
   "metadata": {},
   "outputs": [],
   "source": [
    "path = Path.home() / 'OneDrive - Seagroup/computer_vison/shopee_item_images/'\n",
    "\n",
    "# input\n",
    "df = pd.read_csv(path / 'train.csv')\n",
    "\n",
    "# clean\n",
    "group_dicts = df.groupby('label_group')[\"posting_id\"].apply(set).apply(list).to_dict()\n",
    "df['target'] = df[\"label_group\"].map(group_dicts)\n",
    "df['title_edit'] = df['title'].map(clean_text)\n",
    "\n",
    "df.head()"
   ]
  },
  {
   "cell_type": "code",
   "execution_count": null,
   "id": "df03f033-fadf-4568-8d76-13875cb6d101",
   "metadata": {},
   "outputs": [],
   "source": [
    "item = df['title_edit'].unique().tolist()\n",
    "target_check = df['target'].tolist()\n",
    "\n",
    "# find thresholds\n",
    "thresholds = list(np.arange(0.4, 1, 0.1))\n",
    "scores, plot_check, f1_score_lst, pred_lst = {}, {}, [], {}\n",
    "for thres in thresholds:\n",
    "    num = round(thres, 1)\n",
    "    \n",
    "    # run\n",
    "    match_df = run_match(base=item, source=item, top=10, similarity=num)\n",
    "    match_df['rank'] = match_df.groupby(['base'])['source'].transform(lambda x: pd.factorize(x)[0]).add(1)\n",
    "    match_df = match_df.merge(df[['posting_id', 'title_edit']], how='left', left_on='base', right_on='title_edit')\n",
    "    match_df = match_df.merge(df[['posting_id', 'title_edit']], how='left', left_on='source', right_on='title_edit', suffixes=('_base', '_source'))\n",
    "\n",
    "    pred = match_df.groupby('posting_id_base')['posting_id_source'].apply(set).apply(list).to_dict()\n",
    "    pred_check = df['posting_id'].map(pred).tolist()\n",
    "    f1_score_lst = [f1_score_cal(i, v) for i, v in zip(target_check, pred_check)]\n",
    "    \n",
    "    score = np.mean(f1_score_lst)\n",
    "    scores.update({num: score})\n",
    "    plot_check.update({num: f1_score_lst})\n",
    "    pred_lst.update({num: pred_check})\n",
    "    print(f'--- F1 score for threshold {num} is {score:.3f} ---\\n')\n",
    "    \n",
    "# choose thresholds \n",
    "best_score = max(scores, key=scores.get)\n",
    "print(f'--- Best score is {round(scores[best_score], 4)} and has a threshold {best_score} ---')\n",
    "df['text_pred'] = pred_lst[best_score]\n",
    "df['f1_score'] = plot_check[best_score]"
   ]
  },
  {
   "cell_type": "code",
   "execution_count": null,
   "id": "d0017cd3-7c92-4334-9ef1-cbad872c7b45",
   "metadata": {},
   "outputs": [],
   "source": [
    "plt.figure(figsize=(20, 6))\n",
    "\n",
    "plot = sns.kdeplot(x=df[\"f1_score\"])\n",
    "plt.title(\"f1_score Distribution\", fontsize=20)\n",
    "plt.xlabel(\"f1_score\", fontsize=15)\n",
    "plt.ylabel(\"\")"
   ]
  },
  {
   "cell_type": "code",
   "execution_count": null,
   "id": "66bead7d-1a84-45ce-9ef8-9262629898a9",
   "metadata": {},
   "outputs": [],
   "source": [
    "df.head()"
   ]
  }
 ],
 "metadata": {
  "kernelspec": {
   "display_name": "Python 3 (ipykernel)",
   "language": "python",
   "name": "python3"
  },
  "language_info": {
   "codemirror_mode": {
    "name": "ipython",
    "version": 3
   },
   "file_extension": ".py",
   "mimetype": "text/x-python",
   "name": "python",
   "nbconvert_exporter": "python",
   "pygments_lexer": "ipython3",
   "version": "3.9.7"
  }
 },
 "nbformat": 4,
 "nbformat_minor": 5
}
