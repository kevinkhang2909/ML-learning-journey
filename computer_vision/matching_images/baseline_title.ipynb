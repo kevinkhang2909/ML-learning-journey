{
 "cells": [
  {
   "cell_type": "code",
   "execution_count": 1,
   "id": "a9818ea9-9d44-463d-b0cd-be2ade0b0b8b",
   "metadata": {},
   "outputs": [
    {
     "name": "stdout",
     "output_type": "stream",
     "text": [
      "cpu\n"
     ]
    }
   ],
   "source": [
    "import matplotlib.pyplot as plt\n",
    "import seaborn as sns\n",
    "import pandas as pd\n",
    "from pathlib import Path\n",
    "from func import np, f1_score_cal\n",
    "import sys\n",
    "sys.path.extend([str(Path.home() / \"PycharmProjects/data_toolkit\")])\n",
    "\n",
    "from nlp.string_matching.function import run_match\n",
    "\n",
    "\n",
    "def clean_text(text):\n",
    "    return str(text).lower().strip()"
   ]
  },
  {
   "cell_type": "code",
   "execution_count": 20,
   "id": "89b9baa3-eb76-4599-90bc-8d0dc7045909",
   "metadata": {},
   "outputs": [
    {
     "data": {
      "text/html": [
       "<div>\n",
       "<style scoped>\n",
       "    .dataframe tbody tr th:only-of-type {\n",
       "        vertical-align: middle;\n",
       "    }\n",
       "\n",
       "    .dataframe tbody tr th {\n",
       "        vertical-align: top;\n",
       "    }\n",
       "\n",
       "    .dataframe thead th {\n",
       "        text-align: right;\n",
       "    }\n",
       "</style>\n",
       "<table border=\"1\" class=\"dataframe\">\n",
       "  <thead>\n",
       "    <tr style=\"text-align: right;\">\n",
       "      <th></th>\n",
       "      <th>posting_id</th>\n",
       "      <th>image</th>\n",
       "      <th>image_phash</th>\n",
       "      <th>title</th>\n",
       "      <th>label_group</th>\n",
       "      <th>target</th>\n",
       "      <th>title_edit</th>\n",
       "    </tr>\n",
       "  </thead>\n",
       "  <tbody>\n",
       "    <tr>\n",
       "      <th>0</th>\n",
       "      <td>train_129225211</td>\n",
       "      <td>0000a68812bc7e98c42888dfb1c07da0.jpg</td>\n",
       "      <td>94974f937d4c2433</td>\n",
       "      <td>Paper Bag Victoria Secret</td>\n",
       "      <td>249114794</td>\n",
       "      <td>[train_2278313361, train_129225211]</td>\n",
       "      <td>paper bag victoria secret</td>\n",
       "    </tr>\n",
       "    <tr>\n",
       "      <th>1</th>\n",
       "      <td>train_3386243561</td>\n",
       "      <td>00039780dfc94d01db8676fe789ecd05.jpg</td>\n",
       "      <td>af3f9460c2838f0f</td>\n",
       "      <td>Double Tape 3M VHB 12 mm x 4,5 m ORIGINAL / DO...</td>\n",
       "      <td>2937985045</td>\n",
       "      <td>[train_3386243561, train_3423213080]</td>\n",
       "      <td>double tape 3m vhb 12 mm x 4,5 m original / do...</td>\n",
       "    </tr>\n",
       "    <tr>\n",
       "      <th>2</th>\n",
       "      <td>train_2288590299</td>\n",
       "      <td>000a190fdd715a2a36faed16e2c65df7.jpg</td>\n",
       "      <td>b94cb00ed3e50f78</td>\n",
       "      <td>Maling TTS Canned Pork Luncheon Meat 397 gr</td>\n",
       "      <td>2395904891</td>\n",
       "      <td>[train_2288590299, train_3803689425]</td>\n",
       "      <td>maling tts canned pork luncheon meat 397 gr</td>\n",
       "    </tr>\n",
       "    <tr>\n",
       "      <th>3</th>\n",
       "      <td>train_2406599165</td>\n",
       "      <td>00117e4fc239b1b641ff08340b429633.jpg</td>\n",
       "      <td>8514fc58eafea283</td>\n",
       "      <td>Daster Batik Lengan pendek - Motif Acak / Camp...</td>\n",
       "      <td>4093212188</td>\n",
       "      <td>[train_2406599165, train_3342059966]</td>\n",
       "      <td>daster batik lengan pendek - motif acak / camp...</td>\n",
       "    </tr>\n",
       "    <tr>\n",
       "      <th>4</th>\n",
       "      <td>train_3369186413</td>\n",
       "      <td>00136d1cf4edede0203f32f05f660588.jpg</td>\n",
       "      <td>a6f319f924ad708c</td>\n",
       "      <td>Nescafe \\xc3\\x89clair Latte 220ml</td>\n",
       "      <td>3648931069</td>\n",
       "      <td>[train_921438619, train_3369186413]</td>\n",
       "      <td>nescafe \\xc3\\x89clair latte 220ml</td>\n",
       "    </tr>\n",
       "  </tbody>\n",
       "</table>\n",
       "</div>"
      ],
      "text/plain": [
       "         posting_id                                 image       image_phash  \\\n",
       "0   train_129225211  0000a68812bc7e98c42888dfb1c07da0.jpg  94974f937d4c2433   \n",
       "1  train_3386243561  00039780dfc94d01db8676fe789ecd05.jpg  af3f9460c2838f0f   \n",
       "2  train_2288590299  000a190fdd715a2a36faed16e2c65df7.jpg  b94cb00ed3e50f78   \n",
       "3  train_2406599165  00117e4fc239b1b641ff08340b429633.jpg  8514fc58eafea283   \n",
       "4  train_3369186413  00136d1cf4edede0203f32f05f660588.jpg  a6f319f924ad708c   \n",
       "\n",
       "                                               title  label_group  \\\n",
       "0                          Paper Bag Victoria Secret    249114794   \n",
       "1  Double Tape 3M VHB 12 mm x 4,5 m ORIGINAL / DO...   2937985045   \n",
       "2        Maling TTS Canned Pork Luncheon Meat 397 gr   2395904891   \n",
       "3  Daster Batik Lengan pendek - Motif Acak / Camp...   4093212188   \n",
       "4                  Nescafe \\xc3\\x89clair Latte 220ml   3648931069   \n",
       "\n",
       "                                 target  \\\n",
       "0   [train_2278313361, train_129225211]   \n",
       "1  [train_3386243561, train_3423213080]   \n",
       "2  [train_2288590299, train_3803689425]   \n",
       "3  [train_2406599165, train_3342059966]   \n",
       "4   [train_921438619, train_3369186413]   \n",
       "\n",
       "                                          title_edit  \n",
       "0                          paper bag victoria secret  \n",
       "1  double tape 3m vhb 12 mm x 4,5 m original / do...  \n",
       "2        maling tts canned pork luncheon meat 397 gr  \n",
       "3  daster batik lengan pendek - motif acak / camp...  \n",
       "4                  nescafe \\xc3\\x89clair latte 220ml  "
      ]
     },
     "execution_count": 20,
     "metadata": {},
     "output_type": "execute_result"
    }
   ],
   "source": [
    "path = Path.home() / 'OneDrive - Seagroup/computer_vison/shopee_item_images/'\n",
    "\n",
    "# input\n",
    "df = pd.read_csv(path / 'train.csv')\n",
    "\n",
    "# clean\n",
    "group_dicts = df.groupby('label_group')[\"posting_id\"].apply(set).apply(list).to_dict()\n",
    "df['target'] = df[\"label_group\"].map(group_dicts)\n",
    "df['title_edit'] = df['title'].map(clean_text)\n",
    "\n",
    "df.head()"
   ]
  },
  {
   "cell_type": "code",
   "execution_count": 10,
   "id": "df03f033-fadf-4568-8d76-13875cb6d101",
   "metadata": {},
   "outputs": [
    {
     "name": "stdout",
     "output_type": "stream",
     "text": [
      "--- Best score is 0.6365 and has a threshold 0.6 ---\n"
     ]
    }
   ],
   "source": [
    "item = df['title_edit'].unique().tolist()\n",
    "target_check = df['target'].tolist()\n",
    "\n",
    "# find thresholds\n",
    "thresholds = list(np.arange(0.4, 1, 0.1))\n",
    "scores, plot_check, f1_score_lst, pred_lst = {}, {}, [], {}\n",
    "for thres in thresholds:\n",
    "    num = round(thres, 1)\n",
    "    \n",
    "    # run\n",
    "    match_df = run_match(base=item, source=item, top=10, similarity=num)\n",
    "    match_df['rank'] = match_df.groupby(['base'])['source'].transform(lambda x: pd.factorize(x)[0]).add(1)\n",
    "    match_df = match_df.merge(df[['posting_id', 'title_edit']], how='left', left_on='base', right_on='title_edit')\n",
    "    match_df = match_df.merge(df[['posting_id', 'title_edit']], how='left', left_on='source', right_on='title_edit', suffixes=('_base', '_source'))\n",
    "\n",
    "    pred = match_df.groupby('posting_id_base')['posting_id_source'].apply(set).apply(list).to_dict()\n",
    "    pred_check = df['posting_id'].map(pred).tolist()\n",
    "    f1_score_lst = [f1_score_cal(i, v) for i, v in zip(target_check, pred_check)]\n",
    "    \n",
    "    score = np.mean(f1_score_lst)\n",
    "    scores.update({num: score})\n",
    "    plot_check.update({num: f1_score_lst})\n",
    "    pred_lst.update({num: pred_check})\n",
    "    print(f'--- F1 score for threshold {num} is {score:.3f} ---\\n')\n",
    "    \n",
    "# choose thresholds \n",
    "best_score = max(scores, key=scores.get)\n",
    "print(f'--- Best score is {round(scores[best_score], 4)} and has a threshold {best_score} ---')\n",
    "df['text_pred'] = pred_lst[best_score]\n",
    "df['f1_score'] = plot_check[best_score]"
   ]
  },
  {
   "cell_type": "code",
   "execution_count": 11,
   "id": "d0017cd3-7c92-4334-9ef1-cbad872c7b45",
   "metadata": {},
   "outputs": [
    {
     "data": {
      "text/plain": [
       "Text(0, 0.5, '')"
      ]
     },
     "execution_count": 11,
     "metadata": {},
     "output_type": "execute_result"
    },
    {
     "data": {
      "image/png": "[encoded data removed]",
      "text/plain": [
       "<Figure size 1440x432 with 1 Axes>"
      ]
     },
     "metadata": {
      "needs_background": "light"
     },
     "output_type": "display_data"
    }
   ],
   "source": [
    "plt.figure(figsize=(20, 6))\n",
    "\n",
    "plot = sns.kdeplot(x=df[\"f1_score\"])\n",
    "plt.title(\"f1_score Distribution\", fontsize=20)\n",
    "plt.xlabel(\"f1_score\", fontsize=15)\n",
    "plt.ylabel(\"\")"
   ]
  },
  {
   "cell_type": "code",
   "execution_count": null,
   "id": "66bead7d-1a84-45ce-9ef8-9262629898a9",
   "metadata": {},
   "outputs": [],
   "source": [
    "df.head()"
   ]
  }
 ],
 "metadata": {
  "kernelspec": {
   "display_name": "Python 3 (ipykernel)",
   "language": "python",
   "name": "python3"
  },
  "language_info": {
   "codemirror_mode": {
    "name": "ipython",
    "version": 3
   },
   "file_extension": ".py",
   "mimetype": "text/x-python",
   "name": "python",
   "nbconvert_exporter": "python",
   "pygments_lexer": "ipython3",
   "version": "3.9.7"
  }
 },
 "nbformat": 4,
 "nbformat_minor": 5
}