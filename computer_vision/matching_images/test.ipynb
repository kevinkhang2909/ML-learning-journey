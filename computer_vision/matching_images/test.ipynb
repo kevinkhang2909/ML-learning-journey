{
 "cells": [
  {
   "cell_type": "code",
   "execution_count": 1,
   "id": "f3a010a0-1e28-42e1-be3b-5dbe8ab3f85c",
   "metadata": {},
   "outputs": [
    {
     "name": "stdout",
     "output_type": "stream",
     "text": [
      "cuda\n"
     ]
    }
   ],
   "source": [
    "from tqdm import tqdm\n",
    "import pandas as pd\n",
    "from pathlib import Path\n",
    "from func import ShopeeDataset, device, ShopeeNet, torch, get_train_transforms, np, f1_score_cal\n",
    "from torch.utils.data import DataLoader\n",
    "from sklearn.neighbors import NearestNeighbors"
   ]
  },
  {
   "cell_type": "code",
   "execution_count": 2,
   "id": "d95538fa-3b1c-423d-aa3f-0e5580286462",
   "metadata": {},
   "outputs": [],
   "source": [
    "path = Path.home() / 'OneDrive - Seagroup/computer_vison/shopee_item_images/'\n",
    "path_img = path / 'train_images'\n",
    "train = pd.read_csv(path / 'train.csv')\n",
    "\n",
    "df = pd.read_csv(path / 'train.csv')\n",
    "tmp = df.groupby(['label_group'])['posting_id'].unique().to_dict()\n",
    "df['matches'] = df['label_group'].map(tmp)\n",
    "df['matches'] = df['matches'].apply(lambda x: ' '.join(x))\n",
    "image_paths = str(path_img) + '/' + df['image']"
   ]
  },
  {
   "cell_type": "code",
   "execution_count": 12,
   "id": "e26d3bfe-1159-4451-9537-6baf5ce8ef93",
   "metadata": {},
   "outputs": [
    {
     "name": "stdout",
     "output_type": "stream",
     "text": [
      "Model building for efficientnet_b3 backbone\n"
     ]
    },
    {
     "name": "stderr",
     "output_type": "stream",
     "text": [
      "100%|██████████████████████████████████████████████████████████████████████████████| 1071/1071 [03:55<00:00,  4.54it/s]\n"
     ]
    }
   ],
   "source": [
    "CLASSES = 11014\n",
    "BATCH_SIZE = 32\n",
    "dim = (512, 512)\n",
    "\n",
    "model_name = 'efficientnet_b3'\n",
    "model = ShopeeNet(n_classes=CLASSES, model_name=model_name)\n",
    "model = model.to(device)\n",
    "model.eval()\n",
    "\n",
    "image_dataset = ShopeeDataset(image_paths=image_paths.values,transforms=get_train_transforms(dim))\n",
    "image_loader = DataLoader(image_dataset,\n",
    "                          batch_size=BATCH_SIZE,\n",
    "                          pin_memory=True,\n",
    "                          num_workers=4)\n",
    "\n",
    "embeds = []\n",
    "with torch.no_grad():\n",
    "    for img,label in tqdm(image_loader): \n",
    "        img = img.to(device)\n",
    "        label = label.to(device)\n",
    "        feat, _ = model(img,label)\n",
    "        image_embeddings = feat.detach().cpu().numpy()\n",
    "        embeds.append(image_embeddings)\n",
    "image_embeddings = np.concatenate(embeds)"
   ]
  },
  {
   "cell_type": "code",
   "execution_count": 4,
   "id": "72ac6dd2-9784-4fdc-9a23-16eb3cd76fdc",
   "metadata": {},
   "outputs": [],
   "source": [
    "model = NearestNeighbors(n_neighbors=50)\n",
    "model.fit(image_embeddings)\n",
    "distances, indices = model.kneighbors(image_embeddings)"
   ]
  },
  {
   "cell_type": "code",
   "execution_count": 6,
   "id": "9e758ef2",
   "metadata": {
    "collapsed": false,
    "jupyter": {
     "outputs_hidden": false
    },
    "pycharm": {
     "name": "#%%\n"
    }
   },
   "outputs": [
    {
     "name": "stdout",
     "output_type": "stream",
     "text": [
      "Our f1 score for threshold 0.01 is 0.045308828548734095\n",
      "Our f1 score for threshold 1.01 is 0.045308828548734095\n",
      "Our f1 score for threshold 2.01 is 0.045308828548734095\n",
      "Our f1 score for threshold 3.01 is 0.045308828548734095\n",
      "Our f1 score for threshold 4.01 is 0.045308828548734095\n",
      "Our f1 score for threshold 5.01 is 0.045308828548734095\n",
      "Our f1 score for threshold 6.01 is 0.045308828548734095\n",
      "Our f1 score for threshold 7.01 is 0.045308828548734095\n",
      "Our f1 score for threshold 8.01 is 0.045308828548734095\n",
      "Our f1 score for threshold 9.01 is 0.045308828548734095\n",
      "Our f1 score for threshold 10.01 is 0.045308828548734095\n",
      "Our f1 score for threshold 11.01 is 0.045308828548734095\n",
      "Our f1 score for threshold 12.01 is 0.045308828548734095\n",
      "Our f1 score for threshold 13.01 is 0.045308828548734095\n",
      "Our f1 score for threshold 14.01 is 0.045308828548734095\n",
      "Our f1 score for threshold 15.01 is 0.045308828548734095\n",
      "Our f1 score for threshold 16.01 is 0.045308828548734095\n",
      "Our f1 score for threshold 17.01 is 0.045308828548734095\n",
      "Our f1 score for threshold 18.01 is 0.045308828548734095\n",
      "Our f1 score for threshold 19.01 is 0.045308828548734095\n",
      "Our f1 score for threshold 20.01 is 0.045308828548734095\n",
      "Our f1 score for threshold 21.01 is 0.045308828548734095\n",
      "Our f1 score for threshold 22.01 is 0.045308828548734095\n",
      "Our f1 score for threshold 23.01 is 0.045308828548734095\n",
      "Our f1 score for threshold 24.01 is 0.045308828548734095\n",
      "Our f1 score for threshold 25.01 is 0.045308828548734095\n",
      "Our f1 score for threshold 26.01 is 0.045308828548734095\n",
      "Our f1 score for threshold 27.01 is 0.045308828548734095\n",
      "Our f1 score for threshold 28.01 is 0.045308828548734095\n",
      "Our f1 score for threshold 29.01 is 0.045308828548734095\n",
      "Our f1 score for threshold 30.01 is 0.045308828548734095\n",
      "Our f1 score for threshold 31.01 is 0.045308828548734095\n",
      "Our f1 score for threshold 32.01 is 0.045308828548734095\n",
      "Our f1 score for threshold 33.01 is 0.045308828548734095\n",
      "Our f1 score for threshold 34.01 is 0.045308828548734095\n",
      "Our best score is 0.045308828548734095 and has a threshold 0.01\n"
     ]
    }
   ],
   "source": [
    "# Iterate through different thresholds to maximize cv, run this in interactive mode, then replace else clause with a solid threshold\n",
    "\n",
    "thresholds = list(np.arange(0.01, 35, 1))\n",
    "scores = []\n",
    "for threshold in thresholds:\n",
    "    predictions = []\n",
    "    for k in range(image_embeddings.shape[0]):\n",
    "        idx = np.where(distances[k] < threshold)[0]\n",
    "        ids = indices[k, idx]\n",
    "        posting_ids = ' '.join(df['posting_id'].iloc[ids].values)\n",
    "        predictions.append(posting_ids)\n",
    "    df['pred_matches'] = predictions\n",
    "    df['f1'] = f1_score_cal(df['matches'], df['pred_matches'])\n",
    "    score = df['f1'].mean()\n",
    "    print(f'Our f1 score for threshold {threshold} is {score}')\n",
    "    scores.append(score)\n",
    "\n",
    "thresholds_scores = pd.DataFrame({'thresholds': thresholds, 'scores': scores})\n",
    "max_score = thresholds_scores[thresholds_scores['scores'] == thresholds_scores['scores'].max()]\n",
    "best_threshold = max_score['thresholds'].values[0]\n",
    "best_score = max_score['scores'].values[0]\n",
    "print(f'Our best score is {best_score} and has a threshold {best_threshold}')\n",
    "\n",
    "# Use threshold\n",
    "predictions = []\n",
    "for k in range(image_embeddings.shape[0]):\n",
    "    idx = np.where(distances[k,] < best_threshold)[0]\n",
    "    ids = indices[k,idx]\n",
    "    posting_ids = df['posting_id'].iloc[ids].values\n",
    "    predictions.append(posting_ids)"
   ]
  },
  {
   "cell_type": "code",
   "execution_count": 7,
   "id": "91129c86",
   "metadata": {
    "collapsed": false,
    "jupyter": {
     "outputs_hidden": false
    },
    "pycharm": {
     "name": "#%%\n"
    }
   },
   "outputs": [],
   "source": [
    "df['image_predictions'] = predictions"
   ]
  },
  {
   "cell_type": "code",
   "execution_count": 10,
   "id": "ac8b9360",
   "metadata": {
    "collapsed": false,
    "jupyter": {
     "outputs_hidden": false
    },
    "pycharm": {
     "name": "#%%\n"
    }
   },
   "outputs": [],
   "source": [
    "df.to_feather('test.ftr')"
   ]
  },
  {
   "cell_type": "code",
   "execution_count": 13,
   "id": "2a4a78ba-f723-4bd9-8137-934fc784d09c",
   "metadata": {},
   "outputs": [],
   "source": [
    "torch.cuda.empty_cache()"
   ]
  },
  {
   "cell_type": "code",
   "execution_count": null,
   "id": "b4dee38d-5bd9-4526-bf11-5f2957eda792",
   "metadata": {},
   "outputs": [],
   "source": []
  }
 ],
 "metadata": {
  "kernelspec": {
   "display_name": "Python 3 (ipykernel)",
   "language": "python",
   "name": "python3"
  },
  "language_info": {
   "codemirror_mode": {
    "name": "ipython",
    "version": 3
   },
   "file_extension": ".py",
   "mimetype": "text/x-python",
   "name": "python",
   "nbconvert_exporter": "python",
   "pygments_lexer": "ipython3",
   "version": "3.9.7"
  }
 },
 "nbformat": 4,
 "nbformat_minor": 5
}