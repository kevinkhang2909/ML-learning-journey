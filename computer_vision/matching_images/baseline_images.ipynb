{
 "cells": [
  {
   "cell_type": "code",
   "execution_count": 1,
   "id": "f3a010a0-1e28-42e1-be3b-5dbe8ab3f85c",
   "metadata": {},
   "outputs": [],
   "source": [
    "import matplotlib.pyplot as plt\n",
    "import seaborn as sns\n",
    "from tqdm import tqdm\n",
    "import pandas as pd\n",
    "import numpy as np\n",
    "from func import display_df, path, path_img, get_data\n",
    "from func_torch import ShopeeDataset, device, torch, f1_score_cal\n",
    "from torch.utils.data import DataLoader\n",
    "from sklearn.neighbors import NearestNeighbors\n",
    "from efficientnet_pytorch import EfficientNet\n",
    "import gc"
   ]
  },
  {
   "cell_type": "code",
   "execution_count": 2,
   "id": "d95538fa-3b1c-423d-aa3f-0e5580286462",
   "metadata": {},
   "outputs": [
    {
     "data": {
      "text/html": [
       "<div>\n",
       "<style scoped>\n",
       "    .dataframe tbody tr th:only-of-type {\n",
       "        vertical-align: middle;\n",
       "    }\n",
       "\n",
       "    .dataframe tbody tr th {\n",
       "        vertical-align: top;\n",
       "    }\n",
       "\n",
       "    .dataframe thead th {\n",
       "        text-align: right;\n",
       "    }\n",
       "</style>\n",
       "<table border=\"1\" class=\"dataframe\">\n",
       "  <thead>\n",
       "    <tr style=\"text-align: right;\">\n",
       "      <th></th>\n",
       "      <th>posting_id</th>\n",
       "      <th>image</th>\n",
       "      <th>image_phash</th>\n",
       "      <th>title</th>\n",
       "      <th>label_group</th>\n",
       "      <th>filepath</th>\n",
       "      <th>target</th>\n",
       "      <th>title_edit</th>\n",
       "    </tr>\n",
       "  </thead>\n",
       "  <tbody>\n",
       "    <tr>\n",
       "      <th>0</th>\n",
       "      <td>train_129225211</td>\n",
       "      <td>0000a68812bc7e98c42888dfb1c07da0.jpg</td>\n",
       "      <td>94974f937d4c2433</td>\n",
       "      <td>Paper Bag Victoria Secret</td>\n",
       "      <td>249114794</td>\n",
       "      <td>C:\\Users\\PC\\OneDrive - Seagroup\\computer_vison...</td>\n",
       "      <td>[train_129225211, train_2278313361]</td>\n",
       "      <td>paper bag victoria secret</td>\n",
       "    </tr>\n",
       "    <tr>\n",
       "      <th>1</th>\n",
       "      <td>train_3386243561</td>\n",
       "      <td>00039780dfc94d01db8676fe789ecd05.jpg</td>\n",
       "      <td>af3f9460c2838f0f</td>\n",
       "      <td>Double Tape 3M VHB 12 mm x 4,5 m ORIGINAL / DO...</td>\n",
       "      <td>2937985045</td>\n",
       "      <td>C:\\Users\\PC\\OneDrive - Seagroup\\computer_vison...</td>\n",
       "      <td>[train_3386243561, train_3423213080]</td>\n",
       "      <td>double tape 3m vhb 12 mm x 4,5 m original / do...</td>\n",
       "    </tr>\n",
       "    <tr>\n",
       "      <th>2</th>\n",
       "      <td>train_2288590299</td>\n",
       "      <td>000a190fdd715a2a36faed16e2c65df7.jpg</td>\n",
       "      <td>b94cb00ed3e50f78</td>\n",
       "      <td>Maling TTS Canned Pork Luncheon Meat 397 gr</td>\n",
       "      <td>2395904891</td>\n",
       "      <td>C:\\Users\\PC\\OneDrive - Seagroup\\computer_vison...</td>\n",
       "      <td>[train_3803689425, train_2288590299]</td>\n",
       "      <td>maling tts canned pork luncheon meat 397 gr</td>\n",
       "    </tr>\n",
       "    <tr>\n",
       "      <th>3</th>\n",
       "      <td>train_2406599165</td>\n",
       "      <td>00117e4fc239b1b641ff08340b429633.jpg</td>\n",
       "      <td>8514fc58eafea283</td>\n",
       "      <td>Daster Batik Lengan pendek - Motif Acak / Camp...</td>\n",
       "      <td>4093212188</td>\n",
       "      <td>C:\\Users\\PC\\OneDrive - Seagroup\\computer_vison...</td>\n",
       "      <td>[train_3342059966, train_2406599165]</td>\n",
       "      <td>daster batik lengan pendek - motif acak / camp...</td>\n",
       "    </tr>\n",
       "    <tr>\n",
       "      <th>4</th>\n",
       "      <td>train_3369186413</td>\n",
       "      <td>00136d1cf4edede0203f32f05f660588.jpg</td>\n",
       "      <td>a6f319f924ad708c</td>\n",
       "      <td>Nescafe \\xc3\\x89clair Latte 220ml</td>\n",
       "      <td>3648931069</td>\n",
       "      <td>C:\\Users\\PC\\OneDrive - Seagroup\\computer_vison...</td>\n",
       "      <td>[train_921438619, train_3369186413]</td>\n",
       "      <td>nescafe \\xc3\\x89clair latte 220ml</td>\n",
       "    </tr>\n",
       "  </tbody>\n",
       "</table>\n",
       "</div>"
      ],
      "text/plain": [
       "         posting_id                                 image       image_phash  \\\n",
       "0   train_129225211  0000a68812bc7e98c42888dfb1c07da0.jpg  94974f937d4c2433   \n",
       "1  train_3386243561  00039780dfc94d01db8676fe789ecd05.jpg  af3f9460c2838f0f   \n",
       "2  train_2288590299  000a190fdd715a2a36faed16e2c65df7.jpg  b94cb00ed3e50f78   \n",
       "3  train_2406599165  00117e4fc239b1b641ff08340b429633.jpg  8514fc58eafea283   \n",
       "4  train_3369186413  00136d1cf4edede0203f32f05f660588.jpg  a6f319f924ad708c   \n",
       "\n",
       "                                               title  label_group  \\\n",
       "0                          Paper Bag Victoria Secret    249114794   \n",
       "1  Double Tape 3M VHB 12 mm x 4,5 m ORIGINAL / DO...   2937985045   \n",
       "2        Maling TTS Canned Pork Luncheon Meat 397 gr   2395904891   \n",
       "3  Daster Batik Lengan pendek - Motif Acak / Camp...   4093212188   \n",
       "4                  Nescafe \\xc3\\x89clair Latte 220ml   3648931069   \n",
       "\n",
       "                                            filepath  \\\n",
       "0  C:\\Users\\PC\\OneDrive - Seagroup\\computer_vison...   \n",
       "1  C:\\Users\\PC\\OneDrive - Seagroup\\computer_vison...   \n",
       "2  C:\\Users\\PC\\OneDrive - Seagroup\\computer_vison...   \n",
       "3  C:\\Users\\PC\\OneDrive - Seagroup\\computer_vison...   \n",
       "4  C:\\Users\\PC\\OneDrive - Seagroup\\computer_vison...   \n",
       "\n",
       "                                 target  \\\n",
       "0   [train_129225211, train_2278313361]   \n",
       "1  [train_3386243561, train_3423213080]   \n",
       "2  [train_3803689425, train_2288590299]   \n",
       "3  [train_3342059966, train_2406599165]   \n",
       "4   [train_921438619, train_3369186413]   \n",
       "\n",
       "                                          title_edit  \n",
       "0                          paper bag victoria secret  \n",
       "1  double tape 3m vhb 12 mm x 4,5 m original / do...  \n",
       "2        maling tts canned pork luncheon meat 397 gr  \n",
       "3  daster batik lengan pendek - motif acak / camp...  \n",
       "4                  nescafe \\xc3\\x89clair latte 220ml  "
      ]
     },
     "execution_count": 2,
     "metadata": {},
     "output_type": "execute_result"
    }
   ],
   "source": [
    "# input\n",
    "df = get_data(path / 'train.csv')\n",
    "df.head()"
   ]
  },
  {
   "cell_type": "code",
   "execution_count": 3,
   "id": "a2cadd18-2b38-4a56-8b62-423376a1d4fd",
   "metadata": {},
   "outputs": [
    {
     "name": "stdout",
     "output_type": "stream",
     "text": [
      "Dataset Len: 34,250\n",
      "Image Shape [0]: torch.Size([3, 512, 512])\n"
     ]
    }
   ],
   "source": [
    "dataset_data = ShopeeDataset(csv=df, train=True)\n",
    "data_loader = DataLoader(dataset_data, batch_size=16, num_workers=4)\n",
    "\n",
    "print(f\"Dataset Len: {len(dataset_data):,}\\nImage Shape [0]: {dataset_data[0][0].shape}\")"
   ]
  },
  {
   "cell_type": "code",
   "execution_count": 4,
   "id": "3146c446-c43c-4919-82d0-0147a0f71ccb",
   "metadata": {},
   "outputs": [
    {
     "name": "stderr",
     "output_type": "stream",
     "text": [
      "\u001B[34m\u001B[1mwandb\u001B[0m: Currently logged in as: \u001B[33mkevinkhang\u001B[0m (use `wandb login --relogin` to force relogin)\n"
     ]
    },
    {
     "data": {
      "text/html": [
       "Tracking run with wandb version 0.12.11"
      ],
      "text/plain": [
       "<IPython.core.display.HTML object>"
      ]
     },
     "metadata": {},
     "output_type": "display_data"
    },
    {
     "data": {
      "text/html": [
       "Run data is saved locally in <code>C:\\Users\\PC\\PycharmProjects\\data_toolkit\\computer_vision\\matching_images\\wandb\\run-20220321_110550-1p4m1ic3</code>"
      ],
      "text/plain": [
       "<IPython.core.display.HTML object>"
      ]
     },
     "metadata": {},
     "output_type": "display_data"
    },
    {
     "data": {
      "text/html": [
       "Syncing run <strong><a href=\"https://wandb.ai/kevinkhang/shopee-kaggle/runs/1p4m1ic3\" target=\"_blank\">image_embeddings</a></strong> to <a href=\"https://wandb.ai/kevinkhang/shopee-kaggle\" target=\"_blank\">Weights & Biases</a> (<a href=\"https://wandb.me/run\" target=\"_blank\">docs</a>)<br/>"
      ],
      "text/plain": [
       "<IPython.core.display.HTML object>"
      ]
     },
     "metadata": {},
     "output_type": "display_data"
    },
    {
     "name": "stdout",
     "output_type": "stream",
     "text": [
      "efficientnet-b0 cuda\n"
     ]
    },
    {
     "name": "stderr",
     "output_type": "stream",
     "text": [
      "100%|██████████████████████████████████████████████████████████████████████████████| 2141/2141 [04:16<00:00,  8.34it/s]\n"
     ]
    },
    {
     "name": "stdout",
     "output_type": "stream",
     "text": [
      "image_embeddings shape: (34250, 1000)\n"
     ]
    }
   ],
   "source": [
    "image_embeddings_path = path / 'all_image_embeddings.npy'\n",
    "rerun = True\n",
    "\n",
    "if rerun:\n",
    "    # Run\n",
    "    model_name = 'efficientnet-b0'\n",
    "    model_effnet = EfficientNet.from_name(model_name).to(device)\n",
    "\n",
    "    print(model_name, device)\n",
    "\n",
    "    embeddings = []\n",
    "    with torch.no_grad():\n",
    "        for image, label in tqdm(data_loader):\n",
    "            image = image.to(device)\n",
    "            img_embeddings = model_effnet(image)\n",
    "            img_embeddings = img_embeddings.detach().cpu().numpy()\n",
    "            embeddings.append(img_embeddings)\n",
    "    all_image_embeddings = np.concatenate(embeddings)\n",
    "    print(f\"image_embeddings shape: {all_image_embeddings.shape}\")\n",
    "\n",
    "    # Save\n",
    "    np.save(image_embeddings_path, all_image_embeddings)\n",
    "\n",
    "    # Clean memory\n",
    "    del model_effnet\n",
    "    _ = gc.collect()\n",
    "    \n",
    "else:\n",
    "    # load\n",
    "    all_image_embeddings = np.load(image_embeddings_path)"
   ]
  },
  {
   "cell_type": "code",
   "execution_count": 12,
   "id": "507fe400-e9af-4560-99e0-d2f3424e97e0",
   "metadata": {},
   "outputs": [
    {
     "name": "stdout",
     "output_type": "stream",
     "text": [
      "Finding Similar Images ...\n"
     ]
    },
    {
     "name": "stderr",
     "output_type": "stream",
     "text": [
      "100%|██████████████████████████████████████████████████████████████████████████| 34250/34250 [00:04<00:00, 8359.05it/s]\n"
     ]
    }
   ],
   "source": [
    "knn_model = NearestNeighbors(n_neighbors=50)\n",
    "knn_model.fit(all_image_embeddings)\n",
    "\n",
    "predictions = []\n",
    "print('Finding Similar Images ...')\n",
    "\n",
    "distances, indices = knn_model.kneighbors(all_image_embeddings)\n",
    "for k in tqdm(range(all_image_embeddings.shape[0])):\n",
    "    index = np.where(distances[k, ] < 21.0)[0]\n",
    "    split = indices[k, index]\n",
    "    pred = df.iloc[split]['posting_id'].values.tolist()\n",
    "    predictions.append(pred)"
   ]
  },
  {
   "cell_type": "code",
   "execution_count": 32,
   "id": "648d7ddb-0abc-46fe-9408-d31da64af14b",
   "metadata": {},
   "outputs": [
    {
     "name": "stdout",
     "output_type": "stream",
     "text": [
      "--- F1 score for threshold 0.001 is 0.461 ---\n",
      "\n",
      "--- F1 score for threshold 0.011 is 0.461 ---\n",
      "\n",
      "--- F1 score for threshold 0.020999999999999998 is 0.461 ---\n",
      "\n",
      "--- F1 score for threshold 0.030999999999999996 is 0.461 ---\n",
      "\n",
      "--- F1 score for threshold 0.040999999999999995 is 0.461 ---\n",
      "\n",
      "--- F1 score for threshold 0.05099999999999999 is 0.461 ---\n",
      "\n",
      "--- F1 score for threshold 0.06099999999999999 is 0.461 ---\n",
      "\n",
      "--- F1 score for threshold 0.071 is 0.461 ---\n",
      "\n",
      "--- F1 score for threshold 0.08099999999999999 is 0.461 ---\n",
      "\n",
      "--- F1 score for threshold 0.09099999999999998 is 0.461 ---\n",
      "\n",
      "--- Best score is 0.4608 and has a threshold 0.001 ---\n"
     ]
    }
   ],
   "source": [
    "thresholds = list(np.arange(0.001, 0.1, 0.01))\n",
    "target = df['target'].values.tolist()\n",
    "scores, plot_check, f1_score_lst, pred_lst = {}, {}, [], {}\n",
    "\n",
    "for num in thresholds:\n",
    "    predictions = []\n",
    "    for k in range(all_image_embeddings.shape[0]):\n",
    "        idx = np.where(distances[k,] < num)[0]\n",
    "        ids = indices[k,idx]\n",
    "        predictions.append(df['posting_id'].iloc[ids].values.tolist())\n",
    "    f1_score_lst = [f1_score_cal(i, v) for i, v in zip(target, predictions)]\n",
    "    \n",
    "    score = np.mean(f1_score_lst)\n",
    "    scores.update({num: score})\n",
    "    plot_check.update({num: f1_score_lst})\n",
    "    pred_lst.update({num: predictions})\n",
    "    print(f'--- F1 score for threshold {num} is {score:.3f} ---\\n')\n",
    "\n",
    "    \n",
    "best_score = max(scores, key=scores.get)\n",
    "print(f'--- Best score is {round(scores[best_score], 4)} and has a threshold {best_score} ---')\n",
    "df['img_pred'] = pred_lst[best_score]\n",
    "df['f1_score'] = plot_check[best_score]"
   ]
  },
  {
   "cell_type": "code",
   "execution_count": 34,
   "id": "425f79f9-4c2a-4db9-b814-9a7c88bf99af",
   "metadata": {},
   "outputs": [
    {
     "data": {
      "text/html": [
       "<div>\n",
       "<style scoped>\n",
       "    .dataframe tbody tr th:only-of-type {\n",
       "        vertical-align: middle;\n",
       "    }\n",
       "\n",
       "    .dataframe tbody tr th {\n",
       "        vertical-align: top;\n",
       "    }\n",
       "\n",
       "    .dataframe thead th {\n",
       "        text-align: right;\n",
       "    }\n",
       "</style>\n",
       "<table border=\"1\" class=\"dataframe\">\n",
       "  <thead>\n",
       "    <tr style=\"text-align: right;\">\n",
       "      <th></th>\n",
       "      <th>posting_id</th>\n",
       "      <th>image</th>\n",
       "      <th>image_phash</th>\n",
       "      <th>title</th>\n",
       "      <th>label_group</th>\n",
       "      <th>filepath</th>\n",
       "      <th>target</th>\n",
       "      <th>title_edit</th>\n",
       "      <th>img_pred</th>\n",
       "      <th>f1_score</th>\n",
       "      <th>pred_matches</th>\n",
       "      <th>f1</th>\n",
       "    </tr>\n",
       "  </thead>\n",
       "  <tbody>\n",
       "    <tr>\n",
       "      <th>0</th>\n",
       "      <td>train_129225211</td>\n",
       "      <td>0000a68812bc7e98c42888dfb1c07da0.jpg</td>\n",
       "      <td>94974f937d4c2433</td>\n",
       "      <td>Paper Bag Victoria Secret</td>\n",
       "      <td>249114794</td>\n",
       "      <td>C:\\Users\\PC\\OneDrive - Seagroup\\computer_vison...</td>\n",
       "      <td>[train_129225211, train_2278313361]</td>\n",
       "      <td>paper bag victoria secret</td>\n",
       "      <td>[train_129225211]</td>\n",
       "      <td>0.666667</td>\n",
       "      <td>train_129225211 train_1484111914 train_1844994...</td>\n",
       "      <td>0.038462</td>\n",
       "    </tr>\n",
       "    <tr>\n",
       "      <th>1</th>\n",
       "      <td>train_3386243561</td>\n",
       "      <td>00039780dfc94d01db8676fe789ecd05.jpg</td>\n",
       "      <td>af3f9460c2838f0f</td>\n",
       "      <td>Double Tape 3M VHB 12 mm x 4,5 m ORIGINAL / DO...</td>\n",
       "      <td>2937985045</td>\n",
       "      <td>C:\\Users\\PC\\OneDrive - Seagroup\\computer_vison...</td>\n",
       "      <td>[train_3386243561, train_3423213080]</td>\n",
       "      <td>double tape 3m vhb 12 mm x 4,5 m original / do...</td>\n",
       "      <td>[train_3386243561]</td>\n",
       "      <td>0.666667</td>\n",
       "      <td>train_3386243561 train_2343807684 train_199391...</td>\n",
       "      <td>0.666667</td>\n",
       "    </tr>\n",
       "    <tr>\n",
       "      <th>2</th>\n",
       "      <td>train_2288590299</td>\n",
       "      <td>000a190fdd715a2a36faed16e2c65df7.jpg</td>\n",
       "      <td>b94cb00ed3e50f78</td>\n",
       "      <td>Maling TTS Canned Pork Luncheon Meat 397 gr</td>\n",
       "      <td>2395904891</td>\n",
       "      <td>C:\\Users\\PC\\OneDrive - Seagroup\\computer_vison...</td>\n",
       "      <td>[train_3803689425, train_2288590299]</td>\n",
       "      <td>maling tts canned pork luncheon meat 397 gr</td>\n",
       "      <td>[train_2288590299]</td>\n",
       "      <td>0.666667</td>\n",
       "      <td>train_2288590299 train_1278959747 train_171791...</td>\n",
       "      <td>0.038462</td>\n",
       "    </tr>\n",
       "    <tr>\n",
       "      <th>3</th>\n",
       "      <td>train_2406599165</td>\n",
       "      <td>00117e4fc239b1b641ff08340b429633.jpg</td>\n",
       "      <td>8514fc58eafea283</td>\n",
       "      <td>Daster Batik Lengan pendek - Motif Acak / Camp...</td>\n",
       "      <td>4093212188</td>\n",
       "      <td>C:\\Users\\PC\\OneDrive - Seagroup\\computer_vison...</td>\n",
       "      <td>[train_3342059966, train_2406599165]</td>\n",
       "      <td>daster batik lengan pendek - motif acak / camp...</td>\n",
       "      <td>[train_2406599165]</td>\n",
       "      <td>0.666667</td>\n",
       "      <td>train_2406599165 train_915651456 train_2073771...</td>\n",
       "      <td>0.038462</td>\n",
       "    </tr>\n",
       "    <tr>\n",
       "      <th>4</th>\n",
       "      <td>train_3369186413</td>\n",
       "      <td>00136d1cf4edede0203f32f05f660588.jpg</td>\n",
       "      <td>a6f319f924ad708c</td>\n",
       "      <td>Nescafe \\xc3\\x89clair Latte 220ml</td>\n",
       "      <td>3648931069</td>\n",
       "      <td>C:\\Users\\PC\\OneDrive - Seagroup\\computer_vison...</td>\n",
       "      <td>[train_921438619, train_3369186413]</td>\n",
       "      <td>nescafe \\xc3\\x89clair latte 220ml</td>\n",
       "      <td>[train_3369186413]</td>\n",
       "      <td>0.666667</td>\n",
       "      <td>train_3369186413 train_186448376 train_1650534...</td>\n",
       "      <td>0.038462</td>\n",
       "    </tr>\n",
       "  </tbody>\n",
       "</table>\n",
       "</div>"
      ],
      "text/plain": [
       "         posting_id                                 image       image_phash  \\\n",
       "0   train_129225211  0000a68812bc7e98c42888dfb1c07da0.jpg  94974f937d4c2433   \n",
       "1  train_3386243561  00039780dfc94d01db8676fe789ecd05.jpg  af3f9460c2838f0f   \n",
       "2  train_2288590299  000a190fdd715a2a36faed16e2c65df7.jpg  b94cb00ed3e50f78   \n",
       "3  train_2406599165  00117e4fc239b1b641ff08340b429633.jpg  8514fc58eafea283   \n",
       "4  train_3369186413  00136d1cf4edede0203f32f05f660588.jpg  a6f319f924ad708c   \n",
       "\n",
       "                                               title  label_group  \\\n",
       "0                          Paper Bag Victoria Secret    249114794   \n",
       "1  Double Tape 3M VHB 12 mm x 4,5 m ORIGINAL / DO...   2937985045   \n",
       "2        Maling TTS Canned Pork Luncheon Meat 397 gr   2395904891   \n",
       "3  Daster Batik Lengan pendek - Motif Acak / Camp...   4093212188   \n",
       "4                  Nescafe \\xc3\\x89clair Latte 220ml   3648931069   \n",
       "\n",
       "                                            filepath  \\\n",
       "0  C:\\Users\\PC\\OneDrive - Seagroup\\computer_vison...   \n",
       "1  C:\\Users\\PC\\OneDrive - Seagroup\\computer_vison...   \n",
       "2  C:\\Users\\PC\\OneDrive - Seagroup\\computer_vison...   \n",
       "3  C:\\Users\\PC\\OneDrive - Seagroup\\computer_vison...   \n",
       "4  C:\\Users\\PC\\OneDrive - Seagroup\\computer_vison...   \n",
       "\n",
       "                                 target  \\\n",
       "0   [train_129225211, train_2278313361]   \n",
       "1  [train_3386243561, train_3423213080]   \n",
       "2  [train_3803689425, train_2288590299]   \n",
       "3  [train_3342059966, train_2406599165]   \n",
       "4   [train_921438619, train_3369186413]   \n",
       "\n",
       "                                          title_edit            img_pred  \\\n",
       "0                          paper bag victoria secret   [train_129225211]   \n",
       "1  double tape 3m vhb 12 mm x 4,5 m original / do...  [train_3386243561]   \n",
       "2        maling tts canned pork luncheon meat 397 gr  [train_2288590299]   \n",
       "3  daster batik lengan pendek - motif acak / camp...  [train_2406599165]   \n",
       "4                  nescafe \\xc3\\x89clair latte 220ml  [train_3369186413]   \n",
       "\n",
       "   f1_score                                       pred_matches        f1  \n",
       "0  0.666667  train_129225211 train_1484111914 train_1844994...  0.038462  \n",
       "1  0.666667  train_3386243561 train_2343807684 train_199391...  0.666667  \n",
       "2  0.666667  train_2288590299 train_1278959747 train_171791...  0.038462  \n",
       "3  0.666667  train_2406599165 train_915651456 train_2073771...  0.038462  \n",
       "4  0.666667  train_3369186413 train_186448376 train_1650534...  0.038462  "
      ]
     },
     "execution_count": 34,
     "metadata": {},
     "output_type": "execute_result"
    }
   ],
   "source": [
    "df.head()"
   ]
  },
  {
   "cell_type": "code",
   "execution_count": 35,
   "id": "8256a80f-6b96-4709-9f93-c9dadb1c1220",
   "metadata": {},
   "outputs": [
    {
     "data": {
      "text/plain": [
       "Text(0, 0.5, '')"
      ]
     },
     "execution_count": 35,
     "metadata": {},
     "output_type": "execute_result"
    },
    {
     "data": {
      "image/png": "[encoded data removed]",
      "text/plain": [
       "<Figure size 1440x432 with 1 Axes>"
      ]
     },
     "metadata": {
      "needs_background": "light"
     },
     "output_type": "display_data"
    }
   ],
   "source": [
    "plt.figure(figsize = (20, 6))\n",
    "\n",
    "plot = sns.kdeplot(x = df[\"f1_score\"])\n",
    "plt.title(\"f1_score Distribution\", fontsize=20)\n",
    "plt.xlabel(\"f1_score\", fontsize=15)\n",
    "plt.ylabel(\"\")"
   ]
  },
  {
   "cell_type": "code",
   "execution_count": null,
   "id": "1888e4fb-fbb3-49c7-b58f-3964708b042c",
   "metadata": {},
   "outputs": [],
   "source": [
    "test_id = 'train_3386243561'\n",
    "tmp = pd.DataFrame(df.query(f'posting_id == \"{test_id}\"')['img_pred'].item(), columns=['posting_id'])\n",
    "tmp = tmp.merge(df[['posting_id', 'filepath', 'title']], how='left')\n",
    "\n",
    "display_df(tmp, path_img)"
   ]
  },
  {
   "cell_type": "code",
   "execution_count": 36,
   "id": "cc1a5594-a443-4d84-a3fb-db42a335cfe8",
   "metadata": {},
   "outputs": [],
   "source": [
    "df[['posting_id', 'img_pred', 'f1_score']].to_feather(path / 'img_pred.ftr')"
   ]
  },
  {
   "cell_type": "code",
   "execution_count": null,
   "id": "5e5afcac-93c6-4fd7-bae5-af96332ae1af",
   "metadata": {},
   "outputs": [],
   "source": []
  }
 ],
 "metadata": {
  "kernelspec": {
   "display_name": "Python 3 (ipykernel)",
   "language": "python",
   "name": "python3"
  },
  "language_info": {
   "codemirror_mode": {
    "name": "ipython",
    "version": 3
   },
   "file_extension": ".py",
   "mimetype": "text/x-python",
   "name": "python",
   "nbconvert_exporter": "python",
   "pygments_lexer": "ipython3",
   "version": "3.9.12"
  }
 },
 "nbformat": 4,
 "nbformat_minor": 5
}