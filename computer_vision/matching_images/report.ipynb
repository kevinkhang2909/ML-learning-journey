{
 "cells": [
  {
   "cell_type": "code",
   "execution_count": 30,
   "id": "6a475dd7-94ba-4181-bd37-665a12bb9ce6",
   "metadata": {},
   "outputs": [],
   "source": [
    "from func import np, f1_score_cal, display_df, path, path_img, get_data, pd\n",
    "import matplotlib.pyplot as plt\n",
    "import seaborn as sns"
   ]
  },
  {
   "cell_type": "code",
   "execution_count": 5,
   "id": "32466ffc-c0d3-4b56-91ba-087de08fe536",
   "metadata": {},
   "outputs": [],
   "source": [
    "df = get_data(path / 'train.csv')\n",
    "df_img = pd.read_feather(path / 'img_pred.ftr')\n",
    "df_text = pd.read_feather(path / 'text_pred.ftr')"
   ]
  },
  {
   "cell_type": "code",
   "execution_count": 28,
   "id": "bace0ff2-c8ff-4cb6-be95-084b688cdb54",
   "metadata": {},
   "outputs": [
    {
     "name": "stdout",
     "output_type": "stream",
     "text": [
      "CV score for baseline = 0.154\n"
     ]
    },
    {
     "data": {
      "text/html": [
       "<div>\n",
       "<style scoped>\n",
       "    .dataframe tbody tr th:only-of-type {\n",
       "        vertical-align: middle;\n",
       "    }\n",
       "\n",
       "    .dataframe tbody tr th {\n",
       "        vertical-align: top;\n",
       "    }\n",
       "\n",
       "    .dataframe thead th {\n",
       "        text-align: right;\n",
       "    }\n",
       "</style>\n",
       "<table border=\"1\" class=\"dataframe\">\n",
       "  <thead>\n",
       "    <tr style=\"text-align: right;\">\n",
       "      <th></th>\n",
       "      <th>posting_id</th>\n",
       "      <th>target</th>\n",
       "      <th>img_pred</th>\n",
       "      <th>f1_score_img</th>\n",
       "      <th>text_pred</th>\n",
       "      <th>f1_score_text</th>\n",
       "      <th>pred</th>\n",
       "      <th>f1_score</th>\n",
       "    </tr>\n",
       "  </thead>\n",
       "  <tbody>\n",
       "    <tr>\n",
       "      <th>0</th>\n",
       "      <td>train_129225211</td>\n",
       "      <td>[train_129225211, train_2278313361]</td>\n",
       "      <td>[train_129225211]</td>\n",
       "      <td>0.666667</td>\n",
       "      <td>[train_2278313361, train_129225211]</td>\n",
       "      <td>1.000000</td>\n",
       "      <td>[train_129225211, train_2278313361]</td>\n",
       "      <td>1.000000</td>\n",
       "    </tr>\n",
       "    <tr>\n",
       "      <th>1</th>\n",
       "      <td>train_3386243561</td>\n",
       "      <td>[train_3386243561, train_3423213080]</td>\n",
       "      <td>[train_3386243561]</td>\n",
       "      <td>0.666667</td>\n",
       "      <td>[train_860027362, train_211200223, train_19749...</td>\n",
       "      <td>0.571429</td>\n",
       "      <td>[train_3423213080, train_3386243561, train_860...</td>\n",
       "      <td>0.571429</td>\n",
       "    </tr>\n",
       "    <tr>\n",
       "      <th>2</th>\n",
       "      <td>train_2288590299</td>\n",
       "      <td>[train_3803689425, train_2288590299]</td>\n",
       "      <td>[train_2288590299, train_3630936139, train_366...</td>\n",
       "      <td>0.038462</td>\n",
       "      <td>[train_2288590299, train_3803689425]</td>\n",
       "      <td>1.000000</td>\n",
       "      <td>[train_3758642579, train_1768881373, train_527...</td>\n",
       "      <td>0.075472</td>\n",
       "    </tr>\n",
       "    <tr>\n",
       "      <th>3</th>\n",
       "      <td>train_2406599165</td>\n",
       "      <td>[train_2406599165, train_3342059966]</td>\n",
       "      <td>[train_2406599165, train_2594893028, train_254...</td>\n",
       "      <td>0.038462</td>\n",
       "      <td>[train_2406599165, train_2043094887, train_352...</td>\n",
       "      <td>0.200000</td>\n",
       "      <td>[train_964138261, train_1748381393, train_3188...</td>\n",
       "      <td>0.033898</td>\n",
       "    </tr>\n",
       "    <tr>\n",
       "      <th>4</th>\n",
       "      <td>train_3369186413</td>\n",
       "      <td>[train_3369186413, train_921438619]</td>\n",
       "      <td>[train_3369186413, train_413507128, train_1122...</td>\n",
       "      <td>0.038462</td>\n",
       "      <td>[train_3369186413]</td>\n",
       "      <td>0.666667</td>\n",
       "      <td>[train_413507128, train_2615355809, train_3586...</td>\n",
       "      <td>0.038462</td>\n",
       "    </tr>\n",
       "  </tbody>\n",
       "</table>\n",
       "</div>"
      ],
      "text/plain": [
       "         posting_id                                target  \\\n",
       "0   train_129225211   [train_129225211, train_2278313361]   \n",
       "1  train_3386243561  [train_3386243561, train_3423213080]   \n",
       "2  train_2288590299  [train_3803689425, train_2288590299]   \n",
       "3  train_2406599165  [train_2406599165, train_3342059966]   \n",
       "4  train_3369186413   [train_3369186413, train_921438619]   \n",
       "\n",
       "                                            img_pred  f1_score_img  \\\n",
       "0                                  [train_129225211]      0.666667   \n",
       "1                                 [train_3386243561]      0.666667   \n",
       "2  [train_2288590299, train_3630936139, train_366...      0.038462   \n",
       "3  [train_2406599165, train_2594893028, train_254...      0.038462   \n",
       "4  [train_3369186413, train_413507128, train_1122...      0.038462   \n",
       "\n",
       "                                           text_pred  f1_score_text  \\\n",
       "0                [train_2278313361, train_129225211]       1.000000   \n",
       "1  [train_860027362, train_211200223, train_19749...       0.571429   \n",
       "2               [train_2288590299, train_3803689425]       1.000000   \n",
       "3  [train_2406599165, train_2043094887, train_352...       0.200000   \n",
       "4                                 [train_3369186413]       0.666667   \n",
       "\n",
       "                                                pred  f1_score  \n",
       "0                [train_129225211, train_2278313361]  1.000000  \n",
       "1  [train_3423213080, train_3386243561, train_860...  0.571429  \n",
       "2  [train_3758642579, train_1768881373, train_527...  0.075472  \n",
       "3  [train_964138261, train_1748381393, train_3188...  0.033898  \n",
       "4  [train_413507128, train_2615355809, train_3586...  0.038462  "
      ]
     },
     "execution_count": 28,
     "metadata": {},
     "output_type": "execute_result"
    }
   ],
   "source": [
    "final = df[['posting_id', 'target']].merge(df_img, on='posting_id', how='left')\n",
    "final = final.merge(df_text, on='posting_id', how='left', suffixes=('_img', '_text'))\n",
    "final['pred'] = [list(set(list(x) + list(y))) for x, y in final[['img_pred', 'text_pred']].values]\n",
    "final['f1_score'] = [f1_score_cal(i, v) for i, v in final[['target', 'pred']].values]\n",
    "\n",
    "print(f\"CV score for baseline = {final['f1_score'].mean():.3f}\")\n",
    "final.head()"
   ]
  },
  {
   "cell_type": "code",
   "execution_count": 31,
   "id": "29545a34-7b25-4f8c-8081-9f1f98589833",
   "metadata": {},
   "outputs": [
    {
     "data": {
      "text/plain": [
       "Text(0, 0.5, '')"
      ]
     },
     "execution_count": 31,
     "metadata": {},
     "output_type": "execute_result"
    },
    {
     "data": {
      "image/png": "[encoded data removed]",
      "text/plain": [
       "<Figure size 1440x432 with 1 Axes>"
      ]
     },
     "metadata": {
      "needs_background": "light"
     },
     "output_type": "display_data"
    }
   ],
   "source": [
    "plt.figure(figsize = (20, 6))\n",
    "\n",
    "plot = sns.kdeplot(x = final[\"f1_score\"])\n",
    "plt.title(\"f1_score Distribution\", fontsize=20)\n",
    "plt.xlabel(\"f1_score\", fontsize=15)\n",
    "plt.ylabel(\"\")"
   ]
  },
  {
   "cell_type": "code",
   "execution_count": null,
   "id": "c307ad1e-f2bc-48c0-a32a-39bbc8898370",
   "metadata": {},
   "outputs": [],
   "source": []
  }
 ],
 "metadata": {
  "kernelspec": {
   "display_name": "Python 3 (ipykernel)",
   "language": "python",
   "name": "python3"
  },
  "language_info": {
   "codemirror_mode": {
    "name": "ipython",
    "version": 3
   },
   "file_extension": ".py",
   "mimetype": "text/x-python",
   "name": "python",
   "nbconvert_exporter": "python",
   "pygments_lexer": "ipython3",
   "version": "3.9.7"
  }
 },
 "nbformat": 4,
 "nbformat_minor": 5
}
