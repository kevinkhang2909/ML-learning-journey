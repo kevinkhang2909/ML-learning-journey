{
 "cells": [
  {
   "cell_type": "code",
   "execution_count": 1,
   "id": "09ca206a-b8ed-43a5-a18f-2df776027b38",
   "metadata": {},
   "outputs": [],
   "source": [
    "import matplotlib.pyplot as plt\n",
    "import seaborn as sns\n",
    "from tqdm import tqdm\n",
    "import numpy as np\n",
    "from func import display_df, path, path_img, get_data\n",
    "from func_torch import ShopeeDataset, device, torch, f1_score_cal\n",
    "from torch.utils.data import DataLoader\n",
    "from efficientnet_pytorch import EfficientNet\n",
    "import gc\n",
    "import faiss"
   ]
  },
  {
   "cell_type": "code",
   "execution_count": 2,
   "id": "3e4181ff-763a-42e2-bf1a-dd43ade6a966",
   "metadata": {},
   "outputs": [
    {
     "data": {
      "text/html": [
       "<div>\n",
       "<style scoped>\n",
       "    .dataframe tbody tr th:only-of-type {\n",
       "        vertical-align: middle;\n",
       "    }\n",
       "\n",
       "    .dataframe tbody tr th {\n",
       "        vertical-align: top;\n",
       "    }\n",
       "\n",
       "    .dataframe thead th {\n",
       "        text-align: right;\n",
       "    }\n",
       "</style>\n",
       "<table border=\"1\" class=\"dataframe\">\n",
       "  <thead>\n",
       "    <tr style=\"text-align: right;\">\n",
       "      <th></th>\n",
       "      <th>posting_id</th>\n",
       "      <th>image</th>\n",
       "      <th>image_phash</th>\n",
       "      <th>title</th>\n",
       "      <th>label_group</th>\n",
       "      <th>filepath</th>\n",
       "      <th>target</th>\n",
       "      <th>title_edit</th>\n",
       "    </tr>\n",
       "  </thead>\n",
       "  <tbody>\n",
       "    <tr>\n",
       "      <th>0</th>\n",
       "      <td>train_129225211</td>\n",
       "      <td>0000a68812bc7e98c42888dfb1c07da0.jpg</td>\n",
       "      <td>94974f937d4c2433</td>\n",
       "      <td>Paper Bag Victoria Secret</td>\n",
       "      <td>249114794</td>\n",
       "      <td>C:\\Users\\PC\\OneDrive - Seagroup\\computer_vison...</td>\n",
       "      <td>[train_129225211, train_2278313361]</td>\n",
       "      <td>paper bag victoria secret</td>\n",
       "    </tr>\n",
       "    <tr>\n",
       "      <th>1</th>\n",
       "      <td>train_3386243561</td>\n",
       "      <td>00039780dfc94d01db8676fe789ecd05.jpg</td>\n",
       "      <td>af3f9460c2838f0f</td>\n",
       "      <td>Double Tape 3M VHB 12 mm x 4,5 m ORIGINAL / DO...</td>\n",
       "      <td>2937985045</td>\n",
       "      <td>C:\\Users\\PC\\OneDrive - Seagroup\\computer_vison...</td>\n",
       "      <td>[train_3386243561, train_3423213080]</td>\n",
       "      <td>double tape 3m vhb 12 mm x 4,5 m original / do...</td>\n",
       "    </tr>\n",
       "    <tr>\n",
       "      <th>2</th>\n",
       "      <td>train_2288590299</td>\n",
       "      <td>000a190fdd715a2a36faed16e2c65df7.jpg</td>\n",
       "      <td>b94cb00ed3e50f78</td>\n",
       "      <td>Maling TTS Canned Pork Luncheon Meat 397 gr</td>\n",
       "      <td>2395904891</td>\n",
       "      <td>C:\\Users\\PC\\OneDrive - Seagroup\\computer_vison...</td>\n",
       "      <td>[train_3803689425, train_2288590299]</td>\n",
       "      <td>maling tts canned pork luncheon meat 397 gr</td>\n",
       "    </tr>\n",
       "    <tr>\n",
       "      <th>3</th>\n",
       "      <td>train_2406599165</td>\n",
       "      <td>00117e4fc239b1b641ff08340b429633.jpg</td>\n",
       "      <td>8514fc58eafea283</td>\n",
       "      <td>Daster Batik Lengan pendek - Motif Acak / Camp...</td>\n",
       "      <td>4093212188</td>\n",
       "      <td>C:\\Users\\PC\\OneDrive - Seagroup\\computer_vison...</td>\n",
       "      <td>[train_3342059966, train_2406599165]</td>\n",
       "      <td>daster batik lengan pendek - motif acak / camp...</td>\n",
       "    </tr>\n",
       "    <tr>\n",
       "      <th>4</th>\n",
       "      <td>train_3369186413</td>\n",
       "      <td>00136d1cf4edede0203f32f05f660588.jpg</td>\n",
       "      <td>a6f319f924ad708c</td>\n",
       "      <td>Nescafe \\xc3\\x89clair Latte 220ml</td>\n",
       "      <td>3648931069</td>\n",
       "      <td>C:\\Users\\PC\\OneDrive - Seagroup\\computer_vison...</td>\n",
       "      <td>[train_921438619, train_3369186413]</td>\n",
       "      <td>nescafe \\xc3\\x89clair latte 220ml</td>\n",
       "    </tr>\n",
       "  </tbody>\n",
       "</table>\n",
       "</div>"
      ],
      "text/plain": [
       "         posting_id                                 image       image_phash  \\\n",
       "0   train_129225211  0000a68812bc7e98c42888dfb1c07da0.jpg  94974f937d4c2433   \n",
       "1  train_3386243561  00039780dfc94d01db8676fe789ecd05.jpg  af3f9460c2838f0f   \n",
       "2  train_2288590299  000a190fdd715a2a36faed16e2c65df7.jpg  b94cb00ed3e50f78   \n",
       "3  train_2406599165  00117e4fc239b1b641ff08340b429633.jpg  8514fc58eafea283   \n",
       "4  train_3369186413  00136d1cf4edede0203f32f05f660588.jpg  a6f319f924ad708c   \n",
       "\n",
       "                                               title  label_group  \\\n",
       "0                          Paper Bag Victoria Secret    249114794   \n",
       "1  Double Tape 3M VHB 12 mm x 4,5 m ORIGINAL / DO...   2937985045   \n",
       "2        Maling TTS Canned Pork Luncheon Meat 397 gr   2395904891   \n",
       "3  Daster Batik Lengan pendek - Motif Acak / Camp...   4093212188   \n",
       "4                  Nescafe \\xc3\\x89clair Latte 220ml   3648931069   \n",
       "\n",
       "                                            filepath  \\\n",
       "0  C:\\Users\\PC\\OneDrive - Seagroup\\computer_vison...   \n",
       "1  C:\\Users\\PC\\OneDrive - Seagroup\\computer_vison...   \n",
       "2  C:\\Users\\PC\\OneDrive - Seagroup\\computer_vison...   \n",
       "3  C:\\Users\\PC\\OneDrive - Seagroup\\computer_vison...   \n",
       "4  C:\\Users\\PC\\OneDrive - Seagroup\\computer_vison...   \n",
       "\n",
       "                                 target  \\\n",
       "0   [train_129225211, train_2278313361]   \n",
       "1  [train_3386243561, train_3423213080]   \n",
       "2  [train_3803689425, train_2288590299]   \n",
       "3  [train_3342059966, train_2406599165]   \n",
       "4   [train_921438619, train_3369186413]   \n",
       "\n",
       "                                          title_edit  \n",
       "0                          paper bag victoria secret  \n",
       "1  double tape 3m vhb 12 mm x 4,5 m original / do...  \n",
       "2        maling tts canned pork luncheon meat 397 gr  \n",
       "3  daster batik lengan pendek - motif acak / camp...  \n",
       "4                  nescafe \\xc3\\x89clair latte 220ml  "
      ]
     },
     "execution_count": 2,
     "metadata": {},
     "output_type": "execute_result"
    }
   ],
   "source": [
    "# input\n",
    "df = get_data(path / 'train.csv', path_img)\n",
    "df.head()"
   ]
  },
  {
   "cell_type": "code",
   "execution_count": 3,
   "id": "1465b345-e33a-4142-b9ba-4928d1f60e32",
   "metadata": {},
   "outputs": [
    {
     "name": "stdout",
     "output_type": "stream",
     "text": [
      "Dataset Len: 34,250\n",
      "Image Shape [0]: torch.Size([3, 512, 512])\n"
     ]
    }
   ],
   "source": [
    "dataset_data = ShopeeDataset(csv=df, train=True)\n",
    "data_loader = DataLoader(dataset_data, batch_size=16, num_workers=4)\n",
    "\n",
    "print(f\"Dataset Len: {len(dataset_data):,}\\nImage Shape [0]: {dataset_data[0][0].shape}\")"
   ]
  },
  {
   "cell_type": "code",
   "execution_count": 4,
   "id": "7be653fb-a348-4a3d-bc74-27c6c17a48f4",
   "metadata": {},
   "outputs": [
    {
     "name": "stdout",
     "output_type": "stream",
     "text": [
      "image_embeddings shape: (34250, 1000)\n"
     ]
    }
   ],
   "source": [
    "model_name = 'efficientnet-b3'\n",
    "image_embeddings_path = path / f'image_embed_{model_name}.npy'\n",
    "rerun = False\n",
    "\n",
    "if rerun:\n",
    "    # Run\n",
    "    model_effnet = EfficientNet.from_name(model_name).to(device)\n",
    "\n",
    "    print(model_name, device)\n",
    "\n",
    "    embeddings = []\n",
    "    with torch.no_grad():\n",
    "        for image, label in tqdm(data_loader):\n",
    "            image = image.to(device)\n",
    "            img_embeddings = model_effnet(image)\n",
    "            img_embeddings = img_embeddings.detach().cpu().numpy()\n",
    "            embeddings.append(img_embeddings)\n",
    "    all_image_embeddings = np.concatenate(embeddings)\n",
    "\n",
    "    # Save\n",
    "    np.save(image_embeddings_path, all_image_embeddings)\n",
    "\n",
    "    # Clean memory\n",
    "    del model_effnet\n",
    "    _ = gc.collect()\n",
    "\n",
    "else:\n",
    "    # load\n",
    "    all_image_embeddings = np.load(image_embeddings_path)\n",
    "\n",
    "print(f\"image_embeddings shape: {all_image_embeddings.shape}\")"
   ]
  },
  {
   "cell_type": "code",
   "execution_count": 15,
   "id": "78d2451f-e51b-494e-83e1-6761363e942e",
   "metadata": {},
   "outputs": [
    {
     "name": "stdout",
     "output_type": "stream",
     "text": [
      "gpu\n",
      "True 34250\n"
     ]
    }
   ],
   "source": [
    "k = 10\n",
    "nb, d = all_image_embeddings.shape \n",
    "\n",
    "if res := faiss.StandardGpuResources():\n",
    "    print('gpu')\n",
    "    index_flat = faiss.IndexFlatL2(d)\n",
    "    index = faiss.index_cpu_to_gpu(res, 0, index_flat)\n",
    "    index.add(all_image_embeddings)\n",
    "else: \n",
    "    print('cpu')\n",
    "    index = faiss.IndexFlatL2(d)\n",
    "    index.add(all_image_embeddings)\n",
    "print(index.is_trained, index.ntotal)"
   ]
  },
  {
   "cell_type": "code",
   "execution_count": null,
   "id": "47e1e0f6-395f-4886-8e09-9dd7fdd6b0f6",
   "metadata": {},
   "outputs": [],
   "source": [
    "distances, indices = index.search(all_image_embeddings[3].reshape(1, -1), k)  # search"
   ]
  },
  {
   "cell_type": "code",
   "execution_count": 11,
   "id": "fbba9e47-127a-4edd-85e7-7b52c18187d6",
   "metadata": {},
   "outputs": [],
   "source": [
    "# df[['posting_id', 'filepath', 'title']].iloc[I[0]]"
   ]
  },
  {
   "cell_type": "code",
   "execution_count": 12,
   "id": "adc7c32b-c292-4bab-95b7-56b32ca23773",
   "metadata": {},
   "outputs": [],
   "source": [
    "# display_df(df[['posting_id', 'filepath', 'title']].iloc[I[0]], path_img)"
   ]
  },
  {
   "cell_type": "code",
   "execution_count": null,
   "id": "6f592397-bed3-4cd3-a9fe-099db2d93adc",
   "metadata": {},
   "outputs": [],
   "source": [
    "thresholds = list(np.arange(3.0, 5.0, 0.1))\n",
    "target = df['target'].values.tolist()\n",
    "scores, plot_check, f1_score_lst, pred_lst = {}, {}, [], {}\n",
    "\n",
    "for num in thresholds:\n",
    "    predictions = []\n",
    "    for k in range(all_image_embeddings.shape[0]):\n",
    "        idx = np.where(distances[k,] < num)[0]\n",
    "        ids = indices[k, idx]\n",
    "        predictions.append(df['posting_id'].iloc[ids].values.tolist())\n",
    "    f1_score_lst = [f1_score_cal(i, v) for i, v in zip(target, predictions)]\n",
    "\n",
    "    score = np.mean(f1_score_lst)\n",
    "    scores.update({num: score})\n",
    "    plot_check.update({num: f1_score_lst})\n",
    "    pred_lst.update({num: predictions})\n",
    "    print(f'--- F1 score for threshold {num} is {score:.3f} ---\\n')\n",
    "\n",
    "\n",
    "best_score = max(scores, key=scores.get)\n",
    "print(f'--- Best score is {round(scores[best_score], 4)} and has a threshold {best_score} ---')\n",
    "df['img_pred'] = pred_lst[best_score]\n",
    "df['f1_score'] = plot_check[best_score]"
   ]
  },
  {
   "cell_type": "code",
   "execution_count": null,
   "id": "0f3ea974-99f2-45d5-88d0-8d4f3d73f15f",
   "metadata": {},
   "outputs": [],
   "source": [
    "df['posting_id'].iloc[indices[0]]"
   ]
  },
  {
   "cell_type": "code",
   "execution_count": null,
   "id": "0834ac65-6161-44c7-82f8-1759bd50edc7",
   "metadata": {},
   "outputs": [],
   "source": []
  }
 ],
 "metadata": {
  "kernelspec": {
   "display_name": "Python 3 (ipykernel)",
   "language": "python",
   "name": "python3"
  },
  "language_info": {
   "codemirror_mode": {
    "name": "ipython",
    "version": 3
   },
   "file_extension": ".py",
   "mimetype": "text/x-python",
   "name": "python",
   "nbconvert_exporter": "python",
   "pygments_lexer": "ipython3",
   "version": "3.9.12"
  }
 },
 "nbformat": 4,
 "nbformat_minor": 5
}
