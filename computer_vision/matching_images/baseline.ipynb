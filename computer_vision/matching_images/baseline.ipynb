{
 "cells": [
  {
   "cell_type": "code",
   "execution_count": 1,
   "id": "f3a010a0-1e28-42e1-be3b-5dbe8ab3f85c",
   "metadata": {},
   "outputs": [
    {
     "name": "stdout",
     "output_type": "stream",
     "text": [
      "cuda\n"
     ]
    }
   ],
   "source": [
    "import cv2\n",
    "import matplotlib.pyplot as plt\n",
    "import seaborn as sns\n",
    "from tqdm import tqdm\n",
    "import pandas as pd\n",
    "from pathlib import Path\n",
    "from func import ShopeeDataset, device, ShopeeNet, torch, np, f1_score_cal, display_df\n",
    "from torch.utils.data import DataLoader\n",
    "from sklearn.neighbors import NearestNeighbors\n",
    "from efficientnet_pytorch import EfficientNet\n",
    "import gc\n",
    "import wandb "
   ]
  },
  {
   "cell_type": "code",
   "execution_count": 2,
   "id": "d95538fa-3b1c-423d-aa3f-0e5580286462",
   "metadata": {},
   "outputs": [
    {
     "data": {
      "text/html": [
       "<div>\n",
       "<style scoped>\n",
       "    .dataframe tbody tr th:only-of-type {\n",
       "        vertical-align: middle;\n",
       "    }\n",
       "\n",
       "    .dataframe tbody tr th {\n",
       "        vertical-align: top;\n",
       "    }\n",
       "\n",
       "    .dataframe thead th {\n",
       "        text-align: right;\n",
       "    }\n",
       "</style>\n",
       "<table border=\"1\" class=\"dataframe\">\n",
       "  <thead>\n",
       "    <tr style=\"text-align: right;\">\n",
       "      <th></th>\n",
       "      <th>posting_id</th>\n",
       "      <th>image</th>\n",
       "      <th>image_phash</th>\n",
       "      <th>title</th>\n",
       "      <th>label_group</th>\n",
       "      <th>filepath</th>\n",
       "      <th>target</th>\n",
       "    </tr>\n",
       "  </thead>\n",
       "  <tbody>\n",
       "    <tr>\n",
       "      <th>0</th>\n",
       "      <td>train_129225211</td>\n",
       "      <td>0000a68812bc7e98c42888dfb1c07da0.jpg</td>\n",
       "      <td>94974f937d4c2433</td>\n",
       "      <td>Paper Bag Victoria Secret</td>\n",
       "      <td>249114794</td>\n",
       "      <td>C:\\Users\\PC\\OneDrive - Seagroup\\computer_vison...</td>\n",
       "      <td>[train_129225211, train_2278313361]</td>\n",
       "    </tr>\n",
       "    <tr>\n",
       "      <th>1</th>\n",
       "      <td>train_3386243561</td>\n",
       "      <td>00039780dfc94d01db8676fe789ecd05.jpg</td>\n",
       "      <td>af3f9460c2838f0f</td>\n",
       "      <td>Double Tape 3M VHB 12 mm x 4,5 m ORIGINAL / DO...</td>\n",
       "      <td>2937985045</td>\n",
       "      <td>C:\\Users\\PC\\OneDrive - Seagroup\\computer_vison...</td>\n",
       "      <td>[train_3386243561, train_3423213080]</td>\n",
       "    </tr>\n",
       "    <tr>\n",
       "      <th>2</th>\n",
       "      <td>train_2288590299</td>\n",
       "      <td>000a190fdd715a2a36faed16e2c65df7.jpg</td>\n",
       "      <td>b94cb00ed3e50f78</td>\n",
       "      <td>Maling TTS Canned Pork Luncheon Meat 397 gr</td>\n",
       "      <td>2395904891</td>\n",
       "      <td>C:\\Users\\PC\\OneDrive - Seagroup\\computer_vison...</td>\n",
       "      <td>[train_2288590299, train_3803689425]</td>\n",
       "    </tr>\n",
       "    <tr>\n",
       "      <th>3</th>\n",
       "      <td>train_2406599165</td>\n",
       "      <td>00117e4fc239b1b641ff08340b429633.jpg</td>\n",
       "      <td>8514fc58eafea283</td>\n",
       "      <td>Daster Batik Lengan pendek - Motif Acak / Camp...</td>\n",
       "      <td>4093212188</td>\n",
       "      <td>C:\\Users\\PC\\OneDrive - Seagroup\\computer_vison...</td>\n",
       "      <td>[train_2406599165, train_3342059966]</td>\n",
       "    </tr>\n",
       "    <tr>\n",
       "      <th>4</th>\n",
       "      <td>train_3369186413</td>\n",
       "      <td>00136d1cf4edede0203f32f05f660588.jpg</td>\n",
       "      <td>a6f319f924ad708c</td>\n",
       "      <td>Nescafe \\xc3\\x89clair Latte 220ml</td>\n",
       "      <td>3648931069</td>\n",
       "      <td>C:\\Users\\PC\\OneDrive - Seagroup\\computer_vison...</td>\n",
       "      <td>[train_3369186413, train_921438619]</td>\n",
       "    </tr>\n",
       "  </tbody>\n",
       "</table>\n",
       "</div>"
      ],
      "text/plain": [
       "         posting_id                                 image       image_phash  \\\n",
       "0   train_129225211  0000a68812bc7e98c42888dfb1c07da0.jpg  94974f937d4c2433   \n",
       "1  train_3386243561  00039780dfc94d01db8676fe789ecd05.jpg  af3f9460c2838f0f   \n",
       "2  train_2288590299  000a190fdd715a2a36faed16e2c65df7.jpg  b94cb00ed3e50f78   \n",
       "3  train_2406599165  00117e4fc239b1b641ff08340b429633.jpg  8514fc58eafea283   \n",
       "4  train_3369186413  00136d1cf4edede0203f32f05f660588.jpg  a6f319f924ad708c   \n",
       "\n",
       "                                               title  label_group  \\\n",
       "0                          Paper Bag Victoria Secret    249114794   \n",
       "1  Double Tape 3M VHB 12 mm x 4,5 m ORIGINAL / DO...   2937985045   \n",
       "2        Maling TTS Canned Pork Luncheon Meat 397 gr   2395904891   \n",
       "3  Daster Batik Lengan pendek - Motif Acak / Camp...   4093212188   \n",
       "4                  Nescafe \\xc3\\x89clair Latte 220ml   3648931069   \n",
       "\n",
       "                                            filepath  \\\n",
       "0  C:\\Users\\PC\\OneDrive - Seagroup\\computer_vison...   \n",
       "1  C:\\Users\\PC\\OneDrive - Seagroup\\computer_vison...   \n",
       "2  C:\\Users\\PC\\OneDrive - Seagroup\\computer_vison...   \n",
       "3  C:\\Users\\PC\\OneDrive - Seagroup\\computer_vison...   \n",
       "4  C:\\Users\\PC\\OneDrive - Seagroup\\computer_vison...   \n",
       "\n",
       "                                 target  \n",
       "0   [train_129225211, train_2278313361]  \n",
       "1  [train_3386243561, train_3423213080]  \n",
       "2  [train_2288590299, train_3803689425]  \n",
       "3  [train_2406599165, train_3342059966]  \n",
       "4   [train_3369186413, train_921438619]  "
      ]
     },
     "execution_count": 2,
     "metadata": {},
     "output_type": "execute_result"
    }
   ],
   "source": [
    "path = Path.home() / 'OneDrive - Seagroup/computer_vison/shopee_item_images/'\n",
    "path_img = path / 'train_images'\n",
    "\n",
    "# input\n",
    "df = pd.read_csv(path / 'train.csv')\n",
    "\n",
    "# clean\n",
    "df['filepath'] = df['image'].map(lambda x: str(path_img / x))\n",
    "group_dicts = df.groupby('label_group')[\"posting_id\"].unique().to_dict()\n",
    "df['target'] = df[\"label_group\"].map(group_dicts)\n",
    "\n",
    "df.head()"
   ]
  },
  {
   "cell_type": "code",
   "execution_count": 3,
   "id": "a2cadd18-2b38-4a56-8b62-423376a1d4fd",
   "metadata": {},
   "outputs": [
    {
     "name": "stdout",
     "output_type": "stream",
     "text": [
      "Dataset Len: 34,250\n",
      "Image Shape [0]: torch.Size([3, 256, 256])\n"
     ]
    }
   ],
   "source": [
    "dataset_data = ShopeeDataset(csv=df, train=True)\n",
    "data_loader = DataLoader(dataset_data, batch_size=16, num_workers=4)\n",
    "\n",
    "print(f\"Dataset Len: {len(dataset_data):,}\\nImage Shape [0]: {dataset_data[0][0].shape}\")"
   ]
  },
  {
   "cell_type": "code",
   "execution_count": 4,
   "id": "3146c446-c43c-4919-82d0-0147a0f71ccb",
   "metadata": {},
   "outputs": [
    {
     "name": "stderr",
     "output_type": "stream",
     "text": [
      "\u001b[34m\u001b[1mwandb\u001b[0m: Currently logged in as: \u001b[33mkevinkhang\u001b[0m (use `wandb login --relogin` to force relogin)\n"
     ]
    },
    {
     "data": {
      "text/html": [
       "Tracking run with wandb version 0.12.11"
      ],
      "text/plain": [
       "<IPython.core.display.HTML object>"
      ]
     },
     "metadata": {},
     "output_type": "display_data"
    },
    {
     "data": {
      "text/html": [
       "Run data is saved locally in <code>C:\\Users\\PC\\PycharmProjects\\data_toolkit\\computer_vision\\matching_images\\wandb\\run-20220318_212452-1p94mdil</code>"
      ],
      "text/plain": [
       "<IPython.core.display.HTML object>"
      ]
     },
     "metadata": {},
     "output_type": "display_data"
    },
    {
     "data": {
      "text/html": [
       "Syncing run <strong><a href=\"https://wandb.ai/kevinkhang/shopee-kaggle/runs/1p94mdil\" target=\"_blank\">image_embeddings</a></strong> to <a href=\"https://wandb.ai/kevinkhang/shopee-kaggle\" target=\"_blank\">Weights & Biases</a> (<a href=\"https://wandb.me/run\" target=\"_blank\">docs</a>)<br/>"
      ],
      "text/plain": [
       "<IPython.core.display.HTML object>"
      ]
     },
     "metadata": {},
     "output_type": "display_data"
    },
    {
     "name": "stdout",
     "output_type": "stream",
     "text": [
      "efficientnet-b0 cuda\n"
     ]
    },
    {
     "name": "stderr",
     "output_type": "stream",
     "text": [
      "100%|██████████████████████████████████████████████████████████████████████████████| 2141/2141 [01:13<00:00, 29.25it/s]\n"
     ]
    },
    {
     "name": "stdout",
     "output_type": "stream",
     "text": [
      "image_embeddings shape: (34250, 1000)\n"
     ]
    }
   ],
   "source": [
    "image_embeddings_path = path / 'all_image_embeddings.npy'\n",
    "rerun = True\n",
    "\n",
    "if rerun:\n",
    "    # Run\n",
    "    wandb.init(project='shopee-kaggle', name='image_embeddings')\n",
    "\n",
    "    model_name = 'efficientnet-b0'\n",
    "    model_effnet = EfficientNet.from_name(model_name).to(device)\n",
    "\n",
    "    wandb.log({'Model': model_name})\n",
    "    print(model_name, device)\n",
    "\n",
    "    embeddings = []\n",
    "    with torch.no_grad():\n",
    "        for image, label in tqdm(data_loader):\n",
    "            image = image.to(device)\n",
    "            img_embeddings = model_effnet(image)\n",
    "            img_embeddings = img_embeddings.detach().cpu().numpy()\n",
    "            embeddings.append(img_embeddings)\n",
    "    all_image_embeddings = np.concatenate(embeddings)\n",
    "    print(f\"image_embeddings shape: {all_image_embeddings.shape}\")\n",
    "\n",
    "    # Save\n",
    "    np.save(image_embeddings_path, all_image_embeddings)\n",
    "\n",
    "    # Clean memory\n",
    "    del model_effnet\n",
    "    _ = gc.collect()\n",
    "    \n",
    "else:\n",
    "    # load\n",
    "    all_image_embeddings = np.load(image_embeddings_path)\n",
    "    \n",
    "artifact = wandb.Artifact(name='image_embeddings', type='dataset')\n",
    "artifact.add_file(image_embeddings_path)\n",
    "wandb.log_artifact(artifact)\n",
    "wandb.log({'Shape of Image embeddings': all_image_embeddings.shape})"
   ]
  },
  {
   "cell_type": "code",
   "execution_count": null,
   "id": "1fb89d25-5e42-4c4c-9d56-6d51b2eb66a8",
   "metadata": {},
   "outputs": [
    {
     "name": "stdout",
     "output_type": "stream",
     "text": [
      "Total Splits: 9\n",
      "Finding Similar Images ...\n",
      "CHUNK: 0 - 4096\n",
      "CHUNK: 4096 - 8192\n"
     ]
    }
   ],
   "source": [
    "wandb.log({\"n_neighbors\" : 50})\n",
    "\n",
    "knn_model = NearestNeighbors(n_neighbors=50)\n",
    "knn_model.fit(all_image_embeddings)\n",
    "\n",
    "# Creating the splits, to prevent memory errors\n",
    "predictions = []\n",
    "CHUNK = 1024 * 4  ### 4096\n",
    "\n",
    "SPLITS = len(all_image_embeddings) // CHUNK\n",
    "if len(all_image_embeddings) % CHUNK != 0: SPLITS += 1\n",
    "print(f'Total Splits: {SPLITS}')\n",
    "\n",
    "# Making the prediction\n",
    "print('Finding Similar Images ...')\n",
    "for no in range(SPLITS):\n",
    "    a = no * CHUNK\n",
    "    b = min((no + 1) * CHUNK, len(all_image_embeddings))\n",
    "    print(f'CHUNK: {a} - {b}')\n",
    "    \n",
    "    distances, indices = knn_model.kneighbors(all_image_embeddings[a:b,])\n",
    "    \n",
    "    for k in range(b-a):\n",
    "        index = np.where(distances[k, ] < 6.0)[0]\n",
    "        split = indices[k, index]\n",
    "        pred = df.iloc[split]['posting_id'].values.tolist()\n",
    "        predictions.append(pred)\n",
    "\n",
    "        \n",
    "# Clean environment\n",
    "del knn_model, distances\n",
    "_ = gc.collect()"
   ]
  },
  {
   "cell_type": "code",
   "execution_count": null,
   "id": "cc79ab4b-ad91-48a7-ad4e-cbcacd7aa547",
   "metadata": {},
   "outputs": [],
   "source": [
    "df['img_pred'] = predictions\n",
    "df.head()"
   ]
  },
  {
   "cell_type": "code",
   "execution_count": null,
   "id": "2e54ecc5-f71c-4ad0-98df-cb6c12e53743",
   "metadata": {},
   "outputs": [],
   "source": [
    "df['f1_score'] = [f1_score_cal(i, v) for i, v in df[['target', 'img_pred']].values]\n",
    "print(f\"CV score for baseline = {df['f1_score'].mean():.3f}\")"
   ]
  },
  {
   "cell_type": "code",
   "execution_count": null,
   "id": "8256a80f-6b96-4709-9f93-c9dadb1c1220",
   "metadata": {},
   "outputs": [],
   "source": [
    "plt.figure(figsize = (20, 6))\n",
    "\n",
    "plot = sns.kdeplot(x = df[\"f1_score\"])\n",
    "plt.title(\"f1_score Distribution\", fontsize=20)\n",
    "plt.xlabel(\"f1_score\", fontsize=15)\n",
    "plt.ylabel(\"\")"
   ]
  },
  {
   "cell_type": "code",
   "execution_count": null,
   "id": "01f9acfd-1105-4ac9-8f3c-0dfb779c4571",
   "metadata": {},
   "outputs": [],
   "source": [
    "custom_data = [[s] for s in df['f1_score']]\n",
    "table = wandb.Table(data=custom_data, columns=[\"f1_score\"])\n",
    "wandb.log({'f1_hist': wandb.plot.histogram(table, \"f1_score\", title=\"f1_score Distribution\")})\n",
    "wandb.finish()"
   ]
  },
  {
   "cell_type": "code",
   "execution_count": null,
   "id": "1888e4fb-fbb3-49c7-b58f-3964708b042c",
   "metadata": {},
   "outputs": [],
   "source": [
    "test_id = 'train_3386243561'\n",
    "tmp = pd.DataFrame(df.query(f'posting_id == \"{test_id}\"')['img_pred'].item(), columns=['posting_id'])\n",
    "tmp = tmp.merge(df[['posting_id', 'filepath', 'title']], how='left')\n",
    "\n",
    "display_df(tmp, path_img)"
   ]
  },
  {
   "cell_type": "code",
   "execution_count": null,
   "id": "cc1a5594-a443-4d84-a3fb-db42a335cfe8",
   "metadata": {},
   "outputs": [],
   "source": [
    "tmp"
   ]
  },
  {
   "cell_type": "code",
   "execution_count": null,
   "id": "5e5afcac-93c6-4fd7-bae5-af96332ae1af",
   "metadata": {},
   "outputs": [],
   "source": []
  }
 ],
 "metadata": {
  "kernelspec": {
   "display_name": "Python 3 (ipykernel)",
   "language": "python",
   "name": "python3"
  },
  "language_info": {
   "codemirror_mode": {
    "name": "ipython",
    "version": 3
   },
   "file_extension": ".py",
   "mimetype": "text/x-python",
   "name": "python",
   "nbconvert_exporter": "python",
   "pygments_lexer": "ipython3",
   "version": "3.9.7"
  }
 },
 "nbformat": 4,
 "nbformat_minor": 5
}
