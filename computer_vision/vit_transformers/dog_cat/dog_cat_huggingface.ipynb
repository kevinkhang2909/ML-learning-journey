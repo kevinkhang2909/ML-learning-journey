{
 "cells": [
  {
   "cell_type": "code",
   "execution_count": 1,
   "metadata": {
    "collapsed": false,
    "jupyter": {
     "outputs_hidden": false
    }
   },
   "outputs": [],
   "source": [
    "from transformers import ViTFeatureExtractor, ViTForImageClassification, TrainingArguments, Trainer\n",
    "from datasets import load_dataset\n",
    "from torch.utils.data import default_collate\n",
    "from evaluate import load\n",
    "from pathlib import Path\n",
    "import numpy as np"
   ]
  },
  {
   "cell_type": "code",
   "execution_count": 2,
   "metadata": {
    "collapsed": false,
    "jupyter": {
     "outputs_hidden": false
    }
   },
   "outputs": [],
   "source": [
    "def compute_metrics(p):\n",
    "    metric = load(\"accuracy\")\n",
    "    return metric.compute(predictions=np.argmax(p.predictions, axis=1), references=p.label_ids)\n",
    "\n",
    "\n",
    "def transforms(example_batch):\n",
    "    inputs = feature_extractor([x for x in example_batch['image']], return_tensors='pt')\n",
    "    inputs['labels'] = example_batch['label']\n",
    "    return inputs"
   ]
  },
  {
   "cell_type": "code",
   "execution_count": 3,
   "metadata": {
    "collapsed": false,
    "jupyter": {
     "outputs_hidden": false
    }
   },
   "outputs": [
    {
     "data": {
      "application/vnd.jupyter.widget-view+json": {
       "model_id": "20fa2ef784fb41a1aa960cabf15d12d4",
       "version_major": 2,
       "version_minor": 0
      },
      "text/plain": [
       "Resolving data files:   0%|          | 0/25000 [00:00<?, ?it/s]"
      ]
     },
     "metadata": {},
     "output_type": "display_data"
    },
    {
     "name": "stderr",
     "output_type": "stream",
     "text": [
      "Using custom data configuration default-d5564b158da7eecc\n",
      "Found cached dataset imagefolder (C:/Users/Kevin/.cache/huggingface/datasets/imagefolder/default-d5564b158da7eecc/0.0.0/37fbb85cc714a338bea574ac6c7d0b5be5aff46c1862c1989b20e0771199e93f)\n"
     ]
    }
   ],
   "source": [
    "# Input\n",
    "model_name = 'google/vit-base-patch16-224-in21k'\n",
    "feature_extractor = ViTFeatureExtractor.from_pretrained(model_name)\n",
    "\n",
    "path_train = Path.home() / 'Desktop/dogs-vs-cats/train'\n",
    "dataset_train = load_dataset(\"imagefolder\", data_dir=str(path_train), split='train')\n",
    "splits = dataset_train.train_test_split(test_size=0.2)\n",
    "dataset_test_valid = splits['test'].train_test_split(test_size=0.5)\n",
    "\n",
    "# Set the train and validation data\n",
    "train_data, val_data = splits['train'], dataset_test_valid['train']\n",
    "train_data.set_transform(transforms)\n",
    "val_data.set_transform(transforms)\n",
    "\n",
    "# Set the test data\n",
    "test_data = dataset_test_valid['test']\n",
    "test_data.set_transform(transforms)"
   ]
  },
  {
   "cell_type": "code",
   "execution_count": 4,
   "metadata": {
    "collapsed": false,
    "jupyter": {
     "outputs_hidden": false
    },
    "pycharm": {
     "is_executing": true
    }
   },
   "outputs": [
    {
     "name": "stderr",
     "output_type": "stream",
     "text": [
      "Some weights of the model checkpoint at google/vit-base-patch16-224-in21k were not used when initializing ViTForImageClassification: ['pooler.dense.weight', 'pooler.dense.bias']\n",
      "- This IS expected if you are initializing ViTForImageClassification from the checkpoint of a model trained on another task or with another architecture (e.g. initializing a BertForSequenceClassification model from a BertForPreTraining model).\n",
      "- This IS NOT expected if you are initializing ViTForImageClassification from the checkpoint of a model that you expect to be exactly identical (initializing a BertForSequenceClassification model from a BertForSequenceClassification model).\n",
      "Some weights of ViTForImageClassification were not initialized from the model checkpoint at google/vit-base-patch16-224-in21k and are newly initialized: ['classifier.weight', 'classifier.bias']\n",
      "You should probably TRAIN this model on a down-stream task to be able to use it for predictions and inference.\n",
      "Using cuda_amp half precision backend\n",
      "C:\\Users\\Kevin\\miniconda3\\envs\\nlp\\lib\\site-packages\\transformers\\optimization.py:306: FutureWarning: This implementation of AdamW is deprecated and will be removed in a future version. Use the PyTorch implementation torch.optim.AdamW instead, or set `no_deprecation_warning=True` to disable this warning\n",
      "  warnings.warn(\n",
      "***** Running training *****\n",
      "  Num examples = 20000\n",
      "  Num Epochs = 3\n",
      "  Instantaneous batch size per device = 32\n",
      "  Total train batch size (w. parallel, distributed & accumulation) = 32\n",
      "  Gradient Accumulation steps = 1\n",
      "  Total optimization steps = 1875\n",
      "  Number of trainable parameters = 85800194\n",
      "Automatic Weights & Biases logging enabled, to disable set os.environ[\"WANDB_DISABLED\"] = \"true\"\n",
      "\u001b[34m\u001b[1mwandb\u001b[0m: Currently logged in as: \u001b[33mkevinkhang\u001b[0m. Use \u001b[1m`wandb login --relogin`\u001b[0m to force relogin\n"
     ]
    },
    {
     "data": {
      "text/html": [
       "wandb version 0.13.7 is available!  To upgrade, please run:\n",
       " $ pip install wandb --upgrade"
      ],
      "text/plain": [
       "<IPython.core.display.HTML object>"
      ]
     },
     "metadata": {},
     "output_type": "display_data"
    },
    {
     "data": {
      "text/html": [
       "Tracking run with wandb version 0.13.5"
      ],
      "text/plain": [
       "<IPython.core.display.HTML object>"
      ]
     },
     "metadata": {},
     "output_type": "display_data"
    },
    {
     "data": {
      "text/html": [
       "Run data is saved locally in <code>C:\\Users\\Kevin\\PycharmProjects\\data_toolkit\\computer_vision\\vit_transformers\\dog_cat\\wandb\\run-20221219_095158-3nxorfhh</code>"
      ],
      "text/plain": [
       "<IPython.core.display.HTML object>"
      ]
     },
     "metadata": {},
     "output_type": "display_data"
    },
    {
     "data": {
      "text/html": [
       "Syncing run <strong><a href=\"https://wandb.ai/kevinkhang/huggingface/runs/3nxorfhh\" target=\"_blank\">./vit_dog_cat</a></strong> to <a href=\"https://wandb.ai/kevinkhang/huggingface\" target=\"_blank\">Weights & Biases</a> (<a href=\"https://wandb.me/run\" target=\"_blank\">docs</a>)<br/>"
      ],
      "text/plain": [
       "<IPython.core.display.HTML object>"
      ]
     },
     "metadata": {},
     "output_type": "display_data"
    },
    {
     "data": {
      "text/html": [
       "\n",
       "    <div>\n",
       "      \n",
       "      <progress value='1875' max='1875' style='width:300px; height:20px; vertical-align: middle;'></progress>\n",
       "      [1875/1875 14:07, Epoch 3/3]\n",
       "    </div>\n",
       "    <table border=\"1\" class=\"dataframe\">\n",
       "  <thead>\n",
       " <tr style=\"text-align: left;\">\n",
       "      <th>Step</th>\n",
       "      <th>Training Loss</th>\n",
       "      <th>Validation Loss</th>\n",
       "      <th>Accuracy</th>\n",
       "    </tr>\n",
       "  </thead>\n",
       "  <tbody>\n",
       "    <tr>\n",
       "      <td>100</td>\n",
       "      <td>0.042300</td>\n",
       "      <td>0.094767</td>\n",
       "      <td>0.969600</td>\n",
       "    </tr>\n",
       "    <tr>\n",
       "      <td>200</td>\n",
       "      <td>0.120400</td>\n",
       "      <td>0.052264</td>\n",
       "      <td>0.986400</td>\n",
       "    </tr>\n",
       "    <tr>\n",
       "      <td>300</td>\n",
       "      <td>0.031500</td>\n",
       "      <td>0.055145</td>\n",
       "      <td>0.984000</td>\n",
       "    </tr>\n",
       "    <tr>\n",
       "      <td>400</td>\n",
       "      <td>0.072600</td>\n",
       "      <td>0.081907</td>\n",
       "      <td>0.968800</td>\n",
       "    </tr>\n",
       "    <tr>\n",
       "      <td>500</td>\n",
       "      <td>0.073600</td>\n",
       "      <td>0.068410</td>\n",
       "      <td>0.977600</td>\n",
       "    </tr>\n",
       "    <tr>\n",
       "      <td>600</td>\n",
       "      <td>0.075100</td>\n",
       "      <td>0.047189</td>\n",
       "      <td>0.986800</td>\n",
       "    </tr>\n",
       "    <tr>\n",
       "      <td>700</td>\n",
       "      <td>0.010400</td>\n",
       "      <td>0.045716</td>\n",
       "      <td>0.986400</td>\n",
       "    </tr>\n",
       "    <tr>\n",
       "      <td>800</td>\n",
       "      <td>0.025300</td>\n",
       "      <td>0.046584</td>\n",
       "      <td>0.987200</td>\n",
       "    </tr>\n",
       "    <tr>\n",
       "      <td>900</td>\n",
       "      <td>0.062700</td>\n",
       "      <td>0.046796</td>\n",
       "      <td>0.985200</td>\n",
       "    </tr>\n",
       "    <tr>\n",
       "      <td>1000</td>\n",
       "      <td>0.012600</td>\n",
       "      <td>0.062417</td>\n",
       "      <td>0.982800</td>\n",
       "    </tr>\n",
       "    <tr>\n",
       "      <td>1100</td>\n",
       "      <td>0.019000</td>\n",
       "      <td>0.055083</td>\n",
       "      <td>0.983600</td>\n",
       "    </tr>\n",
       "    <tr>\n",
       "      <td>1200</td>\n",
       "      <td>0.003800</td>\n",
       "      <td>0.039080</td>\n",
       "      <td>0.988800</td>\n",
       "    </tr>\n",
       "    <tr>\n",
       "      <td>1300</td>\n",
       "      <td>0.001000</td>\n",
       "      <td>0.051373</td>\n",
       "      <td>0.985200</td>\n",
       "    </tr>\n",
       "    <tr>\n",
       "      <td>1400</td>\n",
       "      <td>0.001000</td>\n",
       "      <td>0.042594</td>\n",
       "      <td>0.988800</td>\n",
       "    </tr>\n",
       "    <tr>\n",
       "      <td>1500</td>\n",
       "      <td>0.000700</td>\n",
       "      <td>0.043014</td>\n",
       "      <td>0.989600</td>\n",
       "    </tr>\n",
       "    <tr>\n",
       "      <td>1600</td>\n",
       "      <td>0.000700</td>\n",
       "      <td>0.036632</td>\n",
       "      <td>0.990000</td>\n",
       "    </tr>\n",
       "    <tr>\n",
       "      <td>1700</td>\n",
       "      <td>0.000600</td>\n",
       "      <td>0.035108</td>\n",
       "      <td>0.990400</td>\n",
       "    </tr>\n",
       "    <tr>\n",
       "      <td>1800</td>\n",
       "      <td>0.022000</td>\n",
       "      <td>0.035818</td>\n",
       "      <td>0.990400</td>\n",
       "    </tr>\n",
       "  </tbody>\n",
       "</table><p>"
      ],
      "text/plain": [
       "<IPython.core.display.HTML object>"
      ]
     },
     "metadata": {},
     "output_type": "display_data"
    },
    {
     "name": "stderr",
     "output_type": "stream",
     "text": [
      "***** Running Evaluation *****\n",
      "  Num examples = 2500\n",
      "  Batch size = 8\n",
      "Saving model checkpoint to ./vit_dog_cat\\checkpoint-100\n",
      "Configuration saved in ./vit_dog_cat\\checkpoint-100\\config.json\n",
      "Model weights saved in ./vit_dog_cat\\checkpoint-100\\pytorch_model.bin\n",
      "Feature extractor saved in ./vit_dog_cat\\checkpoint-100\\preprocessor_config.json\n",
      "Deleting older checkpoint [vit_dog_cat\\checkpoint-1000] due to args.save_total_limit\n",
      "***** Running Evaluation *****\n",
      "  Num examples = 2500\n",
      "  Batch size = 8\n",
      "Saving model checkpoint to ./vit_dog_cat\\checkpoint-200\n",
      "Configuration saved in ./vit_dog_cat\\checkpoint-200\\config.json\n",
      "Model weights saved in ./vit_dog_cat\\checkpoint-200\\pytorch_model.bin\n",
      "Feature extractor saved in ./vit_dog_cat\\checkpoint-200\\preprocessor_config.json\n",
      "Deleting older checkpoint [vit_dog_cat\\checkpoint-2000] due to args.save_total_limit\n",
      "***** Running Evaluation *****\n",
      "  Num examples = 2500\n",
      "  Batch size = 8\n",
      "Saving model checkpoint to ./vit_dog_cat\\checkpoint-300\n",
      "Configuration saved in ./vit_dog_cat\\checkpoint-300\\config.json\n",
      "Model weights saved in ./vit_dog_cat\\checkpoint-300\\pytorch_model.bin\n",
      "Feature extractor saved in ./vit_dog_cat\\checkpoint-300\\preprocessor_config.json\n",
      "Deleting older checkpoint [vit_dog_cat\\checkpoint-100] due to args.save_total_limit\n",
      "***** Running Evaluation *****\n",
      "  Num examples = 2500\n",
      "  Batch size = 8\n",
      "Saving model checkpoint to ./vit_dog_cat\\checkpoint-400\n",
      "Configuration saved in ./vit_dog_cat\\checkpoint-400\\config.json\n",
      "Model weights saved in ./vit_dog_cat\\checkpoint-400\\pytorch_model.bin\n",
      "Feature extractor saved in ./vit_dog_cat\\checkpoint-400\\preprocessor_config.json\n",
      "Deleting older checkpoint [vit_dog_cat\\checkpoint-300] due to args.save_total_limit\n",
      "***** Running Evaluation *****\n",
      "  Num examples = 2500\n",
      "  Batch size = 8\n",
      "Saving model checkpoint to ./vit_dog_cat\\checkpoint-500\n",
      "Configuration saved in ./vit_dog_cat\\checkpoint-500\\config.json\n",
      "Model weights saved in ./vit_dog_cat\\checkpoint-500\\pytorch_model.bin\n",
      "Feature extractor saved in ./vit_dog_cat\\checkpoint-500\\preprocessor_config.json\n",
      "Deleting older checkpoint [vit_dog_cat\\checkpoint-400] due to args.save_total_limit\n",
      "***** Running Evaluation *****\n",
      "  Num examples = 2500\n",
      "  Batch size = 8\n",
      "Saving model checkpoint to ./vit_dog_cat\\checkpoint-600\n",
      "Configuration saved in ./vit_dog_cat\\checkpoint-600\\config.json\n",
      "Model weights saved in ./vit_dog_cat\\checkpoint-600\\pytorch_model.bin\n",
      "Feature extractor saved in ./vit_dog_cat\\checkpoint-600\\preprocessor_config.json\n",
      "Deleting older checkpoint [vit_dog_cat\\checkpoint-200] due to args.save_total_limit\n",
      "***** Running Evaluation *****\n",
      "  Num examples = 2500\n",
      "  Batch size = 8\n",
      "Saving model checkpoint to ./vit_dog_cat\\checkpoint-700\n",
      "Configuration saved in ./vit_dog_cat\\checkpoint-700\\config.json\n",
      "Model weights saved in ./vit_dog_cat\\checkpoint-700\\pytorch_model.bin\n",
      "Feature extractor saved in ./vit_dog_cat\\checkpoint-700\\preprocessor_config.json\n",
      "Deleting older checkpoint [vit_dog_cat\\checkpoint-500] due to args.save_total_limit\n",
      "***** Running Evaluation *****\n",
      "  Num examples = 2500\n",
      "  Batch size = 8\n",
      "Saving model checkpoint to ./vit_dog_cat\\checkpoint-800\n",
      "Configuration saved in ./vit_dog_cat\\checkpoint-800\\config.json\n",
      "Model weights saved in ./vit_dog_cat\\checkpoint-800\\pytorch_model.bin\n",
      "Feature extractor saved in ./vit_dog_cat\\checkpoint-800\\preprocessor_config.json\n",
      "Deleting older checkpoint [vit_dog_cat\\checkpoint-600] due to args.save_total_limit\n",
      "***** Running Evaluation *****\n",
      "  Num examples = 2500\n",
      "  Batch size = 8\n",
      "Saving model checkpoint to ./vit_dog_cat\\checkpoint-900\n",
      "Configuration saved in ./vit_dog_cat\\checkpoint-900\\config.json\n",
      "Model weights saved in ./vit_dog_cat\\checkpoint-900\\pytorch_model.bin\n",
      "Feature extractor saved in ./vit_dog_cat\\checkpoint-900\\preprocessor_config.json\n",
      "Deleting older checkpoint [vit_dog_cat\\checkpoint-800] due to args.save_total_limit\n",
      "***** Running Evaluation *****\n",
      "  Num examples = 2500\n",
      "  Batch size = 8\n",
      "Saving model checkpoint to ./vit_dog_cat\\checkpoint-1000\n",
      "Configuration saved in ./vit_dog_cat\\checkpoint-1000\\config.json\n",
      "Model weights saved in ./vit_dog_cat\\checkpoint-1000\\pytorch_model.bin\n",
      "Feature extractor saved in ./vit_dog_cat\\checkpoint-1000\\preprocessor_config.json\n",
      "Deleting older checkpoint [vit_dog_cat\\checkpoint-900] due to args.save_total_limit\n",
      "***** Running Evaluation *****\n",
      "  Num examples = 2500\n",
      "  Batch size = 8\n",
      "Saving model checkpoint to ./vit_dog_cat\\checkpoint-1100\n",
      "Configuration saved in ./vit_dog_cat\\checkpoint-1100\\config.json\n",
      "Model weights saved in ./vit_dog_cat\\checkpoint-1100\\pytorch_model.bin\n",
      "Feature extractor saved in ./vit_dog_cat\\checkpoint-1100\\preprocessor_config.json\n",
      "Deleting older checkpoint [vit_dog_cat\\checkpoint-1000] due to args.save_total_limit\n",
      "***** Running Evaluation *****\n",
      "  Num examples = 2500\n",
      "  Batch size = 8\n",
      "Saving model checkpoint to ./vit_dog_cat\\checkpoint-1200\n",
      "Configuration saved in ./vit_dog_cat\\checkpoint-1200\\config.json\n",
      "Model weights saved in ./vit_dog_cat\\checkpoint-1200\\pytorch_model.bin\n",
      "Feature extractor saved in ./vit_dog_cat\\checkpoint-1200\\preprocessor_config.json\n",
      "Deleting older checkpoint [vit_dog_cat\\checkpoint-700] due to args.save_total_limit\n",
      "***** Running Evaluation *****\n",
      "  Num examples = 2500\n",
      "  Batch size = 8\n",
      "Saving model checkpoint to ./vit_dog_cat\\checkpoint-1300\n",
      "Configuration saved in ./vit_dog_cat\\checkpoint-1300\\config.json\n",
      "Model weights saved in ./vit_dog_cat\\checkpoint-1300\\pytorch_model.bin\n",
      "Feature extractor saved in ./vit_dog_cat\\checkpoint-1300\\preprocessor_config.json\n",
      "Deleting older checkpoint [vit_dog_cat\\checkpoint-1100] due to args.save_total_limit\n",
      "***** Running Evaluation *****\n",
      "  Num examples = 2500\n",
      "  Batch size = 8\n",
      "Saving model checkpoint to ./vit_dog_cat\\checkpoint-1400\n",
      "Configuration saved in ./vit_dog_cat\\checkpoint-1400\\config.json\n",
      "Model weights saved in ./vit_dog_cat\\checkpoint-1400\\pytorch_model.bin\n",
      "Feature extractor saved in ./vit_dog_cat\\checkpoint-1400\\preprocessor_config.json\n",
      "Deleting older checkpoint [vit_dog_cat\\checkpoint-1300] due to args.save_total_limit\n",
      "***** Running Evaluation *****\n",
      "  Num examples = 2500\n",
      "  Batch size = 8\n",
      "Saving model checkpoint to ./vit_dog_cat\\checkpoint-1500\n",
      "Configuration saved in ./vit_dog_cat\\checkpoint-1500\\config.json\n",
      "Model weights saved in ./vit_dog_cat\\checkpoint-1500\\pytorch_model.bin\n",
      "Feature extractor saved in ./vit_dog_cat\\checkpoint-1500\\preprocessor_config.json\n",
      "Deleting older checkpoint [vit_dog_cat\\checkpoint-1400] due to args.save_total_limit\n",
      "***** Running Evaluation *****\n",
      "  Num examples = 2500\n",
      "  Batch size = 8\n",
      "Saving model checkpoint to ./vit_dog_cat\\checkpoint-1600\n",
      "Configuration saved in ./vit_dog_cat\\checkpoint-1600\\config.json\n",
      "Model weights saved in ./vit_dog_cat\\checkpoint-1600\\pytorch_model.bin\n",
      "Feature extractor saved in ./vit_dog_cat\\checkpoint-1600\\preprocessor_config.json\n",
      "Deleting older checkpoint [vit_dog_cat\\checkpoint-1200] due to args.save_total_limit\n",
      "***** Running Evaluation *****\n",
      "  Num examples = 2500\n",
      "  Batch size = 8\n",
      "Saving model checkpoint to ./vit_dog_cat\\checkpoint-1700\n",
      "Configuration saved in ./vit_dog_cat\\checkpoint-1700\\config.json\n",
      "Model weights saved in ./vit_dog_cat\\checkpoint-1700\\pytorch_model.bin\n",
      "Feature extractor saved in ./vit_dog_cat\\checkpoint-1700\\preprocessor_config.json\n",
      "Deleting older checkpoint [vit_dog_cat\\checkpoint-1500] due to args.save_total_limit\n",
      "***** Running Evaluation *****\n",
      "  Num examples = 2500\n",
      "  Batch size = 8\n",
      "Saving model checkpoint to ./vit_dog_cat\\checkpoint-1800\n",
      "Configuration saved in ./vit_dog_cat\\checkpoint-1800\\config.json\n",
      "Model weights saved in ./vit_dog_cat\\checkpoint-1800\\pytorch_model.bin\n",
      "Feature extractor saved in ./vit_dog_cat\\checkpoint-1800\\preprocessor_config.json\n",
      "Deleting older checkpoint [vit_dog_cat\\checkpoint-1600] due to args.save_total_limit\n",
      "\n",
      "\n",
      "Training completed. Do not forget to share your model on huggingface.co/models =)\n",
      "\n",
      "\n",
      "Loading best model from ./vit_dog_cat\\checkpoint-1700 (score: 0.035107988864183426).\n",
      "Saving model checkpoint to ./vit_dog_cat\n",
      "Configuration saved in ./vit_dog_cat\\config.json\n",
      "Model weights saved in ./vit_dog_cat\\pytorch_model.bin\n",
      "Feature extractor saved in ./vit_dog_cat\\preprocessor_config.json\n"
     ]
    },
    {
     "name": "stdout",
     "output_type": "stream",
     "text": [
      "***** train metrics *****\n",
      "  epoch                    =          3.0\n",
      "  total_flos               = 4330202356GF\n",
      "  train_loss               =       0.0331\n",
      "  train_runtime            =   0:14:13.74\n",
      "  train_samples_per_second =       70.279\n",
      "  train_steps_per_second   =        2.196\n"
     ]
    }
   ],
   "source": [
    "# Model\n",
    "labels = {'cat': 0, 'dog': 1}\n",
    "model = ViTForImageClassification.from_pretrained(\n",
    "    model_name,\n",
    "    num_labels=len(labels),\n",
    "    id2label={str(i): c for i, c in enumerate(labels)},\n",
    "    label2id={c: str(i) for i, c in enumerate(labels)}\n",
    ")\n",
    "\n",
    "# Train\n",
    "training_args = TrainingArguments(\n",
    "    output_dir=\"./vit_dog_cat\",\n",
    "    per_device_train_batch_size=32,\n",
    "    evaluation_strategy=\"steps\",\n",
    "    num_train_epochs=3,\n",
    "    fp16=True,\n",
    "    save_steps=100,\n",
    "    eval_steps=100,\n",
    "    logging_steps=10,\n",
    "    learning_rate=2e-4,\n",
    "    save_total_limit=2,\n",
    "    remove_unused_columns=False,\n",
    "    push_to_hub=False,\n",
    "    load_best_model_at_end=True,\n",
    ")\n",
    "\n",
    "trainer = Trainer(\n",
    "    model=model,\n",
    "    args=training_args,\n",
    "    data_collator=default_collate,\n",
    "    compute_metrics=compute_metrics,\n",
    "    train_dataset=train_data,\n",
    "    eval_dataset=val_data,\n",
    "    tokenizer=feature_extractor,\n",
    ")\n",
    "\n",
    "train_results = trainer.train()\n",
    "trainer.save_model()\n",
    "trainer.log_metrics(\"train\", train_results.metrics)\n",
    "trainer.save_metrics(\"train\", train_results.metrics)\n",
    "trainer.save_state()"
   ]
  },
  {
   "cell_type": "code",
   "execution_count": null,
   "metadata": {
    "collapsed": false,
    "jupyter": {
     "outputs_hidden": false
    }
   },
   "outputs": [],
   "source": []
  }
 ],
 "metadata": {
  "kernelspec": {
   "display_name": "Python 3 (ipykernel)",
   "language": "python",
   "name": "python3"
  },
  "language_info": {
   "codemirror_mode": {
    "name": "ipython",
    "version": 3
   },
   "file_extension": ".py",
   "mimetype": "text/x-python",
   "name": "python",
   "nbconvert_exporter": "python",
   "pygments_lexer": "ipython3",
   "version": "3.10.8"
  }
 },
 "nbformat": 4,
 "nbformat_minor": 4
}
