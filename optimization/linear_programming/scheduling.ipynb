{
 "cells": [
  {
   "cell_type": "markdown",
   "id": "4f69ac6b-61fc-4c1d-a2ee-afdd4a4b0877",
   "metadata": {},
   "source": [
    "# Motivation\n",
    "Companies need to assign people and resources to tasks at specific times. Schedule employees in multiple shifts, subject to a complex set of constraints and staffing requirements.\n",
    "\n",
    "# Introduction to PuLP\n",
    "Linear programming (LP) is one of the best methods to find optimal solutions for problems with constraints like the above. PuLP is a Python library that makes it easy to apply linear programming using Python."
   ]
  },
  {
   "cell_type": "code",
   "execution_count": 1,
   "id": "ffac3474-3898-4c1b-b89c-45d3c13cf460",
   "metadata": {},
   "outputs": [],
   "source": [
    "import pandas as pd\n",
    "import pulp\n",
    "from itertools import product\n",
    "from termcolor import colored"
   ]
  },
  {
   "cell_type": "code",
   "execution_count": 2,
   "id": "2e431fce-d0c5-4dc0-99f7-1258f5ebacb9",
   "metadata": {},
   "outputs": [
    {
     "data": {
      "text/plain": "{'day': [2, 3, 4, 5, 6, 7, 8],\n 'employee': ['A', 'B', 'C', 'D'],\n 'shift': ['S1', 'S2'],\n 'S1': 2,\n 'S2': 1,\n 'each employee have to work (day)': 5}"
     },
     "execution_count": 2,
     "metadata": {},
     "output_type": "execute_result"
    }
   ],
   "source": [
    "d = {\n",
    "    'day': [2, 3, 4, 5, 6, 7, 8],\n",
    "    'employee': ['A', 'B', 'C', 'D'],\n",
    "    'shift': ['S1', 'S2'],\n",
    "    'S1': 2,\n",
    "    'S2': 1,\n",
    "    'each employee have to work (day)': 5\n",
    "}\n",
    "\n",
    "d"
   ]
  },
  {
   "cell_type": "markdown",
   "id": "c14c9062-9014-4dca-806a-047ec36d8e0c",
   "metadata": {},
   "source": [
    "## Transform into pulp library"
   ]
  },
  {
   "cell_type": "code",
   "execution_count": 3,
   "id": "ab794d5a-f9fc-46cb-a6b6-a7940094f7f2",
   "metadata": {},
   "outputs": [
    {
     "data": {
      "text/plain": "[(2, 'S1', 'A'), (2, 'S1', 'B'), (2, 'S1', 'C')]"
     },
     "execution_count": 3,
     "metadata": {},
     "output_type": "execute_result"
    }
   ],
   "source": [
    "# dynamic variables\n",
    "lst = [(d, s, e) for d, s, e in product(d['day'], d['shift'], d['employee'])]\n",
    "lst[:3]"
   ]
  },
  {
   "cell_type": "code",
   "execution_count": 4,
   "id": "9d3108cc-e807-43b5-b960-c0bc6566b4dc",
   "metadata": {},
   "outputs": [],
   "source": [
    "# minimize problem\n",
    "x = pulp.LpVariable.dicts(\"x\", lst, cat='Binary')\n",
    "model = pulp.LpProblem(\"scheduling\", pulp.LpMinimize)\n",
    "\n",
    "# objective\n",
    "model += sum([x[i]for i in lst])\n",
    "\n",
    "# shift per day\n",
    "for day in d['day']:\n",
    "    if day in [2, 3, 4, 5, 6]:\n",
    "        for s in d['shift']:\n",
    "            model += sum(x[i] for i in lst if {s, day} <= set(i)) >= d[s]\n",
    "\n",
    "# total working days\n",
    "for e in d['employee']:\n",
    "    model += sum(x[i] for i in lst if {e} <= set(i)) == 5\n",
    "\n",
    "# only work 1 shift per pax\n",
    "for day in d['day']:\n",
    "    for e in d['employee']:\n",
    "        model += sum(x[i] for i in lst if {e, 'S1', day} <= set(i) or {e, 'S2', day} <= set(i)) <= 1"
   ]
  },
  {
   "cell_type": "markdown",
   "id": "2c42b30b-ba9e-4e30-93f6-107a6ca6563f",
   "metadata": {},
   "source": [
    "You can double check what you have written to your model as aligned with your fomulation"
   ]
  },
  {
   "cell_type": "code",
   "execution_count": 5,
   "id": "b7bb8015-af93-4b5c-87cd-f70be625e840",
   "metadata": {},
   "outputs": [
    {
     "data": {
      "text/plain": "scheduling:\nMINIMIZE\n1*x_(2,_'S1',_'A') + 1*x_(2,_'S1',_'B') + 1*x_(2,_'S1',_'C') + 1*x_(2,_'S1',_'D') + 1*x_(2,_'S2',_'A') + 1*x_(2,_'S2',_'B') + 1*x_(2,_'S2',_'C') + 1*x_(2,_'S2',_'D') + 1*x_(3,_'S1',_'A') + 1*x_(3,_'S1',_'B') + 1*x_(3,_'S1',_'C') + 1*x_(3,_'S1',_'D') + 1*x_(3,_'S2',_'A') + 1*x_(3,_'S2',_'B') + 1*x_(3,_'S2',_'C') + 1*x_(3,_'S2',_'D') + 1*x_(4,_'S1',_'A') + 1*x_(4,_'S1',_'B') + 1*x_(4,_'S1',_'C') + 1*x_(4,_'S1',_'D') + 1*x_(4,_'S2',_'A') + 1*x_(4,_'S2',_'B') + 1*x_(4,_'S2',_'C') + 1*x_(4,_'S2',_'D') + 1*x_(5,_'S1',_'A') + 1*x_(5,_'S1',_'B') + 1*x_(5,_'S1',_'C') + 1*x_(5,_'S1',_'D') + 1*x_(5,_'S2',_'A') + 1*x_(5,_'S2',_'B') + 1*x_(5,_'S2',_'C') + 1*x_(5,_'S2',_'D') + 1*x_(6,_'S1',_'A') + 1*x_(6,_'S1',_'B') + 1*x_(6,_'S1',_'C') + 1*x_(6,_'S1',_'D') + 1*x_(6,_'S2',_'A') + 1*x_(6,_'S2',_'B') + 1*x_(6,_'S2',_'C') + 1*x_(6,_'S2',_'D') + 1*x_(7,_'S1',_'A') + 1*x_(7,_'S1',_'B') + 1*x_(7,_'S1',_'C') + 1*x_(7,_'S1',_'D') + 1*x_(7,_'S2',_'A') + 1*x_(7,_'S2',_'B') + 1*x_(7,_'S2',_'C') + 1*x_(7,_'S2',_'D') + 1*x_(8,_'S1',_'A') + 1*x_(8,_'S1',_'B') + 1*x_(8,_'S1',_'C') + 1*x_(8,_'S1',_'D') + 1*x_(8,_'S2',_'A') + 1*x_(8,_'S2',_'B') + 1*x_(8,_'S2',_'C') + 1*x_(8,_'S2',_'D') + 0\nSUBJECT TO\n_C1: x_(2,_'S1',_'A') + x_(2,_'S1',_'B') + x_(2,_'S1',_'C') + x_(2,_'S1',_'D')\n >= 2\n\n_C2: x_(2,_'S2',_'A') + x_(2,_'S2',_'B') + x_(2,_'S2',_'C') + x_(2,_'S2',_'D')\n >= 1\n\n_C3: x_(3,_'S1',_'A') + x_(3,_'S1',_'B') + x_(3,_'S1',_'C') + x_(3,_'S1',_'D')\n >= 2\n\n_C4: x_(3,_'S2',_'A') + x_(3,_'S2',_'B') + x_(3,_'S2',_'C') + x_(3,_'S2',_'D')\n >= 1\n\n_C5: x_(4,_'S1',_'A') + x_(4,_'S1',_'B') + x_(4,_'S1',_'C') + x_(4,_'S1',_'D')\n >= 2\n\n_C6: x_(4,_'S2',_'A') + x_(4,_'S2',_'B') + x_(4,_'S2',_'C') + x_(4,_'S2',_'D')\n >= 1\n\n_C7: x_(5,_'S1',_'A') + x_(5,_'S1',_'B') + x_(5,_'S1',_'C') + x_(5,_'S1',_'D')\n >= 2\n\n_C8: x_(5,_'S2',_'A') + x_(5,_'S2',_'B') + x_(5,_'S2',_'C') + x_(5,_'S2',_'D')\n >= 1\n\n_C9: x_(6,_'S1',_'A') + x_(6,_'S1',_'B') + x_(6,_'S1',_'C') + x_(6,_'S1',_'D')\n >= 2\n\n_C10: x_(6,_'S2',_'A') + x_(6,_'S2',_'B') + x_(6,_'S2',_'C')\n + x_(6,_'S2',_'D') >= 1\n\n_C11: x_(2,_'S1',_'A') + x_(2,_'S2',_'A') + x_(3,_'S1',_'A')\n + x_(3,_'S2',_'A') + x_(4,_'S1',_'A') + x_(4,_'S2',_'A') + x_(5,_'S1',_'A')\n + x_(5,_'S2',_'A') + x_(6,_'S1',_'A') + x_(6,_'S2',_'A') + x_(7,_'S1',_'A')\n + x_(7,_'S2',_'A') + x_(8,_'S1',_'A') + x_(8,_'S2',_'A') = 5\n\n_C12: x_(2,_'S1',_'B') + x_(2,_'S2',_'B') + x_(3,_'S1',_'B')\n + x_(3,_'S2',_'B') + x_(4,_'S1',_'B') + x_(4,_'S2',_'B') + x_(5,_'S1',_'B')\n + x_(5,_'S2',_'B') + x_(6,_'S1',_'B') + x_(6,_'S2',_'B') + x_(7,_'S1',_'B')\n + x_(7,_'S2',_'B') + x_(8,_'S1',_'B') + x_(8,_'S2',_'B') = 5\n\n_C13: x_(2,_'S1',_'C') + x_(2,_'S2',_'C') + x_(3,_'S1',_'C')\n + x_(3,_'S2',_'C') + x_(4,_'S1',_'C') + x_(4,_'S2',_'C') + x_(5,_'S1',_'C')\n + x_(5,_'S2',_'C') + x_(6,_'S1',_'C') + x_(6,_'S2',_'C') + x_(7,_'S1',_'C')\n + x_(7,_'S2',_'C') + x_(8,_'S1',_'C') + x_(8,_'S2',_'C') = 5\n\n_C14: x_(2,_'S1',_'D') + x_(2,_'S2',_'D') + x_(3,_'S1',_'D')\n + x_(3,_'S2',_'D') + x_(4,_'S1',_'D') + x_(4,_'S2',_'D') + x_(5,_'S1',_'D')\n + x_(5,_'S2',_'D') + x_(6,_'S1',_'D') + x_(6,_'S2',_'D') + x_(7,_'S1',_'D')\n + x_(7,_'S2',_'D') + x_(8,_'S1',_'D') + x_(8,_'S2',_'D') = 5\n\n_C15: x_(2,_'S1',_'A') + x_(2,_'S2',_'A') <= 1\n\n_C16: x_(2,_'S1',_'B') + x_(2,_'S2',_'B') <= 1\n\n_C17: x_(2,_'S1',_'C') + x_(2,_'S2',_'C') <= 1\n\n_C18: x_(2,_'S1',_'D') + x_(2,_'S2',_'D') <= 1\n\n_C19: x_(3,_'S1',_'A') + x_(3,_'S2',_'A') <= 1\n\n_C20: x_(3,_'S1',_'B') + x_(3,_'S2',_'B') <= 1\n\n_C21: x_(3,_'S1',_'C') + x_(3,_'S2',_'C') <= 1\n\n_C22: x_(3,_'S1',_'D') + x_(3,_'S2',_'D') <= 1\n\n_C23: x_(4,_'S1',_'A') + x_(4,_'S2',_'A') <= 1\n\n_C24: x_(4,_'S1',_'B') + x_(4,_'S2',_'B') <= 1\n\n_C25: x_(4,_'S1',_'C') + x_(4,_'S2',_'C') <= 1\n\n_C26: x_(4,_'S1',_'D') + x_(4,_'S2',_'D') <= 1\n\n_C27: x_(5,_'S1',_'A') + x_(5,_'S2',_'A') <= 1\n\n_C28: x_(5,_'S1',_'B') + x_(5,_'S2',_'B') <= 1\n\n_C29: x_(5,_'S1',_'C') + x_(5,_'S2',_'C') <= 1\n\n_C30: x_(5,_'S1',_'D') + x_(5,_'S2',_'D') <= 1\n\n_C31: x_(6,_'S1',_'A') + x_(6,_'S2',_'A') <= 1\n\n_C32: x_(6,_'S1',_'B') + x_(6,_'S2',_'B') <= 1\n\n_C33: x_(6,_'S1',_'C') + x_(6,_'S2',_'C') <= 1\n\n_C34: x_(6,_'S1',_'D') + x_(6,_'S2',_'D') <= 1\n\n_C35: x_(7,_'S1',_'A') + x_(7,_'S2',_'A') <= 1\n\n_C36: x_(7,_'S1',_'B') + x_(7,_'S2',_'B') <= 1\n\n_C37: x_(7,_'S1',_'C') + x_(7,_'S2',_'C') <= 1\n\n_C38: x_(7,_'S1',_'D') + x_(7,_'S2',_'D') <= 1\n\n_C39: x_(8,_'S1',_'A') + x_(8,_'S2',_'A') <= 1\n\n_C40: x_(8,_'S1',_'B') + x_(8,_'S2',_'B') <= 1\n\n_C41: x_(8,_'S1',_'C') + x_(8,_'S2',_'C') <= 1\n\n_C42: x_(8,_'S1',_'D') + x_(8,_'S2',_'D') <= 1\n\nVARIABLES\n0 <= x_(2,_'S1',_'A') <= 1 Integer\n0 <= x_(2,_'S1',_'B') <= 1 Integer\n0 <= x_(2,_'S1',_'C') <= 1 Integer\n0 <= x_(2,_'S1',_'D') <= 1 Integer\n0 <= x_(2,_'S2',_'A') <= 1 Integer\n0 <= x_(2,_'S2',_'B') <= 1 Integer\n0 <= x_(2,_'S2',_'C') <= 1 Integer\n0 <= x_(2,_'S2',_'D') <= 1 Integer\n0 <= x_(3,_'S1',_'A') <= 1 Integer\n0 <= x_(3,_'S1',_'B') <= 1 Integer\n0 <= x_(3,_'S1',_'C') <= 1 Integer\n0 <= x_(3,_'S1',_'D') <= 1 Integer\n0 <= x_(3,_'S2',_'A') <= 1 Integer\n0 <= x_(3,_'S2',_'B') <= 1 Integer\n0 <= x_(3,_'S2',_'C') <= 1 Integer\n0 <= x_(3,_'S2',_'D') <= 1 Integer\n0 <= x_(4,_'S1',_'A') <= 1 Integer\n0 <= x_(4,_'S1',_'B') <= 1 Integer\n0 <= x_(4,_'S1',_'C') <= 1 Integer\n0 <= x_(4,_'S1',_'D') <= 1 Integer\n0 <= x_(4,_'S2',_'A') <= 1 Integer\n0 <= x_(4,_'S2',_'B') <= 1 Integer\n0 <= x_(4,_'S2',_'C') <= 1 Integer\n0 <= x_(4,_'S2',_'D') <= 1 Integer\n0 <= x_(5,_'S1',_'A') <= 1 Integer\n0 <= x_(5,_'S1',_'B') <= 1 Integer\n0 <= x_(5,_'S1',_'C') <= 1 Integer\n0 <= x_(5,_'S1',_'D') <= 1 Integer\n0 <= x_(5,_'S2',_'A') <= 1 Integer\n0 <= x_(5,_'S2',_'B') <= 1 Integer\n0 <= x_(5,_'S2',_'C') <= 1 Integer\n0 <= x_(5,_'S2',_'D') <= 1 Integer\n0 <= x_(6,_'S1',_'A') <= 1 Integer\n0 <= x_(6,_'S1',_'B') <= 1 Integer\n0 <= x_(6,_'S1',_'C') <= 1 Integer\n0 <= x_(6,_'S1',_'D') <= 1 Integer\n0 <= x_(6,_'S2',_'A') <= 1 Integer\n0 <= x_(6,_'S2',_'B') <= 1 Integer\n0 <= x_(6,_'S2',_'C') <= 1 Integer\n0 <= x_(6,_'S2',_'D') <= 1 Integer\n0 <= x_(7,_'S1',_'A') <= 1 Integer\n0 <= x_(7,_'S1',_'B') <= 1 Integer\n0 <= x_(7,_'S1',_'C') <= 1 Integer\n0 <= x_(7,_'S1',_'D') <= 1 Integer\n0 <= x_(7,_'S2',_'A') <= 1 Integer\n0 <= x_(7,_'S2',_'B') <= 1 Integer\n0 <= x_(7,_'S2',_'C') <= 1 Integer\n0 <= x_(7,_'S2',_'D') <= 1 Integer\n0 <= x_(8,_'S1',_'A') <= 1 Integer\n0 <= x_(8,_'S1',_'B') <= 1 Integer\n0 <= x_(8,_'S1',_'C') <= 1 Integer\n0 <= x_(8,_'S1',_'D') <= 1 Integer\n0 <= x_(8,_'S2',_'A') <= 1 Integer\n0 <= x_(8,_'S2',_'B') <= 1 Integer\n0 <= x_(8,_'S2',_'C') <= 1 Integer\n0 <= x_(8,_'S2',_'D') <= 1 Integer"
     },
     "execution_count": 5,
     "metadata": {},
     "output_type": "execute_result"
    }
   ],
   "source": [
    "model"
   ]
  },
  {
   "cell_type": "code",
   "execution_count": 6,
   "id": "1e962760-64bc-431a-83a9-3b259bacf0d4",
   "metadata": {},
   "outputs": [
    {
     "name": "stdout",
     "output_type": "stream",
     "text": [
      "\u001B[7m\u001B[34mstatus: Optimal\u001B[0m\n"
     ]
    }
   ],
   "source": [
    "# solve\n",
    "model.solve(pulp.PULP_CBC_CMD(msg=False))\n",
    "text = f'status: {pulp.LpStatus[model.status]}'\n",
    "color = 'blue' if model.status == 1 else 'red'\n",
    "print(colored(text, color, attrs=['reverse']))"
   ]
  },
  {
   "cell_type": "code",
   "execution_count": 7,
   "id": "b7aa9252-baa8-414b-a121-63c5fd70b08c",
   "metadata": {},
   "outputs": [],
   "source": [
    "result = {i: int(x[i].varValue) for i in x}\n",
    "report = pd.DataFrame.from_dict(result, orient='index').reset_index()\n",
    "report.columns = ['var', 'value']\n",
    "report[['day', 'shift', 'employee']] = pd.DataFrame(report['var'].tolist(), index=report.index)\n",
    "report.sort_values(by='value', ascending=False, inplace=True)\n",
    "report.query('value != 0', inplace=True)\n",
    "report.drop(columns='var', inplace=True)"
   ]
  },
  {
   "cell_type": "markdown",
   "id": "0b647fbe-1044-466f-8893-b9e6d0d690d0",
   "metadata": {},
   "source": [
    "## Report\n",
    "The result will show the number of racks, pallets needed for item A, B"
   ]
  },
  {
   "cell_type": "code",
   "execution_count": 8,
   "id": "b06bdc98-dfc5-4b22-bc3f-f258c47d0aa3",
   "metadata": {},
   "outputs": [
    {
     "data": {
      "text/plain": "day               2    3    4    5    6    7    8\nemployee shift                                   \nA        S1     NaN  NaN  1.0  1.0  NaN  NaN  1.0\n         S2     NaN  1.0  NaN  NaN  NaN  1.0  NaN\nB        S1     1.0  1.0  NaN  1.0  1.0  NaN  NaN\n         S2     NaN  NaN  NaN  NaN  NaN  NaN  1.0\nC        S1     NaN  NaN  1.0  NaN  1.0  NaN  NaN\n         S2     1.0  NaN  NaN  1.0  NaN  NaN  1.0\nD        S1     1.0  1.0  NaN  NaN  NaN  1.0  NaN\n         S2     NaN  NaN  1.0  NaN  1.0  NaN  NaN",
      "text/html": "<div>\n<style scoped>\n    .dataframe tbody tr th:only-of-type {\n        vertical-align: middle;\n    }\n\n    .dataframe tbody tr th {\n        vertical-align: top;\n    }\n\n    .dataframe thead th {\n        text-align: right;\n    }\n</style>\n<table border=\"1\" class=\"dataframe\">\n  <thead>\n    <tr style=\"text-align: right;\">\n      <th></th>\n      <th>day</th>\n      <th>2</th>\n      <th>3</th>\n      <th>4</th>\n      <th>5</th>\n      <th>6</th>\n      <th>7</th>\n      <th>8</th>\n    </tr>\n    <tr>\n      <th>employee</th>\n      <th>shift</th>\n      <th></th>\n      <th></th>\n      <th></th>\n      <th></th>\n      <th></th>\n      <th></th>\n      <th></th>\n    </tr>\n  </thead>\n  <tbody>\n    <tr>\n      <th rowspan=\"2\" valign=\"top\">A</th>\n      <th>S1</th>\n      <td>NaN</td>\n      <td>NaN</td>\n      <td>1.0</td>\n      <td>1.0</td>\n      <td>NaN</td>\n      <td>NaN</td>\n      <td>1.0</td>\n    </tr>\n    <tr>\n      <th>S2</th>\n      <td>NaN</td>\n      <td>1.0</td>\n      <td>NaN</td>\n      <td>NaN</td>\n      <td>NaN</td>\n      <td>1.0</td>\n      <td>NaN</td>\n    </tr>\n    <tr>\n      <th rowspan=\"2\" valign=\"top\">B</th>\n      <th>S1</th>\n      <td>1.0</td>\n      <td>1.0</td>\n      <td>NaN</td>\n      <td>1.0</td>\n      <td>1.0</td>\n      <td>NaN</td>\n      <td>NaN</td>\n    </tr>\n    <tr>\n      <th>S2</th>\n      <td>NaN</td>\n      <td>NaN</td>\n      <td>NaN</td>\n      <td>NaN</td>\n      <td>NaN</td>\n      <td>NaN</td>\n      <td>1.0</td>\n    </tr>\n    <tr>\n      <th rowspan=\"2\" valign=\"top\">C</th>\n      <th>S1</th>\n      <td>NaN</td>\n      <td>NaN</td>\n      <td>1.0</td>\n      <td>NaN</td>\n      <td>1.0</td>\n      <td>NaN</td>\n      <td>NaN</td>\n    </tr>\n    <tr>\n      <th>S2</th>\n      <td>1.0</td>\n      <td>NaN</td>\n      <td>NaN</td>\n      <td>1.0</td>\n      <td>NaN</td>\n      <td>NaN</td>\n      <td>1.0</td>\n    </tr>\n    <tr>\n      <th rowspan=\"2\" valign=\"top\">D</th>\n      <th>S1</th>\n      <td>1.0</td>\n      <td>1.0</td>\n      <td>NaN</td>\n      <td>NaN</td>\n      <td>NaN</td>\n      <td>1.0</td>\n      <td>NaN</td>\n    </tr>\n    <tr>\n      <th>S2</th>\n      <td>NaN</td>\n      <td>NaN</td>\n      <td>1.0</td>\n      <td>NaN</td>\n      <td>1.0</td>\n      <td>NaN</td>\n      <td>NaN</td>\n    </tr>\n  </tbody>\n</table>\n</div>"
     },
     "execution_count": 8,
     "metadata": {},
     "output_type": "execute_result"
    }
   ],
   "source": [
    "report.pivot_table(values='value', index=['employee', 'shift'], columns='day')"
   ]
  },
  {
   "cell_type": "code",
   "execution_count": null,
   "outputs": [],
   "source": [],
   "metadata": {
    "collapsed": false,
    "pycharm": {
     "name": "#%%\n"
    }
   }
  }
 ],
 "metadata": {
  "kernelspec": {
   "display_name": "Python 3",
   "language": "python",
   "name": "python3"
  },
  "language_info": {
   "codemirror_mode": {
    "name": "ipython",
    "version": 3
   },
   "file_extension": ".py",
   "mimetype": "text/x-python",
   "name": "python",
   "nbconvert_exporter": "python",
   "pygments_lexer": "ipython3",
   "version": "3.9.5"
  }
 },
 "nbformat": 4,
 "nbformat_minor": 5
}