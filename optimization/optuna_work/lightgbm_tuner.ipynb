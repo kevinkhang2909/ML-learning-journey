{
 "cells": [
  {
   "cell_type": "code",
   "execution_count": 1,
   "id": "0552272e-2fc0-4dd2-9dec-1a30695db9ca",
   "metadata": {},
   "outputs": [],
   "source": [
    "import numpy as np\n",
    "import optuna.integration.lightgbm as lgb\n",
    "\n",
    "from lightgbm import early_stopping\n",
    "from lightgbm import log_evaluation\n",
    "import sklearn.datasets\n",
    "from sklearn.metrics import accuracy_score\n",
    "from sklearn.model_selection import train_test_split"
   ]
  },
  {
   "cell_type": "code",
   "execution_count": 2,
   "id": "e1bc860f-80d8-4e99-a2e3-3a583c7e3c6f",
   "metadata": {},
   "outputs": [
    {
     "name": "stderr",
     "output_type": "stream",
     "text": [
      "\u001b[32m[I 2022-10-14 10:22:50,927]\u001b[0m A new study created in memory with name: no-name-94634a22-933d-40d3-925b-294e96463d1e\u001b[0m\n",
      "feature_fraction, val_score: inf:   0%|                                                          | 0/7 [00:00<?, ?it/s]"
     ]
    },
    {
     "name": "stdout",
     "output_type": "stream",
     "text": [
      "Training until validation scores don't improve for 100 rounds\n",
      "[100]\tvalid_0's binary_logloss: 0.000816466\tvalid_1's binary_logloss: 0.0890562\n"
     ]
    },
    {
     "name": "stderr",
     "output_type": "stream",
     "text": [
      "feature_fraction, val_score: 0.068906:  14%|######4                                      | 1/7 [00:00<00:01,  3.60it/s]\u001b[32m[I 2022-10-14 10:22:51,209]\u001b[0m Trial 0 finished with value: 0.06890634087869986 and parameters: {'feature_fraction': 0.5}. Best is trial 0 with value: 0.06890634087869986.\u001b[0m\n",
      "feature_fraction, val_score: 0.068906:  14%|######4                                      | 1/7 [00:00<00:01,  3.60it/s]"
     ]
    },
    {
     "name": "stdout",
     "output_type": "stream",
     "text": [
      "Early stopping, best iteration is:\n",
      "[46]\tvalid_0's binary_logloss: 0.0237882\tvalid_1's binary_logloss: 0.0689063\n",
      "[100]\tvalid_0's binary_logloss: 0.000696698\tvalid_1's binary_logloss: 0.102127\n"
     ]
    },
    {
     "name": "stderr",
     "output_type": "stream",
     "text": [
      "feature_fraction, val_score: 0.068906:  29%|############8                                | 2/7 [00:00<00:01,  3.65it/s]\u001b[32m[I 2022-10-14 10:22:51,481]\u001b[0m Trial 1 finished with value: 0.06890634087869986 and parameters: {'feature_fraction': 0.6}. Best is trial 0 with value: 0.06890634087869986.\u001b[0m\n",
      "feature_fraction, val_score: 0.068906:  29%|############8                                | 2/7 [00:00<00:01,  3.65it/s]"
     ]
    },
    {
     "name": "stdout",
     "output_type": "stream",
     "text": [
      "Early stopping, best iteration is:\n",
      "[46]\tvalid_0's binary_logloss: 0.0237882\tvalid_1's binary_logloss: 0.0689063\n",
      "[100]\tvalid_0's binary_logloss: 0.000590012\tvalid_1's binary_logloss: 0.0936375\n"
     ]
    },
    {
     "name": "stderr",
     "output_type": "stream",
     "text": [
      "feature_fraction, val_score: 0.068906:  43%|###################2                         | 3/7 [00:00<00:01,  3.69it/s]\u001b[32m[I 2022-10-14 10:22:51,748]\u001b[0m Trial 2 finished with value: 0.06890634087869986 and parameters: {'feature_fraction': 0.8}. Best is trial 0 with value: 0.06890634087869986.\u001b[0m\n",
      "feature_fraction, val_score: 0.068906:  43%|###################2                         | 3/7 [00:00<00:01,  3.69it/s]"
     ]
    },
    {
     "name": "stdout",
     "output_type": "stream",
     "text": [
      "Early stopping, best iteration is:\n",
      "[46]\tvalid_0's binary_logloss: 0.0237882\tvalid_1's binary_logloss: 0.0689063\n",
      "[100]\tvalid_0's binary_logloss: 0.000858314\tvalid_1's binary_logloss: 0.0761647\n"
     ]
    },
    {
     "name": "stderr",
     "output_type": "stream",
     "text": [
      "feature_fraction, val_score: 0.064812:  57%|#########################7                   | 4/7 [00:01<00:00,  3.52it/s]\u001b[32m[I 2022-10-14 10:22:52,053]\u001b[0m Trial 3 finished with value: 0.06481150893817421 and parameters: {'feature_fraction': 0.4}. Best is trial 3 with value: 0.06481150893817421.\u001b[0m\n",
      "feature_fraction, val_score: 0.064812:  57%|#########################7                   | 4/7 [00:01<00:00,  3.52it/s]"
     ]
    },
    {
     "name": "stdout",
     "output_type": "stream",
     "text": [
      "Early stopping, best iteration is:\n",
      "[61]\tvalid_0's binary_logloss: 0.00968729\tvalid_1's binary_logloss: 0.0648115\n"
     ]
    },
    {
     "name": "stderr",
     "output_type": "stream",
     "text": [
      "feature_fraction, val_score: 0.064812:  71%|################################1            | 5/7 [00:01<00:00,  3.48it/s]\u001b[32m[I 2022-10-14 10:22:52,346]\u001b[0m Trial 4 finished with value: 0.06481150893817421 and parameters: {'feature_fraction': 0.8999999999999999}. Best is trial 3 with value: 0.06481150893817421.\u001b[0m\n",
      "feature_fraction, val_score: 0.064812:  71%|################################1            | 5/7 [00:01<00:00,  3.48it/s]"
     ]
    },
    {
     "name": "stdout",
     "output_type": "stream",
     "text": [
      "[100]\tvalid_0's binary_logloss: 0.000530865\tvalid_1's binary_logloss: 0.0910847\n",
      "Early stopping, best iteration is:\n",
      "[61]\tvalid_0's binary_logloss: 0.00968729\tvalid_1's binary_logloss: 0.0648115\n"
     ]
    },
    {
     "name": "stderr",
     "output_type": "stream",
     "text": [
      "feature_fraction, val_score: 0.064812:  86%|######################################5      | 6/7 [00:01<00:00,  3.38it/s]\u001b[32m[I 2022-10-14 10:22:52,660]\u001b[0m Trial 5 finished with value: 0.06481150893817421 and parameters: {'feature_fraction': 1.0}. Best is trial 3 with value: 0.06481150893817421.\u001b[0m\n",
      "feature_fraction, val_score: 0.064812:  86%|######################################5      | 6/7 [00:01<00:00,  3.38it/s]"
     ]
    },
    {
     "name": "stdout",
     "output_type": "stream",
     "text": [
      "[100]\tvalid_0's binary_logloss: 0.000584093\tvalid_1's binary_logloss: 0.10942\n",
      "Early stopping, best iteration is:\n",
      "[61]\tvalid_0's binary_logloss: 0.00968729\tvalid_1's binary_logloss: 0.0648115\n"
     ]
    },
    {
     "name": "stderr",
     "output_type": "stream",
     "text": [
      "feature_fraction, val_score: 0.064812: 100%|#############################################| 7/7 [00:02<00:00,  3.33it/s]\u001b[32m[I 2022-10-14 10:22:52,969]\u001b[0m Trial 6 finished with value: 0.06481150893817421 and parameters: {'feature_fraction': 0.7}. Best is trial 3 with value: 0.06481150893817421.\u001b[0m\n",
      "feature_fraction, val_score: 0.064812: 100%|#############################################| 7/7 [00:02<00:00,  3.43it/s]\n"
     ]
    },
    {
     "name": "stdout",
     "output_type": "stream",
     "text": [
      "[100]\tvalid_0's binary_logloss: 0.000583666\tvalid_1's binary_logloss: 0.0953308\n",
      "Early stopping, best iteration is:\n",
      "[61]\tvalid_0's binary_logloss: 0.00968729\tvalid_1's binary_logloss: 0.0648115\n"
     ]
    },
    {
     "name": "stderr",
     "output_type": "stream",
     "text": [
      "num_leaves, val_score: 0.064812:   5%|##5                                               | 1/20 [00:00<00:05,  3.37it/s]\u001b[32m[I 2022-10-14 10:22:53,270]\u001b[0m Trial 7 finished with value: 0.0648115042605526 and parameters: {'num_leaves': 24}. Best is trial 7 with value: 0.0648115042605526.\u001b[0m\n",
      "num_leaves, val_score: 0.064812:   5%|##5                                               | 1/20 [00:00<00:05,  3.37it/s]"
     ]
    },
    {
     "name": "stdout",
     "output_type": "stream",
     "text": [
      "[100]\tvalid_0's binary_logloss: 0.000858315\tvalid_1's binary_logloss: 0.0761648\n",
      "Early stopping, best iteration is:\n",
      "[61]\tvalid_0's binary_logloss: 0.00968729\tvalid_1's binary_logloss: 0.0648115\n"
     ]
    },
    {
     "name": "stderr",
     "output_type": "stream",
     "text": [
      "num_leaves, val_score: 0.064812:  10%|#####                                             | 2/20 [00:00<00:05,  3.32it/s]\u001b[32m[I 2022-10-14 10:22:53,574]\u001b[0m Trial 8 finished with value: 0.0648115042605526 and parameters: {'num_leaves': 210}. Best is trial 7 with value: 0.0648115042605526.\u001b[0m\n",
      "num_leaves, val_score: 0.064812:  10%|#####                                             | 2/20 [00:00<00:05,  3.32it/s]"
     ]
    },
    {
     "name": "stdout",
     "output_type": "stream",
     "text": [
      "[100]\tvalid_0's binary_logloss: 0.000858314\tvalid_1's binary_logloss: 0.0761647\n",
      "Early stopping, best iteration is:\n",
      "[61]\tvalid_0's binary_logloss: 0.00968729\tvalid_1's binary_logloss: 0.0648115\n"
     ]
    },
    {
     "name": "stderr",
     "output_type": "stream",
     "text": [
      "num_leaves, val_score: 0.064812:  15%|#######5                                          | 3/20 [00:00<00:05,  3.35it/s]\u001b[32m[I 2022-10-14 10:22:53,869]\u001b[0m Trial 9 finished with value: 0.0648115042605526 and parameters: {'num_leaves': 150}. Best is trial 7 with value: 0.0648115042605526.\u001b[0m\n",
      "num_leaves, val_score: 0.064812:  15%|#######5                                          | 3/20 [00:00<00:05,  3.35it/s]"
     ]
    },
    {
     "name": "stdout",
     "output_type": "stream",
     "text": [
      "[100]\tvalid_0's binary_logloss: 0.000858314\tvalid_1's binary_logloss: 0.0761647\n",
      "Early stopping, best iteration is:\n",
      "[61]\tvalid_0's binary_logloss: 0.00968729\tvalid_1's binary_logloss: 0.0648115\n"
     ]
    },
    {
     "name": "stderr",
     "output_type": "stream",
     "text": [
      "num_leaves, val_score: 0.064812:  20%|##########                                        | 4/20 [00:01<00:04,  3.33it/s]\u001b[32m[I 2022-10-14 10:22:54,172]\u001b[0m Trial 10 finished with value: 0.0648115042605526 and parameters: {'num_leaves': 252}. Best is trial 7 with value: 0.0648115042605526.\u001b[0m\n",
      "num_leaves, val_score: 0.064812:  20%|##########                                        | 4/20 [00:01<00:04,  3.33it/s]"
     ]
    },
    {
     "name": "stdout",
     "output_type": "stream",
     "text": [
      "[100]\tvalid_0's binary_logloss: 0.000858314\tvalid_1's binary_logloss: 0.0761647\n",
      "Early stopping, best iteration is:\n",
      "[61]\tvalid_0's binary_logloss: 0.00968729\tvalid_1's binary_logloss: 0.0648115\n"
     ]
    },
    {
     "name": "stderr",
     "output_type": "stream",
     "text": [
      "num_leaves, val_score: 0.064812:  25%|############5                                     | 5/20 [00:01<00:04,  3.38it/s]\u001b[32m[I 2022-10-14 10:22:54,460]\u001b[0m Trial 11 finished with value: 0.0648115042605526 and parameters: {'num_leaves': 193}. Best is trial 7 with value: 0.0648115042605526.\u001b[0m\n",
      "num_leaves, val_score: 0.064812:  25%|############5                                     | 5/20 [00:01<00:04,  3.38it/s]"
     ]
    },
    {
     "name": "stdout",
     "output_type": "stream",
     "text": [
      "[100]\tvalid_0's binary_logloss: 0.000858314\tvalid_1's binary_logloss: 0.0761647\n",
      "Early stopping, best iteration is:\n",
      "[61]\tvalid_0's binary_logloss: 0.00968729\tvalid_1's binary_logloss: 0.0648115\n"
     ]
    },
    {
     "name": "stderr",
     "output_type": "stream",
     "text": [
      "num_leaves, val_score: 0.064812:  30%|###############                                   | 6/20 [00:01<00:04,  3.42it/s]\u001b[32m[I 2022-10-14 10:22:54,744]\u001b[0m Trial 12 finished with value: 0.0648115042605526 and parameters: {'num_leaves': 255}. Best is trial 7 with value: 0.0648115042605526.\u001b[0m\n",
      "num_leaves, val_score: 0.064812:  30%|###############                                   | 6/20 [00:01<00:04,  3.42it/s]"
     ]
    },
    {
     "name": "stdout",
     "output_type": "stream",
     "text": [
      "[100]\tvalid_0's binary_logloss: 0.000858314\tvalid_1's binary_logloss: 0.0761647\n",
      "Early stopping, best iteration is:\n",
      "[61]\tvalid_0's binary_logloss: 0.00968729\tvalid_1's binary_logloss: 0.0648115\n",
      "[100]\tvalid_0's binary_logloss: 0.000858314\tvalid_1's binary_logloss: 0.0761647\n"
     ]
    },
    {
     "name": "stderr",
     "output_type": "stream",
     "text": [
      "num_leaves, val_score: 0.064812:  35%|#################5                                | 7/20 [00:02<00:04,  2.98it/s]\u001b[32m[I 2022-10-14 10:22:55,169]\u001b[0m Trial 13 finished with value: 0.0648115042605526 and parameters: {'num_leaves': 59}. Best is trial 7 with value: 0.0648115042605526.\u001b[0m\n",
      "num_leaves, val_score: 0.064812:  35%|#################5                                | 7/20 [00:02<00:04,  2.98it/s]"
     ]
    },
    {
     "name": "stdout",
     "output_type": "stream",
     "text": [
      "Early stopping, best iteration is:\n",
      "[61]\tvalid_0's binary_logloss: 0.00968729\tvalid_1's binary_logloss: 0.0648115\n",
      "[100]\tvalid_0's binary_logloss: 0.000858314\tvalid_1's binary_logloss: 0.0761647\n"
     ]
    },
    {
     "name": "stderr",
     "output_type": "stream",
     "text": [
      "num_leaves, val_score: 0.064812:  40%|####################                              | 8/20 [00:02<00:05,  2.32it/s]\u001b[32m[I 2022-10-14 10:22:55,804]\u001b[0m Trial 14 finished with value: 0.0648115042605526 and parameters: {'num_leaves': 193}. Best is trial 7 with value: 0.0648115042605526.\u001b[0m\n",
      "num_leaves, val_score: 0.064812:  40%|####################                              | 8/20 [00:02<00:05,  2.32it/s]"
     ]
    },
    {
     "name": "stdout",
     "output_type": "stream",
     "text": [
      "Early stopping, best iteration is:\n",
      "[61]\tvalid_0's binary_logloss: 0.00968729\tvalid_1's binary_logloss: 0.0648115\n",
      "[100]\tvalid_0's binary_logloss: 0.000858314\tvalid_1's binary_logloss: 0.0761647\n"
     ]
    },
    {
     "name": "stderr",
     "output_type": "stream",
     "text": [
      "num_leaves, val_score: 0.064812:  45%|######################5                           | 9/20 [00:03<00:06,  1.77it/s]\u001b[32m[I 2022-10-14 10:22:56,663]\u001b[0m Trial 15 finished with value: 0.0648115042605526 and parameters: {'num_leaves': 58}. Best is trial 7 with value: 0.0648115042605526.\u001b[0m\n",
      "num_leaves, val_score: 0.064812:  45%|######################5                           | 9/20 [00:03<00:06,  1.77it/s]"
     ]
    },
    {
     "name": "stdout",
     "output_type": "stream",
     "text": [
      "Early stopping, best iteration is:\n",
      "[61]\tvalid_0's binary_logloss: 0.00968729\tvalid_1's binary_logloss: 0.0648115\n",
      "[100]\tvalid_0's binary_logloss: 0.000858314\tvalid_1's binary_logloss: 0.0761647\n",
      "Early stopping, best iteration is:\n",
      "[61]\tvalid_0's binary_logloss: 0.00968729\tvalid_1's binary_logloss: 0.0648115\n"
     ]
    },
    {
     "name": "stderr",
     "output_type": "stream",
     "text": [
      "num_leaves, val_score: 0.064812:  50%|########################5                        | 10/20 [00:04<00:05,  1.69it/s]\u001b[32m[I 2022-10-14 10:22:57,316]\u001b[0m Trial 16 finished with value: 0.0648115042605526 and parameters: {'num_leaves': 197}. Best is trial 7 with value: 0.0648115042605526.\u001b[0m\n",
      "num_leaves, val_score: 0.062930:  55%|##########################9                      | 11/20 [00:04<00:04,  2.07it/s]\u001b[32m[I 2022-10-14 10:22:57,553]\u001b[0m Trial 17 finished with value: 0.06292984700516993 and parameters: {'num_leaves': 3}. Best is trial 17 with value: 0.06292984700516993.\u001b[0m\n",
      "num_leaves, val_score: 0.062930:  55%|##########################9                      | 11/20 [00:04<00:04,  2.07it/s]"
     ]
    },
    {
     "name": "stdout",
     "output_type": "stream",
     "text": [
      "[100]\tvalid_0's binary_logloss: 0.0262119\tvalid_1's binary_logloss: 0.0703401\n",
      "[200]\tvalid_0's binary_logloss: 0.0052413\tvalid_1's binary_logloss: 0.0657013\n",
      "Early stopping, best iteration is:\n",
      "[157]\tvalid_0's binary_logloss: 0.0102868\tvalid_1's binary_logloss: 0.0629298\n",
      "[100]\tvalid_0's binary_logloss: 0.002025\tvalid_1's binary_logloss: 0.0690737\n",
      "[200]\tvalid_0's binary_logloss: 1.9492e-05\tvalid_1's binary_logloss: 0.094273\n"
     ]
    },
    {
     "name": "stderr",
     "output_type": "stream",
     "text": [
      "num_leaves, val_score: 0.062930:  60%|#############################4                   | 12/20 [00:04<00:03,  2.20it/s]\u001b[32m[I 2022-10-14 10:22:57,941]\u001b[0m Trial 18 finished with value: 0.06292984700516993 and parameters: {'num_leaves': 7}. Best is trial 17 with value: 0.06292984700516993.\u001b[0m\n",
      "num_leaves, val_score: 0.062930:  60%|#############################4                   | 12/20 [00:04<00:03,  2.20it/s]"
     ]
    },
    {
     "name": "stdout",
     "output_type": "stream",
     "text": [
      "Early stopping, best iteration is:\n",
      "[157]\tvalid_0's binary_logloss: 0.0102868\tvalid_1's binary_logloss: 0.0629298\n",
      "[100]\tvalid_0's binary_logloss: 0.00109109\tvalid_1's binary_logloss: 0.0725495\n",
      "[200]\tvalid_0's binary_logloss: 1.09687e-05\tvalid_1's binary_logloss: 0.109168\n"
     ]
    },
    {
     "name": "stderr",
     "output_type": "stream",
     "text": [
      "num_leaves, val_score: 0.062930:  65%|###############################8                 | 13/20 [00:05<00:03,  2.24it/s]\u001b[32m[I 2022-10-14 10:22:58,369]\u001b[0m Trial 19 finished with value: 0.06292984700516993 and parameters: {'num_leaves': 9}. Best is trial 17 with value: 0.06292984700516993.\u001b[0m\n",
      "num_leaves, val_score: 0.062930:  65%|###############################8                 | 13/20 [00:05<00:03,  2.24it/s]"
     ]
    },
    {
     "name": "stdout",
     "output_type": "stream",
     "text": [
      "Early stopping, best iteration is:\n",
      "[157]\tvalid_0's binary_logloss: 0.0102868\tvalid_1's binary_logloss: 0.0629298\n",
      "[100]\tvalid_0's binary_logloss: 0.000858314\tvalid_1's binary_logloss: 0.0761647\n"
     ]
    },
    {
     "name": "stderr",
     "output_type": "stream",
     "text": [
      "num_leaves, val_score: 0.062930:  70%|##################################3              | 14/20 [00:06<00:03,  1.89it/s]\u001b[32m[I 2022-10-14 10:22:59,089]\u001b[0m Trial 20 finished with value: 0.06292984700516993 and parameters: {'num_leaves': 84}. Best is trial 17 with value: 0.06292984700516993.\u001b[0m\n",
      "num_leaves, val_score: 0.062930:  70%|##################################3              | 14/20 [00:06<00:03,  1.89it/s]"
     ]
    },
    {
     "name": "stdout",
     "output_type": "stream",
     "text": [
      "[200]\tvalid_0's binary_logloss: 9.99296e-06\tvalid_1's binary_logloss: 0.104055\n",
      "Early stopping, best iteration is:\n",
      "[157]\tvalid_0's binary_logloss: 0.0102868\tvalid_1's binary_logloss: 0.0629298\n",
      "[100]\tvalid_0's binary_logloss: 0.0262119\tvalid_1's binary_logloss: 0.0703401\n"
     ]
    },
    {
     "name": "stderr",
     "output_type": "stream",
     "text": [
      "num_leaves, val_score: 0.062930:  75%|####################################7            | 15/20 [00:06<00:02,  2.27it/s]\u001b[32m[I 2022-10-14 10:22:59,324]\u001b[0m Trial 21 finished with value: 0.06292984700516993 and parameters: {'num_leaves': 3}. Best is trial 17 with value: 0.06292984700516993.\u001b[0m\n",
      "num_leaves, val_score: 0.062930:  75%|####################################7            | 15/20 [00:06<00:02,  2.27it/s]"
     ]
    },
    {
     "name": "stdout",
     "output_type": "stream",
     "text": [
      "[200]\tvalid_0's binary_logloss: 0.0052413\tvalid_1's binary_logloss: 0.0657013\n",
      "Early stopping, best iteration is:\n",
      "[157]\tvalid_0's binary_logloss: 0.0102868\tvalid_1's binary_logloss: 0.0629298\n",
      "[100]\tvalid_0's binary_logloss: 0.000858314\tvalid_1's binary_logloss: 0.0761647\n"
     ]
    },
    {
     "name": "stderr",
     "output_type": "stream",
     "text": [
      "num_leaves, val_score: 0.062930:  80%|#######################################2         | 16/20 [00:07<00:02,  1.86it/s]\u001b[32m[I 2022-10-14 10:23:00,086]\u001b[0m Trial 22 finished with value: 0.06292984700516993 and parameters: {'num_leaves': 123}. Best is trial 17 with value: 0.06292984700516993.\u001b[0m\n",
      "num_leaves, val_score: 0.062930:  80%|#######################################2         | 16/20 [00:07<00:02,  1.86it/s]"
     ]
    },
    {
     "name": "stdout",
     "output_type": "stream",
     "text": [
      "[200]\tvalid_0's binary_logloss: 9.99296e-06\tvalid_1's binary_logloss: 0.104055\n",
      "Early stopping, best iteration is:\n",
      "[157]\tvalid_0's binary_logloss: 0.0102868\tvalid_1's binary_logloss: 0.0629298\n",
      "[100]\tvalid_0's binary_logloss: 0.000858314\tvalid_1's binary_logloss: 0.0761647\n"
     ]
    },
    {
     "name": "stderr",
     "output_type": "stream",
     "text": [
      "num_leaves, val_score: 0.062930:  85%|#########################################6       | 17/20 [00:07<00:01,  1.66it/s]\u001b[32m[I 2022-10-14 10:23:00,839]\u001b[0m Trial 23 finished with value: 0.06292984700516993 and parameters: {'num_leaves': 46}. Best is trial 17 with value: 0.06292984700516993.\u001b[0m\n",
      "num_leaves, val_score: 0.062930:  85%|#########################################6       | 17/20 [00:07<00:01,  1.66it/s]"
     ]
    },
    {
     "name": "stdout",
     "output_type": "stream",
     "text": [
      "[200]\tvalid_0's binary_logloss: 9.99296e-06\tvalid_1's binary_logloss: 0.104055\n",
      "Early stopping, best iteration is:\n",
      "[157]\tvalid_0's binary_logloss: 0.0102868\tvalid_1's binary_logloss: 0.0629298\n",
      "[100]\tvalid_0's binary_logloss: 0.000858314\tvalid_1's binary_logloss: 0.0761647\n"
     ]
    },
    {
     "name": "stderr",
     "output_type": "stream",
     "text": [
      "num_leaves, val_score: 0.062930:  90%|############################################1    | 18/20 [00:08<00:01,  1.55it/s]\u001b[32m[I 2022-10-14 10:23:01,589]\u001b[0m Trial 24 finished with value: 0.06292984700516993 and parameters: {'num_leaves': 47}. Best is trial 17 with value: 0.06292984700516993.\u001b[0m\n",
      "num_leaves, val_score: 0.062930:  90%|############################################1    | 18/20 [00:08<00:01,  1.55it/s]"
     ]
    },
    {
     "name": "stdout",
     "output_type": "stream",
     "text": [
      "[200]\tvalid_0's binary_logloss: 9.99296e-06\tvalid_1's binary_logloss: 0.104055\n",
      "Early stopping, best iteration is:\n",
      "[157]\tvalid_0's binary_logloss: 0.0102868\tvalid_1's binary_logloss: 0.0629298\n",
      "[100]\tvalid_0's binary_logloss: 0.000858314\tvalid_1's binary_logloss: 0.0761647\n"
     ]
    },
    {
     "name": "stderr",
     "output_type": "stream",
     "text": [
      "num_leaves, val_score: 0.062930:  95%|##############################################5  | 19/20 [00:09<00:00,  1.48it/s]\u001b[32m[I 2022-10-14 10:23:02,327]\u001b[0m Trial 25 finished with value: 0.06292984700516993 and parameters: {'num_leaves': 109}. Best is trial 17 with value: 0.06292984700516993.\u001b[0m\n",
      "num_leaves, val_score: 0.062930:  95%|##############################################5  | 19/20 [00:09<00:00,  1.48it/s]"
     ]
    },
    {
     "name": "stdout",
     "output_type": "stream",
     "text": [
      "[200]\tvalid_0's binary_logloss: 9.99296e-06\tvalid_1's binary_logloss: 0.104055\n",
      "Early stopping, best iteration is:\n",
      "[157]\tvalid_0's binary_logloss: 0.0102868\tvalid_1's binary_logloss: 0.0629298\n",
      "[100]\tvalid_0's binary_logloss: 0.000858314\tvalid_1's binary_logloss: 0.0761647\n"
     ]
    },
    {
     "name": "stderr",
     "output_type": "stream",
     "text": [
      "num_leaves, val_score: 0.062930: 100%|#################################################| 20/20 [00:10<00:00,  1.44it/s]\u001b[32m[I 2022-10-14 10:23:03,061]\u001b[0m Trial 26 finished with value: 0.06292984700516993 and parameters: {'num_leaves': 110}. Best is trial 17 with value: 0.06292984700516993.\u001b[0m\n",
      "num_leaves, val_score: 0.062930: 100%|#################################################| 20/20 [00:10<00:00,  1.98it/s]\n"
     ]
    },
    {
     "name": "stdout",
     "output_type": "stream",
     "text": [
      "[200]\tvalid_0's binary_logloss: 9.99296e-06\tvalid_1's binary_logloss: 0.104055\n",
      "Early stopping, best iteration is:\n",
      "[157]\tvalid_0's binary_logloss: 0.0102868\tvalid_1's binary_logloss: 0.0629298\n"
     ]
    },
    {
     "name": "stderr",
     "output_type": "stream",
     "text": [
      "bagging, val_score: 0.062930:   0%|                                                             | 0/10 [00:00<?, ?it/s]"
     ]
    },
    {
     "name": "stdout",
     "output_type": "stream",
     "text": [
      "[100]\tvalid_0's binary_logloss: 0.023552\tvalid_1's binary_logloss: 0.064774\n"
     ]
    },
    {
     "name": "stderr",
     "output_type": "stream",
     "text": [
      "bagging, val_score: 0.060810:  10%|#####3                                               | 1/10 [00:00<00:01,  5.09it/s]\u001b[32m[I 2022-10-14 10:23:03,261]\u001b[0m Trial 27 finished with value: 0.06080962606692759 and parameters: {'bagging_fraction': 0.8512675204918996, 'bagging_freq': 3}. Best is trial 27 with value: 0.06080962606692759.\u001b[0m\n",
      "bagging, val_score: 0.060810:  10%|#####3                                               | 1/10 [00:00<00:01,  5.09it/s]"
     ]
    },
    {
     "name": "stdout",
     "output_type": "stream",
     "text": [
      "[200]\tvalid_0's binary_logloss: 0.00430995\tvalid_1's binary_logloss: 0.0656596\n",
      "Early stopping, best iteration is:\n",
      "[102]\tvalid_0's binary_logloss: 0.0227858\tvalid_1's binary_logloss: 0.0608096\n"
     ]
    },
    {
     "name": "stderr",
     "output_type": "stream",
     "text": [
      "bagging, val_score: 0.060810:  10%|#####3                                               | 1/10 [00:00<00:01,  5.09it/s]"
     ]
    },
    {
     "name": "stdout",
     "output_type": "stream",
     "text": [
      "[100]\tvalid_0's binary_logloss: 0.0262342\tvalid_1's binary_logloss: 0.0698805\n",
      "[200]\tvalid_0's binary_logloss: 0.00488796\tvalid_1's binary_logloss: 0.0673642\n",
      "Early stopping, best iteration is:\n",
      "[102]\tvalid_0's binary_logloss: 0.0227858\tvalid_1's binary_logloss: 0.0608096\n"
     ]
    },
    {
     "name": "stderr",
     "output_type": "stream",
     "text": [
      "bagging, val_score: 0.060810:  20%|##########6                                          | 2/10 [00:00<00:01,  5.13it/s]\u001b[32m[I 2022-10-14 10:23:03,455]\u001b[0m Trial 28 finished with value: 0.06080962606692759 and parameters: {'bagging_fraction': 0.9446455707587964, 'bagging_freq': 5}. Best is trial 27 with value: 0.06080962606692759.\u001b[0m\n",
      "bagging, val_score: 0.060810:  30%|###############9                                     | 3/10 [00:00<00:01,  5.04it/s]\u001b[32m[I 2022-10-14 10:23:03,658]\u001b[0m Trial 29 finished with value: 0.06080962606692759 and parameters: {'bagging_fraction': 0.57755290443002, 'bagging_freq': 1}. Best is trial 27 with value: 0.06080962606692759.\u001b[0m\n",
      "bagging, val_score: 0.060810:  30%|###############9                                     | 3/10 [00:00<00:01,  5.04it/s]"
     ]
    },
    {
     "name": "stdout",
     "output_type": "stream",
     "text": [
      "[100]\tvalid_0's binary_logloss: 0.0238059\tvalid_1's binary_logloss: 0.0757277\n",
      "[200]\tvalid_0's binary_logloss: 0.00406331\tvalid_1's binary_logloss: 0.0789703\n",
      "Early stopping, best iteration is:\n",
      "[102]\tvalid_0's binary_logloss: 0.0227858\tvalid_1's binary_logloss: 0.0608096\n",
      "[100]\tvalid_0's binary_logloss: 0.0274545\tvalid_1's binary_logloss: 0.076453\n"
     ]
    },
    {
     "name": "stderr",
     "output_type": "stream",
     "text": [
      "bagging, val_score: 0.060810:  40%|#####################2                               | 4/10 [00:00<00:01,  5.16it/s]\u001b[32m[I 2022-10-14 10:23:03,846]\u001b[0m Trial 30 finished with value: 0.06080962606692759 and parameters: {'bagging_fraction': 0.416707148043903, 'bagging_freq': 1}. Best is trial 27 with value: 0.06080962606692759.\u001b[0m\n",
      "bagging, val_score: 0.060810:  40%|#####################2                               | 4/10 [00:00<00:01,  5.16it/s]"
     ]
    },
    {
     "name": "stdout",
     "output_type": "stream",
     "text": [
      "[200]\tvalid_0's binary_logloss: 0.00535117\tvalid_1's binary_logloss: 0.0741135\n",
      "Early stopping, best iteration is:\n",
      "[102]\tvalid_0's binary_logloss: 0.0227858\tvalid_1's binary_logloss: 0.0608096\n",
      "[100]\tvalid_0's binary_logloss: 0.0233922\tvalid_1's binary_logloss: 0.0680971\n"
     ]
    },
    {
     "name": "stderr",
     "output_type": "stream",
     "text": [
      "bagging, val_score: 0.060810:  50%|##########################5                          | 5/10 [00:00<00:01,  4.97it/s]\u001b[32m[I 2022-10-14 10:23:04,060]\u001b[0m Trial 31 finished with value: 0.06080962606692759 and parameters: {'bagging_fraction': 0.8736430291622423, 'bagging_freq': 3}. Best is trial 27 with value: 0.06080962606692759.\u001b[0m\n",
      "bagging, val_score: 0.060810:  50%|##########################5                          | 5/10 [00:00<00:01,  4.97it/s]"
     ]
    },
    {
     "name": "stdout",
     "output_type": "stream",
     "text": [
      "[200]\tvalid_0's binary_logloss: 0.00418315\tvalid_1's binary_logloss: 0.0664099\n",
      "Early stopping, best iteration is:\n",
      "[102]\tvalid_0's binary_logloss: 0.0227858\tvalid_1's binary_logloss: 0.0608096\n",
      "[100]\tvalid_0's binary_logloss: 0.0288979\tvalid_1's binary_logloss: 0.0527991\n",
      "Early stopping, best iteration is:\n",
      "[96]\tvalid_0's binary_logloss: 0.0307871\tvalid_1's binary_logloss: 0.0513559\n"
     ]
    },
    {
     "name": "stderr",
     "output_type": "stream",
     "text": [
      "bagging, val_score: 0.051356:  60%|###############################8                     | 6/10 [00:01<00:00,  4.92it/s]\u001b[32m[I 2022-10-14 10:23:04,267]\u001b[0m Trial 32 finished with value: 0.0513558547634725 and parameters: {'bagging_fraction': 0.4660189586599904, 'bagging_freq': 4}. Best is trial 32 with value: 0.0513558547634725.\u001b[0m\n",
      "bagging, val_score: 0.051356:  70%|#####################################                | 7/10 [00:01<00:00,  4.93it/s]\u001b[32m[I 2022-10-14 10:23:04,468]\u001b[0m Trial 33 finished with value: 0.0513558547634725 and parameters: {'bagging_fraction': 0.8116554350022989, 'bagging_freq': 5}. Best is trial 32 with value: 0.0513558547634725.\u001b[0m\n",
      "bagging, val_score: 0.051356:  70%|#####################################                | 7/10 [00:01<00:00,  4.93it/s]"
     ]
    },
    {
     "name": "stdout",
     "output_type": "stream",
     "text": [
      "[100]\tvalid_0's binary_logloss: 0.0240952\tvalid_1's binary_logloss: 0.0768482\n",
      "Early stopping, best iteration is:\n",
      "[96]\tvalid_0's binary_logloss: 0.0307871\tvalid_1's binary_logloss: 0.0513559\n",
      "[100]\tvalid_0's binary_logloss: 0.0251185\tvalid_1's binary_logloss: 0.0790043\n"
     ]
    },
    {
     "name": "stderr",
     "output_type": "stream",
     "text": [
      "bagging, val_score: 0.051356:  80%|##########################################4          | 8/10 [00:01<00:00,  4.95it/s]\u001b[32m[I 2022-10-14 10:23:04,669]\u001b[0m Trial 34 finished with value: 0.0513558547634725 and parameters: {'bagging_fraction': 0.7995045257421305, 'bagging_freq': 4}. Best is trial 32 with value: 0.0513558547634725.\u001b[0m\n",
      "bagging, val_score: 0.051356:  80%|##########################################4          | 8/10 [00:01<00:00,  4.95it/s]"
     ]
    },
    {
     "name": "stdout",
     "output_type": "stream",
     "text": [
      "Early stopping, best iteration is:\n",
      "[96]\tvalid_0's binary_logloss: 0.0307871\tvalid_1's binary_logloss: 0.0513559\n",
      "[100]\tvalid_0's binary_logloss: 0.0246385\tvalid_1's binary_logloss: 0.0693285\n",
      "Early stopping, best iteration is:\n",
      "[96]\tvalid_0's binary_logloss: 0.0307871\tvalid_1's binary_logloss: 0.0513559\n"
     ]
    },
    {
     "name": "stderr",
     "output_type": "stream",
     "text": [
      "bagging, val_score: 0.051356:  90%|###############################################7     | 9/10 [00:01<00:00,  4.90it/s]\u001b[32m[I 2022-10-14 10:23:04,877]\u001b[0m Trial 35 finished with value: 0.0513558547634725 and parameters: {'bagging_fraction': 0.6558227274221815, 'bagging_freq': 2}. Best is trial 32 with value: 0.0513558547634725.\u001b[0m\n",
      "bagging, val_score: 0.051356: 100%|####################################################| 10/10 [00:02<00:00,  4.98it/s]\u001b[32m[I 2022-10-14 10:23:05,071]\u001b[0m Trial 36 finished with value: 0.0513558547634725 and parameters: {'bagging_fraction': 0.6954488363229845, 'bagging_freq': 7}. Best is trial 32 with value: 0.0513558547634725.\u001b[0m\n",
      "bagging, val_score: 0.051356: 100%|####################################################| 10/10 [00:02<00:00,  4.98it/s]\n"
     ]
    },
    {
     "name": "stdout",
     "output_type": "stream",
     "text": [
      "[100]\tvalid_0's binary_logloss: 0.0252336\tvalid_1's binary_logloss: 0.0802189\n",
      "Early stopping, best iteration is:\n",
      "[96]\tvalid_0's binary_logloss: 0.0307871\tvalid_1's binary_logloss: 0.0513559\n"
     ]
    },
    {
     "name": "stderr",
     "output_type": "stream",
     "text": [
      "feature_fraction_stage2, val_score: 0.051356:   0%|                                              | 0/3 [00:00<?, ?it/s]"
     ]
    },
    {
     "name": "stdout",
     "output_type": "stream",
     "text": [
      "[100]\tvalid_0's binary_logloss: 0.024611\tvalid_1's binary_logloss: 0.0578707\n"
     ]
    },
    {
     "name": "stderr",
     "output_type": "stream",
     "text": [
      "feature_fraction_stage2, val_score: 0.051356:  33%|############6                         | 1/3 [00:00<00:00,  5.02it/s]\u001b[32m[I 2022-10-14 10:23:05,275]\u001b[0m Trial 37 finished with value: 0.0513558547634725 and parameters: {'feature_fraction': 0.44800000000000006}. Best is trial 37 with value: 0.0513558547634725.\u001b[0m\n",
      "feature_fraction_stage2, val_score: 0.051356:  33%|############6                         | 1/3 [00:00<00:00,  5.02it/s]"
     ]
    },
    {
     "name": "stdout",
     "output_type": "stream",
     "text": [
      "Early stopping, best iteration is:\n",
      "[96]\tvalid_0's binary_logloss: 0.0307871\tvalid_1's binary_logloss: 0.0513559\n",
      "[100]\tvalid_0's binary_logloss: 0.0288979\tvalid_1's binary_logloss: 0.0527991\n",
      "Early stopping, best iteration is:\n",
      "[96]\tvalid_0's binary_logloss: 0.0307871\tvalid_1's binary_logloss: 0.0513559\n"
     ]
    },
    {
     "name": "stderr",
     "output_type": "stream",
     "text": [
      "feature_fraction_stage2, val_score: 0.051356:  67%|#########################3            | 2/3 [00:00<00:00,  4.92it/s]\u001b[32m[I 2022-10-14 10:23:05,480]\u001b[0m Trial 38 finished with value: 0.0513558547634725 and parameters: {'feature_fraction': 0.41600000000000004}. Best is trial 37 with value: 0.0513558547634725.\u001b[0m\n",
      "feature_fraction_stage2, val_score: 0.051356:  67%|#########################3            | 2/3 [00:00<00:00,  4.92it/s]"
     ]
    },
    {
     "name": "stdout",
     "output_type": "stream",
     "text": [
      "[100]\tvalid_0's binary_logloss: 0.0266351\tvalid_1's binary_logloss: 0.0556729\n",
      "Early stopping, best iteration is:\n",
      "[96]\tvalid_0's binary_logloss: 0.0307871\tvalid_1's binary_logloss: 0.0513559\n"
     ]
    },
    {
     "name": "stderr",
     "output_type": "stream",
     "text": [
      "feature_fraction_stage2, val_score: 0.051356: 100%|######################################| 3/3 [00:00<00:00,  4.94it/s]\u001b[32m[I 2022-10-14 10:23:05,683]\u001b[0m Trial 39 finished with value: 0.0513558547634725 and parameters: {'feature_fraction': 0.48000000000000004}. Best is trial 37 with value: 0.0513558547634725.\u001b[0m\n",
      "feature_fraction_stage2, val_score: 0.051356: 100%|######################################| 3/3 [00:00<00:00,  4.93it/s]\n",
      "regularization_factors, val_score: 0.051356:   0%|                                              | 0/20 [00:00<?, ?it/s]"
     ]
    },
    {
     "name": "stdout",
     "output_type": "stream",
     "text": [
      "[100]\tvalid_0's binary_logloss: 0.0288979\tvalid_1's binary_logloss: 0.0527991\n"
     ]
    },
    {
     "name": "stderr",
     "output_type": "stream",
     "text": [
      "regularization_factors, val_score: 0.051356:   5%|#9                                    | 1/20 [00:00<00:03,  5.02it/s]\u001b[32m[I 2022-10-14 10:23:05,886]\u001b[0m Trial 40 finished with value: 0.0513558547634725 and parameters: {'lambda_l1': 7.320365281730991e-07, 'lambda_l2': 1.8755775499745472e-07}. Best is trial 40 with value: 0.0513558547634725.\u001b[0m\n",
      "regularization_factors, val_score: 0.051356:   5%|#9                                    | 1/20 [00:00<00:03,  5.02it/s]"
     ]
    },
    {
     "name": "stdout",
     "output_type": "stream",
     "text": [
      "Early stopping, best iteration is:\n",
      "[96]\tvalid_0's binary_logloss: 0.0307871\tvalid_1's binary_logloss: 0.0513559\n",
      "[100]\tvalid_0's binary_logloss: 0.028898\tvalid_1's binary_logloss: 0.0527991\n",
      "Early stopping, best iteration is:\n",
      "[96]\tvalid_0's binary_logloss: 0.0307871\tvalid_1's binary_logloss: 0.0513559\n"
     ]
    },
    {
     "name": "stderr",
     "output_type": "stream",
     "text": [
      "regularization_factors, val_score: 0.051356:  10%|###8                                  | 2/20 [00:00<00:03,  4.97it/s]\u001b[32m[I 2022-10-14 10:23:06,088]\u001b[0m Trial 41 finished with value: 0.0513558547634725 and parameters: {'lambda_l1': 4.950191644534553e-06, 'lambda_l2': 8.564140001772906e-08}. Best is trial 40 with value: 0.0513558547634725.\u001b[0m\n",
      "regularization_factors, val_score: 0.051356:  10%|###8                                  | 2/20 [00:00<00:03,  4.97it/s]"
     ]
    },
    {
     "name": "stdout",
     "output_type": "stream",
     "text": [
      "[100]\tvalid_0's binary_logloss: 0.0289695\tvalid_1's binary_logloss: 0.052823\n",
      "Early stopping, best iteration is:\n",
      "[96]\tvalid_0's binary_logloss: 0.0307871\tvalid_1's binary_logloss: 0.0513559\n"
     ]
    },
    {
     "name": "stderr",
     "output_type": "stream",
     "text": [
      "regularization_factors, val_score: 0.051356:  15%|#####7                                | 3/20 [00:00<00:03,  4.96it/s]\u001b[32m[I 2022-10-14 10:23:06,291]\u001b[0m Trial 42 finished with value: 0.0513558547634725 and parameters: {'lambda_l1': 0.0033108965283386647, 'lambda_l2': 1.1612243320193507e-08}. Best is trial 40 with value: 0.0513558547634725.\u001b[0m\n",
      "regularization_factors, val_score: 0.051356:  20%|#######6                              | 4/20 [00:00<00:03,  4.98it/s]\u001b[32m[I 2022-10-14 10:23:06,491]\u001b[0m Trial 43 finished with value: 0.0513558547634725 and parameters: {'lambda_l1': 1.375643343742966e-05, 'lambda_l2': 8.616940121379384e-06}. Best is trial 40 with value: 0.0513558547634725.\u001b[0m\n",
      "regularization_factors, val_score: 0.051356:  20%|#######6                              | 4/20 [00:00<00:03,  4.98it/s]"
     ]
    },
    {
     "name": "stdout",
     "output_type": "stream",
     "text": [
      "[100]\tvalid_0's binary_logloss: 0.0288985\tvalid_1's binary_logloss: 0.0527992\n",
      "Early stopping, best iteration is:\n",
      "[96]\tvalid_0's binary_logloss: 0.0307871\tvalid_1's binary_logloss: 0.0513559\n",
      "[100]\tvalid_0's binary_logloss: 0.0276326\tvalid_1's binary_logloss: 0.0545048\n"
     ]
    },
    {
     "name": "stderr",
     "output_type": "stream",
     "text": [
      "regularization_factors, val_score: 0.051356:  25%|#########5                            | 5/20 [00:01<00:03,  3.89it/s]\u001b[32m[I 2022-10-14 10:23:06,847]\u001b[0m Trial 44 finished with value: 0.11383864532836001 and parameters: {'lambda_l1': 0.00929837866187905, 'lambda_l2': 0.007513366375126625}. Best is trial 40 with value: 0.0513558547634725.\u001b[0m\n",
      "regularization_factors, val_score: 0.051356:  25%|#########5                            | 5/20 [00:01<00:03,  3.89it/s]"
     ]
    },
    {
     "name": "stdout",
     "output_type": "stream",
     "text": [
      "[200]\tvalid_0's binary_logloss: 0.00655369\tvalid_1's binary_logloss: 0.0521278\n",
      "[300]\tvalid_0's binary_logloss: 0.0013957\tvalid_1's binary_logloss: 0.0564929\n",
      "Early stopping, best iteration is:\n",
      "[257]\tvalid_0's binary_logloss: 6.75111e-06\tvalid_1's binary_logloss: 0.113839\n",
      "[100]\tvalid_0's binary_logloss: 0.0288989\tvalid_1's binary_logloss: 0.0527992\n",
      "[200]\tvalid_0's binary_logloss: 0.00634318\tvalid_1's binary_logloss: 0.0584002\n",
      "[300]\tvalid_0's binary_logloss: 0.00104324\tvalid_1's binary_logloss: 0.0649404\n"
     ]
    },
    {
     "name": "stderr",
     "output_type": "stream",
     "text": [
      "regularization_factors, val_score: 0.051356:  30%|###########4                          | 6/20 [00:01<00:04,  3.41it/s]\u001b[32m[I 2022-10-14 10:23:07,211]\u001b[0m Trial 45 finished with value: 0.11383864532836001 and parameters: {'lambda_l1': 1.086633630805613e-07, 'lambda_l2': 3.264220018318052e-05}. Best is trial 40 with value: 0.0513558547634725.\u001b[0m\n",
      "regularization_factors, val_score: 0.051356:  30%|###########4                          | 6/20 [00:01<00:04,  3.41it/s]"
     ]
    },
    {
     "name": "stdout",
     "output_type": "stream",
     "text": [
      "Early stopping, best iteration is:\n",
      "[257]\tvalid_0's binary_logloss: 6.75111e-06\tvalid_1's binary_logloss: 0.113839\n",
      "[100]\tvalid_0's binary_logloss: 0.0288979\tvalid_1's binary_logloss: 0.0527991\n",
      "[200]\tvalid_0's binary_logloss: 0.00634252\tvalid_1's binary_logloss: 0.0584009\n"
     ]
    },
    {
     "name": "stderr",
     "output_type": "stream",
     "text": [
      "regularization_factors, val_score: 0.051356:  35%|#############3                        | 7/20 [00:01<00:04,  3.22it/s]\u001b[32m[I 2022-10-14 10:23:07,558]\u001b[0m Trial 46 finished with value: 0.11383864532836001 and parameters: {'lambda_l1': 4.2172479088375003e-07, 'lambda_l2': 2.5558642773563075e-08}. Best is trial 40 with value: 0.0513558547634725.\u001b[0m\n",
      "regularization_factors, val_score: 0.051356:  35%|#############3                        | 7/20 [00:01<00:04,  3.22it/s]"
     ]
    },
    {
     "name": "stdout",
     "output_type": "stream",
     "text": [
      "[300]\tvalid_0's binary_logloss: 0.00104262\tvalid_1's binary_logloss: 0.0649468\n",
      "Early stopping, best iteration is:\n",
      "[257]\tvalid_0's binary_logloss: 6.75111e-06\tvalid_1's binary_logloss: 0.113839\n",
      "[100]\tvalid_0's binary_logloss: 0.0301686\tvalid_1's binary_logloss: 0.0565319\n"
     ]
    },
    {
     "name": "stderr",
     "output_type": "stream",
     "text": [
      "regularization_factors, val_score: 0.051356:  40%|###############2                      | 8/20 [00:02<00:03,  3.18it/s]\u001b[32m[I 2022-10-14 10:23:07,882]\u001b[0m Trial 47 finished with value: 0.11383864532836001 and parameters: {'lambda_l1': 0.09412949323434959, 'lambda_l2': 0.005454630510866179}. Best is trial 40 with value: 0.0513558547634725.\u001b[0m\n",
      "regularization_factors, val_score: 0.051356:  40%|###############2                      | 8/20 [00:02<00:03,  3.18it/s]"
     ]
    },
    {
     "name": "stdout",
     "output_type": "stream",
     "text": [
      "[200]\tvalid_0's binary_logloss: 0.00850169\tvalid_1's binary_logloss: 0.0603722\n",
      "[300]\tvalid_0's binary_logloss: 0.00326669\tvalid_1's binary_logloss: 0.0593113\n",
      "Early stopping, best iteration is:\n",
      "[257]\tvalid_0's binary_logloss: 6.75111e-06\tvalid_1's binary_logloss: 0.113839\n",
      "[100]\tvalid_0's binary_logloss: 0.0289092\tvalid_1's binary_logloss: 0.0528002\n",
      "[200]\tvalid_0's binary_logloss: 0.00633796\tvalid_1's binary_logloss: 0.0585702\n",
      "[300]\tvalid_0's binary_logloss: 0.00110943\tvalid_1's binary_logloss: 0.0673827\n"
     ]
    },
    {
     "name": "stderr",
     "output_type": "stream",
     "text": [
      "regularization_factors, val_score: 0.051356:  45%|#################1                    | 9/20 [00:02<00:03,  3.12it/s]\u001b[32m[I 2022-10-14 10:23:08,215]\u001b[0m Trial 48 finished with value: 0.11383864532836001 and parameters: {'lambda_l1': 2.888511830345385e-07, 'lambda_l2': 0.00037327972609692544}. Best is trial 40 with value: 0.0513558547634725.\u001b[0m\n",
      "regularization_factors, val_score: 0.051356:  45%|#################1                    | 9/20 [00:02<00:03,  3.12it/s]"
     ]
    },
    {
     "name": "stdout",
     "output_type": "stream",
     "text": [
      "Early stopping, best iteration is:\n",
      "[257]\tvalid_0's binary_logloss: 6.75111e-06\tvalid_1's binary_logloss: 0.113839\n",
      "[100]\tvalid_0's binary_logloss: 0.0540921\tvalid_1's binary_logloss: 0.067963\n",
      "[200]\tvalid_0's binary_logloss: 0.0289595\tvalid_1's binary_logloss: 0.0611183\n"
     ]
    },
    {
     "name": "stderr",
     "output_type": "stream",
     "text": [
      "regularization_factors, val_score: 0.051356:  50%|##################5                  | 10/20 [00:02<00:03,  3.12it/s]\u001b[32m[I 2022-10-14 10:23:08,536]\u001b[0m Trial 49 finished with value: 0.11383864532836001 and parameters: {'lambda_l1': 0.26533145032770605, 'lambda_l2': 1.4585067453154725}. Best is trial 40 with value: 0.0513558547634725.\u001b[0m\n",
      "regularization_factors, val_score: 0.051356:  50%|##################5                  | 10/20 [00:02<00:03,  3.12it/s]"
     ]
    },
    {
     "name": "stdout",
     "output_type": "stream",
     "text": [
      "[300]\tvalid_0's binary_logloss: 0.0168927\tvalid_1's binary_logloss: 0.0570295\n",
      "Early stopping, best iteration is:\n",
      "[257]\tvalid_0's binary_logloss: 6.75111e-06\tvalid_1's binary_logloss: 0.113839\n",
      "[100]\tvalid_0's binary_logloss: 0.0289012\tvalid_1's binary_logloss: 0.0528001\n"
     ]
    },
    {
     "name": "stderr",
     "output_type": "stream",
     "text": [
      "regularization_factors, val_score: 0.051356:  55%|####################3                | 11/20 [00:03<00:02,  3.08it/s]\u001b[32m[I 2022-10-14 10:23:08,870]\u001b[0m Trial 50 finished with value: 0.11383864532836001 and parameters: {'lambda_l1': 0.0001488706236673359, 'lambda_l2': 1.2147516898300734e-06}. Best is trial 40 with value: 0.0513558547634725.\u001b[0m\n",
      "regularization_factors, val_score: 0.051356:  55%|####################3                | 11/20 [00:03<00:02,  3.08it/s]"
     ]
    },
    {
     "name": "stdout",
     "output_type": "stream",
     "text": [
      "[200]\tvalid_0's binary_logloss: 0.00634479\tvalid_1's binary_logloss: 0.0583976\n",
      "[300]\tvalid_0's binary_logloss: 0.00104593\tvalid_1's binary_logloss: 0.0649097\n",
      "Early stopping, best iteration is:\n",
      "[257]\tvalid_0's binary_logloss: 6.75111e-06\tvalid_1's binary_logloss: 0.113839\n",
      "[100]\tvalid_0's binary_logloss: 0.0288981\tvalid_1's binary_logloss: 0.0527991\n",
      "[200]\tvalid_0's binary_logloss: 0.00634263\tvalid_1's binary_logloss: 0.0584008\n",
      "[300]\tvalid_0's binary_logloss: 0.00104277\tvalid_1's binary_logloss: 0.0649451\n"
     ]
    },
    {
     "name": "stderr",
     "output_type": "stream",
     "text": [
      "regularization_factors, val_score: 0.051356:  60%|######################2              | 12/20 [00:03<00:02,  3.00it/s]\u001b[32m[I 2022-10-14 10:23:09,221]\u001b[0m Trial 51 finished with value: 0.11383864532836001 and parameters: {'lambda_l1': 6.955053735356058e-06, 'lambda_l2': 5.439306535902506e-07}. Best is trial 40 with value: 0.0513558547634725.\u001b[0m\n",
      "regularization_factors, val_score: 0.051356:  60%|######################2              | 12/20 [00:03<00:02,  3.00it/s]"
     ]
    },
    {
     "name": "stdout",
     "output_type": "stream",
     "text": [
      "Early stopping, best iteration is:\n",
      "[257]\tvalid_0's binary_logloss: 6.75111e-06\tvalid_1's binary_logloss: 0.113839\n",
      "[100]\tvalid_0's binary_logloss: 0.0288979\tvalid_1's binary_logloss: 0.0527991\n",
      "[200]\tvalid_0's binary_logloss: 0.00634252\tvalid_1's binary_logloss: 0.0584009\n",
      "[300]\tvalid_0's binary_logloss: 0.00104261\tvalid_1's binary_logloss: 0.0649469\n",
      "Early stopping, best iteration is:\n",
      "[257]\tvalid_0's binary_logloss: 6.75111e-06\tvalid_1's binary_logloss: 0.113839\n"
     ]
    },
    {
     "name": "stderr",
     "output_type": "stream",
     "text": [
      "regularization_factors, val_score: 0.051356:  65%|########################             | 13/20 [00:04<00:02,  2.67it/s]\u001b[32m[I 2022-10-14 10:23:09,690]\u001b[0m Trial 52 finished with value: 0.11383864532836001 and parameters: {'lambda_l1': 1.6833567874123633e-08, 'lambda_l2': 2.0851297500373512e-07}. Best is trial 40 with value: 0.0513558547634725.\u001b[0m\n",
      "regularization_factors, val_score: 0.051356:  65%|########################             | 13/20 [00:04<00:02,  2.67it/s]"
     ]
    },
    {
     "name": "stdout",
     "output_type": "stream",
     "text": [
      "[100]\tvalid_0's binary_logloss: 0.0288986\tvalid_1's binary_logloss: 0.0527992\n",
      "[200]\tvalid_0's binary_logloss: 0.00634301\tvalid_1's binary_logloss: 0.0584003\n"
     ]
    },
    {
     "name": "stderr",
     "output_type": "stream",
     "text": [
      "regularization_factors, val_score: 0.051356:  70%|#########################9           | 14/20 [00:04<00:02,  2.51it/s]\u001b[32m[I 2022-10-14 10:23:10,145]\u001b[0m Trial 53 finished with value: 0.11383864532836001 and parameters: {'lambda_l1': 1.0078150643707246e-05, 'lambda_l2': 1.691790172075444e-05}. Best is trial 40 with value: 0.0513558547634725.\u001b[0m\n",
      "regularization_factors, val_score: 0.051356:  70%|#########################9           | 14/20 [00:04<00:02,  2.51it/s]"
     ]
    },
    {
     "name": "stdout",
     "output_type": "stream",
     "text": [
      "[300]\tvalid_0's binary_logloss: 0.00104316\tvalid_1's binary_logloss: 0.064941\n",
      "Early stopping, best iteration is:\n",
      "[257]\tvalid_0's binary_logloss: 6.75111e-06\tvalid_1's binary_logloss: 0.113839\n",
      "[100]\tvalid_0's binary_logloss: 0.0289051\tvalid_1's binary_logloss: 0.0528015\n",
      "[200]\tvalid_0's binary_logloss: 0.00633558\tvalid_1's binary_logloss: 0.0585721\n"
     ]
    },
    {
     "name": "stderr",
     "output_type": "stream",
     "text": [
      "regularization_factors, val_score: 0.051356:  75%|###########################7         | 15/20 [00:04<00:02,  2.40it/s]\u001b[32m[I 2022-10-14 10:23:10,606]\u001b[0m Trial 54 finished with value: 0.11383864532836001 and parameters: {'lambda_l1': 0.00033446918904305253, 'lambda_l2': 9.689638934145959e-08}. Best is trial 40 with value: 0.0513558547634725.\u001b[0m\n",
      "regularization_factors, val_score: 0.051356:  75%|###########################7         | 15/20 [00:04<00:02,  2.40it/s]"
     ]
    },
    {
     "name": "stdout",
     "output_type": "stream",
     "text": [
      "[300]\tvalid_0's binary_logloss: 0.00110946\tvalid_1's binary_logloss: 0.0673765\n",
      "Early stopping, best iteration is:\n",
      "[257]\tvalid_0's binary_logloss: 6.75111e-06\tvalid_1's binary_logloss: 0.113839\n",
      "[100]\tvalid_0's binary_logloss: 0.028898\tvalid_1's binary_logloss: 0.0527991\n",
      "[200]\tvalid_0's binary_logloss: 0.00634259\tvalid_1's binary_logloss: 0.0584008\n"
     ]
    },
    {
     "name": "stderr",
     "output_type": "stream",
     "text": [
      "regularization_factors, val_score: 0.051356:  80%|#############################6       | 16/20 [00:05<00:01,  2.36it/s]\u001b[32m[I 2022-10-14 10:23:11,045]\u001b[0m Trial 55 finished with value: 0.11383864532836001 and parameters: {'lambda_l1': 2.4374035294725564e-06, 'lambda_l2': 1.9438759321087697e-06}. Best is trial 40 with value: 0.0513558547634725.\u001b[0m\n",
      "regularization_factors, val_score: 0.051356:  80%|#############################6       | 16/20 [00:05<00:01,  2.36it/s]"
     ]
    },
    {
     "name": "stdout",
     "output_type": "stream",
     "text": [
      "[300]\tvalid_0's binary_logloss: 0.0010427\tvalid_1's binary_logloss: 0.064946\n",
      "Early stopping, best iteration is:\n",
      "[257]\tvalid_0's binary_logloss: 6.75111e-06\tvalid_1's binary_logloss: 0.113839\n",
      "[100]\tvalid_0's binary_logloss: 0.161595\tvalid_1's binary_logloss: 0.145612\n"
     ]
    },
    {
     "name": "stderr",
     "output_type": "stream",
     "text": [
      "regularization_factors, val_score: 0.051356:  85%|###############################4     | 17/20 [00:05<00:01,  2.55it/s]\u001b[32m[I 2022-10-14 10:23:11,364]\u001b[0m Trial 56 finished with value: 0.11383864532836001 and parameters: {'lambda_l1': 7.333598588024963, 'lambda_l2': 0.0005472763090751571}. Best is trial 40 with value: 0.0513558547634725.\u001b[0m\n",
      "regularization_factors, val_score: 0.051356:  85%|###############################4     | 17/20 [00:05<00:01,  2.55it/s]"
     ]
    },
    {
     "name": "stdout",
     "output_type": "stream",
     "text": [
      "[200]\tvalid_0's binary_logloss: 0.141489\tvalid_1's binary_logloss: 0.125931\n",
      "[300]\tvalid_0's binary_logloss: 0.139729\tvalid_1's binary_logloss: 0.123581\n",
      "Early stopping, best iteration is:\n",
      "[257]\tvalid_0's binary_logloss: 6.75111e-06\tvalid_1's binary_logloss: 0.113839\n",
      "[100]\tvalid_0's binary_logloss: 0.037769\tvalid_1's binary_logloss: 0.063262\n",
      "[200]\tvalid_0's binary_logloss: 0.0147371\tvalid_1's binary_logloss: 0.0577795\n"
     ]
    },
    {
     "name": "stderr",
     "output_type": "stream",
     "text": [
      "regularization_factors, val_score: 0.051356:  90%|#################################3   | 18/20 [00:06<00:00,  2.47it/s]\u001b[32m[I 2022-10-14 10:23:11,798]\u001b[0m Trial 57 finished with value: 0.11383864532836001 and parameters: {'lambda_l1': 0.00010123204549680994, 'lambda_l2': 0.5683714214313501}. Best is trial 40 with value: 0.0513558547634725.\u001b[0m\n",
      "regularization_factors, val_score: 0.051356:  90%|#################################3   | 18/20 [00:06<00:00,  2.47it/s]"
     ]
    },
    {
     "name": "stdout",
     "output_type": "stream",
     "text": [
      "[300]\tvalid_0's binary_logloss: 0.00589307\tvalid_1's binary_logloss: 0.0578838\n",
      "Early stopping, best iteration is:\n",
      "[257]\tvalid_0's binary_logloss: 6.75111e-06\tvalid_1's binary_logloss: 0.113839\n",
      "[100]\tvalid_0's binary_logloss: 0.0288979\tvalid_1's binary_logloss: 0.0527991\n"
     ]
    },
    {
     "name": "stderr",
     "output_type": "stream",
     "text": [
      "regularization_factors, val_score: 0.051356:  90%|#################################3   | 18/20 [00:06<00:00,  2.47it/s]"
     ]
    },
    {
     "name": "stdout",
     "output_type": "stream",
     "text": [
      "[200]\tvalid_0's binary_logloss: 0.00634252\tvalid_1's binary_logloss: 0.0584009\n",
      "[300]\tvalid_0's binary_logloss: 0.00104261\tvalid_1's binary_logloss: 0.0649469\n",
      "Early stopping, best iteration is:\n",
      "[257]\tvalid_0's binary_logloss: 6.75111e-06\tvalid_1's binary_logloss: 0.113839\n"
     ]
    },
    {
     "name": "stderr",
     "output_type": "stream",
     "text": [
      "regularization_factors, val_score: 0.051356:  95%|###################################1 | 19/20 [00:06<00:00,  2.41it/s]\u001b[32m[I 2022-10-14 10:23:12,236]\u001b[0m Trial 58 finished with value: 0.11383864532836001 and parameters: {'lambda_l1': 1.1113779068838255e-08, 'lambda_l2': 7.719141958320489e-08}. Best is trial 40 with value: 0.0513558547634725.\u001b[0m\n",
      "regularization_factors, val_score: 0.051356:  95%|###################################1 | 19/20 [00:06<00:00,  2.41it/s]"
     ]
    },
    {
     "name": "stdout",
     "output_type": "stream",
     "text": [
      "[100]\tvalid_0's binary_logloss: 0.0289\tvalid_1's binary_logloss: 0.0527993\n",
      "[200]\tvalid_0's binary_logloss: 0.00634389\tvalid_1's binary_logloss: 0.0583994\n"
     ]
    },
    {
     "name": "stderr",
     "output_type": "stream",
     "text": [
      "regularization_factors, val_score: 0.051356: 100%|#####################################| 20/20 [00:06<00:00,  2.35it/s]\u001b[32m[I 2022-10-14 10:23:12,686]\u001b[0m Trial 59 finished with value: 0.11383864532836001 and parameters: {'lambda_l1': 1.1351750583942137e-06, 'lambda_l2': 6.738277151178316e-05}. Best is trial 40 with value: 0.0513558547634725.\u001b[0m\n",
      "regularization_factors, val_score: 0.051356: 100%|#####################################| 20/20 [00:07<00:00,  2.86it/s]\n"
     ]
    },
    {
     "name": "stdout",
     "output_type": "stream",
     "text": [
      "[300]\tvalid_0's binary_logloss: 0.00104394\tvalid_1's binary_logloss: 0.0649331\n",
      "Early stopping, best iteration is:\n",
      "[257]\tvalid_0's binary_logloss: 6.75111e-06\tvalid_1's binary_logloss: 0.113839\n"
     ]
    },
    {
     "name": "stderr",
     "output_type": "stream",
     "text": [
      "min_data_in_leaf, val_score: 0.051356:   0%|                                                     | 0/5 [00:00<?, ?it/s]"
     ]
    },
    {
     "name": "stdout",
     "output_type": "stream",
     "text": [
      "[100]\tvalid_0's binary_logloss: 0.112885\tvalid_1's binary_logloss: 0.07425\n",
      "[200]\tvalid_0's binary_logloss: 0.0884993\tvalid_1's binary_logloss: 0.0579822\n",
      "[300]\tvalid_0's binary_logloss: 0.0757634\tvalid_1's binary_logloss: 0.0663934\n"
     ]
    },
    {
     "name": "stderr",
     "output_type": "stream",
     "text": [
      "min_data_in_leaf, val_score: 0.051356:  20%|#########                                    | 1/5 [00:00<00:01,  3.26it/s]\u001b[32m[I 2022-10-14 10:23:12,998]\u001b[0m Trial 60 finished with value: 0.11383864532836001 and parameters: {'min_child_samples': 100}. Best is trial 60 with value: 0.11383864532836001.\u001b[0m\n",
      "min_data_in_leaf, val_score: 0.051356:  20%|#########                                    | 1/5 [00:00<00:01,  3.26it/s]"
     ]
    },
    {
     "name": "stdout",
     "output_type": "stream",
     "text": [
      "Early stopping, best iteration is:\n",
      "[257]\tvalid_0's binary_logloss: 6.75111e-06\tvalid_1's binary_logloss: 0.113839\n",
      "[100]\tvalid_0's binary_logloss: 0.0446722\tvalid_1's binary_logloss: 0.0632043\n",
      "[200]\tvalid_0's binary_logloss: 0.0155952\tvalid_1's binary_logloss: 0.0654017\n"
     ]
    },
    {
     "name": "stderr",
     "output_type": "stream",
     "text": [
      "min_data_in_leaf, val_score: 0.051356:  20%|#########                                    | 1/5 [00:00<00:01,  3.26it/s]"
     ]
    },
    {
     "name": "stdout",
     "output_type": "stream",
     "text": [
      "[300]\tvalid_0's binary_logloss: 0.0035121\tvalid_1's binary_logloss: 0.0623906\n",
      "Early stopping, best iteration is:\n",
      "[257]\tvalid_0's binary_logloss: 6.75111e-06\tvalid_1's binary_logloss: 0.113839\n"
     ]
    },
    {
     "name": "stderr",
     "output_type": "stream",
     "text": [
      "min_data_in_leaf, val_score: 0.051356:  40%|##################                           | 2/5 [00:00<00:01,  2.59it/s]\u001b[32m[I 2022-10-14 10:23:13,439]\u001b[0m Trial 61 finished with value: 0.11383864532836001 and parameters: {'min_child_samples': 50}. Best is trial 60 with value: 0.11383864532836001.\u001b[0m\n",
      "min_data_in_leaf, val_score: 0.051356:  40%|##################                           | 2/5 [00:00<00:01,  2.59it/s]"
     ]
    },
    {
     "name": "stdout",
     "output_type": "stream",
     "text": [
      "[100]\tvalid_0's binary_logloss: 0.0250372\tvalid_1's binary_logloss: 0.0579334\n",
      "[200]\tvalid_0's binary_logloss: 0.00640314\tvalid_1's binary_logloss: 0.0632146\n"
     ]
    },
    {
     "name": "stderr",
     "output_type": "stream",
     "text": [
      "min_data_in_leaf, val_score: 0.051356:  40%|##################                           | 2/5 [00:01<00:01,  2.59it/s]"
     ]
    },
    {
     "name": "stdout",
     "output_type": "stream",
     "text": [
      "[300]\tvalid_0's binary_logloss: 0.00081911\tvalid_1's binary_logloss: 0.0820502\n",
      "Early stopping, best iteration is:\n",
      "[257]\tvalid_0's binary_logloss: 6.75111e-06\tvalid_1's binary_logloss: 0.113839\n"
     ]
    },
    {
     "name": "stderr",
     "output_type": "stream",
     "text": [
      "min_data_in_leaf, val_score: 0.051356:  60%|###########################                  | 3/5 [00:01<00:00,  2.46it/s]\u001b[32m[I 2022-10-14 10:23:13,870]\u001b[0m Trial 62 finished with value: 0.11383864532836001 and parameters: {'min_child_samples': 5}. Best is trial 60 with value: 0.11383864532836001.\u001b[0m\n",
      "min_data_in_leaf, val_score: 0.051356:  60%|###########################                  | 3/5 [00:01<00:00,  2.46it/s]"
     ]
    },
    {
     "name": "stdout",
     "output_type": "stream",
     "text": [
      "[100]\tvalid_0's binary_logloss: 0.0251707\tvalid_1's binary_logloss: 0.0613636\n",
      "[200]\tvalid_0's binary_logloss: 0.00639003\tvalid_1's binary_logloss: 0.0655748\n"
     ]
    },
    {
     "name": "stderr",
     "output_type": "stream",
     "text": [
      "min_data_in_leaf, val_score: 0.051356:  60%|###########################                  | 3/5 [00:01<00:00,  2.46it/s]"
     ]
    },
    {
     "name": "stdout",
     "output_type": "stream",
     "text": [
      "[300]\tvalid_0's binary_logloss: 0.000955439\tvalid_1's binary_logloss: 0.0704225\n",
      "Early stopping, best iteration is:\n",
      "[257]\tvalid_0's binary_logloss: 6.75111e-06\tvalid_1's binary_logloss: 0.113839\n"
     ]
    },
    {
     "name": "stderr",
     "output_type": "stream",
     "text": [
      "min_data_in_leaf, val_score: 0.051356:  80%|####################################         | 4/5 [00:01<00:00,  2.38it/s]\u001b[32m[I 2022-10-14 10:23:14,313]\u001b[0m Trial 63 finished with value: 0.11383864532836001 and parameters: {'min_child_samples': 10}. Best is trial 60 with value: 0.11383864532836001.\u001b[0m\n",
      "min_data_in_leaf, val_score: 0.051356:  80%|####################################         | 4/5 [00:01<00:00,  2.38it/s]"
     ]
    },
    {
     "name": "stdout",
     "output_type": "stream",
     "text": [
      "[100]\tvalid_0's binary_logloss: 0.0307384\tvalid_1's binary_logloss: 0.0552838\n"
     ]
    },
    {
     "name": "stderr",
     "output_type": "stream",
     "text": [
      "min_data_in_leaf, val_score: 0.045096: 100%|#############################################| 5/5 [00:01<00:00,  2.70it/s]\u001b[32m[I 2022-10-14 10:23:14,592]\u001b[0m Trial 64 finished with value: 0.045095740345072945 and parameters: {'min_child_samples': 25}. Best is trial 64 with value: 0.045095740345072945.\u001b[0m\n",
      "min_data_in_leaf, val_score: 0.045096: 100%|#############################################| 5/5 [00:01<00:00,  2.63it/s]"
     ]
    },
    {
     "name": "stdout",
     "output_type": "stream",
     "text": [
      "[200]\tvalid_0's binary_logloss: 0.00695063\tvalid_1's binary_logloss: 0.0539324\n",
      "Early stopping, best iteration is:\n",
      "[119]\tvalid_0's binary_logloss: 0.0234744\tvalid_1's binary_logloss: 0.0450957\n",
      "Best params: {'objective': 'binary', 'metric': 'binary_logloss', 'verbosity': -1, 'boosting_type': 'gbdt', 'feature_pre_filter': False, 'lambda_l1': 0.0, 'lambda_l2': 0.0, 'num_leaves': 3, 'feature_fraction': 0.4, 'bagging_fraction': 0.4660189586599904, 'bagging_freq': 4, 'min_child_samples': 25, 'num_iterations': 1000, 'early_stopping_round': None}\n",
      "  Accuracy = 0.986013986013986\n",
      "  Params: \n",
      "    objective: binary\n",
      "    metric: binary_logloss\n",
      "    verbosity: -1\n",
      "    boosting_type: gbdt\n",
      "    feature_pre_filter: False\n",
      "    lambda_l1: 0.0\n",
      "    lambda_l2: 0.0\n",
      "    num_leaves: 3\n",
      "    feature_fraction: 0.4\n",
      "    bagging_fraction: 0.4660189586599904\n",
      "    bagging_freq: 4\n",
      "    min_child_samples: 25\n",
      "    num_iterations: 1000\n",
      "    early_stopping_round: None\n"
     ]
    },
    {
     "name": "stderr",
     "output_type": "stream",
     "text": [
      "\n"
     ]
    }
   ],
   "source": [
    "data, target = sklearn.datasets.load_breast_cancer(return_X_y=True)\n",
    "train_x, val_x, train_y, val_y = train_test_split(data, target, test_size=0.25)\n",
    "dtrain = lgb.Dataset(train_x, label=train_y)\n",
    "dval = lgb.Dataset(val_x, label=val_y)\n",
    "\n",
    "params = {\n",
    "    \"objective\": \"binary\",\n",
    "    \"metric\": \"binary_logloss\",\n",
    "    \"verbosity\": -1,\n",
    "    \"boosting_type\": \"gbdt\",\n",
    "}\n",
    "\n",
    "model = lgb.train(\n",
    "    params,\n",
    "    dtrain,\n",
    "    valid_sets=[dtrain, dval],\n",
    "    callbacks=[early_stopping(100), log_evaluation(100)],\n",
    ")\n",
    "\n",
    "prediction = np.rint(model.predict(val_x, num_iteration=model.best_iteration))\n",
    "accuracy = accuracy_score(val_y, prediction)\n",
    "\n",
    "best_params = model.params\n",
    "print(\"Best params:\", best_params)\n",
    "print(\"  Accuracy = {}\".format(accuracy))\n",
    "print(\"  Params: \")\n",
    "for key, value in best_params.items():\n",
    "    print(\"    {}: {}\".format(key, value))"
   ]
  },
  {
   "cell_type": "code",
   "execution_count": null,
   "id": "7e9daa41-64dd-4561-b906-5b80c3554393",
   "metadata": {},
   "outputs": [],
   "source": []
  }
 ],
 "metadata": {
  "kernelspec": {
   "display_name": "Python 3 (ipykernel)",
   "language": "python",
   "name": "python3"
  },
  "language_info": {
   "codemirror_mode": {
    "name": "ipython",
    "version": 3
   },
   "file_extension": ".py",
   "mimetype": "text/x-python",
   "name": "python",
   "nbconvert_exporter": "python",
   "pygments_lexer": "ipython3",
   "version": "3.10.6"
  }
 },
 "nbformat": 4,
 "nbformat_minor": 5
}
