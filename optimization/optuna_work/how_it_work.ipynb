{
 "cells": [
  {
   "cell_type": "code",
   "execution_count": 1,
   "id": "97c57ff2-193f-4de0-82a9-455b52817692",
   "metadata": {},
   "outputs": [],
   "source": [
    "import optuna "
   ]
  },
  {
   "cell_type": "markdown",
   "id": "cf8baf30-f056-42d6-a0b1-1f89c47f6d3e",
   "metadata": {},
   "source": [
    "Let's familiarize ourselves with Optuna API by tuning a simple function like (x − 1)^2 + (y + 3)^2. We know the function reaches its minimum at x=1 and y=-3"
   ]
  },
  {
   "cell_type": "code",
   "execution_count": 2,
   "id": "b560171d-5b69-4b36-92e3-75548eab01da",
   "metadata": {},
   "outputs": [],
   "source": [
    "def objective(trial):\n",
    "    x = trial.suggest_float(\"x\", -7, 7)\n",
    "    y = trial.suggest_float(\"y\", -7, 7)\n",
    "    return (x - 1) ** 2 + (y + 3) ** 2"
   ]
  },
  {
   "cell_type": "code",
   "execution_count": 7,
   "id": "2533dd82-0b64-4412-b780-5058fd671870",
   "metadata": {},
   "outputs": [
    {
     "name": "stdout",
     "output_type": "stream",
     "text": [
      "{'x': 1.1030216827456774, 'y': -2.9419815298767023}\n"
     ]
    }
   ],
   "source": [
    "optuna.logging.set_verbosity(optuna.logging.WARNING)\n",
    "\n",
    "study = optuna.create_study()\n",
    "study.optimize(objective, n_trials=100)\n",
    "print(study.best_params)"
   ]
  },
  {
   "cell_type": "markdown",
   "id": "a78cdb9b-f36c-429c-bd7b-79a837ac57ce",
   "metadata": {},
   "source": [
    "We can resume the optimization even after it is finished if we are not satisfied with the results!\n",
    "This is a distinct advantage over other similar tools because after the search is done, they completely forget the history of previous trials. Optuna does not!\n",
    "To continue searching, call optimize again with the desired params."
   ]
  },
  {
   "cell_type": "code",
   "execution_count": 8,
   "id": "0d7c95df-e9bd-4473-b020-da13a0d8d761",
   "metadata": {},
   "outputs": [
    {
     "name": "stdout",
     "output_type": "stream",
     "text": [
      "{'x': 1.028264107792192, 'y': -3.0640548707892306}\n"
     ]
    }
   ],
   "source": [
    "study.optimize(objective, n_trials=100)\n",
    "print(study.best_params)"
   ]
  },
  {
   "cell_type": "code",
   "execution_count": null,
   "id": "8e45faba-7040-4f89-82a2-5090c03ebee0",
   "metadata": {},
   "outputs": [],
   "source": []
  }
 ],
 "metadata": {
  "kernelspec": {
   "display_name": "Python 3 (ipykernel)",
   "language": "python",
   "name": "python3"
  },
  "language_info": {
   "codemirror_mode": {
    "name": "ipython",
    "version": 3
   },
   "file_extension": ".py",
   "mimetype": "text/x-python",
   "name": "python",
   "nbconvert_exporter": "python",
   "pygments_lexer": "ipython3",
   "version": "3.10.6"
  }
 },
 "nbformat": 4,
 "nbformat_minor": 5
}
