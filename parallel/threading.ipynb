{
 "cells": [
  {
   "cell_type": "code",
   "execution_count": 25,
   "outputs": [],
   "source": [
    "from urllib.request import urlopen\n",
    "\n",
    "\n",
    "def download_url(url):\n",
    "    with urlopen(url, timeout=3) as connection:\n",
    "        return connection.read(), url\n",
    "    \n",
    "    \n",
    "def save_file(url, data, path):\n",
    "    filename = path / f\"{url.split('/')[-1]}\"\n",
    "    with open(str(filename), 'wb') as file:\n",
    "        file.write(data)\n",
    "    print(filename)\n",
    "\n",
    "def download_and_save(url, path):\n",
    "    data, url = download_url(url)\n",
    "    save_file(url, data, path)"
   ],
   "metadata": {
    "collapsed": false,
    "ExecuteTime": {
     "end_time": "2023-08-31T09:28:55.198986Z",
     "start_time": "2023-08-31T09:28:55.188889Z"
    }
   },
   "id": "24f2d9a01c6f6029"
  },
  {
   "cell_type": "code",
   "execution_count": 26,
   "outputs": [],
   "source": [
    "# python concurrency API docs\n",
    "urls = [\n",
    "    'https://docs.python.org/3/library/concurrency.html',\n",
    "    'https://docs.python.org/3/library/concurrent.html',\n",
    "    'https://docs.python.org/3/library/concurrent.futures.html',\n",
    "    'https://docs.python.org/3/library/threading.html',\n",
    "    'https://docs.python.org/3/library/multiprocessing.html',\n",
    "    'https://docs.python.org/3/library/multiprocessing.shared_memory.html',\n",
    "    'https://docs.python.org/3/library/subprocess.html',\n",
    "    'https://docs.python.org/3/library/queue.html',\n",
    "    'https://docs.python.org/3/library/sched.html',\n",
    "    'https://docs.python.org/3/library/contextvars.html'\n",
    "]"
   ],
   "metadata": {
    "collapsed": false,
    "ExecuteTime": {
     "end_time": "2023-08-31T09:28:56.598300Z",
     "start_time": "2023-08-31T09:28:56.592659Z"
    }
   },
   "id": "180a58fe377247c4"
  },
  {
   "cell_type": "markdown",
   "source": [
    "# 1. Iterates"
   ],
   "metadata": {
    "collapsed": false
   },
   "id": "b959352e5cbf5b6c"
  },
  {
   "cell_type": "code",
   "execution_count": 27,
   "outputs": [
    {
     "name": "stderr",
     "output_type": "stream",
     "text": [
      " 20%|██        | 2/10 [00:00<00:01,  5.53it/s]"
     ]
    },
    {
     "name": "stdout",
     "output_type": "stream",
     "text": [
      "docs/concurrency.html\n",
      "docs/concurrent.html\n"
     ]
    },
    {
     "name": "stderr",
     "output_type": "stream",
     "text": [
      " 30%|███       | 3/10 [00:00<00:01,  5.14it/s]"
     ]
    },
    {
     "name": "stdout",
     "output_type": "stream",
     "text": [
      "docs/concurrent.futures.html\n"
     ]
    },
    {
     "name": "stderr",
     "output_type": "stream",
     "text": [
      " 40%|████      | 4/10 [00:00<00:01,  4.68it/s]"
     ]
    },
    {
     "name": "stdout",
     "output_type": "stream",
     "text": [
      "docs/threading.html\n"
     ]
    },
    {
     "name": "stderr",
     "output_type": "stream",
     "text": [
      " 50%|█████     | 5/10 [00:01<00:01,  3.88it/s]"
     ]
    },
    {
     "name": "stdout",
     "output_type": "stream",
     "text": [
      "docs/multiprocessing.html\n"
     ]
    },
    {
     "name": "stderr",
     "output_type": "stream",
     "text": [
      " 60%|██████    | 6/10 [00:01<00:00,  4.17it/s]"
     ]
    },
    {
     "name": "stdout",
     "output_type": "stream",
     "text": [
      "docs/multiprocessing.shared_memory.html\n"
     ]
    },
    {
     "name": "stderr",
     "output_type": "stream",
     "text": [
      " 80%|████████  | 8/10 [00:02<00:00,  3.18it/s]"
     ]
    },
    {
     "name": "stdout",
     "output_type": "stream",
     "text": [
      "docs/subprocess.html\n",
      "docs/queue.html\n"
     ]
    },
    {
     "name": "stderr",
     "output_type": "stream",
     "text": [
      "100%|██████████| 10/10 [00:02<00:00,  3.94it/s]"
     ]
    },
    {
     "name": "stdout",
     "output_type": "stream",
     "text": [
      "docs/sched.html\n",
      "docs/contextvars.html\n"
     ]
    },
    {
     "name": "stderr",
     "output_type": "stream",
     "text": [
      "\n"
     ]
    }
   ],
   "source": [
    "from pathlib import Path\n",
    "from tqdm import tqdm\n",
    "\n",
    "path = Path('docs')\n",
    "path.mkdir(parents=True, exist_ok=True)\n",
    "for url in tqdm(urls):\n",
    "    download_and_save(url, path)"
   ],
   "metadata": {
    "collapsed": false,
    "ExecuteTime": {
     "end_time": "2023-08-31T09:28:59.757457Z",
     "start_time": "2023-08-31T09:28:57.214747Z"
    }
   },
   "id": "514be5bf5a95a502"
  },
  {
   "cell_type": "markdown",
   "source": [
    "# 2. Concurrently With submit()"
   ],
   "metadata": {
    "collapsed": false
   },
   "id": "95d811829826b1af"
  },
  {
   "cell_type": "code",
   "execution_count": 28,
   "outputs": [
    {
     "name": "stderr",
     "output_type": "stream",
     "text": [
      "100%|██████████| 10/10 [00:00<00:00, 885.51it/s]\n"
     ]
    },
    {
     "name": "stdout",
     "output_type": "stream",
     "text": [
      "docs/sched.html\n",
      "docs/contextvars.html\n",
      "docs/queue.html\n",
      "docs/multiprocessing.shared_memory.html\n",
      "docs/concurrent.futures.html\n",
      "docs/concurrent.html\n",
      "docs/subprocess.html\n",
      "docs/threading.html\n",
      "docs/concurrency.html\n",
      "docs/multiprocessing.html\n"
     ]
    }
   ],
   "source": [
    "from concurrent.futures import ThreadPoolExecutor\n",
    "\n",
    "\n",
    "n_threads = len(urls)\n",
    "with ThreadPoolExecutor(n_threads) as executor:\n",
    "    _ = [executor.submit(download_and_save, url, path) for url in tqdm(urls)]"
   ],
   "metadata": {
    "collapsed": false,
    "ExecuteTime": {
     "end_time": "2023-08-31T09:29:01.438484Z",
     "start_time": "2023-08-31T09:28:59.990648Z"
    }
   },
   "id": "987c640045050842"
  },
  {
   "cell_type": "code",
   "execution_count": 29,
   "outputs": [
    {
     "name": "stdout",
     "output_type": "stream",
     "text": [
      "docs/concurrency.html\n",
      ">Saved https://docs.python.org/3/library/concurrency.html to None\n",
      "docs/concurrent.html\n",
      ">Saved https://docs.python.org/3/library/concurrent.html to None\n",
      "docs/concurrent.futures.html\n",
      ">Saved https://docs.python.org/3/library/concurrent.futures.html to None\n",
      "docs/threading.html\n",
      ">Saved https://docs.python.org/3/library/threading.html to None\n",
      "docs/multiprocessing.html\n",
      ">Saved https://docs.python.org/3/library/multiprocessing.html to None\n",
      "docs/multiprocessing.shared_memory.html\n",
      ">Saved https://docs.python.org/3/library/multiprocessing.shared_memory.html to None\n",
      "docs/subprocess.html\n",
      ">Saved https://docs.python.org/3/library/subprocess.html to None\n",
      "docs/queue.html\n",
      ">Saved https://docs.python.org/3/library/queue.html to None\n",
      "docs/sched.html\n",
      ">Saved https://docs.python.org/3/library/sched.html to None\n",
      "docs/contextvars.html\n",
      ">Saved https://docs.python.org/3/library/contextvars.html to None\n"
     ]
    }
   ],
   "source": [
    "with ThreadPoolExecutor(n_threads) as executor:\n",
    "    # download each url and save as a local file\n",
    "    futures = [executor.submit(download_url, url) for url in urls]\n",
    "    # process each result as it is available\n",
    "    for future in futures:\n",
    "        # get the downloaded url data\n",
    "        data, url = future.result()\n",
    "        # check for no data\n",
    "        if data is None:\n",
    "            print(f'>Error downloading {url}')\n",
    "            continue\n",
    "        # save the data to a local file\n",
    "        outpath = save_file(url, data, path)\n",
    "        # report progress\n",
    "        print(f'>Saved {url} to {outpath}')"
   ],
   "metadata": {
    "collapsed": false,
    "ExecuteTime": {
     "end_time": "2023-08-31T09:29:03.960404Z",
     "start_time": "2023-08-31T09:29:02.300565Z"
    }
   },
   "id": "5f73c9f72c278ff5"
  },
  {
   "cell_type": "code",
   "execution_count": null,
   "outputs": [],
   "source": [],
   "metadata": {
    "collapsed": false
   },
   "id": "13d4f028be5e24a3"
  }
 ],
 "metadata": {
  "kernelspec": {
   "display_name": "Python 3",
   "language": "python",
   "name": "python3"
  },
  "language_info": {
   "codemirror_mode": {
    "name": "ipython",
    "version": 2
   },
   "file_extension": ".py",
   "mimetype": "text/x-python",
   "name": "python",
   "nbconvert_exporter": "python",
   "pygments_lexer": "ipython2",
   "version": "2.7.6"
  }
 },
 "nbformat": 4,
 "nbformat_minor": 5
}
