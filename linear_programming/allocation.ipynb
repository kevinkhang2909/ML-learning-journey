{
 "cells": [
  {
   "cell_type": "markdown",
   "id": "4f69ac6b-61fc-4c1d-a2ee-afdd4a4b0877",
   "metadata": {},
   "source": [
    "# Motivation\n",
    "Imagine you are a manager of a warehouse. You need to prepare racks and pallets for storing items. So how many racks and pallet you need to plan for your organization?\n",
    "\n",
    "# Introduction to PuLP\n",
    "Linear programming (LP) is one of the best methods to find optimal solutions for problems with constraints like the above. PuLP is a Python library that makes it easy to apply linear programming using Python."
   ]
  },
  {
   "cell_type": "code",
   "execution_count": 1,
   "id": "ffac3474-3898-4c1b-b89c-45d3c13cf460",
   "metadata": {},
   "outputs": [],
   "source": [
    "import pandas as pd\n",
    "import pulp\n",
    "from itertools import product\n",
    "from termcolor import colored"
   ]
  },
  {
   "cell_type": "code",
   "execution_count": 2,
   "id": "2e431fce-d0c5-4dc0-99f7-1258f5ebacb9",
   "metadata": {},
   "outputs": [
    {
     "data": {
      "text/html": [
       "<div>\n",
       "<style scoped>\n",
       "    .dataframe tbody tr th:only-of-type {\n",
       "        vertical-align: middle;\n",
       "    }\n",
       "\n",
       "    .dataframe tbody tr th {\n",
       "        vertical-align: top;\n",
       "    }\n",
       "\n",
       "    .dataframe thead th {\n",
       "        text-align: right;\n",
       "    }\n",
       "</style>\n",
       "<table border=\"1\" class=\"dataframe\">\n",
       "  <thead>\n",
       "    <tr style=\"text-align: right;\">\n",
       "      <th></th>\n",
       "      <th>definition</th>\n",
       "      <th>unit</th>\n",
       "      <th>var</th>\n",
       "      <th>value</th>\n",
       "    </tr>\n",
       "  </thead>\n",
       "  <tbody>\n",
       "    <tr>\n",
       "      <th>0</th>\n",
       "      <td>Stock A</td>\n",
       "      <td>item</td>\n",
       "      <td>Da</td>\n",
       "      <td>1074887</td>\n",
       "    </tr>\n",
       "    <tr>\n",
       "      <th>1</th>\n",
       "      <td>Stock B</td>\n",
       "      <td>item</td>\n",
       "      <td>Db</td>\n",
       "      <td>22080</td>\n",
       "    </tr>\n",
       "    <tr>\n",
       "      <th>2</th>\n",
       "      <td>Rack capacity for A</td>\n",
       "      <td>item</td>\n",
       "      <td>Cr_a</td>\n",
       "      <td>7911</td>\n",
       "    </tr>\n",
       "    <tr>\n",
       "      <th>3</th>\n",
       "      <td>Rack capacity for B</td>\n",
       "      <td>item</td>\n",
       "      <td>Cr_b</td>\n",
       "      <td>561</td>\n",
       "    </tr>\n",
       "    <tr>\n",
       "      <th>4</th>\n",
       "      <td>Pallet capacity for A</td>\n",
       "      <td>item</td>\n",
       "      <td>Cp_a</td>\n",
       "      <td>375</td>\n",
       "    </tr>\n",
       "    <tr>\n",
       "      <th>5</th>\n",
       "      <td>Pallet capacity for B</td>\n",
       "      <td>item</td>\n",
       "      <td>Cp_b</td>\n",
       "      <td>58</td>\n",
       "    </tr>\n",
       "    <tr>\n",
       "      <th>6</th>\n",
       "      <td>Minimum total nb of racks</td>\n",
       "      <td>rack</td>\n",
       "      <td>NB r</td>\n",
       "      <td>954</td>\n",
       "    </tr>\n",
       "    <tr>\n",
       "      <th>7</th>\n",
       "      <td>Minimum total nb of pallets</td>\n",
       "      <td>pallet</td>\n",
       "      <td>NB p</td>\n",
       "      <td>785</td>\n",
       "    </tr>\n",
       "  </tbody>\n",
       "</table>\n",
       "</div>"
      ],
      "text/plain": [
       "                    definition    unit   var    value\n",
       "0                      Stock A    item    Da  1074887\n",
       "1                      Stock B    item    Db    22080\n",
       "2          Rack capacity for A    item  Cr_a     7911\n",
       "3          Rack capacity for B    item  Cr_b      561\n",
       "4        Pallet capacity for A    item  Cp_a      375\n",
       "5        Pallet capacity for B    item  Cp_b       58\n",
       "6    Minimum total nb of racks    rack  NB r      954\n",
       "7  Minimum total nb of pallets  pallet  NB p      785"
      ]
     },
     "execution_count": 2,
     "metadata": {},
     "output_type": "execute_result"
    }
   ],
   "source": [
    "d = {\n",
    "    'definition': ['Stock A', 'Stock B', 'Rack capacity for A', 'Rack capacity for B',\n",
    "                  'Pallet capacity for A', 'Pallet capacity for B', 'Minimum total nb of racks', 'Minimum total nb of pallets'],\n",
    "    'unit': ['item', 'item', 'item', 'item', 'item', 'item', 'rack', 'pallet'],\n",
    "    'var': ['Da', 'Db', 'Cr_a', 'Cr_b', 'Cp_a', 'Cp_b', 'NB r', 'NB p'],\n",
    "    'value': [1074887, 22080, 7911, 561, 375, 58, 954, 785]\n",
    "}\n",
    "df = pd.DataFrame(data=d)\n",
    "df"
   ]
  },
  {
   "cell_type": "markdown",
   "id": "49bd48ae-ff3c-4d92-8030-298bbeedb371",
   "metadata": {},
   "source": [
    "## Formulation\n",
    "Input parameters:\n",
    "- Number of stock (D)\n",
    "- Capacity of rack and pallet (C)\n",
    "- Number of rack and pallet (NB)\n",
    "\n",
    "With rack, pallet with item A, B we will have combination of variables:"
   ]
  },
  {
   "cell_type": "code",
   "execution_count": 3,
   "id": "03727d22-e552-44d5-9eaa-b302c011846f",
   "metadata": {},
   "outputs": [
    {
     "data": {
      "text/plain": [
       "{'Da': 1074887,\n",
       " 'Db': 22080,\n",
       " 'Cr_a': 7911,\n",
       " 'Cr_b': 561,\n",
       " 'Cp_a': 375,\n",
       " 'Cp_b': 58,\n",
       " 'NB r': 954,\n",
       " 'NB p': 785}"
      ]
     },
     "execution_count": 3,
     "metadata": {},
     "output_type": "execute_result"
    }
   ],
   "source": [
    "var = df.set_index('var').to_dict()['value']\n",
    "var"
   ]
  },
  {
   "cell_type": "markdown",
   "id": "c14c9062-9014-4dca-806a-047ec36d8e0c",
   "metadata": {},
   "source": [
    "## Transform into pulp library"
   ]
  },
  {
   "cell_type": "code",
   "execution_count": 4,
   "id": "ab794d5a-f9fc-46cb-a6b6-a7940094f7f2",
   "metadata": {},
   "outputs": [
    {
     "name": "stdout",
     "output_type": "stream",
     "text": [
      "number of racks, pallets for item a, b: ['r_a', 'r_b', 'p_a', 'p_b']\n"
     ]
    }
   ],
   "source": [
    "# dynamic variables\n",
    "pack_type = ['r', 'p']\n",
    "product_bin = ['a', 'b']\n",
    "lst = [f'{p}_{b}' for p, b in product(pack_type, product_bin)]\n",
    "print(f'number of racks, pallets for item a, b: {lst}')"
   ]
  },
  {
   "cell_type": "code",
   "execution_count": 5,
   "id": "9d3108cc-e807-43b5-b960-c0bc6566b4dc",
   "metadata": {},
   "outputs": [],
   "source": [
    "# minimize problem\n",
    "x = pulp.LpVariable.dicts(\"x\", lst, cat='Continuous', lowBound=0)\n",
    "model = pulp.LpProblem(\"warehouse_optimization\", pulp.LpMinimize)\n",
    "\n",
    "# objective\n",
    "model += sum([x[i]for i in lst])\n",
    "\n",
    "# capacities\n",
    "for b in product_bin:\n",
    "    model += sum(var[f'C{r}_{b}'] * x[f'{r}_{b}'] for r in pack_type) >= var[f'D{b}']\n",
    "\n",
    "# total number of racks, pallets\n",
    "for r in pack_type:\n",
    "    model += sum(x[f'{r}_{b}'] for b in product_bin) >= var[f'NB {r}']"
   ]
  },
  {
   "cell_type": "markdown",
   "id": "2c42b30b-ba9e-4e30-93f6-107a6ca6563f",
   "metadata": {},
   "source": [
    "You can double check what you have written to your model as aligned with your fomulation"
   ]
  },
  {
   "cell_type": "code",
   "execution_count": 6,
   "id": "b7bb8015-af93-4b5c-87cd-f70be625e840",
   "metadata": {},
   "outputs": [
    {
     "data": {
      "text/plain": [
       "warehouse_optimization:\n",
       "MINIMIZE\n",
       "1*x_p_a + 1*x_p_b + 1*x_r_a + 1*x_r_b + 0\n",
       "SUBJECT TO\n",
       "_C1: 375 x_p_a + 7911 x_r_a >= 1074887\n",
       "\n",
       "_C2: 58 x_p_b + 561 x_r_b >= 22080\n",
       "\n",
       "_C3: x_r_a + x_r_b >= 954\n",
       "\n",
       "_C4: x_p_a + x_p_b >= 785\n",
       "\n",
       "VARIABLES\n",
       "x_p_a Continuous\n",
       "x_p_b Continuous\n",
       "x_r_a Continuous\n",
       "x_r_b Continuous"
      ]
     },
     "execution_count": 6,
     "metadata": {},
     "output_type": "execute_result"
    }
   ],
   "source": [
    "model"
   ]
  },
  {
   "cell_type": "code",
   "execution_count": 7,
   "id": "1e962760-64bc-431a-83a9-3b259bacf0d4",
   "metadata": {},
   "outputs": [
    {
     "name": "stdout",
     "output_type": "stream",
     "text": [
      "\u001B[5m\u001B[7m\u001B[34mstatus: Optimal\u001B[0m\n"
     ]
    }
   ],
   "source": [
    "# solve\n",
    "model.solve(pulp.PULP_CBC_CMD(msg=False))\n",
    "text = f'status: {pulp.LpStatus[model.status]}'\n",
    "color = 'blue' if model.status == 1 else 'red'\n",
    "print(colored(text, color, attrs=['reverse', 'blink']))"
   ]
  },
  {
   "cell_type": "code",
   "execution_count": 8,
   "id": "b7aa9252-baa8-414b-a121-63c5fd70b08c",
   "metadata": {},
   "outputs": [],
   "source": [
    "result = {i: int(x[i].varValue) for i in x}\n",
    "report = pd.DataFrame.from_dict(result, orient='index').reset_index()\n",
    "report.columns = ['var', 'value']"
   ]
  },
  {
   "cell_type": "markdown",
   "id": "0b647fbe-1044-466f-8893-b9e6d0d690d0",
   "metadata": {},
   "source": [
    "## Report\n",
    "The result will show the number of racks, pallets needed for item A, B"
   ]
  },
  {
   "cell_type": "code",
   "execution_count": 9,
   "id": "b06bdc98-dfc5-4b22-bc3f-f258c47d0aa3",
   "metadata": {},
   "outputs": [
    {
     "data": {
      "text/html": [
       "<div>\n",
       "<style scoped>\n",
       "    .dataframe tbody tr th:only-of-type {\n",
       "        vertical-align: middle;\n",
       "    }\n",
       "\n",
       "    .dataframe tbody tr th {\n",
       "        vertical-align: top;\n",
       "    }\n",
       "\n",
       "    .dataframe thead th {\n",
       "        text-align: right;\n",
       "    }\n",
       "</style>\n",
       "<table border=\"1\" class=\"dataframe\">\n",
       "  <thead>\n",
       "    <tr style=\"text-align: right;\">\n",
       "      <th></th>\n",
       "      <th>var</th>\n",
       "      <th>value</th>\n",
       "    </tr>\n",
       "  </thead>\n",
       "  <tbody>\n",
       "    <tr>\n",
       "      <th>0</th>\n",
       "      <td>r_a</td>\n",
       "      <td>135</td>\n",
       "    </tr>\n",
       "    <tr>\n",
       "      <th>1</th>\n",
       "      <td>r_b</td>\n",
       "      <td>818</td>\n",
       "    </tr>\n",
       "    <tr>\n",
       "      <th>2</th>\n",
       "      <td>p_a</td>\n",
       "      <td>0</td>\n",
       "    </tr>\n",
       "    <tr>\n",
       "      <th>3</th>\n",
       "      <td>p_b</td>\n",
       "      <td>785</td>\n",
       "    </tr>\n",
       "  </tbody>\n",
       "</table>\n",
       "</div>"
      ],
      "text/plain": [
       "   var  value\n",
       "0  r_a    135\n",
       "1  r_b    818\n",
       "2  p_a      0\n",
       "3  p_b    785"
      ]
     },
     "execution_count": 9,
     "metadata": {},
     "output_type": "execute_result"
    }
   ],
   "source": [
    "report"
   ]
  },
  {
   "cell_type": "code",
   "execution_count": null,
   "id": "693c055f-d17d-4bd2-8b71-0f33d5b58fc1",
   "metadata": {},
   "outputs": [],
   "source": []
  }
 ],
 "metadata": {
  "kernelspec": {
   "display_name": "Python 3",
   "language": "python",
   "name": "python3"
  },
  "language_info": {
   "codemirror_mode": {
    "name": "ipython",
    "version": 3
   },
   "file_extension": ".py",
   "mimetype": "text/x-python",
   "name": "python",
   "nbconvert_exporter": "python",
   "pygments_lexer": "ipython3",
   "version": "3.9.5"
  }
 },
 "nbformat": 4,
 "nbformat_minor": 5
}