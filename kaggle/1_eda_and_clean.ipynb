{
 "cells": [
  {
   "cell_type": "code",
   "execution_count": 1,
   "id": "initial_id",
   "metadata": {
    "ExecuteTime": {
     "end_time": "2023-09-12T09:20:48.795090Z",
     "start_time": "2023-09-12T09:20:48.735841300Z"
    }
   },
   "outputs": [],
   "source": [
    "from pathlib import Path\n",
    "import duckdb\n",
    "from tqdm import tqdm\n",
    "import polars as pl\n",
    "import matplotlib.pyplot as plt\n",
    "import matplotlib\n",
    "import seaborn as sns\n",
    "import gc\n",
    "from concurrent.futures import ThreadPoolExecutor, as_completed\n",
    "from functools import partial\n",
    "\n",
    "plt.style.use('ggplot')\n",
    "matplotlib.use('Agg')"
   ]
  },
  {
   "cell_type": "code",
   "execution_count": 2,
   "id": "3aae25fc8ec7392a",
   "metadata": {
    "collapsed": false,
    "ExecuteTime": {
     "end_time": "2023-09-12T09:20:48.802084400Z",
     "start_time": "2023-09-12T09:20:48.796576200Z"
    }
   },
   "outputs": [],
   "source": [
    "path = Path.home() / 'OneDrive - Seagroup/ai/kaggle_dataset/child-mind-institute-detect-sleep-states'\n",
    "plt.style.use('ggplot')"
   ]
  },
  {
   "cell_type": "markdown",
   "id": "ce104c6d015a031e",
   "metadata": {
    "collapsed": false
   },
   "source": [
    "# 1. Test Data"
   ]
  },
  {
   "cell_type": "code",
   "execution_count": 3,
   "id": "f75869f399264071",
   "metadata": {
    "collapsed": false,
    "ExecuteTime": {
     "end_time": "2023-09-12T09:20:48.833860800Z",
     "start_time": "2023-09-12T09:20:48.799085200Z"
    }
   },
   "outputs": [
    {
     "data": {
      "text/plain": "┌──────────────┬────────┬──────────────────────────┬────────┬────────┐\n│  series_id   │  step  │        timestamp         │ anglez │  enmo  │\n│   varchar    │ uint32 │         varchar          │ float  │ float  │\n├──────────────┼────────┼──────────────────────────┼────────┼────────┤\n│ 038441c925bb │      0 │ 2018-08-14T15:30:00-0400 │ 2.6367 │ 0.0217 │\n│ 038441c925bb │      1 │ 2018-08-14T15:30:05-0400 │ 2.6368 │ 0.0215 │\n│ 038441c925bb │      2 │ 2018-08-14T15:30:10-0400 │  2.637 │ 0.0216 │\n│ 038441c925bb │      3 │ 2018-08-14T15:30:15-0400 │ 2.6368 │ 0.0213 │\n│ 038441c925bb │      4 │ 2018-08-14T15:30:20-0400 │ 2.6368 │ 0.0215 │\n└──────────────┴────────┴──────────────────────────┴────────┴────────┘"
     },
     "execution_count": 3,
     "metadata": {},
     "output_type": "execute_result"
    }
   ],
   "source": [
    "file = next(path.glob('test*.parquet'))\n",
    "query = f\"\"\"select * from read_parquet('{file}') limit 5\"\"\"\n",
    "duckdb.sql(query)"
   ]
  },
  {
   "cell_type": "markdown",
   "id": "c810d40040a6878a",
   "metadata": {
    "collapsed": false
   },
   "source": [
    "# 2. Train Data"
   ]
  },
  {
   "cell_type": "markdown",
   "id": "77f84f33a4e1f28",
   "metadata": {
    "collapsed": false
   },
   "source": [
    "## 2.1 Clean nulls"
   ]
  },
  {
   "cell_type": "code",
   "execution_count": 4,
   "id": "b7b61e44839e56a1",
   "metadata": {
    "collapsed": false,
    "ExecuteTime": {
     "end_time": "2023-09-12T09:20:48.833860800Z",
     "start_time": "2023-09-12T09:20:48.813350300Z"
    }
   },
   "outputs": [],
   "source": [
    "def check_null(df):\n",
    "    print(f\"Before drop nulls: Shape{df.shape}, # series {df['series_id'].n_unique()}\")\n",
    "    print(df.null_count())\n",
    "    df_drop = df.drop_nulls()\n",
    "    print(f\"After drop nulls: Shape{df_drop.shape}, # series {df_drop['series_id'].n_unique()}\")\n",
    "    return df_drop"
   ]
  },
  {
   "cell_type": "code",
   "execution_count": 5,
   "id": "436163443f6384b",
   "metadata": {
    "collapsed": false,
    "ExecuteTime": {
     "end_time": "2023-09-12T09:20:48.883155Z",
     "start_time": "2023-09-12T09:20:48.816857600Z"
    }
   },
   "outputs": [
    {
     "name": "stdout",
     "output_type": "stream",
     "text": [
      "(14510, 6) {'series_id': Utf8, 'night': Int64, 'event': Utf8, 'step': Int32, 'timestamp': Datetime(time_unit='us', time_zone=None), 'is_wakeup': Int32}\n",
      "Before drop nulls: Shape(14510, 6), # series 277\n",
      "shape: (1, 6)\n",
      "┌───────────┬───────┬───────┬──────┬───────────┬───────────┐\n",
      "│ series_id ┆ night ┆ event ┆ step ┆ timestamp ┆ is_wakeup │\n",
      "│ ---       ┆ ---   ┆ ---   ┆ ---  ┆ ---       ┆ ---       │\n",
      "│ u32       ┆ u32   ┆ u32   ┆ u32  ┆ u32       ┆ u32       │\n",
      "╞═══════════╪═══════╪═══════╪══════╪═══════════╪═══════════╡\n",
      "│ 0         ┆ 0     ┆ 0     ┆ 4923 ┆ 4923      ┆ 0         │\n",
      "└───────────┴───────┴───────┴──────┴───────────┴───────────┘\n",
      "After drop nulls: Shape(9587, 6), # series 269\n"
     ]
    },
    {
     "data": {
      "text/plain": "shape: (5, 6)\n┌──────────────┬───────┬────────┬───────┬─────────────────────┬───────────┐\n│ series_id    ┆ night ┆ event  ┆ step  ┆ timestamp           ┆ is_wakeup │\n│ ---          ┆ ---   ┆ ---    ┆ ---   ┆ ---                 ┆ ---       │\n│ str          ┆ i64   ┆ str    ┆ i32   ┆ datetime[μs]        ┆ i32       │\n╞══════════════╪═══════╪════════╪═══════╪═════════════════════╪═══════════╡\n│ 038441c925bb ┆ 1     ┆ onset  ┆ 4992  ┆ 2018-08-15 02:26:00 ┆ 0         │\n│ 038441c925bb ┆ 1     ┆ wakeup ┆ 10932 ┆ 2018-08-15 10:41:00 ┆ 1         │\n│ 038441c925bb ┆ 2     ┆ onset  ┆ 20244 ┆ 2018-08-15 23:37:00 ┆ 0         │\n│ 038441c925bb ┆ 2     ┆ wakeup ┆ 27492 ┆ 2018-08-16 09:41:00 ┆ 1         │\n│ 038441c925bb ┆ 3     ┆ onset  ┆ 39996 ┆ 2018-08-17 03:03:00 ┆ 0         │\n└──────────────┴───────┴────────┴───────┴─────────────────────┴───────────┘",
      "text/html": "<div><style>\n.dataframe > thead > tr > th,\n.dataframe > tbody > tr > td {\n  text-align: right;\n}\n</style>\n<small>shape: (5, 6)</small><table border=\"1\" class=\"dataframe\"><thead><tr><th>series_id</th><th>night</th><th>event</th><th>step</th><th>timestamp</th><th>is_wakeup</th></tr><tr><td>str</td><td>i64</td><td>str</td><td>i32</td><td>datetime[μs]</td><td>i32</td></tr></thead><tbody><tr><td>&quot;038441c925bb&quot;</td><td>1</td><td>&quot;onset&quot;</td><td>4992</td><td>2018-08-15 02:26:00</td><td>0</td></tr><tr><td>&quot;038441c925bb&quot;</td><td>1</td><td>&quot;wakeup&quot;</td><td>10932</td><td>2018-08-15 10:41:00</td><td>1</td></tr><tr><td>&quot;038441c925bb&quot;</td><td>2</td><td>&quot;onset&quot;</td><td>20244</td><td>2018-08-15 23:37:00</td><td>0</td></tr><tr><td>&quot;038441c925bb&quot;</td><td>2</td><td>&quot;wakeup&quot;</td><td>27492</td><td>2018-08-16 09:41:00</td><td>1</td></tr><tr><td>&quot;038441c925bb&quot;</td><td>3</td><td>&quot;onset&quot;</td><td>39996</td><td>2018-08-17 03:03:00</td><td>0</td></tr></tbody></table></div>"
     },
     "execution_count": 5,
     "metadata": {},
     "output_type": "execute_result"
    }
   ],
   "source": [
    "# csv\n",
    "file_csv = next(path.glob('train*.csv'))\n",
    "query = f\"\"\"select series_id\n",
    ", night\n",
    ", event\n",
    ", cast(step as int) step\n",
    ", cast(timestamp as varchar) as timestamp\n",
    ", case \n",
    "    when event = 'wakeup' then 1\n",
    "    when event = 'onset' then 0\n",
    "    else null end is_wakeup\n",
    "from read_csv_auto('{file_csv}')\"\"\"\n",
    "df_csv = (\n",
    "    duckdb.sql(query).pl()\n",
    "    .with_columns(pl.col('timestamp').str.to_datetime(format='%Y-%m-%d %H:%M:%S'))\n",
    "    .shrink_to_fit()\n",
    ")\n",
    "print(df_csv.shape, df_csv.schema)\n",
    "\n",
    "df_csv = check_null(df_csv)\n",
    "df_csv.head()"
   ]
  },
  {
   "cell_type": "code",
   "execution_count": 6,
   "id": "1cfc0318ec42ab10",
   "metadata": {
    "collapsed": false,
    "ExecuteTime": {
     "end_time": "2023-09-12T09:20:48.992631400Z",
     "start_time": "2023-09-12T09:20:48.884155200Z"
    }
   },
   "outputs": [
    {
     "data": {
      "text/plain": "Series([], Name: event, dtype: int64)"
     },
     "execution_count": 6,
     "metadata": {},
     "output_type": "execute_result"
    }
   ],
   "source": [
    "check_label = df_csv.to_pandas().groupby('series_id')['event'].nunique()\n",
    "check_label[check_label != 2]"
   ]
  },
  {
   "cell_type": "code",
   "execution_count": 7,
   "id": "994ce560375a4ee2",
   "metadata": {
    "collapsed": false,
    "ExecuteTime": {
     "end_time": "2023-09-12T09:21:28.623436900Z",
     "start_time": "2023-09-12T09:20:48.934125600Z"
    }
   },
   "outputs": [
    {
     "name": "stdout",
     "output_type": "stream",
     "text": [
      "(127946340, 5) {'series_id': Utf8, 'step': Int32, 'anglez': Float32, 'enmo': Float32, 'timestamp': Datetime(time_unit='us', time_zone=None)}\n",
      "Before drop nulls: Shape(127946340, 5), # series 277\n",
      "shape: (1, 5)\n",
      "┌───────────┬──────┬────────┬──────┬───────────┐\n",
      "│ series_id ┆ step ┆ anglez ┆ enmo ┆ timestamp │\n",
      "│ ---       ┆ ---  ┆ ---    ┆ ---  ┆ ---       │\n",
      "│ u32       ┆ u32  ┆ u32    ┆ u32  ┆ u32       │\n",
      "╞═══════════╪══════╪════════╪══════╪═══════════╡\n",
      "│ 0         ┆ 0    ┆ 0      ┆ 0    ┆ 0         │\n",
      "└───────────┴──────┴────────┴──────┴───────────┘\n",
      "After drop nulls: Shape(127946340, 5), # series 277\n"
     ]
    },
    {
     "data": {
      "text/plain": "shape: (5, 5)\n┌──────────────┬──────┬────────┬────────┬─────────────────────┐\n│ series_id    ┆ step ┆ anglez ┆ enmo   ┆ timestamp           │\n│ ---          ┆ ---  ┆ ---    ┆ ---    ┆ ---                 │\n│ str          ┆ i32  ┆ f32    ┆ f32    ┆ datetime[μs]        │\n╞══════════════╪══════╪════════╪════════╪═════════════════════╡\n│ 038441c925bb ┆ 0    ┆ 2.6367 ┆ 0.0217 ┆ 2018-08-14 19:30:00 │\n│ 038441c925bb ┆ 1    ┆ 2.6368 ┆ 0.0215 ┆ 2018-08-14 19:30:05 │\n│ 038441c925bb ┆ 2    ┆ 2.637  ┆ 0.0216 ┆ 2018-08-14 19:30:10 │\n│ 038441c925bb ┆ 3    ┆ 2.6368 ┆ 0.0213 ┆ 2018-08-14 19:30:15 │\n│ 038441c925bb ┆ 4    ┆ 2.6368 ┆ 0.0215 ┆ 2018-08-14 19:30:20 │\n└──────────────┴──────┴────────┴────────┴─────────────────────┘",
      "text/html": "<div><style>\n.dataframe > thead > tr > th,\n.dataframe > tbody > tr > td {\n  text-align: right;\n}\n</style>\n<small>shape: (5, 5)</small><table border=\"1\" class=\"dataframe\"><thead><tr><th>series_id</th><th>step</th><th>anglez</th><th>enmo</th><th>timestamp</th></tr><tr><td>str</td><td>i32</td><td>f32</td><td>f32</td><td>datetime[μs]</td></tr></thead><tbody><tr><td>&quot;038441c925bb&quot;</td><td>0</td><td>2.6367</td><td>0.0217</td><td>2018-08-14 19:30:00</td></tr><tr><td>&quot;038441c925bb&quot;</td><td>1</td><td>2.6368</td><td>0.0215</td><td>2018-08-14 19:30:05</td></tr><tr><td>&quot;038441c925bb&quot;</td><td>2</td><td>2.637</td><td>0.0216</td><td>2018-08-14 19:30:10</td></tr><tr><td>&quot;038441c925bb&quot;</td><td>3</td><td>2.6368</td><td>0.0213</td><td>2018-08-14 19:30:15</td></tr><tr><td>&quot;038441c925bb&quot;</td><td>4</td><td>2.6368</td><td>0.0215</td><td>2018-08-14 19:30:20</td></tr></tbody></table></div>"
     },
     "execution_count": 7,
     "metadata": {},
     "output_type": "execute_result"
    }
   ],
   "source": [
    "# parquet\n",
    "file_parquet = next(path.glob('train*.parquet'))\n",
    "query = f\"\"\"select series_id \n",
    ", cast(step as int) step\n",
    ", anglez\n",
    ", enmo\n",
    ", cast(timestamp as varchar) as timestamp\n",
    "from read_parquet('{file_parquet}')\"\"\"\n",
    "df_parquet = (\n",
    "    duckdb.sql(query).pl()\n",
    "    .with_columns(pl.col('timestamp').str.to_datetime(format='%Y-%m-%dT%H:%M:%S%z').dt.replace_time_zone(None))\n",
    "    .shrink_to_fit()\n",
    ")\n",
    "print(df_parquet.shape, df_parquet.schema)\n",
    "\n",
    "df_parquet = check_null(df_parquet)\n",
    "df_parquet.head()"
   ]
  },
  {
   "cell_type": "markdown",
   "id": "eeb27deb81c9e0ed",
   "metadata": {
    "collapsed": false
   },
   "source": [
    "### Merge"
   ]
  },
  {
   "cell_type": "code",
   "execution_count": 8,
   "id": "ab466d74dbccdfff",
   "metadata": {
    "collapsed": false,
    "ExecuteTime": {
     "end_time": "2023-09-12T09:21:28.630358700Z",
     "start_time": "2023-09-12T09:21:28.624833Z"
    }
   },
   "outputs": [
    {
     "name": "stdout",
     "output_type": "stream",
     "text": [
      "{'series_id': Utf8, 'step': Int32, 'anglez': Float32, 'enmo': Float32, 'timestamp': Datetime(time_unit='us', time_zone=None)}\n",
      "{'series_id': Utf8, 'night': Int64, 'event': Utf8, 'step': Int32, 'timestamp': Datetime(time_unit='us', time_zone=None), 'is_wakeup': Int32}\n"
     ]
    }
   ],
   "source": [
    "print(df_parquet.schema)\n",
    "print(df_csv.schema)"
   ]
  },
  {
   "cell_type": "markdown",
   "id": "35fb4bfc-993b-4a9d-909e-0248907a286a",
   "metadata": {},
   "source": [
    "### Unit Test"
   ]
  },
  {
   "cell_type": "code",
   "execution_count": 9,
   "id": "16e32e0522b7d365",
   "metadata": {
    "collapsed": false,
    "ExecuteTime": {
     "end_time": "2023-09-12T09:21:28.863955Z",
     "start_time": "2023-09-12T09:21:28.627345600Z"
    }
   },
   "outputs": [
    {
     "name": "stdout",
     "output_type": "stream",
     "text": [
      "(724140, 8)\n"
     ]
    },
    {
     "data": {
      "text/plain": "shape: (10, 8)\n┌──────────────┬──────┬───────────┬────────┬──────────────┬───────────┬────────────┬────────────┐\n│ series_id    ┆ step ┆ anglez    ┆ enmo   ┆ timestamp    ┆ is_wakeup ┆ grass_date ┆ grass_hour │\n│ ---          ┆ ---  ┆ ---       ┆ ---    ┆ ---          ┆ ---       ┆ ---        ┆ ---        │\n│ str          ┆ i32  ┆ f32       ┆ f32    ┆ datetime[μs] ┆ i32       ┆ str        ┆ str        │\n╞══════════════╪══════╪═══════════╪════════╪══════════════╪═══════════╪════════════╪════════════╡\n│ 03d92c9f6f8a ┆ 0    ┆ 38.892899 ┆ 0.0803 ┆ 2018-05-31   ┆ null      ┆ 2018-05-31 ┆ 16:00:00   │\n│              ┆      ┆           ┆        ┆ 16:00:00     ┆           ┆            ┆            │\n│ 03d92c9f6f8a ┆ 1    ┆ 29.374399 ┆ 0.0752 ┆ 2018-05-31   ┆ null      ┆ 2018-05-31 ┆ 16:00:00   │\n│              ┆      ┆           ┆        ┆ 16:00:05     ┆           ┆            ┆            │\n│ 03d92c9f6f8a ┆ 2    ┆ 37.225101 ┆ 0.1791 ┆ 2018-05-31   ┆ null      ┆ 2018-05-31 ┆ 16:00:00   │\n│              ┆      ┆           ┆        ┆ 16:00:10     ┆           ┆            ┆            │\n│ 03d92c9f6f8a ┆ 3    ┆ 46.937    ┆ 0.0922 ┆ 2018-05-31   ┆ null      ┆ 2018-05-31 ┆ 16:00:00   │\n│              ┆      ┆           ┆        ┆ 16:00:15     ┆           ┆            ┆            │\n│ …            ┆ …    ┆ …         ┆ …      ┆ …            ┆ …         ┆ …          ┆ …          │\n│ 03d92c9f6f8a ┆ 6    ┆ 25.8466   ┆ 0.0721 ┆ 2018-05-31   ┆ null      ┆ 2018-05-31 ┆ 16:00:00   │\n│              ┆      ┆           ┆        ┆ 16:00:30     ┆           ┆            ┆            │\n│ 03d92c9f6f8a ┆ 7    ┆ 30.051701 ┆ 0.0517 ┆ 2018-05-31   ┆ null      ┆ 2018-05-31 ┆ 16:00:00   │\n│              ┆      ┆           ┆        ┆ 16:00:35     ┆           ┆            ┆            │\n│ 03d92c9f6f8a ┆ 8    ┆ 25.9347   ┆ 0.1069 ┆ 2018-05-31   ┆ null      ┆ 2018-05-31 ┆ 16:00:00   │\n│              ┆      ┆           ┆        ┆ 16:00:40     ┆           ┆            ┆            │\n│ 03d92c9f6f8a ┆ 9    ┆ -13.0893  ┆ 0.0548 ┆ 2018-05-31   ┆ null      ┆ 2018-05-31 ┆ 16:00:00   │\n│              ┆      ┆           ┆        ┆ 16:00:45     ┆           ┆            ┆            │\n└──────────────┴──────┴───────────┴────────┴──────────────┴───────────┴────────────┴────────────┘",
      "text/html": "<div><style>\n.dataframe > thead > tr > th,\n.dataframe > tbody > tr > td {\n  text-align: right;\n}\n</style>\n<small>shape: (10, 8)</small><table border=\"1\" class=\"dataframe\"><thead><tr><th>series_id</th><th>step</th><th>anglez</th><th>enmo</th><th>timestamp</th><th>is_wakeup</th><th>grass_date</th><th>grass_hour</th></tr><tr><td>str</td><td>i32</td><td>f32</td><td>f32</td><td>datetime[μs]</td><td>i32</td><td>str</td><td>str</td></tr></thead><tbody><tr><td>&quot;03d92c9f6f8a&quot;</td><td>0</td><td>38.892899</td><td>0.0803</td><td>2018-05-31 16:00:00</td><td>null</td><td>&quot;2018-05-31&quot;</td><td>&quot;16:00:00&quot;</td></tr><tr><td>&quot;03d92c9f6f8a&quot;</td><td>1</td><td>29.374399</td><td>0.0752</td><td>2018-05-31 16:00:05</td><td>null</td><td>&quot;2018-05-31&quot;</td><td>&quot;16:00:00&quot;</td></tr><tr><td>&quot;03d92c9f6f8a&quot;</td><td>2</td><td>37.225101</td><td>0.1791</td><td>2018-05-31 16:00:10</td><td>null</td><td>&quot;2018-05-31&quot;</td><td>&quot;16:00:00&quot;</td></tr><tr><td>&quot;03d92c9f6f8a&quot;</td><td>3</td><td>46.937</td><td>0.0922</td><td>2018-05-31 16:00:15</td><td>null</td><td>&quot;2018-05-31&quot;</td><td>&quot;16:00:00&quot;</td></tr><tr><td>&quot;03d92c9f6f8a&quot;</td><td>4</td><td>60.486698</td><td>0.0342</td><td>2018-05-31 16:00:20</td><td>null</td><td>&quot;2018-05-31&quot;</td><td>&quot;16:00:00&quot;</td></tr><tr><td>&quot;03d92c9f6f8a&quot;</td><td>5</td><td>51.1558</td><td>0.0746</td><td>2018-05-31 16:00:25</td><td>null</td><td>&quot;2018-05-31&quot;</td><td>&quot;16:00:00&quot;</td></tr><tr><td>&quot;03d92c9f6f8a&quot;</td><td>6</td><td>25.8466</td><td>0.0721</td><td>2018-05-31 16:00:30</td><td>null</td><td>&quot;2018-05-31&quot;</td><td>&quot;16:00:00&quot;</td></tr><tr><td>&quot;03d92c9f6f8a&quot;</td><td>7</td><td>30.051701</td><td>0.0517</td><td>2018-05-31 16:00:35</td><td>null</td><td>&quot;2018-05-31&quot;</td><td>&quot;16:00:00&quot;</td></tr><tr><td>&quot;03d92c9f6f8a&quot;</td><td>8</td><td>25.9347</td><td>0.1069</td><td>2018-05-31 16:00:40</td><td>null</td><td>&quot;2018-05-31&quot;</td><td>&quot;16:00:00&quot;</td></tr><tr><td>&quot;03d92c9f6f8a&quot;</td><td>9</td><td>-13.0893</td><td>0.0548</td><td>2018-05-31 16:00:45</td><td>null</td><td>&quot;2018-05-31&quot;</td><td>&quot;16:00:00&quot;</td></tr></tbody></table></div>"
     },
     "execution_count": 9,
     "metadata": {},
     "output_type": "execute_result"
    }
   ],
   "source": [
    "# merge\n",
    "query = f\"\"\"\n",
    "select p.*\n",
    ", c.is_wakeup\n",
    ", strftime(p.timestamp, '%Y-%m-%d') as grass_date\n",
    ", strftime(p.timestamp, '%H:%M:00') as grass_hour\n",
    "from df_parquet p\n",
    "left join df_csv c on p.series_id = c.series_id and p.timestamp = c.timestamp\n",
    "where p.series_id = '03d92c9f6f8a'\n",
    "order by p.series_id, p.timestamp\n",
    "\"\"\"\n",
    "df_merge = duckdb.sql(query).pl()\n",
    "print(df_merge.shape)\n",
    "df_merge.head(10)"
   ]
  },
  {
   "cell_type": "code",
   "execution_count": 10,
   "id": "7017aa01-a73b-4ee3-bd16-a94cb2c2e0af",
   "metadata": {
    "ExecuteTime": {
     "end_time": "2023-09-12T09:21:28.934193500Z",
     "start_time": "2023-09-12T09:21:28.909955300Z"
    }
   },
   "outputs": [
    {
     "data": {
      "text/plain": "shape: (3, 2)\n┌───────────┬────────┐\n│ is_wakeup ┆ counts │\n│ ---       ┆ ---    │\n│ i32       ┆ u32    │\n╞═══════════╪════════╡\n│ 0         ┆ 8      │\n│ 1         ┆ 8      │\n│ null      ┆ 724124 │\n└───────────┴────────┘",
      "text/html": "<div><style>\n.dataframe > thead > tr > th,\n.dataframe > tbody > tr > td {\n  text-align: right;\n}\n</style>\n<small>shape: (3, 2)</small><table border=\"1\" class=\"dataframe\"><thead><tr><th>is_wakeup</th><th>counts</th></tr><tr><td>i32</td><td>u32</td></tr></thead><tbody><tr><td>0</td><td>8</td></tr><tr><td>1</td><td>8</td></tr><tr><td>null</td><td>724124</td></tr></tbody></table></div>"
     },
     "execution_count": 10,
     "metadata": {},
     "output_type": "execute_result"
    }
   ],
   "source": [
    "df_merge['is_wakeup'].value_counts()"
   ]
  },
  {
   "cell_type": "code",
   "execution_count": 11,
   "id": "c25d056a-c5eb-4f15-a11c-a0f816e8364e",
   "metadata": {
    "ExecuteTime": {
     "end_time": "2023-09-12T09:21:28.935193500Z",
     "start_time": "2023-09-12T09:21:28.913363900Z"
    }
   },
   "outputs": [
    {
     "data": {
      "text/plain": "shape: (24, 8)\n┌──────────────┬───────┬───────────┬────────┬────────────────┬───────────┬────────────┬────────────┐\n│ series_id    ┆ step  ┆ anglez    ┆ enmo   ┆ timestamp      ┆ is_wakeup ┆ grass_date ┆ grass_hour │\n│ ---          ┆ ---   ┆ ---       ┆ ---    ┆ ---            ┆ ---       ┆ ---        ┆ ---        │\n│ str          ┆ i32   ┆ f32       ┆ f32    ┆ datetime[μs]   ┆ i32       ┆ str        ┆ str        │\n╞══════════════╪═══════╪═══════════╪════════╪════════════════╪═══════════╪════════════╪════════════╡\n│ 03d92c9f6f8a ┆ 5928  ┆ 51.522301 ┆ 0.0816 ┆ 2018-06-01     ┆ 0         ┆ 2018-06-01 ┆ 00:14:00   │\n│              ┆       ┆           ┆        ┆ 00:14:00       ┆           ┆            ┆            │\n│ 03d92c9f6f8a ┆ 5929  ┆ 69.1726   ┆ 0.0    ┆ 2018-06-01     ┆ 0         ┆ 2018-06-01 ┆ 00:14:00   │\n│              ┆       ┆           ┆        ┆ 00:14:05       ┆           ┆            ┆            │\n│ 03d92c9f6f8a ┆ 5930  ┆ 69.367401 ┆ 0.0    ┆ 2018-06-01     ┆ 0         ┆ 2018-06-01 ┆ 00:14:00   │\n│              ┆       ┆           ┆        ┆ 00:14:10       ┆           ┆            ┆            │\n│ 03d92c9f6f8a ┆ 5931  ┆ 69.852798 ┆ 0.0    ┆ 2018-06-01     ┆ 0         ┆ 2018-06-01 ┆ 00:14:00   │\n│              ┆       ┆           ┆        ┆ 00:14:15       ┆           ┆            ┆            │\n│ …            ┆ …     ┆ …         ┆ …      ┆ …              ┆ …         ┆ …          ┆ …          │\n│ 03d92c9f6f8a ┆ 13532 ┆ 65.621498 ┆ 0.0    ┆ 2018-06-01     ┆ 1         ┆ 2018-06-01 ┆ 10:47:00   │\n│              ┆       ┆           ┆        ┆ 10:47:40       ┆           ┆            ┆            │\n│ 03d92c9f6f8a ┆ 13533 ┆ 63.143398 ┆ 0.0001 ┆ 2018-06-01     ┆ 1         ┆ 2018-06-01 ┆ 10:47:00   │\n│              ┆       ┆           ┆        ┆ 10:47:45       ┆           ┆            ┆            │\n│ 03d92c9f6f8a ┆ 13534 ┆ 48.751099 ┆ 0.007  ┆ 2018-06-01     ┆ 1         ┆ 2018-06-01 ┆ 10:47:00   │\n│              ┆       ┆           ┆        ┆ 10:47:50       ┆           ┆            ┆            │\n│ 03d92c9f6f8a ┆ 13535 ┆ -47.6637  ┆ 0.0542 ┆ 2018-06-01     ┆ 1         ┆ 2018-06-01 ┆ 10:47:00   │\n│              ┆       ┆           ┆        ┆ 10:47:55       ┆           ┆            ┆            │\n└──────────────┴───────┴───────────┴────────┴────────────────┴───────────┴────────────┴────────────┘",
      "text/html": "<div><style>\n.dataframe > thead > tr > th,\n.dataframe > tbody > tr > td {\n  text-align: right;\n}\n</style>\n<small>shape: (24, 8)</small><table border=\"1\" class=\"dataframe\"><thead><tr><th>series_id</th><th>step</th><th>anglez</th><th>enmo</th><th>timestamp</th><th>is_wakeup</th><th>grass_date</th><th>grass_hour</th></tr><tr><td>str</td><td>i32</td><td>f32</td><td>f32</td><td>datetime[μs]</td><td>i32</td><td>str</td><td>str</td></tr></thead><tbody><tr><td>&quot;03d92c9f6f8a&quot;</td><td>5928</td><td>51.522301</td><td>0.0816</td><td>2018-06-01 00:14:00</td><td>0</td><td>&quot;2018-06-01&quot;</td><td>&quot;00:14:00&quot;</td></tr><tr><td>&quot;03d92c9f6f8a&quot;</td><td>5929</td><td>69.1726</td><td>0.0</td><td>2018-06-01 00:14:05</td><td>0</td><td>&quot;2018-06-01&quot;</td><td>&quot;00:14:00&quot;</td></tr><tr><td>&quot;03d92c9f6f8a&quot;</td><td>5930</td><td>69.367401</td><td>0.0</td><td>2018-06-01 00:14:10</td><td>0</td><td>&quot;2018-06-01&quot;</td><td>&quot;00:14:00&quot;</td></tr><tr><td>&quot;03d92c9f6f8a&quot;</td><td>5931</td><td>69.852798</td><td>0.0</td><td>2018-06-01 00:14:15</td><td>0</td><td>&quot;2018-06-01&quot;</td><td>&quot;00:14:00&quot;</td></tr><tr><td>&quot;03d92c9f6f8a&quot;</td><td>5932</td><td>69.852798</td><td>0.0</td><td>2018-06-01 00:14:20</td><td>0</td><td>&quot;2018-06-01&quot;</td><td>&quot;00:14:00&quot;</td></tr><tr><td>&quot;03d92c9f6f8a&quot;</td><td>5933</td><td>69.852798</td><td>0.0</td><td>2018-06-01 00:14:25</td><td>0</td><td>&quot;2018-06-01&quot;</td><td>&quot;00:14:00&quot;</td></tr><tr><td>&quot;03d92c9f6f8a&quot;</td><td>5934</td><td>69.852798</td><td>0.0</td><td>2018-06-01 00:14:30</td><td>0</td><td>&quot;2018-06-01&quot;</td><td>&quot;00:14:00&quot;</td></tr><tr><td>&quot;03d92c9f6f8a&quot;</td><td>5935</td><td>69.852798</td><td>0.0</td><td>2018-06-01 00:14:35</td><td>0</td><td>&quot;2018-06-01&quot;</td><td>&quot;00:14:00&quot;</td></tr><tr><td>&quot;03d92c9f6f8a&quot;</td><td>5936</td><td>69.852798</td><td>0.0</td><td>2018-06-01 00:14:40</td><td>0</td><td>&quot;2018-06-01&quot;</td><td>&quot;00:14:00&quot;</td></tr><tr><td>&quot;03d92c9f6f8a&quot;</td><td>5937</td><td>69.852798</td><td>0.0</td><td>2018-06-01 00:14:45</td><td>0</td><td>&quot;2018-06-01&quot;</td><td>&quot;00:14:00&quot;</td></tr><tr><td>&quot;03d92c9f6f8a&quot;</td><td>5938</td><td>69.852798</td><td>0.0</td><td>2018-06-01 00:14:50</td><td>0</td><td>&quot;2018-06-01&quot;</td><td>&quot;00:14:00&quot;</td></tr><tr><td>&quot;03d92c9f6f8a&quot;</td><td>5939</td><td>69.852798</td><td>0.0</td><td>2018-06-01 00:14:55</td><td>0</td><td>&quot;2018-06-01&quot;</td><td>&quot;00:14:00&quot;</td></tr><tr><td>&quot;03d92c9f6f8a&quot;</td><td>13524</td><td>61.761101</td><td>0.0</td><td>2018-06-01 10:47:00</td><td>1</td><td>&quot;2018-06-01&quot;</td><td>&quot;10:47:00&quot;</td></tr><tr><td>&quot;03d92c9f6f8a&quot;</td><td>13525</td><td>61.761101</td><td>0.0</td><td>2018-06-01 10:47:05</td><td>1</td><td>&quot;2018-06-01&quot;</td><td>&quot;10:47:00&quot;</td></tr><tr><td>&quot;03d92c9f6f8a&quot;</td><td>13526</td><td>61.761101</td><td>0.0</td><td>2018-06-01 10:47:10</td><td>1</td><td>&quot;2018-06-01&quot;</td><td>&quot;10:47:00&quot;</td></tr><tr><td>&quot;03d92c9f6f8a&quot;</td><td>13527</td><td>61.761101</td><td>0.0</td><td>2018-06-01 10:47:15</td><td>1</td><td>&quot;2018-06-01&quot;</td><td>&quot;10:47:00&quot;</td></tr><tr><td>&quot;03d92c9f6f8a&quot;</td><td>13528</td><td>61.761101</td><td>0.0</td><td>2018-06-01 10:47:20</td><td>1</td><td>&quot;2018-06-01&quot;</td><td>&quot;10:47:00&quot;</td></tr><tr><td>&quot;03d92c9f6f8a&quot;</td><td>13529</td><td>61.761101</td><td>0.0</td><td>2018-06-01 10:47:25</td><td>1</td><td>&quot;2018-06-01&quot;</td><td>&quot;10:47:00&quot;</td></tr><tr><td>&quot;03d92c9f6f8a&quot;</td><td>13530</td><td>61.761101</td><td>0.0</td><td>2018-06-01 10:47:30</td><td>1</td><td>&quot;2018-06-01&quot;</td><td>&quot;10:47:00&quot;</td></tr><tr><td>&quot;03d92c9f6f8a&quot;</td><td>13531</td><td>62.875099</td><td>0.0</td><td>2018-06-01 10:47:35</td><td>1</td><td>&quot;2018-06-01&quot;</td><td>&quot;10:47:00&quot;</td></tr><tr><td>&quot;03d92c9f6f8a&quot;</td><td>13532</td><td>65.621498</td><td>0.0</td><td>2018-06-01 10:47:40</td><td>1</td><td>&quot;2018-06-01&quot;</td><td>&quot;10:47:00&quot;</td></tr><tr><td>&quot;03d92c9f6f8a&quot;</td><td>13533</td><td>63.143398</td><td>0.0001</td><td>2018-06-01 10:47:45</td><td>1</td><td>&quot;2018-06-01&quot;</td><td>&quot;10:47:00&quot;</td></tr><tr><td>&quot;03d92c9f6f8a&quot;</td><td>13534</td><td>48.751099</td><td>0.007</td><td>2018-06-01 10:47:50</td><td>1</td><td>&quot;2018-06-01&quot;</td><td>&quot;10:47:00&quot;</td></tr><tr><td>&quot;03d92c9f6f8a&quot;</td><td>13535</td><td>-47.6637</td><td>0.0542</td><td>2018-06-01 10:47:55</td><td>1</td><td>&quot;2018-06-01&quot;</td><td>&quot;10:47:00&quot;</td></tr></tbody></table></div>"
     },
     "execution_count": 11,
     "metadata": {},
     "output_type": "execute_result"
    }
   ],
   "source": [
    "filter_ = (pl.col('grass_date') == '2018-06-01') & (pl.col('grass_hour').is_in(['00:14:00', '10:47:00']))\n",
    "df_merge.filter(filter_).with_columns(pl.col('is_wakeup').forward_fill())"
   ]
  },
  {
   "cell_type": "code",
   "execution_count": 12,
   "id": "e5f2667b-5c96-4de9-b33a-c7d1acf2f0fd",
   "metadata": {
    "ExecuteTime": {
     "end_time": "2023-09-12T09:21:28.982442700Z",
     "start_time": "2023-09-12T09:21:28.927194500Z"
    }
   },
   "outputs": [
    {
     "data": {
      "text/plain": "shape: (3, 2)\n┌───────────┬────────┐\n│ is_wakeup ┆ counts │\n│ ---       ┆ ---    │\n│ i32       ┆ u32    │\n╞═══════════╪════════╡\n│ 0         ┆ 62652  │\n│ 1         ┆ 655560 │\n│ null      ┆ 5928   │\n└───────────┴────────┘",
      "text/html": "<div><style>\n.dataframe > thead > tr > th,\n.dataframe > tbody > tr > td {\n  text-align: right;\n}\n</style>\n<small>shape: (3, 2)</small><table border=\"1\" class=\"dataframe\"><thead><tr><th>is_wakeup</th><th>counts</th></tr><tr><td>i32</td><td>u32</td></tr></thead><tbody><tr><td>0</td><td>62652</td></tr><tr><td>1</td><td>655560</td></tr><tr><td>null</td><td>5928</td></tr></tbody></table></div>"
     },
     "execution_count": 12,
     "metadata": {},
     "output_type": "execute_result"
    }
   ],
   "source": [
    "df_merge.with_columns(pl.col('is_wakeup').forward_fill())['is_wakeup'].value_counts()"
   ]
  },
  {
   "cell_type": "code",
   "execution_count": 13,
   "id": "2380d3c6-0ed2-4546-b5fe-4750c9595218",
   "metadata": {
    "ExecuteTime": {
     "end_time": "2023-09-12T09:22:17.038408400Z",
     "start_time": "2023-09-12T09:21:28.937930500Z"
    }
   },
   "outputs": [
    {
     "data": {
      "text/plain": "FloatProgress(value=0.0, layout=Layout(width='auto'), style=ProgressStyle(bar_color='black'))",
      "application/vnd.jupyter.widget-view+json": {
       "version_major": 2,
       "version_minor": 0,
       "model_id": "4279aa1200084edd8e09aa0b576e87d2"
      }
     },
     "metadata": {},
     "output_type": "display_data"
    },
    {
     "name": "stdout",
     "output_type": "stream",
     "text": [
      "8\n",
      "(124822080, 8) 269\n"
     ]
    },
    {
     "data": {
      "text/plain": "shape: (10, 8)\n┌──────────────┬──────┬────────┬────────┬──────────────┬───────────┬────────────┬────────────┐\n│ series_id    ┆ step ┆ anglez ┆ enmo   ┆ timestamp    ┆ is_wakeup ┆ grass_date ┆ grass_hour │\n│ ---          ┆ ---  ┆ ---    ┆ ---    ┆ ---          ┆ ---       ┆ ---        ┆ ---        │\n│ str          ┆ i32  ┆ f32    ┆ f32    ┆ datetime[μs] ┆ i32       ┆ str        ┆ str        │\n╞══════════════╪══════╪════════╪════════╪══════════════╪═══════════╪════════════╪════════════╡\n│ 038441c925bb ┆ 0    ┆ 2.6367 ┆ 0.0217 ┆ 2018-08-14   ┆ null      ┆ 2018-08-14 ┆ 19:30:00   │\n│              ┆      ┆        ┆        ┆ 19:30:00     ┆           ┆            ┆            │\n│ 038441c925bb ┆ 1    ┆ 2.6368 ┆ 0.0215 ┆ 2018-08-14   ┆ null      ┆ 2018-08-14 ┆ 19:30:05   │\n│              ┆      ┆        ┆        ┆ 19:30:05     ┆           ┆            ┆            │\n│ 038441c925bb ┆ 2    ┆ 2.637  ┆ 0.0216 ┆ 2018-08-14   ┆ null      ┆ 2018-08-14 ┆ 19:30:10   │\n│              ┆      ┆        ┆        ┆ 19:30:10     ┆           ┆            ┆            │\n│ 038441c925bb ┆ 3    ┆ 2.6368 ┆ 0.0213 ┆ 2018-08-14   ┆ null      ┆ 2018-08-14 ┆ 19:30:15   │\n│              ┆      ┆        ┆        ┆ 19:30:15     ┆           ┆            ┆            │\n│ …            ┆ …    ┆ …      ┆ …      ┆ …            ┆ …         ┆ …          ┆ …          │\n│ 038441c925bb ┆ 6    ┆ 2.6367 ┆ 0.0217 ┆ 2018-08-14   ┆ null      ┆ 2018-08-14 ┆ 19:30:30   │\n│              ┆      ┆        ┆        ┆ 19:30:30     ┆           ┆            ┆            │\n│ 038441c925bb ┆ 7    ┆ 2.6367 ┆ 0.0218 ┆ 2018-08-14   ┆ null      ┆ 2018-08-14 ┆ 19:30:35   │\n│              ┆      ┆        ┆        ┆ 19:30:35     ┆           ┆            ┆            │\n│ 038441c925bb ┆ 8    ┆ 2.798  ┆ 0.0223 ┆ 2018-08-14   ┆ null      ┆ 2018-08-14 ┆ 19:30:40   │\n│              ┆      ┆        ┆        ┆ 19:30:40     ┆           ┆            ┆            │\n│ 038441c925bb ┆ 9    ┆ 3.0847 ┆ 0.0217 ┆ 2018-08-14   ┆ null      ┆ 2018-08-14 ┆ 19:30:45   │\n│              ┆      ┆        ┆        ┆ 19:30:45     ┆           ┆            ┆            │\n└──────────────┴──────┴────────┴────────┴──────────────┴───────────┴────────────┴────────────┘",
      "text/html": "<div><style>\n.dataframe > thead > tr > th,\n.dataframe > tbody > tr > td {\n  text-align: right;\n}\n</style>\n<small>shape: (10, 8)</small><table border=\"1\" class=\"dataframe\"><thead><tr><th>series_id</th><th>step</th><th>anglez</th><th>enmo</th><th>timestamp</th><th>is_wakeup</th><th>grass_date</th><th>grass_hour</th></tr><tr><td>str</td><td>i32</td><td>f32</td><td>f32</td><td>datetime[μs]</td><td>i32</td><td>str</td><td>str</td></tr></thead><tbody><tr><td>&quot;038441c925bb&quot;</td><td>0</td><td>2.6367</td><td>0.0217</td><td>2018-08-14 19:30:00</td><td>null</td><td>&quot;2018-08-14&quot;</td><td>&quot;19:30:00&quot;</td></tr><tr><td>&quot;038441c925bb&quot;</td><td>1</td><td>2.6368</td><td>0.0215</td><td>2018-08-14 19:30:05</td><td>null</td><td>&quot;2018-08-14&quot;</td><td>&quot;19:30:05&quot;</td></tr><tr><td>&quot;038441c925bb&quot;</td><td>2</td><td>2.637</td><td>0.0216</td><td>2018-08-14 19:30:10</td><td>null</td><td>&quot;2018-08-14&quot;</td><td>&quot;19:30:10&quot;</td></tr><tr><td>&quot;038441c925bb&quot;</td><td>3</td><td>2.6368</td><td>0.0213</td><td>2018-08-14 19:30:15</td><td>null</td><td>&quot;2018-08-14&quot;</td><td>&quot;19:30:15&quot;</td></tr><tr><td>&quot;038441c925bb&quot;</td><td>4</td><td>2.6368</td><td>0.0215</td><td>2018-08-14 19:30:20</td><td>null</td><td>&quot;2018-08-14&quot;</td><td>&quot;19:30:20&quot;</td></tr><tr><td>&quot;038441c925bb&quot;</td><td>5</td><td>2.6367</td><td>0.0217</td><td>2018-08-14 19:30:25</td><td>null</td><td>&quot;2018-08-14&quot;</td><td>&quot;19:30:25&quot;</td></tr><tr><td>&quot;038441c925bb&quot;</td><td>6</td><td>2.6367</td><td>0.0217</td><td>2018-08-14 19:30:30</td><td>null</td><td>&quot;2018-08-14&quot;</td><td>&quot;19:30:30&quot;</td></tr><tr><td>&quot;038441c925bb&quot;</td><td>7</td><td>2.6367</td><td>0.0218</td><td>2018-08-14 19:30:35</td><td>null</td><td>&quot;2018-08-14&quot;</td><td>&quot;19:30:35&quot;</td></tr><tr><td>&quot;038441c925bb&quot;</td><td>8</td><td>2.798</td><td>0.0223</td><td>2018-08-14 19:30:40</td><td>null</td><td>&quot;2018-08-14&quot;</td><td>&quot;19:30:40&quot;</td></tr><tr><td>&quot;038441c925bb&quot;</td><td>9</td><td>3.0847</td><td>0.0217</td><td>2018-08-14 19:30:45</td><td>null</td><td>&quot;2018-08-14&quot;</td><td>&quot;19:30:45&quot;</td></tr></tbody></table></div>"
     },
     "execution_count": 13,
     "metadata": {},
     "output_type": "execute_result"
    }
   ],
   "source": [
    "# merge\n",
    "query = f\"\"\"\n",
    "select p.*\n",
    ", c.is_wakeup\n",
    ", strftime(p.timestamp, '%Y-%m-%d') as grass_date\n",
    ", strftime(p.timestamp, '%H:%M:%S') as grass_hour\n",
    "from df_parquet p\n",
    "left join df_csv c on p.series_id = c.series_id and p.timestamp = c.timestamp\n",
    "order by p.series_id, p.timestamp\n",
    "\"\"\"\n",
    "df_merge_full = (\n",
    "    duckdb.sql(query).pl()\n",
    "    .with_columns(pl.col('is_wakeup').forward_fill())\n",
    "    .shrink_to_fit()\n",
    ")\n",
    "\n",
    "# filter labels have 1 labels\n",
    "tmp = df_merge_full.groupby('series_id').agg(pl.col('is_wakeup').n_unique())\n",
    "exclude_lst = tmp.filter(pl.col('is_wakeup') < 2)['series_id'].unique().to_list()\n",
    "print(len(exclude_lst))\n",
    "\n",
    "df_merge_full = df_merge_full.filter(~pl.col('series_id').is_in(exclude_lst))\n",
    "\n",
    "print(df_merge_full.shape, df_merge_full['series_id'].n_unique())\n",
    "df_merge_full.head(10)"
   ]
  },
  {
   "cell_type": "code",
   "execution_count": 14,
   "id": "5ca1da4f-a90c-478b-b905-2b509b18311b",
   "metadata": {
    "ExecuteTime": {
     "end_time": "2023-09-12T09:22:17.857214300Z",
     "start_time": "2023-09-12T09:22:17.039408600Z"
    }
   },
   "outputs": [
    {
     "data": {
      "text/plain": "shape: (3, 3)\n┌───────────┬──────────┬──────────┐\n│ is_wakeup ┆ counts   ┆ pct      │\n│ ---       ┆ ---      ┆ ---      │\n│ i32       ┆ u32      ┆ f64      │\n╞═══════════╪══════════╪══════════╡\n│ 0         ┆ 29853816 ┆ 0.239171 │\n│ 1         ┆ 94963272 ┆ 0.760789 │\n│ null      ┆ 4992     ┆ 0.00004  │\n└───────────┴──────────┴──────────┘",
      "text/html": "<div><style>\n.dataframe > thead > tr > th,\n.dataframe > tbody > tr > td {\n  text-align: right;\n}\n</style>\n<small>shape: (3, 3)</small><table border=\"1\" class=\"dataframe\"><thead><tr><th>is_wakeup</th><th>counts</th><th>pct</th></tr><tr><td>i32</td><td>u32</td><td>f64</td></tr></thead><tbody><tr><td>0</td><td>29853816</td><td>0.239171</td></tr><tr><td>1</td><td>94963272</td><td>0.760789</td></tr><tr><td>null</td><td>4992</td><td>0.00004</td></tr></tbody></table></div>"
     },
     "execution_count": 14,
     "metadata": {},
     "output_type": "execute_result"
    }
   ],
   "source": [
    "label_stats = df_merge_full['is_wakeup'].value_counts() \n",
    "label_stats.with_columns((pl.col('counts') / pl.col('counts').sum()).alias('pct'))"
   ]
  },
  {
   "cell_type": "markdown",
   "id": "a2ba9392a85cac8c",
   "metadata": {
    "collapsed": false
   },
   "source": [
    "## 2.2 check features"
   ]
  },
  {
   "cell_type": "code",
   "execution_count": 15,
   "outputs": [],
   "source": [
    "def plot(x, series_id, data, onset_time, wakeup_time, save=False):\n",
    "    fig, axes = plt.subplots(2, 1, figsize=(20, 10))\n",
    "    axes = axes.flatten()\n",
    "    for i, v in enumerate(['anglez', 'enmo']):\n",
    "        sns.lineplot(data=data, x=x, y=v, hue='is_wakeup', ax=axes[i])\n",
    "        for onset in onset_time:\n",
    "            axes[i].axvline(x=onset, color='r', linestyle='--', label='onset')\n",
    "        for wakeup in wakeup_time:\n",
    "            axes[i].axvline(x=wakeup, color='g', linestyle='--', label='wakeup')\n",
    "        \n",
    "    # label\n",
    "    handles, labels = fig.gca().get_legend_handles_labels()\n",
    "    new_labels, new_handles = [], []\n",
    "    for handle, label in zip(handles, labels):\n",
    "        if label not in new_labels:\n",
    "            new_handles.append(handle)\n",
    "            new_labels.append(label)\n",
    "    for i, v in enumerate(['anglez', 'enmo']):\n",
    "        axes[i].legend(list(set(new_handles)), list(set(new_labels)), loc='upper right')\n",
    "        \n",
    "    fig.suptitle(f'series id {series_id}', fontsize=16)\n",
    "    fig.tight_layout()\n",
    "    if save:\n",
    "        fig.savefig(path / f'media/{series_id}.png', dpi=300)\n",
    "        plt.close('all')   \n",
    "        plt.close(fig)\n",
    "        gc.collect()\n",
    "    \n",
    "\n",
    "def eda_series(series_id, df_merge_full, df_csv, save=False):\n",
    "    filter_ = pl.col('series_id') == series_id\n",
    "    unit_merge = df_merge_full.filter(filter_)\n",
    "    unit_label = df_csv.filter(filter_)\n",
    "    \n",
    "    onset_time = unit_label.filter(pl.col('event') == 'onset')['timestamp']\n",
    "    wakeup_time = unit_label.filter(pl.col('event') == 'wakeup')['timestamp']\n",
    "\n",
    "    plot('timestamp', series_id, unit_merge, onset_time, wakeup_time,save)"
   ],
   "metadata": {
    "collapsed": false,
    "ExecuteTime": {
     "end_time": "2023-09-12T09:22:17.867028600Z",
     "start_time": "2023-09-12T09:22:17.854721200Z"
    }
   },
   "id": "39f8bba62baf6ae3"
  },
  {
   "cell_type": "code",
   "execution_count": 16,
   "outputs": [],
   "source": [
    "# series_id = '03d92c9f6f8a'\n",
    "# eda_series(series_id, df_merge_full, df_csv)"
   ],
   "metadata": {
    "collapsed": false,
    "ExecuteTime": {
     "end_time": "2023-09-12T09:22:17.873537400Z",
     "start_time": "2023-09-12T09:22:17.867028600Z"
    }
   },
   "id": "414834c84e76be52"
  },
  {
   "cell_type": "code",
   "execution_count": 17,
   "id": "b6c3e9b3605eb7f",
   "metadata": {
    "collapsed": false,
    "ExecuteTime": {
     "end_time": "2023-09-12T09:22:17.905144600Z",
     "start_time": "2023-09-12T09:22:17.874538700Z"
    }
   },
   "outputs": [],
   "source": [
    "# series_id = '038441c925bb'\n",
    "# eda_series(series_id, df_merge_full, df_csv)"
   ]
  },
  {
   "cell_type": "code",
   "execution_count": 18,
   "id": "e42d3510-ed6d-43f6-94e8-fe40ec08274a",
   "metadata": {
    "ExecuteTime": {
     "end_time": "2023-09-12T09:22:32.455634500Z",
     "start_time": "2023-09-12T09:22:17.881144700Z"
    }
   },
   "outputs": [],
   "source": [
    "df_merge_full.write_parquet(path / 'clean.parquet', use_pyarrow=True)"
   ]
  },
  {
   "cell_type": "code",
   "execution_count": 19,
   "outputs": [
    {
     "name": "stderr",
     "output_type": "stream",
     "text": [
      "100%|██████████| 269/269 [19:05<00:00,  4.26s/it]\n"
     ]
    }
   ],
   "source": [
    "run = df_merge_full['series_id'].unique().to_list()\n",
    "f = partial(eda_series,  df_merge_full=df_merge_full, df_csv=df_csv, save=True)\n",
    "with tqdm(total=len(run)) as pbar:\n",
    "    with ThreadPoolExecutor(max_workers=6) as executor:\n",
    "        futures = {executor.submit(f, arg): arg for arg in run}\n",
    "        results = {}\n",
    "        for future in as_completed(futures):\n",
    "            arg = futures[future]\n",
    "            results[arg] = future.result()\n",
    "            pbar.update(1)"
   ],
   "metadata": {
    "collapsed": false,
    "ExecuteTime": {
     "end_time": "2023-09-12T09:41:38.710953700Z",
     "start_time": "2023-09-12T09:22:32.457634Z"
    }
   },
   "id": "876ae8e13b44864e"
  },
  {
   "cell_type": "code",
   "execution_count": 19,
   "outputs": [],
   "source": [],
   "metadata": {
    "collapsed": false,
    "ExecuteTime": {
     "end_time": "2023-09-12T09:41:38.717937700Z",
     "start_time": "2023-09-12T09:41:38.711429700Z"
    }
   },
   "id": "f79b944a1c99ae2a"
  }
 ],
 "metadata": {
  "kernelspec": {
   "display_name": "Python 3 (ipykernel)",
   "language": "python",
   "name": "python3"
  },
  "language_info": {
   "codemirror_mode": {
    "name": "ipython",
    "version": 3
   },
   "file_extension": ".py",
   "mimetype": "text/x-python",
   "name": "python",
   "nbconvert_exporter": "python",
   "pygments_lexer": "ipython3",
   "version": "3.11.4"
  }
 },
 "nbformat": 4,
 "nbformat_minor": 5
}
