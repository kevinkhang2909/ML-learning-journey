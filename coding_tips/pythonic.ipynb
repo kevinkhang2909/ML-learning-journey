{
 "cells": [
  {
   "cell_type": "markdown",
   "id": "27e8c8a1-b8f1-45aa-ac6b-568f500e41c5",
   "metadata": {
    "tags": []
   },
   "source": [
    "# 1. Lambda, map, filter, reduce"
   ]
  },
  {
   "cell_type": "markdown",
   "id": "b9b2c558-6802-4c54-bc26-cf4134fcef80",
   "metadata": {},
   "source": [
    "`Lambda` functions ideal when used in conjunction with functions like `map`, `filter`, and `reduce`."
   ]
  },
  {
   "cell_type": "code",
   "execution_count": 1,
   "id": "adc5c487-f8df-4426-896f-a9531968f79f",
   "metadata": {},
   "outputs": [
    {
     "name": "stdout",
     "output_type": "stream",
     "text": [
      "20 20\n"
     ]
    }
   ],
   "source": [
    "def func(x):\n",
    "    return x + x\n",
    "\n",
    "func_x = lambda x: x + x\n",
    "\n",
    "print(func(10), func_x(10))"
   ]
  },
  {
   "cell_type": "code",
   "execution_count": 2,
   "id": "8c134a25-e2b1-4a5d-885e-8871036d34aa",
   "metadata": {},
   "outputs": [
    {
     "name": "stdout",
     "output_type": "stream",
     "text": [
      "[2, 4, 6, 8, 10] [2, 4, 6, 8, 10] [2, 4, 6, 8, 10] [2, 4, 6, 8, 10]\n"
     ]
    }
   ],
   "source": [
    "nums = [1, 2, 3, 4, 5]\n",
    "\n",
    "# Method 1: using a loop\n",
    "ex_1 = []\n",
    "for x in nums:\n",
    "    ex_1.append(func(x))\n",
    "\n",
    "# Method 2: using map\n",
    "ex_2 = [func(x) for x in nums]\n",
    "ex_3 = list(map(func, nums))\n",
    "ex_4 = list(map(func_x, nums))\n",
    "\n",
    "print(ex_1, ex_2, ex_3, ex_4)"
   ]
  },
  {
   "cell_type": "code",
   "execution_count": 3,
   "id": "97d06828-6530-482a-8616-03b580171dca",
   "metadata": {},
   "outputs": [
    {
     "name": "stdout",
     "output_type": "stream",
     "text": [
      "[1, 2] [1, 2] [1, 2]\n"
     ]
    }
   ],
   "source": [
    "# Method 1: using a loop\n",
    "ex_5 = []\n",
    "for x in nums:\n",
    "    if x < 3:\n",
    "        ex_5.append(x)\n",
    "        \n",
    "# Method 2: using filter\n",
    "ex_6 = list(filter(lambda x: x < 3, nums))\n",
    "\n",
    "# Method 3: using list comprehensive\n",
    "ex_7 = [x for x in nums if x < 3]\n",
    "\n",
    "print(ex_5, ex_6, ex_7)"
   ]
  },
  {
   "cell_type": "code",
   "execution_count": 4,
   "id": "1ee31eb9-24c6-4c39-ba70-073e8084ee8a",
   "metadata": {},
   "outputs": [
    {
     "name": "stdout",
     "output_type": "stream",
     "text": [
      "15\n",
      "15\n"
     ]
    }
   ],
   "source": [
    "from functools import reduce\n",
    "\n",
    "# Method 1: using a loop\n",
    "product = 0\n",
    "for num in nums:\n",
    "    product += num\n",
    "print(product)\n",
    "\n",
    "# Method 2: using reduce\n",
    "product = reduce(lambda x, y: x + y, nums)\n",
    "print(product)"
   ]
  },
  {
   "cell_type": "markdown",
   "id": "67c95ed2-f863-445a-91d5-be889c613263",
   "metadata": {},
   "source": [
    "**Performance:** <br>\n",
    "`Lambda` functions are meant for one time use. Each time lambda x: dosomething(x) is called, the function has to be created, which hurts the performance if you call lambda x: dosomething(x) multiple times (e.g. when you pass it inside reduce).\n",
    "\n",
    "Even though `lambda` functions are clean, I recommend using named functions for the sake of clarity."
   ]
  },
  {
   "cell_type": "code",
   "execution_count": 5,
   "id": "aa20166b-8f50-4999-9481-61bcd3afc4bb",
   "metadata": {},
   "outputs": [
    {
     "name": "stdout",
     "output_type": "stream",
     "text": [
      "50.3 ns ± 0.688 ns per loop (mean ± std. dev. of 7 runs, 10,000,000 loops each)\n",
      "49.5 ns ± 0.312 ns per loop (mean ± std. dev. of 7 runs, 10,000,000 loops each)\n"
     ]
    }
   ],
   "source": [
    "%timeit def a(): return 10\n",
    "%timeit b = lambda: 10"
   ]
  },
  {
   "cell_type": "markdown",
   "id": "481ff706-f263-402c-ba22-45f1aceb4218",
   "metadata": {
    "tags": []
   },
   "source": [
    "# 2. List"
   ]
  },
  {
   "cell_type": "markdown",
   "id": "ac5e0035-5221-4a3e-9a74-4748fb80d62b",
   "metadata": {
    "tags": []
   },
   "source": [
    "2.1 Flattening"
   ]
  },
  {
   "cell_type": "code",
   "execution_count": 6,
   "id": "f5957837-13c3-4dc8-991b-52e958e63baa",
   "metadata": {},
   "outputs": [
    {
     "data": {
      "text/plain": [
       "[1, 2, 3, 4, 5, 6]"
      ]
     },
     "execution_count": 6,
     "metadata": {},
     "output_type": "execute_result"
    }
   ],
   "source": [
    "list_of_lists = [[1], [2, 3], [4, 5, 6]]\n",
    "sum(list_of_lists, [])"
   ]
  },
  {
   "cell_type": "markdown",
   "id": "8ec2af5e-42c9-4707-ae34-11e17dda6ed5",
   "metadata": {},
   "source": [
    "2.2 List vs generator\n",
    "\n",
    "We have to store all values in list. If we have large list (m values), then the memory requirement problematic when m is large `O(nm)`.\n",
    "Instead of using a list to store all values, we can use a generator that generates the next values when it's asked for. This is known as lazy evaluation. The memory requirement is `O(m+n)`."
   ]
  },
  {
   "cell_type": "code",
   "execution_count": 7,
   "id": "63c82090-952f-4544-808a-bcd63fea5ffc",
   "metadata": {},
   "outputs": [
    {
     "name": "stdout",
     "output_type": "stream",
     "text": [
      "<generator object cal at 0x7f9935b71c10>\n",
      "2\n",
      "4\n",
      "6\n",
      "8\n",
      "10\n"
     ]
    }
   ],
   "source": [
    "def cal(lst):\n",
    "    result = []\n",
    "    for x in lst:\n",
    "        yield x + x\n",
    "        \n",
    "generator = cal(nums)\n",
    "print(generator)\n",
    "for i in generator:\n",
    "    print(i)"
   ]
  },
  {
   "cell_type": "code",
   "execution_count": null,
   "id": "1124416c-93ef-4c3b-b5fc-2f4e5f7b9366",
   "metadata": {},
   "outputs": [],
   "source": []
  }
 ],
 "metadata": {
  "kernelspec": {
   "display_name": "Python 3 (ipykernel)",
   "language": "python",
   "name": "python3"
  },
  "language_info": {
   "codemirror_mode": {
    "name": "ipython",
    "version": 3
   },
   "file_extension": ".py",
   "mimetype": "text/x-python",
   "name": "python",
   "nbconvert_exporter": "python",
   "pygments_lexer": "ipython3",
   "version": "3.9.7"
  }
 },
 "nbformat": 4,
 "nbformat_minor": 5
}
