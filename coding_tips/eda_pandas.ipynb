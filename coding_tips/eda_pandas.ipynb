{
 "cells": [
  {
   "cell_type": "markdown",
   "metadata": {},
   "source": [
    "# Exploratory data analysis (EDA)"
   ]
  },
  {
   "cell_type": "code",
   "execution_count": 1,
   "metadata": {
    "ExecuteTime": {
     "end_time": "2023-04-01T11:21:06.744583Z",
     "start_time": "2023-04-01T11:21:06.742074Z"
    },
    "collapsed": true,
    "jupyter": {
     "outputs_hidden": true
    }
   },
   "outputs": [],
   "source": [
    "from pathlib import Path\n",
    "import pandas as pd\n",
    "import seaborn as sns"
   ]
  },
  {
   "cell_type": "code",
   "execution_count": 2,
   "metadata": {
    "ExecuteTime": {
     "end_time": "2023-04-01T11:21:06.788994Z",
     "start_time": "2023-04-01T11:21:06.747650Z"
    },
    "collapsed": false,
    "jupyter": {
     "outputs_hidden": false
    }
   },
   "outputs": [
    {
     "data": {
      "text/html": [
       "<div>\n",
       "<style scoped>\n",
       "    .dataframe tbody tr th:only-of-type {\n",
       "        vertical-align: middle;\n",
       "    }\n",
       "\n",
       "    .dataframe tbody tr th {\n",
       "        vertical-align: top;\n",
       "    }\n",
       "\n",
       "    .dataframe thead th {\n",
       "        text-align: right;\n",
       "    }\n",
       "</style>\n",
       "<table border=\"1\" class=\"dataframe\">\n",
       "  <thead>\n",
       "    <tr style=\"text-align: right;\">\n",
       "      <th></th>\n",
       "      <th>grass_week</th>\n",
       "      <th>grass_month</th>\n",
       "      <th>grass_date</th>\n",
       "      <th>date_type</th>\n",
       "      <th>Organic</th>\n",
       "      <th>Seller Ads</th>\n",
       "      <th>CRM</th>\n",
       "      <th>GG SEO</th>\n",
       "      <th>Offline</th>\n",
       "      <th>Affiliate</th>\n",
       "      <th>...</th>\n",
       "      <th>MiniSpike</th>\n",
       "      <th>spike</th>\n",
       "      <th>spike_date</th>\n",
       "      <th>days_dif_spike</th>\n",
       "      <th>mini_spike_date</th>\n",
       "      <th>days_dif_mini_spike</th>\n",
       "      <th>Tiktok_monthly_a1_minus_m2</th>\n",
       "      <th>Tiktok_monthly_a30_minus_m2</th>\n",
       "      <th>Lazada_monthly_a1_minus_m2</th>\n",
       "      <th>Lazada_monthly_a30_minus_m2</th>\n",
       "    </tr>\n",
       "  </thead>\n",
       "  <tbody>\n",
       "    <tr>\n",
       "      <th>0</th>\n",
       "      <td>2020-12-28</td>\n",
       "      <td>2021-01-01</td>\n",
       "      <td>2021-01-01</td>\n",
       "      <td>BAU</td>\n",
       "      <td>2088631.0</td>\n",
       "      <td>62515.0</td>\n",
       "      <td>376752.0</td>\n",
       "      <td>173305.0</td>\n",
       "      <td>8188.0</td>\n",
       "      <td>13761.0</td>\n",
       "      <td>...</td>\n",
       "      <td>0</td>\n",
       "      <td>0</td>\n",
       "      <td>27.0</td>\n",
       "      <td>26.0</td>\n",
       "      <td>NaN</td>\n",
       "      <td>NaN</td>\n",
       "      <td>NaN</td>\n",
       "      <td>NaN</td>\n",
       "      <td>NaN</td>\n",
       "      <td>NaN</td>\n",
       "    </tr>\n",
       "    <tr>\n",
       "      <th>1</th>\n",
       "      <td>2020-12-28</td>\n",
       "      <td>2021-01-01</td>\n",
       "      <td>2021-01-02</td>\n",
       "      <td>BAU</td>\n",
       "      <td>2122025.0</td>\n",
       "      <td>52141.0</td>\n",
       "      <td>335163.0</td>\n",
       "      <td>174069.0</td>\n",
       "      <td>8188.0</td>\n",
       "      <td>13841.0</td>\n",
       "      <td>...</td>\n",
       "      <td>0</td>\n",
       "      <td>0</td>\n",
       "      <td>27.0</td>\n",
       "      <td>25.0</td>\n",
       "      <td>NaN</td>\n",
       "      <td>NaN</td>\n",
       "      <td>NaN</td>\n",
       "      <td>NaN</td>\n",
       "      <td>NaN</td>\n",
       "      <td>NaN</td>\n",
       "    </tr>\n",
       "    <tr>\n",
       "      <th>2</th>\n",
       "      <td>2020-12-28</td>\n",
       "      <td>2021-01-01</td>\n",
       "      <td>2021-01-03</td>\n",
       "      <td>BAU</td>\n",
       "      <td>2202061.0</td>\n",
       "      <td>44270.0</td>\n",
       "      <td>322492.0</td>\n",
       "      <td>174674.0</td>\n",
       "      <td>8188.0</td>\n",
       "      <td>15547.0</td>\n",
       "      <td>...</td>\n",
       "      <td>0</td>\n",
       "      <td>0</td>\n",
       "      <td>27.0</td>\n",
       "      <td>24.0</td>\n",
       "      <td>NaN</td>\n",
       "      <td>NaN</td>\n",
       "      <td>NaN</td>\n",
       "      <td>NaN</td>\n",
       "      <td>NaN</td>\n",
       "      <td>NaN</td>\n",
       "    </tr>\n",
       "    <tr>\n",
       "      <th>3</th>\n",
       "      <td>2021-01-04</td>\n",
       "      <td>2021-01-01</td>\n",
       "      <td>2021-01-04</td>\n",
       "      <td>BAU</td>\n",
       "      <td>2276030.0</td>\n",
       "      <td>40557.0</td>\n",
       "      <td>352532.0</td>\n",
       "      <td>185140.0</td>\n",
       "      <td>8188.0</td>\n",
       "      <td>18454.0</td>\n",
       "      <td>...</td>\n",
       "      <td>0</td>\n",
       "      <td>0</td>\n",
       "      <td>27.0</td>\n",
       "      <td>23.0</td>\n",
       "      <td>NaN</td>\n",
       "      <td>NaN</td>\n",
       "      <td>NaN</td>\n",
       "      <td>NaN</td>\n",
       "      <td>NaN</td>\n",
       "      <td>NaN</td>\n",
       "    </tr>\n",
       "    <tr>\n",
       "      <th>4</th>\n",
       "      <td>2021-01-04</td>\n",
       "      <td>2021-01-01</td>\n",
       "      <td>2021-01-05</td>\n",
       "      <td>BAU</td>\n",
       "      <td>2350501.0</td>\n",
       "      <td>33928.0</td>\n",
       "      <td>379686.0</td>\n",
       "      <td>186427.0</td>\n",
       "      <td>8188.0</td>\n",
       "      <td>18746.0</td>\n",
       "      <td>...</td>\n",
       "      <td>0</td>\n",
       "      <td>0</td>\n",
       "      <td>27.0</td>\n",
       "      <td>22.0</td>\n",
       "      <td>NaN</td>\n",
       "      <td>NaN</td>\n",
       "      <td>NaN</td>\n",
       "      <td>NaN</td>\n",
       "      <td>NaN</td>\n",
       "      <td>NaN</td>\n",
       "    </tr>\n",
       "  </tbody>\n",
       "</table>\n",
       "<p>5 rows × 36 columns</p>\n",
       "</div>"
      ],
      "text/plain": [
       "   grass_week grass_month grass_date date_type    Organic  Seller Ads  \\\n",
       "0  2020-12-28  2021-01-01 2021-01-01       BAU  2088631.0     62515.0   \n",
       "1  2020-12-28  2021-01-01 2021-01-02       BAU  2122025.0     52141.0   \n",
       "2  2020-12-28  2021-01-01 2021-01-03       BAU  2202061.0     44270.0   \n",
       "3  2021-01-04  2021-01-01 2021-01-04       BAU  2276030.0     40557.0   \n",
       "4  2021-01-04  2021-01-01 2021-01-05       BAU  2350501.0     33928.0   \n",
       "\n",
       "        CRM    GG SEO  Offline  Affiliate  ...  MiniSpike  spike  spike_date  \\\n",
       "0  376752.0  173305.0   8188.0    13761.0  ...          0      0        27.0   \n",
       "1  335163.0  174069.0   8188.0    13841.0  ...          0      0        27.0   \n",
       "2  322492.0  174674.0   8188.0    15547.0  ...          0      0        27.0   \n",
       "3  352532.0  185140.0   8188.0    18454.0  ...          0      0        27.0   \n",
       "4  379686.0  186427.0   8188.0    18746.0  ...          0      0        27.0   \n",
       "\n",
       "   days_dif_spike  mini_spike_date  days_dif_mini_spike  \\\n",
       "0            26.0              NaN                  NaN   \n",
       "1            25.0              NaN                  NaN   \n",
       "2            24.0              NaN                  NaN   \n",
       "3            23.0              NaN                  NaN   \n",
       "4            22.0              NaN                  NaN   \n",
       "\n",
       "   Tiktok_monthly_a1_minus_m2  Tiktok_monthly_a30_minus_m2  \\\n",
       "0                         NaN                          NaN   \n",
       "1                         NaN                          NaN   \n",
       "2                         NaN                          NaN   \n",
       "3                         NaN                          NaN   \n",
       "4                         NaN                          NaN   \n",
       "\n",
       "   Lazada_monthly_a1_minus_m2  Lazada_monthly_a30_minus_m2  \n",
       "0                         NaN                          NaN  \n",
       "1                         NaN                          NaN  \n",
       "2                         NaN                          NaN  \n",
       "3                         NaN                          NaN  \n",
       "4                         NaN                          NaN  \n",
       "\n",
       "[5 rows x 36 columns]"
      ]
     },
     "execution_count": 2,
     "metadata": {},
     "output_type": "execute_result"
    }
   ],
   "source": [
    "path = Path.home() / 'OneDrive - Seagroup/mkt/organic_predict/mkt_a1_organic.ftr'\n",
    "df = pd.read_feather(path)\n",
    "\n",
    "df.head()"
   ]
  },
  {
   "cell_type": "markdown",
   "metadata": {},
   "source": [
    "## 1. Summerize Data"
   ]
  },
  {
   "cell_type": "code",
   "execution_count": 3,
   "metadata": {
    "ExecuteTime": {
     "end_time": "2023-04-01T11:21:06.796380Z",
     "start_time": "2023-04-01T11:21:06.791497Z"
    },
    "collapsed": false,
    "jupyter": {
     "outputs_hidden": false
    }
   },
   "outputs": [
    {
     "data": {
      "text/plain": [
       "(1458, 36)"
      ]
     },
     "execution_count": 3,
     "metadata": {},
     "output_type": "execute_result"
    }
   ],
   "source": [
    "df.shape"
   ]
  },
  {
   "cell_type": "code",
   "execution_count": 4,
   "metadata": {
    "ExecuteTime": {
     "end_time": "2023-04-01T11:21:06.859554Z",
     "start_time": "2023-04-01T11:21:06.798326Z"
    },
    "collapsed": false,
    "jupyter": {
     "outputs_hidden": false
    }
   },
   "outputs": [
    {
     "name": "stdout",
     "output_type": "stream",
     "text": [
      "<class 'pandas.core.frame.DataFrame'>\n",
      "Int64Index: 1458 entries, 0 to 1457\n",
      "Data columns (total 36 columns):\n",
      " #   Column                       Non-Null Count  Dtype         \n",
      "---  ------                       --------------  -----         \n",
      " 0   grass_week                   1458 non-null   object        \n",
      " 1   grass_month                  1458 non-null   object        \n",
      " 2   grass_date                   1458 non-null   datetime64[ns]\n",
      " 3   date_type                    1458 non-null   object        \n",
      " 4   Organic                      1419 non-null   float64       \n",
      " 5   Seller Ads                   1419 non-null   float64       \n",
      " 6   CRM                          1419 non-null   float64       \n",
      " 7   GG SEO                       1419 non-null   float64       \n",
      " 8   Offline                      1449 non-null   float64       \n",
      " 9   Affiliate                    1449 non-null   float64       \n",
      " 10  Paid Install                 1449 non-null   float64       \n",
      " 11  Retargeting                  1449 non-null   float64       \n",
      " 12  Search                       1449 non-null   float64       \n",
      " 13  Branding                     1449 non-null   float64       \n",
      " 14  CRM_PN_Send                  1419 non-null   float64       \n",
      " 15  Tiktok_monthly_a1            1397 non-null   float64       \n",
      " 16  Tiktok_monthly_a30           1397 non-null   float64       \n",
      " 17  Tiktok_weekly_a1             1402 non-null   float64       \n",
      " 18  Lazada_monthly_a1            1397 non-null   float64       \n",
      " 19  Lazada_monthly_a30           1397 non-null   float64       \n",
      " 20  Lazada_weekly_a1             1402 non-null   float64       \n",
      " 21  year                         1458 non-null   int64         \n",
      " 22  month                        1458 non-null   int64         \n",
      " 23  date                         1458 non-null   int64         \n",
      " 24  bau                          1458 non-null   uint8         \n",
      " 25  mini_spike                   1458 non-null   uint8         \n",
      " 26  MiniSpike                    1458 non-null   uint8         \n",
      " 27  spike                        1458 non-null   uint8         \n",
      " 28  spike_date                   1361 non-null   float64       \n",
      " 29  days_dif_spike               1361 non-null   float64       \n",
      " 30  mini_spike_date              1397 non-null   float64       \n",
      " 31  days_dif_mini_spike          1397 non-null   float64       \n",
      " 32  Tiktok_monthly_a1_minus_m2   1399 non-null   float64       \n",
      " 33  Tiktok_monthly_a30_minus_m2  1399 non-null   float64       \n",
      " 34  Lazada_monthly_a1_minus_m2   1399 non-null   float64       \n",
      " 35  Lazada_monthly_a30_minus_m2  1399 non-null   float64       \n",
      "dtypes: datetime64[ns](1), float64(25), int64(3), object(3), uint8(4)\n",
      "memory usage: 381.6+ KB\n"
     ]
    }
   ],
   "source": [
    "df.info()"
   ]
  },
  {
   "cell_type": "code",
   "execution_count": 5,
   "metadata": {
    "ExecuteTime": {
     "end_time": "2023-04-01T11:21:06.860375Z",
     "start_time": "2023-04-01T11:21:06.815441Z"
    },
    "collapsed": false,
    "jupyter": {
     "outputs_hidden": false
    }
   },
   "outputs": [
    {
     "data": {
      "text/html": [
       "<div>\n",
       "<style scoped>\n",
       "    .dataframe tbody tr th:only-of-type {\n",
       "        vertical-align: middle;\n",
       "    }\n",
       "\n",
       "    .dataframe tbody tr th {\n",
       "        vertical-align: top;\n",
       "    }\n",
       "\n",
       "    .dataframe thead th {\n",
       "        text-align: right;\n",
       "    }\n",
       "</style>\n",
       "<table border=\"1\" class=\"dataframe\">\n",
       "  <thead>\n",
       "    <tr style=\"text-align: right;\">\n",
       "      <th></th>\n",
       "      <th>Organic</th>\n",
       "      <th>Seller Ads</th>\n",
       "    </tr>\n",
       "  </thead>\n",
       "  <tbody>\n",
       "    <tr>\n",
       "      <th>count</th>\n",
       "      <td>1.419000e+03</td>\n",
       "      <td>1419.000000</td>\n",
       "    </tr>\n",
       "    <tr>\n",
       "      <th>mean</th>\n",
       "      <td>2.954967e+06</td>\n",
       "      <td>185376.895701</td>\n",
       "    </tr>\n",
       "    <tr>\n",
       "      <th>std</th>\n",
       "      <td>4.943013e+05</td>\n",
       "      <td>94242.499342</td>\n",
       "    </tr>\n",
       "    <tr>\n",
       "      <th>min</th>\n",
       "      <td>1.219870e+06</td>\n",
       "      <td>15211.000000</td>\n",
       "    </tr>\n",
       "    <tr>\n",
       "      <th>25%</th>\n",
       "      <td>2.603987e+06</td>\n",
       "      <td>109898.000000</td>\n",
       "    </tr>\n",
       "    <tr>\n",
       "      <th>50%</th>\n",
       "      <td>3.057306e+06</td>\n",
       "      <td>183547.000000</td>\n",
       "    </tr>\n",
       "    <tr>\n",
       "      <th>75%</th>\n",
       "      <td>3.291284e+06</td>\n",
       "      <td>237657.000000</td>\n",
       "    </tr>\n",
       "    <tr>\n",
       "      <th>max</th>\n",
       "      <td>4.298470e+06</td>\n",
       "      <td>564963.000000</td>\n",
       "    </tr>\n",
       "  </tbody>\n",
       "</table>\n",
       "</div>"
      ],
      "text/plain": [
       "            Organic     Seller Ads\n",
       "count  1.419000e+03    1419.000000\n",
       "mean   2.954967e+06  185376.895701\n",
       "std    4.943013e+05   94242.499342\n",
       "min    1.219870e+06   15211.000000\n",
       "25%    2.603987e+06  109898.000000\n",
       "50%    3.057306e+06  183547.000000\n",
       "75%    3.291284e+06  237657.000000\n",
       "max    4.298470e+06  564963.000000"
      ]
     },
     "execution_count": 5,
     "metadata": {},
     "output_type": "execute_result"
    }
   ],
   "source": [
    "col = ['Organic', 'Seller Ads']\n",
    "df[col].describe()"
   ]
  },
  {
   "cell_type": "code",
   "execution_count": 6,
   "metadata": {
    "ExecuteTime": {
     "end_time": "2023-04-01T11:21:06.912761Z",
     "start_time": "2023-04-01T11:21:06.835480Z"
    },
    "collapsed": false,
    "jupyter": {
     "outputs_hidden": false
    }
   },
   "outputs": [
    {
     "data": {
      "text/html": [
       "<div>\n",
       "<style scoped>\n",
       "    .dataframe tbody tr th:only-of-type {\n",
       "        vertical-align: middle;\n",
       "    }\n",
       "\n",
       "    .dataframe tbody tr th {\n",
       "        vertical-align: top;\n",
       "    }\n",
       "\n",
       "    .dataframe thead th {\n",
       "        text-align: right;\n",
       "    }\n",
       "</style>\n",
       "<table border=\"1\" class=\"dataframe\">\n",
       "  <thead>\n",
       "    <tr style=\"text-align: right;\">\n",
       "      <th></th>\n",
       "      <th>Organic</th>\n",
       "      <th>Seller Ads</th>\n",
       "    </tr>\n",
       "  </thead>\n",
       "  <tbody>\n",
       "    <tr>\n",
       "      <th>count</th>\n",
       "      <td>1.419000e+03</td>\n",
       "      <td>1419.000000</td>\n",
       "    </tr>\n",
       "    <tr>\n",
       "      <th>mean</th>\n",
       "      <td>2.954967e+06</td>\n",
       "      <td>185376.895701</td>\n",
       "    </tr>\n",
       "    <tr>\n",
       "      <th>std</th>\n",
       "      <td>4.943013e+05</td>\n",
       "      <td>94242.499342</td>\n",
       "    </tr>\n",
       "    <tr>\n",
       "      <th>min</th>\n",
       "      <td>1.219870e+06</td>\n",
       "      <td>15211.000000</td>\n",
       "    </tr>\n",
       "    <tr>\n",
       "      <th>10%</th>\n",
       "      <td>2.170991e+06</td>\n",
       "      <td>67393.000000</td>\n",
       "    </tr>\n",
       "    <tr>\n",
       "      <th>40%</th>\n",
       "      <td>2.988405e+06</td>\n",
       "      <td>161802.200000</td>\n",
       "    </tr>\n",
       "    <tr>\n",
       "      <th>50%</th>\n",
       "      <td>3.057306e+06</td>\n",
       "      <td>183547.000000</td>\n",
       "    </tr>\n",
       "    <tr>\n",
       "      <th>90%</th>\n",
       "      <td>3.516546e+06</td>\n",
       "      <td>305951.000000</td>\n",
       "    </tr>\n",
       "    <tr>\n",
       "      <th>max</th>\n",
       "      <td>4.298470e+06</td>\n",
       "      <td>564963.000000</td>\n",
       "    </tr>\n",
       "  </tbody>\n",
       "</table>\n",
       "</div>"
      ],
      "text/plain": [
       "            Organic     Seller Ads\n",
       "count  1.419000e+03    1419.000000\n",
       "mean   2.954967e+06  185376.895701\n",
       "std    4.943013e+05   94242.499342\n",
       "min    1.219870e+06   15211.000000\n",
       "10%    2.170991e+06   67393.000000\n",
       "40%    2.988405e+06  161802.200000\n",
       "50%    3.057306e+06  183547.000000\n",
       "90%    3.516546e+06  305951.000000\n",
       "max    4.298470e+06  564963.000000"
      ]
     },
     "execution_count": 6,
     "metadata": {},
     "output_type": "execute_result"
    }
   ],
   "source": [
    "df[col].describe(percentiles=[.1, .4, .5, .9])"
   ]
  },
  {
   "cell_type": "code",
   "execution_count": 7,
   "metadata": {
    "ExecuteTime": {
     "end_time": "2023-04-01T11:21:07.028602Z",
     "start_time": "2023-04-01T11:21:06.858251Z"
    },
    "collapsed": false,
    "jupyter": {
     "outputs_hidden": false
    }
   },
   "outputs": [
    {
     "data": {
      "text/plain": [
       "0.5    3057306.0\n",
       "0.7    3232830.6\n",
       "Name: Organic, dtype: float64"
      ]
     },
     "execution_count": 7,
     "metadata": {},
     "output_type": "execute_result"
    }
   ],
   "source": [
    "df['Organic'].quantile([.5, .7])"
   ]
  },
  {
   "cell_type": "code",
   "execution_count": 8,
   "metadata": {
    "ExecuteTime": {
     "end_time": "2023-04-01T11:21:07.276072Z",
     "start_time": "2023-04-01T11:21:06.867463Z"
    },
    "collapsed": false,
    "jupyter": {
     "outputs_hidden": false
    }
   },
   "outputs": [
    {
     "data": {
      "text/plain": [
       "<AxesSubplot:ylabel='Frequency'>"
      ]
     },
     "execution_count": 8,
     "metadata": {},
     "output_type": "execute_result"
    },
    {
     "data": {
      "image/png": "[encoded data removed]",
      "text/plain": [
       "<Figure size 640x480 with 1 Axes>"
      ]
     },
     "metadata": {},
     "output_type": "display_data"
    }
   ],
   "source": [
    "df['Organic'].plot.hist(bins=50)"
   ]
  },
  {
   "cell_type": "code",
   "execution_count": 9,
   "metadata": {
    "ExecuteTime": {
     "end_time": "2023-04-01T11:21:07.569728Z",
     "start_time": "2023-04-01T11:21:07.276590Z"
    },
    "collapsed": false,
    "jupyter": {
     "outputs_hidden": false
    }
   },
   "outputs": [
    {
     "data": {
      "text/plain": [
       "<AxesSubplot:xlabel='Organic', ylabel='Count'>"
      ]
     },
     "execution_count": 9,
     "metadata": {},
     "output_type": "execute_result"
    },
    {
     "data": {
      "image/png": "[encoded data removed]",
      "text/plain": [
       "<Figure size 640x480 with 1 Axes>"
      ]
     },
     "metadata": {},
     "output_type": "display_data"
    }
   ],
   "source": [
    "sns.histplot(data=df, x='Organic', bins=50)"
   ]
  },
  {
   "cell_type": "code",
   "execution_count": 10,
   "metadata": {
    "ExecuteTime": {
     "end_time": "2023-04-01T11:21:07.738409Z",
     "start_time": "2023-04-01T11:21:07.579130Z"
    },
    "collapsed": false,
    "jupyter": {
     "outputs_hidden": false
    }
   },
   "outputs": [
    {
     "data": {
      "text/plain": [
       "<AxesSubplot:xlabel='Organic'>"
      ]
     },
     "execution_count": 10,
     "metadata": {},
     "output_type": "execute_result"
    },
    {
     "data": {
      "image/png": "[encoded data removed]",
      "text/plain": [
       "<Figure size 640x480 with 1 Axes>"
      ]
     },
     "metadata": {},
     "output_type": "display_data"
    }
   ],
   "source": [
    "sns.boxplot(data=df, x='Organic')"
   ]
  },
  {
   "cell_type": "markdown",
   "metadata": {},
   "source": [
    "## 2. Select Data"
   ]
  },
  {
   "cell_type": "code",
   "execution_count": 11,
   "metadata": {
    "ExecuteTime": {
     "end_time": "2023-04-01T11:21:07.802195Z",
     "start_time": "2023-04-01T11:21:07.743759Z"
    },
    "collapsed": false,
    "jupyter": {
     "outputs_hidden": false
    }
   },
   "outputs": [
    {
     "data": {
      "text/html": [
       "<div>\n",
       "<style scoped>\n",
       "    .dataframe tbody tr th:only-of-type {\n",
       "        vertical-align: middle;\n",
       "    }\n",
       "\n",
       "    .dataframe tbody tr th {\n",
       "        vertical-align: top;\n",
       "    }\n",
       "\n",
       "    .dataframe thead th {\n",
       "        text-align: right;\n",
       "    }\n",
       "</style>\n",
       "<table border=\"1\" class=\"dataframe\">\n",
       "  <thead>\n",
       "    <tr style=\"text-align: right;\">\n",
       "      <th></th>\n",
       "      <th>grass_week</th>\n",
       "      <th>grass_month</th>\n",
       "      <th>grass_date</th>\n",
       "      <th>date_type</th>\n",
       "      <th>Organic</th>\n",
       "      <th>Seller Ads</th>\n",
       "      <th>CRM</th>\n",
       "      <th>GG SEO</th>\n",
       "      <th>Offline</th>\n",
       "      <th>Affiliate</th>\n",
       "      <th>...</th>\n",
       "      <th>MiniSpike</th>\n",
       "      <th>spike</th>\n",
       "      <th>spike_date</th>\n",
       "      <th>days_dif_spike</th>\n",
       "      <th>mini_spike_date</th>\n",
       "      <th>days_dif_mini_spike</th>\n",
       "      <th>Tiktok_monthly_a1_minus_m2</th>\n",
       "      <th>Tiktok_monthly_a30_minus_m2</th>\n",
       "      <th>Lazada_monthly_a1_minus_m2</th>\n",
       "      <th>Lazada_monthly_a30_minus_m2</th>\n",
       "    </tr>\n",
       "  </thead>\n",
       "  <tbody>\n",
       "    <tr>\n",
       "      <th>701</th>\n",
       "      <td>2021-12-27</td>\n",
       "      <td>2022-01-01</td>\n",
       "      <td>2022-01-01</td>\n",
       "      <td>Mini-Spike</td>\n",
       "      <td>3323893.0</td>\n",
       "      <td>167849.0</td>\n",
       "      <td>449005.0</td>\n",
       "      <td>356471.0</td>\n",
       "      <td>15709.0</td>\n",
       "      <td>146445.0</td>\n",
       "      <td>...</td>\n",
       "      <td>0</td>\n",
       "      <td>0</td>\n",
       "      <td>15.0</td>\n",
       "      <td>14.0</td>\n",
       "      <td>1.0</td>\n",
       "      <td>0.0</td>\n",
       "      <td>15773232.0</td>\n",
       "      <td>29374307.0</td>\n",
       "      <td>5304120.0</td>\n",
       "      <td>19207951.0</td>\n",
       "    </tr>\n",
       "  </tbody>\n",
       "</table>\n",
       "<p>1 rows × 36 columns</p>\n",
       "</div>"
      ],
      "text/plain": [
       "     grass_week grass_month grass_date   date_type    Organic  Seller Ads  \\\n",
       "701  2021-12-27  2022-01-01 2022-01-01  Mini-Spike  3323893.0    167849.0   \n",
       "\n",
       "          CRM    GG SEO  Offline  Affiliate  ...  MiniSpike  spike  \\\n",
       "701  449005.0  356471.0  15709.0   146445.0  ...          0      0   \n",
       "\n",
       "     spike_date  days_dif_spike  mini_spike_date  days_dif_mini_spike  \\\n",
       "701        15.0            14.0              1.0                  0.0   \n",
       "\n",
       "     Tiktok_monthly_a1_minus_m2  Tiktok_monthly_a30_minus_m2  \\\n",
       "701                  15773232.0                   29374307.0   \n",
       "\n",
       "     Lazada_monthly_a1_minus_m2  Lazada_monthly_a30_minus_m2  \n",
       "701                   5304120.0                   19207951.0  \n",
       "\n",
       "[1 rows x 36 columns]"
      ]
     },
     "execution_count": 11,
     "metadata": {},
     "output_type": "execute_result"
    }
   ],
   "source": [
    "# select * from table where grass_date = '2022-01-01'\n",
    "df.query('grass_date == \"2022-01-01\"')"
   ]
  },
  {
   "cell_type": "code",
   "execution_count": 12,
   "metadata": {
    "ExecuteTime": {
     "end_time": "2023-04-01T11:21:07.802574Z",
     "start_time": "2023-04-01T11:21:07.773335Z"
    },
    "collapsed": false,
    "jupyter": {
     "outputs_hidden": false
    }
   },
   "outputs": [
    {
     "data": {
      "text/html": [
       "<div>\n",
       "<style scoped>\n",
       "    .dataframe tbody tr th:only-of-type {\n",
       "        vertical-align: middle;\n",
       "    }\n",
       "\n",
       "    .dataframe tbody tr th {\n",
       "        vertical-align: top;\n",
       "    }\n",
       "\n",
       "    .dataframe thead th {\n",
       "        text-align: right;\n",
       "    }\n",
       "</style>\n",
       "<table border=\"1\" class=\"dataframe\">\n",
       "  <thead>\n",
       "    <tr style=\"text-align: right;\">\n",
       "      <th></th>\n",
       "      <th>grass_date</th>\n",
       "      <th>Organic</th>\n",
       "      <th>date_type</th>\n",
       "    </tr>\n",
       "  </thead>\n",
       "  <tbody>\n",
       "    <tr>\n",
       "      <th>701</th>\n",
       "      <td>2022-01-01</td>\n",
       "      <td>3323893.0</td>\n",
       "      <td>Mini-Spike</td>\n",
       "    </tr>\n",
       "  </tbody>\n",
       "</table>\n",
       "</div>"
      ],
      "text/plain": [
       "    grass_date    Organic   date_type\n",
       "701 2022-01-01  3323893.0  Mini-Spike"
      ]
     },
     "execution_count": 12,
     "metadata": {},
     "output_type": "execute_result"
    }
   ],
   "source": [
    "# select grass_date, Organic, date_type from table where grass_date = '2022-01-01'\n",
    "df.query('grass_date == \"2022-01-01\"')[['grass_date', 'Organic', 'date_type']]"
   ]
  },
  {
   "cell_type": "markdown",
   "metadata": {},
   "source": [
    "## 3. Group Data"
   ]
  },
  {
   "cell_type": "code",
   "execution_count": 13,
   "metadata": {
    "ExecuteTime": {
     "end_time": "2023-04-01T11:21:07.802823Z",
     "start_time": "2023-04-01T11:21:07.784524Z"
    },
    "collapsed": false,
    "jupyter": {
     "outputs_hidden": false
    }
   },
   "outputs": [
    {
     "data": {
      "text/plain": [
       "grass_month\n",
       "2021-01-01    2.188944e+06\n",
       "2021-02-01    1.969334e+06\n",
       "2021-03-01    2.164323e+06\n",
       "2021-04-01    2.088881e+06\n",
       "2021-05-01    2.123221e+06\n",
       "2021-06-01    2.364899e+06\n",
       "2021-07-01    2.573637e+06\n",
       "2021-08-01    2.583973e+06\n",
       "2021-09-01    2.853039e+06\n",
       "2021-10-01    3.033914e+06\n",
       "2021-11-01    3.052822e+06\n",
       "2021-12-01    3.183346e+06\n",
       "2022-01-01    3.198339e+06\n",
       "2022-02-01    3.141014e+06\n",
       "2022-03-01    3.148796e+06\n",
       "2022-04-01    3.259103e+06\n",
       "2022-05-01    3.121483e+06\n",
       "2022-06-01    3.109628e+06\n",
       "2022-07-01    3.148052e+06\n",
       "2022-08-01    3.397266e+06\n",
       "2022-09-01    3.519287e+06\n",
       "2022-10-01    3.400951e+06\n",
       "2022-11-01    3.379493e+06\n",
       "2022-12-01    3.593651e+06\n",
       "2023-02-01    3.591108e+06\n",
       "2023-03-01    3.558119e+06\n",
       "2023-04-01             NaN\n",
       "Name: Organic, dtype: float64"
      ]
     },
     "execution_count": 13,
     "metadata": {},
     "output_type": "execute_result"
    }
   ],
   "source": [
    "# select grass_month, mean(Orgranic) Orgranic  from table group by grass_month\n",
    "df.groupby(['grass_month'])['Organic'].mean()  # sum, count, median, quantile, std"
   ]
  },
  {
   "cell_type": "code",
   "execution_count": 14,
   "metadata": {
    "ExecuteTime": {
     "end_time": "2023-04-01T11:21:07.827761Z",
     "start_time": "2023-04-01T11:21:07.793486Z"
    },
    "collapsed": false,
    "jupyter": {
     "outputs_hidden": false
    }
   },
   "outputs": [
    {
     "data": {
      "text/plain": [
       "grass_week  grass_month\n",
       "2020-12-28  2021-01-01     2.137572e+06\n",
       "2021-01-04  2021-01-01     2.251539e+06\n",
       "2021-01-11  2021-01-01     2.187163e+06\n",
       "2021-01-18  2021-01-01     2.151942e+06\n",
       "2021-01-25  2021-01-01     2.187151e+06\n",
       "                               ...     \n",
       "2023-03-27  2023-04-01              NaN\n",
       "2023-04-03  2023-04-01              NaN\n",
       "2023-04-10  2023-04-01              NaN\n",
       "2023-04-17  2023-04-01              NaN\n",
       "2023-04-24  2023-04-01              NaN\n",
       "Name: Organic, Length: 135, dtype: float64"
      ]
     },
     "execution_count": 14,
     "metadata": {},
     "output_type": "execute_result"
    }
   ],
   "source": [
    "# select grass_month, grass_week, mean(Orgranic) Orgranic  from table group by grass_month, grass_week\n",
    "df.groupby(['grass_week', 'grass_month'])['Organic'].mean()  # sum, count, median, quantile, std"
   ]
  },
  {
   "cell_type": "markdown",
   "metadata": {},
   "source": [
    "## 4. Reshape Data"
   ]
  },
  {
   "cell_type": "code",
   "execution_count": 15,
   "metadata": {
    "ExecuteTime": {
     "end_time": "2023-04-01T11:21:07.923906Z",
     "start_time": "2023-04-01T11:21:07.850257Z"
    },
    "collapsed": false,
    "jupyter": {
     "outputs_hidden": false
    }
   },
   "outputs": [
    {
     "data": {
      "text/html": [
       "<div>\n",
       "<style scoped>\n",
       "    .dataframe tbody tr th:only-of-type {\n",
       "        vertical-align: middle;\n",
       "    }\n",
       "\n",
       "    .dataframe tbody tr th {\n",
       "        vertical-align: top;\n",
       "    }\n",
       "\n",
       "    .dataframe thead th {\n",
       "        text-align: right;\n",
       "    }\n",
       "</style>\n",
       "<table border=\"1\" class=\"dataframe\">\n",
       "  <thead>\n",
       "    <tr style=\"text-align: right;\">\n",
       "      <th></th>\n",
       "      <th>grass_week</th>\n",
       "      <th>grass_month</th>\n",
       "      <th>grass_date</th>\n",
       "      <th>date_type</th>\n",
       "      <th>Organic</th>\n",
       "      <th>Seller Ads</th>\n",
       "      <th>CRM</th>\n",
       "      <th>GG SEO</th>\n",
       "      <th>Offline</th>\n",
       "      <th>Affiliate</th>\n",
       "      <th>...</th>\n",
       "      <th>MiniSpike</th>\n",
       "      <th>spike</th>\n",
       "      <th>spike_date</th>\n",
       "      <th>days_dif_spike</th>\n",
       "      <th>mini_spike_date</th>\n",
       "      <th>days_dif_mini_spike</th>\n",
       "      <th>Tiktok_monthly_a1_minus_m2</th>\n",
       "      <th>Tiktok_monthly_a30_minus_m2</th>\n",
       "      <th>Lazada_monthly_a1_minus_m2</th>\n",
       "      <th>Lazada_monthly_a30_minus_m2</th>\n",
       "    </tr>\n",
       "  </thead>\n",
       "  <tbody>\n",
       "    <tr>\n",
       "      <th>0</th>\n",
       "      <td>2020-12-28</td>\n",
       "      <td>2021-01-01</td>\n",
       "      <td>2021-01-01</td>\n",
       "      <td>BAU</td>\n",
       "      <td>2088631.0</td>\n",
       "      <td>62515.0</td>\n",
       "      <td>376752.0</td>\n",
       "      <td>173305.0</td>\n",
       "      <td>8188.0</td>\n",
       "      <td>13761.0</td>\n",
       "      <td>...</td>\n",
       "      <td>0</td>\n",
       "      <td>0</td>\n",
       "      <td>27.0</td>\n",
       "      <td>26.0</td>\n",
       "      <td>NaN</td>\n",
       "      <td>NaN</td>\n",
       "      <td>NaN</td>\n",
       "      <td>NaN</td>\n",
       "      <td>NaN</td>\n",
       "      <td>NaN</td>\n",
       "    </tr>\n",
       "    <tr>\n",
       "      <th>1</th>\n",
       "      <td>2020-12-28</td>\n",
       "      <td>2021-01-01</td>\n",
       "      <td>2021-01-02</td>\n",
       "      <td>BAU</td>\n",
       "      <td>2122025.0</td>\n",
       "      <td>52141.0</td>\n",
       "      <td>335163.0</td>\n",
       "      <td>174069.0</td>\n",
       "      <td>8188.0</td>\n",
       "      <td>13841.0</td>\n",
       "      <td>...</td>\n",
       "      <td>0</td>\n",
       "      <td>0</td>\n",
       "      <td>27.0</td>\n",
       "      <td>25.0</td>\n",
       "      <td>NaN</td>\n",
       "      <td>NaN</td>\n",
       "      <td>NaN</td>\n",
       "      <td>NaN</td>\n",
       "      <td>NaN</td>\n",
       "      <td>NaN</td>\n",
       "    </tr>\n",
       "    <tr>\n",
       "      <th>2</th>\n",
       "      <td>2020-12-28</td>\n",
       "      <td>2021-01-01</td>\n",
       "      <td>2021-01-03</td>\n",
       "      <td>BAU</td>\n",
       "      <td>2202061.0</td>\n",
       "      <td>44270.0</td>\n",
       "      <td>322492.0</td>\n",
       "      <td>174674.0</td>\n",
       "      <td>8188.0</td>\n",
       "      <td>15547.0</td>\n",
       "      <td>...</td>\n",
       "      <td>0</td>\n",
       "      <td>0</td>\n",
       "      <td>27.0</td>\n",
       "      <td>24.0</td>\n",
       "      <td>NaN</td>\n",
       "      <td>NaN</td>\n",
       "      <td>NaN</td>\n",
       "      <td>NaN</td>\n",
       "      <td>NaN</td>\n",
       "      <td>NaN</td>\n",
       "    </tr>\n",
       "    <tr>\n",
       "      <th>3</th>\n",
       "      <td>2021-01-04</td>\n",
       "      <td>2021-01-01</td>\n",
       "      <td>2021-01-04</td>\n",
       "      <td>BAU</td>\n",
       "      <td>2276030.0</td>\n",
       "      <td>40557.0</td>\n",
       "      <td>352532.0</td>\n",
       "      <td>185140.0</td>\n",
       "      <td>8188.0</td>\n",
       "      <td>18454.0</td>\n",
       "      <td>...</td>\n",
       "      <td>0</td>\n",
       "      <td>0</td>\n",
       "      <td>27.0</td>\n",
       "      <td>23.0</td>\n",
       "      <td>NaN</td>\n",
       "      <td>NaN</td>\n",
       "      <td>NaN</td>\n",
       "      <td>NaN</td>\n",
       "      <td>NaN</td>\n",
       "      <td>NaN</td>\n",
       "    </tr>\n",
       "    <tr>\n",
       "      <th>4</th>\n",
       "      <td>2021-01-04</td>\n",
       "      <td>2021-01-01</td>\n",
       "      <td>2021-01-05</td>\n",
       "      <td>BAU</td>\n",
       "      <td>2350501.0</td>\n",
       "      <td>33928.0</td>\n",
       "      <td>379686.0</td>\n",
       "      <td>186427.0</td>\n",
       "      <td>8188.0</td>\n",
       "      <td>18746.0</td>\n",
       "      <td>...</td>\n",
       "      <td>0</td>\n",
       "      <td>0</td>\n",
       "      <td>27.0</td>\n",
       "      <td>22.0</td>\n",
       "      <td>NaN</td>\n",
       "      <td>NaN</td>\n",
       "      <td>NaN</td>\n",
       "      <td>NaN</td>\n",
       "      <td>NaN</td>\n",
       "      <td>NaN</td>\n",
       "    </tr>\n",
       "    <tr>\n",
       "      <th>...</th>\n",
       "      <td>...</td>\n",
       "      <td>...</td>\n",
       "      <td>...</td>\n",
       "      <td>...</td>\n",
       "      <td>...</td>\n",
       "      <td>...</td>\n",
       "      <td>...</td>\n",
       "      <td>...</td>\n",
       "      <td>...</td>\n",
       "      <td>...</td>\n",
       "      <td>...</td>\n",
       "      <td>...</td>\n",
       "      <td>...</td>\n",
       "      <td>...</td>\n",
       "      <td>...</td>\n",
       "      <td>...</td>\n",
       "      <td>...</td>\n",
       "      <td>...</td>\n",
       "      <td>...</td>\n",
       "      <td>...</td>\n",
       "      <td>...</td>\n",
       "    </tr>\n",
       "    <tr>\n",
       "      <th>1453</th>\n",
       "      <td>2023-04-24</td>\n",
       "      <td>2023-04-01</td>\n",
       "      <td>2023-04-26</td>\n",
       "      <td>BAU</td>\n",
       "      <td>NaN</td>\n",
       "      <td>NaN</td>\n",
       "      <td>NaN</td>\n",
       "      <td>NaN</td>\n",
       "      <td>5000.0</td>\n",
       "      <td>56645.0</td>\n",
       "      <td>...</td>\n",
       "      <td>0</td>\n",
       "      <td>0</td>\n",
       "      <td>4.0</td>\n",
       "      <td>-22.0</td>\n",
       "      <td>NaN</td>\n",
       "      <td>NaN</td>\n",
       "      <td>38269455.0</td>\n",
       "      <td>54070761.0</td>\n",
       "      <td>7287006.0</td>\n",
       "      <td>20317257.0</td>\n",
       "    </tr>\n",
       "    <tr>\n",
       "      <th>1454</th>\n",
       "      <td>2023-04-24</td>\n",
       "      <td>2023-04-01</td>\n",
       "      <td>2023-04-27</td>\n",
       "      <td>BAU</td>\n",
       "      <td>NaN</td>\n",
       "      <td>NaN</td>\n",
       "      <td>NaN</td>\n",
       "      <td>NaN</td>\n",
       "      <td>5000.0</td>\n",
       "      <td>49155.0</td>\n",
       "      <td>...</td>\n",
       "      <td>0</td>\n",
       "      <td>0</td>\n",
       "      <td>4.0</td>\n",
       "      <td>-23.0</td>\n",
       "      <td>NaN</td>\n",
       "      <td>NaN</td>\n",
       "      <td>38269455.0</td>\n",
       "      <td>54070761.0</td>\n",
       "      <td>7287006.0</td>\n",
       "      <td>20317257.0</td>\n",
       "    </tr>\n",
       "    <tr>\n",
       "      <th>1455</th>\n",
       "      <td>2023-04-24</td>\n",
       "      <td>2023-04-01</td>\n",
       "      <td>2023-04-28</td>\n",
       "      <td>BAU</td>\n",
       "      <td>NaN</td>\n",
       "      <td>NaN</td>\n",
       "      <td>NaN</td>\n",
       "      <td>NaN</td>\n",
       "      <td>5000.0</td>\n",
       "      <td>48424.0</td>\n",
       "      <td>...</td>\n",
       "      <td>0</td>\n",
       "      <td>0</td>\n",
       "      <td>4.0</td>\n",
       "      <td>-24.0</td>\n",
       "      <td>NaN</td>\n",
       "      <td>NaN</td>\n",
       "      <td>38269455.0</td>\n",
       "      <td>54070761.0</td>\n",
       "      <td>7287006.0</td>\n",
       "      <td>20317257.0</td>\n",
       "    </tr>\n",
       "    <tr>\n",
       "      <th>1456</th>\n",
       "      <td>2023-04-24</td>\n",
       "      <td>2023-04-01</td>\n",
       "      <td>2023-04-29</td>\n",
       "      <td>BAU</td>\n",
       "      <td>NaN</td>\n",
       "      <td>NaN</td>\n",
       "      <td>NaN</td>\n",
       "      <td>NaN</td>\n",
       "      <td>5000.0</td>\n",
       "      <td>45803.0</td>\n",
       "      <td>...</td>\n",
       "      <td>0</td>\n",
       "      <td>0</td>\n",
       "      <td>4.0</td>\n",
       "      <td>-25.0</td>\n",
       "      <td>NaN</td>\n",
       "      <td>NaN</td>\n",
       "      <td>38269455.0</td>\n",
       "      <td>54070761.0</td>\n",
       "      <td>7287006.0</td>\n",
       "      <td>20317257.0</td>\n",
       "    </tr>\n",
       "    <tr>\n",
       "      <th>1457</th>\n",
       "      <td>2023-04-24</td>\n",
       "      <td>2023-04-01</td>\n",
       "      <td>2023-04-30</td>\n",
       "      <td>BAU</td>\n",
       "      <td>NaN</td>\n",
       "      <td>NaN</td>\n",
       "      <td>NaN</td>\n",
       "      <td>NaN</td>\n",
       "      <td>5000.0</td>\n",
       "      <td>49875.0</td>\n",
       "      <td>...</td>\n",
       "      <td>0</td>\n",
       "      <td>0</td>\n",
       "      <td>4.0</td>\n",
       "      <td>-26.0</td>\n",
       "      <td>NaN</td>\n",
       "      <td>NaN</td>\n",
       "      <td>38269455.0</td>\n",
       "      <td>54070761.0</td>\n",
       "      <td>7287006.0</td>\n",
       "      <td>20317257.0</td>\n",
       "    </tr>\n",
       "  </tbody>\n",
       "</table>\n",
       "<p>1458 rows × 36 columns</p>\n",
       "</div>"
      ],
      "text/plain": [
       "      grass_week grass_month grass_date date_type    Organic  Seller Ads  \\\n",
       "0     2020-12-28  2021-01-01 2021-01-01       BAU  2088631.0     62515.0   \n",
       "1     2020-12-28  2021-01-01 2021-01-02       BAU  2122025.0     52141.0   \n",
       "2     2020-12-28  2021-01-01 2021-01-03       BAU  2202061.0     44270.0   \n",
       "3     2021-01-04  2021-01-01 2021-01-04       BAU  2276030.0     40557.0   \n",
       "4     2021-01-04  2021-01-01 2021-01-05       BAU  2350501.0     33928.0   \n",
       "...          ...         ...        ...       ...        ...         ...   \n",
       "1453  2023-04-24  2023-04-01 2023-04-26       BAU        NaN         NaN   \n",
       "1454  2023-04-24  2023-04-01 2023-04-27       BAU        NaN         NaN   \n",
       "1455  2023-04-24  2023-04-01 2023-04-28       BAU        NaN         NaN   \n",
       "1456  2023-04-24  2023-04-01 2023-04-29       BAU        NaN         NaN   \n",
       "1457  2023-04-24  2023-04-01 2023-04-30       BAU        NaN         NaN   \n",
       "\n",
       "           CRM    GG SEO  Offline  Affiliate  ...  MiniSpike  spike  \\\n",
       "0     376752.0  173305.0   8188.0    13761.0  ...          0      0   \n",
       "1     335163.0  174069.0   8188.0    13841.0  ...          0      0   \n",
       "2     322492.0  174674.0   8188.0    15547.0  ...          0      0   \n",
       "3     352532.0  185140.0   8188.0    18454.0  ...          0      0   \n",
       "4     379686.0  186427.0   8188.0    18746.0  ...          0      0   \n",
       "...        ...       ...      ...        ...  ...        ...    ...   \n",
       "1453       NaN       NaN   5000.0    56645.0  ...          0      0   \n",
       "1454       NaN       NaN   5000.0    49155.0  ...          0      0   \n",
       "1455       NaN       NaN   5000.0    48424.0  ...          0      0   \n",
       "1456       NaN       NaN   5000.0    45803.0  ...          0      0   \n",
       "1457       NaN       NaN   5000.0    49875.0  ...          0      0   \n",
       "\n",
       "      spike_date  days_dif_spike  mini_spike_date  days_dif_mini_spike  \\\n",
       "0           27.0            26.0              NaN                  NaN   \n",
       "1           27.0            25.0              NaN                  NaN   \n",
       "2           27.0            24.0              NaN                  NaN   \n",
       "3           27.0            23.0              NaN                  NaN   \n",
       "4           27.0            22.0              NaN                  NaN   \n",
       "...          ...             ...              ...                  ...   \n",
       "1453         4.0           -22.0              NaN                  NaN   \n",
       "1454         4.0           -23.0              NaN                  NaN   \n",
       "1455         4.0           -24.0              NaN                  NaN   \n",
       "1456         4.0           -25.0              NaN                  NaN   \n",
       "1457         4.0           -26.0              NaN                  NaN   \n",
       "\n",
       "      Tiktok_monthly_a1_minus_m2  Tiktok_monthly_a30_minus_m2  \\\n",
       "0                            NaN                          NaN   \n",
       "1                            NaN                          NaN   \n",
       "2                            NaN                          NaN   \n",
       "3                            NaN                          NaN   \n",
       "4                            NaN                          NaN   \n",
       "...                          ...                          ...   \n",
       "1453                  38269455.0                   54070761.0   \n",
       "1454                  38269455.0                   54070761.0   \n",
       "1455                  38269455.0                   54070761.0   \n",
       "1456                  38269455.0                   54070761.0   \n",
       "1457                  38269455.0                   54070761.0   \n",
       "\n",
       "      Lazada_monthly_a1_minus_m2  Lazada_monthly_a30_minus_m2  \n",
       "0                            NaN                          NaN  \n",
       "1                            NaN                          NaN  \n",
       "2                            NaN                          NaN  \n",
       "3                            NaN                          NaN  \n",
       "4                            NaN                          NaN  \n",
       "...                          ...                          ...  \n",
       "1453                   7287006.0                   20317257.0  \n",
       "1454                   7287006.0                   20317257.0  \n",
       "1455                   7287006.0                   20317257.0  \n",
       "1456                   7287006.0                   20317257.0  \n",
       "1457                   7287006.0                   20317257.0  \n",
       "\n",
       "[1458 rows x 36 columns]"
      ]
     },
     "execution_count": 15,
     "metadata": {},
     "output_type": "execute_result"
    }
   ],
   "source": [
    "# select * from table order by grass_date asc\n",
    "df.sort_values('grass_date', ascending=True)"
   ]
  },
  {
   "cell_type": "code",
   "execution_count": 16,
   "metadata": {
    "ExecuteTime": {
     "end_time": "2023-04-01T11:21:07.924563Z",
     "start_time": "2023-04-01T11:21:07.869077Z"
    },
    "collapsed": false,
    "jupyter": {
     "outputs_hidden": false
    }
   },
   "outputs": [
    {
     "data": {
      "text/html": [
       "<div>\n",
       "<style scoped>\n",
       "    .dataframe tbody tr th:only-of-type {\n",
       "        vertical-align: middle;\n",
       "    }\n",
       "\n",
       "    .dataframe tbody tr th {\n",
       "        vertical-align: top;\n",
       "    }\n",
       "\n",
       "    .dataframe thead th {\n",
       "        text-align: right;\n",
       "    }\n",
       "</style>\n",
       "<table border=\"1\" class=\"dataframe\">\n",
       "  <thead>\n",
       "    <tr style=\"text-align: right;\">\n",
       "      <th></th>\n",
       "      <th>Organic</th>\n",
       "    </tr>\n",
       "  </thead>\n",
       "  <tbody>\n",
       "    <tr>\n",
       "      <th>0</th>\n",
       "      <td>2088631.0</td>\n",
       "    </tr>\n",
       "    <tr>\n",
       "      <th>1</th>\n",
       "      <td>2122025.0</td>\n",
       "    </tr>\n",
       "    <tr>\n",
       "      <th>2</th>\n",
       "      <td>2202061.0</td>\n",
       "    </tr>\n",
       "    <tr>\n",
       "      <th>3</th>\n",
       "      <td>2276030.0</td>\n",
       "    </tr>\n",
       "    <tr>\n",
       "      <th>4</th>\n",
       "      <td>2350501.0</td>\n",
       "    </tr>\n",
       "    <tr>\n",
       "      <th>...</th>\n",
       "      <td>...</td>\n",
       "    </tr>\n",
       "    <tr>\n",
       "      <th>1453</th>\n",
       "      <td>NaN</td>\n",
       "    </tr>\n",
       "    <tr>\n",
       "      <th>1454</th>\n",
       "      <td>NaN</td>\n",
       "    </tr>\n",
       "    <tr>\n",
       "      <th>1455</th>\n",
       "      <td>NaN</td>\n",
       "    </tr>\n",
       "    <tr>\n",
       "      <th>1456</th>\n",
       "      <td>NaN</td>\n",
       "    </tr>\n",
       "    <tr>\n",
       "      <th>1457</th>\n",
       "      <td>NaN</td>\n",
       "    </tr>\n",
       "  </tbody>\n",
       "</table>\n",
       "<p>1458 rows × 1 columns</p>\n",
       "</div>"
      ],
      "text/plain": [
       "        Organic\n",
       "0     2088631.0\n",
       "1     2122025.0\n",
       "2     2202061.0\n",
       "3     2276030.0\n",
       "4     2350501.0\n",
       "...         ...\n",
       "1453        NaN\n",
       "1454        NaN\n",
       "1455        NaN\n",
       "1456        NaN\n",
       "1457        NaN\n",
       "\n",
       "[1458 rows x 1 columns]"
      ]
     },
     "execution_count": 16,
     "metadata": {},
     "output_type": "execute_result"
    }
   ],
   "source": [
    "# drop columns\n",
    "tmp = df[['grass_date', 'Organic']].copy()\n",
    "tmp.drop(columns=['grass_date'], inplace=True)\n",
    "tmp"
   ]
  },
  {
   "cell_type": "code",
   "execution_count": 17,
   "metadata": {
    "ExecuteTime": {
     "end_time": "2023-04-01T11:21:07.925515Z",
     "start_time": "2023-04-01T11:21:07.888565Z"
    },
    "collapsed": false,
    "jupyter": {
     "outputs_hidden": false
    }
   },
   "outputs": [
    {
     "data": {
      "text/html": [
       "<div>\n",
       "<style scoped>\n",
       "    .dataframe tbody tr th:only-of-type {\n",
       "        vertical-align: middle;\n",
       "    }\n",
       "\n",
       "    .dataframe tbody tr th {\n",
       "        vertical-align: top;\n",
       "    }\n",
       "\n",
       "    .dataframe thead th {\n",
       "        text-align: right;\n",
       "    }\n",
       "</style>\n",
       "<table border=\"1\" class=\"dataframe\">\n",
       "  <thead>\n",
       "    <tr style=\"text-align: right;\">\n",
       "      <th></th>\n",
       "      <th>date</th>\n",
       "      <th>Organic</th>\n",
       "    </tr>\n",
       "  </thead>\n",
       "  <tbody>\n",
       "    <tr>\n",
       "      <th>0</th>\n",
       "      <td>2021-01-01</td>\n",
       "      <td>2088631.0</td>\n",
       "    </tr>\n",
       "    <tr>\n",
       "      <th>1</th>\n",
       "      <td>2021-01-02</td>\n",
       "      <td>2122025.0</td>\n",
       "    </tr>\n",
       "    <tr>\n",
       "      <th>2</th>\n",
       "      <td>2021-01-03</td>\n",
       "      <td>2202061.0</td>\n",
       "    </tr>\n",
       "    <tr>\n",
       "      <th>3</th>\n",
       "      <td>2021-01-04</td>\n",
       "      <td>2276030.0</td>\n",
       "    </tr>\n",
       "    <tr>\n",
       "      <th>4</th>\n",
       "      <td>2021-01-05</td>\n",
       "      <td>2350501.0</td>\n",
       "    </tr>\n",
       "    <tr>\n",
       "      <th>...</th>\n",
       "      <td>...</td>\n",
       "      <td>...</td>\n",
       "    </tr>\n",
       "    <tr>\n",
       "      <th>1453</th>\n",
       "      <td>2023-04-26</td>\n",
       "      <td>NaN</td>\n",
       "    </tr>\n",
       "    <tr>\n",
       "      <th>1454</th>\n",
       "      <td>2023-04-27</td>\n",
       "      <td>NaN</td>\n",
       "    </tr>\n",
       "    <tr>\n",
       "      <th>1455</th>\n",
       "      <td>2023-04-28</td>\n",
       "      <td>NaN</td>\n",
       "    </tr>\n",
       "    <tr>\n",
       "      <th>1456</th>\n",
       "      <td>2023-04-29</td>\n",
       "      <td>NaN</td>\n",
       "    </tr>\n",
       "    <tr>\n",
       "      <th>1457</th>\n",
       "      <td>2023-04-30</td>\n",
       "      <td>NaN</td>\n",
       "    </tr>\n",
       "  </tbody>\n",
       "</table>\n",
       "<p>1458 rows × 2 columns</p>\n",
       "</div>"
      ],
      "text/plain": [
       "           date    Organic\n",
       "0    2021-01-01  2088631.0\n",
       "1    2021-01-02  2122025.0\n",
       "2    2021-01-03  2202061.0\n",
       "3    2021-01-04  2276030.0\n",
       "4    2021-01-05  2350501.0\n",
       "...         ...        ...\n",
       "1453 2023-04-26        NaN\n",
       "1454 2023-04-27        NaN\n",
       "1455 2023-04-28        NaN\n",
       "1456 2023-04-29        NaN\n",
       "1457 2023-04-30        NaN\n",
       "\n",
       "[1458 rows x 2 columns]"
      ]
     },
     "execution_count": 17,
     "metadata": {},
     "output_type": "execute_result"
    }
   ],
   "source": [
    "# rename columns\n",
    "tmp = df[['grass_date', 'Organic']].copy()\n",
    "tmp.rename(columns={'grass_date': 'date'}, inplace=True)\n",
    "tmp"
   ]
  },
  {
   "cell_type": "code",
   "execution_count": 18,
   "metadata": {
    "ExecuteTime": {
     "end_time": "2023-04-01T11:21:07.948136Z",
     "start_time": "2023-04-01T11:21:07.893804Z"
    },
    "collapsed": false,
    "jupyter": {
     "outputs_hidden": false
    }
   },
   "outputs": [],
   "source": [
    "col = ['grass_date', 'date_type', 'Organic']\n",
    "df_spike = df.query('date_type == \"Spike\"')[col].head().copy()\n",
    "df_minispike = df.query('date_type == \"Mini-Spike\"')[col].head().copy()"
   ]
  },
  {
   "cell_type": "code",
   "execution_count": 19,
   "metadata": {
    "ExecuteTime": {
     "end_time": "2023-04-01T11:21:07.950263Z",
     "start_time": "2023-04-01T11:21:07.918808Z"
    },
    "collapsed": false,
    "jupyter": {
     "outputs_hidden": false
    }
   },
   "outputs": [
    {
     "data": {
      "text/html": [
       "<div>\n",
       "<style scoped>\n",
       "    .dataframe tbody tr th:only-of-type {\n",
       "        vertical-align: middle;\n",
       "    }\n",
       "\n",
       "    .dataframe tbody tr th {\n",
       "        vertical-align: top;\n",
       "    }\n",
       "\n",
       "    .dataframe thead th {\n",
       "        text-align: right;\n",
       "    }\n",
       "</style>\n",
       "<table border=\"1\" class=\"dataframe\">\n",
       "  <thead>\n",
       "    <tr style=\"text-align: right;\">\n",
       "      <th></th>\n",
       "      <th>grass_date</th>\n",
       "      <th>date_type</th>\n",
       "      <th>Organic</th>\n",
       "    </tr>\n",
       "  </thead>\n",
       "  <tbody>\n",
       "    <tr>\n",
       "      <th>26</th>\n",
       "      <td>2021-01-27</td>\n",
       "      <td>Spike</td>\n",
       "      <td>2423718.0</td>\n",
       "    </tr>\n",
       "    <tr>\n",
       "      <th>63</th>\n",
       "      <td>2021-03-03</td>\n",
       "      <td>Spike</td>\n",
       "      <td>2469521.0</td>\n",
       "    </tr>\n",
       "    <tr>\n",
       "      <th>64</th>\n",
       "      <td>2021-03-03</td>\n",
       "      <td>Spike</td>\n",
       "      <td>2469521.0</td>\n",
       "    </tr>\n",
       "    <tr>\n",
       "      <th>127</th>\n",
       "      <td>2021-04-04</td>\n",
       "      <td>Spike</td>\n",
       "      <td>2701244.0</td>\n",
       "    </tr>\n",
       "    <tr>\n",
       "      <th>128</th>\n",
       "      <td>2021-04-04</td>\n",
       "      <td>Spike</td>\n",
       "      <td>2701244.0</td>\n",
       "    </tr>\n",
       "  </tbody>\n",
       "</table>\n",
       "</div>"
      ],
      "text/plain": [
       "    grass_date date_type    Organic\n",
       "26  2021-01-27     Spike  2423718.0\n",
       "63  2021-03-03     Spike  2469521.0\n",
       "64  2021-03-03     Spike  2469521.0\n",
       "127 2021-04-04     Spike  2701244.0\n",
       "128 2021-04-04     Spike  2701244.0"
      ]
     },
     "execution_count": 19,
     "metadata": {},
     "output_type": "execute_result"
    }
   ],
   "source": [
    "df_spike.head()"
   ]
  },
  {
   "cell_type": "code",
   "execution_count": 20,
   "metadata": {
    "ExecuteTime": {
     "end_time": "2023-04-01T11:21:08.004650Z",
     "start_time": "2023-04-01T11:21:07.933468Z"
    },
    "collapsed": false,
    "jupyter": {
     "outputs_hidden": false
    }
   },
   "outputs": [
    {
     "data": {
      "text/html": [
       "<div>\n",
       "<style scoped>\n",
       "    .dataframe tbody tr th:only-of-type {\n",
       "        vertical-align: middle;\n",
       "    }\n",
       "\n",
       "    .dataframe tbody tr th {\n",
       "        vertical-align: top;\n",
       "    }\n",
       "\n",
       "    .dataframe thead th {\n",
       "        text-align: right;\n",
       "    }\n",
       "</style>\n",
       "<table border=\"1\" class=\"dataframe\">\n",
       "  <thead>\n",
       "    <tr style=\"text-align: right;\">\n",
       "      <th></th>\n",
       "      <th>grass_date</th>\n",
       "      <th>date_type</th>\n",
       "      <th>Organic</th>\n",
       "    </tr>\n",
       "  </thead>\n",
       "  <tbody>\n",
       "    <tr>\n",
       "      <th>32</th>\n",
       "      <td>2021-02-02</td>\n",
       "      <td>Mini-Spike</td>\n",
       "      <td>2187496.0</td>\n",
       "    </tr>\n",
       "    <tr>\n",
       "      <th>73</th>\n",
       "      <td>2021-03-08</td>\n",
       "      <td>Mini-Spike</td>\n",
       "      <td>2074939.0</td>\n",
       "    </tr>\n",
       "    <tr>\n",
       "      <th>74</th>\n",
       "      <td>2021-03-08</td>\n",
       "      <td>Mini-Spike</td>\n",
       "      <td>2074939.0</td>\n",
       "    </tr>\n",
       "    <tr>\n",
       "      <th>111</th>\n",
       "      <td>2021-03-27</td>\n",
       "      <td>Mini-Spike</td>\n",
       "      <td>2259778.0</td>\n",
       "    </tr>\n",
       "    <tr>\n",
       "      <th>112</th>\n",
       "      <td>2021-03-27</td>\n",
       "      <td>Mini-Spike</td>\n",
       "      <td>2259778.0</td>\n",
       "    </tr>\n",
       "  </tbody>\n",
       "</table>\n",
       "</div>"
      ],
      "text/plain": [
       "    grass_date   date_type    Organic\n",
       "32  2021-02-02  Mini-Spike  2187496.0\n",
       "73  2021-03-08  Mini-Spike  2074939.0\n",
       "74  2021-03-08  Mini-Spike  2074939.0\n",
       "111 2021-03-27  Mini-Spike  2259778.0\n",
       "112 2021-03-27  Mini-Spike  2259778.0"
      ]
     },
     "execution_count": 20,
     "metadata": {},
     "output_type": "execute_result"
    }
   ],
   "source": [
    "df_minispike.head()"
   ]
  },
  {
   "cell_type": "code",
   "execution_count": 21,
   "metadata": {
    "ExecuteTime": {
     "end_time": "2023-04-01T11:21:08.054312Z",
     "start_time": "2023-04-01T11:21:07.947901Z"
    },
    "collapsed": false,
    "jupyter": {
     "outputs_hidden": false
    }
   },
   "outputs": [
    {
     "data": {
      "text/html": [
       "<div>\n",
       "<style scoped>\n",
       "    .dataframe tbody tr th:only-of-type {\n",
       "        vertical-align: middle;\n",
       "    }\n",
       "\n",
       "    .dataframe tbody tr th {\n",
       "        vertical-align: top;\n",
       "    }\n",
       "\n",
       "    .dataframe thead th {\n",
       "        text-align: right;\n",
       "    }\n",
       "</style>\n",
       "<table border=\"1\" class=\"dataframe\">\n",
       "  <thead>\n",
       "    <tr style=\"text-align: right;\">\n",
       "      <th></th>\n",
       "      <th>grass_date</th>\n",
       "      <th>date_type</th>\n",
       "      <th>Organic</th>\n",
       "    </tr>\n",
       "  </thead>\n",
       "  <tbody>\n",
       "    <tr>\n",
       "      <th>26</th>\n",
       "      <td>2021-01-27</td>\n",
       "      <td>Spike</td>\n",
       "      <td>2423718.0</td>\n",
       "    </tr>\n",
       "    <tr>\n",
       "      <th>63</th>\n",
       "      <td>2021-03-03</td>\n",
       "      <td>Spike</td>\n",
       "      <td>2469521.0</td>\n",
       "    </tr>\n",
       "    <tr>\n",
       "      <th>64</th>\n",
       "      <td>2021-03-03</td>\n",
       "      <td>Spike</td>\n",
       "      <td>2469521.0</td>\n",
       "    </tr>\n",
       "    <tr>\n",
       "      <th>127</th>\n",
       "      <td>2021-04-04</td>\n",
       "      <td>Spike</td>\n",
       "      <td>2701244.0</td>\n",
       "    </tr>\n",
       "    <tr>\n",
       "      <th>128</th>\n",
       "      <td>2021-04-04</td>\n",
       "      <td>Spike</td>\n",
       "      <td>2701244.0</td>\n",
       "    </tr>\n",
       "    <tr>\n",
       "      <th>32</th>\n",
       "      <td>2021-02-02</td>\n",
       "      <td>Mini-Spike</td>\n",
       "      <td>2187496.0</td>\n",
       "    </tr>\n",
       "    <tr>\n",
       "      <th>73</th>\n",
       "      <td>2021-03-08</td>\n",
       "      <td>Mini-Spike</td>\n",
       "      <td>2074939.0</td>\n",
       "    </tr>\n",
       "    <tr>\n",
       "      <th>74</th>\n",
       "      <td>2021-03-08</td>\n",
       "      <td>Mini-Spike</td>\n",
       "      <td>2074939.0</td>\n",
       "    </tr>\n",
       "    <tr>\n",
       "      <th>111</th>\n",
       "      <td>2021-03-27</td>\n",
       "      <td>Mini-Spike</td>\n",
       "      <td>2259778.0</td>\n",
       "    </tr>\n",
       "    <tr>\n",
       "      <th>112</th>\n",
       "      <td>2021-03-27</td>\n",
       "      <td>Mini-Spike</td>\n",
       "      <td>2259778.0</td>\n",
       "    </tr>\n",
       "  </tbody>\n",
       "</table>\n",
       "</div>"
      ],
      "text/plain": [
       "    grass_date   date_type    Organic\n",
       "26  2021-01-27       Spike  2423718.0\n",
       "63  2021-03-03       Spike  2469521.0\n",
       "64  2021-03-03       Spike  2469521.0\n",
       "127 2021-04-04       Spike  2701244.0\n",
       "128 2021-04-04       Spike  2701244.0\n",
       "32  2021-02-02  Mini-Spike  2187496.0\n",
       "73  2021-03-08  Mini-Spike  2074939.0\n",
       "74  2021-03-08  Mini-Spike  2074939.0\n",
       "111 2021-03-27  Mini-Spike  2259778.0\n",
       "112 2021-03-27  Mini-Spike  2259778.0"
      ]
     },
     "execution_count": 21,
     "metadata": {},
     "output_type": "execute_result"
    }
   ],
   "source": [
    "# combine 2 dataframes\n",
    "pd.concat([df_spike, df_minispike])"
   ]
  },
  {
   "cell_type": "code",
   "execution_count": 22,
   "metadata": {
    "ExecuteTime": {
     "end_time": "2023-04-01T11:21:08.054776Z",
     "start_time": "2023-04-01T11:21:07.961900Z"
    },
    "collapsed": false,
    "jupyter": {
     "outputs_hidden": false
    }
   },
   "outputs": [
    {
     "data": {
      "text/html": [
       "<div>\n",
       "<style scoped>\n",
       "    .dataframe tbody tr th:only-of-type {\n",
       "        vertical-align: middle;\n",
       "    }\n",
       "\n",
       "    .dataframe tbody tr th {\n",
       "        vertical-align: top;\n",
       "    }\n",
       "\n",
       "    .dataframe thead th {\n",
       "        text-align: right;\n",
       "    }\n",
       "</style>\n",
       "<table border=\"1\" class=\"dataframe\">\n",
       "  <thead>\n",
       "    <tr style=\"text-align: right;\">\n",
       "      <th></th>\n",
       "      <th>grass_date</th>\n",
       "      <th>date_type</th>\n",
       "      <th>Organic</th>\n",
       "      <th>grass_date</th>\n",
       "      <th>date_type</th>\n",
       "      <th>Organic</th>\n",
       "    </tr>\n",
       "  </thead>\n",
       "  <tbody>\n",
       "    <tr>\n",
       "      <th>26</th>\n",
       "      <td>2021-01-27</td>\n",
       "      <td>Spike</td>\n",
       "      <td>2423718.0</td>\n",
       "      <td>NaT</td>\n",
       "      <td>NaN</td>\n",
       "      <td>NaN</td>\n",
       "    </tr>\n",
       "    <tr>\n",
       "      <th>63</th>\n",
       "      <td>2021-03-03</td>\n",
       "      <td>Spike</td>\n",
       "      <td>2469521.0</td>\n",
       "      <td>NaT</td>\n",
       "      <td>NaN</td>\n",
       "      <td>NaN</td>\n",
       "    </tr>\n",
       "    <tr>\n",
       "      <th>64</th>\n",
       "      <td>2021-03-03</td>\n",
       "      <td>Spike</td>\n",
       "      <td>2469521.0</td>\n",
       "      <td>NaT</td>\n",
       "      <td>NaN</td>\n",
       "      <td>NaN</td>\n",
       "    </tr>\n",
       "    <tr>\n",
       "      <th>127</th>\n",
       "      <td>2021-04-04</td>\n",
       "      <td>Spike</td>\n",
       "      <td>2701244.0</td>\n",
       "      <td>NaT</td>\n",
       "      <td>NaN</td>\n",
       "      <td>NaN</td>\n",
       "    </tr>\n",
       "    <tr>\n",
       "      <th>128</th>\n",
       "      <td>2021-04-04</td>\n",
       "      <td>Spike</td>\n",
       "      <td>2701244.0</td>\n",
       "      <td>NaT</td>\n",
       "      <td>NaN</td>\n",
       "      <td>NaN</td>\n",
       "    </tr>\n",
       "    <tr>\n",
       "      <th>32</th>\n",
       "      <td>NaT</td>\n",
       "      <td>NaN</td>\n",
       "      <td>NaN</td>\n",
       "      <td>2021-02-02</td>\n",
       "      <td>Mini-Spike</td>\n",
       "      <td>2187496.0</td>\n",
       "    </tr>\n",
       "    <tr>\n",
       "      <th>73</th>\n",
       "      <td>NaT</td>\n",
       "      <td>NaN</td>\n",
       "      <td>NaN</td>\n",
       "      <td>2021-03-08</td>\n",
       "      <td>Mini-Spike</td>\n",
       "      <td>2074939.0</td>\n",
       "    </tr>\n",
       "    <tr>\n",
       "      <th>74</th>\n",
       "      <td>NaT</td>\n",
       "      <td>NaN</td>\n",
       "      <td>NaN</td>\n",
       "      <td>2021-03-08</td>\n",
       "      <td>Mini-Spike</td>\n",
       "      <td>2074939.0</td>\n",
       "    </tr>\n",
       "    <tr>\n",
       "      <th>111</th>\n",
       "      <td>NaT</td>\n",
       "      <td>NaN</td>\n",
       "      <td>NaN</td>\n",
       "      <td>2021-03-27</td>\n",
       "      <td>Mini-Spike</td>\n",
       "      <td>2259778.0</td>\n",
       "    </tr>\n",
       "    <tr>\n",
       "      <th>112</th>\n",
       "      <td>NaT</td>\n",
       "      <td>NaN</td>\n",
       "      <td>NaN</td>\n",
       "      <td>2021-03-27</td>\n",
       "      <td>Mini-Spike</td>\n",
       "      <td>2259778.0</td>\n",
       "    </tr>\n",
       "  </tbody>\n",
       "</table>\n",
       "</div>"
      ],
      "text/plain": [
       "    grass_date date_type    Organic grass_date   date_type    Organic\n",
       "26  2021-01-27     Spike  2423718.0        NaT         NaN        NaN\n",
       "63  2021-03-03     Spike  2469521.0        NaT         NaN        NaN\n",
       "64  2021-03-03     Spike  2469521.0        NaT         NaN        NaN\n",
       "127 2021-04-04     Spike  2701244.0        NaT         NaN        NaN\n",
       "128 2021-04-04     Spike  2701244.0        NaT         NaN        NaN\n",
       "32         NaT       NaN        NaN 2021-02-02  Mini-Spike  2187496.0\n",
       "73         NaT       NaN        NaN 2021-03-08  Mini-Spike  2074939.0\n",
       "74         NaT       NaN        NaN 2021-03-08  Mini-Spike  2074939.0\n",
       "111        NaT       NaN        NaN 2021-03-27  Mini-Spike  2259778.0\n",
       "112        NaT       NaN        NaN 2021-03-27  Mini-Spike  2259778.0"
      ]
     },
     "execution_count": 22,
     "metadata": {},
     "output_type": "execute_result"
    }
   ],
   "source": [
    "pd.concat([df_spike, df_minispike], axis=1)"
   ]
  },
  {
   "cell_type": "markdown",
   "metadata": {},
   "source": [
    "![figure 1](media/pandas_reshape_data.png)"
   ]
  },
  {
   "cell_type": "code",
   "execution_count": 23,
   "metadata": {
    "ExecuteTime": {
     "end_time": "2023-04-01T11:21:08.055790Z",
     "start_time": "2023-04-01T11:21:07.988064Z"
    },
    "collapsed": false,
    "jupyter": {
     "outputs_hidden": false
    }
   },
   "outputs": [
    {
     "data": {
      "text/html": [
       "<div>\n",
       "<style scoped>\n",
       "    .dataframe tbody tr th:only-of-type {\n",
       "        vertical-align: middle;\n",
       "    }\n",
       "\n",
       "    .dataframe tbody tr th {\n",
       "        vertical-align: top;\n",
       "    }\n",
       "\n",
       "    .dataframe thead tr th {\n",
       "        text-align: left;\n",
       "    }\n",
       "\n",
       "    .dataframe thead tr:last-of-type th {\n",
       "        text-align: right;\n",
       "    }\n",
       "</style>\n",
       "<table border=\"1\" class=\"dataframe\">\n",
       "  <thead>\n",
       "    <tr>\n",
       "      <th></th>\n",
       "      <th colspan=\"3\" halign=\"left\">CRM</th>\n",
       "      <th colspan=\"3\" halign=\"left\">Organic</th>\n",
       "    </tr>\n",
       "    <tr>\n",
       "      <th>date_type</th>\n",
       "      <th>BAU</th>\n",
       "      <th>Mini-Spike</th>\n",
       "      <th>Spike</th>\n",
       "      <th>BAU</th>\n",
       "      <th>Mini-Spike</th>\n",
       "      <th>Spike</th>\n",
       "    </tr>\n",
       "    <tr>\n",
       "      <th>grass_date</th>\n",
       "      <th></th>\n",
       "      <th></th>\n",
       "      <th></th>\n",
       "      <th></th>\n",
       "      <th></th>\n",
       "      <th></th>\n",
       "    </tr>\n",
       "  </thead>\n",
       "  <tbody>\n",
       "    <tr>\n",
       "      <th>2021-01-01</th>\n",
       "      <td>376752.0</td>\n",
       "      <td>NaN</td>\n",
       "      <td>NaN</td>\n",
       "      <td>2088631.0</td>\n",
       "      <td>NaN</td>\n",
       "      <td>NaN</td>\n",
       "    </tr>\n",
       "    <tr>\n",
       "      <th>2021-01-02</th>\n",
       "      <td>335163.0</td>\n",
       "      <td>NaN</td>\n",
       "      <td>NaN</td>\n",
       "      <td>2122025.0</td>\n",
       "      <td>NaN</td>\n",
       "      <td>NaN</td>\n",
       "    </tr>\n",
       "    <tr>\n",
       "      <th>2021-01-03</th>\n",
       "      <td>322492.0</td>\n",
       "      <td>NaN</td>\n",
       "      <td>NaN</td>\n",
       "      <td>2202061.0</td>\n",
       "      <td>NaN</td>\n",
       "      <td>NaN</td>\n",
       "    </tr>\n",
       "    <tr>\n",
       "      <th>2021-01-04</th>\n",
       "      <td>352532.0</td>\n",
       "      <td>NaN</td>\n",
       "      <td>NaN</td>\n",
       "      <td>2276030.0</td>\n",
       "      <td>NaN</td>\n",
       "      <td>NaN</td>\n",
       "    </tr>\n",
       "    <tr>\n",
       "      <th>2021-01-05</th>\n",
       "      <td>379686.0</td>\n",
       "      <td>NaN</td>\n",
       "      <td>NaN</td>\n",
       "      <td>2350501.0</td>\n",
       "      <td>NaN</td>\n",
       "      <td>NaN</td>\n",
       "    </tr>\n",
       "    <tr>\n",
       "      <th>...</th>\n",
       "      <td>...</td>\n",
       "      <td>...</td>\n",
       "      <td>...</td>\n",
       "      <td>...</td>\n",
       "      <td>...</td>\n",
       "      <td>...</td>\n",
       "    </tr>\n",
       "    <tr>\n",
       "      <th>2021-03-17</th>\n",
       "      <td>356777.0</td>\n",
       "      <td>NaN</td>\n",
       "      <td>NaN</td>\n",
       "      <td>2179493.0</td>\n",
       "      <td>NaN</td>\n",
       "      <td>NaN</td>\n",
       "    </tr>\n",
       "    <tr>\n",
       "      <th>2021-03-18</th>\n",
       "      <td>332573.0</td>\n",
       "      <td>NaN</td>\n",
       "      <td>NaN</td>\n",
       "      <td>2218719.0</td>\n",
       "      <td>NaN</td>\n",
       "      <td>NaN</td>\n",
       "    </tr>\n",
       "    <tr>\n",
       "      <th>2021-03-19</th>\n",
       "      <td>321993.0</td>\n",
       "      <td>NaN</td>\n",
       "      <td>NaN</td>\n",
       "      <td>2194112.0</td>\n",
       "      <td>NaN</td>\n",
       "      <td>NaN</td>\n",
       "    </tr>\n",
       "    <tr>\n",
       "      <th>2021-03-20</th>\n",
       "      <td>298765.0</td>\n",
       "      <td>NaN</td>\n",
       "      <td>NaN</td>\n",
       "      <td>2128278.0</td>\n",
       "      <td>NaN</td>\n",
       "      <td>NaN</td>\n",
       "    </tr>\n",
       "    <tr>\n",
       "      <th>2021-03-21</th>\n",
       "      <td>296126.0</td>\n",
       "      <td>NaN</td>\n",
       "      <td>NaN</td>\n",
       "      <td>2174138.0</td>\n",
       "      <td>NaN</td>\n",
       "      <td>NaN</td>\n",
       "    </tr>\n",
       "  </tbody>\n",
       "</table>\n",
       "<p>80 rows × 6 columns</p>\n",
       "</div>"
      ],
      "text/plain": [
       "                 CRM                     Organic                 \n",
       "date_type        BAU Mini-Spike Spike        BAU Mini-Spike Spike\n",
       "grass_date                                                       \n",
       "2021-01-01  376752.0        NaN   NaN  2088631.0        NaN   NaN\n",
       "2021-01-02  335163.0        NaN   NaN  2122025.0        NaN   NaN\n",
       "2021-01-03  322492.0        NaN   NaN  2202061.0        NaN   NaN\n",
       "2021-01-04  352532.0        NaN   NaN  2276030.0        NaN   NaN\n",
       "2021-01-05  379686.0        NaN   NaN  2350501.0        NaN   NaN\n",
       "...              ...        ...   ...        ...        ...   ...\n",
       "2021-03-17  356777.0        NaN   NaN  2179493.0        NaN   NaN\n",
       "2021-03-18  332573.0        NaN   NaN  2218719.0        NaN   NaN\n",
       "2021-03-19  321993.0        NaN   NaN  2194112.0        NaN   NaN\n",
       "2021-03-20  298765.0        NaN   NaN  2128278.0        NaN   NaN\n",
       "2021-03-21  296126.0        NaN   NaN  2174138.0        NaN   NaN\n",
       "\n",
       "[80 rows x 6 columns]"
      ]
     },
     "execution_count": 23,
     "metadata": {},
     "output_type": "execute_result"
    }
   ],
   "source": [
    "# pivot data\n",
    "pivot = df.head(100).pivot_table(index=['grass_date'], columns=['date_type'], values=['Organic', 'CRM'])\n",
    "pivot"
   ]
  },
  {
   "cell_type": "code",
   "execution_count": 23,
   "metadata": {
    "ExecuteTime": {
     "end_time": "2023-04-01T11:21:08.056276Z",
     "start_time": "2023-04-01T11:21:08.014788Z"
    },
    "collapsed": false,
    "jupyter": {
     "outputs_hidden": false
    }
   },
   "outputs": [],
   "source": []
  }
 ],
 "metadata": {
  "kernelspec": {
   "display_name": "Python 3 (ipykernel)",
   "language": "python",
   "name": "python3"
  },
  "language_info": {
   "codemirror_mode": {
    "name": "ipython",
    "version": 3
   },
   "file_extension": ".py",
   "mimetype": "text/x-python",
   "name": "python",
   "nbconvert_exporter": "python",
   "pygments_lexer": "ipython3",
   "version": "3.10.10"
  }
 },
 "nbformat": 4,
 "nbformat_minor": 4
}
