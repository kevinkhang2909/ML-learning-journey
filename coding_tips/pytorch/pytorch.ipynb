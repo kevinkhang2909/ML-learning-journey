{
 "cells": [
  {
   "cell_type": "markdown",
   "id": "149551d6-8aa6-4c31-980a-c243e5ccb430",
   "metadata": {},
   "source": [
    "# Learn pytorch"
   ]
  },
  {
   "cell_type": "code",
   "execution_count": 1,
   "id": "0b41c204-f2cc-4ead-9627-0dff8c1158e8",
   "metadata": {},
   "outputs": [],
   "source": [
    "import torch"
   ]
  },
  {
   "cell_type": "markdown",
   "id": "b8649758-72f8-4f7e-85ea-190f0316f45a",
   "metadata": {},
   "source": [
    "## 1. Init"
   ]
  },
  {
   "cell_type": "markdown",
   "id": "45e4a0a3-69f5-4a72-9a98-a9e64af4d8b9",
   "metadata": {},
   "source": [
    "- `torch.zeros`: Creates a tensor filled with zeros\n",
    "- `torch.ones`: Creates a tensor filled with ones\n",
    "- `torch.rand`: Creates a tensor with random values uniformly sampled between 0 and 1\n",
    "- `torch.randn`: Creates a tensor with random values sampled from a normal distribution with mean 0 and variance 1\n",
    "- `torch.arange`: Creates a tensor containing the values \n",
    "- `torch.Tensor (input list)`: Creates a tensor from the list elements you provide"
   ]
  },
  {
   "cell_type": "code",
   "execution_count": 2,
   "id": "69838e70-40bb-4ce8-babf-f698e21bc2e3",
   "metadata": {},
   "outputs": [
    {
     "data": {
      "text/plain": [
       "tensor([[1., 2.],\n",
       "        [3., 4.]])"
      ]
     },
     "execution_count": 2,
     "metadata": {},
     "output_type": "execute_result"
    }
   ],
   "source": [
    "torch.Tensor([[1, 2], [3, 4]])"
   ]
  },
  {
   "cell_type": "code",
   "execution_count": 3,
   "id": "7a5ab3e9-e69e-4db7-88af-2bab10a9b7e3",
   "metadata": {},
   "outputs": [
    {
     "data": {
      "text/plain": [
       "tensor([[[0.3423, 0.6369, 0.0349, 0.1796],\n",
       "         [0.3723, 0.9329, 0.1407, 0.4714],\n",
       "         [0.1003, 0.4271, 0.1500, 0.8458]],\n",
       "\n",
       "        [[0.4611, 0.1609, 0.0177, 0.1063],\n",
       "         [0.0812, 0.1075, 0.8238, 0.0881],\n",
       "         [0.1949, 0.0136, 0.0343, 0.2525]]])"
      ]
     },
     "execution_count": 3,
     "metadata": {},
     "output_type": "execute_result"
    }
   ],
   "source": [
    "x = torch.rand(2, 3, 4)\n",
    "x"
   ]
  },
  {
   "cell_type": "markdown",
   "id": "808e4316-fdfd-4abb-95a2-8c096bd8e50f",
   "metadata": {},
   "source": [
    "- Shape of tensor:"
   ]
  },
  {
   "cell_type": "code",
   "execution_count": 4,
   "id": "b96643bd-fef9-4077-893a-fa0c84276864",
   "metadata": {},
   "outputs": [
    {
     "name": "stdout",
     "output_type": "stream",
     "text": [
      "torch.Size([2, 3, 4])\n",
      "torch.Size([2, 3, 4])\n"
     ]
    }
   ],
   "source": [
    "print(x.shape)\n",
    "print(x.size())"
   ]
  },
  {
   "cell_type": "markdown",
   "id": "a9b241b7-f094-4445-b91e-e13c0d0f6239",
   "metadata": {},
   "source": [
    "- Change shape:"
   ]
  },
  {
   "cell_type": "code",
   "execution_count": 5,
   "id": "f4a690b3-f4df-404c-b4b0-08aed5c4ab90",
   "metadata": {},
   "outputs": [
    {
     "data": {
      "text/plain": [
       "tensor([0, 1, 2, 3, 4, 5])"
      ]
     },
     "execution_count": 5,
     "metadata": {},
     "output_type": "execute_result"
    }
   ],
   "source": [
    "x = torch.arange(6)\n",
    "x"
   ]
  },
  {
   "cell_type": "code",
   "execution_count": 6,
   "id": "2e4e9ee2-9914-4a6c-ae98-743e83a9235c",
   "metadata": {},
   "outputs": [
    {
     "data": {
      "text/plain": [
       "tensor([[0, 1, 2],\n",
       "        [3, 4, 5]])"
      ]
     },
     "execution_count": 6,
     "metadata": {},
     "output_type": "execute_result"
    }
   ],
   "source": [
    "x.view(2, 3)"
   ]
  },
  {
   "cell_type": "markdown",
   "id": "545b87e0-7557-4272-bb79-3d53a17d081e",
   "metadata": {},
   "source": [
    "## 2. Operations"
   ]
  },
  {
   "cell_type": "code",
   "execution_count": 7,
   "id": "6e6137f6-8fcc-4f16-8184-c8073d0fd466",
   "metadata": {},
   "outputs": [
    {
     "data": {
      "text/plain": [
       "tensor([[0.6686, 1.6619, 0.7967],\n",
       "        [1.6087, 0.6917, 1.7466]])"
      ]
     },
     "execution_count": 7,
     "metadata": {},
     "output_type": "execute_result"
    }
   ],
   "source": [
    "x1 = torch.rand(2, 3)\n",
    "x2 = torch.rand(2, 3)\n",
    "x1 + x2"
   ]
  },
  {
   "cell_type": "markdown",
   "id": "32296f0f-cad7-4385-94fd-53e64fd93252",
   "metadata": {},
   "source": [
    "- `torch.matmul`: Performs the matrix product over two tensors, where the specific behavior depends on the dimensions. If both inputs are matrices (2-dimensional tensors), it performs the standard matrix product. For higher dimensional inputs, the function supports broadcasting. Can also be written as `a @ b`, similar to numpy.\n",
    "- `torch.mm`: Performs the matrix product over two matrices, but doesn’t support broadcasting\n",
    "- `torch.bmm`: Performs the matrix product with a support batch dimension. If the first tensor T is of shape (b x n x m), and the second tensor R (b x m x p), the output O is of shape (b x n x p) and has been calculated by performing matrix b multiplications of the submatrices of T and R\n",
    "- `torch.einsum`: Performs matrix multiplications and more (i.e. sums of products) using the Einstein summation convention."
   ]
  },
  {
   "cell_type": "code",
   "execution_count": 8,
   "id": "d0fb7110-17fe-40cc-b7fb-e30965282a7d",
   "metadata": {},
   "outputs": [
    {
     "data": {
      "text/plain": [
       "tensor([[0, 1, 2],\n",
       "        [3, 4, 5]])"
      ]
     },
     "execution_count": 8,
     "metadata": {},
     "output_type": "execute_result"
    }
   ],
   "source": [
    "x = torch.arange(6).view(2, 3)\n",
    "x"
   ]
  },
  {
   "cell_type": "code",
   "execution_count": 9,
   "id": "cd454662-2d26-4634-9e1c-46dc97910cbb",
   "metadata": {},
   "outputs": [
    {
     "data": {
      "text/plain": [
       "tensor([[0, 1, 2],\n",
       "        [3, 4, 5],\n",
       "        [6, 7, 8]])"
      ]
     },
     "execution_count": 9,
     "metadata": {},
     "output_type": "execute_result"
    }
   ],
   "source": [
    "w = torch.arange(9).view(3, 3)\n",
    "w"
   ]
  },
  {
   "cell_type": "code",
   "execution_count": 10,
   "id": "4cc35bcc-9c9a-4d5d-9e59-c6463a1d9cfa",
   "metadata": {},
   "outputs": [
    {
     "data": {
      "text/plain": [
       "(tensor([[15, 18, 21],\n",
       "         [42, 54, 66]]),\n",
       " tensor([[15, 18, 21],\n",
       "         [42, 54, 66]]),\n",
       " tensor([[15, 18, 21],\n",
       "         [42, 54, 66]]))"
      ]
     },
     "execution_count": 10,
     "metadata": {},
     "output_type": "execute_result"
    }
   ],
   "source": [
    "torch.matmul(x, w), x @ w, torch.einsum('ij,jk->ik', x, w)"
   ]
  },
  {
   "cell_type": "markdown",
   "id": "d94a4eb5-80eb-489d-ab9f-44674af5233b",
   "metadata": {},
   "source": [
    "# 3. Dynamic Computation Graph and Backpropagation"
   ]
  },
  {
   "cell_type": "markdown",
   "id": "f2a7f182-75e9-40cb-8bc1-0da0db85c83c",
   "metadata": {},
   "source": [
    "Given an input, we define our function by manipulating that input, usually by matrix-multiplications with weight matrices and additions with so-called bias vectors. As we manipulate our input, we are automatically creating a computational graph. This graph shows how to arrive at our output from our input. PyTorch is a define-by-run framework; this means that we can just do our manipulations, and PyTorch will keep track of that graph for us. Thus, we create a dynamic computation graph along the way."
   ]
  },
  {
   "cell_type": "code",
   "execution_count": 11,
   "id": "08c2d5e8-2172-482e-8cd5-01f6f3ff1ab5",
   "metadata": {},
   "outputs": [
    {
     "data": {
      "text/plain": [
       "tensor([0., 1., 2.], requires_grad=True)"
      ]
     },
     "execution_count": 11,
     "metadata": {},
     "output_type": "execute_result"
    }
   ],
   "source": [
    "x = torch.arange(3, dtype=torch.float32, requires_grad=True)\n",
    "x"
   ]
  },
  {
   "cell_type": "code",
   "execution_count": 12,
   "id": "25440af5-c88b-47cb-8c81-ea0a6ec64854",
   "metadata": {},
   "outputs": [
    {
     "data": {
      "text/plain": [
       "tensor(12.6667, grad_fn=<MeanBackward0>)"
      ]
     },
     "execution_count": 12,
     "metadata": {},
     "output_type": "execute_result"
    }
   ],
   "source": [
    "a = x + 2\n",
    "b = a ** 2\n",
    "c = b + 3\n",
    "y = c.mean()\n",
    "y"
   ]
  },
  {
   "cell_type": "markdown",
   "id": "c8a9cc5d-96c8-401b-ac6a-16dfa6370859",
   "metadata": {},
   "source": [
    "![figure 1](media/pytorch_computation_graph.svg)"
   ]
  },
  {
   "cell_type": "code",
   "execution_count": 13,
   "id": "a765d672-d8dc-4c6e-bbd1-eafcc93658c3",
   "metadata": {},
   "outputs": [],
   "source": [
    "y.backward()"
   ]
  },
  {
   "cell_type": "code",
   "execution_count": 14,
   "id": "e37666bd-6cd6-4ef9-b321-aff3d3592e5c",
   "metadata": {},
   "outputs": [
    {
     "name": "stdout",
     "output_type": "stream",
     "text": [
      "tensor([1.3333, 2.0000, 2.6667])\n"
     ]
    }
   ],
   "source": [
    "print(x.grad)"
   ]
  },
  {
   "cell_type": "markdown",
   "id": "4572aaa2-70ec-4dd9-aa5b-55610f71e1ca",
   "metadata": {},
   "source": [
    "## 4. Model"
   ]
  },
  {
   "cell_type": "markdown",
   "id": "3ce707c9-9adc-44e9-b05e-3d3908366675",
   "metadata": {},
   "source": [
    "The package `torch.nn` defines a series of useful classes like linear networks layers, activation functions, loss functions etc"
   ]
  },
  {
   "cell_type": "code",
   "execution_count": 15,
   "id": "36e03c29-9ca5-4020-9e49-7e43763e4930",
   "metadata": {},
   "outputs": [],
   "source": [
    "import torch.nn as nn"
   ]
  },
  {
   "cell_type": "markdown",
   "id": "6f03c90c-9a54-4a4e-bc26-1cf42713dd65",
   "metadata": {},
   "source": [
    "To illustrate this neuro net, we use:\n",
    "\n",
    "![figure 2](media/small_neural_network.svg)"
   ]
  },
  {
   "cell_type": "markdown",
   "id": "0a4ffceb-c2e1-4805-8fbc-3ce5ef24b1fc",
   "metadata": {},
   "source": [
    "### 4.1 Modules\n",
    "A neural network is built up out of modules. Modules can contain other modules, and a neural network is considered to be a module itself as well. The basic template of a module is as follows:"
   ]
  },
  {
   "cell_type": "code",
   "execution_count": 16,
   "id": "5061a40d-85af-4466-91cb-9d9950e0bfcb",
   "metadata": {},
   "outputs": [],
   "source": [
    "class SimpleClassifier(nn.Module):\n",
    "    def __init__(self, num_inputs, num_hidden, num_outputs):\n",
    "        super().__init__()\n",
    "        self.linear1 = nn.Linear(num_inputs, num_hidden)\n",
    "        self.act_fn = nn.Tanh()\n",
    "        self.linear2 = nn.Linear(num_hidden, num_outputs)\n",
    "\n",
    "    def forward(self, x):\n",
    "        x = self.linear1(x)\n",
    "        x = self.act_fn(x)\n",
    "        x = self.linear2(x)\n",
    "        return x"
   ]
  },
  {
   "cell_type": "code",
   "execution_count": 17,
   "id": "8a81b4df-e7db-4886-9812-b7c3398fe9a0",
   "metadata": {},
   "outputs": [
    {
     "name": "stdout",
     "output_type": "stream",
     "text": [
      "SimpleClassifier(\n",
      "  (linear1): Linear(in_features=2, out_features=4, bias=True)\n",
      "  (act_fn): Tanh()\n",
      "  (linear2): Linear(in_features=4, out_features=1, bias=True)\n",
      ")\n"
     ]
    }
   ],
   "source": [
    "model = SimpleClassifier(num_inputs=2, num_hidden=4, num_outputs=1)\n",
    "print(model)"
   ]
  },
  {
   "cell_type": "code",
   "execution_count": 18,
   "id": "33f6ef5f-9ab7-46cf-ade6-2842ccb44216",
   "metadata": {},
   "outputs": [
    {
     "name": "stdout",
     "output_type": "stream",
     "text": [
      "Parameter linear1.weight, shape torch.Size([4, 2])\n",
      "Parameter linear1.bias, shape torch.Size([4])\n",
      "Parameter linear2.weight, shape torch.Size([1, 4])\n",
      "Parameter linear2.bias, shape torch.Size([1])\n"
     ]
    }
   ],
   "source": [
    "for name, param in model.named_parameters():\n",
    "    print(f\"Parameter {name}, shape {param.shape}\")"
   ]
  },
  {
   "cell_type": "markdown",
   "id": "77804cfa-fd7b-401b-ac7b-c30e76e57946",
   "metadata": {},
   "source": [
    "- Alternatives:"
   ]
  },
  {
   "cell_type": "code",
   "execution_count": 19,
   "id": "ad4267f6-3f88-49ff-88d1-0ffb5002c1ac",
   "metadata": {},
   "outputs": [
    {
     "name": "stdout",
     "output_type": "stream",
     "text": [
      "Sequential(\n",
      "  (0): Linear(in_features=2, out_features=4, bias=True)\n",
      "  (1): Tanh()\n",
      "  (2): Linear(in_features=4, out_features=1, bias=True)\n",
      ")\n"
     ]
    }
   ],
   "source": [
    "model = nn.Sequential(\n",
    "          nn.Linear(2, 4),\n",
    "          nn.Tanh(),\n",
    "          nn.Linear(4, 1),\n",
    "        )\n",
    "print(model)"
   ]
  },
  {
   "cell_type": "code",
   "execution_count": null,
   "id": "cc4344a3-b8fd-4645-b15a-ee557bdb9a44",
   "metadata": {},
   "outputs": [],
   "source": []
  }
 ],
 "metadata": {
  "kernelspec": {
   "display_name": "Python 3 (ipykernel)",
   "language": "python",
   "name": "python3"
  },
  "language_info": {
   "codemirror_mode": {
    "name": "ipython",
    "version": 3
   },
   "file_extension": ".py",
   "mimetype": "text/x-python",
   "name": "python",
   "nbconvert_exporter": "python",
   "pygments_lexer": "ipython3",
   "version": "3.10.9"
  }
 },
 "nbformat": 4,
 "nbformat_minor": 5
}
