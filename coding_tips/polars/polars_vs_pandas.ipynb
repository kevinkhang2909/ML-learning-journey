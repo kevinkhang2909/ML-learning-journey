{
 "cells": [
  {
   "cell_type": "code",
   "execution_count": 1,
   "metadata": {
    "collapsed": true,
    "ExecuteTime": {
     "end_time": "2023-07-31T03:35:52.863019100Z",
     "start_time": "2023-07-31T03:35:52.816424200Z"
    }
   },
   "outputs": [],
   "source": [
    "import polars as pl\n",
    "import pandas as pd\n",
    "from pathlib import Path\n",
    "import string\n",
    "import re\n",
    "from tqdm import tqdm\n",
    "from time import perf_counter"
   ]
  },
  {
   "cell_type": "code",
   "execution_count": 2,
   "outputs": [],
   "source": [
    "path = Path.home() / 'OneDrive - Seagroup/ai/nlp/cat_tag/raw'\n",
    "files = [*path.glob('*.ftr')]"
   ],
   "metadata": {
    "collapsed": false,
    "ExecuteTime": {
     "end_time": "2023-07-31T03:35:52.867796100Z",
     "start_time": "2023-07-31T03:35:52.865018100Z"
    }
   }
  },
  {
   "cell_type": "code",
   "execution_count": 3,
   "outputs": [
    {
     "name": "stderr",
     "output_type": "stream",
     "text": [
      "pl reading: 100%|██████████| 268/268 [00:02<00:00, 111.09it/s]\n",
      "pd reading: 100%|██████████| 268/268 [00:05<00:00, 52.15it/s]\n"
     ]
    }
   ],
   "source": [
    "df_pl = pl.concat([pl.read_ipc(f) for f in tqdm(files, desc='pl reading')], rechunk=True)\n",
    "df_pd = pd.concat([pd.read_feather(f) for f in tqdm(files, desc='pd reading')])"
   ],
   "metadata": {
    "collapsed": false,
    "ExecuteTime": {
     "end_time": "2023-07-31T03:36:01.618345900Z",
     "start_time": "2023-07-31T03:35:52.867796100Z"
    }
   }
  },
  {
   "cell_type": "code",
   "execution_count": 4,
   "outputs": [
    {
     "name": "stdout",
     "output_type": "stream",
     "text": [
      "Shape: (10101055, 4), 9,147,752 items\n"
     ]
    },
    {
     "data": {
      "text/plain": "shape: (5, 4)\n┌─────────────┬────────────────────────────┬───────────────────────────┬───────────────────────────┐\n│ item_id     ┆ item_name                  ┆ level1_global_be_category ┆ level2_global_be_category │\n│ ---         ┆ ---                        ┆ ---                       ┆ ---                       │\n│ i64         ┆ str                        ┆ str                       ┆ str                       │\n╞═════════════╪════════════════════════════╪═══════════════════════════╪═══════════════════════════╡\n│ 3449028378  ┆ Đôi jack bắp chuối cái 4mm ┆ Audio                     ┆ Amplifiers & Mixers       │\n│             ┆ JK-31…                     ┆                           ┆                           │\n│ 4742031388  ┆ Hộp số quạt ... có thê     ┆ Audio                     ┆ Amplifiers & Mixers       │\n│             ┆ thay …                     ┆                           ┆                           │\n│ 21470061301 ┆ Bo Mạch Khuếch Đại Âm      ┆ Audio                     ┆ Amplifiers & Mixers       │\n│             ┆ Thanh Kỹ T…                ┆                           ┆                           │\n│ 4042683466  ┆ Bảng mạch khuếch đại âm    ┆ Audio                     ┆ Amplifiers & Mixers       │\n│             ┆ lập thể …                  ┆                           ┆                           │\n│ 1492579343  ┆ USB Bluetooth              ┆ Audio                     ┆ Amplifiers & Mixers       │\n│             ┆ HJX-001/BT-163 Tạo…        ┆                           ┆                           │\n└─────────────┴────────────────────────────┴───────────────────────────┴───────────────────────────┘",
      "text/html": "<div><style>\n.dataframe > thead > tr > th,\n.dataframe > tbody > tr > td {\n  text-align: right;\n}\n</style>\n<small>shape: (5, 4)</small><table border=\"1\" class=\"dataframe\"><thead><tr><th>item_id</th><th>item_name</th><th>level1_global_be_category</th><th>level2_global_be_category</th></tr><tr><td>i64</td><td>str</td><td>str</td><td>str</td></tr></thead><tbody><tr><td>3449028378</td><td>&quot;Đôi jack bắp c…</td><td>&quot;Audio&quot;</td><td>&quot;Amplifiers &amp; M…</td></tr><tr><td>4742031388</td><td>&quot;Hộp số quạt…</td><td>&quot;Audio&quot;</td><td>&quot;Amplifiers &amp; M…</td></tr><tr><td>21470061301</td><td>&quot;Bo Mạch Khuếch…</td><td>&quot;Audio&quot;</td><td>&quot;Amplifiers &amp; M…</td></tr><tr><td>4042683466</td><td>&quot;Bảng mạch khuế…</td><td>&quot;Audio&quot;</td><td>&quot;Amplifiers &amp; M…</td></tr><tr><td>1492579343</td><td>&quot;USB Bluetooth …</td><td>&quot;Audio&quot;</td><td>&quot;Amplifiers &amp; M…</td></tr></tbody></table></div>"
     },
     "execution_count": 4,
     "metadata": {},
     "output_type": "execute_result"
    }
   ],
   "source": [
    "print(f\"Shape: {df_pl.shape}, {df_pl['item_id'].n_unique():,.0f} items\")\n",
    "df_pl.head()"
   ],
   "metadata": {
    "collapsed": false,
    "ExecuteTime": {
     "end_time": "2023-07-31T03:36:01.731802400Z",
     "start_time": "2023-07-31T03:36:01.615150100Z"
    }
   }
  },
  {
   "cell_type": "code",
   "execution_count": 5,
   "outputs": [
    {
     "name": "stdout",
     "output_type": "stream",
     "text": [
      "Shape: (10101055, 4), 9,147,752 items\n"
     ]
    },
    {
     "data": {
      "text/plain": "       item_id                                          item_name  \\\n0   3449028378  Đôi jack bắp chuối cái 4mm JK-312 (đỏ+đen) chấ...   \n1   4742031388  Hộp số quạt ... có thê thay cho quạt 12v ...   \n2  21470061301  Bo Mạch Khuếch Đại Âm Thanh Kỹ Thuật Số Blueto...   \n3   4042683466  Bảng mạch khuếch đại âm lập thể kỹ thuật số 2 ...   \n4   1492579343  USB Bluetooth HJX-001/BT-163 Tạo Bluetooth Cho...   \n\n  level1_global_be_category level2_global_be_category  \n0                     Audio       Amplifiers & Mixers  \n1                     Audio       Amplifiers & Mixers  \n2                     Audio       Amplifiers & Mixers  \n3                     Audio       Amplifiers & Mixers  \n4                     Audio       Amplifiers & Mixers  ",
      "text/html": "<div>\n<style scoped>\n    .dataframe tbody tr th:only-of-type {\n        vertical-align: middle;\n    }\n\n    .dataframe tbody tr th {\n        vertical-align: top;\n    }\n\n    .dataframe thead th {\n        text-align: right;\n    }\n</style>\n<table border=\"1\" class=\"dataframe\">\n  <thead>\n    <tr style=\"text-align: right;\">\n      <th></th>\n      <th>item_id</th>\n      <th>item_name</th>\n      <th>level1_global_be_category</th>\n      <th>level2_global_be_category</th>\n    </tr>\n  </thead>\n  <tbody>\n    <tr>\n      <th>0</th>\n      <td>3449028378</td>\n      <td>Đôi jack bắp chuối cái 4mm JK-312 (đỏ+đen) chấ...</td>\n      <td>Audio</td>\n      <td>Amplifiers &amp; Mixers</td>\n    </tr>\n    <tr>\n      <th>1</th>\n      <td>4742031388</td>\n      <td>Hộp số quạt ... có thê thay cho quạt 12v ...</td>\n      <td>Audio</td>\n      <td>Amplifiers &amp; Mixers</td>\n    </tr>\n    <tr>\n      <th>2</th>\n      <td>21470061301</td>\n      <td>Bo Mạch Khuếch Đại Âm Thanh Kỹ Thuật Số Blueto...</td>\n      <td>Audio</td>\n      <td>Amplifiers &amp; Mixers</td>\n    </tr>\n    <tr>\n      <th>3</th>\n      <td>4042683466</td>\n      <td>Bảng mạch khuếch đại âm lập thể kỹ thuật số 2 ...</td>\n      <td>Audio</td>\n      <td>Amplifiers &amp; Mixers</td>\n    </tr>\n    <tr>\n      <th>4</th>\n      <td>1492579343</td>\n      <td>USB Bluetooth HJX-001/BT-163 Tạo Bluetooth Cho...</td>\n      <td>Audio</td>\n      <td>Amplifiers &amp; Mixers</td>\n    </tr>\n  </tbody>\n</table>\n</div>"
     },
     "execution_count": 5,
     "metadata": {},
     "output_type": "execute_result"
    }
   ],
   "source": [
    "print(f\"Shape: {df_pd.shape}, {df_pd['item_id'].nunique():,.0f} items\")\n",
    "df_pd.head()"
   ],
   "metadata": {
    "collapsed": false,
    "ExecuteTime": {
     "end_time": "2023-07-31T03:36:02.775068200Z",
     "start_time": "2023-07-31T03:36:01.732802700Z"
    }
   }
  },
  {
   "cell_type": "code",
   "execution_count": 6,
   "outputs": [
    {
     "name": "stdout",
     "output_type": "stream",
     "text": [
      "4.270013399999698\n",
      "8.601254799999879\n"
     ]
    }
   ],
   "source": [
    "# Clean: Format\n",
    "col = ['item_name'] + [f'level{i}_global_be_category' for i in [1, 2]]\n",
    "start = perf_counter()\n",
    "df_pl = df_pl.with_columns([pl.col(i).str.strip().str.to_lowercase().alias(i) for i in col])\n",
    "print(perf_counter() - start)\n",
    "\n",
    "start = perf_counter()\n",
    "for i in col:\n",
    "    df_pd[i] = df_pd[i].str.strip().str.lower()\n",
    "print(perf_counter() - start)"
   ],
   "metadata": {
    "collapsed": false,
    "ExecuteTime": {
     "end_time": "2023-07-31T03:36:15.654810200Z",
     "start_time": "2023-07-31T03:36:02.776068Z"
    }
   }
  },
  {
   "cell_type": "code",
   "execution_count": 7,
   "outputs": [
    {
     "name": "stdout",
     "output_type": "stream",
     "text": [
      "10.149959800000033\n"
     ]
    },
    {
     "name": "stderr",
     "output_type": "stream",
     "text": [
      "Clean bracket: 100%|██████████| 10101055/10101055 [00:05<00:00, 1919404.27it/s]\n",
      "Clean punctuations: 100%|██████████| 10101055/10101055 [00:27<00:00, 371840.48it/s]\n",
      "Clean spaces: 100%|██████████| 10101055/10101055 [00:29<00:00, 344192.63it/s]\n"
     ]
    },
    {
     "name": "stdout",
     "output_type": "stream",
     "text": [
      "69.60731560000022\n"
     ]
    }
   ],
   "source": [
    "start = perf_counter()\n",
    "df_pl = df_pl.with_columns(pl.col('item_name').str.replace(r'\\[[^\\]]*\\]', '').alias('item_name_edit'))\n",
    "df_pl = df_pl.with_columns(pl.col('item_name_edit').str.replace_all('[[:punct:]]+', ''))\n",
    "df_pl = df_pl.with_columns(pl.col('item_name_edit').str.replace_all('\\s+', ' '))\n",
    "df_pl = df_pl.unique(subset=['item_name_edit'])\n",
    "print(perf_counter() - start)\n",
    "\n",
    "start = perf_counter()\n",
    "trans = str.maketrans(string.punctuation, ' '*len(string.punctuation))\n",
    "df_pd['item_name_edit'] = [re.sub(r'\\[[^\\]]*\\]', '', i) for i in tqdm(df_pd['item_name'].astype(str).values, desc=f'Clean bracket')]\n",
    "df_pd['item_name_edit'] = [i.translate(trans) for i in tqdm(df_pd['item_name_edit'].values, desc=f'Clean punctuations')]\n",
    "df_pd['item_name_edit'] = [\" \".join(re.split(\"\\s+\", i)) for i in tqdm(df_pd['item_name_edit'].values, desc=f'Clean spaces')]\n",
    "df_pd['item_name_edit'] = df_pd['item_name_edit'].str.strip()\n",
    "df_pd.drop_duplicates(subset='item_name_edit', inplace=True)\n",
    "df_pd.reset_index(drop=True, inplace=True)\n",
    "print(perf_counter() - start)"
   ],
   "metadata": {
    "collapsed": false,
    "ExecuteTime": {
     "end_time": "2023-07-31T03:37:35.416959400Z",
     "start_time": "2023-07-31T03:36:15.651206500Z"
    }
   }
  },
  {
   "cell_type": "code",
   "execution_count": 8,
   "outputs": [
    {
     "name": "stdout",
     "output_type": "stream",
     "text": [
      "0.45946209999965504\n",
      "0.906440400000065\n"
     ]
    }
   ],
   "source": [
    "start = perf_counter()\n",
    "df_pl = df_pl.with_columns(\n",
    "    pl.concat_str([pl.col('level1_global_be_category'), pl.col('level2_global_be_category')], separator=' > ')\n",
    "    .alias('all_cat')\n",
    ")\n",
    "print(perf_counter() - start)\n",
    "\n",
    "start = perf_counter()\n",
    "df_pd['all_cat'] = df_pd['level1_global_be_category'] + ' > ' + df_pd['level2_global_be_category']\n",
    "print(perf_counter() - start)"
   ],
   "metadata": {
    "collapsed": false,
    "ExecuteTime": {
     "end_time": "2023-07-31T03:37:36.786723800Z",
     "start_time": "2023-07-31T03:37:35.415955400Z"
    }
   }
  },
  {
   "cell_type": "code",
   "execution_count": 8,
   "outputs": [],
   "source": [],
   "metadata": {
    "collapsed": false,
    "ExecuteTime": {
     "end_time": "2023-07-31T03:37:36.786723800Z",
     "start_time": "2023-07-31T03:37:36.784719600Z"
    }
   }
  }
 ],
 "metadata": {
  "kernelspec": {
   "display_name": "Python 3",
   "language": "python",
   "name": "python3"
  },
  "language_info": {
   "codemirror_mode": {
    "name": "ipython",
    "version": 2
   },
   "file_extension": ".py",
   "mimetype": "text/x-python",
   "name": "python",
   "nbconvert_exporter": "python",
   "pygments_lexer": "ipython2",
   "version": "2.7.6"
  }
 },
 "nbformat": 4,
 "nbformat_minor": 0
}
