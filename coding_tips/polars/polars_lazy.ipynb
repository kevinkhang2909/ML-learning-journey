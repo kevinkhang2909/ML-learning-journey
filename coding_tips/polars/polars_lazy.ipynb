{
 "cells": [
  {
   "cell_type": "code",
   "execution_count": 1,
   "id": "initial_id",
   "metadata": {
    "collapsed": true,
    "ExecuteTime": {
     "end_time": "2023-07-30T07:00:20.147400Z",
     "start_time": "2023-07-30T07:00:20.110229Z"
    }
   },
   "outputs": [],
   "source": [
    "import polars as pl\n",
    "import time\n",
    "import seaborn as sns\n",
    "import matplotlib.pyplot as plt\n",
    "from pathlib import Path\n",
    "from func import timing"
   ]
  },
  {
   "cell_type": "code",
   "execution_count": 2,
   "outputs": [],
   "source": [
    "file_path = Path.home() / 'Downloads/2021_Yellow_Taxi_Trip_Data.csv'"
   ],
   "metadata": {
    "collapsed": false,
    "ExecuteTime": {
     "end_time": "2023-07-30T07:00:20.151633Z",
     "start_time": "2023-07-30T07:00:20.148257Z"
    }
   },
   "id": "87eaddf53e8270c2"
  },
  {
   "cell_type": "code",
   "execution_count": 3,
   "outputs": [],
   "source": [
    "def select_n_filter_columns(df):\n",
    "    return (\n",
    "        df\n",
    "        .select(pl.col('VendorID', 'tpep_pickup_datetime', 'total_amount', 'tolls_amount', 'payment_type', 'tip_amount', 'fare_amount', 'PULocationID'))\n",
    "        .filter(pl.col('total_amount') > 100)\n",
    "    )\n",
    "\n",
    "def some_groupby_agg(df):\n",
    "    return (\n",
    "        df\n",
    "        .groupby('VendorID', 'payment_type', 'PULocationID')\n",
    "        .agg(\n",
    "            pl.col('tip_amount').mean().alias('avg_tip_amount')\n",
    "        )\n",
    "    )\n",
    "\n",
    "def some_window_func(df):\n",
    "    return (\n",
    "        df\n",
    "        .select(\n",
    "            pl.col('VendorID'),\n",
    "            pl.col('payment_type'),\n",
    "            pl.col('tpep_pickup_datetime'),\n",
    "            pl.col('PULocationID'),\n",
    "            pl.col('tip_amount'),\n",
    "            pl.col('fare_amount').mean().over('payment_type').alias('mean_fare_amt_per_payment_type'),\n",
    "        )\n",
    "        .with_columns(\n",
    "            pl.col('mean_fare_amt_per_payment_type').rank('dense', descending=True).over('VendorID').alias('dense_rank')\n",
    "        )\n",
    "    )\n",
    "\n",
    "def join_on_a_few_column(df):\n",
    "    unique_vendor_id_df = df.select('VendorID', 'payment_type', 'PULocationID').unique()\n",
    "    return (\n",
    "        df\n",
    "        .join(unique_vendor_id_df, on=['VendorID', 'payment_type', 'PULocationID'], how='left')\n",
    "    )\n",
    "\n",
    "@timing\n",
    "def write_to_csv(df):\n",
    "    output_file_name = 'output.csv'\n",
    "    if type(df) == pl.LazyFrame:\n",
    "        df.collect().write_csv(output_file_name)\n",
    "        return\n",
    "    \n",
    "    return df.write_csv(output_file_name)\n",
    "\n",
    "def test_performance(func_to_test):\n",
    "    \"\"\"\n",
    "    performance test of one function - lazyframe vs dataframe\n",
    "    \"\"\"\n",
    "\n",
    "    func_name = func_to_test.__name__\n",
    "\n",
    "    def exec_func_lazyframe():\n",
    "        \"\"\"\n",
    "        when write_to_csv func, don't collect()\n",
    "        \"\"\"\n",
    "        if func_name == 'write_to_csv':\n",
    "            return (\n",
    "                pl.scan_csv(file_path)\n",
    "                .pipe(func_to_test)\n",
    "            )\n",
    "        return (\n",
    "                pl.scan_csv(file_path)\n",
    "                .pipe(func_to_test)\n",
    "                .collect()\n",
    "            )\n",
    "\n",
    "    ##### lazyframe #####\n",
    "    start = time.time()\n",
    "    exec_func_lazyframe()\n",
    "    end = time.time()\n",
    "    time_in_s = round(end - start, 2)\n",
    "    print(func_to_test.__name__)\n",
    "    print(f'-> LazyFrame took {time_in_s} seconds')\n",
    "    result_lazy = [time_in_s, func_name, 'LazyFrame']\n",
    "\n",
    "    ##### dataframe #####\n",
    "    start = time.time()\n",
    "    df = (\n",
    "        pl.read_csv(file_path)\n",
    "        .pipe(func_to_test)\n",
    "    )\n",
    "    end = time.time()\n",
    "    time_in_s = round(end - start, 2)\n",
    "    print(f'-> DataFrame took {time_in_s} seconds')\n",
    "    result_dataframe = [time_in_s, func_name, 'DataFrame']\n",
    "\n",
    "    return result_lazy, result_dataframe\n",
    "\n",
    "def test_performance_all():\n",
    "    \"\"\"\n",
    "    test performance for all functions used at once\n",
    "    \"\"\"\n",
    "    ##### lazyframe #####\n",
    "    start = time.time()\n",
    "    lazy_df = (\n",
    "        pl.scan_csv(file_path)\n",
    "        .pipe(select_n_filter_columns)\n",
    "        .pipe(some_window_func)\n",
    "        .pipe(some_groupby_agg)\n",
    "        .pipe(join_on_a_few_column)\n",
    "        .pipe(write_to_csv)\n",
    "    )\n",
    "    end = time.time()\n",
    "    time_in_s = round(end - start, 2)\n",
    "    print(f'-> LazyFrame took {time_in_s} seconds')\n",
    "    result_lazy = [time_in_s, 'All funcs at once', 'LazyFrame']\n",
    "\n",
    "    ##### dataframe #####\n",
    "    start = time.time()\n",
    "    df = (\n",
    "        pl.read_csv(file_path)\n",
    "        .pipe(select_n_filter_columns)\n",
    "        .pipe(some_window_func)\n",
    "        .pipe(some_groupby_agg)\n",
    "        .pipe(join_on_a_few_column)\n",
    "        .pipe(write_to_csv)\n",
    "    )\n",
    "    end = time.time()\n",
    "    time_in_s = round(end - start, 2)\n",
    "    print(f'-> DataFrame took {time_in_s} seconds')\n",
    "    result_dataframe = [time_in_s, 'All funcs at once', 'DataFrame']\n",
    "\n",
    "    return result_lazy, result_dataframe\n",
    "\n",
    "def visualize_result(data):\n",
    "    \"\"\"\n",
    "    visualize retuslt and save it as png\n",
    "    \"\"\"\n",
    "    sns.set_style(style=None)\n",
    "\n",
    "    df = pl.DataFrame(data, schema=['time in seconds', 'func', 'type'])\n",
    "\n",
    "    plt.figure(figsize=(20, 6))\n",
    "    ax = sns.barplot(x=list(df['func']), y=list(df['time in seconds']), hue=list(df['type']), errorbar=None, palette=['#000000', '#d3d3d3'])\n",
    "    # adding labels\n",
    "    for container in ax.containers:\n",
    "        ax.bar_label(container)\n",
    "    ax.set(xlabel='', ylabel='Time in Seconds')\n",
    "    plt.title('LazyFrame vs DataFrame - Polars')\n",
    "    plt.show()\n",
    "\n",
    "    # export to png\n",
    "    fig = ax.get_figure()\n",
    "    fig.savefig('LazyFrame vs DataFrame - Polars.png')"
   ],
   "metadata": {
    "collapsed": false,
    "ExecuteTime": {
     "end_time": "2023-07-30T07:00:20.157975Z",
     "start_time": "2023-07-30T07:00:20.156597Z"
    }
   },
   "id": "bde7642961c6d7ff"
  },
  {
   "cell_type": "code",
   "execution_count": 4,
   "outputs": [
    {
     "name": "stdout",
     "output_type": "stream",
     "text": [
      "1. Testing performance - a function at a time\n",
      "select_n_filter_columns\n",
      "-> LazyFrame took 2.25 seconds\n",
      "-> DataFrame took 6.36 seconds\n",
      "some_window_func\n",
      "-> LazyFrame took 2.92 seconds\n",
      "-> DataFrame took 7.28 seconds\n",
      "some_groupby_agg\n",
      "-> LazyFrame took 1.4 seconds\n",
      "-> DataFrame took 6.3 seconds\n",
      "join_on_a_few_column\n",
      "-> LazyFrame took 8.15 seconds\n",
      "-> DataFrame took 7.22 seconds\n",
      "write_to_csv took: 14.52 sec\n",
      "write_to_csv\n",
      "-> LazyFrame took 14.53 seconds\n",
      "write_to_csv took: 7.29 sec\n",
      "-> DataFrame took 14.78 seconds\n",
      "\n",
      "2. Testing performance - all functions at once\n",
      "write_to_csv took: 2.66 sec\n",
      "-> LazyFrame took 2.66 seconds\n",
      "write_to_csv took: 0.00 sec\n",
      "-> DataFrame took 6.44 seconds\n"
     ]
    },
    {
     "data": {
      "text/plain": "<Figure size 2000x600 with 1 Axes>",
      "image/png": "[encoded data removed]"
     },
     "metadata": {},
     "output_type": "display_data"
    }
   ],
   "source": [
    "data = []\n",
    "functions = [\n",
    "    select_n_filter_columns, \n",
    "    some_window_func, \n",
    "    some_groupby_agg, \n",
    "    join_on_a_few_column,\n",
    "    write_to_csv\n",
    "    ]\n",
    "\n",
    "print('1. Testing performance - a function at a time')\n",
    "for func in functions:\n",
    "    result_lazy, result_dataframe = test_performance(func)\n",
    "    data.append(result_lazy)\n",
    "    data.append(result_dataframe)\n",
    "\n",
    "print('\\n2. Testing performance - all functions at once')\n",
    "result_lazy, result_dataframe = test_performance_all()\n",
    "data.append(result_lazy)\n",
    "data.append(result_dataframe)\n",
    "\n",
    "visualize_result(data)"
   ],
   "metadata": {
    "collapsed": false,
    "ExecuteTime": {
     "end_time": "2023-07-30T07:01:41.324993Z",
     "start_time": "2023-07-30T07:00:20.159551Z"
    }
   },
   "id": "280f53a68f5c116b"
  },
  {
   "cell_type": "code",
   "execution_count": 6,
   "outputs": [
    {
     "name": "stdout",
     "output_type": "stream",
     "text": [
      "SORT BY [col(\"a\")]\n",
      "  AGGREGATE\n",
      "  \t[col(\"b\").sum(), col(\"c\").sum()] BY [col(\"a\")] FROM\n",
      "    DF [\"a\", \"b\", \"c\"]; PROJECT 3/3 COLUMNS; SELECTION: \"None\"\n"
     ]
    }
   ],
   "source": [
    "lf = pl.LazyFrame(\n",
    "    {\n",
    "        \"a\": [\"a\", \"b\", \"a\", \"b\", \"b\", \"c\"],\n",
    "        \"b\": [1, 2, 3, 4, 5, 6],\n",
    "        \"c\": [6, 5, 4, 3, 2, 1],\n",
    "    }\n",
    ")\n",
    "print(lf.groupby(\"a\", maintain_order=True).agg(pl.all().sum()).sort(\n",
    "    \"a\"\n",
    ").explain())"
   ],
   "metadata": {
    "collapsed": false,
    "ExecuteTime": {
     "end_time": "2023-07-30T07:23:18.163335Z",
     "start_time": "2023-07-30T07:23:18.155768Z"
    }
   },
   "id": "615a9d639293528c"
  },
  {
   "cell_type": "code",
   "execution_count": 9,
   "outputs": [
    {
     "data": {
      "text/plain": "<IPython.core.display.SVG object>",
      "image/svg+xml": "<svg xmlns=\"http://www.w3.org/2000/svg\" xmlns:xlink=\"http://www.w3.org/1999/xlink\" width=\"233pt\" height=\"231pt\" viewBox=\"0.00 0.00 233.25 231.00\">\n<g id=\"graph0\" class=\"graph\" transform=\"scale(1 1) rotate(0) translate(4 227)\">\n<title>polars_query</title>\n<polygon fill=\"white\" stroke=\"none\" points=\"-4,4 -4,-227 229.25,-227 229.25,4 -4,4\"/>\n<!-- SORT BY [col(&quot;a&quot;)] [(0, 0)] -->\n<g id=\"node1\" class=\"node\">\n<title>SORT BY [col(&quot;a&quot;)] [(0, 0)]</title>\n<polygon fill=\"none\" stroke=\"black\" points=\"176.5,-223 48.75,-223 48.75,-187 176.5,-187 176.5,-223\"/>\n<text text-anchor=\"middle\" x=\"112.62\" y=\"-199.95\" font-family=\"Times,serif\" font-size=\"14.00\">SORT BY [col(&quot;a&quot;)]</text>\n</g>\n<!-- AGG [col(&quot;b&quot;).sum(), col(&quot;c&quot;).sum()]\nBY\n[col(&quot;a&quot;)] [(0, 1)] [(0, 1)] -->\n<g id=\"node2\" class=\"node\">\n<title>AGG [col(&quot;b&quot;).sum(), col(&quot;c&quot;).sum()]\nBY\n[col(&quot;a&quot;)] [(0, 1)] [(0, 1)]</title>\n<polygon fill=\"none\" stroke=\"black\" points=\"225.25,-151 0,-151 0,-93.5 225.25,-93.5 225.25,-151\"/>\n<text text-anchor=\"middle\" x=\"112.62\" y=\"-133.7\" font-family=\"Times,serif\" font-size=\"14.00\">AGG [col(&quot;b&quot;).sum(), col(&quot;c&quot;).sum()]</text>\n<text text-anchor=\"middle\" x=\"112.62\" y=\"-117.2\" font-family=\"Times,serif\" font-size=\"14.00\">BY</text>\n<text text-anchor=\"middle\" x=\"112.62\" y=\"-100.7\" font-family=\"Times,serif\" font-size=\"14.00\">[col(&quot;a&quot;)] [(0, 1)]</text>\n</g>\n<!-- SORT BY [col(&quot;a&quot;)] [(0, 0)]&#45;&#45;AGG [col(&quot;b&quot;).sum(), col(&quot;c&quot;).sum()]\nBY\n[col(&quot;a&quot;)] [(0, 1)] [(0, 1)] -->\n<g id=\"edge1\" class=\"edge\">\n<title>SORT BY [col(&quot;a&quot;)] [(0, 0)]--AGG [col(&quot;b&quot;).sum(), col(&quot;c&quot;).sum()]\nBY\n[col(&quot;a&quot;)] [(0, 1)] [(0, 1)]</title>\n<path fill=\"none\" stroke=\"black\" d=\"M112.62,-186.88C112.62,-176.6 112.62,-163.27 112.62,-151.47\"/>\n</g>\n<!-- TABLE\nπ 3/3;\nσ &#45;; [(0, 2)] -->\n<g id=\"node3\" class=\"node\">\n<title>TABLE\nπ 3/3;\nσ -; [(0, 2)]</title>\n<polygon fill=\"none\" stroke=\"black\" points=\"142.38,-57.5 82.88,-57.5 82.88,0 142.38,0 142.38,-57.5\"/>\n<text text-anchor=\"middle\" x=\"112.62\" y=\"-40.2\" font-family=\"Times,serif\" font-size=\"14.00\">TABLE</text>\n<text text-anchor=\"middle\" x=\"112.62\" y=\"-23.7\" font-family=\"Times,serif\" font-size=\"14.00\">π 3/3;</text>\n<text text-anchor=\"middle\" x=\"112.62\" y=\"-7.2\" font-family=\"Times,serif\" font-size=\"14.00\">σ -;</text>\n</g>\n<!-- AGG [col(&quot;b&quot;).sum(), col(&quot;c&quot;).sum()]\nBY\n[col(&quot;a&quot;)] [(0, 1)] [(0, 1)]&#45;&#45;TABLE\nπ 3/3;\nσ &#45;; [(0, 2)] -->\n<g id=\"edge2\" class=\"edge\">\n<title>AGG [col(&quot;b&quot;).sum(), col(&quot;c&quot;).sum()]\nBY\n[col(&quot;a&quot;)] [(0, 1)] [(0, 1)]--TABLE\nπ 3/3;\nσ -; [(0, 2)]</title>\n<path fill=\"none\" stroke=\"black\" d=\"M112.62,-93.3C112.62,-82.05 112.62,-69.11 112.62,-57.84\"/>\n</g>\n</g>\n</svg>"
     },
     "metadata": {},
     "output_type": "display_data"
    }
   ],
   "source": [
    "lf.groupby(\"a\", maintain_order=True).agg(pl.all().sum()).sort(\n",
    "    \"a\"\n",
    ").show_graph()"
   ],
   "metadata": {
    "collapsed": false,
    "ExecuteTime": {
     "end_time": "2023-07-30T07:28:48.772343Z",
     "start_time": "2023-07-30T07:28:48.361022Z"
    }
   },
   "id": "f59e205d78ad949d"
  },
  {
   "cell_type": "code",
   "execution_count": null,
   "outputs": [],
   "source": [],
   "metadata": {
    "collapsed": false
   },
   "id": "7698833bf805ba9e"
  }
 ],
 "metadata": {
  "kernelspec": {
   "display_name": "Python 3",
   "language": "python",
   "name": "python3"
  },
  "language_info": {
   "codemirror_mode": {
    "name": "ipython",
    "version": 2
   },
   "file_extension": ".py",
   "mimetype": "text/x-python",
   "name": "python",
   "nbconvert_exporter": "python",
   "pygments_lexer": "ipython2",
   "version": "2.7.6"
  }
 },
 "nbformat": 4,
 "nbformat_minor": 5
}
