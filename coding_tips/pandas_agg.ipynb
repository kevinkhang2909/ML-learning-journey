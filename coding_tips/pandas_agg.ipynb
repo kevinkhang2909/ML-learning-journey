{
 "cells": [
  {
   "cell_type": "code",
   "execution_count": 11,
   "outputs": [],
   "source": [
    "import pandas as pd"
   ],
   "metadata": {
    "collapsed": false,
    "ExecuteTime": {
     "end_time": "2023-06-30T07:27:53.018047900Z",
     "start_time": "2023-06-30T07:27:52.980280500Z"
    }
   }
  },
  {
   "cell_type": "code",
   "execution_count": 12,
   "metadata": {
    "collapsed": true,
    "ExecuteTime": {
     "end_time": "2023-06-30T07:27:53.050566500Z",
     "start_time": "2023-06-30T07:27:52.983782400Z"
    }
   },
   "outputs": [
    {
     "data": {
      "text/plain": "   restaurant_id address    city  sales\n0            101       A  London     10\n1            102       B  London    500\n2            103       C  London     48\n3            104       D  Oxford     12\n4            105       E  Oxford     21",
      "text/html": "<div>\n<style scoped>\n    .dataframe tbody tr th:only-of-type {\n        vertical-align: middle;\n    }\n\n    .dataframe tbody tr th {\n        vertical-align: top;\n    }\n\n    .dataframe thead th {\n        text-align: right;\n    }\n</style>\n<table border=\"1\" class=\"dataframe\">\n  <thead>\n    <tr style=\"text-align: right;\">\n      <th></th>\n      <th>restaurant_id</th>\n      <th>address</th>\n      <th>city</th>\n      <th>sales</th>\n    </tr>\n  </thead>\n  <tbody>\n    <tr>\n      <th>0</th>\n      <td>101</td>\n      <td>A</td>\n      <td>London</td>\n      <td>10</td>\n    </tr>\n    <tr>\n      <th>1</th>\n      <td>102</td>\n      <td>B</td>\n      <td>London</td>\n      <td>500</td>\n    </tr>\n    <tr>\n      <th>2</th>\n      <td>103</td>\n      <td>C</td>\n      <td>London</td>\n      <td>48</td>\n    </tr>\n    <tr>\n      <th>3</th>\n      <td>104</td>\n      <td>D</td>\n      <td>Oxford</td>\n      <td>12</td>\n    </tr>\n    <tr>\n      <th>4</th>\n      <td>105</td>\n      <td>E</td>\n      <td>Oxford</td>\n      <td>21</td>\n    </tr>\n  </tbody>\n</table>\n</div>"
     },
     "execution_count": 12,
     "metadata": {},
     "output_type": "execute_result"
    }
   ],
   "source": [
    "df = pd.DataFrame({\n",
    "    'restaurant_id': [101,102,103,104,105,106,107],\n",
    "    'address': ['A','B','C','D', 'E', 'F', 'G'],\n",
    "    'city': ['London','London','London','Oxford','Oxford', 'Durham', 'Durham'],\n",
    "    'sales': [10,500,48,12,21,22,14]\n",
    "})\n",
    "df.head()"
   ]
  },
  {
   "cell_type": "markdown",
   "source": [
    "- apply(func, axis=0):\n",
    "call a function func along an axis of the DataFrame. It returns the result of applying func along the given axis.\n",
    "\n",
    "- transform(func, axis=0):\n",
    "call a function func on self producing a DataFrame with transformed values. It returns a DataFrame that has the same length as self."
   ],
   "metadata": {
    "collapsed": false
   }
  },
  {
   "cell_type": "markdown",
   "source": [
    "Opt 1: groupby(), sum(), and merge()"
   ],
   "metadata": {
    "collapsed": false
   }
  },
  {
   "cell_type": "code",
   "execution_count": 13,
   "outputs": [
    {
     "data": {
      "text/plain": "   restaurant_id address    city  sales  city_total_sales       pct\n0            101       A  London     10               558  0.017921\n1            102       B  London    500               558  0.896057\n2            103       C  London     48               558  0.086022\n3            104       D  Oxford     12                33  0.363636\n4            105       E  Oxford     21                33  0.636364\n5            106       F  Durham     22                36  0.611111\n6            107       G  Durham     14                36  0.388889",
      "text/html": "<div>\n<style scoped>\n    .dataframe tbody tr th:only-of-type {\n        vertical-align: middle;\n    }\n\n    .dataframe tbody tr th {\n        vertical-align: top;\n    }\n\n    .dataframe thead th {\n        text-align: right;\n    }\n</style>\n<table border=\"1\" class=\"dataframe\">\n  <thead>\n    <tr style=\"text-align: right;\">\n      <th></th>\n      <th>restaurant_id</th>\n      <th>address</th>\n      <th>city</th>\n      <th>sales</th>\n      <th>city_total_sales</th>\n      <th>pct</th>\n    </tr>\n  </thead>\n  <tbody>\n    <tr>\n      <th>0</th>\n      <td>101</td>\n      <td>A</td>\n      <td>London</td>\n      <td>10</td>\n      <td>558</td>\n      <td>0.017921</td>\n    </tr>\n    <tr>\n      <th>1</th>\n      <td>102</td>\n      <td>B</td>\n      <td>London</td>\n      <td>500</td>\n      <td>558</td>\n      <td>0.896057</td>\n    </tr>\n    <tr>\n      <th>2</th>\n      <td>103</td>\n      <td>C</td>\n      <td>London</td>\n      <td>48</td>\n      <td>558</td>\n      <td>0.086022</td>\n    </tr>\n    <tr>\n      <th>3</th>\n      <td>104</td>\n      <td>D</td>\n      <td>Oxford</td>\n      <td>12</td>\n      <td>33</td>\n      <td>0.363636</td>\n    </tr>\n    <tr>\n      <th>4</th>\n      <td>105</td>\n      <td>E</td>\n      <td>Oxford</td>\n      <td>21</td>\n      <td>33</td>\n      <td>0.636364</td>\n    </tr>\n    <tr>\n      <th>5</th>\n      <td>106</td>\n      <td>F</td>\n      <td>Durham</td>\n      <td>22</td>\n      <td>36</td>\n      <td>0.611111</td>\n    </tr>\n    <tr>\n      <th>6</th>\n      <td>107</td>\n      <td>G</td>\n      <td>Durham</td>\n      <td>14</td>\n      <td>36</td>\n      <td>0.388889</td>\n    </tr>\n  </tbody>\n</table>\n</div>"
     },
     "execution_count": 13,
     "metadata": {},
     "output_type": "execute_result"
    }
   ],
   "source": [
    "city_sales = df.groupby('city')['sales'].sum().rename('city_total_sales').reset_index()\n",
    "df_new = pd.merge(df, city_sales, how='left')\n",
    "df_new['pct'] = df_new['sales'] / df_new['city_total_sales']\n",
    "df_new"
   ],
   "metadata": {
    "collapsed": false,
    "ExecuteTime": {
     "end_time": "2023-06-30T07:27:53.051563400Z",
     "start_time": "2023-06-30T07:27:53.008082100Z"
    }
   }
  },
  {
   "cell_type": "markdown",
   "source": [
    "Opt 2: groupby(), transform()"
   ],
   "metadata": {
    "collapsed": false
   }
  },
  {
   "cell_type": "code",
   "execution_count": 14,
   "outputs": [
    {
     "data": {
      "text/plain": "   restaurant_id address    city  sales  city_total_sales       pct\n0            101       A  London     10               558  0.017921\n1            102       B  London    500               558  0.896057\n2            103       C  London     48               558  0.086022\n3            104       D  Oxford     12                33  0.363636\n4            105       E  Oxford     21                33  0.636364\n5            106       F  Durham     22                36  0.611111\n6            107       G  Durham     14                36  0.388889",
      "text/html": "<div>\n<style scoped>\n    .dataframe tbody tr th:only-of-type {\n        vertical-align: middle;\n    }\n\n    .dataframe tbody tr th {\n        vertical-align: top;\n    }\n\n    .dataframe thead th {\n        text-align: right;\n    }\n</style>\n<table border=\"1\" class=\"dataframe\">\n  <thead>\n    <tr style=\"text-align: right;\">\n      <th></th>\n      <th>restaurant_id</th>\n      <th>address</th>\n      <th>city</th>\n      <th>sales</th>\n      <th>city_total_sales</th>\n      <th>pct</th>\n    </tr>\n  </thead>\n  <tbody>\n    <tr>\n      <th>0</th>\n      <td>101</td>\n      <td>A</td>\n      <td>London</td>\n      <td>10</td>\n      <td>558</td>\n      <td>0.017921</td>\n    </tr>\n    <tr>\n      <th>1</th>\n      <td>102</td>\n      <td>B</td>\n      <td>London</td>\n      <td>500</td>\n      <td>558</td>\n      <td>0.896057</td>\n    </tr>\n    <tr>\n      <th>2</th>\n      <td>103</td>\n      <td>C</td>\n      <td>London</td>\n      <td>48</td>\n      <td>558</td>\n      <td>0.086022</td>\n    </tr>\n    <tr>\n      <th>3</th>\n      <td>104</td>\n      <td>D</td>\n      <td>Oxford</td>\n      <td>12</td>\n      <td>33</td>\n      <td>0.363636</td>\n    </tr>\n    <tr>\n      <th>4</th>\n      <td>105</td>\n      <td>E</td>\n      <td>Oxford</td>\n      <td>21</td>\n      <td>33</td>\n      <td>0.636364</td>\n    </tr>\n    <tr>\n      <th>5</th>\n      <td>106</td>\n      <td>F</td>\n      <td>Durham</td>\n      <td>22</td>\n      <td>36</td>\n      <td>0.611111</td>\n    </tr>\n    <tr>\n      <th>6</th>\n      <td>107</td>\n      <td>G</td>\n      <td>Durham</td>\n      <td>14</td>\n      <td>36</td>\n      <td>0.388889</td>\n    </tr>\n  </tbody>\n</table>\n</div>"
     },
     "execution_count": 14,
     "metadata": {},
     "output_type": "execute_result"
    }
   ],
   "source": [
    "df['city_total_sales'] = df.groupby('city')['sales'].transform('sum')\n",
    "df['pct'] = df['sales'] / df['city_total_sales']\n",
    "df"
   ],
   "metadata": {
    "collapsed": false,
    "ExecuteTime": {
     "end_time": "2023-06-30T07:27:53.051563400Z",
     "start_time": "2023-06-30T07:27:53.024555800Z"
    }
   }
  },
  {
   "cell_type": "code",
   "execution_count": 15,
   "outputs": [
    {
     "data": {
      "text/plain": "city\nDurham     36\nLondon    558\nOxford     33\nName: sales, dtype: int64"
     },
     "execution_count": 15,
     "metadata": {},
     "output_type": "execute_result"
    }
   ],
   "source": [
    "df.groupby('city')['sales'].sum()"
   ],
   "metadata": {
    "collapsed": false,
    "ExecuteTime": {
     "end_time": "2023-06-30T07:27:53.051563400Z",
     "start_time": "2023-06-30T07:27:53.032291Z"
    }
   }
  },
  {
   "cell_type": "code",
   "execution_count": 16,
   "outputs": [
    {
     "data": {
      "text/plain": "0    558\n1    558\n2    558\n3     33\n4     33\n5     36\n6     36\nName: sales, dtype: int64"
     },
     "execution_count": 16,
     "metadata": {},
     "output_type": "execute_result"
    }
   ],
   "source": [
    "df.groupby('city')['sales'].transform('sum')"
   ],
   "metadata": {
    "collapsed": false,
    "ExecuteTime": {
     "end_time": "2023-06-30T07:27:53.051563400Z",
     "start_time": "2023-06-30T07:27:53.039646400Z"
    }
   }
  },
  {
   "cell_type": "code",
   "execution_count": 16,
   "outputs": [],
   "source": [],
   "metadata": {
    "collapsed": false,
    "ExecuteTime": {
     "end_time": "2023-06-30T07:27:53.051563400Z",
     "start_time": "2023-06-30T07:27:53.048068700Z"
    }
   }
  }
 ],
 "metadata": {
  "kernelspec": {
   "display_name": "Python 3",
   "language": "python",
   "name": "python3"
  },
  "language_info": {
   "codemirror_mode": {
    "name": "ipython",
    "version": 2
   },
   "file_extension": ".py",
   "mimetype": "text/x-python",
   "name": "python",
   "nbconvert_exporter": "python",
   "pygments_lexer": "ipython2",
   "version": "2.7.6"
  }
 },
 "nbformat": 4,
 "nbformat_minor": 0
}
