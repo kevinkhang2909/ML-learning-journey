{
 "cells": [
  {
   "cell_type": "markdown",
   "id": "b9ec48ec-445b-4b56-a996-7c69081d7cda",
   "metadata": {
    "tags": []
   },
   "source": [
    "# Pandas things\n",
    "\n",
    "`Pandas` is built around DataFrame, a concept inspired by R's Data Frame, which is, in turn, similar to tables in relational databases. A DataFrame is a two-dimentional table with rows and columns."
   ]
  },
  {
   "cell_type": "code",
   "execution_count": 1,
   "id": "ea6b3372-c7b5-4ca5-91b6-f630f299b0a3",
   "metadata": {},
   "outputs": [],
   "source": [
    "import pandas as pd\n",
    "import numpy as np"
   ]
  },
  {
   "cell_type": "code",
   "execution_count": 2,
   "id": "4da63369-bd56-4257-bd94-bded7b414f7a",
   "metadata": {},
   "outputs": [
    {
     "name": "stdout",
     "output_type": "stream",
     "text": [
      "(244, 7)\n"
     ]
    },
    {
     "data": {
      "text/html": [
       "<div>\n",
       "<style scoped>\n",
       "    .dataframe tbody tr th:only-of-type {\n",
       "        vertical-align: middle;\n",
       "    }\n",
       "\n",
       "    .dataframe tbody tr th {\n",
       "        vertical-align: top;\n",
       "    }\n",
       "\n",
       "    .dataframe thead th {\n",
       "        text-align: right;\n",
       "    }\n",
       "</style>\n",
       "<table border=\"1\" class=\"dataframe\">\n",
       "  <thead>\n",
       "    <tr style=\"text-align: right;\">\n",
       "      <th></th>\n",
       "      <th>total_bill</th>\n",
       "      <th>tip</th>\n",
       "      <th>sex</th>\n",
       "      <th>smoker</th>\n",
       "      <th>day</th>\n",
       "      <th>time</th>\n",
       "      <th>size</th>\n",
       "    </tr>\n",
       "  </thead>\n",
       "  <tbody>\n",
       "    <tr>\n",
       "      <th>0</th>\n",
       "      <td>16.99</td>\n",
       "      <td>1.01</td>\n",
       "      <td>Female</td>\n",
       "      <td>No</td>\n",
       "      <td>Sun</td>\n",
       "      <td>Dinner</td>\n",
       "      <td>2</td>\n",
       "    </tr>\n",
       "    <tr>\n",
       "      <th>1</th>\n",
       "      <td>10.34</td>\n",
       "      <td>1.66</td>\n",
       "      <td>Male</td>\n",
       "      <td>No</td>\n",
       "      <td>Sun</td>\n",
       "      <td>Dinner</td>\n",
       "      <td>3</td>\n",
       "    </tr>\n",
       "    <tr>\n",
       "      <th>2</th>\n",
       "      <td>21.01</td>\n",
       "      <td>3.50</td>\n",
       "      <td>Male</td>\n",
       "      <td>No</td>\n",
       "      <td>Sun</td>\n",
       "      <td>Dinner</td>\n",
       "      <td>3</td>\n",
       "    </tr>\n",
       "    <tr>\n",
       "      <th>3</th>\n",
       "      <td>23.68</td>\n",
       "      <td>3.31</td>\n",
       "      <td>Male</td>\n",
       "      <td>No</td>\n",
       "      <td>Sun</td>\n",
       "      <td>Dinner</td>\n",
       "      <td>2</td>\n",
       "    </tr>\n",
       "    <tr>\n",
       "      <th>4</th>\n",
       "      <td>24.59</td>\n",
       "      <td>3.61</td>\n",
       "      <td>Female</td>\n",
       "      <td>No</td>\n",
       "      <td>Sun</td>\n",
       "      <td>Dinner</td>\n",
       "      <td>4</td>\n",
       "    </tr>\n",
       "  </tbody>\n",
       "</table>\n",
       "</div>"
      ],
      "text/plain": [
       "   total_bill   tip     sex smoker  day    time  size\n",
       "0       16.99  1.01  Female     No  Sun  Dinner     2\n",
       "1       10.34  1.66    Male     No  Sun  Dinner     3\n",
       "2       21.01  3.50    Male     No  Sun  Dinner     3\n",
       "3       23.68  3.31    Male     No  Sun  Dinner     2\n",
       "4       24.59  3.61  Female     No  Sun  Dinner     4"
      ]
     },
     "execution_count": 2,
     "metadata": {},
     "output_type": "execute_result"
    }
   ],
   "source": [
    "url = 'https://raw.githubusercontent.com/pandas-dev/pandas/main/pandas/tests/io/data/csv/tips.csv'\n",
    "df = pd.read_csv(url)\n",
    "\n",
    "print(df.shape)\n",
    "df.head()"
   ]
  },
  {
   "cell_type": "markdown",
   "id": "e3704d60-8798-44f9-8f0b-ef92b9509f44",
   "metadata": {},
   "source": [
    "One important thing to know about pandas is that it's column-major.\n",
    "Column-major means consecutive elements in a column are stored next to each other in memory. Row-major means the same but for elements in a row.\n",
    "\n",
    "For our dataset, accessing a row takes about 40x longer than accessing a column in our DataFrame"
   ]
  },
  {
   "cell_type": "code",
   "execution_count": 3,
   "id": "ff8bbe43-c387-40e7-99b5-327c442cddc0",
   "metadata": {},
   "outputs": [
    {
     "name": "stdout",
     "output_type": "stream",
     "text": [
      "1.97 µs ± 327 ns per loop (mean ± std. dev. of 7 runs, 1,000 loops each)\n",
      "76.1 µs ± 2.63 µs per loop (mean ± std. dev. of 7 runs, 1,000 loops each)\n"
     ]
    }
   ],
   "source": [
    "# Get the column `date`, 1000 loops\n",
    "%timeit -n1000 df[\"total_bill\"]\n",
    "\n",
    "# Get the first row, 1000 loops\n",
    "%timeit -n1000 df.iloc[0]"
   ]
  },
  {
   "cell_type": "markdown",
   "id": "ea49e8bb-c967-4bc2-93c7-d583b506a83d",
   "metadata": {
    "tags": []
   },
   "source": [
    "# 1. Iterating over rows"
   ]
  },
  {
   "cell_type": "markdown",
   "id": "0d956a4f-25f0-48ce-a116-d5951f7b3757",
   "metadata": {},
   "source": [
    "`.apply()` vs. `map()`"
   ]
  },
  {
   "cell_type": "code",
   "execution_count": 4,
   "id": "b410db79-c78f-4126-a72a-01f952501b6a",
   "metadata": {},
   "outputs": [
    {
     "name": "stdout",
     "output_type": "stream",
     "text": [
      "178 µs ± 74.9 µs per loop (mean ± std. dev. of 7 runs, 1 loop each)\n",
      "244 µs ± 87.9 µs per loop (mean ± std. dev. of 7 runs, 1 loop each)\n"
     ]
    }
   ],
   "source": [
    "%timeit -n1 df['total_bill'].map(round)\n",
    "%timeit -n1 df['total_bill'].apply(round)"
   ]
  },
  {
   "cell_type": "markdown",
   "id": "be5a602e-ac95-4510-a774-c3df1d3cbbd6",
   "metadata": {},
   "source": [
    "`.iterrows()` returns a generator that generates row by row and it's very slow\n",
    "\n",
    "`.itertuples()` returns rows in the namedtuple format. It still lets you access each row and it's about 40x faster"
   ]
  },
  {
   "cell_type": "code",
   "execution_count": 5,
   "id": "6ffb9f20-14e2-4248-891b-b40738e56b95",
   "metadata": {},
   "outputs": [
    {
     "name": "stdout",
     "output_type": "stream",
     "text": [
      "6.18 ms ± 508 µs per loop (mean ± std. dev. of 7 runs, 1 loop each)\n",
      "543 µs ± 47.6 µs per loop (mean ± std. dev. of 7 runs, 1 loop each)\n",
      "173 µs ± 35.1 µs per loop (mean ± std. dev. of 7 runs, 1 loop each)\n",
      "The slowest run took 5.69 times longer than the fastest. This could mean that an intermediate result is being cached.\n",
      "248 µs ± 173 µs per loop (mean ± std. dev. of 7 runs, 1 loop each)\n"
     ]
    }
   ],
   "source": [
    "%timeit -n1 [row for index, row in df.iterrows()]\n",
    "%timeit -n1 [row for row in df.itertuples()]\n",
    "%timeit -n1 [row for row in df.values]\n",
    "%timeit -n1 [row for row in df.to_numpy()]"
   ]
  },
  {
   "cell_type": "markdown",
   "id": "7c66aa7e-df8b-419c-b4c8-a1b994771d94",
   "metadata": {
    "tags": []
   },
   "source": [
    "# 2. Ordering slicing operations\n",
    "\n",
    "Because pandas is column-major, if you want to do multiple slicing operations, always do the column-based slicing operations first.\n",
    "\n",
    "For example, if you want to get the review from the first row of the data, there are two slicing operations:\n",
    "\n",
    "- get row (row-based operation)\n",
    "- get total_bill (column-based operation)\n",
    "- get row -> get total_bill is 25x slower than get total_bill -> get row."
   ]
  },
  {
   "cell_type": "code",
   "execution_count": 6,
   "id": "fd4a6f12-3977-4bb8-a012-1fe7e8c69638",
   "metadata": {},
   "outputs": [
    {
     "name": "stdout",
     "output_type": "stream",
     "text": [
      "4.85 µs ± 482 ns per loop (mean ± std. dev. of 7 runs, 1,000 loops each)\n",
      "88 µs ± 5.15 µs per loop (mean ± std. dev. of 7 runs, 1,000 loops each)\n",
      "7.12 µs ± 255 ns per loop (mean ± std. dev. of 7 runs, 1,000 loops each)\n"
     ]
    }
   ],
   "source": [
    "%timeit -n1000 df[\"total_bill\"][0]\n",
    "%timeit -n1000 df.iloc[0][\"total_bill\"]\n",
    "%timeit -n1000 df.loc[0, \"total_bill\"]"
   ]
  },
  {
   "cell_type": "markdown",
   "id": "3e9eccd6-8c2f-458a-ae69-7ade7af24091",
   "metadata": {
    "tags": []
   },
   "source": [
    "# 3. Grouping and Aggregating"
   ]
  },
  {
   "cell_type": "markdown",
   "id": "65d44cb1-1888-4642-a4f3-9304419901c1",
   "metadata": {
    "tags": []
   },
   "source": [
    "## Splitting the data into groups based on some criteria."
   ]
  },
  {
   "cell_type": "code",
   "execution_count": 7,
   "id": "5a03938d-0681-468a-938e-312ebad7cf9c",
   "metadata": {},
   "outputs": [
    {
     "data": {
      "text/html": [
       "<div>\n",
       "<style scoped>\n",
       "    .dataframe tbody tr th:only-of-type {\n",
       "        vertical-align: middle;\n",
       "    }\n",
       "\n",
       "    .dataframe tbody tr th {\n",
       "        vertical-align: top;\n",
       "    }\n",
       "\n",
       "    .dataframe thead th {\n",
       "        text-align: right;\n",
       "    }\n",
       "</style>\n",
       "<table border=\"1\" class=\"dataframe\">\n",
       "  <thead>\n",
       "    <tr style=\"text-align: right;\">\n",
       "      <th></th>\n",
       "      <th>class</th>\n",
       "      <th>order</th>\n",
       "      <th>max_speed</th>\n",
       "    </tr>\n",
       "  </thead>\n",
       "  <tbody>\n",
       "    <tr>\n",
       "      <th>falcon</th>\n",
       "      <td>bird</td>\n",
       "      <td>Falconiformes</td>\n",
       "      <td>389.0</td>\n",
       "    </tr>\n",
       "    <tr>\n",
       "      <th>parrot</th>\n",
       "      <td>bird</td>\n",
       "      <td>Psittaciformes</td>\n",
       "      <td>24.0</td>\n",
       "    </tr>\n",
       "    <tr>\n",
       "      <th>lion</th>\n",
       "      <td>mammal</td>\n",
       "      <td>Carnivora</td>\n",
       "      <td>80.2</td>\n",
       "    </tr>\n",
       "    <tr>\n",
       "      <th>monkey</th>\n",
       "      <td>mammal</td>\n",
       "      <td>Primates</td>\n",
       "      <td>60.0</td>\n",
       "    </tr>\n",
       "    <tr>\n",
       "      <th>leopard</th>\n",
       "      <td>mammal</td>\n",
       "      <td>Carnivora</td>\n",
       "      <td>58.0</td>\n",
       "    </tr>\n",
       "  </tbody>\n",
       "</table>\n",
       "</div>"
      ],
      "text/plain": [
       "          class           order  max_speed\n",
       "falcon     bird   Falconiformes      389.0\n",
       "parrot     bird  Psittaciformes       24.0\n",
       "lion     mammal       Carnivora       80.2\n",
       "monkey   mammal        Primates       60.0\n",
       "leopard  mammal       Carnivora       58.0"
      ]
     },
     "execution_count": 7,
     "metadata": {},
     "output_type": "execute_result"
    }
   ],
   "source": [
    "df2 = pd.DataFrame(\n",
    "    [\n",
    "        (\"bird\", \"Falconiformes\", 389.0),\n",
    "        (\"bird\", \"Psittaciformes\", 24.0),\n",
    "        (\"mammal\", \"Carnivora\", 80.2),\n",
    "        (\"mammal\", \"Primates\", 60),\n",
    "        (\"mammal\", \"Carnivora\", 58),\n",
    "    ],\n",
    "    index=[\"falcon\", \"parrot\", \"lion\", \"monkey\", \"leopard\"],\n",
    "    columns=(\"class\", \"order\", \"max_speed\"),\n",
    ")\n",
    "df2"
   ]
  },
  {
   "cell_type": "code",
   "execution_count": 8,
   "id": "432fb8c2-9880-42b1-8dc9-1e14e4dc8d26",
   "metadata": {},
   "outputs": [],
   "source": [
    "group = df2.groupby(['class'])"
   ]
  },
  {
   "cell_type": "code",
   "execution_count": 9,
   "id": "ae4dc99b-1f15-4839-a401-4d76c6d31fe7",
   "metadata": {},
   "outputs": [
    {
     "data": {
      "text/html": [
       "<div>\n",
       "<style scoped>\n",
       "    .dataframe tbody tr th:only-of-type {\n",
       "        vertical-align: middle;\n",
       "    }\n",
       "\n",
       "    .dataframe tbody tr th {\n",
       "        vertical-align: top;\n",
       "    }\n",
       "\n",
       "    .dataframe thead th {\n",
       "        text-align: right;\n",
       "    }\n",
       "</style>\n",
       "<table border=\"1\" class=\"dataframe\">\n",
       "  <thead>\n",
       "    <tr style=\"text-align: right;\">\n",
       "      <th></th>\n",
       "      <th>class</th>\n",
       "      <th>order</th>\n",
       "      <th>max_speed</th>\n",
       "    </tr>\n",
       "  </thead>\n",
       "  <tbody>\n",
       "    <tr>\n",
       "      <th>falcon</th>\n",
       "      <td>bird</td>\n",
       "      <td>Falconiformes</td>\n",
       "      <td>389.0</td>\n",
       "    </tr>\n",
       "    <tr>\n",
       "      <th>parrot</th>\n",
       "      <td>bird</td>\n",
       "      <td>Psittaciformes</td>\n",
       "      <td>24.0</td>\n",
       "    </tr>\n",
       "  </tbody>\n",
       "</table>\n",
       "</div>"
      ],
      "text/plain": [
       "       class           order  max_speed\n",
       "falcon  bird   Falconiformes      389.0\n",
       "parrot  bird  Psittaciformes       24.0"
      ]
     },
     "execution_count": 9,
     "metadata": {},
     "output_type": "execute_result"
    }
   ],
   "source": [
    "group.get_group('bird')"
   ]
  },
  {
   "cell_type": "markdown",
   "id": "762da704-d92b-4eea-8e3f-f978beb21cba",
   "metadata": {
    "tags": []
   },
   "source": [
    "## Applying a function to each group independently."
   ]
  },
  {
   "cell_type": "code",
   "execution_count": 10,
   "id": "ac9af7de-2715-4e22-9c9b-aa3ccf078a6d",
   "metadata": {},
   "outputs": [
    {
     "data": {
      "text/html": [
       "<div>\n",
       "<style scoped>\n",
       "    .dataframe tbody tr th:only-of-type {\n",
       "        vertical-align: middle;\n",
       "    }\n",
       "\n",
       "    .dataframe tbody tr th {\n",
       "        vertical-align: top;\n",
       "    }\n",
       "\n",
       "    .dataframe thead th {\n",
       "        text-align: right;\n",
       "    }\n",
       "</style>\n",
       "<table border=\"1\" class=\"dataframe\">\n",
       "  <thead>\n",
       "    <tr style=\"text-align: right;\">\n",
       "      <th></th>\n",
       "      <th>max_speed</th>\n",
       "    </tr>\n",
       "    <tr>\n",
       "      <th>class</th>\n",
       "      <th></th>\n",
       "    </tr>\n",
       "  </thead>\n",
       "  <tbody>\n",
       "    <tr>\n",
       "      <th>bird</th>\n",
       "      <td>413.0</td>\n",
       "    </tr>\n",
       "    <tr>\n",
       "      <th>mammal</th>\n",
       "      <td>198.2</td>\n",
       "    </tr>\n",
       "  </tbody>\n",
       "</table>\n",
       "</div>"
      ],
      "text/plain": [
       "        max_speed\n",
       "class            \n",
       "bird        413.0\n",
       "mammal      198.2"
      ]
     },
     "execution_count": 10,
     "metadata": {},
     "output_type": "execute_result"
    }
   ],
   "source": [
    "# Some common aggregations, currently only sum, mean, std, and sem, have optimized Cython implementations:\n",
    "group.sum()"
   ]
  },
  {
   "cell_type": "code",
   "execution_count": 11,
   "id": "022d0d3b-790a-4acf-90f8-892cc3ede958",
   "metadata": {},
   "outputs": [
    {
     "data": {
      "text/plain": [
       "class\n",
       "bird      2\n",
       "mammal    3\n",
       "dtype: int64"
      ]
     },
     "execution_count": 11,
     "metadata": {},
     "output_type": "execute_result"
    }
   ],
   "source": [
    "group.size()"
   ]
  },
  {
   "cell_type": "code",
   "execution_count": 12,
   "id": "9c1fa9a1-bcf9-4f0d-84a9-f133000c10e6",
   "metadata": {},
   "outputs": [
    {
     "data": {
      "text/html": [
       "<div>\n",
       "<style scoped>\n",
       "    .dataframe tbody tr th:only-of-type {\n",
       "        vertical-align: middle;\n",
       "    }\n",
       "\n",
       "    .dataframe tbody tr th {\n",
       "        vertical-align: top;\n",
       "    }\n",
       "\n",
       "    .dataframe thead th {\n",
       "        text-align: right;\n",
       "    }\n",
       "</style>\n",
       "<table border=\"1\" class=\"dataframe\">\n",
       "  <thead>\n",
       "    <tr style=\"text-align: right;\">\n",
       "      <th></th>\n",
       "      <th>sum</th>\n",
       "      <th>mean</th>\n",
       "      <th>std</th>\n",
       "    </tr>\n",
       "    <tr>\n",
       "      <th>class</th>\n",
       "      <th></th>\n",
       "      <th></th>\n",
       "      <th></th>\n",
       "    </tr>\n",
       "  </thead>\n",
       "  <tbody>\n",
       "    <tr>\n",
       "      <th>bird</th>\n",
       "      <td>413.0</td>\n",
       "      <td>206.500000</td>\n",
       "      <td>258.093975</td>\n",
       "    </tr>\n",
       "    <tr>\n",
       "      <th>mammal</th>\n",
       "      <td>198.2</td>\n",
       "      <td>66.066667</td>\n",
       "      <td>12.280608</td>\n",
       "    </tr>\n",
       "  </tbody>\n",
       "</table>\n",
       "</div>"
      ],
      "text/plain": [
       "          sum        mean         std\n",
       "class                                \n",
       "bird    413.0  206.500000  258.093975\n",
       "mammal  198.2   66.066667   12.280608"
      ]
     },
     "execution_count": 12,
     "metadata": {},
     "output_type": "execute_result"
    }
   ],
   "source": [
    "group['max_speed'].agg([np.sum, np.mean, np.std])"
   ]
  },
  {
   "cell_type": "code",
   "execution_count": 13,
   "id": "8e080268-0f71-463c-9554-55cd363dc55c",
   "metadata": {},
   "outputs": [
    {
     "data": {
      "text/html": [
       "<div>\n",
       "<style scoped>\n",
       "    .dataframe tbody tr th:only-of-type {\n",
       "        vertical-align: middle;\n",
       "    }\n",
       "\n",
       "    .dataframe tbody tr th {\n",
       "        vertical-align: top;\n",
       "    }\n",
       "\n",
       "    .dataframe thead th {\n",
       "        text-align: right;\n",
       "    }\n",
       "</style>\n",
       "<table border=\"1\" class=\"dataframe\">\n",
       "  <thead>\n",
       "    <tr style=\"text-align: right;\">\n",
       "      <th></th>\n",
       "      <th>foo</th>\n",
       "      <th>bar</th>\n",
       "      <th>baz</th>\n",
       "    </tr>\n",
       "    <tr>\n",
       "      <th>class</th>\n",
       "      <th></th>\n",
       "      <th></th>\n",
       "      <th></th>\n",
       "    </tr>\n",
       "  </thead>\n",
       "  <tbody>\n",
       "    <tr>\n",
       "      <th>bird</th>\n",
       "      <td>413.0</td>\n",
       "      <td>206.500000</td>\n",
       "      <td>258.093975</td>\n",
       "    </tr>\n",
       "    <tr>\n",
       "      <th>mammal</th>\n",
       "      <td>198.2</td>\n",
       "      <td>66.066667</td>\n",
       "      <td>12.280608</td>\n",
       "    </tr>\n",
       "  </tbody>\n",
       "</table>\n",
       "</div>"
      ],
      "text/plain": [
       "          foo         bar         baz\n",
       "class                                \n",
       "bird    413.0  206.500000  258.093975\n",
       "mammal  198.2   66.066667   12.280608"
      ]
     },
     "execution_count": 13,
     "metadata": {},
     "output_type": "execute_result"
    }
   ],
   "source": [
    "group['max_speed'].agg([np.sum, np.mean, np.std]).rename(columns={\"sum\": \"foo\", \"mean\": \"bar\", \"std\": \"baz\"})"
   ]
  },
  {
   "cell_type": "code",
   "execution_count": 14,
   "id": "789c8a6e-205e-41a5-ba5f-6408c5056afd",
   "metadata": {},
   "outputs": [
    {
     "data": {
      "text/html": [
       "<div>\n",
       "<style scoped>\n",
       "    .dataframe tbody tr th:only-of-type {\n",
       "        vertical-align: middle;\n",
       "    }\n",
       "\n",
       "    .dataframe tbody tr th {\n",
       "        vertical-align: top;\n",
       "    }\n",
       "\n",
       "    .dataframe thead th {\n",
       "        text-align: right;\n",
       "    }\n",
       "</style>\n",
       "<table border=\"1\" class=\"dataframe\">\n",
       "  <thead>\n",
       "    <tr style=\"text-align: right;\">\n",
       "      <th></th>\n",
       "      <th>max_speed</th>\n",
       "    </tr>\n",
       "    <tr>\n",
       "      <th>class</th>\n",
       "      <th></th>\n",
       "    </tr>\n",
       "  </thead>\n",
       "  <tbody>\n",
       "    <tr>\n",
       "      <th>bird</th>\n",
       "      <td>258.093975</td>\n",
       "    </tr>\n",
       "    <tr>\n",
       "      <th>mammal</th>\n",
       "      <td>12.280608</td>\n",
       "    </tr>\n",
       "  </tbody>\n",
       "</table>\n",
       "</div>"
      ],
      "text/plain": [
       "         max_speed\n",
       "class             \n",
       "bird    258.093975\n",
       "mammal   12.280608"
      ]
     },
     "execution_count": 14,
     "metadata": {},
     "output_type": "execute_result"
    }
   ],
   "source": [
    "group.agg({\"max_speed\": \"std\"})"
   ]
  },
  {
   "cell_type": "markdown",
   "id": "0875723a-a905-4212-9807-416bbeece645",
   "metadata": {
    "tags": []
   },
   "source": [
    "## Combining the results into a data structure."
   ]
  },
  {
   "cell_type": "code",
   "execution_count": 15,
   "id": "d44c3829-697f-4f6a-bfad-b6bf80104a40",
   "metadata": {},
   "outputs": [
    {
     "data": {
      "text/html": [
       "<div>\n",
       "<style scoped>\n",
       "    .dataframe tbody tr th:only-of-type {\n",
       "        vertical-align: middle;\n",
       "    }\n",
       "\n",
       "    .dataframe tbody tr th {\n",
       "        vertical-align: top;\n",
       "    }\n",
       "\n",
       "    .dataframe thead th {\n",
       "        text-align: right;\n",
       "    }\n",
       "</style>\n",
       "<table border=\"1\" class=\"dataframe\">\n",
       "  <thead>\n",
       "    <tr style=\"text-align: right;\">\n",
       "      <th></th>\n",
       "      <th>order</th>\n",
       "    </tr>\n",
       "    <tr>\n",
       "      <th>class</th>\n",
       "      <th></th>\n",
       "    </tr>\n",
       "  </thead>\n",
       "  <tbody>\n",
       "    <tr>\n",
       "      <th>bird</th>\n",
       "      <td>{Psittaciformes, Falconiformes}</td>\n",
       "    </tr>\n",
       "    <tr>\n",
       "      <th>mammal</th>\n",
       "      <td>{Primates, Carnivora}</td>\n",
       "    </tr>\n",
       "  </tbody>\n",
       "</table>\n",
       "</div>"
      ],
      "text/plain": [
       "                                  order\n",
       "class                                  \n",
       "bird    {Psittaciformes, Falconiformes}\n",
       "mammal            {Primates, Carnivora}"
      ]
     },
     "execution_count": 15,
     "metadata": {},
     "output_type": "execute_result"
    }
   ],
   "source": [
    "tmp = group['order'].apply(set).to_frame()\n",
    "tmp"
   ]
  },
  {
   "cell_type": "code",
   "execution_count": 16,
   "id": "ecd1b45f-6baa-4ada-beb1-36c3249743b4",
   "metadata": {},
   "outputs": [
    {
     "data": {
      "text/html": [
       "<div>\n",
       "<style scoped>\n",
       "    .dataframe tbody tr th:only-of-type {\n",
       "        vertical-align: middle;\n",
       "    }\n",
       "\n",
       "    .dataframe tbody tr th {\n",
       "        vertical-align: top;\n",
       "    }\n",
       "\n",
       "    .dataframe thead th {\n",
       "        text-align: right;\n",
       "    }\n",
       "</style>\n",
       "<table border=\"1\" class=\"dataframe\">\n",
       "  <thead>\n",
       "    <tr style=\"text-align: right;\">\n",
       "      <th></th>\n",
       "      <th>order</th>\n",
       "    </tr>\n",
       "    <tr>\n",
       "      <th>class</th>\n",
       "      <th></th>\n",
       "    </tr>\n",
       "  </thead>\n",
       "  <tbody>\n",
       "    <tr>\n",
       "      <th>bird</th>\n",
       "      <td>Psittaciformes</td>\n",
       "    </tr>\n",
       "    <tr>\n",
       "      <th>bird</th>\n",
       "      <td>Falconiformes</td>\n",
       "    </tr>\n",
       "    <tr>\n",
       "      <th>mammal</th>\n",
       "      <td>Primates</td>\n",
       "    </tr>\n",
       "    <tr>\n",
       "      <th>mammal</th>\n",
       "      <td>Carnivora</td>\n",
       "    </tr>\n",
       "  </tbody>\n",
       "</table>\n",
       "</div>"
      ],
      "text/plain": [
       "                 order\n",
       "class                 \n",
       "bird    Psittaciformes\n",
       "bird     Falconiformes\n",
       "mammal        Primates\n",
       "mammal       Carnivora"
      ]
     },
     "execution_count": 16,
     "metadata": {},
     "output_type": "execute_result"
    }
   ],
   "source": [
    "tmp.explode('order')"
   ]
  },
  {
   "cell_type": "code",
   "execution_count": 17,
   "id": "9b4a1088-1380-4fc9-bc40-31e09226202c",
   "metadata": {},
   "outputs": [
    {
     "data": {
      "text/plain": [
       "0      0\n",
       "1      1\n",
       "2      1\n",
       "3      1\n",
       "4      0\n",
       "      ..\n",
       "239    0\n",
       "240    1\n",
       "241    0\n",
       "242    0\n",
       "243    1\n",
       "Name: sex, Length: 244, dtype: int64"
      ]
     },
     "execution_count": 17,
     "metadata": {},
     "output_type": "execute_result"
    }
   ],
   "source": [
    "df.groupby(['day'])['sex'].transform(lambda x: pd.factorize(x)[0])"
   ]
  },
  {
   "cell_type": "markdown",
   "id": "4812282e-f9fc-4653-8109-522ed748e691",
   "metadata": {},
   "source": [
    "# 4. Pivot table"
   ]
  },
  {
   "cell_type": "code",
   "execution_count": 18,
   "id": "e2359af5-4f51-41da-9c36-09aea64829dd",
   "metadata": {},
   "outputs": [
    {
     "data": {
      "text/html": [
       "<div>\n",
       "<style scoped>\n",
       "    .dataframe tbody tr th:only-of-type {\n",
       "        vertical-align: middle;\n",
       "    }\n",
       "\n",
       "    .dataframe tbody tr th {\n",
       "        vertical-align: top;\n",
       "    }\n",
       "\n",
       "    .dataframe thead th {\n",
       "        text-align: right;\n",
       "    }\n",
       "</style>\n",
       "<table border=\"1\" class=\"dataframe\">\n",
       "  <thead>\n",
       "    <tr style=\"text-align: right;\">\n",
       "      <th>smoker</th>\n",
       "      <th>sex</th>\n",
       "      <th>No</th>\n",
       "      <th>Yes</th>\n",
       "    </tr>\n",
       "  </thead>\n",
       "  <tbody>\n",
       "    <tr>\n",
       "      <th>0</th>\n",
       "      <td>Female</td>\n",
       "      <td>18.105185</td>\n",
       "      <td>17.977879</td>\n",
       "    </tr>\n",
       "    <tr>\n",
       "      <th>1</th>\n",
       "      <td>Male</td>\n",
       "      <td>19.791237</td>\n",
       "      <td>22.284500</td>\n",
       "    </tr>\n",
       "  </tbody>\n",
       "</table>\n",
       "</div>"
      ],
      "text/plain": [
       "smoker     sex         No        Yes\n",
       "0       Female  18.105185  17.977879\n",
       "1         Male  19.791237  22.284500"
      ]
     },
     "execution_count": 18,
     "metadata": {},
     "output_type": "execute_result"
    }
   ],
   "source": [
    "pivot = df.pivot_table(index=\"sex\", columns=\"smoker\", values='total_bill').reset_index()\n",
    "pivot"
   ]
  },
  {
   "cell_type": "code",
   "execution_count": 19,
   "id": "9f41f8b3-e935-4b2e-895f-ae7bfc111106",
   "metadata": {},
   "outputs": [
    {
     "data": {
      "text/html": [
       "<div>\n",
       "<style scoped>\n",
       "    .dataframe tbody tr th:only-of-type {\n",
       "        vertical-align: middle;\n",
       "    }\n",
       "\n",
       "    .dataframe tbody tr th {\n",
       "        vertical-align: top;\n",
       "    }\n",
       "\n",
       "    .dataframe thead th {\n",
       "        text-align: right;\n",
       "    }\n",
       "</style>\n",
       "<table border=\"1\" class=\"dataframe\">\n",
       "  <thead>\n",
       "    <tr style=\"text-align: right;\">\n",
       "      <th></th>\n",
       "      <th>smoker</th>\n",
       "      <th>value</th>\n",
       "    </tr>\n",
       "  </thead>\n",
       "  <tbody>\n",
       "    <tr>\n",
       "      <th>0</th>\n",
       "      <td>sex</td>\n",
       "      <td>Female</td>\n",
       "    </tr>\n",
       "    <tr>\n",
       "      <th>1</th>\n",
       "      <td>sex</td>\n",
       "      <td>Male</td>\n",
       "    </tr>\n",
       "    <tr>\n",
       "      <th>2</th>\n",
       "      <td>No</td>\n",
       "      <td>18.105185</td>\n",
       "    </tr>\n",
       "    <tr>\n",
       "      <th>3</th>\n",
       "      <td>No</td>\n",
       "      <td>19.791237</td>\n",
       "    </tr>\n",
       "    <tr>\n",
       "      <th>4</th>\n",
       "      <td>Yes</td>\n",
       "      <td>17.977879</td>\n",
       "    </tr>\n",
       "    <tr>\n",
       "      <th>5</th>\n",
       "      <td>Yes</td>\n",
       "      <td>22.2845</td>\n",
       "    </tr>\n",
       "  </tbody>\n",
       "</table>\n",
       "</div>"
      ],
      "text/plain": [
       "  smoker      value\n",
       "0    sex     Female\n",
       "1    sex       Male\n",
       "2     No  18.105185\n",
       "3     No  19.791237\n",
       "4    Yes  17.977879\n",
       "5    Yes    22.2845"
      ]
     },
     "execution_count": 19,
     "metadata": {},
     "output_type": "execute_result"
    }
   ],
   "source": [
    "pd.melt(pivot)"
   ]
  },
  {
   "cell_type": "code",
   "execution_count": null,
   "id": "d036d37f-3e79-49ff-95f0-59106fcb1c4b",
   "metadata": {},
   "outputs": [],
   "source": []
  }
 ],
 "metadata": {
  "kernelspec": {
   "display_name": "Python 3 (ipykernel)",
   "language": "python",
   "name": "python3"
  },
  "language_info": {
   "codemirror_mode": {
    "name": "ipython",
    "version": 3
   },
   "file_extension": ".py",
   "mimetype": "text/x-python",
   "name": "python",
   "nbconvert_exporter": "python",
   "pygments_lexer": "ipython3",
   "version": "3.9.7"
  }
 },
 "nbformat": 4,
 "nbformat_minor": 5
}
