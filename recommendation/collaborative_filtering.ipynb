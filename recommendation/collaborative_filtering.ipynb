{
 "cells": [
  {
   "cell_type": "code",
   "execution_count": 1,
   "metadata": {
    "collapsed": true
   },
   "outputs": [],
   "source": [
    "from pathlib import Path\n",
    "import pandas as pd"
   ]
  },
  {
   "cell_type": "code",
   "execution_count": 2,
   "outputs": [
    {
     "data": {
      "text/plain": "   user_id  movie_id  rating  unix_timestamp\n0        1         1       5       874965758\n1        1         2       3       876893171\n2        1         3       4       878542960\n3        1         4       3       876893119\n4        1         5       3       889751712",
      "text/html": "<div>\n<style scoped>\n    .dataframe tbody tr th:only-of-type {\n        vertical-align: middle;\n    }\n\n    .dataframe tbody tr th {\n        vertical-align: top;\n    }\n\n    .dataframe thead th {\n        text-align: right;\n    }\n</style>\n<table border=\"1\" class=\"dataframe\">\n  <thead>\n    <tr style=\"text-align: right;\">\n      <th></th>\n      <th>user_id</th>\n      <th>movie_id</th>\n      <th>rating</th>\n      <th>unix_timestamp</th>\n    </tr>\n  </thead>\n  <tbody>\n    <tr>\n      <th>0</th>\n      <td>1</td>\n      <td>1</td>\n      <td>5</td>\n      <td>874965758</td>\n    </tr>\n    <tr>\n      <th>1</th>\n      <td>1</td>\n      <td>2</td>\n      <td>3</td>\n      <td>876893171</td>\n    </tr>\n    <tr>\n      <th>2</th>\n      <td>1</td>\n      <td>3</td>\n      <td>4</td>\n      <td>878542960</td>\n    </tr>\n    <tr>\n      <th>3</th>\n      <td>1</td>\n      <td>4</td>\n      <td>3</td>\n      <td>876893119</td>\n    </tr>\n    <tr>\n      <th>4</th>\n      <td>1</td>\n      <td>5</td>\n      <td>3</td>\n      <td>889751712</td>\n    </tr>\n  </tbody>\n</table>\n</div>"
     },
     "execution_count": 2,
     "metadata": {},
     "output_type": "execute_result"
    }
   ],
   "source": [
    "path = Path.home() / 'OneDrive - Seagroup/ai/kaggle_dataset/movie_lens/ml-100k'\n",
    "r_cols = ['user_id', 'movie_id', 'rating', 'unix_timestamp']\n",
    "ratings_base = pd.read_csv(path / 'ua.base', sep='\\t', names=r_cols, encoding='latin-1')\n",
    "ratings_test = pd.read_csv(path / 'ua.test', sep='\\t', names=r_cols, encoding='latin-1')\n",
    "ratings_base.head()"
   ],
   "metadata": {
    "collapsed": false
   }
  },
  {
   "cell_type": "code",
   "execution_count": 9,
   "outputs": [
    {
     "data": {
      "text/plain": "   movie_id        movie title release date  video release date  \\\n0         1   Toy Story (1995)  01-Jan-1995                 NaN   \n1         2   GoldenEye (1995)  01-Jan-1995                 NaN   \n2         3  Four Rooms (1995)  01-Jan-1995                 NaN   \n3         4  Get Shorty (1995)  01-Jan-1995                 NaN   \n4         5     Copycat (1995)  01-Jan-1995                 NaN   \n\n                                            IMDb URL  unknown  Action  \\\n0  http://us.imdb.com/M/title-exact?Toy%20Story%2...        0       0   \n1  http://us.imdb.com/M/title-exact?GoldenEye%20(...        0       1   \n2  http://us.imdb.com/M/title-exact?Four%20Rooms%...        0       0   \n3  http://us.imdb.com/M/title-exact?Get%20Shorty%...        0       1   \n4  http://us.imdb.com/M/title-exact?Copycat%20(1995)        0       0   \n\n   Adventure  Animation  Children's  ...  Fantasy  Film-Noir  Horror  Musical  \\\n0          0          1           1  ...        0          0       0        0   \n1          1          0           0  ...        0          0       0        0   \n2          0          0           0  ...        0          0       0        0   \n3          0          0           0  ...        0          0       0        0   \n4          0          0           0  ...        0          0       0        0   \n\n   Mystery  Romance  Sci-Fi  Thriller  War  Western  \n0        0        0       0         0    0        0  \n1        0        0       0         1    0        0  \n2        0        0       0         1    0        0  \n3        0        0       0         0    0        0  \n4        0        0       0         1    0        0  \n\n[5 rows x 24 columns]",
      "text/html": "<div>\n<style scoped>\n    .dataframe tbody tr th:only-of-type {\n        vertical-align: middle;\n    }\n\n    .dataframe tbody tr th {\n        vertical-align: top;\n    }\n\n    .dataframe thead th {\n        text-align: right;\n    }\n</style>\n<table border=\"1\" class=\"dataframe\">\n  <thead>\n    <tr style=\"text-align: right;\">\n      <th></th>\n      <th>movie_id</th>\n      <th>movie title</th>\n      <th>release date</th>\n      <th>video release date</th>\n      <th>IMDb URL</th>\n      <th>unknown</th>\n      <th>Action</th>\n      <th>Adventure</th>\n      <th>Animation</th>\n      <th>Children's</th>\n      <th>...</th>\n      <th>Fantasy</th>\n      <th>Film-Noir</th>\n      <th>Horror</th>\n      <th>Musical</th>\n      <th>Mystery</th>\n      <th>Romance</th>\n      <th>Sci-Fi</th>\n      <th>Thriller</th>\n      <th>War</th>\n      <th>Western</th>\n    </tr>\n  </thead>\n  <tbody>\n    <tr>\n      <th>0</th>\n      <td>1</td>\n      <td>Toy Story (1995)</td>\n      <td>01-Jan-1995</td>\n      <td>NaN</td>\n      <td>http://us.imdb.com/M/title-exact?Toy%20Story%2...</td>\n      <td>0</td>\n      <td>0</td>\n      <td>0</td>\n      <td>1</td>\n      <td>1</td>\n      <td>...</td>\n      <td>0</td>\n      <td>0</td>\n      <td>0</td>\n      <td>0</td>\n      <td>0</td>\n      <td>0</td>\n      <td>0</td>\n      <td>0</td>\n      <td>0</td>\n      <td>0</td>\n    </tr>\n    <tr>\n      <th>1</th>\n      <td>2</td>\n      <td>GoldenEye (1995)</td>\n      <td>01-Jan-1995</td>\n      <td>NaN</td>\n      <td>http://us.imdb.com/M/title-exact?GoldenEye%20(...</td>\n      <td>0</td>\n      <td>1</td>\n      <td>1</td>\n      <td>0</td>\n      <td>0</td>\n      <td>...</td>\n      <td>0</td>\n      <td>0</td>\n      <td>0</td>\n      <td>0</td>\n      <td>0</td>\n      <td>0</td>\n      <td>0</td>\n      <td>1</td>\n      <td>0</td>\n      <td>0</td>\n    </tr>\n    <tr>\n      <th>2</th>\n      <td>3</td>\n      <td>Four Rooms (1995)</td>\n      <td>01-Jan-1995</td>\n      <td>NaN</td>\n      <td>http://us.imdb.com/M/title-exact?Four%20Rooms%...</td>\n      <td>0</td>\n      <td>0</td>\n      <td>0</td>\n      <td>0</td>\n      <td>0</td>\n      <td>...</td>\n      <td>0</td>\n      <td>0</td>\n      <td>0</td>\n      <td>0</td>\n      <td>0</td>\n      <td>0</td>\n      <td>0</td>\n      <td>1</td>\n      <td>0</td>\n      <td>0</td>\n    </tr>\n    <tr>\n      <th>3</th>\n      <td>4</td>\n      <td>Get Shorty (1995)</td>\n      <td>01-Jan-1995</td>\n      <td>NaN</td>\n      <td>http://us.imdb.com/M/title-exact?Get%20Shorty%...</td>\n      <td>0</td>\n      <td>1</td>\n      <td>0</td>\n      <td>0</td>\n      <td>0</td>\n      <td>...</td>\n      <td>0</td>\n      <td>0</td>\n      <td>0</td>\n      <td>0</td>\n      <td>0</td>\n      <td>0</td>\n      <td>0</td>\n      <td>0</td>\n      <td>0</td>\n      <td>0</td>\n    </tr>\n    <tr>\n      <th>4</th>\n      <td>5</td>\n      <td>Copycat (1995)</td>\n      <td>01-Jan-1995</td>\n      <td>NaN</td>\n      <td>http://us.imdb.com/M/title-exact?Copycat%20(1995)</td>\n      <td>0</td>\n      <td>0</td>\n      <td>0</td>\n      <td>0</td>\n      <td>0</td>\n      <td>...</td>\n      <td>0</td>\n      <td>0</td>\n      <td>0</td>\n      <td>0</td>\n      <td>0</td>\n      <td>0</td>\n      <td>0</td>\n      <td>1</td>\n      <td>0</td>\n      <td>0</td>\n    </tr>\n  </tbody>\n</table>\n<p>5 rows × 24 columns</p>\n</div>"
     },
     "execution_count": 9,
     "metadata": {},
     "output_type": "execute_result"
    }
   ],
   "source": [
    "i_cols = [\n",
    "    'movie id', 'movie title' ,'release date','video release date', 'IMDb URL', 'unknown', 'Action', 'Adventure',\n",
    "    'Animation', 'Children\\'s', 'Comedy', 'Crime', 'Documentary', 'Drama', 'Fantasy',\n",
    "    'Film-Noir', 'Horror', 'Musical', 'Mystery', 'Romance', 'Sci-Fi', 'Thriller', 'War', 'Western'\n",
    "]\n",
    "\n",
    "movies = pd.read_csv(path / 'u.item', sep='|', names=i_cols, encoding='latin-1')\n",
    "movies.rename(columns={'movie id': 'movie_id'}, inplace=True)\n",
    "movies.head()"
   ],
   "metadata": {
    "collapsed": false
   }
  },
  {
   "cell_type": "code",
   "execution_count": 11,
   "outputs": [
    {
     "data": {
      "text/plain": "   user_id  movie_id  rating  unix_timestamp       movie title release date  \\\n0        1         1       5       874965758  Toy Story (1995)  01-Jan-1995   \n1        2         1       4       888550871  Toy Story (1995)  01-Jan-1995   \n2        6         1       4       883599478  Toy Story (1995)  01-Jan-1995   \n3       10         1       4       877888877  Toy Story (1995)  01-Jan-1995   \n4       13         1       3       882140487  Toy Story (1995)  01-Jan-1995   \n\n   video release date                                           IMDb URL  \\\n0                 NaN  http://us.imdb.com/M/title-exact?Toy%20Story%2...   \n1                 NaN  http://us.imdb.com/M/title-exact?Toy%20Story%2...   \n2                 NaN  http://us.imdb.com/M/title-exact?Toy%20Story%2...   \n3                 NaN  http://us.imdb.com/M/title-exact?Toy%20Story%2...   \n4                 NaN  http://us.imdb.com/M/title-exact?Toy%20Story%2...   \n\n   unknown  Action  ...  Fantasy  Film-Noir  Horror  Musical  Mystery  \\\n0        0       0  ...        0          0       0        0        0   \n1        0       0  ...        0          0       0        0        0   \n2        0       0  ...        0          0       0        0        0   \n3        0       0  ...        0          0       0        0        0   \n4        0       0  ...        0          0       0        0        0   \n\n   Romance  Sci-Fi  Thriller  War  Western  \n0        0       0         0    0        0  \n1        0       0         0    0        0  \n2        0       0         0    0        0  \n3        0       0         0    0        0  \n4        0       0         0    0        0  \n\n[5 rows x 27 columns]",
      "text/html": "<div>\n<style scoped>\n    .dataframe tbody tr th:only-of-type {\n        vertical-align: middle;\n    }\n\n    .dataframe tbody tr th {\n        vertical-align: top;\n    }\n\n    .dataframe thead th {\n        text-align: right;\n    }\n</style>\n<table border=\"1\" class=\"dataframe\">\n  <thead>\n    <tr style=\"text-align: right;\">\n      <th></th>\n      <th>user_id</th>\n      <th>movie_id</th>\n      <th>rating</th>\n      <th>unix_timestamp</th>\n      <th>movie title</th>\n      <th>release date</th>\n      <th>video release date</th>\n      <th>IMDb URL</th>\n      <th>unknown</th>\n      <th>Action</th>\n      <th>...</th>\n      <th>Fantasy</th>\n      <th>Film-Noir</th>\n      <th>Horror</th>\n      <th>Musical</th>\n      <th>Mystery</th>\n      <th>Romance</th>\n      <th>Sci-Fi</th>\n      <th>Thriller</th>\n      <th>War</th>\n      <th>Western</th>\n    </tr>\n  </thead>\n  <tbody>\n    <tr>\n      <th>0</th>\n      <td>1</td>\n      <td>1</td>\n      <td>5</td>\n      <td>874965758</td>\n      <td>Toy Story (1995)</td>\n      <td>01-Jan-1995</td>\n      <td>NaN</td>\n      <td>http://us.imdb.com/M/title-exact?Toy%20Story%2...</td>\n      <td>0</td>\n      <td>0</td>\n      <td>...</td>\n      <td>0</td>\n      <td>0</td>\n      <td>0</td>\n      <td>0</td>\n      <td>0</td>\n      <td>0</td>\n      <td>0</td>\n      <td>0</td>\n      <td>0</td>\n      <td>0</td>\n    </tr>\n    <tr>\n      <th>1</th>\n      <td>2</td>\n      <td>1</td>\n      <td>4</td>\n      <td>888550871</td>\n      <td>Toy Story (1995)</td>\n      <td>01-Jan-1995</td>\n      <td>NaN</td>\n      <td>http://us.imdb.com/M/title-exact?Toy%20Story%2...</td>\n      <td>0</td>\n      <td>0</td>\n      <td>...</td>\n      <td>0</td>\n      <td>0</td>\n      <td>0</td>\n      <td>0</td>\n      <td>0</td>\n      <td>0</td>\n      <td>0</td>\n      <td>0</td>\n      <td>0</td>\n      <td>0</td>\n    </tr>\n    <tr>\n      <th>2</th>\n      <td>6</td>\n      <td>1</td>\n      <td>4</td>\n      <td>883599478</td>\n      <td>Toy Story (1995)</td>\n      <td>01-Jan-1995</td>\n      <td>NaN</td>\n      <td>http://us.imdb.com/M/title-exact?Toy%20Story%2...</td>\n      <td>0</td>\n      <td>0</td>\n      <td>...</td>\n      <td>0</td>\n      <td>0</td>\n      <td>0</td>\n      <td>0</td>\n      <td>0</td>\n      <td>0</td>\n      <td>0</td>\n      <td>0</td>\n      <td>0</td>\n      <td>0</td>\n    </tr>\n    <tr>\n      <th>3</th>\n      <td>10</td>\n      <td>1</td>\n      <td>4</td>\n      <td>877888877</td>\n      <td>Toy Story (1995)</td>\n      <td>01-Jan-1995</td>\n      <td>NaN</td>\n      <td>http://us.imdb.com/M/title-exact?Toy%20Story%2...</td>\n      <td>0</td>\n      <td>0</td>\n      <td>...</td>\n      <td>0</td>\n      <td>0</td>\n      <td>0</td>\n      <td>0</td>\n      <td>0</td>\n      <td>0</td>\n      <td>0</td>\n      <td>0</td>\n      <td>0</td>\n      <td>0</td>\n    </tr>\n    <tr>\n      <th>4</th>\n      <td>13</td>\n      <td>1</td>\n      <td>3</td>\n      <td>882140487</td>\n      <td>Toy Story (1995)</td>\n      <td>01-Jan-1995</td>\n      <td>NaN</td>\n      <td>http://us.imdb.com/M/title-exact?Toy%20Story%2...</td>\n      <td>0</td>\n      <td>0</td>\n      <td>...</td>\n      <td>0</td>\n      <td>0</td>\n      <td>0</td>\n      <td>0</td>\n      <td>0</td>\n      <td>0</td>\n      <td>0</td>\n      <td>0</td>\n      <td>0</td>\n      <td>0</td>\n    </tr>\n  </tbody>\n</table>\n<p>5 rows × 27 columns</p>\n</div>"
     },
     "execution_count": 11,
     "metadata": {},
     "output_type": "execute_result"
    }
   ],
   "source": [
    "df = pd.merge(ratings_base, movies, on='movie_id', how='inner')\n",
    "df.head()"
   ],
   "metadata": {
    "collapsed": false
   }
  },
  {
   "cell_type": "code",
   "execution_count": 14,
   "outputs": [
    {
     "data": {
      "text/plain": "                                        movie title  mean_rating  \\\n3                               12 Angry Men (1957)     4.327434   \n7                      2001: A Space Odyssey (1968)     3.932489   \n15                            Absolute Power (1997)     3.381356   \n16                                Abyss, The (1989)     3.572464   \n27                        African Queen, The (1951)     4.183673   \n...                                             ...          ...   \n1630  William Shakespeare's Romeo and Juliet (1996)     3.554455   \n1631   Willy Wonka and the Chocolate Factory (1971)     3.638225   \n1642                       Wizard of Oz, The (1939)     4.080357   \n1650                     Wrong Trousers, The (1993)     4.476636   \n1655                      Young Frankenstein (1974)     3.957219   \n\n      number_of_ratings  \n3                   113  \n7                   237  \n15                  118  \n16                  138  \n27                  147  \n...                 ...  \n1630                101  \n1631                293  \n1642                224  \n1650                107  \n1655                187  \n\n[307 rows x 3 columns]",
      "text/html": "<div>\n<style scoped>\n    .dataframe tbody tr th:only-of-type {\n        vertical-align: middle;\n    }\n\n    .dataframe tbody tr th {\n        vertical-align: top;\n    }\n\n    .dataframe thead th {\n        text-align: right;\n    }\n</style>\n<table border=\"1\" class=\"dataframe\">\n  <thead>\n    <tr style=\"text-align: right;\">\n      <th></th>\n      <th>movie title</th>\n      <th>mean_rating</th>\n      <th>number_of_ratings</th>\n    </tr>\n  </thead>\n  <tbody>\n    <tr>\n      <th>3</th>\n      <td>12 Angry Men (1957)</td>\n      <td>4.327434</td>\n      <td>113</td>\n    </tr>\n    <tr>\n      <th>7</th>\n      <td>2001: A Space Odyssey (1968)</td>\n      <td>3.932489</td>\n      <td>237</td>\n    </tr>\n    <tr>\n      <th>15</th>\n      <td>Absolute Power (1997)</td>\n      <td>3.381356</td>\n      <td>118</td>\n    </tr>\n    <tr>\n      <th>16</th>\n      <td>Abyss, The (1989)</td>\n      <td>3.572464</td>\n      <td>138</td>\n    </tr>\n    <tr>\n      <th>27</th>\n      <td>African Queen, The (1951)</td>\n      <td>4.183673</td>\n      <td>147</td>\n    </tr>\n    <tr>\n      <th>...</th>\n      <td>...</td>\n      <td>...</td>\n      <td>...</td>\n    </tr>\n    <tr>\n      <th>1630</th>\n      <td>William Shakespeare's Romeo and Juliet (1996)</td>\n      <td>3.554455</td>\n      <td>101</td>\n    </tr>\n    <tr>\n      <th>1631</th>\n      <td>Willy Wonka and the Chocolate Factory (1971)</td>\n      <td>3.638225</td>\n      <td>293</td>\n    </tr>\n    <tr>\n      <th>1642</th>\n      <td>Wizard of Oz, The (1939)</td>\n      <td>4.080357</td>\n      <td>224</td>\n    </tr>\n    <tr>\n      <th>1650</th>\n      <td>Wrong Trousers, The (1993)</td>\n      <td>4.476636</td>\n      <td>107</td>\n    </tr>\n    <tr>\n      <th>1655</th>\n      <td>Young Frankenstein (1974)</td>\n      <td>3.957219</td>\n      <td>187</td>\n    </tr>\n  </tbody>\n</table>\n<p>307 rows × 3 columns</p>\n</div>"
     },
     "execution_count": 14,
     "metadata": {},
     "output_type": "execute_result"
    }
   ],
   "source": [
    "agg_ratings = df.groupby('movie title').agg(mean_rating=('rating', 'mean'), number_of_ratings=('rating', 'count')).reset_index()\n",
    "agg_ratings_t100 = agg_ratings[agg_ratings['number_of_ratings'] > 100]\n",
    "agg_ratings_t100"
   ],
   "metadata": {
    "collapsed": false
   }
  },
  {
   "cell_type": "code",
   "execution_count": 17,
   "outputs": [
    {
     "data": {
      "text/plain": "       user_id  movie_id  rating  unix_timestamp          movie title  \\\n0            1         1       5       874965758     Toy Story (1995)   \n1            2         1       4       888550871     Toy Story (1995)   \n2            6         1       4       883599478     Toy Story (1995)   \n3           10         1       4       877888877     Toy Story (1995)   \n4           13         1       3       882140487     Toy Story (1995)   \n...        ...       ...     ...             ...                  ...   \n55431      907      1047       5       881030348  Multiplicity (1996)   \n55432      919      1047       3       875289697  Multiplicity (1996)   \n55433      927      1047       4       879181192  Multiplicity (1996)   \n55434      938      1047       3       891357107  Multiplicity (1996)   \n55435      943      1047       2       875502146  Multiplicity (1996)   \n\n      release date  video release date  \\\n0      01-Jan-1995                 NaN   \n1      01-Jan-1995                 NaN   \n2      01-Jan-1995                 NaN   \n3      01-Jan-1995                 NaN   \n4      01-Jan-1995                 NaN   \n...            ...                 ...   \n55431  12-Jul-1996                 NaN   \n55432  12-Jul-1996                 NaN   \n55433  12-Jul-1996                 NaN   \n55434  12-Jul-1996                 NaN   \n55435  12-Jul-1996                 NaN   \n\n                                                IMDb URL  unknown  Action  \\\n0      http://us.imdb.com/M/title-exact?Toy%20Story%2...        0       0   \n1      http://us.imdb.com/M/title-exact?Toy%20Story%2...        0       0   \n2      http://us.imdb.com/M/title-exact?Toy%20Story%2...        0       0   \n3      http://us.imdb.com/M/title-exact?Toy%20Story%2...        0       0   \n4      http://us.imdb.com/M/title-exact?Toy%20Story%2...        0       0   \n...                                                  ...      ...     ...   \n55431  http://us.imdb.com/M/title-exact?Multiplicity%...        0       0   \n55432  http://us.imdb.com/M/title-exact?Multiplicity%...        0       0   \n55433  http://us.imdb.com/M/title-exact?Multiplicity%...        0       0   \n55434  http://us.imdb.com/M/title-exact?Multiplicity%...        0       0   \n55435  http://us.imdb.com/M/title-exact?Multiplicity%...        0       0   \n\n       ...  Fantasy  Film-Noir  Horror  Musical  Mystery  Romance  Sci-Fi  \\\n0      ...        0          0       0        0        0        0       0   \n1      ...        0          0       0        0        0        0       0   \n2      ...        0          0       0        0        0        0       0   \n3      ...        0          0       0        0        0        0       0   \n4      ...        0          0       0        0        0        0       0   \n...    ...      ...        ...     ...      ...      ...      ...     ...   \n55431  ...        0          0       0        0        0        0       0   \n55432  ...        0          0       0        0        0        0       0   \n55433  ...        0          0       0        0        0        0       0   \n55434  ...        0          0       0        0        0        0       0   \n55435  ...        0          0       0        0        0        0       0   \n\n       Thriller  War  Western  \n0             0    0        0  \n1             0    0        0  \n2             0    0        0  \n3             0    0        0  \n4             0    0        0  \n...         ...  ...      ...  \n55431         0    0        0  \n55432         0    0        0  \n55433         0    0        0  \n55434         0    0        0  \n55435         0    0        0  \n\n[55436 rows x 27 columns]",
      "text/html": "<div>\n<style scoped>\n    .dataframe tbody tr th:only-of-type {\n        vertical-align: middle;\n    }\n\n    .dataframe tbody tr th {\n        vertical-align: top;\n    }\n\n    .dataframe thead th {\n        text-align: right;\n    }\n</style>\n<table border=\"1\" class=\"dataframe\">\n  <thead>\n    <tr style=\"text-align: right;\">\n      <th></th>\n      <th>user_id</th>\n      <th>movie_id</th>\n      <th>rating</th>\n      <th>unix_timestamp</th>\n      <th>movie title</th>\n      <th>release date</th>\n      <th>video release date</th>\n      <th>IMDb URL</th>\n      <th>unknown</th>\n      <th>Action</th>\n      <th>...</th>\n      <th>Fantasy</th>\n      <th>Film-Noir</th>\n      <th>Horror</th>\n      <th>Musical</th>\n      <th>Mystery</th>\n      <th>Romance</th>\n      <th>Sci-Fi</th>\n      <th>Thriller</th>\n      <th>War</th>\n      <th>Western</th>\n    </tr>\n  </thead>\n  <tbody>\n    <tr>\n      <th>0</th>\n      <td>1</td>\n      <td>1</td>\n      <td>5</td>\n      <td>874965758</td>\n      <td>Toy Story (1995)</td>\n      <td>01-Jan-1995</td>\n      <td>NaN</td>\n      <td>http://us.imdb.com/M/title-exact?Toy%20Story%2...</td>\n      <td>0</td>\n      <td>0</td>\n      <td>...</td>\n      <td>0</td>\n      <td>0</td>\n      <td>0</td>\n      <td>0</td>\n      <td>0</td>\n      <td>0</td>\n      <td>0</td>\n      <td>0</td>\n      <td>0</td>\n      <td>0</td>\n    </tr>\n    <tr>\n      <th>1</th>\n      <td>2</td>\n      <td>1</td>\n      <td>4</td>\n      <td>888550871</td>\n      <td>Toy Story (1995)</td>\n      <td>01-Jan-1995</td>\n      <td>NaN</td>\n      <td>http://us.imdb.com/M/title-exact?Toy%20Story%2...</td>\n      <td>0</td>\n      <td>0</td>\n      <td>...</td>\n      <td>0</td>\n      <td>0</td>\n      <td>0</td>\n      <td>0</td>\n      <td>0</td>\n      <td>0</td>\n      <td>0</td>\n      <td>0</td>\n      <td>0</td>\n      <td>0</td>\n    </tr>\n    <tr>\n      <th>2</th>\n      <td>6</td>\n      <td>1</td>\n      <td>4</td>\n      <td>883599478</td>\n      <td>Toy Story (1995)</td>\n      <td>01-Jan-1995</td>\n      <td>NaN</td>\n      <td>http://us.imdb.com/M/title-exact?Toy%20Story%2...</td>\n      <td>0</td>\n      <td>0</td>\n      <td>...</td>\n      <td>0</td>\n      <td>0</td>\n      <td>0</td>\n      <td>0</td>\n      <td>0</td>\n      <td>0</td>\n      <td>0</td>\n      <td>0</td>\n      <td>0</td>\n      <td>0</td>\n    </tr>\n    <tr>\n      <th>3</th>\n      <td>10</td>\n      <td>1</td>\n      <td>4</td>\n      <td>877888877</td>\n      <td>Toy Story (1995)</td>\n      <td>01-Jan-1995</td>\n      <td>NaN</td>\n      <td>http://us.imdb.com/M/title-exact?Toy%20Story%2...</td>\n      <td>0</td>\n      <td>0</td>\n      <td>...</td>\n      <td>0</td>\n      <td>0</td>\n      <td>0</td>\n      <td>0</td>\n      <td>0</td>\n      <td>0</td>\n      <td>0</td>\n      <td>0</td>\n      <td>0</td>\n      <td>0</td>\n    </tr>\n    <tr>\n      <th>4</th>\n      <td>13</td>\n      <td>1</td>\n      <td>3</td>\n      <td>882140487</td>\n      <td>Toy Story (1995)</td>\n      <td>01-Jan-1995</td>\n      <td>NaN</td>\n      <td>http://us.imdb.com/M/title-exact?Toy%20Story%2...</td>\n      <td>0</td>\n      <td>0</td>\n      <td>...</td>\n      <td>0</td>\n      <td>0</td>\n      <td>0</td>\n      <td>0</td>\n      <td>0</td>\n      <td>0</td>\n      <td>0</td>\n      <td>0</td>\n      <td>0</td>\n      <td>0</td>\n    </tr>\n    <tr>\n      <th>...</th>\n      <td>...</td>\n      <td>...</td>\n      <td>...</td>\n      <td>...</td>\n      <td>...</td>\n      <td>...</td>\n      <td>...</td>\n      <td>...</td>\n      <td>...</td>\n      <td>...</td>\n      <td>...</td>\n      <td>...</td>\n      <td>...</td>\n      <td>...</td>\n      <td>...</td>\n      <td>...</td>\n      <td>...</td>\n      <td>...</td>\n      <td>...</td>\n      <td>...</td>\n      <td>...</td>\n    </tr>\n    <tr>\n      <th>55431</th>\n      <td>907</td>\n      <td>1047</td>\n      <td>5</td>\n      <td>881030348</td>\n      <td>Multiplicity (1996)</td>\n      <td>12-Jul-1996</td>\n      <td>NaN</td>\n      <td>http://us.imdb.com/M/title-exact?Multiplicity%...</td>\n      <td>0</td>\n      <td>0</td>\n      <td>...</td>\n      <td>0</td>\n      <td>0</td>\n      <td>0</td>\n      <td>0</td>\n      <td>0</td>\n      <td>0</td>\n      <td>0</td>\n      <td>0</td>\n      <td>0</td>\n      <td>0</td>\n    </tr>\n    <tr>\n      <th>55432</th>\n      <td>919</td>\n      <td>1047</td>\n      <td>3</td>\n      <td>875289697</td>\n      <td>Multiplicity (1996)</td>\n      <td>12-Jul-1996</td>\n      <td>NaN</td>\n      <td>http://us.imdb.com/M/title-exact?Multiplicity%...</td>\n      <td>0</td>\n      <td>0</td>\n      <td>...</td>\n      <td>0</td>\n      <td>0</td>\n      <td>0</td>\n      <td>0</td>\n      <td>0</td>\n      <td>0</td>\n      <td>0</td>\n      <td>0</td>\n      <td>0</td>\n      <td>0</td>\n    </tr>\n    <tr>\n      <th>55433</th>\n      <td>927</td>\n      <td>1047</td>\n      <td>4</td>\n      <td>879181192</td>\n      <td>Multiplicity (1996)</td>\n      <td>12-Jul-1996</td>\n      <td>NaN</td>\n      <td>http://us.imdb.com/M/title-exact?Multiplicity%...</td>\n      <td>0</td>\n      <td>0</td>\n      <td>...</td>\n      <td>0</td>\n      <td>0</td>\n      <td>0</td>\n      <td>0</td>\n      <td>0</td>\n      <td>0</td>\n      <td>0</td>\n      <td>0</td>\n      <td>0</td>\n      <td>0</td>\n    </tr>\n    <tr>\n      <th>55434</th>\n      <td>938</td>\n      <td>1047</td>\n      <td>3</td>\n      <td>891357107</td>\n      <td>Multiplicity (1996)</td>\n      <td>12-Jul-1996</td>\n      <td>NaN</td>\n      <td>http://us.imdb.com/M/title-exact?Multiplicity%...</td>\n      <td>0</td>\n      <td>0</td>\n      <td>...</td>\n      <td>0</td>\n      <td>0</td>\n      <td>0</td>\n      <td>0</td>\n      <td>0</td>\n      <td>0</td>\n      <td>0</td>\n      <td>0</td>\n      <td>0</td>\n      <td>0</td>\n    </tr>\n    <tr>\n      <th>55435</th>\n      <td>943</td>\n      <td>1047</td>\n      <td>2</td>\n      <td>875502146</td>\n      <td>Multiplicity (1996)</td>\n      <td>12-Jul-1996</td>\n      <td>NaN</td>\n      <td>http://us.imdb.com/M/title-exact?Multiplicity%...</td>\n      <td>0</td>\n      <td>0</td>\n      <td>...</td>\n      <td>0</td>\n      <td>0</td>\n      <td>0</td>\n      <td>0</td>\n      <td>0</td>\n      <td>0</td>\n      <td>0</td>\n      <td>0</td>\n      <td>0</td>\n      <td>0</td>\n    </tr>\n  </tbody>\n</table>\n<p>55436 rows × 27 columns</p>\n</div>"
     },
     "execution_count": 17,
     "metadata": {},
     "output_type": "execute_result"
    }
   ],
   "source": [
    "df_t100 = pd.merge(df, agg_ratings_t100[['movie title']], on='movie title', how='inner')\n",
    "df_t100"
   ],
   "metadata": {
    "collapsed": false
   }
  },
  {
   "cell_type": "code",
   "execution_count": 20,
   "outputs": [
    {
     "data": {
      "text/plain": "movie title  12 Angry Men (1957)  2001: A Space Odyssey (1968)  \\\nuser_id                                                          \n1                            5.0                           4.0   \n2                            NaN                           NaN   \n3                            NaN                           NaN   \n4                            NaN                           NaN   \n5                            NaN                           4.0   \n\nmovie title  Absolute Power (1997)  Abyss, The (1989)  \\\nuser_id                                                 \n1                              NaN                3.0   \n2                              3.0                NaN   \n3                              NaN                NaN   \n4                              NaN                NaN   \n5                              NaN                NaN   \n\nmovie title  African Queen, The (1951)  Air Force One (1997)  Aladdin (1992)  \\\nuser_id                                                                        \n1                                  NaN                   NaN             4.0   \n2                                  NaN                   4.0             NaN   \n3                                  NaN                   2.0             NaN   \n4                                  NaN                   5.0             NaN   \n5                                  NaN                   NaN             4.0   \n\nmovie title  Alien (1979)  Alien: Resurrection (1997)  Aliens (1986)  ...  \\\nuser_id                                                               ...   \n1                     5.0                         NaN            5.0  ...   \n2                     NaN                         NaN            NaN  ...   \n3                     NaN                         NaN            NaN  ...   \n4                     NaN                         NaN            NaN  ...   \n5                     4.0                         NaN            3.0  ...   \n\nmovie title  Wag the Dog (1997)  Welcome to the Dollhouse (1995)  \\\nuser_id                                                            \n1                           NaN                              5.0   \n2                           NaN                              NaN   \n3                           5.0                              NaN   \n4                           NaN                              NaN   \n5                           NaN                              NaN   \n\nmovie title  What's Eating Gilbert Grape (1993)  \\\nuser_id                                           \n1                                           4.0   \n2                                           NaN   \n3                                           NaN   \n4                                           NaN   \n5                                           NaN   \n\nmovie title  When Harry Met Sally... (1989)  While You Were Sleeping (1995)  \\\nuser_id                                                                       \n1                                       5.0                             4.0   \n2                                       NaN                             NaN   \n3                                       NaN                             NaN   \n4                                       NaN                             NaN   \n5                                       1.0                             1.0   \n\nmovie title  William Shakespeare's Romeo and Juliet (1996)  \\\nuser_id                                                      \n1                                                      NaN   \n2                                                      NaN   \n3                                                      NaN   \n4                                                      NaN   \n5                                                      1.0   \n\nmovie title  Willy Wonka and the Chocolate Factory (1971)  \\\nuser_id                                                     \n1                                                     4.0   \n2                                                     NaN   \n3                                                     NaN   \n4                                                     NaN   \n5                                                     3.0   \n\nmovie title  Wizard of Oz, The (1939)  Wrong Trousers, The (1993)  \\\nuser_id                                                             \n1                                 4.0                         5.0   \n2                                 NaN                         NaN   \n3                                 NaN                         NaN   \n4                                 NaN                         NaN   \n5                                 NaN                         5.0   \n\nmovie title  Young Frankenstein (1974)  \nuser_id                                 \n1                                  5.0  \n2                                  NaN  \n3                                  NaN  \n4                                  NaN  \n5                                  4.0  \n\n[5 rows x 307 columns]",
      "text/html": "<div>\n<style scoped>\n    .dataframe tbody tr th:only-of-type {\n        vertical-align: middle;\n    }\n\n    .dataframe tbody tr th {\n        vertical-align: top;\n    }\n\n    .dataframe thead th {\n        text-align: right;\n    }\n</style>\n<table border=\"1\" class=\"dataframe\">\n  <thead>\n    <tr style=\"text-align: right;\">\n      <th>movie title</th>\n      <th>12 Angry Men (1957)</th>\n      <th>2001: A Space Odyssey (1968)</th>\n      <th>Absolute Power (1997)</th>\n      <th>Abyss, The (1989)</th>\n      <th>African Queen, The (1951)</th>\n      <th>Air Force One (1997)</th>\n      <th>Aladdin (1992)</th>\n      <th>Alien (1979)</th>\n      <th>Alien: Resurrection (1997)</th>\n      <th>Aliens (1986)</th>\n      <th>...</th>\n      <th>Wag the Dog (1997)</th>\n      <th>Welcome to the Dollhouse (1995)</th>\n      <th>What's Eating Gilbert Grape (1993)</th>\n      <th>When Harry Met Sally... (1989)</th>\n      <th>While You Were Sleeping (1995)</th>\n      <th>William Shakespeare's Romeo and Juliet (1996)</th>\n      <th>Willy Wonka and the Chocolate Factory (1971)</th>\n      <th>Wizard of Oz, The (1939)</th>\n      <th>Wrong Trousers, The (1993)</th>\n      <th>Young Frankenstein (1974)</th>\n    </tr>\n    <tr>\n      <th>user_id</th>\n      <th></th>\n      <th></th>\n      <th></th>\n      <th></th>\n      <th></th>\n      <th></th>\n      <th></th>\n      <th></th>\n      <th></th>\n      <th></th>\n      <th></th>\n      <th></th>\n      <th></th>\n      <th></th>\n      <th></th>\n      <th></th>\n      <th></th>\n      <th></th>\n      <th></th>\n      <th></th>\n      <th></th>\n    </tr>\n  </thead>\n  <tbody>\n    <tr>\n      <th>1</th>\n      <td>5.0</td>\n      <td>4.0</td>\n      <td>NaN</td>\n      <td>3.0</td>\n      <td>NaN</td>\n      <td>NaN</td>\n      <td>4.0</td>\n      <td>5.0</td>\n      <td>NaN</td>\n      <td>5.0</td>\n      <td>...</td>\n      <td>NaN</td>\n      <td>5.0</td>\n      <td>4.0</td>\n      <td>5.0</td>\n      <td>4.0</td>\n      <td>NaN</td>\n      <td>4.0</td>\n      <td>4.0</td>\n      <td>5.0</td>\n      <td>5.0</td>\n    </tr>\n    <tr>\n      <th>2</th>\n      <td>NaN</td>\n      <td>NaN</td>\n      <td>3.0</td>\n      <td>NaN</td>\n      <td>NaN</td>\n      <td>4.0</td>\n      <td>NaN</td>\n      <td>NaN</td>\n      <td>NaN</td>\n      <td>NaN</td>\n      <td>...</td>\n      <td>NaN</td>\n      <td>NaN</td>\n      <td>NaN</td>\n      <td>NaN</td>\n      <td>NaN</td>\n      <td>NaN</td>\n      <td>NaN</td>\n      <td>NaN</td>\n      <td>NaN</td>\n      <td>NaN</td>\n    </tr>\n    <tr>\n      <th>3</th>\n      <td>NaN</td>\n      <td>NaN</td>\n      <td>NaN</td>\n      <td>NaN</td>\n      <td>NaN</td>\n      <td>2.0</td>\n      <td>NaN</td>\n      <td>NaN</td>\n      <td>NaN</td>\n      <td>NaN</td>\n      <td>...</td>\n      <td>5.0</td>\n      <td>NaN</td>\n      <td>NaN</td>\n      <td>NaN</td>\n      <td>NaN</td>\n      <td>NaN</td>\n      <td>NaN</td>\n      <td>NaN</td>\n      <td>NaN</td>\n      <td>NaN</td>\n    </tr>\n    <tr>\n      <th>4</th>\n      <td>NaN</td>\n      <td>NaN</td>\n      <td>NaN</td>\n      <td>NaN</td>\n      <td>NaN</td>\n      <td>5.0</td>\n      <td>NaN</td>\n      <td>NaN</td>\n      <td>NaN</td>\n      <td>NaN</td>\n      <td>...</td>\n      <td>NaN</td>\n      <td>NaN</td>\n      <td>NaN</td>\n      <td>NaN</td>\n      <td>NaN</td>\n      <td>NaN</td>\n      <td>NaN</td>\n      <td>NaN</td>\n      <td>NaN</td>\n      <td>NaN</td>\n    </tr>\n    <tr>\n      <th>5</th>\n      <td>NaN</td>\n      <td>4.0</td>\n      <td>NaN</td>\n      <td>NaN</td>\n      <td>NaN</td>\n      <td>NaN</td>\n      <td>4.0</td>\n      <td>4.0</td>\n      <td>NaN</td>\n      <td>3.0</td>\n      <td>...</td>\n      <td>NaN</td>\n      <td>NaN</td>\n      <td>NaN</td>\n      <td>1.0</td>\n      <td>1.0</td>\n      <td>1.0</td>\n      <td>3.0</td>\n      <td>NaN</td>\n      <td>5.0</td>\n      <td>4.0</td>\n    </tr>\n  </tbody>\n</table>\n<p>5 rows × 307 columns</p>\n</div>"
     },
     "execution_count": 20,
     "metadata": {},
     "output_type": "execute_result"
    }
   ],
   "source": [
    "matrix = df_t100.pivot_table(index='user_id', columns='movie title', values='rating')\n",
    "matrix.head()"
   ],
   "metadata": {
    "collapsed": false
   }
  },
  {
   "cell_type": "code",
   "execution_count": 23,
   "outputs": [
    {
     "data": {
      "text/plain": "movie title  12 Angry Men (1957)  2001: A Space Odyssey (1968)  \\\nuser_id                                                          \n1                       1.130435                      0.130435   \n2                            NaN                           NaN   \n3                            NaN                           NaN   \n4                            NaN                           NaN   \n5                            NaN                      0.682353   \n\nmovie title  Absolute Power (1997)  Abyss, The (1989)  \\\nuser_id                                                 \n1                              NaN          -0.869565   \n2                        -0.861111                NaN   \n3                              NaN                NaN   \n4                              NaN                NaN   \n5                              NaN                NaN   \n\nmovie title  African Queen, The (1951)  Air Force One (1997)  Aladdin (1992)  \\\nuser_id                                                                        \n1                                  NaN                   NaN        0.130435   \n2                                  NaN              0.138889             NaN   \n3                                  NaN             -1.043478             NaN   \n4                                  NaN              0.900000             NaN   \n5                                  NaN                   NaN        0.682353   \n\nmovie title  Alien (1979)  Alien: Resurrection (1997)  Aliens (1986)  ...  \\\nuser_id                                                               ...   \n1                1.130435                         NaN       1.130435  ...   \n2                     NaN                         NaN            NaN  ...   \n3                     NaN                         NaN            NaN  ...   \n4                     NaN                         NaN            NaN  ...   \n5                0.682353                         NaN      -0.317647  ...   \n\nmovie title  Wag the Dog (1997)  Welcome to the Dollhouse (1995)  \\\nuser_id                                                            \n1                           NaN                         1.130435   \n2                           NaN                              NaN   \n3                      1.956522                              NaN   \n4                           NaN                              NaN   \n5                           NaN                              NaN   \n\nmovie title  What's Eating Gilbert Grape (1993)  \\\nuser_id                                           \n1                                      0.130435   \n2                                           NaN   \n3                                           NaN   \n4                                           NaN   \n5                                           NaN   \n\nmovie title  When Harry Met Sally... (1989)  While You Were Sleeping (1995)  \\\nuser_id                                                                       \n1                                  1.130435                        0.130435   \n2                                       NaN                             NaN   \n3                                       NaN                             NaN   \n4                                       NaN                             NaN   \n5                                 -2.317647                       -2.317647   \n\nmovie title  William Shakespeare's Romeo and Juliet (1996)  \\\nuser_id                                                      \n1                                                      NaN   \n2                                                      NaN   \n3                                                      NaN   \n4                                                      NaN   \n5                                                -2.317647   \n\nmovie title  Willy Wonka and the Chocolate Factory (1971)  \\\nuser_id                                                     \n1                                                0.130435   \n2                                                     NaN   \n3                                                     NaN   \n4                                                     NaN   \n5                                               -0.317647   \n\nmovie title  Wizard of Oz, The (1939)  Wrong Trousers, The (1993)  \\\nuser_id                                                             \n1                            0.130435                    1.130435   \n2                                 NaN                         NaN   \n3                                 NaN                         NaN   \n4                                 NaN                         NaN   \n5                                 NaN                    1.682353   \n\nmovie title  Young Frankenstein (1974)  \nuser_id                                 \n1                             1.130435  \n2                                  NaN  \n3                                  NaN  \n4                                  NaN  \n5                             0.682353  \n\n[5 rows x 307 columns]",
      "text/html": "<div>\n<style scoped>\n    .dataframe tbody tr th:only-of-type {\n        vertical-align: middle;\n    }\n\n    .dataframe tbody tr th {\n        vertical-align: top;\n    }\n\n    .dataframe thead th {\n        text-align: right;\n    }\n</style>\n<table border=\"1\" class=\"dataframe\">\n  <thead>\n    <tr style=\"text-align: right;\">\n      <th>movie title</th>\n      <th>12 Angry Men (1957)</th>\n      <th>2001: A Space Odyssey (1968)</th>\n      <th>Absolute Power (1997)</th>\n      <th>Abyss, The (1989)</th>\n      <th>African Queen, The (1951)</th>\n      <th>Air Force One (1997)</th>\n      <th>Aladdin (1992)</th>\n      <th>Alien (1979)</th>\n      <th>Alien: Resurrection (1997)</th>\n      <th>Aliens (1986)</th>\n      <th>...</th>\n      <th>Wag the Dog (1997)</th>\n      <th>Welcome to the Dollhouse (1995)</th>\n      <th>What's Eating Gilbert Grape (1993)</th>\n      <th>When Harry Met Sally... (1989)</th>\n      <th>While You Were Sleeping (1995)</th>\n      <th>William Shakespeare's Romeo and Juliet (1996)</th>\n      <th>Willy Wonka and the Chocolate Factory (1971)</th>\n      <th>Wizard of Oz, The (1939)</th>\n      <th>Wrong Trousers, The (1993)</th>\n      <th>Young Frankenstein (1974)</th>\n    </tr>\n    <tr>\n      <th>user_id</th>\n      <th></th>\n      <th></th>\n      <th></th>\n      <th></th>\n      <th></th>\n      <th></th>\n      <th></th>\n      <th></th>\n      <th></th>\n      <th></th>\n      <th></th>\n      <th></th>\n      <th></th>\n      <th></th>\n      <th></th>\n      <th></th>\n      <th></th>\n      <th></th>\n      <th></th>\n      <th></th>\n      <th></th>\n    </tr>\n  </thead>\n  <tbody>\n    <tr>\n      <th>1</th>\n      <td>1.130435</td>\n      <td>0.130435</td>\n      <td>NaN</td>\n      <td>-0.869565</td>\n      <td>NaN</td>\n      <td>NaN</td>\n      <td>0.130435</td>\n      <td>1.130435</td>\n      <td>NaN</td>\n      <td>1.130435</td>\n      <td>...</td>\n      <td>NaN</td>\n      <td>1.130435</td>\n      <td>0.130435</td>\n      <td>1.130435</td>\n      <td>0.130435</td>\n      <td>NaN</td>\n      <td>0.130435</td>\n      <td>0.130435</td>\n      <td>1.130435</td>\n      <td>1.130435</td>\n    </tr>\n    <tr>\n      <th>2</th>\n      <td>NaN</td>\n      <td>NaN</td>\n      <td>-0.861111</td>\n      <td>NaN</td>\n      <td>NaN</td>\n      <td>0.138889</td>\n      <td>NaN</td>\n      <td>NaN</td>\n      <td>NaN</td>\n      <td>NaN</td>\n      <td>...</td>\n      <td>NaN</td>\n      <td>NaN</td>\n      <td>NaN</td>\n      <td>NaN</td>\n      <td>NaN</td>\n      <td>NaN</td>\n      <td>NaN</td>\n      <td>NaN</td>\n      <td>NaN</td>\n      <td>NaN</td>\n    </tr>\n    <tr>\n      <th>3</th>\n      <td>NaN</td>\n      <td>NaN</td>\n      <td>NaN</td>\n      <td>NaN</td>\n      <td>NaN</td>\n      <td>-1.043478</td>\n      <td>NaN</td>\n      <td>NaN</td>\n      <td>NaN</td>\n      <td>NaN</td>\n      <td>...</td>\n      <td>1.956522</td>\n      <td>NaN</td>\n      <td>NaN</td>\n      <td>NaN</td>\n      <td>NaN</td>\n      <td>NaN</td>\n      <td>NaN</td>\n      <td>NaN</td>\n      <td>NaN</td>\n      <td>NaN</td>\n    </tr>\n    <tr>\n      <th>4</th>\n      <td>NaN</td>\n      <td>NaN</td>\n      <td>NaN</td>\n      <td>NaN</td>\n      <td>NaN</td>\n      <td>0.900000</td>\n      <td>NaN</td>\n      <td>NaN</td>\n      <td>NaN</td>\n      <td>NaN</td>\n      <td>...</td>\n      <td>NaN</td>\n      <td>NaN</td>\n      <td>NaN</td>\n      <td>NaN</td>\n      <td>NaN</td>\n      <td>NaN</td>\n      <td>NaN</td>\n      <td>NaN</td>\n      <td>NaN</td>\n      <td>NaN</td>\n    </tr>\n    <tr>\n      <th>5</th>\n      <td>NaN</td>\n      <td>0.682353</td>\n      <td>NaN</td>\n      <td>NaN</td>\n      <td>NaN</td>\n      <td>NaN</td>\n      <td>0.682353</td>\n      <td>0.682353</td>\n      <td>NaN</td>\n      <td>-0.317647</td>\n      <td>...</td>\n      <td>NaN</td>\n      <td>NaN</td>\n      <td>NaN</td>\n      <td>-2.317647</td>\n      <td>-2.317647</td>\n      <td>-2.317647</td>\n      <td>-0.317647</td>\n      <td>NaN</td>\n      <td>1.682353</td>\n      <td>0.682353</td>\n    </tr>\n  </tbody>\n</table>\n<p>5 rows × 307 columns</p>\n</div>"
     },
     "execution_count": 23,
     "metadata": {},
     "output_type": "execute_result"
    }
   ],
   "source": [
    "matrix_norm = matrix.subtract(matrix.mean(axis=1), axis=0)\n",
    "matrix_norm.head()"
   ],
   "metadata": {
    "collapsed": false
   }
  },
  {
   "cell_type": "code",
   "execution_count": 30,
   "outputs": [
    {
     "data": {
      "text/plain": "user_id       1         2         3         4         5         6         7    \\\nuser_id                                                                         \n1        1.000000 -0.043980 -0.254000  0.272166  0.385606  0.332508  0.321441   \n2       -0.043980  1.000000 -0.271163       NaN  0.500000  0.452792  0.665669   \n3       -0.254000 -0.271163  1.000000 -0.250000       NaN -0.668350 -0.059868   \n4        0.272166       NaN -0.250000  1.000000       NaN       NaN -0.300123   \n5        0.385606  0.500000       NaN       NaN  1.000000  0.254068  0.127824   \n\nuser_id       8    9         10   ...       934       935       936       937  \\\nuser_id                           ...                                           \n1        0.713986  1.0 -0.076333  ... -0.031534 -0.430113  0.397566  0.191120   \n2        0.000000  NaN  0.732334  ... -0.113228 -0.098058  0.299421  0.509647   \n3       -0.866025  NaN  0.408248  ...       NaN       NaN -0.221028  0.333333   \n4        0.773574  NaN       NaN  ...       NaN       NaN -0.200000       NaN   \n5        0.603510  1.0  0.136320  ...  0.218370       NaN  0.428077  0.000000   \n\nuser_id       938       939       940       941       942       943  \nuser_id                                                              \n1        0.300681  0.437500  0.246849  1.000000 -0.260772  0.130566  \n2        0.140106 -0.350000 -0.101678 -0.045835  0.019684  0.630126  \n3        0.102062       NaN -0.220326       NaN  0.183450       NaN  \n4        0.258199       NaN  0.836056  1.000000  0.707107       NaN  \n5        0.611826  0.845154  0.086087  0.755929  0.285520  0.323896  \n\n[5 rows x 943 columns]",
      "text/html": "<div>\n<style scoped>\n    .dataframe tbody tr th:only-of-type {\n        vertical-align: middle;\n    }\n\n    .dataframe tbody tr th {\n        vertical-align: top;\n    }\n\n    .dataframe thead th {\n        text-align: right;\n    }\n</style>\n<table border=\"1\" class=\"dataframe\">\n  <thead>\n    <tr style=\"text-align: right;\">\n      <th>user_id</th>\n      <th>1</th>\n      <th>2</th>\n      <th>3</th>\n      <th>4</th>\n      <th>5</th>\n      <th>6</th>\n      <th>7</th>\n      <th>8</th>\n      <th>9</th>\n      <th>10</th>\n      <th>...</th>\n      <th>934</th>\n      <th>935</th>\n      <th>936</th>\n      <th>937</th>\n      <th>938</th>\n      <th>939</th>\n      <th>940</th>\n      <th>941</th>\n      <th>942</th>\n      <th>943</th>\n    </tr>\n    <tr>\n      <th>user_id</th>\n      <th></th>\n      <th></th>\n      <th></th>\n      <th></th>\n      <th></th>\n      <th></th>\n      <th></th>\n      <th></th>\n      <th></th>\n      <th></th>\n      <th></th>\n      <th></th>\n      <th></th>\n      <th></th>\n      <th></th>\n      <th></th>\n      <th></th>\n      <th></th>\n      <th></th>\n      <th></th>\n      <th></th>\n    </tr>\n  </thead>\n  <tbody>\n    <tr>\n      <th>1</th>\n      <td>1.000000</td>\n      <td>-0.043980</td>\n      <td>-0.254000</td>\n      <td>0.272166</td>\n      <td>0.385606</td>\n      <td>0.332508</td>\n      <td>0.321441</td>\n      <td>0.713986</td>\n      <td>1.0</td>\n      <td>-0.076333</td>\n      <td>...</td>\n      <td>-0.031534</td>\n      <td>-0.430113</td>\n      <td>0.397566</td>\n      <td>0.191120</td>\n      <td>0.300681</td>\n      <td>0.437500</td>\n      <td>0.246849</td>\n      <td>1.000000</td>\n      <td>-0.260772</td>\n      <td>0.130566</td>\n    </tr>\n    <tr>\n      <th>2</th>\n      <td>-0.043980</td>\n      <td>1.000000</td>\n      <td>-0.271163</td>\n      <td>NaN</td>\n      <td>0.500000</td>\n      <td>0.452792</td>\n      <td>0.665669</td>\n      <td>0.000000</td>\n      <td>NaN</td>\n      <td>0.732334</td>\n      <td>...</td>\n      <td>-0.113228</td>\n      <td>-0.098058</td>\n      <td>0.299421</td>\n      <td>0.509647</td>\n      <td>0.140106</td>\n      <td>-0.350000</td>\n      <td>-0.101678</td>\n      <td>-0.045835</td>\n      <td>0.019684</td>\n      <td>0.630126</td>\n    </tr>\n    <tr>\n      <th>3</th>\n      <td>-0.254000</td>\n      <td>-0.271163</td>\n      <td>1.000000</td>\n      <td>-0.250000</td>\n      <td>NaN</td>\n      <td>-0.668350</td>\n      <td>-0.059868</td>\n      <td>-0.866025</td>\n      <td>NaN</td>\n      <td>0.408248</td>\n      <td>...</td>\n      <td>NaN</td>\n      <td>NaN</td>\n      <td>-0.221028</td>\n      <td>0.333333</td>\n      <td>0.102062</td>\n      <td>NaN</td>\n      <td>-0.220326</td>\n      <td>NaN</td>\n      <td>0.183450</td>\n      <td>NaN</td>\n    </tr>\n    <tr>\n      <th>4</th>\n      <td>0.272166</td>\n      <td>NaN</td>\n      <td>-0.250000</td>\n      <td>1.000000</td>\n      <td>NaN</td>\n      <td>NaN</td>\n      <td>-0.300123</td>\n      <td>0.773574</td>\n      <td>NaN</td>\n      <td>NaN</td>\n      <td>...</td>\n      <td>NaN</td>\n      <td>NaN</td>\n      <td>-0.200000</td>\n      <td>NaN</td>\n      <td>0.258199</td>\n      <td>NaN</td>\n      <td>0.836056</td>\n      <td>1.000000</td>\n      <td>0.707107</td>\n      <td>NaN</td>\n    </tr>\n    <tr>\n      <th>5</th>\n      <td>0.385606</td>\n      <td>0.500000</td>\n      <td>NaN</td>\n      <td>NaN</td>\n      <td>1.000000</td>\n      <td>0.254068</td>\n      <td>0.127824</td>\n      <td>0.603510</td>\n      <td>1.0</td>\n      <td>0.136320</td>\n      <td>...</td>\n      <td>0.218370</td>\n      <td>NaN</td>\n      <td>0.428077</td>\n      <td>0.000000</td>\n      <td>0.611826</td>\n      <td>0.845154</td>\n      <td>0.086087</td>\n      <td>0.755929</td>\n      <td>0.285520</td>\n      <td>0.323896</td>\n    </tr>\n  </tbody>\n</table>\n<p>5 rows × 943 columns</p>\n</div>"
     },
     "execution_count": 30,
     "metadata": {},
     "output_type": "execute_result"
    }
   ],
   "source": [
    "user_similarity = matrix_norm.T.corr()\n",
    "user_similarity.head()"
   ],
   "metadata": {
    "collapsed": false
   }
  },
  {
   "cell_type": "code",
   "execution_count": 31,
   "outputs": [
    {
     "data": {
      "text/plain": "array([[ 1.        ,  0.00944685, -0.02354966, ...,  0.02547668,\n        -0.0635557 ,  0.05864011],\n       [ 0.00944685,  1.        , -0.02124576, ..., -0.09371132,\n         0.01178994,  0.05695701],\n       [-0.02354966, -0.02124576,  1.        , ..., -0.01567622,\n         0.03130174, -0.00562079],\n       ...,\n       [ 0.02547668, -0.09371132, -0.01567622, ...,  1.        ,\n         0.00989273, -0.0057167 ],\n       [-0.0635557 ,  0.01178994,  0.03130174, ...,  0.00989273,\n         1.        ,  0.03393497],\n       [ 0.05864011,  0.05695701, -0.00562079, ..., -0.0057167 ,\n         0.03393497,  1.        ]])"
     },
     "execution_count": 31,
     "metadata": {},
     "output_type": "execute_result"
    }
   ],
   "source": [
    "from sklearn.metrics.pairwise import cosine_similarity\n",
    "\n",
    "user_similarity_cosine = cosine_similarity(matrix_norm.fillna(0))\n",
    "user_similarity_cosine"
   ],
   "metadata": {
    "collapsed": false
   }
  },
  {
   "cell_type": "code",
   "execution_count": 33,
   "outputs": [
    {
     "data": {
      "text/plain": "user_id\n1    1.000000\n2   -0.043980\n3   -0.254000\n4    0.272166\n5    0.385606\nName: 1, dtype: float64"
     },
     "execution_count": 33,
     "metadata": {},
     "output_type": "execute_result"
    }
   ],
   "source": [
    "picked_userid = 1\n",
    "user_similarity.drop(index=picked_userid)\n",
    "user_similarity.head()[1]"
   ],
   "metadata": {
    "collapsed": false
   }
  },
  {
   "cell_type": "code",
   "execution_count": 34,
   "outputs": [
    {
     "name": "stdout",
     "output_type": "stream",
     "text": [
      "The similar users for user 1 are user_id\n",
      "1      1.0\n",
      "520    1.0\n",
      "273    1.0\n",
      "281    1.0\n",
      "319    1.0\n",
      "351    1.0\n",
      "369    1.0\n",
      "519    1.0\n",
      "531    1.0\n",
      "105    1.0\n",
      "Name: 1, dtype: float64\n"
     ]
    }
   ],
   "source": [
    "n = 10\n",
    "threshold = 0.3\n",
    "similar_users = user_similarity[user_similarity[picked_userid] > threshold][picked_userid].sort_values(ascending=False)[:n]\n",
    "print(f'The similar users for user {picked_userid} are', similar_users)"
   ],
   "metadata": {
    "collapsed": false
   }
  },
  {
   "cell_type": "code",
   "execution_count": 35,
   "outputs": [
    {
     "data": {
      "text/plain": "movie title  12 Angry Men (1957)  2001: A Space Odyssey (1968)  \\\nuser_id                                                          \n1                       1.130435                      0.130435   \n\nmovie title  Abyss, The (1989)  Aladdin (1992)  Alien (1979)  Aliens (1986)  \\\nuser_id                                                                       \n1                    -0.869565        0.130435      1.130435       1.130435   \n\nmovie title  Amadeus (1984)  Apocalypse Now (1979)  Apollo 13 (1995)  \\\nuser_id                                                                \n1                  1.130435              -0.869565          0.130435   \n\nmovie title  Army of Darkness (1993)  ...  Unforgiven (1992)  \\\nuser_id                               ...                      \n1                           0.130435  ...           0.130435   \n\nmovie title  Usual Suspects, The (1995)  Welcome to the Dollhouse (1995)  \\\nuser_id                                                                    \n1                              1.130435                         1.130435   \n\nmovie title  What's Eating Gilbert Grape (1993)  \\\nuser_id                                           \n1                                      0.130435   \n\nmovie title  When Harry Met Sally... (1989)  While You Were Sleeping (1995)  \\\nuser_id                                                                       \n1                                  1.130435                        0.130435   \n\nmovie title  Willy Wonka and the Chocolate Factory (1971)  \\\nuser_id                                                     \n1                                                0.130435   \n\nmovie title  Wizard of Oz, The (1939)  Wrong Trousers, The (1993)  \\\nuser_id                                                             \n1                            0.130435                    1.130435   \n\nmovie title  Young Frankenstein (1974)  \nuser_id                                 \n1                             1.130435  \n\n[1 rows x 161 columns]",
      "text/html": "<div>\n<style scoped>\n    .dataframe tbody tr th:only-of-type {\n        vertical-align: middle;\n    }\n\n    .dataframe tbody tr th {\n        vertical-align: top;\n    }\n\n    .dataframe thead th {\n        text-align: right;\n    }\n</style>\n<table border=\"1\" class=\"dataframe\">\n  <thead>\n    <tr style=\"text-align: right;\">\n      <th>movie title</th>\n      <th>12 Angry Men (1957)</th>\n      <th>2001: A Space Odyssey (1968)</th>\n      <th>Abyss, The (1989)</th>\n      <th>Aladdin (1992)</th>\n      <th>Alien (1979)</th>\n      <th>Aliens (1986)</th>\n      <th>Amadeus (1984)</th>\n      <th>Apocalypse Now (1979)</th>\n      <th>Apollo 13 (1995)</th>\n      <th>Army of Darkness (1993)</th>\n      <th>...</th>\n      <th>Unforgiven (1992)</th>\n      <th>Usual Suspects, The (1995)</th>\n      <th>Welcome to the Dollhouse (1995)</th>\n      <th>What's Eating Gilbert Grape (1993)</th>\n      <th>When Harry Met Sally... (1989)</th>\n      <th>While You Were Sleeping (1995)</th>\n      <th>Willy Wonka and the Chocolate Factory (1971)</th>\n      <th>Wizard of Oz, The (1939)</th>\n      <th>Wrong Trousers, The (1993)</th>\n      <th>Young Frankenstein (1974)</th>\n    </tr>\n    <tr>\n      <th>user_id</th>\n      <th></th>\n      <th></th>\n      <th></th>\n      <th></th>\n      <th></th>\n      <th></th>\n      <th></th>\n      <th></th>\n      <th></th>\n      <th></th>\n      <th></th>\n      <th></th>\n      <th></th>\n      <th></th>\n      <th></th>\n      <th></th>\n      <th></th>\n      <th></th>\n      <th></th>\n      <th></th>\n      <th></th>\n    </tr>\n  </thead>\n  <tbody>\n    <tr>\n      <th>1</th>\n      <td>1.130435</td>\n      <td>0.130435</td>\n      <td>-0.869565</td>\n      <td>0.130435</td>\n      <td>1.130435</td>\n      <td>1.130435</td>\n      <td>1.130435</td>\n      <td>-0.869565</td>\n      <td>0.130435</td>\n      <td>0.130435</td>\n      <td>...</td>\n      <td>0.130435</td>\n      <td>1.130435</td>\n      <td>1.130435</td>\n      <td>0.130435</td>\n      <td>1.130435</td>\n      <td>0.130435</td>\n      <td>0.130435</td>\n      <td>0.130435</td>\n      <td>1.130435</td>\n      <td>1.130435</td>\n    </tr>\n  </tbody>\n</table>\n<p>1 rows × 161 columns</p>\n</div>"
     },
     "execution_count": 35,
     "metadata": {},
     "output_type": "execute_result"
    }
   ],
   "source": [
    "picked_userid_watched = matrix_norm[matrix_norm.index == picked_userid].dropna(axis=1, how='all')\n",
    "picked_userid_watched"
   ],
   "metadata": {
    "collapsed": false
   }
  },
  {
   "cell_type": "code",
   "execution_count": 36,
   "outputs": [
    {
     "data": {
      "text/plain": "movie title  12 Angry Men (1957)  2001: A Space Odyssey (1968)  \\\nuser_id                                                          \n1                       1.130435                      0.130435   \n105                          NaN                           NaN   \n273                          NaN                           NaN   \n281                          NaN                           NaN   \n319                          NaN                           NaN   \n351                          NaN                           NaN   \n369                          NaN                           NaN   \n519                          NaN                           NaN   \n520                          NaN                           NaN   \n531                          NaN                           NaN   \n\nmovie title  Abyss, The (1989)  Air Force One (1997)  Aladdin (1992)  \\\nuser_id                                                                \n1                    -0.869565                   NaN        0.130435   \n105                        NaN                   NaN             NaN   \n273                        NaN                   NaN             NaN   \n281                        NaN              0.384615             NaN   \n319                        NaN                   NaN             NaN   \n351                        NaN              0.714286             NaN   \n369                        NaN                   NaN             NaN   \n519                        NaN                   NaN             NaN   \n520                        NaN                   NaN             NaN   \n531                        NaN             -0.111111             NaN   \n\nmovie title  Alien (1979)  Alien: Resurrection (1997)  Aliens (1986)  \\\nuser_id                                                                \n1                1.130435                         NaN       1.130435   \n105                   NaN                   -1.181818            NaN   \n273                   NaN                         NaN            NaN   \n281                   NaN                         NaN            NaN   \n319                   NaN                         NaN            NaN   \n351                   NaN                   -1.285714            NaN   \n369                   NaN                         NaN            NaN   \n519                   NaN                         NaN            NaN   \n520                   NaN                         NaN            NaN   \n531                   NaN                         NaN            NaN   \n\nmovie title  Amadeus (1984)  Amistad (1997)  ...  Volcano (1997)  \\\nuser_id                                      ...                   \n1                  1.130435             NaN  ...             NaN   \n105                     NaN             NaN  ...             NaN   \n273                     NaN             NaN  ...             NaN   \n281                     NaN             NaN  ...             NaN   \n319                     NaN       -0.250000  ...             NaN   \n351                     NaN        0.714286  ...       -0.285714   \n369                     NaN             NaN  ...             NaN   \n519                     NaN             NaN  ...             NaN   \n520                     NaN             NaN  ...             NaN   \n531                     NaN             NaN  ...             NaN   \n\nmovie title  Wag the Dog (1997)  Welcome to the Dollhouse (1995)  \\\nuser_id                                                            \n1                           NaN                         1.130435   \n105                   -0.181818                              NaN   \n273                    0.555556                              NaN   \n281                         NaN                              NaN   \n319                         NaN                              NaN   \n351                         NaN                              NaN   \n369                         NaN                              NaN   \n519                         NaN                              NaN   \n520                         NaN                              NaN   \n531                         NaN                              NaN   \n\nmovie title  What's Eating Gilbert Grape (1993)  \\\nuser_id                                           \n1                                      0.130435   \n105                                         NaN   \n273                                         NaN   \n281                                         NaN   \n319                                         NaN   \n351                                         NaN   \n369                                         NaN   \n519                                         NaN   \n520                                         NaN   \n531                                         NaN   \n\nmovie title  When Harry Met Sally... (1989)  While You Were Sleeping (1995)  \\\nuser_id                                                                       \n1                                  1.130435                        0.130435   \n105                                     NaN                             NaN   \n273                                     NaN                             NaN   \n281                                     NaN                             NaN   \n319                                     NaN                             NaN   \n351                                     NaN                             NaN   \n369                                     NaN                             NaN   \n519                                     NaN                             NaN   \n520                                     NaN                             NaN   \n531                                     NaN                             NaN   \n\nmovie title  Willy Wonka and the Chocolate Factory (1971)  \\\nuser_id                                                     \n1                                                0.130435   \n105                                                   NaN   \n273                                                   NaN   \n281                                                   NaN   \n319                                                   NaN   \n351                                                   NaN   \n369                                                   NaN   \n519                                                   NaN   \n520                                                   NaN   \n531                                                   NaN   \n\nmovie title  Wizard of Oz, The (1939)  Wrong Trousers, The (1993)  \\\nuser_id                                                             \n1                            0.130435                    1.130435   \n105                               NaN                         NaN   \n273                               NaN                         NaN   \n281                               NaN                         NaN   \n319                               NaN                         NaN   \n351                               NaN                         NaN   \n369                               NaN                         NaN   \n519                               NaN                         NaN   \n520                               NaN                         NaN   \n531                               NaN                         NaN   \n\nmovie title  Young Frankenstein (1974)  \nuser_id                                 \n1                             1.130435  \n105                                NaN  \n273                                NaN  \n281                                NaN  \n319                                NaN  \n351                                NaN  \n369                                NaN  \n519                                NaN  \n520                                NaN  \n531                                NaN  \n\n[10 rows x 193 columns]",
      "text/html": "<div>\n<style scoped>\n    .dataframe tbody tr th:only-of-type {\n        vertical-align: middle;\n    }\n\n    .dataframe tbody tr th {\n        vertical-align: top;\n    }\n\n    .dataframe thead th {\n        text-align: right;\n    }\n</style>\n<table border=\"1\" class=\"dataframe\">\n  <thead>\n    <tr style=\"text-align: right;\">\n      <th>movie title</th>\n      <th>12 Angry Men (1957)</th>\n      <th>2001: A Space Odyssey (1968)</th>\n      <th>Abyss, The (1989)</th>\n      <th>Air Force One (1997)</th>\n      <th>Aladdin (1992)</th>\n      <th>Alien (1979)</th>\n      <th>Alien: Resurrection (1997)</th>\n      <th>Aliens (1986)</th>\n      <th>Amadeus (1984)</th>\n      <th>Amistad (1997)</th>\n      <th>...</th>\n      <th>Volcano (1997)</th>\n      <th>Wag the Dog (1997)</th>\n      <th>Welcome to the Dollhouse (1995)</th>\n      <th>What's Eating Gilbert Grape (1993)</th>\n      <th>When Harry Met Sally... (1989)</th>\n      <th>While You Were Sleeping (1995)</th>\n      <th>Willy Wonka and the Chocolate Factory (1971)</th>\n      <th>Wizard of Oz, The (1939)</th>\n      <th>Wrong Trousers, The (1993)</th>\n      <th>Young Frankenstein (1974)</th>\n    </tr>\n    <tr>\n      <th>user_id</th>\n      <th></th>\n      <th></th>\n      <th></th>\n      <th></th>\n      <th></th>\n      <th></th>\n      <th></th>\n      <th></th>\n      <th></th>\n      <th></th>\n      <th></th>\n      <th></th>\n      <th></th>\n      <th></th>\n      <th></th>\n      <th></th>\n      <th></th>\n      <th></th>\n      <th></th>\n      <th></th>\n      <th></th>\n    </tr>\n  </thead>\n  <tbody>\n    <tr>\n      <th>1</th>\n      <td>1.130435</td>\n      <td>0.130435</td>\n      <td>-0.869565</td>\n      <td>NaN</td>\n      <td>0.130435</td>\n      <td>1.130435</td>\n      <td>NaN</td>\n      <td>1.130435</td>\n      <td>1.130435</td>\n      <td>NaN</td>\n      <td>...</td>\n      <td>NaN</td>\n      <td>NaN</td>\n      <td>1.130435</td>\n      <td>0.130435</td>\n      <td>1.130435</td>\n      <td>0.130435</td>\n      <td>0.130435</td>\n      <td>0.130435</td>\n      <td>1.130435</td>\n      <td>1.130435</td>\n    </tr>\n    <tr>\n      <th>105</th>\n      <td>NaN</td>\n      <td>NaN</td>\n      <td>NaN</td>\n      <td>NaN</td>\n      <td>NaN</td>\n      <td>NaN</td>\n      <td>-1.181818</td>\n      <td>NaN</td>\n      <td>NaN</td>\n      <td>NaN</td>\n      <td>...</td>\n      <td>NaN</td>\n      <td>-0.181818</td>\n      <td>NaN</td>\n      <td>NaN</td>\n      <td>NaN</td>\n      <td>NaN</td>\n      <td>NaN</td>\n      <td>NaN</td>\n      <td>NaN</td>\n      <td>NaN</td>\n    </tr>\n    <tr>\n      <th>273</th>\n      <td>NaN</td>\n      <td>NaN</td>\n      <td>NaN</td>\n      <td>NaN</td>\n      <td>NaN</td>\n      <td>NaN</td>\n      <td>NaN</td>\n      <td>NaN</td>\n      <td>NaN</td>\n      <td>NaN</td>\n      <td>...</td>\n      <td>NaN</td>\n      <td>0.555556</td>\n      <td>NaN</td>\n      <td>NaN</td>\n      <td>NaN</td>\n      <td>NaN</td>\n      <td>NaN</td>\n      <td>NaN</td>\n      <td>NaN</td>\n      <td>NaN</td>\n    </tr>\n    <tr>\n      <th>281</th>\n      <td>NaN</td>\n      <td>NaN</td>\n      <td>NaN</td>\n      <td>0.384615</td>\n      <td>NaN</td>\n      <td>NaN</td>\n      <td>NaN</td>\n      <td>NaN</td>\n      <td>NaN</td>\n      <td>NaN</td>\n      <td>...</td>\n      <td>NaN</td>\n      <td>NaN</td>\n      <td>NaN</td>\n      <td>NaN</td>\n      <td>NaN</td>\n      <td>NaN</td>\n      <td>NaN</td>\n      <td>NaN</td>\n      <td>NaN</td>\n      <td>NaN</td>\n    </tr>\n    <tr>\n      <th>319</th>\n      <td>NaN</td>\n      <td>NaN</td>\n      <td>NaN</td>\n      <td>NaN</td>\n      <td>NaN</td>\n      <td>NaN</td>\n      <td>NaN</td>\n      <td>NaN</td>\n      <td>NaN</td>\n      <td>-0.250000</td>\n      <td>...</td>\n      <td>NaN</td>\n      <td>NaN</td>\n      <td>NaN</td>\n      <td>NaN</td>\n      <td>NaN</td>\n      <td>NaN</td>\n      <td>NaN</td>\n      <td>NaN</td>\n      <td>NaN</td>\n      <td>NaN</td>\n    </tr>\n    <tr>\n      <th>351</th>\n      <td>NaN</td>\n      <td>NaN</td>\n      <td>NaN</td>\n      <td>0.714286</td>\n      <td>NaN</td>\n      <td>NaN</td>\n      <td>-1.285714</td>\n      <td>NaN</td>\n      <td>NaN</td>\n      <td>0.714286</td>\n      <td>...</td>\n      <td>-0.285714</td>\n      <td>NaN</td>\n      <td>NaN</td>\n      <td>NaN</td>\n      <td>NaN</td>\n      <td>NaN</td>\n      <td>NaN</td>\n      <td>NaN</td>\n      <td>NaN</td>\n      <td>NaN</td>\n    </tr>\n    <tr>\n      <th>369</th>\n      <td>NaN</td>\n      <td>NaN</td>\n      <td>NaN</td>\n      <td>NaN</td>\n      <td>NaN</td>\n      <td>NaN</td>\n      <td>NaN</td>\n      <td>NaN</td>\n      <td>NaN</td>\n      <td>NaN</td>\n      <td>...</td>\n      <td>NaN</td>\n      <td>NaN</td>\n      <td>NaN</td>\n      <td>NaN</td>\n      <td>NaN</td>\n      <td>NaN</td>\n      <td>NaN</td>\n      <td>NaN</td>\n      <td>NaN</td>\n      <td>NaN</td>\n    </tr>\n    <tr>\n      <th>519</th>\n      <td>NaN</td>\n      <td>NaN</td>\n      <td>NaN</td>\n      <td>NaN</td>\n      <td>NaN</td>\n      <td>NaN</td>\n      <td>NaN</td>\n      <td>NaN</td>\n      <td>NaN</td>\n      <td>NaN</td>\n      <td>...</td>\n      <td>NaN</td>\n      <td>NaN</td>\n      <td>NaN</td>\n      <td>NaN</td>\n      <td>NaN</td>\n      <td>NaN</td>\n      <td>NaN</td>\n      <td>NaN</td>\n      <td>NaN</td>\n      <td>NaN</td>\n    </tr>\n    <tr>\n      <th>520</th>\n      <td>NaN</td>\n      <td>NaN</td>\n      <td>NaN</td>\n      <td>NaN</td>\n      <td>NaN</td>\n      <td>NaN</td>\n      <td>NaN</td>\n      <td>NaN</td>\n      <td>NaN</td>\n      <td>NaN</td>\n      <td>...</td>\n      <td>NaN</td>\n      <td>NaN</td>\n      <td>NaN</td>\n      <td>NaN</td>\n      <td>NaN</td>\n      <td>NaN</td>\n      <td>NaN</td>\n      <td>NaN</td>\n      <td>NaN</td>\n      <td>NaN</td>\n    </tr>\n    <tr>\n      <th>531</th>\n      <td>NaN</td>\n      <td>NaN</td>\n      <td>NaN</td>\n      <td>-0.111111</td>\n      <td>NaN</td>\n      <td>NaN</td>\n      <td>NaN</td>\n      <td>NaN</td>\n      <td>NaN</td>\n      <td>NaN</td>\n      <td>...</td>\n      <td>NaN</td>\n      <td>NaN</td>\n      <td>NaN</td>\n      <td>NaN</td>\n      <td>NaN</td>\n      <td>NaN</td>\n      <td>NaN</td>\n      <td>NaN</td>\n      <td>NaN</td>\n      <td>NaN</td>\n    </tr>\n  </tbody>\n</table>\n<p>10 rows × 193 columns</p>\n</div>"
     },
     "execution_count": 36,
     "metadata": {},
     "output_type": "execute_result"
    }
   ],
   "source": [
    "similar_user_movies = matrix_norm[matrix_norm.index.isin(similar_users.index)].dropna(axis=1, how='all')\n",
    "similar_user_movies"
   ],
   "metadata": {
    "collapsed": false
   }
  },
  {
   "cell_type": "code",
   "execution_count": 37,
   "outputs": [
    {
     "data": {
      "text/plain": "                                              movie  movie_score\n125                          Peacemaker, The (1997)     1.785714\n31                               Chasing Amy (1997)     1.211008\n122                 Nikita (La Femme Nikita) (1990)     1.130435\n120          Nightmare Before Christmas, The (1993)     1.130435\n117  Mystery Science Theater 3000: The Movie (1996)     1.130435\n112                       Mr. Holland's Opus (1995)     1.130435\n111             Monty Python's Life of Brian (1979)     1.130435\n110          Monty Python and the Holy Grail (1974)     1.130435\n109                         Mighty Aphrodite (1995)     1.130435\n105                            Mars Attacks! (1996)     1.130435",
      "text/html": "<div>\n<style scoped>\n    .dataframe tbody tr th:only-of-type {\n        vertical-align: middle;\n    }\n\n    .dataframe tbody tr th {\n        vertical-align: top;\n    }\n\n    .dataframe thead th {\n        text-align: right;\n    }\n</style>\n<table border=\"1\" class=\"dataframe\">\n  <thead>\n    <tr style=\"text-align: right;\">\n      <th></th>\n      <th>movie</th>\n      <th>movie_score</th>\n    </tr>\n  </thead>\n  <tbody>\n    <tr>\n      <th>125</th>\n      <td>Peacemaker, The (1997)</td>\n      <td>1.785714</td>\n    </tr>\n    <tr>\n      <th>31</th>\n      <td>Chasing Amy (1997)</td>\n      <td>1.211008</td>\n    </tr>\n    <tr>\n      <th>122</th>\n      <td>Nikita (La Femme Nikita) (1990)</td>\n      <td>1.130435</td>\n    </tr>\n    <tr>\n      <th>120</th>\n      <td>Nightmare Before Christmas, The (1993)</td>\n      <td>1.130435</td>\n    </tr>\n    <tr>\n      <th>117</th>\n      <td>Mystery Science Theater 3000: The Movie (1996)</td>\n      <td>1.130435</td>\n    </tr>\n    <tr>\n      <th>112</th>\n      <td>Mr. Holland's Opus (1995)</td>\n      <td>1.130435</td>\n    </tr>\n    <tr>\n      <th>111</th>\n      <td>Monty Python's Life of Brian (1979)</td>\n      <td>1.130435</td>\n    </tr>\n    <tr>\n      <th>110</th>\n      <td>Monty Python and the Holy Grail (1974)</td>\n      <td>1.130435</td>\n    </tr>\n    <tr>\n      <th>109</th>\n      <td>Mighty Aphrodite (1995)</td>\n      <td>1.130435</td>\n    </tr>\n    <tr>\n      <th>105</th>\n      <td>Mars Attacks! (1996)</td>\n      <td>1.130435</td>\n    </tr>\n  </tbody>\n</table>\n</div>"
     },
     "execution_count": 37,
     "metadata": {},
     "output_type": "execute_result"
    }
   ],
   "source": [
    "item_score = {}\n",
    "for i in similar_user_movies.columns:\n",
    "    # Get the ratings for movie i\n",
    "    movie_rating = similar_user_movies[i]\n",
    "    total, count = 0, 0\n",
    "    for u in similar_users.index:\n",
    "        if not pd.isna(movie_rating[u]):\n",
    "            # Score is the sum of user similarity score multiply by the movie rating\n",
    "            score = similar_users[u] * movie_rating[u]\n",
    "            # Add the score to the total score for the movie so far\n",
    "            total += score\n",
    "            # Add 1 to the count\n",
    "            count +=1\n",
    "    # Get the average score for the item\n",
    "    item_score[i] = total / count\n",
    "item_score = pd.DataFrame(item_score.items(), columns=['movie', 'movie_score'])\n",
    "\n",
    "ranked_item_score = item_score.sort_values(by='movie_score', ascending=False)\n",
    "ranked_item_score.head(10)"
   ],
   "metadata": {
    "collapsed": false
   }
  },
  {
   "cell_type": "code",
   "execution_count": 38,
   "outputs": [
    {
     "name": "stdout",
     "output_type": "stream",
     "text": [
      "The average movie rating for user 1 is 3.87\n"
     ]
    }
   ],
   "source": [
    "avg_rating = matrix[matrix.index == picked_userid].T.mean()[picked_userid]\n",
    "print(f'The average movie rating for user {picked_userid} is {avg_rating:.2f}')"
   ],
   "metadata": {
    "collapsed": false
   }
  },
  {
   "cell_type": "code",
   "execution_count": 39,
   "outputs": [
    {
     "data": {
      "text/plain": "                                              movie  movie_score  \\\n125                          Peacemaker, The (1997)     1.785714   \n31                               Chasing Amy (1997)     1.211008   \n122                 Nikita (La Femme Nikita) (1990)     1.130435   \n120          Nightmare Before Christmas, The (1993)     1.130435   \n117  Mystery Science Theater 3000: The Movie (1996)     1.130435   \n112                       Mr. Holland's Opus (1995)     1.130435   \n111             Monty Python's Life of Brian (1979)     1.130435   \n110          Monty Python and the Holy Grail (1974)     1.130435   \n109                         Mighty Aphrodite (1995)     1.130435   \n105                            Mars Attacks! (1996)     1.130435   \n\n     predicted_rating  \n125          5.655280  \n31           5.080573  \n122          5.000000  \n120          5.000000  \n117          5.000000  \n112          5.000000  \n111          5.000000  \n110          5.000000  \n109          5.000000  \n105          5.000000  ",
      "text/html": "<div>\n<style scoped>\n    .dataframe tbody tr th:only-of-type {\n        vertical-align: middle;\n    }\n\n    .dataframe tbody tr th {\n        vertical-align: top;\n    }\n\n    .dataframe thead th {\n        text-align: right;\n    }\n</style>\n<table border=\"1\" class=\"dataframe\">\n  <thead>\n    <tr style=\"text-align: right;\">\n      <th></th>\n      <th>movie</th>\n      <th>movie_score</th>\n      <th>predicted_rating</th>\n    </tr>\n  </thead>\n  <tbody>\n    <tr>\n      <th>125</th>\n      <td>Peacemaker, The (1997)</td>\n      <td>1.785714</td>\n      <td>5.655280</td>\n    </tr>\n    <tr>\n      <th>31</th>\n      <td>Chasing Amy (1997)</td>\n      <td>1.211008</td>\n      <td>5.080573</td>\n    </tr>\n    <tr>\n      <th>122</th>\n      <td>Nikita (La Femme Nikita) (1990)</td>\n      <td>1.130435</td>\n      <td>5.000000</td>\n    </tr>\n    <tr>\n      <th>120</th>\n      <td>Nightmare Before Christmas, The (1993)</td>\n      <td>1.130435</td>\n      <td>5.000000</td>\n    </tr>\n    <tr>\n      <th>117</th>\n      <td>Mystery Science Theater 3000: The Movie (1996)</td>\n      <td>1.130435</td>\n      <td>5.000000</td>\n    </tr>\n    <tr>\n      <th>112</th>\n      <td>Mr. Holland's Opus (1995)</td>\n      <td>1.130435</td>\n      <td>5.000000</td>\n    </tr>\n    <tr>\n      <th>111</th>\n      <td>Monty Python's Life of Brian (1979)</td>\n      <td>1.130435</td>\n      <td>5.000000</td>\n    </tr>\n    <tr>\n      <th>110</th>\n      <td>Monty Python and the Holy Grail (1974)</td>\n      <td>1.130435</td>\n      <td>5.000000</td>\n    </tr>\n    <tr>\n      <th>109</th>\n      <td>Mighty Aphrodite (1995)</td>\n      <td>1.130435</td>\n      <td>5.000000</td>\n    </tr>\n    <tr>\n      <th>105</th>\n      <td>Mars Attacks! (1996)</td>\n      <td>1.130435</td>\n      <td>5.000000</td>\n    </tr>\n  </tbody>\n</table>\n</div>"
     },
     "execution_count": 39,
     "metadata": {},
     "output_type": "execute_result"
    }
   ],
   "source": [
    "# Calcuate the predicted rating\n",
    "ranked_item_score['predicted_rating'] = ranked_item_score['movie_score'] + avg_rating\n",
    "# Take a look at the data\n",
    "ranked_item_score.head(10)"
   ],
   "metadata": {
    "collapsed": false
   }
  },
  {
   "cell_type": "code",
   "execution_count": null,
   "outputs": [],
   "source": [],
   "metadata": {
    "collapsed": false
   }
  }
 ],
 "metadata": {
  "kernelspec": {
   "display_name": "Python 3",
   "language": "python",
   "name": "python3"
  },
  "language_info": {
   "codemirror_mode": {
    "name": "ipython",
    "version": 2
   },
   "file_extension": ".py",
   "mimetype": "text/x-python",
   "name": "python",
   "nbconvert_exporter": "python",
   "pygments_lexer": "ipython2",
   "version": "2.7.6"
  }
 },
 "nbformat": 4,
 "nbformat_minor": 0
}
