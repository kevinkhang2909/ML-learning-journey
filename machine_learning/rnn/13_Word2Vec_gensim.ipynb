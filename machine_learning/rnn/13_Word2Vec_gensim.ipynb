{
 "cells": [
  {
   "cell_type": "code",
   "execution_count": null,
   "metadata": {
    "colab": {},
    "colab_type": "code",
    "id": "p5DjTBMW_tDU",
    "pycharm": {
     "name": "#%%\n"
    }
   },
   "outputs": [],
   "source": [
    "from gensim.models import Word2Vec\n",
    "from nltk.tokenize import word_tokenize\n",
    "import nltk\n",
    "import pandas as pd\n",
    "# csv = pd.read_csv(\"/content/drive/My Drive/IMDB Dataset.csv\")\n",
    "# vocab = csv[\"review\"].values\n",
    "# nltk.download('punkt')"
   ]
  },
  {
   "cell_type": "code",
   "execution_count": null,
   "metadata": {
    "colab": {
     "base_uri": "https://localhost:8080/",
     "height": 128
    },
    "colab_type": "code",
    "id": "pZk_IxySUSKY",
    "outputId": "f4906192-0955-440e-dd22-0e0d642cdf16",
    "pycharm": {
     "name": "#%%\n"
    }
   },
   "outputs": [
    {
     "name": "stdout",
     "output_type": "stream",
     "text": [
      "Go to this URL in a browser: https://accounts.google.com/o/oauth2/auth?client_id=947318989803-6bn6qk8qdgf4n4g3pfee6491hc0brc4i.apps.googleusercontent.com&redirect_uri=urn%3aietf%3awg%3aoauth%3a2.0%3aoob&response_type=code&scope=email%20https%3a%2f%2fwww.googleapis.com%2fauth%2fdocs.test%20https%3a%2f%2fwww.googleapis.com%2fauth%2fdrive%20https%3a%2f%2fwww.googleapis.com%2fauth%2fdrive.photos.readonly%20https%3a%2f%2fwww.googleapis.com%2fauth%2fpeopleapi.readonly\n",
      "\n",
      "Enter your authorization code:\n",
      "··········\n",
      "Mounted at /content/drive\n"
     ]
    }
   ],
   "source": [
    "from google.colab import drive\n",
    "drive.mount('/content/drive')"
   ]
  },
  {
   "cell_type": "code",
   "execution_count": null,
   "metadata": {
    "colab": {
     "base_uri": "https://localhost:8080/",
     "height": 583
    },
    "colab_type": "code",
    "id": "3RxbEiQWBTyQ",
    "outputId": "78cb4b7b-6cd1-4fd9-96e1-1ee34567411c",
    "pycharm": {
     "name": "#%%\n"
    }
   },
   "outputs": [
    {
     "name": "stdout",
     "output_type": "stream",
     "text": [
      "Model summary: Word2Vec(vocab=15, size=100, alpha=0.025)\n",
      "List words in vocabulary: ['this', 'is', 'the', 'first', 'sentence', 'for', 'word2vec', 'second', 'it', 'third', 'yet', 'another', 'one', 'more', 'final']\n",
      "Vector for word 'sentence': [-3.9263540e-03  9.8158245e-04 -4.3400195e-03 -3.7862891e-03\n",
      " -4.4064703e-03  3.0587218e-03  2.3430544e-03  4.1764090e-03\n",
      "  2.3138842e-03 -2.9604482e-03 -4.8101097e-03  2.6583916e-03\n",
      " -2.4510347e-03  3.4271986e-03 -3.1066742e-03 -2.9012875e-03\n",
      " -2.1899526e-03 -3.1067813e-03  3.3531208e-03 -4.7696549e-03\n",
      " -2.3461101e-03  8.5888169e-04  8.8542385e-04 -2.6131156e-03\n",
      "  3.1454845e-03  2.2050345e-03  1.6837126e-04 -2.7746256e-03\n",
      "  2.2980166e-03 -3.9524306e-03  4.0755668e-03  3.9051911e-03\n",
      " -2.6560372e-03  3.3071332e-04 -3.9705737e-03  4.1565592e-03\n",
      " -1.2755182e-03  9.6070289e-04 -2.0113226e-03 -2.7136658e-03\n",
      " -4.9639522e-04 -6.0666254e-04  1.2179464e-03  2.5426161e-03\n",
      " -3.4442018e-03 -3.6046628e-03 -4.0561198e-03 -2.5898442e-03\n",
      " -4.1006482e-03 -3.5896073e-03  2.9500141e-03 -2.4392004e-03\n",
      " -2.7369750e-03 -4.7026877e-03  4.1010771e-03 -4.7105998e-03\n",
      "  1.6003775e-03  4.1519576e-03  2.8175255e-03 -4.2550531e-03\n",
      "  2.2144876e-03  1.8939049e-03  1.3645947e-03  4.8627816e-03\n",
      "  2.2534837e-03  3.2971944e-03  1.7799122e-03 -2.3437950e-03\n",
      " -1.3184142e-03  2.7988397e-03 -1.1141982e-03  2.2493720e-03\n",
      " -1.1171994e-03 -5.2773033e-04 -1.0448989e-03  3.5920285e-03\n",
      " -2.4830459e-03 -3.7390105e-03  1.1809831e-03 -3.1287057e-04\n",
      "  8.1602129e-04  7.9190667e-04 -4.8488585e-04 -4.9814428e-03\n",
      " -4.2117056e-03  3.7355323e-03 -7.1320712e-05  4.5190551e-03\n",
      " -2.6908580e-03  9.6258667e-04 -6.4730184e-04 -6.8780314e-04\n",
      " -4.6183867e-03 -2.2690429e-05 -3.2252807e-03  3.5359720e-03\n",
      "  2.5669357e-03 -4.3001892e-03 -3.1845034e-03 -1.0676673e-03]\n"
     ]
    },
    {
     "name": "stderr",
     "output_type": "stream",
     "text": [
      "/usr/local/lib/python3.6/dist-packages/ipykernel_launcher.py:20: DeprecationWarning: Call to deprecated `__getitem__` (Method will be removed in 4.0.0, use self.wv.__getitem__() instead).\n",
      "/usr/local/lib/python3.6/dist-packages/smart_open/smart_open_lib.py:253: UserWarning: This function is deprecated, use smart_open.open instead. See the migration notes for details: https://github.com/RaRe-Technologies/smart_open/blob/master/README.rst#migrating-to-the-new-open-function\n",
      "  'See the migration notes for details: %s' % _MIGRATION_NOTES_URL\n"
     ]
    }
   ],
   "source": [
    "# dữ liệu đầu vào \n",
    "sentences = [['this', 'is', 'the', 'first', 'sentence', 'for', 'word2vec'],\n",
    "      ['this', 'is', 'the', 'second', 'sentence', 'for', 'word2vec'],\n",
    "\t\t\t['it', 'is', 'the', 'third', 'sentence', 'for', 'word2vec'],\n",
    "\t\t\t['yet', 'another', 'sentence'],\n",
    "\t\t\t['one', 'more', 'sentence'],\n",
    "\t\t\t['the', 'final', 'sentence']]\n",
    "\n",
    "# train model\n",
    "model = Word2Vec(sentences,size = 100, min_count=1,sg = 1) \n",
    "\n",
    "# summarize the loaded model\n",
    "print(\"Model summary:\",model)\n",
    "\n",
    "# summarize vocabulary\n",
    "words = list(model.wv.vocab) # \n",
    "print(\"List words in vocabulary:\",words)\n",
    "\n",
    "# access vector for one word\n",
    "print(\"Vector for word 'sentence':\",model['sentence'])\n",
    "\n",
    "# save model\n",
    "model.save('model.bin')\n",
    "\n",
    "# load model\n",
    "new_model = Word2Vec.load('model.bin')"
   ]
  },
  {
   "cell_type": "code",
   "execution_count": null,
   "metadata": {
    "colab": {
     "base_uri": "https://localhost:8080/",
     "height": 72
    },
    "colab_type": "code",
    "id": "njhJ4Pf3CALy",
    "outputId": "ff0a379d-c713-47e4-c931-5f8bce9c0097",
    "pycharm": {
     "name": "#%%\n"
    }
   },
   "outputs": [
    {
     "name": "stdout",
     "output_type": "stream",
     "text": [
      "X shape (15, 100)\n"
     ]
    },
    {
     "name": "stderr",
     "output_type": "stream",
     "text": [
      "/usr/local/lib/python3.6/dist-packages/ipykernel_launcher.py:2: DeprecationWarning: Call to deprecated `__getitem__` (Method will be removed in 4.0.0, use self.wv.__getitem__() instead).\n",
      "  \n"
     ]
    }
   ],
   "source": [
    "#Get all vectors of vocabulary\n",
    "X = model[model.wv.vocab]\n",
    "print(\"X shape\",X.shape)"
   ]
  },
  {
   "cell_type": "code",
   "execution_count": null,
   "metadata": {
    "colab": {},
    "colab_type": "code",
    "id": "4zDLxG0ZDJhY",
    "pycharm": {
     "name": "#%%\n"
    }
   },
   "outputs": [],
   "source": [
    "# Sử dụng PCA để giảm chiều để vẽ lên đucợ biểu đồ\n",
    "from sklearn.decomposition import PCA\n",
    "pca = PCA(n_components=2)\n",
    "result = pca.fit_transform(X)"
   ]
  },
  {
   "cell_type": "code",
   "execution_count": null,
   "metadata": {
    "colab": {
     "base_uri": "https://localhost:8080/",
     "height": 956
    },
    "colab_type": "code",
    "id": "q0RdeHlTDWvh",
    "outputId": "3e8b5d4b-f241-4096-a79f-9e5b068d4c7a",
    "pycharm": {
     "name": "#%%\n"
    }
   },
   "outputs": [
    {
     "data": {
      "image/png": "[encoded data removed]",
      "text/plain": [
       "<Figure size 1200x1200 with 1 Axes>"
      ]
     },
     "metadata": {
      "tags": []
     },
     "output_type": "display_data"
    }
   ],
   "source": [
    "from matplotlib import pyplot\n",
    "from matplotlib.pyplot import figure\n",
    "figure(num=None, figsize=(15, 15), dpi=80, facecolor='w', edgecolor='k')\n",
    "# create a scatter plot of the projection\n",
    "pyplot.scatter(result[:, 0], result[:, 1])\n",
    "words = list(model.wv.vocab)\n",
    "for i, word in enumerate(words):\n",
    "\tpyplot.annotate(word, xy=(result[i, 0], result[i, 1]))\n",
    "pyplot.show()"
   ]
  },
  {
   "cell_type": "code",
   "execution_count": null,
   "metadata": {
    "colab": {},
    "colab_type": "code",
    "id": "Zrcccn-mRySj",
    "pycharm": {
     "name": "#%%\n"
    }
   },
   "outputs": [],
   "source": []
  }
 ],
 "metadata": {
  "colab": {
   "collapsed_sections": [],
   "name": "13_Word2Vec_gensim.ipynb",
   "provenance": []
  },
  "kernelspec": {
   "display_name": "Python 3",
   "language": "python",
   "name": "python3"
  },
  "language_info": {
   "codemirror_mode": {
    "name": "ipython",
    "version": 3
   },
   "file_extension": ".py",
   "mimetype": "text/x-python",
   "name": "python",
   "nbconvert_exporter": "python",
   "pygments_lexer": "ipython3",
   "version": "3.7.7"
  }
 },
 "nbformat": 4,
 "nbformat_minor": 4
}