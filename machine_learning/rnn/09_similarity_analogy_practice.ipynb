{
  "nbformat": 4,
  "nbformat_minor": 0,
  "metadata": {
    "celltoolbar": "Slideshow",
    "kernelspec": {
      "display_name": "Python 3",
      "language": "python",
      "name": "python3"
    },
    "language_info": {
      "codemirror_mode": {
        "name": "ipython",
        "version": 3
      },
      "file_extension": ".py",
      "mimetype": "text/x-python",
      "name": "python",
      "nbconvert_exporter": "python",
      "pygments_lexer": "ipython3",
      "version": "3.7.1"
    },
    "toc": {
      "base_numbering": 1,
      "nav_menu": {},
      "number_sections": true,
      "sideBar": true,
      "skip_h1_title": false,
      "title_cell": "Table of Contents",
      "title_sidebar": "Contents",
      "toc_cell": false,
      "toc_position": {},
      "toc_section_display": true,
      "toc_window_display": false
    },
    "colab": {
      "name": "09 similarity-analogy practice.ipynb",
      "provenance": [],
      "collapsed_sections": []
    }
  },
  "cells": [
    {
      "cell_type": "markdown",
      "metadata": {
        "id": "5AHofnLWd1oe",
        "colab_type": "text"
      },
      "source": [
        "# Finding Synonyms and Analogies\n",
        "\n",
        "## Using Pre-trained Word Vectors"
      ]
    },
    {
      "cell_type": "code",
      "metadata": {
        "id": "TDVq-luDd-8i",
        "colab_type": "code",
        "outputId": "e76d658d-0b73-4770-8d1e-086fef0afccb",
        "colab": {
          "base_uri": "https://localhost:8080/",
          "height": 301
        }
      },
      "source": [
        "!pip install mxnet\n",
        "\n",
        "#https://en.wikipedia.org/wiki/Apache_MXNet"
      ],
      "execution_count": 0,
      "outputs": [
        {
          "output_type": "stream",
          "text": [
            "Collecting mxnet\n",
            "\u001b[?25l  Downloading https://files.pythonhosted.org/packages/81/f5/d79b5b40735086ff1100c680703e0f3efc830fa455e268e9e96f3c857e93/mxnet-1.6.0-py2.py3-none-any.whl (68.7MB)\n",
            "\u001b[K     |████████████████████████████████| 68.7MB 55kB/s \n",
            "\u001b[?25hRequirement already satisfied: numpy<2.0.0,>1.16.0 in /usr/local/lib/python3.6/dist-packages (from mxnet) (1.18.4)\n",
            "Collecting graphviz<0.9.0,>=0.8.1\n",
            "  Downloading https://files.pythonhosted.org/packages/53/39/4ab213673844e0c004bed8a0781a0721a3f6bb23eb8854ee75c236428892/graphviz-0.8.4-py2.py3-none-any.whl\n",
            "Requirement already satisfied: requests<3,>=2.20.0 in /usr/local/lib/python3.6/dist-packages (from mxnet) (2.23.0)\n",
            "Requirement already satisfied: idna<3,>=2.5 in /usr/local/lib/python3.6/dist-packages (from requests<3,>=2.20.0->mxnet) (2.9)\n",
            "Requirement already satisfied: urllib3!=1.25.0,!=1.25.1,<1.26,>=1.21.1 in /usr/local/lib/python3.6/dist-packages (from requests<3,>=2.20.0->mxnet) (1.24.3)\n",
            "Requirement already satisfied: chardet<4,>=3.0.2 in /usr/local/lib/python3.6/dist-packages (from requests<3,>=2.20.0->mxnet) (3.0.4)\n",
            "Requirement already satisfied: certifi>=2017.4.17 in /usr/local/lib/python3.6/dist-packages (from requests<3,>=2.20.0->mxnet) (2020.4.5.1)\n",
            "Installing collected packages: graphviz, mxnet\n",
            "  Found existing installation: graphviz 0.10.1\n",
            "    Uninstalling graphviz-0.10.1:\n",
            "      Successfully uninstalled graphviz-0.10.1\n",
            "Successfully installed graphviz-0.8.4 mxnet-1.6.0\n"
          ],
          "name": "stdout"
        }
      ]
    },
    {
      "cell_type": "code",
      "metadata": {
        "ExecuteTime": {
          "end_time": "2019-04-18T23:51:15.173228Z",
          "start_time": "2019-04-18T23:51:14.449449Z"
        },
        "id": "nNgAe3Ewd1oj",
        "colab_type": "code",
        "outputId": "590db563-af0d-46d5-e203-0740fa8e749f",
        "colab": {
          "base_uri": "https://localhost:8080/",
          "height": 34
        }
      },
      "source": [
        "from mxnet import nd\n",
        "from mxnet.contrib import text\n",
        "\n",
        "text.embedding.get_pretrained_file_names().keys()"
      ],
      "execution_count": 0,
      "outputs": [
        {
          "output_type": "execute_result",
          "data": {
            "text/plain": [
              "dict_keys(['glove', 'fasttext'])"
            ]
          },
          "metadata": {
            "tags": []
          },
          "execution_count": 3
        }
      ]
    },
    {
      "cell_type": "markdown",
      "metadata": {
        "id": "zMuhwtyMd1pB",
        "colab_type": "text"
      },
      "source": [
        "All pre-trained models"
      ]
    },
    {
      "cell_type": "code",
      "metadata": {
        "ExecuteTime": {
          "end_time": "2019-04-18T23:51:15.178198Z",
          "start_time": "2019-04-18T23:51:15.175035Z"
        },
        "attributes": {
          "classes": [],
          "id": "",
          "n": "35"
        },
        "id": "XrkZAhWCd1pE",
        "colab_type": "code",
        "outputId": "90e87bbe-6398-4bd2-cf1a-55327100dd2f",
        "colab": {
          "base_uri": "https://localhost:8080/",
          "height": 54
        }
      },
      "source": [
        "print(text.embedding.get_pretrained_file_names('glove'))"
      ],
      "execution_count": 0,
      "outputs": [
        {
          "output_type": "stream",
          "text": [
            "['glove.42B.300d.txt', 'glove.6B.50d.txt', 'glove.6B.100d.txt', 'glove.6B.200d.txt', 'glove.6B.300d.txt', 'glove.840B.300d.txt', 'glove.twitter.27B.25d.txt', 'glove.twitter.27B.50d.txt', 'glove.twitter.27B.100d.txt', 'glove.twitter.27B.200d.txt']\n"
          ],
          "name": "stdout"
        }
      ]
    },
    {
      "cell_type": "markdown",
      "metadata": {
        "id": "3lYZwIdXd1pU",
        "colab_type": "text"
      },
      "source": [
        "Grab a particular model."
      ]
    },
    {
      "cell_type": "code",
      "metadata": {
        "ExecuteTime": {
          "end_time": "2019-04-18T23:51:22.625568Z",
          "start_time": "2019-04-18T23:51:15.179887Z"
        },
        "attributes": {
          "classes": [],
          "id": "",
          "n": "11"
        },
        "id": "RU7iC6Pvd1pY",
        "colab_type": "code",
        "colab": {}
      },
      "source": [
        "embedding = text.embedding.create(\n",
        "    '...', pretrained_file_name='...')"
      ],
      "execution_count": 0,
      "outputs": []
    },
    {
      "cell_type": "markdown",
      "metadata": {
        "id": "Wqwue7jed1pn",
        "colab_type": "text"
      },
      "source": [
        "Print the dictionary size."
      ]
    },
    {
      "cell_type": "code",
      "metadata": {
        "ExecuteTime": {
          "end_time": "2019-04-18T23:51:22.634617Z",
          "start_time": "2019-04-18T23:51:22.627546Z"
        },
        "id": "btmGZVMpd1pr",
        "colab_type": "code",
        "outputId": "e9f1f8f6-3ca9-4522-ecd6-b0a52dbc0904",
        "colab": {}
      },
      "source": [
        "len(embedding)"
      ],
      "execution_count": 0,
      "outputs": [
        {
          "output_type": "execute_result",
          "data": {
            "text/plain": [
              "400001"
            ]
          },
          "metadata": {
            "tags": []
          },
          "execution_count": 4
        }
      ]
    },
    {
      "cell_type": "markdown",
      "metadata": {
        "id": "QKQU4l-nd1p9",
        "colab_type": "text"
      },
      "source": [
        "We can use a word to get its index in the dictionary, or we can get the word from its index."
      ]
    },
    {
      "cell_type": "code",
      "metadata": {
        "ExecuteTime": {
          "end_time": "2019-04-18T23:51:22.640103Z",
          "start_time": "2019-04-18T23:51:22.635928Z"
        },
        "attributes": {
          "classes": [],
          "id": "",
          "n": "12"
        },
        "id": "raRRDEpsd1qA",
        "colab_type": "code",
        "outputId": "2854601b-d9e9-4c2b-80be-fec1dcd89cd9",
        "colab": {}
      },
      "source": [
        "embedding.token_to_idx['...'], glove_6b50d.idx_to_token[...]"
      ],
      "execution_count": 0,
      "outputs": [
        {
          "output_type": "execute_result",
          "data": {
            "text/plain": [
              "(3367, 'beautiful')"
            ]
          },
          "metadata": {
            "tags": []
          },
          "execution_count": 5
        }
      ]
    },
    {
      "cell_type": "markdown",
      "metadata": {
        "id": "u0upkK53d1qP",
        "colab_type": "text"
      },
      "source": [
        "## Applying Pre-trained Word Vectors\n",
        "\n",
        "\n",
        "\n"
      ]
    },
    {
      "cell_type": "code",
      "metadata": {
        "ExecuteTime": {
          "end_time": "2019-04-18T23:51:22.645865Z",
          "start_time": "2019-04-18T23:51:22.641383Z"
        },
        "id": "fa0xpWvLd1qS",
        "colab_type": "code",
        "colab": {}
      },
      "source": [
        "def knn(W, x, k):\n",
        "    # The added 1e-9 is for numerical stability\n",
        "    cos = nd.dot(W, x.reshape((-1,))) / (\n",
        "        (nd.sum(.., axis=1)).sqrt() * nd.sum(..).sqrt())\n",
        "    topk = nd.topk(cos, k=k, ret_typ='indices').asnumpy().astype('int32')\n",
        "    return topk, [cos[i].asscalar() for i in topk]"
      ],
      "execution_count": 0,
      "outputs": []
    },
    {
      "cell_type": "markdown",
      "metadata": {
        "id": "zzgAhucSd1qk",
        "colab_type": "text"
      },
      "source": [
        "Then, we search for synonyms by pre-training the word vector instance `embed`."
      ]
    },
    {
      "cell_type": "code",
      "metadata": {
        "ExecuteTime": {
          "end_time": "2019-04-18T23:51:22.651062Z",
          "start_time": "2019-04-18T23:51:22.647166Z"
        },
        "id": "xQEcgN26d1qn",
        "colab_type": "code",
        "colab": {}
      },
      "source": [
        "def get_similar_tokens(query_token, k, embed):\n",
        "    topk, cos = knn(embed.idx_to_vec,\n",
        "                    embed.get_vecs_by_tokens([query_token]), k+1)\n",
        "    for i, c in zip(topk[1:], cos[1:]):  # Remove input words\n",
        "        print('cosine sim=%.3f: %s' % (c, (embed.idx_to_token[i])))"
      ],
      "execution_count": 0,
      "outputs": []
    },
    {
      "cell_type": "markdown",
      "metadata": {
        "id": "VRjLg3-dd1q1",
        "colab_type": "text"
      },
      "source": [
        "Search in 400,000 words."
      ]
    },
    {
      "cell_type": "code",
      "metadata": {
        "ExecuteTime": {
          "end_time": "2019-04-18T23:54:40.625015Z",
          "start_time": "2019-04-18T23:54:40.491481Z"
        },
        "id": "TIfYDzq7d1q5",
        "colab_type": "code",
        "outputId": "96c445a6-b67f-4f98-9836-172db3699284",
        "colab": {}
      },
      "source": [
        "get_similar_tokens('amazon', 3, glove_6b50d)"
      ],
      "execution_count": 0,
      "outputs": [
        {
          "output_type": "stream",
          "text": [
            "cosine sim=0.663: unbox\n",
            "cosine sim=0.653: amazon.com\n",
            "cosine sim=0.647: palm\n"
          ],
          "name": "stdout"
        }
      ]
    },
    {
      "cell_type": "code",
      "metadata": {
        "ExecuteTime": {
          "end_time": "2019-04-18T23:51:22.927030Z",
          "start_time": "2019-04-18T23:51:22.794937Z"
        },
        "id": "hofcuHfnd1rH",
        "colab_type": "code",
        "outputId": "ae164964-9243-4a4d-bfe6-028a0c742913",
        "colab": {}
      },
      "source": [
        "get_similar_tokens('baby', 3, glove_6b50d)"
      ],
      "execution_count": 0,
      "outputs": [
        {
          "output_type": "stream",
          "text": [
            "cosine sim=0.839: babies\n",
            "cosine sim=0.800: boy\n",
            "cosine sim=0.792: girl\n"
          ],
          "name": "stdout"
        }
      ]
    },
    {
      "cell_type": "code",
      "metadata": {
        "ExecuteTime": {
          "end_time": "2019-04-18T23:51:23.060462Z",
          "start_time": "2019-04-18T23:51:22.928497Z"
        },
        "id": "kgko35xFd1rW",
        "colab_type": "code",
        "outputId": "a1aeaeb0-21fb-48a8-98e2-23e358c24a52",
        "colab": {}
      },
      "source": [
        "get_similar_tokens('beautiful', 3, glove_6b50d)"
      ],
      "execution_count": 0,
      "outputs": [
        {
          "output_type": "stream",
          "text": [
            "cosine sim=0.921: lovely\n",
            "cosine sim=0.893: gorgeous\n",
            "cosine sim=0.830: wonderful\n"
          ],
          "name": "stdout"
        }
      ]
    },
    {
      "cell_type": "markdown",
      "metadata": {
        "id": "9ecH-iRxd1ro",
        "colab_type": "text"
      },
      "source": [
        "### Finding Analogies"
      ]
    },
    {
      "cell_type": "code",
      "metadata": {
        "ExecuteTime": {
          "end_time": "2019-04-18T23:51:23.065571Z",
          "start_time": "2019-04-18T23:51:23.061922Z"
        },
        "id": "jqAb_aHSd1rq",
        "colab_type": "code",
        "colab": {}
      },
      "source": [
        "def get_analogy(token_a, token_b, token_c, embed):\n",
        "    vecs = embed.get_vecs_by_tokens([token_a, token_b, token_c])\n",
        "    x = ...\n",
        "    topk, cos = knn(...)\n",
        "    return embed.idx_to_token[topk[0]]  "
      ],
      "execution_count": 0,
      "outputs": []
    },
    {
      "cell_type": "code",
      "metadata": {
        "ExecuteTime": {
          "end_time": "2019-04-18T23:56:24.531179Z",
          "start_time": "2019-04-18T23:56:24.398396Z"
        },
        "attributes": {
          "classes": [],
          "id": "",
          "n": "18"
        },
        "id": "M5cJMHmCd1r6",
        "colab_type": "code",
        "outputId": "9b3ce865-6580-4539-db07-fb0e7b62993f",
        "colab": {}
      },
      "source": [
        "get_analogy('man', 'woman', 'boy', glove_6b50d)"
      ],
      "execution_count": 0,
      "outputs": [
        {
          "output_type": "execute_result",
          "data": {
            "text/plain": [
              "'girl'"
            ]
          },
          "metadata": {
            "tags": []
          },
          "execution_count": 19
        }
      ]
    },
    {
      "cell_type": "code",
      "metadata": {
        "ExecuteTime": {
          "end_time": "2019-04-18T23:56:46.822734Z",
          "start_time": "2019-04-18T23:56:46.684969Z"
        },
        "attributes": {
          "classes": [],
          "id": "",
          "n": "19"
        },
        "id": "KQ-yiSied1sJ",
        "colab_type": "code",
        "outputId": "3462ed42-f1b2-4f89-e621-865050eed2df",
        "colab": {}
      },
      "source": [
        "get_analogy('china', 'beijing', 'japan', glove_6b50d)"
      ],
      "execution_count": 0,
      "outputs": [
        {
          "output_type": "execute_result",
          "data": {
            "text/plain": [
              "'tokyo'"
            ]
          },
          "metadata": {
            "tags": []
          },
          "execution_count": 21
        }
      ]
    },
    {
      "cell_type": "code",
      "metadata": {
        "ExecuteTime": {
          "end_time": "2019-04-18T23:57:07.409179Z",
          "start_time": "2019-04-18T23:57:07.276378Z"
        },
        "attributes": {
          "classes": [],
          "id": "",
          "n": "20"
        },
        "id": "Ph5EAsFJd1sX",
        "colab_type": "code",
        "outputId": "3e97973f-e06b-4898-eef5-5ce935d9a364",
        "colab": {}
      },
      "source": [
        "get_analogy('bad', 'worst', 'nice', glove_6b50d)"
      ],
      "execution_count": 0,
      "outputs": [
        {
          "output_type": "execute_result",
          "data": {
            "text/plain": [
              "'place'"
            ]
          },
          "metadata": {
            "tags": []
          },
          "execution_count": 23
        }
      ]
    },
    {
      "cell_type": "code",
      "metadata": {
        "ExecuteTime": {
          "end_time": "2019-04-18T23:51:23.601014Z",
          "start_time": "2019-04-18T23:51:23.468946Z"
        },
        "attributes": {
          "classes": [],
          "id": "",
          "n": "21"
        },
        "id": "YAz5Ya7Qd1sj",
        "colab_type": "code",
        "outputId": "4da11a38-c130-470d-8620-7947431b4720",
        "colab": {}
      },
      "source": [
        "get_analogy('do', 'did', 'go', glove_6b50d)"
      ],
      "execution_count": 0,
      "outputs": [
        {
          "output_type": "execute_result",
          "data": {
            "text/plain": [
              "'went'"
            ]
          },
          "metadata": {
            "tags": []
          },
          "execution_count": 15
        }
      ]
    }
  ]
}