{
 "cells": [
  {
   "cell_type": "markdown",
   "metadata": {
    "colab_type": "text",
    "id": "e4iMhSg6DwA1"
   },
   "source": [
    "# Kaggle contest \n",
    "\n",
    "![](https://storage.googleapis.com/kaggle-datasets-images/134715/320111/9230bbbadb805f8018c4dc289b72dd8c/dataset-cover.png?t=2019-05-24-07-03-05)\n",
    "\n",
    "https://www.kaggle.com/lakshmi25npathi/imdb-dataset-of-50k-movie-reviews"
   ]
  },
  {
   "cell_type": "code",
   "execution_count": null,
   "metadata": {
    "colab": {},
    "colab_type": "code",
    "id": "KVKP3R1mxAz5"
   },
   "outputs": [
    {
     "name": "stdout",
     "output_type": "stream",
     "text": [
      "Uninstalling tensorflow-2.0.0:\n",
      "  Successfully uninstalled tensorflow-2.0.0\n"
     ]
    }
   ],
   "source": [
    "# uninstall existing TensorFlow (TF-1.5) of Google Colab\n",
    "!pip uninstall -y tensorflow\n",
    "# install TensorFlow-2.0 with GPU support\n",
    "!pip install tensorflow-gpu\n",
    "\n",
    "import tensorflow as tf"
   ]
  },
  {
   "cell_type": "code",
   "execution_count": null,
   "metadata": {
    "colab": {},
    "colab_type": "code",
    "id": "lhHQ1aGoDhYG"
   },
   "outputs": [],
   "source": [
    "# Using library pandas to read csv file\n",
    "from pandas import pd\n",
    "data = pd.read_csv('raw/12 imdb_dataset.csv')\n",
    "\n",
    "# Let's print several lines at the begining\n",
    "# of csv file\n",
    "print(data.head())"
   ]
  },
  {
   "cell_type": "code",
   "execution_count": null,
   "metadata": {
    "colab": {},
    "colab_type": "code",
    "id": "Ycb8YBBZgkac"
   },
   "outputs": [],
   "source": [
    "# Download Glove (Global Vectors for Word Representation)\n",
    "!wget http://downloads.cs.stanford.edu/nlp/data/glove.6B.zip\n",
    "!unzip glove.6B.zip\n",
    "!ls -l\n",
    "!head -n 10 glove.6B.100d.txt"
   ]
  },
  {
   "cell_type": "markdown",
   "metadata": {
    "colab_type": "text",
    "id": "c7agH2iqxk9l"
   },
   "source": [
    "### Clean data\n",
    "\n",
    "Raw data:\n",
    "\n",
    "```\n",
    "Basically there's a family where a little boy (Jake) thinks there's a zombie in his closet & his parents are fighting all the time.<br /><br />This movie is slower than a soap opera... and suddenly, Jake decides to become Rambo and kill the zombie.<br /><br />OK, first of all when you're going to make a film you must Decide if its a thriller or a drama! As a drama the movie is watchable. Parents are divorcing & arguing like in real life. And then we have Jake with his closet which totally ruins all the film! I expected to see a BOOGEYMAN similar movie, and instead i watched a drama with some meaningless thriller spots.<br /><br />3 out of 10 just for the well playing parents & descent dialogs. As for the shots with Jake: just ignore them.\n",
    "```\n",
    "\n",
    "The raw data contains invaluable characters/tokens such as dot, question mark,  HTML tag, etc... We should clean this first\n",
    "\n",
    "Cleaned data should look like this\n",
    "\n",
    "```\n",
    "Basically there s a family where a little boy Jake thinks there s a zombie in his closet his parents are fighting all the time br br This movie is slower than a soap opera and suddenly Jake decides to become Rambo and kill the zombie br br OK first of all when you re going to make a film you must Decide if its a thriller or a drama As a drama the movie is watchable Parents are divorcing arguing like in real life And then we have Jake with his closet which totally ruins all the film I expected to see a BOOGEYMAN similar movie and instead i watched a drama with some meaningless thriller spots br br out of just for the well playing parents descent dialogs As for the shots with Jake just ignore them \n",
    "```\n",
    "\n"
   ]
  },
  {
   "cell_type": "code",
   "execution_count": null,
   "metadata": {
    "colab": {},
    "colab_type": "code",
    "id": "TPiT5mwDxl7U"
   },
   "outputs": [],
   "source": []
  },
  {
   "cell_type": "markdown",
   "metadata": {
    "colab_type": "text",
    "id": "N73E9DLkztD_"
   },
   "source": [
    "### Tokenize data\n",
    "You should use the library NLTK instead of simple string splitting\n"
   ]
  },
  {
   "cell_type": "code",
   "execution_count": null,
   "metadata": {
    "colab": {},
    "colab_type": "code",
    "id": "FCIOYCw01uap"
   },
   "outputs": [],
   "source": []
  },
  {
   "cell_type": "markdown",
   "metadata": {
    "colab_type": "text",
    "id": "hZICzKpC1u7h"
   },
   "source": [
    "### Build your own dictionary\n",
    "Get a list of the n highest frequency tokens from tokenized data. Which value n should be? It depends on your experience, language knowledge, task requirements, token frequency distribution, etc..."
   ]
  },
  {
   "cell_type": "code",
   "execution_count": null,
   "metadata": {
    "colab": {},
    "colab_type": "code",
    "id": "b6epilpb1x_Y"
   },
   "outputs": [],
   "source": []
  },
  {
   "cell_type": "markdown",
   "metadata": {
    "colab_type": "text",
    "id": "ZFUvw7xd1whp"
   },
   "source": [
    "### Refine tokenized data:\n",
    "\n",
    "Replace all token which does not exist in the above dictionary by special token: `UNKNOWN_TOKEN`. Remember to add this special token to our dictionary"
   ]
  },
  {
   "cell_type": "code",
   "execution_count": null,
   "metadata": {
    "colab": {},
    "colab_type": "code",
    "id": "xG2yAyC81yuC"
   },
   "outputs": [],
   "source": []
  },
  {
   "cell_type": "markdown",
   "metadata": {
    "colab_type": "text",
    "id": "qdf1D9tF1_W_"
   },
   "source": [
    "### Encode tokenzied data\n",
    "\n",
    "Replace all tokens by their indices in the above dictionary. Each token will be encoded to one-hot-coding later based on its dictionary index"
   ]
  },
  {
   "cell_type": "code",
   "execution_count": null,
   "metadata": {
    "colab": {},
    "colab_type": "code",
    "id": "2xnO4qZn2rN9"
   },
   "outputs": [],
   "source": []
  },
  {
   "cell_type": "markdown",
   "metadata": {
    "colab_type": "text",
    "id": "pbGmMb2F2rvh"
   },
   "source": [
    "### Padding\n",
    "\n",
    "Each data point here is a review with varying sizes. So, we have to choose the max length m and:\n",
    "- Trim all reviews that contains more than m tokens\n",
    "- Add UNKNOWN_TOKEN to the end of all reviews that contains less than m tokens\n"
   ]
  },
  {
   "cell_type": "code",
   "execution_count": null,
   "metadata": {
    "colab": {},
    "colab_type": "code",
    "id": "q_SVD0po4CTB"
   },
   "outputs": [],
   "source": []
  },
  {
   "cell_type": "markdown",
   "metadata": {
    "colab_type": "text",
    "id": "je3SykCu4CzZ"
   },
   "source": [
    "### Split train & test set"
   ]
  },
  {
   "cell_type": "code",
   "execution_count": null,
   "metadata": {
    "colab": {},
    "colab_type": "code",
    "id": "UEn4F1QV4Fm2"
   },
   "outputs": [],
   "source": []
  },
  {
   "cell_type": "markdown",
   "metadata": {
    "colab_type": "text",
    "id": "QPMyarqv4GG0"
   },
   "source": [
    "### Training with embedding layer"
   ]
  },
  {
   "cell_type": "code",
   "execution_count": null,
   "metadata": {
    "colab": {},
    "colab_type": "code",
    "id": "CCcnzU5m4RCh"
   },
   "outputs": [],
   "source": []
  },
  {
   "cell_type": "markdown",
   "metadata": {
    "colab_type": "text",
    "id": "rcXyR-ug4RSa"
   },
   "source": [
    "### Training with Embedding layer and LSTM"
   ]
  },
  {
   "cell_type": "code",
   "execution_count": null,
   "metadata": {
    "colab": {},
    "colab_type": "code",
    "id": "sfN6aEmrlmbp"
   },
   "outputs": [],
   "source": []
  },
  {
   "cell_type": "markdown",
   "metadata": {
    "colab_type": "text",
    "id": "tF2btXQDlmwz"
   },
   "source": [
    "### Training with Embedding layer, LSTM, Glove"
   ]
  }
 ],
 "metadata": {
  "accelerator": "GPU",
  "colab": {
   "collapsed_sections": [],
   "name": "12 IMDB-Review.ipynb",
   "provenance": []
  },
  "kernelspec": {
   "display_name": "Python 3",
   "language": "python",
   "name": "python3"
  },
  "language_info": {
   "codemirror_mode": {
    "name": "ipython",
    "version": 3
   },
   "file_extension": ".py",
   "mimetype": "text/x-python",
   "name": "python",
   "nbconvert_exporter": "python",
   "pygments_lexer": "ipython3",
   "version": "3.7.6"
  }
 },
 "nbformat": 4,
 "nbformat_minor": 4
}
