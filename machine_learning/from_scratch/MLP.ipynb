{
 "cells": [
  {
   "cell_type": "markdown",
   "metadata": {
    "colab_type": "text",
    "id": "Mk2XWd6rRRhP"
   },
   "source": [
    "![alt text](https://www.oreilly.com/library/view/neural-networks-and/9781492037354/assets/mlst_1009.png)"
   ]
  },
  {
   "cell_type": "code",
   "execution_count": 1,
   "metadata": {
    "colab": {},
    "colab_type": "code",
    "id": "A3qB696z6wtW"
   },
   "outputs": [],
   "source": [
    "import numpy as np\n",
    "import matplotlib.pyplot as plt"
   ]
  },
  {
   "cell_type": "code",
   "execution_count": 2,
   "metadata": {
    "colab": {},
    "colab_type": "code",
    "id": "F_PFoInI60I7"
   },
   "outputs": [
    {
     "name": "stderr",
     "output_type": "stream",
     "text": [
      "<ipython-input-2-0647dd1fc455>:69: VisibleDeprecationWarning: Creating an ndarray from ragged nested sequences (which is a list-or-tuple of lists-or-tuples-or ndarrays with different lengths or shapes) is deprecated. If you meant to do this, you must specify 'dtype=object' when creating the ndarray.\n",
      "  y = np.concatenate(np.array([[0]*len(X0), [1]*len(X1), [2]*len(X2)]), axis=0).T\n"
     ]
    }
   ],
   "source": [
    "X0 = np.array([[-0.00000000e+00,  0.00000000e+00], [ 1.02370162e-03,  1.00490019e-02], [ 4.46886653e-04,  2.01970768e-02], [ 1.47407793e-02,  2.64760849e-02], [ 4.89297702e-03,  4.01066735e-02],\n",
    "             [ 2.24532697e-02,  4.52394828e-02], [-1.29046709e-02,  5.92162482e-02], [ 1.40119290e-02,  6.93048028e-02], [ 2.81378611e-02,  7.57509518e-02], [ 3.10420311e-02,  8.54450415e-02], \n",
    "             [ 1.25289291e-02,  1.00230068e-01], [ 4.98602596e-02,  9.92956873e-02], [ 5.98467626e-02,  1.05407511e-01], [ 7.44294163e-02,  1.08182256e-01], [ 8.10938613e-02,  1.15852255e-01], \n",
    "             [ 4.77308594e-02,  1.43800578e-01], [ 7.49463712e-02,  1.43188076e-01], [ 6.99562028e-02,  1.56821289e-01], [ 8.52544719e-02,  1.60591177e-01], [ 1.04317824e-01,  1.61092420e-01], \n",
    "             [ 1.24506678e-01,  1.59091952e-01], [ 1.46850999e-01,  1.53069242e-01], [ 1.98176961e-01,  1.00541574e-01], [ 2.21210027e-01,  7.09944241e-02], [ 2.08869701e-01,  1.23056741e-01], \n",
    "             [ 2.44866157e-01,  6.17217021e-02], [ 2.62330456e-01,  1.24613711e-02], [ 2.59597194e-01,  8.36030034e-02], [ 2.63026068e-01,  1.03966942e-01], [ 2.86274023e-01,  6.20866672e-02], \n",
    "             [ 2.71990699e-01,  1.33597995e-01], [ 3.06572144e-01,  6.37553095e-02], [ 2.99701037e-01,  1.21071974e-01], [ 2.86705335e-01,  1.70032827e-01], [ 3.26457692e-01,  1.06642036e-01], \n",
    "             [ 3.45419731e-01,  7.53157072e-02], [ 3.61673246e-01, -3.77341786e-02], [ 3.73725607e-01,  2.96564652e-03], [ 3.83776441e-01, -6.89550785e-03], [ 3.60223698e-01, -1.59458878e-01], \n",
    "             [ 4.03721926e-01, -1.60391465e-02], [ 3.97377250e-01, -1.16638037e-01], [ 4.05557799e-01, -1.24517092e-01], [ 4.25053905e-01, -8.93498569e-02], [ 4.42919300e-01,  3.67880116e-02], \n",
    "             [ 4.18978232e-01, -1.76263471e-01], [ 4.60163483e-01, -6.43887118e-02], [ 4.25487584e-01, -2.105708961e-01], [-9.41407684e-02, -8.33081614e-01], [-1.09877654e-01, -8.41340264e-01], \n",
    "             [-2.09543434e-01, -8.32623100e-01], [-3.87572025e-01, -7.77434757e-01], [-3.61471707e-01, -8.01003334e-01], [-1.89827604e-01, -8.68382944e-01], [-3.79272267e-01, -8.15067719e-01], \n",
    "             [-1.82125481e-01, -8.90660761e-01], [-3.36907291e-01, -8.55223515e-01], [-6.06080034e-01, -7.04451802e-01], [-5.36755429e-01, -7.70943955e-01], [-5.90315883e-01, -7.43685295e-01], \n",
    "             [-5.50402765e-01, -7.86054198e-01], [-6.12833322e-01, -7.51496862e-01], [-5.24221081e-01, -8.27765872e-01], [-4.28940594e-01, -8.92137869e-01], [-6.64081054e-01, -7.47660588e-01]])\n",
    "\n",
    "X1 = np.array([[-0.00000000e+00, -0.00000000e+00], [-8.90404749e-03, -4.76952234e-03], [-1.73009287e-02, -1.04306993e-02], [-2.11171063e-02, -2.17334183e-02], [-3.13247799e-02, -2.55194953e-02],\n",
    "             [-4.93486085e-02, -1.07459279e-02], [-2.97582243e-02, -5.27971843e-02], [-6.45660642e-02, -2.88220957e-02], [-7.88086943e-02, -1.78643675e-02], [-8.55769020e-02, -3.06766466e-02], \n",
    "             [-9.07250300e-02, -4.44073129e-02], [-1.03684637e-01, -3.99396424e-02], [-1.06612405e-01, -5.76729865e-02], [-1.11580459e-01, -6.92310600e-02], [-1.41414104e-01, -1.03284724e-04], \n",
    "             [-1.49823741e-01, -2.25762638e-02], [-1.49364003e-01, -6.17266408e-02], [-1.63779017e-01, -5.16064013e-02], [-1.81817155e-01,  6.11080795e-04], [-1.88637721e-01,  3.53381742e-02], \n",
    "             [-2.02020201e-01, -1.46928612e-05], [-2.06879590e-01,  4.68641014e-02], [-2.21070844e-01,  2.25919899e-02], [-2.28965936e-01,  3.93533254e-02], [-2.35169101e-01,  5.88643111e-02], \n",
    "             [-2.48101809e-01,  4.70584279e-02], [-2.61315833e-01, -2.62028476e-02], [-2.23298428e-01,  1.56582174e-01], [-2.72808565e-01,  7.46145058e-02], [-2.68553284e-01,  1.16990189e-01], \n",
    "             [-2.47127942e-01,  1.75371449e-01], [-2.53825721e-01,  1.83367725e-01], [-2.15435032e-01,  2.40970707e-01], [-2.16048009e-01,  2.53839258e-01], [-2.57219938e-01,  2.27563292e-01], \n",
    "             [-2.54316994e-01,  2.45581174e-01], [-2.96706237e-01,  2.10230383e-01], [-2.10863840e-01,  3.08571006e-01], [-3.41040093e-02,  3.82320313e-01], [-2.32277951e-01,  3.18174794e-01], \n",
    "             [-1.33437491e-01,  3.81370009e-01], [-2.82301944e-01,  3.03016045e-01], [-2.81586362e-01,  3.17318066e-01], [-2.44199374e-01,  3.59194773e-01], [-1.07997512e-01,  4.31123418e-01], \n",
    "             [-2.40098234e-01,  3.85959076e-01], [-3.22117875e-02,  4.63528573e-01], [-1.63340991e-01,  4.45763262e-01], [-3.34883188e-02,  4.83690589e-01], [-2.00997505e-01,  4.52299685e-01], \n",
    "             [-1.05342850e-01,  4.93942200e-01], [-1.46665110e-01,  4.93832390e-01], [-1.17597074e-02,  5.25120867e-01], [ 2.06003182e-02,  5.34957040e-01], [-1.76097763e-01,  5.16246297e-01], \n",
    "             [ 3.00571829e-02,  5.54741869e-01], [-1.82423719e-01,  5.35433410e-01], [-6.25071555e-02,  5.72354472e-01], [-8.50801034e-02,  5.79647875e-01], [ 2.88777690e-01,  5.21320713e-01], \n",
    "             [ 1.87045308e-01,  5.76475074e-01], [-1.24089441e-01,  6.03537031e-01], [ 3.17995327e-01,  5.39521871e-01], [ 8.27815865e-02,  6.30956327e-01], [ 2.52419165e-01,  5.95147968e-01], \n",
    "             [ 3.74641582e-01,  5.39186560e-01], [ 4.63715951e-01,  4.78969687e-01], [ 2.48555860e-01,  6.29471582e-01], [ 3.74077052e-01,  5.76068531e-01], [ 1.55452491e-01,  6.79412453e-01], \n",
    "             [ 3.81178454e-01,  5.95526633e-01], [ 2.33774063e-01,  6.78000708e-01], [ 3.26359778e-01,  6.49934547e-01], [ 3.37805823e-01,  6.55444319e-01], [ 5.50516869e-01,  5.05618112e-01], \n",
    "             [ 4.17191288e-01,  6.32354693e-01], [ 5.41695656e-01,  5.43960877e-01], [ 6.44362978e-01,  4.35585381e-01], [ 4.75526138e-01,  6.28194139e-01], [ 5.52243922e-01,  5.76019452e-01], \n",
    "             [ 7.25356478e-01,  3.56163687e-01], [ 7.30444910e-01,  3.68607814e-01], [ 7.03710683e-01,  4.36856634e-01], [ 6.56144348e-01,  5.21883181e-01], [ 8.48428181e-01,  9.80611659e-03], \n",
    "             [ 6.36553778e-01,  5.76167480e-01], [ 7.07730818e-01,  5.03720125e-01], [ 8.11587056e-01,  3.37037960e-01], [ 8.81451899e-01,  1.14743220e-01], [ 8.86410966e-01,  1.49861395e-01], \n",
    "             [ 8.50996760e-01,  3.19766782e-01], [ 8.13538050e-01,  4.27866363e-01], [ 9.18695781e-01,  1.39940737e-01], [ 9.39374941e-01, -5.97437662e-03], [ 9.46227513e-01,  7.87029352e-02], \n",
    "             [ 9.41703213e-01,  1.84443664e-01], [ 9.69634480e-01,  1.10085579e-02], [ 9.64491863e-01, -1.72509500e-01], [ 9.08099555e-01, -3.94024376e-01], [ 9.83692635e-01,  1.79857721e-01]])\n",
    "\n",
    "X2 = np.array([[ 0.00000000e+00, -0.00000000e+00], [ 1.00796294e-02,  6.56867843e-04], [ 1.99627786e-02, -3.09985355e-03], [ 2.97027062e-02, -6.00190720e-03], [ 3.89803692e-02, -1.06309594e-02],\n",
    "             [ 4.60802930e-02, -2.06728500e-02], [ 4.68979393e-02, -3.83885123e-02], [ 6.18421657e-02, -3.42788038e-02], [ 7.79294361e-02, -2.13763633e-02], [ 8.98579213e-02, -1.37846577e-02], \n",
    "             [ 1.00985582e-01,  2.22547817e-03], [ 9.44630762e-02, -5.85013354e-02], [ 9.15146721e-02, -7.94823447e-02], [ 8.54520349e-02, -9.97050058e-02], [ 1.12272693e-01, -8.59814040e-02], \n",
    "             [ 5.81500133e-02, -1.39912176e-01], [ 1.41248688e-01, -7.85403839e-02], [ 1.21355094e-01, -1.21489622e-01], [ 7.38684496e-02, -1.66136400e-01], [ 1.00106472e-01, -1.63742696e-01], \n",
    "             [ 1.53044250e-01, -1.31869707e-01], [ 1.16760582e-01, -1.77094255e-01], [ 6.12276871e-02, -2.13620894e-01], [ 6.73877706e-02, -2.22335271e-01], [ 6.43916089e-02, -2.33716140e-01], \n",
    "             [ 1.50474080e-01, -2.02796830e-01], [-4.54224108e-02, -2.58668433e-01], [ 1.03267291e-01, -2.52420348e-01], [ 5.19627451e-02, -2.78013868e-01], [ 2.89150022e-02, -2.91498702e-01], \n",
    "             [-1.60303799e-04, -3.03030261e-01], [ 3.30973975e-02, -3.11377233e-01], [ 4.33978502e-02, -3.20305731e-01], [-1.55979933e-02, -3.32968187e-01], [ 7.76266595e-02, -3.34546335e-01], \n",
    "             [-2.11057939e-02, -3.52904791e-01], [-1.11850913e-01, -3.46006905e-01], [ 1.59000191e-01, -3.38228567e-01], [-2.87394749e-02, -3.82760953e-01], [ 7.29470900e-02, -3.87126553e-01], \n",
    "             [-1.63193605e-01, -3.69616687e-01], [-9.58943467e-02, -4.02886318e-01], [-1.50983618e-01, -3.96466369e-01], [-1.77264626e-01, -3.96524238e-01], [-9.79622123e-02, -4.33513863e-01], \n",
    "             [-1.15089003e-01, -4.39734115e-01], [-2.43344709e-01, -3.95827853e-01], [-2.33948737e-01, -4.13101868e-01], [-2.56227899e-01, -4.11613067e-01], [-1.95315739e-01, -4.54782107e-01], \n",
    "             [-3.89323660e-01, -3.21718978e-01], [-3.67964982e-01, -3.60531352e-01], [-2.19271679e-01, -4.77294611e-01], [-4.18578956e-01, -3.33758993e-01], [-2.71453008e-01, -4.73110902e-01], \n",
    "             [-2.94309262e-01, -4.71194263e-01], [-4.25602910e-01, -3.72598327e-01], [-4.60473008e-01, -3.45631877e-01], [-1.53035431e-01, -5.65517851e-01], [-5.38525136e-01, -2.55261665e-01], \n",
    "             [-5.75133781e-01, -1.91129779e-01], [-5.45489577e-01, -2.86524448e-01], [-5.70161066e-01, -2.59077663e-01], [-6.00620476e-01, -2.10270592e-01], [-5.83286958e-01, -2.78734397e-01], \n",
    "             [-6.18434866e-01, -2.20492127e-01], [-5.64072143e-01, -3.55340768e-01], [-6.64463808e-01, -1.28461421e-01], [-6.09444281e-01, -3.16806347e-01], [-6.94594303e-01, -5.74935910e-02], \n",
    "             [-6.91083080e-01, -1.49509739e-01], [-7.16715236e-01,  2.55840365e-02], [-6.33336314e-01, -3.57506270e-01], [-7.25653628e-01,  1.30945947e-01], [-6.94257452e-01,  2.76992940e-01], \n",
    "             [-7.36721061e-01, -1.76530755e-01], [-7.67582571e-01,  1.20256522e-02], [-7.46063671e-01,  2.19834644e-01], [-7.79618854e-01,  1.13786763e-01], [-7.78796908e-01,  1.73917034e-01], \n",
    "             [-8.07016720e-01,  4.14560690e-02], [-7.16468498e-01,  3.95087812e-01], [-8.28267121e-01,  5.10098662e-03], [-8.11507877e-01,  2.10576416e-01], [-7.33316503e-01,  4.26817812e-01], \n",
    "             [-7.53378075e-01,  4.11814463e-01], [-8.52204966e-01,  1.68414878e-01], [-8.71983844e-01,  1.09143538e-01], [-8.33154605e-01,  3.09801325e-01], [-5.89949780e-01,  6.78337745e-01], \n",
    "             [-4.40217251e-01,  7.95396161e-01], [-4.96992675e-01,  7.73247739e-01], [-7.23489625e-01,  5.83222180e-01], [-7.19137960e-01,  6.04401826e-01], [-5.73739592e-01,  7.56547117e-01], \n",
    "             [-2.82807174e-01,  9.16975740e-01], [-3.23567812e-01,  9.14120388e-01], [-5.57559214e-01,  8.05687163e-01], [-4.94896995e-01,  8.57307981e-01], [-5.96268801e-01,  8.02784851e-01]])\n",
    "\n",
    "X = np.concatenate((X0, X1, X2), axis=0)\n",
    "y = np.concatenate(np.array([[0]*len(X0), [1]*len(X1), [2]*len(X2)]), axis=0).T"
   ]
  },
  {
   "cell_type": "code",
   "execution_count": 3,
   "metadata": {
    "colab": {},
    "colab_type": "code",
    "id": "J7JT0AylwAgJ"
   },
   "outputs": [],
   "source": [
    "Y = np.array([[1, 0, 0], [0, 1, 0]])\n",
    "Y_hat = np.array([[0.7, 0.2, 0.1], [0.4, 0.5, 0.1]])\n",
    "\n",
    "\n",
    "def calculate_cross_entropy(y, y_hat):\n",
    "    \"\"\"\n",
    "    matrix size n*f:\n",
    "    n is the number of sample\n",
    "    f is the length of onehot coding\n",
    "\n",
    "    Y_hat: matrix size n*f, as same as Y\n",
    "    \"\"\"\n",
    "    return -np.sum(y * np.log(y_hat))\n",
    "  \n",
    "\n",
    "def cost(y, y_hat):\n",
    "    n = y.shape[0]\n",
    "    result = 0\n",
    "    for i in range(n):\n",
    "        ce = calculate_cross_entropy(y[i], y_hat[i])\n",
    "        result = result + ce\n",
    "    return result\n",
    "\n",
    "\n",
    "def softmax(v):\n",
    "    \"\"\"\n",
    "    v: size n*c\n",
    "    n is the number of one-hot coding labels corresponding to provided sample X\n",
    "    c is the number of classes\n",
    "    \"\"\"\n",
    "    e = np.exp(v)\n",
    "    s = np.sum(e, axis=1).reshape(e.shape[0], 1)\n",
    "    a = e / s\n",
    "    return a\n",
    "\n",
    "\n",
    "def reLU(v):\n",
    "    index = np.where(v < 0)\n",
    "    v[index] = 0\n",
    "    return v\n",
    "\n",
    "\n",
    "def reLU_grad(v):\n",
    "    \"\"\"\n",
    "    set every positive element in matrix V to 1 otherwise: set to 0\n",
    "    \"\"\"\n",
    "    index_p = np.where(v > 0)\n",
    "    index_n = np.where(v < 0)\n",
    "    v[index_p] = 1\n",
    "    v[index_n] = 0\n",
    "    return v\n",
    "\n",
    "\n",
    "def generate_onehot_coding(y, C=3):\n",
    "    \"\"\"\n",
    "    y_i=0 ==> one_hot_coding = [1, 0, 0]\n",
    "    y_i=1 ==> one_hot_coding = [0, 1, 0]\n",
    "    y_i=2 ==> one_hot_coding = [0, 0, 1]\n",
    "    \"\"\"\n",
    "    one_hot = np.zeros((y.shape[0], C))\n",
    "    for i in range(y.shape[0]):\n",
    "        index = y[i]\n",
    "        one_hot[i, index] = 1\n",
    "    return one_hot\n",
    "\n",
    "\n",
    "def generate_X_dot(X):\n",
    "    n = X.shape[0]\n",
    "    column1 = np.ones(shape=(n, 1))\n",
    "    X_dot = np.concatenate( (column1, X), axis = 1)\n",
    "    return X_dot\n",
    "\n",
    "\n",
    "def cost(Y, Y_hat):\n",
    "    return -np.sum(Y*np.log(Y_hat))\n",
    "\n",
    "\n",
    "def feed_forward(X_dot, W1_dot, W2_dot):\n",
    "    # TODO:\n",
    "    # Calculate Z1\n",
    "    Z1 = np.dot(X_dot, W1_dot)\n",
    "    # Calculate A1\n",
    "    A1 = reLU(Z1)\n",
    "    # Calculate A1_dot\n",
    "    A1_dot = generate_X_dot(A1)\n",
    "    # Calculate Z2\n",
    "    Z2 = np.dot(A1_dot, W2_dot)\n",
    "    # Calculate Y hat\n",
    "    Y_hat = softmax(Z2)\n",
    "    #return Z1, A1_dot, Z2, Y_hat\n",
    "    return Z1, A1_dot, Z2, Y_hat\n",
    "\n",
    "\n",
    "def predict_class(X_dot, W1_dot, W2_dot):\n",
    "    Z1, A1_dot, Z2, Y_hat = feed_forward(X_dot, W1_dot, W2_dot)\n",
    "    return np.argmax(Y_hat, axis=1)\n",
    "\n",
    "\n",
    "def back_propagation(X_dot, Y, Z1, A1_dot, Z2, Y_hat, W1_dot, W2_dot):\n",
    "    # TODO: backpropagation\n",
    "    # Calculate E2\n",
    "    # calculate dW2_dot\n",
    "    # calculate E1\n",
    "    # calculate dW1_dot\n",
    "    N = X_dot.shape[0]\n",
    "    E2 = (Y_hat - Y)/N\n",
    "    dW2_dot = np.dot(A1_dot.T, E2)\n",
    "\n",
    "    W2 = np.delete(W2_dot, 0, axis=0)\n",
    "\n",
    "    E1 = np.dot(E2, W2.T)*reLU_grad(Z1)\n",
    "\n",
    "    dW1_dot = np.dot(X_dot.T, E1)\n",
    "    return dW1_dot, dW2_dot\n",
    "\n",
    "\n",
    "a = np.array([[-1, 2, 3], [1, 3, 4]])\n",
    "x = np.ones((10, 3))\n",
    "w1 = np.ones((3, 4))\n",
    "w2 = np.ones((5, 3))\n",
    "Z1, A1_dot, Z2, Y_hat = feed_forward(x, w1, w2)"
   ]
  },
  {
   "cell_type": "code",
   "execution_count": 5,
   "metadata": {
    "colab": {},
    "colab_type": "code",
    "id": "rZseflJo8cBP"
   },
   "outputs": [],
   "source": [
    "def train(d0, d1, d2, X, y, eta, epochs):\n",
    "    X_dot = generate_X_dot(X)\n",
    "\n",
    "    # Convert provided array of label y into OneHot coding label Y\n",
    "    Y = generate_onehot_coding(y, C)\n",
    "\n",
    "    # initialize parameters randomly\n",
    "    W1_dot = 0.1*np.random.randn(d0+1, d1)\n",
    "    W2_dot = 0.1*np.random.randn(d1+1, d2)\n",
    "\n",
    "    for i in range(epochs):\n",
    "    # TODO:  Feedforward\n",
    "        Z1, A1_dot, Z2, Y_hat = feed_forward(X_dot, W1_dot, W2_dot)\n",
    "    # print loss after each 1000 iterations\n",
    "        if (i % 1000) == 0:\n",
    "          # print(Y.shape, Y_hat.shape)\n",
    "            loss = cost(Y, Y_hat)\n",
    "            print(\"iter %d, loss: %f\" % (i, loss))\n",
    "\n",
    "        # TODO: backpropagation\n",
    "        dW1_dot, dW2_dot = back_propagation(X_dot, Y, Z1, A1_dot, Z2, Y_hat, W1_dot, W2_dot)\n",
    "        # TODO: Gradient Descent update\n",
    "        W1_dot -= eta * dW1_dot\n",
    "        W2_dot -= eta * dW2_dot\n",
    "\n",
    "    return W1_dot, W2_dot"
   ]
  },
  {
   "cell_type": "code",
   "execution_count": 6,
   "metadata": {
    "colab": {
     "base_uri": "https://localhost:8080/",
     "height": 347
    },
    "colab_type": "code",
    "id": "NHlS2YPj8SeF",
    "outputId": "92490a89-d472-4d6c-bfca-0330efb96db0"
   },
   "outputs": [
    {
     "name": "stdout",
     "output_type": "stream",
     "text": [
      "iter 0, loss: 291.227213\n",
      "iter 1000, loss: 21.779509\n",
      "iter 2000, loss: 12.722719\n",
      "iter 3000, loss: 9.732173\n",
      "iter 4000, loss: 8.215717\n",
      "iter 5000, loss: 7.325971\n",
      "iter 6000, loss: 6.733528\n",
      "iter 7000, loss: 6.321133\n",
      "iter 8000, loss: 6.008151\n",
      "iter 9000, loss: 5.759200\n"
     ]
    }
   ],
   "source": [
    "# number of features of a single sample x\n",
    "d0 = 2\n",
    "\n",
    "# number of neuron of hidden layer (without bias)\n",
    "d1 = h = 50\n",
    "\n",
    "# number of neuron of output layer\n",
    "d2 = C = 3\n",
    "\n",
    "# learning rate\n",
    "eta = 1  \n",
    "\n",
    "epochs = 10000\n",
    "\n",
    "W1_dot, W2_dot = train(d0, d1, d2, X, y, eta, epochs)"
   ]
  },
  {
   "cell_type": "code",
   "execution_count": 7,
   "metadata": {
    "colab": {},
    "colab_type": "code",
    "id": "pybFIXch8HHV"
   },
   "outputs": [
    {
     "name": "stdout",
     "output_type": "stream",
     "text": [
      "training accuracy: 99.25 %\n"
     ]
    }
   ],
   "source": [
    "# Predict and evaluate based on training data X\n",
    "X_dot = generate_X_dot(X)\n",
    "predicted_class = predict_class(X_dot, W1_dot, W2_dot)\n",
    "acc = (100*np.mean(predicted_class == y))\n",
    "print('training accuracy: %.2f %%' % acc)"
   ]
  },
  {
   "cell_type": "code",
   "execution_count": 8,
   "metadata": {
    "colab": {},
    "colab_type": "code",
    "id": "MuY3fJ1-8EfQ"
   },
   "outputs": [],
   "source": [
    "#TODO: Visualize by contour graph\n",
    "Y = generate_onehot_coding(y,3)"
   ]
  },
  {
   "cell_type": "code",
   "execution_count": 9,
   "metadata": {
    "colab": {},
    "colab_type": "code",
    "id": "P4_5T_iAAjR4"
   },
   "outputs": [
    {
     "data": {
      "text/plain": [
       "array([0, 0, 0, 0, 0, 0, 0, 0, 0, 0, 0, 0, 0, 0, 0, 0, 0, 0, 0, 0, 0, 0,\n",
       "       0, 0, 0, 0, 0, 0, 0, 0, 0, 0, 0, 0, 0, 0, 0, 0, 0, 0, 0, 0, 0, 0,\n",
       "       0, 0, 0, 0, 0, 0, 0, 0, 0, 0, 0, 0, 0, 0, 0, 0, 0, 0, 0, 0, 0, 1,\n",
       "       1, 1, 1, 1, 1, 1, 1, 1, 1, 1, 1, 1, 1, 1, 1, 1, 1, 1, 1, 1, 1, 1,\n",
       "       1, 1, 1, 1, 1, 1, 1, 1, 1, 1, 1, 1, 1, 1, 1, 1, 1, 1, 1, 1, 1, 1,\n",
       "       1, 1, 1, 1, 1, 1, 1, 1, 1, 1, 1, 1, 1, 1, 1, 1, 1, 1, 1, 1, 1, 1,\n",
       "       1, 1, 1, 1, 1, 1, 1, 1, 1, 1, 1, 1, 1, 1, 1, 1, 1, 1, 1, 1, 1, 1,\n",
       "       1, 1, 1, 1, 1, 1, 1, 1, 1, 1, 1, 2, 2, 2, 2, 2, 2, 2, 2, 2, 2, 2,\n",
       "       2, 2, 2, 2, 2, 2, 2, 2, 2, 2, 2, 2, 2, 2, 2, 2, 2, 2, 2, 2, 2, 2,\n",
       "       2, 2, 2, 2, 2, 2, 2, 2, 2, 2, 2, 2, 2, 2, 2, 2, 2, 2, 2, 2, 2, 2,\n",
       "       2, 2, 2, 2, 2, 2, 2, 2, 2, 2, 2, 2, 2, 2, 2, 2, 2, 2, 2, 2, 2, 2,\n",
       "       2, 2, 2, 2, 2, 2, 2, 2, 2, 2, 2, 2, 2, 2, 2, 2, 2, 2, 2, 2, 2, 2,\n",
       "       2])"
      ]
     },
     "execution_count": 9,
     "metadata": {},
     "output_type": "execute_result"
    }
   ],
   "source": [
    "y"
   ]
  },
  {
   "cell_type": "code",
   "execution_count": 10,
   "metadata": {
    "colab": {},
    "colab_type": "code",
    "id": "oIG_bzxlBAd1"
   },
   "outputs": [
    {
     "data": {
      "image/png": "[encoded data removed]",
      "text/plain": [
       "<Figure size 432x288 with 1 Axes>"
      ]
     },
     "metadata": {
      "needs_background": "light"
     },
     "output_type": "display_data"
    }
   ],
   "source": [
    "#Visualize\n",
    "xm = np.arange(-1.5, 1.5, 0.025)\n",
    "xlen = len(xm)\n",
    "ym = np.arange(-1.5, 1.5, 0.025)\n",
    "ylen = len(ym)\n",
    "xx, yy = np.meshgrid(xm, ym)\n",
    "\n",
    "\n",
    "xx1 = xx.ravel().reshape(1, xx.size)\n",
    "yy1 = yy.ravel().reshape(1, yy.size)\n",
    "\n",
    "X0 = np.vstack((xx1, yy1)).T\n",
    "\n",
    "X0_dot = generate_X_dot(X0)\n",
    "\n",
    "Z = predict_class(X0_dot, W1_dot, W2_dot)\n",
    "\n",
    "Z = Z.reshape(xx.shape)\n",
    "CS = plt.contourf(xx, yy, Z, 200, cmap='jet', alpha=.1)\n",
    "\n",
    "plt.scatter(X[:,0], X[:,1], c=y, s=10)\n",
    "\n",
    "plt.xlim(-1.5, 1.5)\n",
    "plt.ylim(-1.5, 1.5)\n",
    "plt.show()"
   ]
  },
  {
   "cell_type": "code",
   "execution_count": null,
   "metadata": {},
   "outputs": [],
   "source": []
  }
 ],
 "metadata": {
  "colab": {
   "collapsed_sections": [],
   "name": "07 MLP-from-scratch",
   "provenance": []
  },
  "kernelspec": {
   "display_name": "Python 3",
   "language": "python",
   "name": "python3"
  },
  "language_info": {
   "codemirror_mode": {
    "name": "ipython",
    "version": 3
   },
   "file_extension": ".py",
   "mimetype": "text/x-python",
   "name": "python",
   "nbconvert_exporter": "python",
   "pygments_lexer": "ipython3",
   "version": "3.9.5"
  }
 },
 "nbformat": 4,
 "nbformat_minor": 4
}