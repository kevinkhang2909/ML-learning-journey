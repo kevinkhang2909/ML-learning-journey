{
 "cells": [
  {
   "cell_type": "code",
   "execution_count": 1,
   "metadata": {
    "collapsed": true,
    "pycharm": {
     "name": "#%%\n"
    }
   },
   "outputs": [],
   "source": [
    "import numpy as np\n",
    "import statsmodels.api as sm"
   ]
  },
  {
   "cell_type": "code",
   "execution_count": 8,
   "outputs": [
    {
     "data": {
      "text/plain": "    AVGEXP   AGE  INCOME  INCOMESQ  OWNRENT  intercept\n0   124.98  38.0    4.52   20.4304      1.0          1\n1     9.85  33.0    2.42    5.8564      0.0          1\n2    15.00  34.0    4.50   20.2500      1.0          1\n3   137.87  31.0    2.54    6.4516      0.0          1\n4   546.50  32.0    9.79   95.8441      1.0          1\n..     ...   ...     ...       ...      ...        ...\n67   68.38  43.0    2.40    5.7600      0.0          1\n68  474.15  33.0    6.00   36.0000      1.0          1\n69  234.05  25.0    3.60   12.9600      0.0          1\n70  451.20  26.0    5.00   25.0000      1.0          1\n71  251.52  46.0    5.50   30.2500      1.0          1\n\n[72 rows x 6 columns]",
      "text/html": "<div>\n<style scoped>\n    .dataframe tbody tr th:only-of-type {\n        vertical-align: middle;\n    }\n\n    .dataframe tbody tr th {\n        vertical-align: top;\n    }\n\n    .dataframe thead th {\n        text-align: right;\n    }\n</style>\n<table border=\"1\" class=\"dataframe\">\n  <thead>\n    <tr style=\"text-align: right;\">\n      <th></th>\n      <th>AVGEXP</th>\n      <th>AGE</th>\n      <th>INCOME</th>\n      <th>INCOMESQ</th>\n      <th>OWNRENT</th>\n      <th>intercept</th>\n    </tr>\n  </thead>\n  <tbody>\n    <tr>\n      <th>0</th>\n      <td>124.98</td>\n      <td>38.0</td>\n      <td>4.52</td>\n      <td>20.4304</td>\n      <td>1.0</td>\n      <td>1</td>\n    </tr>\n    <tr>\n      <th>1</th>\n      <td>9.85</td>\n      <td>33.0</td>\n      <td>2.42</td>\n      <td>5.8564</td>\n      <td>0.0</td>\n      <td>1</td>\n    </tr>\n    <tr>\n      <th>2</th>\n      <td>15.00</td>\n      <td>34.0</td>\n      <td>4.50</td>\n      <td>20.2500</td>\n      <td>1.0</td>\n      <td>1</td>\n    </tr>\n    <tr>\n      <th>3</th>\n      <td>137.87</td>\n      <td>31.0</td>\n      <td>2.54</td>\n      <td>6.4516</td>\n      <td>0.0</td>\n      <td>1</td>\n    </tr>\n    <tr>\n      <th>4</th>\n      <td>546.50</td>\n      <td>32.0</td>\n      <td>9.79</td>\n      <td>95.8441</td>\n      <td>1.0</td>\n      <td>1</td>\n    </tr>\n    <tr>\n      <th>...</th>\n      <td>...</td>\n      <td>...</td>\n      <td>...</td>\n      <td>...</td>\n      <td>...</td>\n      <td>...</td>\n    </tr>\n    <tr>\n      <th>67</th>\n      <td>68.38</td>\n      <td>43.0</td>\n      <td>2.40</td>\n      <td>5.7600</td>\n      <td>0.0</td>\n      <td>1</td>\n    </tr>\n    <tr>\n      <th>68</th>\n      <td>474.15</td>\n      <td>33.0</td>\n      <td>6.00</td>\n      <td>36.0000</td>\n      <td>1.0</td>\n      <td>1</td>\n    </tr>\n    <tr>\n      <th>69</th>\n      <td>234.05</td>\n      <td>25.0</td>\n      <td>3.60</td>\n      <td>12.9600</td>\n      <td>0.0</td>\n      <td>1</td>\n    </tr>\n    <tr>\n      <th>70</th>\n      <td>451.20</td>\n      <td>26.0</td>\n      <td>5.00</td>\n      <td>25.0000</td>\n      <td>1.0</td>\n      <td>1</td>\n    </tr>\n    <tr>\n      <th>71</th>\n      <td>251.52</td>\n      <td>46.0</td>\n      <td>5.50</td>\n      <td>30.2500</td>\n      <td>1.0</td>\n      <td>1</td>\n    </tr>\n  </tbody>\n</table>\n<p>72 rows × 6 columns</p>\n</div>"
     },
     "execution_count": 8,
     "metadata": {},
     "output_type": "execute_result"
    }
   ],
   "source": [
    "df = sm.datasets.ccard.load_pandas().data\n",
    "df.head()"
   ],
   "metadata": {
    "collapsed": false,
    "pycharm": {
     "name": "#%%\n"
    }
   }
  },
  {
   "cell_type": "markdown",
   "source": [
    "# Logistic Regression"
   ],
   "metadata": {
    "collapsed": false,
    "pycharm": {
     "name": "#%% md\n"
    }
   }
  },
  {
   "cell_type": "code",
   "execution_count": 10,
   "outputs": [
    {
     "data": {
      "text/plain": "    intercept   AGE  INCOME\n0           1  38.0    4.52\n1           1  33.0    2.42\n2           1  34.0    4.50\n3           1  31.0    2.54\n4           1  32.0    9.79\n..        ...   ...     ...\n67          1  43.0    2.40\n68          1  33.0    6.00\n69          1  25.0    3.60\n70          1  26.0    5.00\n71          1  46.0    5.50\n\n[72 rows x 3 columns]",
      "text/html": "<div>\n<style scoped>\n    .dataframe tbody tr th:only-of-type {\n        vertical-align: middle;\n    }\n\n    .dataframe tbody tr th {\n        vertical-align: top;\n    }\n\n    .dataframe thead th {\n        text-align: right;\n    }\n</style>\n<table border=\"1\" class=\"dataframe\">\n  <thead>\n    <tr style=\"text-align: right;\">\n      <th></th>\n      <th>intercept</th>\n      <th>AGE</th>\n      <th>INCOME</th>\n    </tr>\n  </thead>\n  <tbody>\n    <tr>\n      <th>0</th>\n      <td>1</td>\n      <td>38.0</td>\n      <td>4.52</td>\n    </tr>\n    <tr>\n      <th>1</th>\n      <td>1</td>\n      <td>33.0</td>\n      <td>2.42</td>\n    </tr>\n    <tr>\n      <th>2</th>\n      <td>1</td>\n      <td>34.0</td>\n      <td>4.50</td>\n    </tr>\n    <tr>\n      <th>3</th>\n      <td>1</td>\n      <td>31.0</td>\n      <td>2.54</td>\n    </tr>\n    <tr>\n      <th>4</th>\n      <td>1</td>\n      <td>32.0</td>\n      <td>9.79</td>\n    </tr>\n    <tr>\n      <th>...</th>\n      <td>...</td>\n      <td>...</td>\n      <td>...</td>\n    </tr>\n    <tr>\n      <th>67</th>\n      <td>1</td>\n      <td>43.0</td>\n      <td>2.40</td>\n    </tr>\n    <tr>\n      <th>68</th>\n      <td>1</td>\n      <td>33.0</td>\n      <td>6.00</td>\n    </tr>\n    <tr>\n      <th>69</th>\n      <td>1</td>\n      <td>25.0</td>\n      <td>3.60</td>\n    </tr>\n    <tr>\n      <th>70</th>\n      <td>1</td>\n      <td>26.0</td>\n      <td>5.00</td>\n    </tr>\n    <tr>\n      <th>71</th>\n      <td>1</td>\n      <td>46.0</td>\n      <td>5.50</td>\n    </tr>\n  </tbody>\n</table>\n<p>72 rows × 3 columns</p>\n</div>"
     },
     "execution_count": 10,
     "metadata": {},
     "output_type": "execute_result"
    }
   ],
   "source": [
    "x = df[['intercept', 'AGE', 'INCOME']]\n",
    "x = sm.add_constant(x)\n",
    "x.head()"
   ],
   "metadata": {
    "collapsed": false,
    "pycharm": {
     "name": "#%%\n"
    }
   }
  },
  {
   "cell_type": "code",
   "execution_count": 11,
   "outputs": [
    {
     "name": "stdout",
     "output_type": "stream",
     "text": [
      "Optimization terminated successfully.\n",
      "         Current function value: 0.492144\n",
      "         Iterations 6\n"
     ]
    },
    {
     "data": {
      "text/plain": "<class 'statsmodels.iolib.summary.Summary'>\n\"\"\"\n                           Logit Regression Results                           \n==============================================================================\nDep. Variable:                OWNRENT   No. Observations:                   72\nModel:                          Logit   Df Residuals:                       69\nMethod:                           MLE   Df Model:                            2\nDate:                Mon, 18 Jul 2022   Pseudo R-squ.:                  0.2561\nTime:                        11:30:56   Log-Likelihood:                -35.434\nconverged:                       True   LL-Null:                       -47.633\nCovariance Type:            nonrobust   LLR p-value:                 5.039e-06\n==============================================================================\n                 coef    std err          z      P>|z|      [0.025      0.975]\n------------------------------------------------------------------------------\nintercept     -6.0978      1.570     -3.885      0.000      -9.174      -3.021\nAGE            0.1056      0.046      2.300      0.021       0.016       0.196\nINCOME         0.6411      0.246      2.605      0.009       0.159       1.123\n==============================================================================\n\"\"\"",
      "text/html": "<table class=\"simpletable\">\n<caption>Logit Regression Results</caption>\n<tr>\n  <th>Dep. Variable:</th>        <td>OWNRENT</td>     <th>  No. Observations:  </th>  <td>    72</td>  \n</tr>\n<tr>\n  <th>Model:</th>                 <td>Logit</td>      <th>  Df Residuals:      </th>  <td>    69</td>  \n</tr>\n<tr>\n  <th>Method:</th>                 <td>MLE</td>       <th>  Df Model:          </th>  <td>     2</td>  \n</tr>\n<tr>\n  <th>Date:</th>            <td>Mon, 18 Jul 2022</td> <th>  Pseudo R-squ.:     </th>  <td>0.2561</td>  \n</tr>\n<tr>\n  <th>Time:</th>                <td>11:30:56</td>     <th>  Log-Likelihood:    </th> <td> -35.434</td> \n</tr>\n<tr>\n  <th>converged:</th>             <td>True</td>       <th>  LL-Null:           </th> <td> -47.633</td> \n</tr>\n<tr>\n  <th>Covariance Type:</th>     <td>nonrobust</td>    <th>  LLR p-value:       </th> <td>5.039e-06</td>\n</tr>\n</table>\n<table class=\"simpletable\">\n<tr>\n      <td></td>         <th>coef</th>     <th>std err</th>      <th>z</th>      <th>P>|z|</th>  <th>[0.025</th>    <th>0.975]</th>  \n</tr>\n<tr>\n  <th>intercept</th> <td>   -6.0978</td> <td>    1.570</td> <td>   -3.885</td> <td> 0.000</td> <td>   -9.174</td> <td>   -3.021</td>\n</tr>\n<tr>\n  <th>AGE</th>       <td>    0.1056</td> <td>    0.046</td> <td>    2.300</td> <td> 0.021</td> <td>    0.016</td> <td>    0.196</td>\n</tr>\n<tr>\n  <th>INCOME</th>    <td>    0.6411</td> <td>    0.246</td> <td>    2.605</td> <td> 0.009</td> <td>    0.159</td> <td>    1.123</td>\n</tr>\n</table>"
     },
     "execution_count": 11,
     "metadata": {},
     "output_type": "execute_result"
    }
   ],
   "source": [
    "model = sm.Logit(df.OWNRENT, x)\n",
    "result = model.fit()\n",
    "result.summary()"
   ],
   "metadata": {
    "collapsed": false,
    "pycharm": {
     "name": "#%%\n"
    }
   }
  },
  {
   "cell_type": "markdown",
   "source": [
    "Variables whose p-value is less than 0.05 are considered to be statistically significant"
   ],
   "metadata": {
    "collapsed": false,
    "pycharm": {
     "name": "#%% md\n"
    }
   }
  },
  {
   "cell_type": "markdown",
   "source": [
    "# Odds Ratios\n",
    "None of the confidence intervals for the OR includes one, which indicates that all the variables included in the model are significant"
   ],
   "metadata": {
    "collapsed": false,
    "pycharm": {
     "name": "#%% md\n"
    }
   }
  },
  {
   "cell_type": "code",
   "execution_count": 16,
   "outputs": [
    {
     "data": {
      "text/plain": "1.8985681560639371"
     },
     "execution_count": 16,
     "metadata": {},
     "output_type": "execute_result"
    }
   ],
   "source": [
    "np.exp(0.6411)"
   ],
   "metadata": {
    "collapsed": false,
    "pycharm": {
     "name": "#%%\n"
    }
   }
  },
  {
   "cell_type": "code",
   "execution_count": 15,
   "outputs": [
    {
     "name": "stdout",
     "output_type": "stream",
     "text": [
      "               2.5%     97.5%        OR\n",
      "intercept  0.000104  0.048739  0.002248\n",
      "AGE        1.015729  1.216077  1.111398\n",
      "INCOME     1.172104  3.075528  1.898642\n"
     ]
    }
   ],
   "source": [
    "conf = result.conf_int() # calculates confidence intervals for parameters\n",
    "conf['OR'] = result.params # identify the model parameter estimates\n",
    "conf.columns = ['2.5%', '97.5%', 'OR']\n",
    "print(np.exp(conf))"
   ],
   "metadata": {
    "collapsed": false,
    "pycharm": {
     "name": "#%%\n"
    }
   }
  },
  {
   "cell_type": "markdown",
   "source": [
    "`INCOME` multiplies by 1.89 the probability of having `OWNRENT`.\n",
    "Based on our data, we can expect an increase between 1.01 - 1 = 0.1 (10%) and 1.21 - 1 = 0.21 (21%) in the odds of `OWNRENT`."
   ],
   "metadata": {
    "collapsed": false,
    "pycharm": {
     "name": "#%% md\n"
    }
   }
  },
  {
   "cell_type": "code",
   "execution_count": null,
   "outputs": [],
   "source": [],
   "metadata": {
    "collapsed": false,
    "pycharm": {
     "name": "#%%\n"
    }
   }
  }
 ],
 "metadata": {
  "kernelspec": {
   "display_name": "Python 3",
   "language": "python",
   "name": "python3"
  },
  "language_info": {
   "codemirror_mode": {
    "name": "ipython",
    "version": 2
   },
   "file_extension": ".py",
   "mimetype": "text/x-python",
   "name": "python",
   "nbconvert_exporter": "python",
   "pygments_lexer": "ipython2",
   "version": "2.7.6"
  }
 },
 "nbformat": 4,
 "nbformat_minor": 0
}