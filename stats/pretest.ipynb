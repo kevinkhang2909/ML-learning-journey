{
 "cells": [
  {
   "cell_type": "markdown",
   "id": "bb34eccc",
   "metadata": {},
   "source": [
    "# Double Debiased Machine Learning (part 1)"
   ]
  },
  {
   "cell_type": "markdown",
   "id": "92b6a77f",
   "metadata": {},
   "source": [
    "*Causal inference, machine learning and regularization bias*"
   ]
  },
  {
   "cell_type": "markdown",
   "id": "6cfc23a1",
   "metadata": {},
   "source": [
    "In causal inference, we often estimate causal effects by conditioning the analysis on other variables. We usually refer to these variables as **control variables** or **confounders**. In randomized control trials or AB tests, conditioning can increase the power of the analysis, by reducing imbalances that have emerged despite randomization. However, conditioning is even more important in observational studies, where, absent randomization, it might be [essential to recover causal effects](https://towardsdatascience.com/b63dc69e3d8c).\n",
    "\n",
    "When we have many control variables, we might want to **select the most relevant ones**, ppossibly capturing nonlinearities and interactions. Machine learning algorithms are perfect for this task. However, in these cases, we are introducing a bias that is called **regularization or pre-test, or feature selection bias**. In this and the next blog post, I try to explain the source of the bias and a very poweful solution called **double debiased machine learning**, which has been probably one of the most relevant advancement at the intersection of machine learning and causal inference of the last decade."
   ]
  },
  {
   "cell_type": "markdown",
   "id": "f280bcf9",
   "metadata": {},
   "source": [
    "## Pre-Testing"
   ]
  },
  {
   "cell_type": "markdown",
   "id": "74c0604b",
   "metadata": {},
   "source": [
    "Since this is a complex topic, let's start with a simple example. \n",
    "\n",
    "Suppose we were a firm and we are interested in the **effect of advertisement spending on revenue**: is advertisement worth the money? There are also a lot of other things that might influence sales, therefore, we are thinking of controlling for past sales in the analysis, in order to increase the power of our analysis.\n",
    "\n",
    "Assume the data generating process can be represented with the following [**Directed Acyclic Graph (DAG)**](https://towardsdatascience.com/b63dc69e3d8c). If you are not familiar with DAGs, I have written a short [introduction here](https://towardsdatascience.com/b63dc69e3d8c).\n",
    "\n",
    "```mermaid\n",
    "flowchart LR\n",
    "classDef included fill:#DCDCDC,stroke:#000000,stroke-width:2px;\n",
    "classDef excluded fill:#ffffff,stroke:#000000,stroke-width:2px;\n",
    "classDef unobserved fill:#ffffff,stroke:#000000,stroke-width:2px,stroke-dasharray: 5 5;\n",
    "\n",
    "D((ad spend))\n",
    "Z((past sales))\n",
    "Y((sales))\n",
    "\n",
    "D --> Y\n",
    "Z -- ??? --> Y\n",
    "Z --> D\n",
    "\n",
    "class D,Y included;\n",
    "class Z excluded;\n",
    "\n",
    "linkStyle 0 stroke:#00ff00,stroke-width:4px;\n",
    "```\n",
    "\n",
    "I import the data generating process `dgp_tbd()` from [`src.dgp`](https://github.com/matteocourthoud/Blog-Posts/blob/main/src/dgp.py) and some plotting functions and libraries from [`src.utils`](https://github.com/matteocourthoud/Blog-Posts/blob/main/src/utils.py)."
   ]
  },
  {
   "cell_type": "code",
   "execution_count": 1,
   "id": "02506efc",
   "metadata": {
    "ExecuteTime": {
     "end_time": "2022-06-01T06:26:13.105142Z",
     "start_time": "2022-06-01T06:26:12.650050Z"
    }
   },
   "outputs": [],
   "source": [
    "import pandas as pd\n",
    "import numpy as np\n",
    "import statsmodels.api as sm\n",
    "import statsmodels.formula.api as smf\n",
    "import seaborn as sns\n",
    "import matplotlib.pyplot as plt\n",
    "\n",
    "%matplotlib inline\n",
    "%config InlineBackend.figure_format = 'retina'"
   ]
  },
  {
   "cell_type": "code",
   "execution_count": 2,
   "id": "bf2373e2",
   "metadata": {
    "ExecuteTime": {
     "end_time": "2022-06-01T06:26:13.962431Z",
     "start_time": "2022-06-01T06:26:13.106121Z"
    },
    "scrolled": true
   },
   "outputs": [
    {
     "data": {
      "text/html": [
       "<div>\n",
       "<style scoped>\n",
       "    .dataframe tbody tr th:only-of-type {\n",
       "        vertical-align: middle;\n",
       "    }\n",
       "\n",
       "    .dataframe tbody tr th {\n",
       "        vertical-align: top;\n",
       "    }\n",
       "\n",
       "    .dataframe thead th {\n",
       "        text-align: right;\n",
       "    }\n",
       "</style>\n",
       "<table border=\"1\" class=\"dataframe\">\n",
       "  <thead>\n",
       "    <tr style=\"text-align: right;\">\n",
       "      <th></th>\n",
       "      <th>ads</th>\n",
       "      <th>sales</th>\n",
       "      <th>past_sales</th>\n",
       "    </tr>\n",
       "  </thead>\n",
       "  <tbody>\n",
       "    <tr>\n",
       "      <th>0</th>\n",
       "      <td>16.719800</td>\n",
       "      <td>19.196620</td>\n",
       "      <td>6.624345</td>\n",
       "    </tr>\n",
       "    <tr>\n",
       "      <th>1</th>\n",
       "      <td>7.732222</td>\n",
       "      <td>9.287491</td>\n",
       "      <td>4.388244</td>\n",
       "    </tr>\n",
       "    <tr>\n",
       "      <th>2</th>\n",
       "      <td>10.923469</td>\n",
       "      <td>11.816906</td>\n",
       "      <td>4.471828</td>\n",
       "    </tr>\n",
       "    <tr>\n",
       "      <th>3</th>\n",
       "      <td>8.457062</td>\n",
       "      <td>9.024376</td>\n",
       "      <td>3.927031</td>\n",
       "    </tr>\n",
       "    <tr>\n",
       "      <th>4</th>\n",
       "      <td>13.085146</td>\n",
       "      <td>12.814823</td>\n",
       "      <td>5.865408</td>\n",
       "    </tr>\n",
       "  </tbody>\n",
       "</table>\n",
       "</div>"
      ],
      "text/plain": [
       "         ads      sales  past_sales\n",
       "0  16.719800  19.196620    6.624345\n",
       "1   7.732222   9.287491    4.388244\n",
       "2  10.923469  11.816906    4.471828\n",
       "3   8.457062   9.024376    3.927031\n",
       "4  13.085146  12.814823    5.865408"
      ]
     },
     "execution_count": 2,
     "metadata": {},
     "output_type": "execute_result"
    }
   ],
   "source": [
    "class dgp_pretest():\n",
    "    \"\"\"\n",
    "    Data Generating Process: pre-test bias\n",
    "    \"\"\"\n",
    "    \n",
    "    def generate_data(self, a=1, b=.3, c=3, N=1000, seed=1):\n",
    "        np.random.seed(seed)\n",
    "        \n",
    "        # Past Sales\n",
    "        past_sales = np.random.normal(5, 1, N)\n",
    "        \n",
    "        # Advertisement \n",
    "        ads = c*past_sales + np.random.normal(-3, 1, N)\n",
    "        \n",
    "        # Education\n",
    "        sales = a*ads + b*past_sales + np.random.normal(0, 1, N)\n",
    "                \n",
    "        # Generate the dataframe\n",
    "        df = pd.DataFrame({'ads': ads, 'sales': sales, 'past_sales': past_sales})\n",
    "\n",
    "        return df\n",
    "\n",
    "df = dgp_pretest().generate_data()\n",
    "df.head()"
   ]
  },
  {
   "cell_type": "markdown",
   "id": "6156ee5d",
   "metadata": {},
   "source": [
    "We have data on $1000$ different markets, in which we observe current `sales`, the amount spent in `advertisement` and `past sales`. \n",
    "\n",
    "We want to understand `ads` spending is effective in increasing `sales`. One possibility is to regress the latter on the former, using the following regression model, also called the **short model**.\n",
    "\n",
    "$$\n",
    "\\text{sales} = \\alpha \\cdot \\text{ads} + \\varepsilon\n",
    "$$\n",
    "\n",
    "Should we also include `past sales` in the regression? Then the regression model would be the following, also called **long model**.\n",
    "\n",
    "$$\n",
    "\\text{sales} = \\alpha \\cdot \\text{ads} + \\beta \\cdot \\text{past sales} + \\varepsilon\n",
    "$$\n",
    "\n",
    "Since we are not sure whether to condition the analysis on `past sales`, we could **let the data decide**: we could run the second regression and, if the effect of `past sales`, $\\beta$, is statistically significant, we are good with the long model, otherwise we run the short model."
   ]
  },
  {
   "cell_type": "code",
   "execution_count": 3,
   "id": "afabf391",
   "metadata": {
    "ExecuteTime": {
     "end_time": "2022-06-01T06:26:13.969518Z",
     "start_time": "2022-06-01T06:26:13.963059Z"
    }
   },
   "outputs": [
    {
     "data": {
      "text/html": [
       "<table class=\"simpletable\">\n",
       "<tr>\n",
       "       <td></td>         <th>coef</th>     <th>std err</th>      <th>t</th>      <th>P>|t|</th>  <th>[0.025</th>    <th>0.975]</th>  \n",
       "</tr>\n",
       "<tr>\n",
       "  <th>Intercept</th>  <td>    0.1405</td> <td>    0.185</td> <td>    0.758</td> <td> 0.448</td> <td>   -0.223</td> <td>    0.504</td>\n",
       "</tr>\n",
       "<tr>\n",
       "  <th>ads</th>        <td>    0.9708</td> <td>    0.030</td> <td>   32.545</td> <td> 0.000</td> <td>    0.912</td> <td>    1.029</td>\n",
       "</tr>\n",
       "<tr>\n",
       "  <th>past_sales</th> <td>    0.3381</td> <td>    0.095</td> <td>    3.543</td> <td> 0.000</td> <td>    0.151</td> <td>    0.525</td>\n",
       "</tr>\n",
       "</table>"
      ],
      "text/plain": [
       "<class 'statsmodels.iolib.table.SimpleTable'>"
      ]
     },
     "execution_count": 3,
     "metadata": {},
     "output_type": "execute_result"
    }
   ],
   "source": [
    "smf.ols('sales ~ ads + past_sales', df).fit().summary().tables[1]"
   ]
  },
  {
   "cell_type": "markdown",
   "id": "d237f19d",
   "metadata": {},
   "source": [
    "It seems that the effect of `past sales` on current `sales` is positive and significant. Therefore, we are happy with our specification and we conclude that the effect of `ads` on `sales` is positive and significant with a 95% confidence interval of $[0.912, 1.029]$."
   ]
  },
  {
   "cell_type": "markdown",
   "id": "3bb3eee7",
   "metadata": {},
   "source": [
    "## The Bias"
   ]
  },
  {
   "cell_type": "markdown",
   "id": "7235548f",
   "metadata": {},
   "source": [
    "There is an **issue** with this procedure: we are not taking into account the fact that we have run a test to decide whether to include `past_sales` in the regression. The fact that we have decided to include `past_sales` because its coefficient is significant *does* have an effect on the inference on the effect of `ads` on `sales`, $\\alpha$.\n",
    "\n",
    "The best way to understand the problem is through **simulations**. Since we have access to the data generating process `dgp_pretest()` (unlike in real life), we can just test what would happen if we were repeating this procedure multiple times:\n",
    "\n",
    "1. We draw a new sample from the data generating process.\n",
    "2. We regress `sales` on `ads` and `past_sales`.\n",
    "3. If the coefficient of `past_sales` is significant at the 95% level, we keep $\\hat \\alpha_{long}$ from (2).\n",
    "4. Otherwise, we regress `sales` on `ads` only, and we keep that coefficient $\\hat \\alpha_{short}$.\n",
    "\n",
    "I write a `pre_test` function to implement the procedure above. I also save the coefficients from both regressions, long and short, and the chosen one, called the **pre-test coefficient**.\n",
    "\n",
    "**Reminder**: we are pre-testing the effect of `past_sales` on `sales` but the coefficient of interest is the one of `ads` on `sales`."
   ]
  },
  {
   "cell_type": "code",
   "execution_count": 4,
   "id": "3dc6b240",
   "metadata": {
    "ExecuteTime": {
     "end_time": "2022-06-01T06:26:13.973928Z",
     "start_time": "2022-06-01T06:26:13.970689Z"
    }
   },
   "outputs": [],
   "source": [
    "def pre_testing(d='ads', y='sales', x='past_sales', K=1000, **kwargs):\n",
    "    \n",
    "    # Init\n",
    "    alpha = {'Long': np.zeros(K), 'Short': np.zeros(K), 'Pre-test': np.zeros(K)}\n",
    "\n",
    "    # Loop over simulations\n",
    "    for k in range(K):\n",
    "        \n",
    "        # Generate data\n",
    "        df = dgp_pretest().generate_data(seed=k, **kwargs)\n",
    "        \n",
    "        # Compute coefficients\n",
    "        alpha['Long'][k] = smf.ols(f'{y} ~ {d} + {x}', df).fit().params[1]\n",
    "        alpha['Short'][k] = smf.ols(f'{y} ~ {d}', df).fit().params[1]\n",
    "    \n",
    "        # Compute significance of beta\n",
    "        p_value = smf.ols(f'{y} ~ {d} + {x}', df).fit().pvalues[2]\n",
    "        \n",
    "        # Select specification based on p-value\n",
    "        if p_value<0.05:\n",
    "            alpha['Pre-test'][k] = alpha['Long'][k]\n",
    "        else:\n",
    "            alpha['Pre-test'][k] = alpha['Short'][k]\n",
    "    \n",
    "    return alpha"
   ]
  },
  {
   "cell_type": "code",
   "execution_count": 5,
   "id": "fcadd806",
   "metadata": {
    "ExecuteTime": {
     "end_time": "2022-06-01T06:26:19.048896Z",
     "start_time": "2022-06-01T06:26:13.974746Z"
    }
   },
   "outputs": [],
   "source": [
    "alphas = pre_testing()"
   ]
  },
  {
   "cell_type": "markdown",
   "id": "bd2bdc06",
   "metadata": {},
   "source": [
    "We can now plot the distributions (over simulations) of the estimated coefficients."
   ]
  },
  {
   "cell_type": "code",
   "execution_count": 6,
   "id": "ffc5d081",
   "metadata": {
    "ExecuteTime": {
     "end_time": "2022-06-01T06:26:19.052210Z",
     "start_time": "2022-06-01T06:26:19.049740Z"
    }
   },
   "outputs": [],
   "source": [
    "def plot_alphas(alphas, true_alpha):\n",
    "    \n",
    "    # Init plot\n",
    "    fig, axes = plt.subplots(1, len(alphas), figsize=(4*len(alphas), 5), sharey=True, sharex=True)\n",
    "\n",
    "    # Make one plot for each set of coefficients\n",
    "    for i, key in enumerate(alphas.keys()):\n",
    "        axes[i].hist(alphas[key], bins=30, lw=.1)\n",
    "        axes[i].set_title(key)\n",
    "        axes[i].axvline(true_alpha, c='r', ls='--')\n",
    "        legend_text = [r'$\\alpha=%.0f$' % true_alpha, r'$\\hat \\alpha=%.4f$' % np.mean(alphas[key])]\n",
    "        axes[i].legend(legend_text, prop={'size': 10}, loc='upper right')"
   ]
  },
  {
   "cell_type": "code",
   "execution_count": 7,
   "id": "64ef50ff",
   "metadata": {
    "ExecuteTime": {
     "end_time": "2022-06-01T06:26:19.391022Z",
     "start_time": "2022-06-01T06:26:19.052836Z"
    }
   },
   "outputs": [
    {
     "data": {
      "image/png": "[encoded data removed]",
      "text/plain": [
       "<Figure size 864x360 with 3 Axes>"
      ]
     },
     "metadata": {
      "image/png": {
       "height": 318,
       "width": 710
      },
      "needs_background": "light"
     },
     "output_type": "display_data"
    }
   ],
   "source": [
    "plot_alphas(alphas, true_alpha=1)"
   ]
  },
  {
   "cell_type": "markdown",
   "id": "4ea5a2f3",
   "metadata": {},
   "source": [
    "In the plot above, I have depicted the estimated coefficients, across simulations, for the different regression specifications. \n",
    "\n",
    "As we can see from the first plot, if we were always running the **long regression**, our estimator $\\hat \\alpha_{long}$ would be unbiased and normally distributed. However, if we were always running the **short regression** (second plot), our estimator $\\hat \\alpha_{short}$ would be **biased**.\n",
    "\n",
    "The **pre-testing** procedure generates an estimator $\\hat \\alpha_{pretest}$ that is a mix of the two: most of the times we select the correct specification, the long regression, but sometimes the pre-test fails to reject the null hypothesis of no effect of `past sales` on `sales`, $H_0 : \\beta = 0$, and we select the incorrect specification, running the short regression.\n",
    "\n",
    "Importantly, the pre-testing procedure **does not generate a biased estimator**. As we can see in the last plot, the estimated coefficient is very close to the true value, 1. The reason is that most of the time, the number of times we select the *short* regression is sufficiently small not to introduce bias, but not small enough to have valid inference.\n",
    "\n",
    "Indeed, **pre-testing distorts inference**: the distribution of the estimator $\\hat \\alpha_{pretest}$ is not normal anymore, but bimodal. The **consequence** is that our confidence intervals for $\\alpha$ are going to have the wrong coverage (contain the true effect with a different probability than the claimed one)."
   ]
  },
  {
   "cell_type": "markdown",
   "id": "c6fd6301",
   "metadata": {},
   "source": [
    "## When is pre-testing a problem?"
   ]
  },
  {
   "cell_type": "markdown",
   "id": "de7e4122",
   "metadata": {},
   "source": [
    "The problem of pre-testing arises because of the bias generated by running the short regression: [**omitted variable bias (OVB)**](https://towardsdatascience.com/344ac1477699). In you are not familiar with OVB, I have written a [short introduction here](https://towardsdatascience.com/344ac1477699). In general however, we can express the omitted variable bias introduced by regressing $Y$ on $D$ ignoring $X$ as\n",
    "\n",
    "$$\n",
    "\\text{OVB} = \\beta \\delta \\qquad \\text{ where } \\qquad \\beta := \\frac{Cov(X, Y)}{Var(X)}, \\quad \\delta := \\frac{Cov(D, X)}{Var(D)}\n",
    "$$\n",
    "\n",
    "Where $\\beta$ is the effect of $X$ (`past sales` in our example) on $Y$ (`sales`) and $\\delta$ is the effect of $D$ (`ads`) on $X$.\n",
    "\n",
    "Pre-testing is a **problem** if\n",
    "\n",
    "1. We run the short regression instead of the long one *and*\n",
    "2. The effect of the bias is sensible\n",
    "\n",
    "What can help improving (1), i.e. the probability of correctly rejecting the null hypothesis of zero effect of `past sales`, $H_0 : \\beta = 0$? The answer is simple: a **bigger sample size**. If we have more observations, we can more precisely estimate $\\beta$ and it is going to be less likely that we commit a [type 2 error](https://en.wikipedia.org/wiki/Type_I_and_type_II_errors) and run the short regression instead of the long one.\n",
    "\n",
    "Let's simulate the estimated coefficient $\\hat \\alpha$ under different sample sizes. Remember that the sample size used until now is $N=1000$."
   ]
  },
  {
   "cell_type": "code",
   "execution_count": null,
   "id": "996607b7",
   "metadata": {
    "ExecuteTime": {
     "end_time": "2022-06-01T06:26:40.182844Z",
     "start_time": "2022-06-01T06:26:19.391844Z"
    }
   },
   "outputs": [],
   "source": [
    "Ns = [100,300,1000,3000]\n",
    "alphas = {f'N = {n:.0f}':  pre_testing(N=n)['Pre-test'] for n in Ns}\n",
    "plot_alphas(alphas, true_alpha=1)"
   ]
  },
  {
   "cell_type": "markdown",
   "id": "c6440d54",
   "metadata": {
    "ExecuteTime": {
     "end_time": "2022-05-30T07:39:50.754246Z",
     "start_time": "2022-05-30T07:39:50.754241Z"
    }
   },
   "source": [
    "As we can see from the plots, as the sample size increases (left to right), the bias decreases and the distribution of the estimator $\\hat \\alpha_{pretest}$ converges to a normal distribution.\n",
    "\n",
    "What happens instead if the value of $\\beta$ was different? It is probably going to affect point (2) in the previous paragraph, but how?\n",
    "\n",
    "- If $\\beta$ is **very small**, it is going to be hard to detect it, and we will often end up running the *short* regression, introducing a bias. However, if $\\beta$ is very small, it also implies that the **magnitude of the bias** is small and therefore it is not going to affect our estimate of $\\alpha$ much\n",
    "\n",
    "- If $\\beta$ is **very big**, it is going to be easy to detect and we will often end up running the *long* regression, avoiding the bias (which would have been very big though). \n",
    "\n",
    "Let's simulate the estimated coefficient $\\hat \\alpha$ under different values of $\\beta$. The true value used until now was $\\beta = 0.3$."
   ]
  },
  {
   "cell_type": "code",
   "execution_count": null,
   "id": "33c75ff1",
   "metadata": {
    "ExecuteTime": {
     "end_time": "2022-06-01T06:26:59.993837Z",
     "start_time": "2022-06-01T06:26:40.183756Z"
    }
   },
   "outputs": [],
   "source": [
    "betas = 0.3 * np.array([0.1,0.3,1,3])\n",
    "alphas = {f'beta = {b:.2f}':  pre_testing(b=b)['Pre-test'] for b in betas}\n",
    "plot_alphas(alphas, true_alpha=1)"
   ]
  },
  {
   "cell_type": "markdown",
   "id": "3202b36f",
   "metadata": {
    "ExecuteTime": {
     "end_time": "2022-05-30T07:39:50.755453Z",
     "start_time": "2022-05-30T07:39:50.755446Z"
    }
   },
   "source": [
    "As we can see from the plots, as the value of $\\beta$ increases, the bias first appears and then disappears. When $\\beta$ is small (left plot), we often choose the short regression, but the bias is small and the average estimate is very close to the true value. For intermediate values of $\\beta$, the bias is sensible and it has a clear effect on inference. Lastly, for large values of $\\beta$ instead (right plot), we always run the long regression and the bias disappears.\n",
    "\n",
    "But **when is a coefficient big or small**? And big or small with respect to what? The answer is simple: with respect to the **sample size**, or more accurately, with respect to the inverse of the square root of the sample size, $1 / \\sqrt{n}$. The reason is deeply rooted in the [Central Limit Theorem](https://en.wikipedia.org/wiki/Central_limit_theorem), but I won't cover it here.\n",
    "\n",
    "The idea is easier to show than to explain, so let's repeat the same simulation as above, but now we will increase both the coefficient and the sample size at the same time."
   ]
  },
  {
   "cell_type": "code",
   "execution_count": null,
   "id": "d9154ab1",
   "metadata": {
    "ExecuteTime": {
     "end_time": "2022-06-01T06:27:20.419755Z",
     "start_time": "2022-06-01T06:26:59.996030Z"
    }
   },
   "outputs": [],
   "source": [
    "betas = 0.3 * 30 / np.sqrt(Ns)\n",
    "alphas = {f'N = {n:.0f}':  pre_testing(b=b, N=n)['Pre-test'] for n,b in zip(Ns,betas)}\n",
    "plot_alphas(alphas, true_alpha=1)"
   ]
  },
  {
   "cell_type": "markdown",
   "id": "049a4dac",
   "metadata": {},
   "source": [
    "As we can see, now that $\\beta$ is proportional to $1 / \\sqrt{n}$, the distortion is not going away, not matter the sample size. Therefore, inference will always be wrong.\n",
    "\n",
    "While a coefficient that depends on the sample size might sound **not intuitive**, it captures well the idea of **magnitude** in a world where we do inference relying on asymptotic results, first among all the [Central Limit Theorem](https://en.wikipedia.org/wiki/Central_limit_theorem). In fact, the Central Limit Theorem relieas on an infinitely large sample size. However, with an infinite amount of data, no coefficient is small and any non-zero effect is detected with certainty."
   ]
  },
  {
   "cell_type": "markdown",
   "id": "8773340e",
   "metadata": {},
   "source": [
    "## Pre-Testing and Machine Learning"
   ]
  },
  {
   "cell_type": "markdown",
   "id": "2d75657d",
   "metadata": {},
   "source": [
    "So far we talked about a linear regression with only 2 variables. Where is the **machine learning** we were promised? \n",
    "\n",
    "Usually we do not have just one control variable (or confounder), but many. Moreover, we might want to be flexible with respect to the functional form through which these control variables enter the model. In general, we will assume the following model:\n",
    "\n",
    "$$\n",
    "Y = \\alpha D + g_0(X) + u\n",
    "\\newline\n",
    "D = m_0(X) + v\n",
    "$$\n",
    "\n",
    "Where the effect of interest is still $\\alpha$, $X$ is potentially high dimensional and we do not take a stand on the functional form through which $X$ influences $D$ or $Y$. \n",
    "\n",
    "In this setting, it is natural to use a machine learning algorithm to estimate $g_0$ and $m_0$. However, machine learning algorithms usually introduce a **regularization bias** that is comparable to pre-testing. \n",
    "\n",
    "Possibly, the \"simplest\" way to think about it is [Lasso](https://en.wikipedia.org/wiki/Lasso_(statistics)). Lasso is linear in $X$, with a penalization term that effectively just performs the variable selection we discussed above. Therefore, if we were to use Lasso of $X$ and $D$ on $Y$ we would be introducing regularization bias and inference would be distorted. The same goes for more complex algorithms.\n",
    "\n",
    "Lastly, you might still wonder \"why is the model linear in the treatment variable $D$?\". Doing inference is much easier in linear model, not only for computational reasons but also for interpretation. Moreover, if the treatment $D$ is binary, the linear functional form is without loss of generality. A stronger assumption is the additive separability of $D$ and $g(X)$."
   ]
  },
  {
   "cell_type": "markdown",
   "id": "daf82334",
   "metadata": {},
   "source": [
    "## Conclusion"
   ]
  },
  {
   "cell_type": "markdown",
   "id": "b68f4311",
   "metadata": {},
   "source": [
    "In this post, I have tried to explain how does regularization bias emerges and why it can the an issue in causal inference. This problem is inherently related to settings with many control variables or where we would like to have a model-free (i.e. non-parametric) when controlling for confounders. These are exactly the settings in which machine learning algorithms can be useful.\n",
    "\n",
    "In the next post, I will cover a simple and yet incredibly powerful solution to this problem: double-debiased machine learning. "
   ]
  },
  {
   "cell_type": "markdown",
   "id": "e41cf5ee",
   "metadata": {},
   "source": [
    "### References"
   ]
  },
  {
   "cell_type": "markdown",
   "id": "c37fc4a4",
   "metadata": {},
   "source": [
    "[1] A. Belloni, D. Chen, V. Chernozhukov, C. Hansen, [Sparse Models and Methods for Optimal Instruments With an Application to Eminent Domain](https://onlinelibrary.wiley.com/doi/abs/10.3982/ECTA9626) (2012), *Econometrica*.\n",
    "\n",
    "[2] A. Belloni, V. Chernozhukov, C. Hansen, [Inference on treatment effects after selection among high-dimensional controls](https://academic.oup.com/restud/article-abstract/81/2/608/1523757) (2014), *The Review of Economic Studies*.\n",
    "\n",
    "[3] V. Chernozhukov, D. Chetverikov, M. Demirer, E. Duflo, C. Hansen, W. Newey, J. Robins, [Double/debiased machine learning for treatment and structural parameters](https://academic.oup.com/ectj/article/21/1/C1/5056401) (2018), *The Econometrics Journal*."
   ]
  },
  {
   "cell_type": "markdown",
   "id": "763698ce",
   "metadata": {},
   "source": [
    "### Related Articles"
   ]
  },
  {
   "cell_type": "markdown",
   "id": "c02cecae",
   "metadata": {},
   "source": [
    "- [Understanding Omitted Variable Bias](https://towardsdatascience.com/344ac1477699)\n",
    "- [Understanding The Frisch-Waugh-Lovell Theorem](https://towardsdatascience.com/59f801eb3299)\n",
    "- [DAGs and Control Variables](https://towardsdatascience.com/b63dc69e3d8c)"
   ]
  },
  {
   "cell_type": "markdown",
   "id": "f6666a96",
   "metadata": {},
   "source": [
    "### Code"
   ]
  },
  {
   "cell_type": "markdown",
   "id": "c9e271b8",
   "metadata": {},
   "source": [
    "You can find the original Jupyter Notebook here:\n",
    "\n",
    "https://github.com/matteocourthoud/Blog-Posts/blob/main/pretest.ipynb"
   ]
  }
 ],
 "metadata": {
  "@webio": {
   "lastCommId": null,
   "lastKernelId": null
  },
  "kernelspec": {
   "display_name": "Python 3 (ipykernel)",
   "language": "python",
   "name": "python3"
  },
  "language_info": {
   "codemirror_mode": {
    "name": "ipython",
    "version": 3
   },
   "file_extension": ".py",
   "mimetype": "text/x-python",
   "name": "python",
   "nbconvert_exporter": "python",
   "pygments_lexer": "ipython3",
   "version": "3.9.12"
  },
  "toc": {
   "base_numbering": 1,
   "nav_menu": {},
   "number_sections": false,
   "sideBar": true,
   "skip_h1_title": true,
   "title_cell": "Table of Contents",
   "title_sidebar": "Contents",
   "toc_cell": false,
   "toc_position": {},
   "toc_section_display": true,
   "toc_window_display": true
  },
  "varInspector": {
   "cols": {
    "lenName": 16,
    "lenType": 16,
    "lenVar": 40
   },
   "kernels_config": {
    "python": {
     "delete_cmd_postfix": "",
     "delete_cmd_prefix": "del ",
     "library": "var_list.py",
     "varRefreshCmd": "print(var_dic_list())"
    },
    "r": {
     "delete_cmd_postfix": ") ",
     "delete_cmd_prefix": "rm(",
     "library": "var_list.r",
     "varRefreshCmd": "cat(var_dic_list()) "
    }
   },
   "types_to_exclude": [
    "module",
    "function",
    "builtin_function_or_method",
    "instance",
    "_Feature"
   ],
   "window_display": false
  }
 },
 "nbformat": 4,
 "nbformat_minor": 5
}
