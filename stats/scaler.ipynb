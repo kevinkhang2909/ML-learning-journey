{
 "cells": [
  {
   "cell_type": "markdown",
   "id": "2b0bfe0b-0aed-4346-b31d-f7894d34b2e2",
   "metadata": {},
   "source": [
    "# Normalize\n",
    "converting two variables to a range 0-1"
   ]
  },
  {
   "cell_type": "code",
   "execution_count": 1,
   "id": "ed71c17c-410a-4a1c-98be-54f47804ac14",
   "metadata": {},
   "outputs": [
    {
     "name": "stdout",
     "output_type": "stream",
     "text": [
      "[[1.0e+02 1.0e-03]\n",
      " [8.0e+00 5.0e-02]\n",
      " [5.0e+01 5.0e-03]\n",
      " [8.8e+01 7.0e-02]\n",
      " [4.0e+00 1.0e-01]]\n",
      "[[1.         0.        ]\n",
      " [0.04166667 0.49494949]\n",
      " [0.47916667 0.04040404]\n",
      " [0.875      0.6969697 ]\n",
      " [0.         1.        ]]\n"
     ]
    }
   ],
   "source": [
    "import numpy as np\n",
    "from sklearn.preprocessing import MinMaxScaler, StandardScaler, RobustScaler\n",
    "\n",
    "\n",
    "data = np.array([\n",
    "    [100, 0.001],\n",
    "    [8, 0.05],\n",
    "    [50, 0.005],\n",
    "    [88, 0.07],\n",
    "    [4, 0.1]\n",
    "])\n",
    "print(data)\n",
    "\n",
    "scaler = MinMaxScaler()\n",
    "scaled = scaler.fit_transform(data)\n",
    "print(scaled)"
   ]
  },
  {
   "cell_type": "markdown",
   "id": "bc704bf5-ac18-40c1-8841-e7a737250b3b",
   "metadata": {},
   "source": [
    "# Standardize\n",
    "rescaling the distribution of values so that the mean of observed values is 0 and the standard deviation is 1"
   ]
  },
  {
   "cell_type": "code",
   "execution_count": 2,
   "id": "22e8b0ec-3629-4109-9fb9-678fef2ce4ab",
   "metadata": {},
   "outputs": [
    {
     "name": "stdout",
     "output_type": "stream",
     "text": [
      "[[ 1.26398112 -1.16389967]\n",
      " [-1.06174414  0.12639634]\n",
      " [ 0.         -1.05856939]\n",
      " [ 0.96062565  0.65304778]\n",
      " [-1.16286263  1.44302493]]\n"
     ]
    }
   ],
   "source": [
    "scaler = StandardScaler()\n",
    "scaled = scaler.fit_transform(data)\n",
    "print(scaled)"
   ]
  },
  {
   "cell_type": "markdown",
   "id": "4a9f262f-2c24-48b7-a3ea-dfef09d0bed7",
   "metadata": {},
   "source": [
    "mean value in each column is assigned a value of 0.0 if present and the values are centered around 0.0 with values both positive and negative"
   ]
  },
  {
   "cell_type": "markdown",
   "id": "8f67d528-f071-4e4c-8db7-82c69ea3782e",
   "metadata": {},
   "source": [
    "# Q&A:\n",
    "Q: Should I Normalize or Standardize?\n",
    "A: If the distribution of the quantity is normal, then it should be standardized, otherwise, the data should be normalized."
   ]
  },
  {
   "cell_type": "markdown",
   "id": "efadf6a0-100e-45dc-9062-f4944cae9173",
   "metadata": {},
   "source": [
    "# Robust Scaler\n",
    "- Removes the median and scales the data according to the quantile range (defaults to IQR: Interquartile Range). The IQR is the range between the 1st quartile (25th quantile) and the 3rd quartile (75th quantile)\n",
    "\n",
    "- Resulting variable has a zero mean and median and a standard deviation of 1, although not skewed by outliers and the outliers are still present with the same relative relationships to other values"
   ]
  },
  {
   "cell_type": "code",
   "execution_count": 3,
   "id": "5d79a01b-82f3-4ac8-ba55-f0d8d83638bd",
   "metadata": {},
   "outputs": [
    {
     "name": "stdout",
     "output_type": "stream",
     "text": [
      "[[ 0.625      -0.75384615]\n",
      " [-0.525       0.        ]\n",
      " [ 0.         -0.69230769]\n",
      " [ 0.475       0.30769231]\n",
      " [-0.575       0.76923077]]\n"
     ]
    }
   ],
   "source": [
    "scaler = RobustScaler()\n",
    "scaled = scaler.fit_transform(data)\n",
    "print(scaled)"
   ]
  },
  {
   "cell_type": "code",
   "execution_count": 4,
   "id": "c060e323-6cb2-4a54-b513-77e4a27a1048",
   "metadata": {},
   "outputs": [
    {
     "data": {
      "text/plain": [
       "0.0"
      ]
     },
     "execution_count": 4,
     "metadata": {},
     "output_type": "execute_result"
    }
   ],
   "source": [
    "np.median(scaled)"
   ]
  },
  {
   "cell_type": "code",
   "execution_count": null,
   "id": "d36b7893-9253-4d67-a79d-d707fea60af0",
   "metadata": {},
   "outputs": [],
   "source": []
  }
 ],
 "metadata": {
  "kernelspec": {
   "display_name": "Python 3 (ipykernel)",
   "language": "python",
   "name": "python3"
  },
  "language_info": {
   "codemirror_mode": {
    "name": "ipython",
    "version": 3
   },
   "file_extension": ".py",
   "mimetype": "text/x-python",
   "name": "python",
   "nbconvert_exporter": "python",
   "pygments_lexer": "ipython3",
   "version": "3.10.8"
  }
 },
 "nbformat": 4,
 "nbformat_minor": 5
}
