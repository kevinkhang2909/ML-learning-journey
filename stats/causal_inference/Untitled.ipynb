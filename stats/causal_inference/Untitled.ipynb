{
 "cells": [
  {
   "cell_type": "markdown",
   "id": "2a99d231-97bd-4f4b-9264-bc435c4f6d2a",
   "metadata": {
    "pycharm": {
     "name": "#%% md\n"
    }
   },
   "source": [
    "# Context\n",
    "\n",
    "One day a team lead notices that some members of their team wear cool hats, and that these members of the team tend to be less productive. Being data drive, the Team Lead starts to record whether or not a team member wears a cool hat (X=1 for a cool hat, X=0 for no cool hat) and whether or not they are productive (Y=1 for productive, Y=0 for unproductive)."
   ]
  },
  {
   "cell_type": "code",
   "execution_count": 15,
   "id": "dea01225-b81e-4cef-9b54-25e241c25390",
   "metadata": {
    "pycharm": {
     "name": "#%%\n"
    }
   },
   "outputs": [
    {
     "name": "stdout",
     "output_type": "stream",
     "text": [
      "(500, 2)\n"
     ]
    },
    {
     "data": {
      "text/plain": "   x  y\n0  0  1\n1  1  0\n2  0  1\n3  0  0\n4  1  0",
      "text/html": "<div>\n<style scoped>\n    .dataframe tbody tr th:only-of-type {\n        vertical-align: middle;\n    }\n\n    .dataframe tbody tr th {\n        vertical-align: top;\n    }\n\n    .dataframe thead th {\n        text-align: right;\n    }\n</style>\n<table border=\"1\" class=\"dataframe\">\n  <thead>\n    <tr style=\"text-align: right;\">\n      <th></th>\n      <th>x</th>\n      <th>y</th>\n    </tr>\n  </thead>\n  <tbody>\n    <tr>\n      <th>0</th>\n      <td>0</td>\n      <td>1</td>\n    </tr>\n    <tr>\n      <th>1</th>\n      <td>1</td>\n      <td>0</td>\n    </tr>\n    <tr>\n      <th>2</th>\n      <td>0</td>\n      <td>1</td>\n    </tr>\n    <tr>\n      <th>3</th>\n      <td>0</td>\n      <td>0</td>\n    </tr>\n    <tr>\n      <th>4</th>\n      <td>1</td>\n      <td>0</td>\n    </tr>\n  </tbody>\n</table>\n</div>"
     },
     "execution_count": 15,
     "metadata": {},
     "output_type": "execute_result"
    }
   ],
   "source": [
    "import numpy as np\n",
    "import pandas as pd\n",
    "\n",
    "p_z = 0.5\n",
    "p_x_z = [0.9, 0.1]\n",
    "p_y_xz = [0.2, 0.4, 0.6, 0.8]\n",
    "z = np.random.binomial(n=1, p=p_z, size=500)\n",
    "p_x = np.choose(z, p_x_z)\n",
    "x = np.random.binomial(n=1, p=p_x, size=500)\n",
    "p_y = np.choose(x+2*z, p_y_xz)\n",
    "y = np.random.binomial(n=1, p=p_y, size=500)\n",
    "\n",
    "df = pd.DataFrame({\"x\": x, \"y\": y})\n",
    "print(df.shape)\n",
    "df.head()"
   ]
  },
  {
   "cell_type": "markdown",
   "id": "52b5a31c-f7fa-401a-9f2b-61b2491be722",
   "metadata": {
    "pycharm": {
     "name": "#%% md\n"
    }
   },
   "source": [
    "ATE = P(Y=1|X=1) − P(Y=1|X=0)"
   ]
  },
  {
   "cell_type": "code",
   "execution_count": 16,
   "id": "d163f47c-d70e-4e45-a200-4b19ed16a846",
   "metadata": {
    "pycharm": {
     "name": "#%%\n"
    }
   },
   "outputs": [
    {
     "data": {
      "text/plain": "{'estimated_effect': -0.10809772956367297,\n 'standard_error': 0.08728843545324436}"
     },
     "execution_count": 16,
     "metadata": {},
     "output_type": "execute_result"
    }
   ],
   "source": [
    "def estimate_uplift(ds):\n",
    "    \"\"\"\n",
    "    Estimate the difference in means between two groups.\n",
    "    \"estimated_effect\" - the difference in mean values of $y$ for treated and untreated samples.\n",
    "    \"standard_error\" - 90% confidence intervals arround \"estimated_effect\"\n",
    "    \"\"\"\n",
    "    base = ds[ds.x == 0]\n",
    "    variant = ds[ds.x == 1]\n",
    "    delta = variant.y.mean() - base.y.mean()\n",
    "    delta_err = 1.96 * np.sqrt(variant.y.var() / variant.shape[0] + base.y.var() / base.shape[0])\n",
    "    return {\"estimated_effect\": delta, \"standard_error\": delta_err}\n",
    "\n",
    "estimate_uplift(df)"
   ]
  },
  {
   "cell_type": "markdown",
   "id": "2595df49-43bc-4146-b30e-13405482d49a",
   "metadata": {
    "pycharm": {
     "name": "#%% md\n"
    }
   },
   "source": [
    "It looks like people with cool hats are less productive."
   ]
  },
  {
   "cell_type": "code",
   "execution_count": 21,
   "id": "8302b0f0-77bd-47ad-8f74-78d31fba3cd3",
   "metadata": {
    "pycharm": {
     "name": "#%%\n"
    }
   },
   "outputs": [
    {
     "name": "stdout",
     "output_type": "stream",
     "text": [
      "p-value: 0.0198; <0.005: False\n"
     ]
    }
   ],
   "source": [
    "from scipy.stats import chi2_contingency\n",
    "\n",
    "tmp = df.assign(placeholder=1).pivot_table(index='x', columns='y', values='placeholder', aggfunc='sum')\n",
    "result = chi2_contingency(tmp.to_numpy(), lambda_='log-likelihood')\n",
    "print(f'p-value: {result[1]:.4f}; <0.005: {result[1] < 0.005}')"
   ]
  },
  {
   "cell_type": "markdown",
   "source": [
    "We can use this information to make statements about what we might think about someone's probability if we see them wearing a cool hat. As long as we believe that they are \"drawn from the same distribution\" as our previous observations, we expect the same correlations to exist."
   ],
   "metadata": {
    "collapsed": false,
    "pycharm": {
     "name": "#%% md\n"
    }
   }
  },
  {
   "cell_type": "code",
   "execution_count": 14,
   "id": "4229455a-042d-4307-bc85-e5ce63b416a1",
   "metadata": {
    "pycharm": {
     "name": "#%%\n"
    }
   },
   "outputs": [
    {
     "data": {
      "text/plain": "{'estimated_effect': 0.19799999999999995,\n 'standard_error': 0.01921192118407518}"
     },
     "execution_count": 14,
     "metadata": {},
     "output_type": "execute_result"
    }
   ],
   "source": [
    "import numpy as np\n",
    "import pandas as pd\n",
    "from sklearn.preprocessing import PolynomialFeatures\n",
    "\n",
    "\n",
    "def generate_dataset(n_samples=500, set_X=None, show_z=False):\n",
    "    p_z = 0.5\n",
    "    p_x_z = [0.9, 0.1]\n",
    "    p_y_xz = [0.2, 0.4, 0.6, 0.8]\n",
    "    z = np.random.binomial(n=1, p=p_z, size=n_samples)\n",
    "    if set_X is not None:\n",
    "        assert(len(set_X) == n_samples)\n",
    "        x = set_X\n",
    "    else:\n",
    "        p_x = np.choose(z, p_x_z)\n",
    "        x = np.random.binomial(n=1, p=p_x, size=n_samples)\n",
    "    p_y = np.choose(x+2*z, p_y_xz)\n",
    "    y = np.random.binomial(n=1, p=p_y, size=n_samples)\n",
    "    if show_z:\n",
    "        return pd.DataFrame({\"x\":x, \"y\":y, \"z\":z})\n",
    "    return pd.DataFrame({\"x\":x, \"y\":y})\n",
    "\n",
    "\n",
    "def run_ab_test(datagenerator, n_samples=10000, filter_=None):\n",
    "    n_samples_a = int(n_samples / 2)\n",
    "    n_samples_b = n_samples - n_samples_a\n",
    "    set_X = np.concatenate([np.ones(n_samples_a), np.zeros(n_samples_b)]).astype(np.int64)\n",
    "    ds = datagenerator(n_samples=n_samples, set_X=set_X)\n",
    "    if filter_ != None:\n",
    "        ds = ds[filter_(ds)].copy()\n",
    "    return estimate_uplift(ds)\n",
    "\n",
    "run_ab_test(generate_dataset)"
   ]
  },
  {
   "cell_type": "code",
   "execution_count": 14,
   "id": "d6e1112c-e6b9-437b-8117-5d7051000583",
   "metadata": {
    "pycharm": {
     "name": "#%%\n"
    }
   },
   "outputs": [],
   "source": []
  }
 ],
 "metadata": {
  "kernelspec": {
   "display_name": "Python 3 (ipykernel)",
   "language": "python",
   "name": "python3"
  },
  "language_info": {
   "codemirror_mode": {
    "name": "ipython",
    "version": 3
   },
   "file_extension": ".py",
   "mimetype": "text/x-python",
   "name": "python",
   "nbconvert_exporter": "python",
   "pygments_lexer": "ipython3",
   "version": "3.9.12"
  }
 },
 "nbformat": 4,
 "nbformat_minor": 5
}