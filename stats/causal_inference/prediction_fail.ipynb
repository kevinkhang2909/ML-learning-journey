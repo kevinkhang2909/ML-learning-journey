{
 "cells": [
  {
   "cell_type": "code",
   "execution_count": 3,
   "metadata": {
    "collapsed": true
   },
   "outputs": [],
   "source": [
    "import pandas as pd\n",
    "import numpy as np\n",
    "from sklearn import ensemble\n",
    "from sklearn.model_selection import train_test_split, cross_val_predict\n",
    "from sklearn.metrics import r2_score\n",
    "import seaborn as sns\n",
    "from matplotlib import pyplot as plt\n",
    "from matplotlib import style\n",
    "style.use(\"ggplot\")\n",
    "\n",
    "from nb18 import ltv_with_coupons"
   ]
  },
  {
   "cell_type": "code",
   "execution_count": 4,
   "outputs": [
    {
     "name": "stdout",
     "output_type": "stream",
     "text": [
      "(10000, 32)\n"
     ]
    },
    {
     "data": {
      "text/plain": "   customer_id  cacq  day_0  day_1  day_2  day_3  day_4  day_5  day_6  day_7  \\\n0            0  -110      0      0      0      0      5      0      2      2   \n1            1   -61      2      0      5      2      3      4      1      0   \n2            2    -8      0      0      0      0      0      0      0      0   \n3            3   -30      0      0      0      0      0      0      0      0   \n4            4   -41      0      0      0      2      0      4      0      0   \n\n   ...  day_20  day_21  day_22  day_23  day_24  day_25  day_26  day_27  \\\n0  ...       0       3       0       4       0       0       0       0   \n1  ...       5       0       1      35      11       0       5       2   \n2  ...       0       0       0       0       0       0       0       0   \n3  ...       0       0       0       0       0       0       0       0   \n4  ...       0       0       0       0       0       0       0       0   \n\n   day_28  day_29  \n0       0       0  \n1       4       0  \n2       0       0  \n3       0       0  \n4       0       0  \n\n[5 rows x 32 columns]",
      "text/html": "<div>\n<style scoped>\n    .dataframe tbody tr th:only-of-type {\n        vertical-align: middle;\n    }\n\n    .dataframe tbody tr th {\n        vertical-align: top;\n    }\n\n    .dataframe thead th {\n        text-align: right;\n    }\n</style>\n<table border=\"1\" class=\"dataframe\">\n  <thead>\n    <tr style=\"text-align: right;\">\n      <th></th>\n      <th>customer_id</th>\n      <th>cacq</th>\n      <th>day_0</th>\n      <th>day_1</th>\n      <th>day_2</th>\n      <th>day_3</th>\n      <th>day_4</th>\n      <th>day_5</th>\n      <th>day_6</th>\n      <th>day_7</th>\n      <th>...</th>\n      <th>day_20</th>\n      <th>day_21</th>\n      <th>day_22</th>\n      <th>day_23</th>\n      <th>day_24</th>\n      <th>day_25</th>\n      <th>day_26</th>\n      <th>day_27</th>\n      <th>day_28</th>\n      <th>day_29</th>\n    </tr>\n  </thead>\n  <tbody>\n    <tr>\n      <th>0</th>\n      <td>0</td>\n      <td>-110</td>\n      <td>0</td>\n      <td>0</td>\n      <td>0</td>\n      <td>0</td>\n      <td>5</td>\n      <td>0</td>\n      <td>2</td>\n      <td>2</td>\n      <td>...</td>\n      <td>0</td>\n      <td>3</td>\n      <td>0</td>\n      <td>4</td>\n      <td>0</td>\n      <td>0</td>\n      <td>0</td>\n      <td>0</td>\n      <td>0</td>\n      <td>0</td>\n    </tr>\n    <tr>\n      <th>1</th>\n      <td>1</td>\n      <td>-61</td>\n      <td>2</td>\n      <td>0</td>\n      <td>5</td>\n      <td>2</td>\n      <td>3</td>\n      <td>4</td>\n      <td>1</td>\n      <td>0</td>\n      <td>...</td>\n      <td>5</td>\n      <td>0</td>\n      <td>1</td>\n      <td>35</td>\n      <td>11</td>\n      <td>0</td>\n      <td>5</td>\n      <td>2</td>\n      <td>4</td>\n      <td>0</td>\n    </tr>\n    <tr>\n      <th>2</th>\n      <td>2</td>\n      <td>-8</td>\n      <td>0</td>\n      <td>0</td>\n      <td>0</td>\n      <td>0</td>\n      <td>0</td>\n      <td>0</td>\n      <td>0</td>\n      <td>0</td>\n      <td>...</td>\n      <td>0</td>\n      <td>0</td>\n      <td>0</td>\n      <td>0</td>\n      <td>0</td>\n      <td>0</td>\n      <td>0</td>\n      <td>0</td>\n      <td>0</td>\n      <td>0</td>\n    </tr>\n    <tr>\n      <th>3</th>\n      <td>3</td>\n      <td>-30</td>\n      <td>0</td>\n      <td>0</td>\n      <td>0</td>\n      <td>0</td>\n      <td>0</td>\n      <td>0</td>\n      <td>0</td>\n      <td>0</td>\n      <td>...</td>\n      <td>0</td>\n      <td>0</td>\n      <td>0</td>\n      <td>0</td>\n      <td>0</td>\n      <td>0</td>\n      <td>0</td>\n      <td>0</td>\n      <td>0</td>\n      <td>0</td>\n    </tr>\n    <tr>\n      <th>4</th>\n      <td>4</td>\n      <td>-41</td>\n      <td>0</td>\n      <td>0</td>\n      <td>0</td>\n      <td>2</td>\n      <td>0</td>\n      <td>4</td>\n      <td>0</td>\n      <td>0</td>\n      <td>...</td>\n      <td>0</td>\n      <td>0</td>\n      <td>0</td>\n      <td>0</td>\n      <td>0</td>\n      <td>0</td>\n      <td>0</td>\n      <td>0</td>\n      <td>0</td>\n      <td>0</td>\n    </tr>\n  </tbody>\n</table>\n<p>5 rows × 32 columns</p>\n</div>"
     },
     "execution_count": 4,
     "metadata": {},
     "output_type": "execute_result"
    }
   ],
   "source": [
    "transactions, customer_features = ltv_with_coupons()\n",
    "print(transactions.shape)\n",
    "transactions.head()"
   ],
   "metadata": {
    "collapsed": false
   }
  },
  {
   "cell_type": "code",
   "execution_count": 5,
   "outputs": [
    {
     "name": "stdout",
     "output_type": "stream",
     "text": [
      "(10000, 5)\n"
     ]
    },
    {
     "data": {
      "text/plain": "   customer_id  region  income  coupons  age\n0            0      18    1025        5   24\n1            1      40    1649        5   26\n2            2      35    2034       15   33\n3            3      29    1859       15   35\n4            4      11    1243        5   26",
      "text/html": "<div>\n<style scoped>\n    .dataframe tbody tr th:only-of-type {\n        vertical-align: middle;\n    }\n\n    .dataframe tbody tr th {\n        vertical-align: top;\n    }\n\n    .dataframe thead th {\n        text-align: right;\n    }\n</style>\n<table border=\"1\" class=\"dataframe\">\n  <thead>\n    <tr style=\"text-align: right;\">\n      <th></th>\n      <th>customer_id</th>\n      <th>region</th>\n      <th>income</th>\n      <th>coupons</th>\n      <th>age</th>\n    </tr>\n  </thead>\n  <tbody>\n    <tr>\n      <th>0</th>\n      <td>0</td>\n      <td>18</td>\n      <td>1025</td>\n      <td>5</td>\n      <td>24</td>\n    </tr>\n    <tr>\n      <th>1</th>\n      <td>1</td>\n      <td>40</td>\n      <td>1649</td>\n      <td>5</td>\n      <td>26</td>\n    </tr>\n    <tr>\n      <th>2</th>\n      <td>2</td>\n      <td>35</td>\n      <td>2034</td>\n      <td>15</td>\n      <td>33</td>\n    </tr>\n    <tr>\n      <th>3</th>\n      <td>3</td>\n      <td>29</td>\n      <td>1859</td>\n      <td>15</td>\n      <td>35</td>\n    </tr>\n    <tr>\n      <th>4</th>\n      <td>4</td>\n      <td>11</td>\n      <td>1243</td>\n      <td>5</td>\n      <td>26</td>\n    </tr>\n  </tbody>\n</table>\n</div>"
     },
     "execution_count": 5,
     "metadata": {},
     "output_type": "execute_result"
    }
   ],
   "source": [
    "print(customer_features.shape)\n",
    "customer_features.head()"
   ],
   "metadata": {
    "collapsed": false
   }
  },
  {
   "cell_type": "code",
   "execution_count": 6,
   "outputs": [
    {
     "data": {
      "text/plain": "   customer_id  region  income  coupons  age  net_value\n0            0      18    1025        5   24        -44\n1            1      40    1649        5   26         74\n2            2      35    2034       15   33        -23\n3            3      29    1859       15   35        -45\n4            4      11    1243        5   26        -26",
      "text/html": "<div>\n<style scoped>\n    .dataframe tbody tr th:only-of-type {\n        vertical-align: middle;\n    }\n\n    .dataframe tbody tr th {\n        vertical-align: top;\n    }\n\n    .dataframe thead th {\n        text-align: right;\n    }\n</style>\n<table border=\"1\" class=\"dataframe\">\n  <thead>\n    <tr style=\"text-align: right;\">\n      <th></th>\n      <th>customer_id</th>\n      <th>region</th>\n      <th>income</th>\n      <th>coupons</th>\n      <th>age</th>\n      <th>net_value</th>\n    </tr>\n  </thead>\n  <tbody>\n    <tr>\n      <th>0</th>\n      <td>0</td>\n      <td>18</td>\n      <td>1025</td>\n      <td>5</td>\n      <td>24</td>\n      <td>-44</td>\n    </tr>\n    <tr>\n      <th>1</th>\n      <td>1</td>\n      <td>40</td>\n      <td>1649</td>\n      <td>5</td>\n      <td>26</td>\n      <td>74</td>\n    </tr>\n    <tr>\n      <th>2</th>\n      <td>2</td>\n      <td>35</td>\n      <td>2034</td>\n      <td>15</td>\n      <td>33</td>\n      <td>-23</td>\n    </tr>\n    <tr>\n      <th>3</th>\n      <td>3</td>\n      <td>29</td>\n      <td>1859</td>\n      <td>15</td>\n      <td>35</td>\n      <td>-45</td>\n    </tr>\n    <tr>\n      <th>4</th>\n      <td>4</td>\n      <td>11</td>\n      <td>1243</td>\n      <td>5</td>\n      <td>26</td>\n      <td>-26</td>\n    </tr>\n  </tbody>\n</table>\n</div>"
     },
     "execution_count": 6,
     "metadata": {},
     "output_type": "execute_result"
    }
   ],
   "source": [
    "def process_data(transactions, customer_data):\n",
    "    profitable = (transactions[[\"customer_id\"]].assign(net_value=transactions.drop(columns=\"customer_id\").sum(axis=1)))\n",
    "    return (customer_data\n",
    "            # join net_value and features\n",
    "            .merge(profitable, on=\"customer_id\")\n",
    "            # include the coupons cost\n",
    "            .assign(net_value = lambda d: d[\"net_value\"] - d[\"coupons\"]))\n",
    "\n",
    "customer_features = process_data(transactions, customer_features)\n",
    "customer_features.head()"
   ],
   "metadata": {
    "collapsed": false
   }
  },
  {
   "cell_type": "code",
   "execution_count": 7,
   "outputs": [
    {
     "data": {
      "text/plain": "coupons\n0      458\n5     4749\n10    4154\n15     639\nName: customer_id, dtype: int64"
     },
     "execution_count": 7,
     "metadata": {},
     "output_type": "execute_result"
    }
   ],
   "source": [
    "customer_features.groupby(\"coupons\")[\"customer_id\"].count()"
   ],
   "metadata": {
    "collapsed": false
   }
  },
  {
   "cell_type": "code",
   "execution_count": 8,
   "outputs": [
    {
     "data": {
      "text/plain": "              coupons\ncustomer_id  0.002239\nregion      -0.004073\nincome       0.001236\ncoupons      1.000000\nage          0.897308\nnet_value   -0.078369",
      "text/html": "<div>\n<style scoped>\n    .dataframe tbody tr th:only-of-type {\n        vertical-align: middle;\n    }\n\n    .dataframe tbody tr th {\n        vertical-align: top;\n    }\n\n    .dataframe thead th {\n        text-align: right;\n    }\n</style>\n<table border=\"1\" class=\"dataframe\">\n  <thead>\n    <tr style=\"text-align: right;\">\n      <th></th>\n      <th>coupons</th>\n    </tr>\n  </thead>\n  <tbody>\n    <tr>\n      <th>customer_id</th>\n      <td>0.002239</td>\n    </tr>\n    <tr>\n      <th>region</th>\n      <td>-0.004073</td>\n    </tr>\n    <tr>\n      <th>income</th>\n      <td>0.001236</td>\n    </tr>\n    <tr>\n      <th>coupons</th>\n      <td>1.000000</td>\n    </tr>\n    <tr>\n      <th>age</th>\n      <td>0.897308</td>\n    </tr>\n    <tr>\n      <th>net_value</th>\n      <td>-0.078369</td>\n    </tr>\n  </tbody>\n</table>\n</div>"
     },
     "execution_count": 8,
     "metadata": {},
     "output_type": "execute_result"
    }
   ],
   "source": [
    "customer_features.corr()[[\"coupons\"]]"
   ],
   "metadata": {
    "collapsed": false
   }
  },
  {
   "cell_type": "code",
   "execution_count": 9,
   "outputs": [
    {
     "data": {
      "text/plain": "Text(0.5, 1.0, 'Net Value by Coupon Value')"
     },
     "execution_count": 9,
     "metadata": {},
     "output_type": "execute_result"
    },
    {
     "data": {
      "text/plain": "<Figure size 640x480 with 1 Axes>",
      "image/png": "[encoded data removed]"
     },
     "metadata": {},
     "output_type": "display_data"
    }
   ],
   "source": [
    "sns.barplot(data=customer_features, x=\"coupons\", y=\"net_value\")\n",
    "plt.title(\"Net Value by Coupon Value\")"
   ],
   "metadata": {
    "collapsed": false
   }
  },
  {
   "cell_type": "code",
   "execution_count": 10,
   "outputs": [
    {
     "data": {
      "text/plain": "   customer_id  region  income  coupons  age  net_value\n0            0      18    1025        5   24        -44\n1            1      40    1649        5   26         74\n2            2      35    2034        5   33         63\n3            3      29    1859        5   35         63\n4            4      11    1243        5   26        -26",
      "text/html": "<div>\n<style scoped>\n    .dataframe tbody tr th:only-of-type {\n        vertical-align: middle;\n    }\n\n    .dataframe tbody tr th {\n        vertical-align: top;\n    }\n\n    .dataframe thead th {\n        text-align: right;\n    }\n</style>\n<table border=\"1\" class=\"dataframe\">\n  <thead>\n    <tr style=\"text-align: right;\">\n      <th></th>\n      <th>customer_id</th>\n      <th>region</th>\n      <th>income</th>\n      <th>coupons</th>\n      <th>age</th>\n      <th>net_value</th>\n    </tr>\n  </thead>\n  <tbody>\n    <tr>\n      <th>0</th>\n      <td>0</td>\n      <td>18</td>\n      <td>1025</td>\n      <td>5</td>\n      <td>24</td>\n      <td>-44</td>\n    </tr>\n    <tr>\n      <th>1</th>\n      <td>1</td>\n      <td>40</td>\n      <td>1649</td>\n      <td>5</td>\n      <td>26</td>\n      <td>74</td>\n    </tr>\n    <tr>\n      <th>2</th>\n      <td>2</td>\n      <td>35</td>\n      <td>2034</td>\n      <td>5</td>\n      <td>33</td>\n      <td>63</td>\n    </tr>\n    <tr>\n      <th>3</th>\n      <td>3</td>\n      <td>29</td>\n      <td>1859</td>\n      <td>5</td>\n      <td>35</td>\n      <td>63</td>\n    </tr>\n    <tr>\n      <th>4</th>\n      <td>4</td>\n      <td>11</td>\n      <td>1243</td>\n      <td>5</td>\n      <td>26</td>\n      <td>-26</td>\n    </tr>\n  </tbody>\n</table>\n</div>"
     },
     "execution_count": 10,
     "metadata": {},
     "output_type": "execute_result"
    }
   ],
   "source": [
    "simple_policy = 5 * np.ones(customer_features[\"coupons\"].shape)\n",
    "transactions_simple_policy, customer_features_simple_policy = ltv_with_coupons(simple_policy)\n",
    "customer_features_simple_policy = process_data(transactions_simple_policy, customer_features_simple_policy)\n",
    "customer_features_simple_policy.head()"
   ],
   "metadata": {
    "collapsed": false
   }
  },
  {
   "cell_type": "code",
   "execution_count": 11,
   "outputs": [
    {
     "data": {
      "text/plain": "252.9268"
     },
     "execution_count": 11,
     "metadata": {},
     "output_type": "execute_result"
    }
   ],
   "source": [
    "simple_policy_gain = customer_features_simple_policy[\"net_value\"].mean()\n",
    "simple_policy_gain"
   ],
   "metadata": {
    "collapsed": false
   }
  },
  {
   "cell_type": "code",
   "execution_count": 12,
   "outputs": [
    {
     "data": {
      "text/plain": "165.1066"
     },
     "execution_count": 12,
     "metadata": {},
     "output_type": "execute_result"
    }
   ],
   "source": [
    "customer_features[\"net_value\"].mean()"
   ],
   "metadata": {
    "collapsed": false
   }
  },
  {
   "cell_type": "code",
   "execution_count": 13,
   "outputs": [],
   "source": [
    "def model_bands(train_set, features, target, model_params, n_bands, seed=1):\n",
    "\n",
    "    np.random.seed(seed)\n",
    "\n",
    "    # train the ML model\n",
    "    reg = ensemble.GradientBoostingRegressor(**model_params)\n",
    "    reg.fit(train_set[features], train_set[target])\n",
    "\n",
    "    # fit the bands\n",
    "    bands = pd.qcut(reg.predict(train_set[features]), q=n_bands, retbins=True)[1]\n",
    "\n",
    "    def predict(test_set):\n",
    "        # make predictions with trained model\n",
    "        predictions = reg.predict(test_set[features])\n",
    "\n",
    "        # discretize predictions into bands.\n",
    "        pred_bands = np.digitize(predictions, bands, right=False)\n",
    "        return test_set.assign(predictions=predictions,\n",
    "                               # cliping avoid creating new upper bands\n",
    "                               pred_bands=np.clip(pred_bands, 1, n_bands))\n",
    "\n",
    "    return predict"
   ],
   "metadata": {
    "collapsed": false
   }
  },
  {
   "cell_type": "code",
   "execution_count": 14,
   "outputs": [],
   "source": [
    "train, test = train_test_split(customer_features, test_size=0.3, random_state=1)"
   ],
   "metadata": {
    "collapsed": false
   }
  },
  {
   "cell_type": "code",
   "execution_count": 30,
   "outputs": [
    {
     "name": "stderr",
     "output_type": "stream",
     "text": [
      "C:\\Users\\Kevin\\miniconda3\\envs\\hihi\\lib\\site-packages\\sklearn\\ensemble\\_gb.py:294: FutureWarning: The loss 'ls' was deprecated in v1.0 and will be removed in version 1.2. Use 'squared_error' which is equivalent.\n",
      "  warnings.warn(\n"
     ]
    }
   ],
   "source": [
    "model_params = {'n_estimators': 150,\n",
    "                'max_depth': 4,\n",
    "                'min_samples_split': 10,\n",
    "                'learning_rate': 0.01,\n",
    "                'loss': 'ls'}\n",
    "\n",
    "features = [\"region\", \"income\", \"age\"]\n",
    "target = \"net_value\"\n",
    "model = model_bands(train, features, target, model_params, n_bands=10)"
   ],
   "metadata": {
    "collapsed": false
   }
  },
  {
   "cell_type": "code",
   "execution_count": 32,
   "outputs": [
    {
     "data": {
      "text/plain": "      customer_id  region  income  coupons  age  net_value  predictions  \\\n2228         2228      30     567        5   27       -129   -16.296297   \n5910         5910      32     647        5   25        -55   -16.296297   \n1950         1950      31    2953       15   33       -142   102.237797   \n2119         2119       1    2860        5   27        -23    94.291197   \n5947         5947      49     589        5   26        -91    -3.525593   \n\n      pred_bands  \n2228           2  \n5910           2  \n1950           7  \n2119           7  \n5947           3  ",
      "text/html": "<div>\n<style scoped>\n    .dataframe tbody tr th:only-of-type {\n        vertical-align: middle;\n    }\n\n    .dataframe tbody tr th {\n        vertical-align: top;\n    }\n\n    .dataframe thead th {\n        text-align: right;\n    }\n</style>\n<table border=\"1\" class=\"dataframe\">\n  <thead>\n    <tr style=\"text-align: right;\">\n      <th></th>\n      <th>customer_id</th>\n      <th>region</th>\n      <th>income</th>\n      <th>coupons</th>\n      <th>age</th>\n      <th>net_value</th>\n      <th>predictions</th>\n      <th>pred_bands</th>\n    </tr>\n  </thead>\n  <tbody>\n    <tr>\n      <th>2228</th>\n      <td>2228</td>\n      <td>30</td>\n      <td>567</td>\n      <td>5</td>\n      <td>27</td>\n      <td>-129</td>\n      <td>-16.296297</td>\n      <td>2</td>\n    </tr>\n    <tr>\n      <th>5910</th>\n      <td>5910</td>\n      <td>32</td>\n      <td>647</td>\n      <td>5</td>\n      <td>25</td>\n      <td>-55</td>\n      <td>-16.296297</td>\n      <td>2</td>\n    </tr>\n    <tr>\n      <th>1950</th>\n      <td>1950</td>\n      <td>31</td>\n      <td>2953</td>\n      <td>15</td>\n      <td>33</td>\n      <td>-142</td>\n      <td>102.237797</td>\n      <td>7</td>\n    </tr>\n    <tr>\n      <th>2119</th>\n      <td>2119</td>\n      <td>1</td>\n      <td>2860</td>\n      <td>5</td>\n      <td>27</td>\n      <td>-23</td>\n      <td>94.291197</td>\n      <td>7</td>\n    </tr>\n    <tr>\n      <th>5947</th>\n      <td>5947</td>\n      <td>49</td>\n      <td>589</td>\n      <td>5</td>\n      <td>26</td>\n      <td>-91</td>\n      <td>-3.525593</td>\n      <td>3</td>\n    </tr>\n  </tbody>\n</table>\n</div>"
     },
     "execution_count": 32,
     "metadata": {},
     "output_type": "execute_result"
    }
   ],
   "source": [
    "model(train).head()"
   ],
   "metadata": {
    "collapsed": false
   }
  },
  {
   "cell_type": "code",
   "execution_count": 33,
   "outputs": [
    {
     "name": "stdout",
     "output_type": "stream",
     "text": [
      "Train Score:,  0.5382953634651921\n",
      "Test Score:,  0.504563847410434\n"
     ]
    }
   ],
   "source": [
    "print(\"Train Score:, \", r2_score(train[\"net_value\"], model(train)[\"predictions\"]))\n",
    "print(\"Test Score:, \", r2_score(test[\"net_value\"], model(test)[\"predictions\"]))"
   ],
   "metadata": {
    "collapsed": false
   }
  },
  {
   "cell_type": "code",
   "execution_count": 34,
   "outputs": [
    {
     "data": {
      "text/plain": "Text(0.5, 1.0, 'Net Value by Coupon Value')"
     },
     "execution_count": 34,
     "metadata": {},
     "output_type": "execute_result"
    },
    {
     "data": {
      "text/plain": "<Figure size 1200x600 with 1 Axes>",
      "image/png": "[encoded data removed]"
     },
     "metadata": {},
     "output_type": "display_data"
    }
   ],
   "source": [
    "plt.figure(figsize=(12,6))\n",
    "sns.barplot(data=model(customer_features), x=\"pred_bands\", y=\"net_value\", hue=\"coupons\")\n",
    "plt.title(\"Net Value by Coupon Value\")"
   ],
   "metadata": {
    "collapsed": false
   }
  },
  {
   "cell_type": "code",
   "execution_count": 35,
   "outputs": [
    {
     "data": {
      "text/plain": "   pred_bands  coupons   net_value\n0           1        0 -324.538462\n1           1        5 -237.683871\n2           1       10 -142.203390\n3           1       15 -160.413223\n4           2        0 -108.980769\n5           2        5  -63.718650\n6           2       10  -68.327146",
      "text/html": "<div>\n<style scoped>\n    .dataframe tbody tr th:only-of-type {\n        vertical-align: middle;\n    }\n\n    .dataframe tbody tr th {\n        vertical-align: top;\n    }\n\n    .dataframe thead th {\n        text-align: right;\n    }\n</style>\n<table border=\"1\" class=\"dataframe\">\n  <thead>\n    <tr style=\"text-align: right;\">\n      <th></th>\n      <th>pred_bands</th>\n      <th>coupons</th>\n      <th>net_value</th>\n    </tr>\n  </thead>\n  <tbody>\n    <tr>\n      <th>0</th>\n      <td>1</td>\n      <td>0</td>\n      <td>-324.538462</td>\n    </tr>\n    <tr>\n      <th>1</th>\n      <td>1</td>\n      <td>5</td>\n      <td>-237.683871</td>\n    </tr>\n    <tr>\n      <th>2</th>\n      <td>1</td>\n      <td>10</td>\n      <td>-142.203390</td>\n    </tr>\n    <tr>\n      <th>3</th>\n      <td>1</td>\n      <td>15</td>\n      <td>-160.413223</td>\n    </tr>\n    <tr>\n      <th>4</th>\n      <td>2</td>\n      <td>0</td>\n      <td>-108.980769</td>\n    </tr>\n    <tr>\n      <th>5</th>\n      <td>2</td>\n      <td>5</td>\n      <td>-63.718650</td>\n    </tr>\n    <tr>\n      <th>6</th>\n      <td>2</td>\n      <td>10</td>\n      <td>-68.327146</td>\n    </tr>\n  </tbody>\n</table>\n</div>"
     },
     "execution_count": 35,
     "metadata": {},
     "output_type": "execute_result"
    }
   ],
   "source": [
    "pred_bands = model(customer_features).groupby([\"pred_bands\", \"coupons\"])[[\"net_value\"]].mean().reset_index()\n",
    "pred_bands.head(7)"
   ],
   "metadata": {
    "collapsed": false
   }
  },
  {
   "cell_type": "code",
   "execution_count": 36,
   "outputs": [
    {
     "data": {
      "text/plain": "   pred_bands  coupons   net_value  max_net\n0           1        0 -324.538462      4.0\n1           1        5 -237.683871      3.0\n2           1       10 -142.203390      1.0\n3           1       15 -160.413223      2.0\n4           2        0 -108.980769      4.0\n5           2        5  -63.718650      1.0\n6           2       10  -68.327146      2.0",
      "text/html": "<div>\n<style scoped>\n    .dataframe tbody tr th:only-of-type {\n        vertical-align: middle;\n    }\n\n    .dataframe tbody tr th {\n        vertical-align: top;\n    }\n\n    .dataframe thead th {\n        text-align: right;\n    }\n</style>\n<table border=\"1\" class=\"dataframe\">\n  <thead>\n    <tr style=\"text-align: right;\">\n      <th></th>\n      <th>pred_bands</th>\n      <th>coupons</th>\n      <th>net_value</th>\n      <th>max_net</th>\n    </tr>\n  </thead>\n  <tbody>\n    <tr>\n      <th>0</th>\n      <td>1</td>\n      <td>0</td>\n      <td>-324.538462</td>\n      <td>4.0</td>\n    </tr>\n    <tr>\n      <th>1</th>\n      <td>1</td>\n      <td>5</td>\n      <td>-237.683871</td>\n      <td>3.0</td>\n    </tr>\n    <tr>\n      <th>2</th>\n      <td>1</td>\n      <td>10</td>\n      <td>-142.203390</td>\n      <td>1.0</td>\n    </tr>\n    <tr>\n      <th>3</th>\n      <td>1</td>\n      <td>15</td>\n      <td>-160.413223</td>\n      <td>2.0</td>\n    </tr>\n    <tr>\n      <th>4</th>\n      <td>2</td>\n      <td>0</td>\n      <td>-108.980769</td>\n      <td>4.0</td>\n    </tr>\n    <tr>\n      <th>5</th>\n      <td>2</td>\n      <td>5</td>\n      <td>-63.718650</td>\n      <td>1.0</td>\n    </tr>\n    <tr>\n      <th>6</th>\n      <td>2</td>\n      <td>10</td>\n      <td>-68.327146</td>\n      <td>2.0</td>\n    </tr>\n  </tbody>\n</table>\n</div>"
     },
     "execution_count": 36,
     "metadata": {},
     "output_type": "execute_result"
    }
   ],
   "source": [
    "pred_bands[\"max_net\"] = pred_bands.groupby(['pred_bands'])[[\"net_value\"]].rank(ascending=False)\n",
    "pred_bands.head(7)"
   ],
   "metadata": {
    "collapsed": false
   }
  },
  {
   "cell_type": "code",
   "execution_count": 37,
   "outputs": [
    {
     "data": {
      "text/plain": "    pred_bands  coupons\n2            1       10\n5            2        5\n9            3        5\n14           4       10\n17           5        5\n22           6       10\n26           7       10\n30           8       10\n35           9       15\n37          10        5",
      "text/html": "<div>\n<style scoped>\n    .dataframe tbody tr th:only-of-type {\n        vertical-align: middle;\n    }\n\n    .dataframe tbody tr th {\n        vertical-align: top;\n    }\n\n    .dataframe thead th {\n        text-align: right;\n    }\n</style>\n<table border=\"1\" class=\"dataframe\">\n  <thead>\n    <tr style=\"text-align: right;\">\n      <th></th>\n      <th>pred_bands</th>\n      <th>coupons</th>\n    </tr>\n  </thead>\n  <tbody>\n    <tr>\n      <th>2</th>\n      <td>1</td>\n      <td>10</td>\n    </tr>\n    <tr>\n      <th>5</th>\n      <td>2</td>\n      <td>5</td>\n    </tr>\n    <tr>\n      <th>9</th>\n      <td>3</td>\n      <td>5</td>\n    </tr>\n    <tr>\n      <th>14</th>\n      <td>4</td>\n      <td>10</td>\n    </tr>\n    <tr>\n      <th>17</th>\n      <td>5</td>\n      <td>5</td>\n    </tr>\n    <tr>\n      <th>22</th>\n      <td>6</td>\n      <td>10</td>\n    </tr>\n    <tr>\n      <th>26</th>\n      <td>7</td>\n      <td>10</td>\n    </tr>\n    <tr>\n      <th>30</th>\n      <td>8</td>\n      <td>10</td>\n    </tr>\n    <tr>\n      <th>35</th>\n      <td>9</td>\n      <td>15</td>\n    </tr>\n    <tr>\n      <th>37</th>\n      <td>10</td>\n      <td>5</td>\n    </tr>\n  </tbody>\n</table>\n</div>"
     },
     "execution_count": 37,
     "metadata": {},
     "output_type": "execute_result"
    }
   ],
   "source": [
    "best_coupons_per_band = pred_bands.query(\"max_net==1\")[[\"pred_bands\", \"coupons\"]]\n",
    "best_coupons_per_band"
   ],
   "metadata": {
    "collapsed": false
   }
  },
  {
   "cell_type": "code",
   "execution_count": 38,
   "outputs": [
    {
     "data": {
      "text/plain": "      customer_id  coupons\n0               0       10\n1               1       10\n788             2        5\n1982            3       10\n2743            4        5",
      "text/html": "<div>\n<style scoped>\n    .dataframe tbody tr th:only-of-type {\n        vertical-align: middle;\n    }\n\n    .dataframe tbody tr th {\n        vertical-align: top;\n    }\n\n    .dataframe thead th {\n        text-align: right;\n    }\n</style>\n<table border=\"1\" class=\"dataframe\">\n  <thead>\n    <tr style=\"text-align: right;\">\n      <th></th>\n      <th>customer_id</th>\n      <th>coupons</th>\n    </tr>\n  </thead>\n  <tbody>\n    <tr>\n      <th>0</th>\n      <td>0</td>\n      <td>10</td>\n    </tr>\n    <tr>\n      <th>1</th>\n      <td>1</td>\n      <td>10</td>\n    </tr>\n    <tr>\n      <th>788</th>\n      <td>2</td>\n      <td>5</td>\n    </tr>\n    <tr>\n      <th>1982</th>\n      <td>3</td>\n      <td>10</td>\n    </tr>\n    <tr>\n      <th>2743</th>\n      <td>4</td>\n      <td>5</td>\n    </tr>\n  </tbody>\n</table>\n</div>"
     },
     "execution_count": 38,
     "metadata": {},
     "output_type": "execute_result"
    }
   ],
   "source": [
    "coupons_per_id = (\n",
    "    model(customer_features)\n",
    "    .drop(columns=[\"coupons\"])\n",
    "    .merge(best_coupons_per_band, on=\"pred_bands\")[[\"customer_id\", \"coupons\"]]\n",
    "    .sort_values('customer_id')\n",
    ")\n",
    "\n",
    "coupons_per_id.head()"
   ],
   "metadata": {
    "collapsed": false
   }
  },
  {
   "cell_type": "code",
   "execution_count": 39,
   "outputs": [
    {
     "data": {
      "text/plain": "   customer_id  region  income  coupons  age  net_value\n0            0      18    1025       10   24        -87\n1            1      40    1649       10   26         42\n2            2      35    2034        5   33         63\n3            3      29    1859       10   35        -40\n4            4      11    1243        5   26        -26",
      "text/html": "<div>\n<style scoped>\n    .dataframe tbody tr th:only-of-type {\n        vertical-align: middle;\n    }\n\n    .dataframe tbody tr th {\n        vertical-align: top;\n    }\n\n    .dataframe thead th {\n        text-align: right;\n    }\n</style>\n<table border=\"1\" class=\"dataframe\">\n  <thead>\n    <tr style=\"text-align: right;\">\n      <th></th>\n      <th>customer_id</th>\n      <th>region</th>\n      <th>income</th>\n      <th>coupons</th>\n      <th>age</th>\n      <th>net_value</th>\n    </tr>\n  </thead>\n  <tbody>\n    <tr>\n      <th>0</th>\n      <td>0</td>\n      <td>18</td>\n      <td>1025</td>\n      <td>10</td>\n      <td>24</td>\n      <td>-87</td>\n    </tr>\n    <tr>\n      <th>1</th>\n      <td>1</td>\n      <td>40</td>\n      <td>1649</td>\n      <td>10</td>\n      <td>26</td>\n      <td>42</td>\n    </tr>\n    <tr>\n      <th>2</th>\n      <td>2</td>\n      <td>35</td>\n      <td>2034</td>\n      <td>5</td>\n      <td>33</td>\n      <td>63</td>\n    </tr>\n    <tr>\n      <th>3</th>\n      <td>3</td>\n      <td>29</td>\n      <td>1859</td>\n      <td>10</td>\n      <td>35</td>\n      <td>-40</td>\n    </tr>\n    <tr>\n      <th>4</th>\n      <td>4</td>\n      <td>11</td>\n      <td>1243</td>\n      <td>5</td>\n      <td>26</td>\n      <td>-26</td>\n    </tr>\n  </tbody>\n</table>\n</div>"
     },
     "execution_count": 39,
     "metadata": {},
     "output_type": "execute_result"
    }
   ],
   "source": [
    "transactions_policy_w_model, customer_features_policy_w_model = ltv_with_coupons(\n",
    "    coupons_per_id[[\"coupons\"]].values.flatten()\n",
    ")\n",
    "\n",
    "customer_features_policy_w_model = process_data(transactions_policy_w_model, customer_features_policy_w_model)\n",
    "\n",
    "customer_features_policy_w_model.head()"
   ],
   "metadata": {
    "collapsed": false
   }
  },
  {
   "cell_type": "code",
   "execution_count": 40,
   "outputs": [
    {
     "data": {
      "text/plain": "229.9341"
     },
     "execution_count": 40,
     "metadata": {},
     "output_type": "execute_result"
    }
   ],
   "source": [
    "policy_w_model_gain = customer_features_policy_w_model[\"net_value\"].mean()\n",
    "policy_w_model_gain"
   ],
   "metadata": {
    "collapsed": false
   }
  },
  {
   "cell_type": "code",
   "execution_count": null,
   "outputs": [],
   "source": [],
   "metadata": {
    "collapsed": false
   }
  }
 ],
 "metadata": {
  "kernelspec": {
   "display_name": "Python 3",
   "language": "python",
   "name": "python3"
  },
  "language_info": {
   "codemirror_mode": {
    "name": "ipython",
    "version": 2
   },
   "file_extension": ".py",
   "mimetype": "text/x-python",
   "name": "python",
   "nbconvert_exporter": "python",
   "pygments_lexer": "ipython2",
   "version": "2.7.6"
  }
 },
 "nbformat": 4,
 "nbformat_minor": 0
}
