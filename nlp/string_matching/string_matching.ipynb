{
 "cells": [
  {
   "cell_type": "code",
   "execution_count": 1,
   "id": "15bf60ed-95eb-4cad-905d-eb58ca9edb0d",
   "metadata": {
    "pycharm": {
     "name": "#%%\n"
    }
   },
   "outputs": [],
   "source": [
    "from pathlib import Path\n",
    "import pandas as pd\n",
    "from function import run_match\n",
    "# import altair as alt\n",
    "# import datapane as dp\n",
    "\n",
    "\n",
    "def clean_text(text):\n",
    "    return str(text).lower().strip()"
   ]
  },
  {
   "cell_type": "code",
   "execution_count": 2,
   "id": "1fd2261e-d115-4ab1-a773-03015f67cd28",
   "metadata": {
    "pycharm": {
     "name": "#%%\n"
    }
   },
   "outputs": [
    {
     "name": "stdout",
     "output_type": "stream",
     "text": [
      "(50000, 3)\n"
     ]
    },
    {
     "data": {
      "text/html": [
       "<div>\n",
       "<style scoped>\n",
       "    .dataframe tbody tr th:only-of-type {\n",
       "        vertical-align: middle;\n",
       "    }\n",
       "\n",
       "    .dataframe tbody tr th {\n",
       "        vertical-align: top;\n",
       "    }\n",
       "\n",
       "    .dataframe thead th {\n",
       "        text-align: right;\n",
       "    }\n",
       "</style>\n",
       "<table border=\"1\" class=\"dataframe\">\n",
       "  <thead>\n",
       "    <tr style=\"text-align: right;\">\n",
       "      <th></th>\n",
       "      <th>Line Number</th>\n",
       "      <th>Company Name</th>\n",
       "      <th>Company CIK Key</th>\n",
       "      <th>company_edit_name</th>\n",
       "    </tr>\n",
       "  </thead>\n",
       "  <tbody>\n",
       "    <tr>\n",
       "      <th>0</th>\n",
       "      <td>1</td>\n",
       "      <td>!J INC</td>\n",
       "      <td>1438823</td>\n",
       "      <td>!j inc</td>\n",
       "    </tr>\n",
       "    <tr>\n",
       "      <th>1</th>\n",
       "      <td>2</td>\n",
       "      <td>#1 A LIFESAFER HOLDINGS, INC.</td>\n",
       "      <td>1509607</td>\n",
       "      <td>#1 a lifesafer holdings, inc.</td>\n",
       "    </tr>\n",
       "    <tr>\n",
       "      <th>2</th>\n",
       "      <td>3</td>\n",
       "      <td>#1 ARIZONA DISCOUNT PROPERTIES LLC</td>\n",
       "      <td>1457512</td>\n",
       "      <td>#1 arizona discount properties llc</td>\n",
       "    </tr>\n",
       "    <tr>\n",
       "      <th>3</th>\n",
       "      <td>4</td>\n",
       "      <td>#1 PAINTBALL CORP</td>\n",
       "      <td>1433777</td>\n",
       "      <td>#1 paintball corp</td>\n",
       "    </tr>\n",
       "    <tr>\n",
       "      <th>4</th>\n",
       "      <td>5</td>\n",
       "      <td>$ LLC</td>\n",
       "      <td>1427189</td>\n",
       "      <td>$ llc</td>\n",
       "    </tr>\n",
       "  </tbody>\n",
       "</table>\n",
       "</div>"
      ],
      "text/plain": [
       "   Line Number                        Company Name  Company CIK Key  \\\n",
       "0            1                              !J INC          1438823   \n",
       "1            2       #1 A LIFESAFER HOLDINGS, INC.          1509607   \n",
       "2            3  #1 ARIZONA DISCOUNT PROPERTIES LLC          1457512   \n",
       "3            4                   #1 PAINTBALL CORP          1433777   \n",
       "4            5                               $ LLC          1427189   \n",
       "\n",
       "                    company_edit_name  \n",
       "0                              !j inc  \n",
       "1       #1 a lifesafer holdings, inc.  \n",
       "2  #1 arizona discount properties llc  \n",
       "3                   #1 paintball corp  \n",
       "4                               $ llc  "
      ]
     },
     "execution_count": 2,
     "metadata": {},
     "output_type": "execute_result"
    }
   ],
   "source": [
    "path = Path.home() / 'OneDrive - Seagroup/nlp/example/sec__edgar_company_info.csv'\n",
    "df = pd.read_csv(path).head(50_000)\n",
    "print(df.shape)\n",
    "\n",
    "df['company_edit_name'] = df['Company Name'].map(clean_text)\n",
    "df.head()"
   ]
  },
  {
   "cell_type": "code",
   "execution_count": 3,
   "id": "b96caa34-e819-43c0-900b-62c6aed16781",
   "metadata": {
    "pycharm": {
     "name": "#%%\n"
    }
   },
   "outputs": [
    {
     "name": "stdout",
     "output_type": "stream",
     "text": [
      "process vectorize: 2.68s\n",
      "process optimized: 5.39s\n",
      "49,627 skus in BASE match 49,627 skus in SOURCE\n"
     ]
    }
   ],
   "source": [
    "item = df['company_edit_name'].unique().tolist()\n",
    "\n",
    "# run\n",
    "match_df = run_match(base=item, source=item, top=5, similarity=0.6)\n",
    "match_df['rank'] = match_df.groupby(['base'])['source'].transform(lambda x: pd.factorize(x)[0]).add(1)"
   ]
  },
  {
   "cell_type": "code",
   "execution_count": 4,
   "id": "ae833b7b-e614-4517-a042-5cb6935bee5d",
   "metadata": {
    "pycharm": {
     "name": "#%%\n"
    }
   },
   "outputs": [
    {
     "data": {
      "text/html": [
       "<div>\n",
       "<style scoped>\n",
       "    .dataframe tbody tr th:only-of-type {\n",
       "        vertical-align: middle;\n",
       "    }\n",
       "\n",
       "    .dataframe tbody tr th {\n",
       "        vertical-align: top;\n",
       "    }\n",
       "\n",
       "    .dataframe thead th {\n",
       "        text-align: right;\n",
       "    }\n",
       "</style>\n",
       "<table border=\"1\" class=\"dataframe\">\n",
       "  <thead>\n",
       "    <tr style=\"text-align: right;\">\n",
       "      <th></th>\n",
       "      <th>base</th>\n",
       "      <th>source</th>\n",
       "      <th>similarity</th>\n",
       "      <th>rank</th>\n",
       "    </tr>\n",
       "  </thead>\n",
       "  <tbody>\n",
       "    <tr>\n",
       "      <th>0</th>\n",
       "      <td>!j inc</td>\n",
       "      <td>!j inc</td>\n",
       "      <td>1.00</td>\n",
       "      <td>1</td>\n",
       "    </tr>\n",
       "    <tr>\n",
       "      <th>1</th>\n",
       "      <td>#1 a lifesafer holdings, inc.</td>\n",
       "      <td>#1 a lifesafer holdings, inc.</td>\n",
       "      <td>1.00</td>\n",
       "      <td>1</td>\n",
       "    </tr>\n",
       "    <tr>\n",
       "      <th>2</th>\n",
       "      <td>#1 arizona discount properties llc</td>\n",
       "      <td>#1 arizona discount properties llc</td>\n",
       "      <td>1.00</td>\n",
       "      <td>1</td>\n",
       "    </tr>\n",
       "    <tr>\n",
       "      <th>3</th>\n",
       "      <td>#1 arizona discount properties llc</td>\n",
       "      <td>arizona income properties llc</td>\n",
       "      <td>0.61</td>\n",
       "      <td>2</td>\n",
       "    </tr>\n",
       "    <tr>\n",
       "      <th>4</th>\n",
       "      <td>#1 paintball corp</td>\n",
       "      <td>#1 paintball corp</td>\n",
       "      <td>1.00</td>\n",
       "      <td>1</td>\n",
       "    </tr>\n",
       "  </tbody>\n",
       "</table>\n",
       "</div>"
      ],
      "text/plain": [
       "                                 base                              source  \\\n",
       "0                              !j inc                              !j inc   \n",
       "1       #1 a lifesafer holdings, inc.       #1 a lifesafer holdings, inc.   \n",
       "2  #1 arizona discount properties llc  #1 arizona discount properties llc   \n",
       "3  #1 arizona discount properties llc       arizona income properties llc   \n",
       "4                   #1 paintball corp                   #1 paintball corp   \n",
       "\n",
       "   similarity  rank  \n",
       "0        1.00     1  \n",
       "1        1.00     1  \n",
       "2        1.00     1  \n",
       "3        0.61     2  \n",
       "4        1.00     1  "
      ]
     },
     "execution_count": 4,
     "metadata": {},
     "output_type": "execute_result"
    }
   ],
   "source": [
    "match_df.head()"
   ]
  },
  {
   "cell_type": "code",
   "execution_count": 5,
   "id": "0befe1b4-899d-49bc-85be-e8305ccdee0c",
   "metadata": {
    "pycharm": {
     "name": "#%%\n"
    }
   },
   "outputs": [
    {
     "data": {
      "text/html": [
       "<div>\n",
       "<style scoped>\n",
       "    .dataframe tbody tr th:only-of-type {\n",
       "        vertical-align: middle;\n",
       "    }\n",
       "\n",
       "    .dataframe tbody tr th {\n",
       "        vertical-align: top;\n",
       "    }\n",
       "\n",
       "    .dataframe thead th {\n",
       "        text-align: right;\n",
       "    }\n",
       "</style>\n",
       "<table border=\"1\" class=\"dataframe\">\n",
       "  <thead>\n",
       "    <tr style=\"text-align: right;\">\n",
       "      <th></th>\n",
       "      <th>base</th>\n",
       "      <th>source</th>\n",
       "      <th>similarity</th>\n",
       "      <th>rank</th>\n",
       "    </tr>\n",
       "  </thead>\n",
       "  <tbody>\n",
       "    <tr>\n",
       "      <th>54039</th>\n",
       "      <td>aim variable insurance funds</td>\n",
       "      <td>aim variable insurance funds</td>\n",
       "      <td>1.00</td>\n",
       "      <td>1</td>\n",
       "    </tr>\n",
       "    <tr>\n",
       "      <th>54040</th>\n",
       "      <td>aim variable insurance funds</td>\n",
       "      <td>aim variable insurance funds inc</td>\n",
       "      <td>0.97</td>\n",
       "      <td>2</td>\n",
       "    </tr>\n",
       "    <tr>\n",
       "      <th>54041</th>\n",
       "      <td>aim variable insurance funds</td>\n",
       "      <td>aim variable insurance funds (invesco variable...</td>\n",
       "      <td>0.88</td>\n",
       "      <td>3</td>\n",
       "    </tr>\n",
       "    <tr>\n",
       "      <th>54042</th>\n",
       "      <td>aim variable insurance funds</td>\n",
       "      <td>aip variable insurance trust</td>\n",
       "      <td>0.68</td>\n",
       "      <td>4</td>\n",
       "    </tr>\n",
       "    <tr>\n",
       "      <th>54043</th>\n",
       "      <td>aim variable insurance funds</td>\n",
       "      <td>access variable insurance trust</td>\n",
       "      <td>0.68</td>\n",
       "      <td>5</td>\n",
       "    </tr>\n",
       "  </tbody>\n",
       "</table>\n",
       "</div>"
      ],
      "text/plain": [
       "                               base  \\\n",
       "54039  aim variable insurance funds   \n",
       "54040  aim variable insurance funds   \n",
       "54041  aim variable insurance funds   \n",
       "54042  aim variable insurance funds   \n",
       "54043  aim variable insurance funds   \n",
       "\n",
       "                                                  source  similarity  rank  \n",
       "54039                       aim variable insurance funds        1.00     1  \n",
       "54040                   aim variable insurance funds inc        0.97     2  \n",
       "54041  aim variable insurance funds (invesco variable...        0.88     3  \n",
       "54042                       aip variable insurance trust        0.68     4  \n",
       "54043                    access variable insurance trust        0.68     5  "
      ]
     },
     "execution_count": 5,
     "metadata": {},
     "output_type": "execute_result"
    }
   ],
   "source": [
    "match_df.query('base == \"aim variable insurance funds\"')"
   ]
  },
  {
   "cell_type": "code",
   "execution_count": 6,
   "id": "cf8bff1a-5738-4e51-9579-a305e56d01d4",
   "metadata": {
    "pycharm": {
     "name": "#%%\n"
    }
   },
   "outputs": [],
   "source": [
    "# dp.Report(\n",
    "#     dp.DataTable(match_df),\n",
    "#     match_df.query('base == \"aim variable insurance funds\"')\n",
    "# ).upload(name=\"string matching example\")"
   ]
  },
  {
   "cell_type": "code",
   "execution_count": null,
   "id": "8b13fb3a-307b-4541-a216-d5c711fa6079",
   "metadata": {
    "pycharm": {
     "name": "#%%\n"
    }
   },
   "outputs": [],
   "source": []
  }
 ],
 "metadata": {
  "kernelspec": {
   "display_name": "Python 3 (ipykernel)",
   "language": "python",
   "name": "python3"
  },
  "language_info": {
   "codemirror_mode": {
    "name": "ipython",
    "version": 3
   },
   "file_extension": ".py",
   "mimetype": "text/x-python",
   "name": "python",
   "nbconvert_exporter": "python",
   "pygments_lexer": "ipython3",
   "version": "3.9.12"
  }
 },
 "nbformat": 4,
 "nbformat_minor": 5
}