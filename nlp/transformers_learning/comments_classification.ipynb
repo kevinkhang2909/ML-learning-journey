{
 "cells": [
  {
   "cell_type": "markdown",
   "id": "c1ad4beb",
   "metadata": {},
   "source": [
    "# Sentiment Analysis - PhoBERT "
   ]
  },
  {
   "cell_type": "code",
   "execution_count": 1,
   "id": "5e8a3722",
   "metadata": {
    "collapsed": false,
    "jupyter": {
     "outputs_hidden": false
    }
   },
   "outputs": [],
   "source": [
    "import pandas as pd\n",
    "from collections import Counter\n",
    "from datasets import Dataset, DatasetDict\n",
    "from transformers import AutoTokenizer, AutoModelForSequenceClassification, TrainingArguments, Trainer, DataCollatorWithPadding\n",
    "from underthesea import word_tokenize, sent_tokenize, text_normalize\n",
    "from evaluate import load\n",
    "import torch\n",
    "import gc\n",
    "\n",
    "\n",
    "class Colors:\n",
    "    HEADER = '\\033[95m'\n",
    "    OKBLUE = '\\033[94m'\n",
    "    OKCYAN = '\\033[96m'\n",
    "    OKGREEN = '\\033[92m'\n",
    "    WARNING = '\\033[93m'\n",
    "    FAIL = '\\033[91m'\n",
    "    ENDC = '\\033[0m'\n",
    "    BOLD = '\\033[1m'\n",
    "    UNDERLINE = '\\033[4m'"
   ]
  },
  {
   "cell_type": "markdown",
   "id": "d3828873",
   "metadata": {},
   "source": [
    "## 1. Data"
   ]
  },
  {
   "cell_type": "code",
   "execution_count": 2,
   "id": "f614c91f-d10d-4c01-917c-1301878bc53a",
   "metadata": {},
   "outputs": [
    {
     "name": "stdout",
     "output_type": "stream",
     "text": [
      "label: {0: 'positive', 1: 'negative'}\n"
     ]
    }
   ],
   "source": [
    "df = pd.read_feather('data/facebook_comments.ftr')\n",
    "\n",
    "# labels\n",
    "labels = df['sentiment'].unique().tolist()\n",
    "id2label = {idx: label for idx, label in enumerate(labels)}\n",
    "label2id = {label: idx for idx, label in enumerate(labels)}\n",
    "print(f'label: {id2label}')\n",
    "\n",
    "df['label'] = df['sentiment'].map({'positive': 0, 'negative': 1})\n",
    "df.drop(columns=['sentiment'], inplace=True)"
   ]
  },
  {
   "cell_type": "markdown",
   "id": "f0ff4fb4",
   "metadata": {},
   "source": [
    "### 1.1 Tokenizer"
   ]
  },
  {
   "cell_type": "code",
   "execution_count": 3,
   "id": "39b54c1d",
   "metadata": {
    "collapsed": false,
    "jupyter": {
     "outputs_hidden": false
    }
   },
   "outputs": [
    {
     "data": {
      "text/html": [
       "<div>\n",
       "<style scoped>\n",
       "    .dataframe tbody tr th:only-of-type {\n",
       "        vertical-align: middle;\n",
       "    }\n",
       "\n",
       "    .dataframe tbody tr th {\n",
       "        vertical-align: top;\n",
       "    }\n",
       "\n",
       "    .dataframe thead th {\n",
       "        text-align: right;\n",
       "    }\n",
       "</style>\n",
       "<table border=\"1\" class=\"dataframe\">\n",
       "  <thead>\n",
       "    <tr style=\"text-align: right;\">\n",
       "      <th></th>\n",
       "      <th>label</th>\n",
       "      <th>token</th>\n",
       "    </tr>\n",
       "  </thead>\n",
       "  <tbody>\n",
       "    <tr>\n",
       "      <th>0</th>\n",
       "      <td>0</td>\n",
       "      <td>mình cần mua xúc_xích cho chó nên mình đặt và ...</td>\n",
       "    </tr>\n",
       "    <tr>\n",
       "      <th>1</th>\n",
       "      <td>1</td>\n",
       "      <td>mệt_mỏi quá mọi người ơi . j &amp; t , ghn dừng nh...</td>\n",
       "    </tr>\n",
       "    <tr>\n",
       "      <th>2</th>\n",
       "      <td>0</td>\n",
       "      <td>mấy ac nào mà giờ con ham gửi hàng thì chuẩn_b...</td>\n",
       "    </tr>\n",
       "    <tr>\n",
       "      <th>3</th>\n",
       "      <td>0</td>\n",
       "      <td>tình_hình kho pi exress - bưu_cục chi_nhánh ch...</td>\n",
       "    </tr>\n",
       "    <tr>\n",
       "      <th>4</th>\n",
       "      <td>1</td>\n",
       "      <td>🛑 tất_cả đơn_vị vận_chuyển shopee đã được bật ...</td>\n",
       "    </tr>\n",
       "  </tbody>\n",
       "</table>\n",
       "</div>"
      ],
      "text/plain": [
       "   label                                              token\n",
       "0      0  mình cần mua xúc_xích cho chó nên mình đặt và ...\n",
       "1      1  mệt_mỏi quá mọi người ơi . j & t , ghn dừng nh...\n",
       "2      0  mấy ac nào mà giờ con ham gửi hàng thì chuẩn_b...\n",
       "3      0  tình_hình kho pi exress - bưu_cục chi_nhánh ch...\n",
       "4      1  🛑 tất_cả đơn_vị vận_chuyển shopee đã được bật ..."
      ]
     },
     "execution_count": 3,
     "metadata": {},
     "output_type": "execute_result"
    }
   ],
   "source": [
    "def apply_word_tokenize(sen):\n",
    "    sen = \" \".join(sen.split())\n",
    "    sens = sent_tokenize(sen)\n",
    "    tokenized_sen = []\n",
    "    for sen in sens:\n",
    "        tokenized_sen += word_tokenize(text_normalize(sen))\n",
    "    return ' '.join(['_'.join(words.split(' ')) for words in tokenized_sen])\n",
    "\n",
    "\n",
    "df['token'] = df['content'].map(lambda x: apply_word_tokenize(x.lower()))\n",
    "df.drop(columns=['content'], inplace=True)\n",
    "df.head()"
   ]
  },
  {
   "cell_type": "code",
   "execution_count": 4,
   "id": "ceb18378",
   "metadata": {
    "collapsed": false,
    "jupyter": {
     "outputs_hidden": false
    }
   },
   "outputs": [
    {
     "data": {
      "text/plain": [
       "DatasetDict({\n",
       "    train: Dataset({\n",
       "        features: ['label', 'token'],\n",
       "        num_rows: 7845\n",
       "    })\n",
       "    test: Dataset({\n",
       "        features: ['label', 'token'],\n",
       "        num_rows: 1681\n",
       "    })\n",
       "    valid: Dataset({\n",
       "        features: ['label', 'token'],\n",
       "        num_rows: 1682\n",
       "    })\n",
       "})"
      ]
     },
     "execution_count": 4,
     "metadata": {},
     "output_type": "execute_result"
    }
   ],
   "source": [
    "splits = Dataset.from_pandas(df).train_test_split(test_size=0.3)\n",
    "dataset_test_valid = splits['test'].train_test_split(test_size=0.5)\n",
    "train_data, val_data, test_data = splits['train'], dataset_test_valid['train'], dataset_test_valid['test']\n",
    "\n",
    "raw_dataset = DatasetDict({\n",
    "    'train': splits['train'].shuffle(seed=42),\n",
    "    'test': dataset_test_valid['train'],\n",
    "    'valid': dataset_test_valid['test'],\n",
    "})\n",
    "raw_dataset"
   ]
  },
  {
   "cell_type": "code",
   "execution_count": 5,
   "id": "342b9565",
   "metadata": {
    "collapsed": false,
    "jupyter": {
     "outputs_hidden": false
    }
   },
   "outputs": [
    {
     "name": "stdout",
     "output_type": "stream",
     "text": [
      "train Counter({0: 4722, 1: 3123})\n",
      "test Counter({0: 1021, 1: 660})\n",
      "valid Counter({0: 989, 1: 693})\n"
     ]
    }
   ],
   "source": [
    "for i in raw_dataset:\n",
    "    print(i, Counter(raw_dataset[i]['label']))"
   ]
  },
  {
   "cell_type": "markdown",
   "id": "9a75f86e",
   "metadata": {},
   "source": [
    "### 1.2 Tokenizer BERT"
   ]
  },
  {
   "cell_type": "code",
   "execution_count": 6,
   "id": "ca7e4e46",
   "metadata": {
    "collapsed": false,
    "jupyter": {
     "outputs_hidden": false
    }
   },
   "outputs": [
    {
     "name": "stderr",
     "output_type": "stream",
     "text": [
      "Special tokens have been added in the vocabulary, make sure the associated word embeddings are fine-tuned or trained.\n"
     ]
    }
   ],
   "source": [
    "pretrain_name = \"vinai/phobert-base\"\n",
    "folder = 'category_save_model/phobert'\n",
    "tokenizer = AutoTokenizer.from_pretrained(pretrain_name)"
   ]
  },
  {
   "cell_type": "code",
   "execution_count": 7,
   "id": "be67df03",
   "metadata": {
    "collapsed": false,
    "jupyter": {
     "outputs_hidden": false
    }
   },
   "outputs": [
    {
     "name": "stdout",
     "output_type": "stream",
     "text": [
      "\u001B[92mText:\u001B[0m mã săn phụ_kiện nữ cho ce nào cần ạ ._shopee còn đang có mã giảm 20 k yentamonha kết_hợp voucher_shop đơn còn có 15 k nhé ce :))) quá bá cháy https://shopee.vn/meky.house?smtt=0.0.9\n",
      "\u001B[92mLen of token:\u001B[0m 15\n",
      "\u001B[92mInput_ids:\u001B[0m [0, 1624, 2587, 4386, 401, 13, 5526, 142, 115, 3628, 2586, 11269, 3040, 36653, 2]\n"
     ]
    }
   ],
   "source": [
    "num = 25\n",
    "token = tokenizer(raw_dataset['train'][num]['token'], padding='max_length', max_length=15, truncation=True)\n",
    "\n",
    "print(f\"{Colors.OKGREEN}Text:{Colors.ENDC} {raw_dataset['train'][num]['token']}\")\n",
    "print(f\"{Colors.OKGREEN}Len of token:{Colors.ENDC} {len(token['input_ids'])}\")\n",
    "print(f\"{Colors.OKGREEN}Input_ids:{Colors.ENDC} {token['input_ids']}\")"
   ]
  },
  {
   "cell_type": "code",
   "execution_count": 8,
   "id": "a3ef5e63",
   "metadata": {
    "collapsed": false,
    "jupyter": {
     "outputs_hidden": false
    }
   },
   "outputs": [
    {
     "data": {
      "application/vnd.jupyter.widget-view+json": {
       "model_id": "66d53e2e48b543ffa80d5c7ff6a7ef5f",
       "version_major": 2,
       "version_minor": 0
      },
      "text/plain": [
       "  0%|          | 0/8 [00:00<?, ?ba/s]"
      ]
     },
     "metadata": {},
     "output_type": "display_data"
    },
    {
     "data": {
      "application/vnd.jupyter.widget-view+json": {
       "model_id": "d9a6a34cfa5d4af4bac49a879a1d9d39",
       "version_major": 2,
       "version_minor": 0
      },
      "text/plain": [
       "  0%|          | 0/2 [00:00<?, ?ba/s]"
      ]
     },
     "metadata": {},
     "output_type": "display_data"
    },
    {
     "data": {
      "application/vnd.jupyter.widget-view+json": {
       "model_id": "5c4f1de28a4b4f748cd72ba279769cd4",
       "version_major": 2,
       "version_minor": 0
      },
      "text/plain": [
       "  0%|          | 0/2 [00:00<?, ?ba/s]"
      ]
     },
     "metadata": {},
     "output_type": "display_data"
    }
   ],
   "source": [
    "def preprocess_function(examples):\n",
    "    return tokenizer(examples['token'], padding=\"max_length\", truncation=True, max_length=128)\n",
    "\n",
    "tokenized_train = raw_dataset['train'].map(preprocess_function, batched=True)\n",
    "tokenized_valid = raw_dataset['valid'].map(preprocess_function, batched=True)\n",
    "tokenized_test = raw_dataset['test'].map(preprocess_function, batched=True)"
   ]
  },
  {
   "cell_type": "code",
   "execution_count": 9,
   "id": "89b6ec2a",
   "metadata": {
    "collapsed": false,
    "jupyter": {
     "outputs_hidden": false
    }
   },
   "outputs": [
    {
     "name": "stdout",
     "output_type": "stream",
     "text": [
      "dict_keys(['label', 'token', 'input_ids', 'token_type_ids', 'attention_mask'])\n",
      "<s> có nên bật cod lên ko anh </s> <pad> <pad> <pad> <pad> <pad> <pad> <pad> <pad> <pad> <pad> <pad> <pad> <pad> <pad> <pad> <pad> <pad> <pad> <pad> <pad> <pad> <pad> <pad> <pad> <pad> <pad> <pad> <pad> <pad> <pad> <pad> <pad> <pad> <pad> <pad> <pad> <pad> <pad> <pad> <pad> <pad> <pad> <pad> <pad> <pad> <pad> <pad> <pad> <pad> <pad> <pad> <pad> <pad> <pad> <pad> <pad> <pad> <pad> <pad> <pad> <pad> <pad> <pad> <pad> <pad> <pad> <pad> <pad> <pad> <pad> <pad> <pad> <pad> <pad> <pad> <pad> <pad> <pad> <pad> <pad> <pad> <pad> <pad> <pad> <pad> <pad> <pad> <pad> <pad> <pad> <pad> <pad> <pad> <pad> <pad> <pad> <pad> <pad> <pad> <pad> <pad> <pad> <pad> <pad> <pad> <pad> <pad> <pad> <pad> <pad> <pad> <pad> <pad> <pad> <pad> <pad> <pad> <pad>\n",
      "1\n"
     ]
    }
   ],
   "source": [
    "example = tokenized_train[26]\n",
    "print(example.keys())\n",
    "print(tokenizer.decode(example['input_ids']))\n",
    "print(example['label'])"
   ]
  },
  {
   "cell_type": "markdown",
   "id": "7c284ef4",
   "metadata": {},
   "source": [
    "## 2. Models"
   ]
  },
  {
   "cell_type": "code",
   "execution_count": 10,
   "id": "7f398322",
   "metadata": {
    "collapsed": false,
    "jupyter": {
     "outputs_hidden": false
    }
   },
   "outputs": [
    {
     "name": "stderr",
     "output_type": "stream",
     "text": [
      "Some weights of the model checkpoint at vinai/phobert-base were not used when initializing RobertaForSequenceClassification: ['lm_head.decoder.weight', 'lm_head.dense.bias', 'roberta.pooler.dense.bias', 'lm_head.layer_norm.bias', 'roberta.pooler.dense.weight', 'lm_head.dense.weight', 'lm_head.decoder.bias', 'lm_head.layer_norm.weight', 'lm_head.bias']\n",
      "- This IS expected if you are initializing RobertaForSequenceClassification from the checkpoint of a model trained on another task or with another architecture (e.g. initializing a BertForSequenceClassification model from a BertForPreTraining model).\n",
      "- This IS NOT expected if you are initializing RobertaForSequenceClassification from the checkpoint of a model that you expect to be exactly identical (initializing a BertForSequenceClassification model from a BertForSequenceClassification model).\n",
      "Some weights of RobertaForSequenceClassification were not initialized from the model checkpoint at vinai/phobert-base and are newly initialized: ['classifier.out_proj.bias', 'classifier.dense.weight', 'classifier.dense.bias', 'classifier.out_proj.weight']\n",
      "You should probably TRAIN this model on a down-stream task to be able to use it for predictions and inference.\n"
     ]
    }
   ],
   "source": [
    "data_collator = DataCollatorWithPadding(tokenizer=tokenizer)\n",
    "model = AutoModelForSequenceClassification.from_pretrained(\n",
    "    pretrain_name,\n",
    "    num_labels=len(labels),\n",
    "    id2label=id2label,\n",
    "    label2id=label2id)\n",
    "\n",
    "\n",
    "def compute_metrics(eval_pred):\n",
    "    logits, labels = eval_pred\n",
    "    predictions = logits.argmax(-1)\n",
    "    acc = load('accuracy').compute(predictions=predictions, references=labels)\n",
    "    f1_macro = load('f1').compute(predictions=predictions, references=labels, average='macro')\n",
    "    f1_weight = load('f1').compute(predictions=predictions, references=labels, average='weighted')\n",
    "    return {'accuracy': acc, 'F1 macro': f1_macro, 'F1 weighted': f1_weight}"
   ]
  },
  {
   "cell_type": "code",
   "execution_count": 11,
   "id": "a415c5f0",
   "metadata": {
    "collapsed": false,
    "jupyter": {
     "outputs_hidden": false
    }
   },
   "outputs": [
    {
     "name": "stderr",
     "output_type": "stream",
     "text": [
      "Using cuda_amp half precision backend\n"
     ]
    }
   ],
   "source": [
    "torch.cuda.empty_cache()\n",
    "gc.collect()\n",
    "\n",
    "training_args = TrainingArguments(\n",
    "    output_dir=folder,\n",
    "    warmup_ratio=0.1,\n",
    "    lr_scheduler_type='cosine',\n",
    "    weight_decay=0.001,\n",
    "    learning_rate=1e-4,\n",
    "    per_device_train_batch_size=32,\n",
    "    num_train_epochs=10,\n",
    "    fp16=True,\n",
    "    logging_strategy='epoch',\n",
    "    save_strategy='epoch',\n",
    "    evaluation_strategy='epoch',\n",
    "    # evaluation_strategy='steps',\n",
    "    # save_steps=200,\n",
    "    # eval_steps=200,\n",
    "    # logging_steps=20,\n",
    "    save_total_limit=2,\n",
    "    push_to_hub=False,\n",
    "    load_best_model_at_end=True,\n",
    ")\n",
    "\n",
    "trainer = Trainer(\n",
    "    model=model,\n",
    "    args=training_args,\n",
    "    train_dataset=tokenized_train,\n",
    "    eval_dataset=tokenized_test,\n",
    "    tokenizer=tokenizer,\n",
    "    data_collator=data_collator,\n",
    "    compute_metrics=compute_metrics,\n",
    ")"
   ]
  },
  {
   "cell_type": "code",
   "execution_count": 12,
   "id": "f5e1d09f",
   "metadata": {
    "collapsed": false,
    "jupyter": {
     "outputs_hidden": false
    }
   },
   "outputs": [
    {
     "name": "stderr",
     "output_type": "stream",
     "text": [
      "The following columns in the training set don't have a corresponding argument in `RobertaForSequenceClassification.forward` and have been ignored: token. If token are not expected by `RobertaForSequenceClassification.forward`,  you can safely ignore this message.\n",
      "C:\\Users\\Kevin\\miniconda3\\envs\\nlp\\lib\\site-packages\\transformers\\optimization.py:306: FutureWarning: This implementation of AdamW is deprecated and will be removed in a future version. Use the PyTorch implementation torch.optim.AdamW instead, or set `no_deprecation_warning=True` to disable this warning\n",
      "  warnings.warn(\n",
      "***** Running training *****\n",
      "  Num examples = 7845\n",
      "  Num Epochs = 10\n",
      "  Instantaneous batch size per device = 32\n",
      "  Total train batch size (w. parallel, distributed & accumulation) = 32\n",
      "  Gradient Accumulation steps = 1\n",
      "  Total optimization steps = 2460\n",
      "  Number of trainable parameters = 134999810\n",
      "Automatic Weights & Biases logging enabled, to disable set os.environ[\"WANDB_DISABLED\"] = \"true\"\n",
      "\u001B[34m\u001B[1mwandb\u001B[0m: Currently logged in as: \u001B[33mkevinkhang\u001B[0m. Use \u001B[1m`wandb login --relogin`\u001B[0m to force relogin\n"
     ]
    },
    {
     "data": {
      "text/html": [
       "Tracking run with wandb version 0.13.7"
      ],
      "text/plain": [
       "<IPython.core.display.HTML object>"
      ]
     },
     "metadata": {},
     "output_type": "display_data"
    },
    {
     "data": {
      "text/html": [
       "Run data is saved locally in <code>C:\\Users\\Kevin\\PycharmProjects\\ML-learning-journey\\nlp\\transformers_learning\\wandb\\run-20230103_090501-u98r5z8v</code>"
      ],
      "text/plain": [
       "<IPython.core.display.HTML object>"
      ]
     },
     "metadata": {},
     "output_type": "display_data"
    },
    {
     "data": {
      "text/html": [
       "Syncing run <strong><a href=\"https://wandb.ai/kevinkhang/huggingface/runs/u98r5z8v\" target=\"_blank\">phobert/sentiment</a></strong> to <a href=\"https://wandb.ai/kevinkhang/huggingface\" target=\"_blank\">Weights & Biases</a> (<a href=\"https://wandb.me/run\" target=\"_blank\">docs</a>)<br/>"
      ],
      "text/plain": [
       "<IPython.core.display.HTML object>"
      ]
     },
     "metadata": {},
     "output_type": "display_data"
    },
    {
     "data": {
      "text/html": [
       "\n",
       "    <div>\n",
       "      \n",
       "      <progress value='2460' max='2460' style='width:300px; height:20px; vertical-align: middle;'></progress>\n",
       "      [2460/2460 10:10, Epoch 10/10]\n",
       "    </div>\n",
       "    <table border=\"1\" class=\"dataframe\">\n",
       "  <thead>\n",
       " <tr style=\"text-align: left;\">\n",
       "      <th>Epoch</th>\n",
       "      <th>Training Loss</th>\n",
       "      <th>Validation Loss</th>\n",
       "      <th>Accuracy</th>\n",
       "      <th>F1 macro</th>\n",
       "      <th>F1 weighted</th>\n",
       "    </tr>\n",
       "  </thead>\n",
       "  <tbody>\n",
       "    <tr>\n",
       "      <td>1</td>\n",
       "      <td>0.458700</td>\n",
       "      <td>0.393195</td>\n",
       "      <td>{'accuracy': 0.8304580606781677}</td>\n",
       "      <td>{'f1': 0.8268090990429194}</td>\n",
       "      <td>{'f1': 0.8322077676917908}</td>\n",
       "    </tr>\n",
       "    <tr>\n",
       "      <td>2</td>\n",
       "      <td>0.311300</td>\n",
       "      <td>0.465759</td>\n",
       "      <td>{'accuracy': 0.8459250446162998}</td>\n",
       "      <td>{'f1': 0.8411988207148877}</td>\n",
       "      <td>{'f1': 0.8470821546059557}</td>\n",
       "    </tr>\n",
       "    <tr>\n",
       "      <td>3</td>\n",
       "      <td>0.229000</td>\n",
       "      <td>0.393221</td>\n",
       "      <td>{'accuracy': 0.8619869125520524}</td>\n",
       "      <td>{'f1': 0.8507630374554194}</td>\n",
       "      <td>{'f1': 0.8595522324877067}</td>\n",
       "    </tr>\n",
       "    <tr>\n",
       "      <td>4</td>\n",
       "      <td>0.197300</td>\n",
       "      <td>0.380729</td>\n",
       "      <td>{'accuracy': 0.8655562165377751}</td>\n",
       "      <td>{'f1': 0.8560019588579191}</td>\n",
       "      <td>{'f1': 0.8639675178011708}</td>\n",
       "    </tr>\n",
       "    <tr>\n",
       "      <td>5</td>\n",
       "      <td>0.155500</td>\n",
       "      <td>0.482947</td>\n",
       "      <td>{'accuracy': 0.851279000594884}</td>\n",
       "      <td>{'f1': 0.8479426578284656}</td>\n",
       "      <td>{'f1': 0.8527796848914256}</td>\n",
       "    </tr>\n",
       "    <tr>\n",
       "      <td>6</td>\n",
       "      <td>0.112100</td>\n",
       "      <td>0.539218</td>\n",
       "      <td>{'accuracy': 0.8536585365853658}</td>\n",
       "      <td>{'f1': 0.8493898761396117}</td>\n",
       "      <td>{'f1': 0.8548350578389659}</td>\n",
       "    </tr>\n",
       "    <tr>\n",
       "      <td>7</td>\n",
       "      <td>0.082400</td>\n",
       "      <td>0.570615</td>\n",
       "      <td>{'accuracy': 0.8607971445568114}</td>\n",
       "      <td>{'f1': 0.8539094741908744}</td>\n",
       "      <td>{'f1': 0.8607216632377327}</td>\n",
       "    </tr>\n",
       "    <tr>\n",
       "      <td>8</td>\n",
       "      <td>0.058000</td>\n",
       "      <td>0.561375</td>\n",
       "      <td>{'accuracy': 0.8667459845330161}</td>\n",
       "      <td>{'f1': 0.8612349347861978}</td>\n",
       "      <td>{'f1': 0.8671737077969484}</td>\n",
       "    </tr>\n",
       "    <tr>\n",
       "      <td>9</td>\n",
       "      <td>0.041700</td>\n",
       "      <td>0.667401</td>\n",
       "      <td>{'accuracy': 0.8578227245687091}</td>\n",
       "      <td>{'f1': 0.8533364971297673}</td>\n",
       "      <td>{'f1': 0.8588450961279236}</td>\n",
       "    </tr>\n",
       "    <tr>\n",
       "      <td>10</td>\n",
       "      <td>0.036800</td>\n",
       "      <td>0.668061</td>\n",
       "      <td>{'accuracy': 0.8619869125520524}</td>\n",
       "      <td>{'f1': 0.8571604377572997}</td>\n",
       "      <td>{'f1': 0.8627991348476095}</td>\n",
       "    </tr>\n",
       "  </tbody>\n",
       "</table><p>"
      ],
      "text/plain": [
       "<IPython.core.display.HTML object>"
      ]
     },
     "metadata": {},
     "output_type": "display_data"
    },
    {
     "name": "stderr",
     "output_type": "stream",
     "text": [
      "The following columns in the evaluation set don't have a corresponding argument in `RobertaForSequenceClassification.forward` and have been ignored: token. If token are not expected by `RobertaForSequenceClassification.forward`,  you can safely ignore this message.\n",
      "***** Running Evaluation *****\n",
      "  Num examples = 1681\n",
      "  Batch size = 8\n",
      "Trainer is attempting to log a value of \"{'accuracy': 0.8304580606781677}\" of type <class 'dict'> for key \"eval/accuracy\" as a scalar. This invocation of Tensorboard's writer.add_scalar() is incorrect so we dropped this attribute.\n",
      "Trainer is attempting to log a value of \"{'f1': 0.8268090990429194}\" of type <class 'dict'> for key \"eval/F1 macro\" as a scalar. This invocation of Tensorboard's writer.add_scalar() is incorrect so we dropped this attribute.\n",
      "Trainer is attempting to log a value of \"{'f1': 0.8322077676917908}\" of type <class 'dict'> for key \"eval/F1 weighted\" as a scalar. This invocation of Tensorboard's writer.add_scalar() is incorrect so we dropped this attribute.\n",
      "Saving model checkpoint to phobert/sentiment\\checkpoint-246\n",
      "Configuration saved in phobert/sentiment\\checkpoint-246\\config.json\n",
      "Model weights saved in phobert/sentiment\\checkpoint-246\\pytorch_model.bin\n",
      "tokenizer config file saved in phobert/sentiment\\checkpoint-246\\tokenizer_config.json\n",
      "Special tokens file saved in phobert/sentiment\\checkpoint-246\\special_tokens_map.json\n",
      "added tokens file saved in phobert/sentiment\\checkpoint-246\\added_tokens.json\n",
      "The following columns in the evaluation set don't have a corresponding argument in `RobertaForSequenceClassification.forward` and have been ignored: token. If token are not expected by `RobertaForSequenceClassification.forward`,  you can safely ignore this message.\n",
      "***** Running Evaluation *****\n",
      "  Num examples = 1681\n",
      "  Batch size = 8\n",
      "Trainer is attempting to log a value of \"{'accuracy': 0.8459250446162998}\" of type <class 'dict'> for key \"eval/accuracy\" as a scalar. This invocation of Tensorboard's writer.add_scalar() is incorrect so we dropped this attribute.\n",
      "Trainer is attempting to log a value of \"{'f1': 0.8411988207148877}\" of type <class 'dict'> for key \"eval/F1 macro\" as a scalar. This invocation of Tensorboard's writer.add_scalar() is incorrect so we dropped this attribute.\n",
      "Trainer is attempting to log a value of \"{'f1': 0.8470821546059557}\" of type <class 'dict'> for key \"eval/F1 weighted\" as a scalar. This invocation of Tensorboard's writer.add_scalar() is incorrect so we dropped this attribute.\n",
      "Saving model checkpoint to phobert/sentiment\\checkpoint-492\n",
      "Configuration saved in phobert/sentiment\\checkpoint-492\\config.json\n",
      "Model weights saved in phobert/sentiment\\checkpoint-492\\pytorch_model.bin\n",
      "tokenizer config file saved in phobert/sentiment\\checkpoint-492\\tokenizer_config.json\n",
      "Special tokens file saved in phobert/sentiment\\checkpoint-492\\special_tokens_map.json\n",
      "added tokens file saved in phobert/sentiment\\checkpoint-492\\added_tokens.json\n",
      "The following columns in the evaluation set don't have a corresponding argument in `RobertaForSequenceClassification.forward` and have been ignored: token. If token are not expected by `RobertaForSequenceClassification.forward`,  you can safely ignore this message.\n",
      "***** Running Evaluation *****\n",
      "  Num examples = 1681\n",
      "  Batch size = 8\n",
      "Trainer is attempting to log a value of \"{'accuracy': 0.8619869125520524}\" of type <class 'dict'> for key \"eval/accuracy\" as a scalar. This invocation of Tensorboard's writer.add_scalar() is incorrect so we dropped this attribute.\n",
      "Trainer is attempting to log a value of \"{'f1': 0.8507630374554194}\" of type <class 'dict'> for key \"eval/F1 macro\" as a scalar. This invocation of Tensorboard's writer.add_scalar() is incorrect so we dropped this attribute.\n",
      "Trainer is attempting to log a value of \"{'f1': 0.8595522324877067}\" of type <class 'dict'> for key \"eval/F1 weighted\" as a scalar. This invocation of Tensorboard's writer.add_scalar() is incorrect so we dropped this attribute.\n",
      "Saving model checkpoint to phobert/sentiment\\checkpoint-738\n",
      "Configuration saved in phobert/sentiment\\checkpoint-738\\config.json\n",
      "Model weights saved in phobert/sentiment\\checkpoint-738\\pytorch_model.bin\n",
      "tokenizer config file saved in phobert/sentiment\\checkpoint-738\\tokenizer_config.json\n",
      "Special tokens file saved in phobert/sentiment\\checkpoint-738\\special_tokens_map.json\n",
      "added tokens file saved in phobert/sentiment\\checkpoint-738\\added_tokens.json\n",
      "Deleting older checkpoint [phobert\\sentiment\\checkpoint-492] due to args.save_total_limit\n",
      "The following columns in the evaluation set don't have a corresponding argument in `RobertaForSequenceClassification.forward` and have been ignored: token. If token are not expected by `RobertaForSequenceClassification.forward`,  you can safely ignore this message.\n",
      "***** Running Evaluation *****\n",
      "  Num examples = 1681\n",
      "  Batch size = 8\n",
      "Trainer is attempting to log a value of \"{'accuracy': 0.8655562165377751}\" of type <class 'dict'> for key \"eval/accuracy\" as a scalar. This invocation of Tensorboard's writer.add_scalar() is incorrect so we dropped this attribute.\n",
      "Trainer is attempting to log a value of \"{'f1': 0.8560019588579191}\" of type <class 'dict'> for key \"eval/F1 macro\" as a scalar. This invocation of Tensorboard's writer.add_scalar() is incorrect so we dropped this attribute.\n",
      "Trainer is attempting to log a value of \"{'f1': 0.8639675178011708}\" of type <class 'dict'> for key \"eval/F1 weighted\" as a scalar. This invocation of Tensorboard's writer.add_scalar() is incorrect so we dropped this attribute.\n",
      "Saving model checkpoint to phobert/sentiment\\checkpoint-984\n",
      "Configuration saved in phobert/sentiment\\checkpoint-984\\config.json\n",
      "Model weights saved in phobert/sentiment\\checkpoint-984\\pytorch_model.bin\n",
      "tokenizer config file saved in phobert/sentiment\\checkpoint-984\\tokenizer_config.json\n",
      "Special tokens file saved in phobert/sentiment\\checkpoint-984\\special_tokens_map.json\n",
      "added tokens file saved in phobert/sentiment\\checkpoint-984\\added_tokens.json\n",
      "Deleting older checkpoint [phobert\\sentiment\\checkpoint-246] due to args.save_total_limit\n",
      "The following columns in the evaluation set don't have a corresponding argument in `RobertaForSequenceClassification.forward` and have been ignored: token. If token are not expected by `RobertaForSequenceClassification.forward`,  you can safely ignore this message.\n",
      "***** Running Evaluation *****\n",
      "  Num examples = 1681\n",
      "  Batch size = 8\n",
      "Trainer is attempting to log a value of \"{'accuracy': 0.851279000594884}\" of type <class 'dict'> for key \"eval/accuracy\" as a scalar. This invocation of Tensorboard's writer.add_scalar() is incorrect so we dropped this attribute.\n",
      "Trainer is attempting to log a value of \"{'f1': 0.8479426578284656}\" of type <class 'dict'> for key \"eval/F1 macro\" as a scalar. This invocation of Tensorboard's writer.add_scalar() is incorrect so we dropped this attribute.\n",
      "Trainer is attempting to log a value of \"{'f1': 0.8527796848914256}\" of type <class 'dict'> for key \"eval/F1 weighted\" as a scalar. This invocation of Tensorboard's writer.add_scalar() is incorrect so we dropped this attribute.\n",
      "Saving model checkpoint to phobert/sentiment\\checkpoint-1230\n",
      "Configuration saved in phobert/sentiment\\checkpoint-1230\\config.json\n",
      "Model weights saved in phobert/sentiment\\checkpoint-1230\\pytorch_model.bin\n",
      "tokenizer config file saved in phobert/sentiment\\checkpoint-1230\\tokenizer_config.json\n",
      "Special tokens file saved in phobert/sentiment\\checkpoint-1230\\special_tokens_map.json\n",
      "added tokens file saved in phobert/sentiment\\checkpoint-1230\\added_tokens.json\n",
      "Deleting older checkpoint [phobert\\sentiment\\checkpoint-738] due to args.save_total_limit\n",
      "The following columns in the evaluation set don't have a corresponding argument in `RobertaForSequenceClassification.forward` and have been ignored: token. If token are not expected by `RobertaForSequenceClassification.forward`,  you can safely ignore this message.\n",
      "***** Running Evaluation *****\n",
      "  Num examples = 1681\n",
      "  Batch size = 8\n",
      "Trainer is attempting to log a value of \"{'accuracy': 0.8536585365853658}\" of type <class 'dict'> for key \"eval/accuracy\" as a scalar. This invocation of Tensorboard's writer.add_scalar() is incorrect so we dropped this attribute.\n",
      "Trainer is attempting to log a value of \"{'f1': 0.8493898761396117}\" of type <class 'dict'> for key \"eval/F1 macro\" as a scalar. This invocation of Tensorboard's writer.add_scalar() is incorrect so we dropped this attribute.\n",
      "Trainer is attempting to log a value of \"{'f1': 0.8548350578389659}\" of type <class 'dict'> for key \"eval/F1 weighted\" as a scalar. This invocation of Tensorboard's writer.add_scalar() is incorrect so we dropped this attribute.\n",
      "Saving model checkpoint to phobert/sentiment\\checkpoint-1476\n",
      "Configuration saved in phobert/sentiment\\checkpoint-1476\\config.json\n",
      "Model weights saved in phobert/sentiment\\checkpoint-1476\\pytorch_model.bin\n",
      "tokenizer config file saved in phobert/sentiment\\checkpoint-1476\\tokenizer_config.json\n",
      "Special tokens file saved in phobert/sentiment\\checkpoint-1476\\special_tokens_map.json\n",
      "added tokens file saved in phobert/sentiment\\checkpoint-1476\\added_tokens.json\n",
      "Deleting older checkpoint [phobert\\sentiment\\checkpoint-1230] due to args.save_total_limit\n",
      "The following columns in the evaluation set don't have a corresponding argument in `RobertaForSequenceClassification.forward` and have been ignored: token. If token are not expected by `RobertaForSequenceClassification.forward`,  you can safely ignore this message.\n",
      "***** Running Evaluation *****\n",
      "  Num examples = 1681\n",
      "  Batch size = 8\n",
      "Trainer is attempting to log a value of \"{'accuracy': 0.8607971445568114}\" of type <class 'dict'> for key \"eval/accuracy\" as a scalar. This invocation of Tensorboard's writer.add_scalar() is incorrect so we dropped this attribute.\n",
      "Trainer is attempting to log a value of \"{'f1': 0.8539094741908744}\" of type <class 'dict'> for key \"eval/F1 macro\" as a scalar. This invocation of Tensorboard's writer.add_scalar() is incorrect so we dropped this attribute.\n",
      "Trainer is attempting to log a value of \"{'f1': 0.8607216632377327}\" of type <class 'dict'> for key \"eval/F1 weighted\" as a scalar. This invocation of Tensorboard's writer.add_scalar() is incorrect so we dropped this attribute.\n",
      "Saving model checkpoint to phobert/sentiment\\checkpoint-1722\n",
      "Configuration saved in phobert/sentiment\\checkpoint-1722\\config.json\n",
      "Model weights saved in phobert/sentiment\\checkpoint-1722\\pytorch_model.bin\n",
      "tokenizer config file saved in phobert/sentiment\\checkpoint-1722\\tokenizer_config.json\n",
      "Special tokens file saved in phobert/sentiment\\checkpoint-1722\\special_tokens_map.json\n",
      "added tokens file saved in phobert/sentiment\\checkpoint-1722\\added_tokens.json\n",
      "Deleting older checkpoint [phobert\\sentiment\\checkpoint-1476] due to args.save_total_limit\n",
      "The following columns in the evaluation set don't have a corresponding argument in `RobertaForSequenceClassification.forward` and have been ignored: token. If token are not expected by `RobertaForSequenceClassification.forward`,  you can safely ignore this message.\n",
      "***** Running Evaluation *****\n",
      "  Num examples = 1681\n",
      "  Batch size = 8\n",
      "Trainer is attempting to log a value of \"{'accuracy': 0.8667459845330161}\" of type <class 'dict'> for key \"eval/accuracy\" as a scalar. This invocation of Tensorboard's writer.add_scalar() is incorrect so we dropped this attribute.\n",
      "Trainer is attempting to log a value of \"{'f1': 0.8612349347861978}\" of type <class 'dict'> for key \"eval/F1 macro\" as a scalar. This invocation of Tensorboard's writer.add_scalar() is incorrect so we dropped this attribute.\n",
      "Trainer is attempting to log a value of \"{'f1': 0.8671737077969484}\" of type <class 'dict'> for key \"eval/F1 weighted\" as a scalar. This invocation of Tensorboard's writer.add_scalar() is incorrect so we dropped this attribute.\n",
      "Saving model checkpoint to phobert/sentiment\\checkpoint-1968\n",
      "Configuration saved in phobert/sentiment\\checkpoint-1968\\config.json\n",
      "Model weights saved in phobert/sentiment\\checkpoint-1968\\pytorch_model.bin\n",
      "tokenizer config file saved in phobert/sentiment\\checkpoint-1968\\tokenizer_config.json\n",
      "Special tokens file saved in phobert/sentiment\\checkpoint-1968\\special_tokens_map.json\n",
      "added tokens file saved in phobert/sentiment\\checkpoint-1968\\added_tokens.json\n",
      "Deleting older checkpoint [phobert\\sentiment\\checkpoint-1722] due to args.save_total_limit\n",
      "The following columns in the evaluation set don't have a corresponding argument in `RobertaForSequenceClassification.forward` and have been ignored: token. If token are not expected by `RobertaForSequenceClassification.forward`,  you can safely ignore this message.\n",
      "***** Running Evaluation *****\n",
      "  Num examples = 1681\n",
      "  Batch size = 8\n",
      "Trainer is attempting to log a value of \"{'accuracy': 0.8578227245687091}\" of type <class 'dict'> for key \"eval/accuracy\" as a scalar. This invocation of Tensorboard's writer.add_scalar() is incorrect so we dropped this attribute.\n",
      "Trainer is attempting to log a value of \"{'f1': 0.8533364971297673}\" of type <class 'dict'> for key \"eval/F1 macro\" as a scalar. This invocation of Tensorboard's writer.add_scalar() is incorrect so we dropped this attribute.\n",
      "Trainer is attempting to log a value of \"{'f1': 0.8588450961279236}\" of type <class 'dict'> for key \"eval/F1 weighted\" as a scalar. This invocation of Tensorboard's writer.add_scalar() is incorrect so we dropped this attribute.\n",
      "Saving model checkpoint to phobert/sentiment\\checkpoint-2214\n",
      "Configuration saved in phobert/sentiment\\checkpoint-2214\\config.json\n",
      "Model weights saved in phobert/sentiment\\checkpoint-2214\\pytorch_model.bin\n",
      "tokenizer config file saved in phobert/sentiment\\checkpoint-2214\\tokenizer_config.json\n",
      "Special tokens file saved in phobert/sentiment\\checkpoint-2214\\special_tokens_map.json\n",
      "added tokens file saved in phobert/sentiment\\checkpoint-2214\\added_tokens.json\n",
      "Deleting older checkpoint [phobert\\sentiment\\checkpoint-1968] due to args.save_total_limit\n",
      "The following columns in the evaluation set don't have a corresponding argument in `RobertaForSequenceClassification.forward` and have been ignored: token. If token are not expected by `RobertaForSequenceClassification.forward`,  you can safely ignore this message.\n",
      "***** Running Evaluation *****\n",
      "  Num examples = 1681\n",
      "  Batch size = 8\n",
      "Trainer is attempting to log a value of \"{'accuracy': 0.8619869125520524}\" of type <class 'dict'> for key \"eval/accuracy\" as a scalar. This invocation of Tensorboard's writer.add_scalar() is incorrect so we dropped this attribute.\n",
      "Trainer is attempting to log a value of \"{'f1': 0.8571604377572997}\" of type <class 'dict'> for key \"eval/F1 macro\" as a scalar. This invocation of Tensorboard's writer.add_scalar() is incorrect so we dropped this attribute.\n",
      "Trainer is attempting to log a value of \"{'f1': 0.8627991348476095}\" of type <class 'dict'> for key \"eval/F1 weighted\" as a scalar. This invocation of Tensorboard's writer.add_scalar() is incorrect so we dropped this attribute.\n",
      "Saving model checkpoint to phobert/sentiment\\checkpoint-2460\n",
      "Configuration saved in phobert/sentiment\\checkpoint-2460\\config.json\n",
      "Model weights saved in phobert/sentiment\\checkpoint-2460\\pytorch_model.bin\n",
      "tokenizer config file saved in phobert/sentiment\\checkpoint-2460\\tokenizer_config.json\n",
      "Special tokens file saved in phobert/sentiment\\checkpoint-2460\\special_tokens_map.json\n",
      "added tokens file saved in phobert/sentiment\\checkpoint-2460\\added_tokens.json\n",
      "Deleting older checkpoint [phobert\\sentiment\\checkpoint-2214] due to args.save_total_limit\n",
      "\n",
      "\n",
      "Training completed. Do not forget to share your model on huggingface.co/models =)\n",
      "\n",
      "\n",
      "Loading best model from phobert/sentiment\\checkpoint-984 (score: 0.3807291090488434).\n",
      "Saving model checkpoint to phobert/sentiment\n",
      "Configuration saved in phobert/sentiment\\config.json\n",
      "Model weights saved in phobert/sentiment\\pytorch_model.bin\n",
      "tokenizer config file saved in phobert/sentiment\\tokenizer_config.json\n",
      "Special tokens file saved in phobert/sentiment\\special_tokens_map.json\n",
      "added tokens file saved in phobert/sentiment\\added_tokens.json\n"
     ]
    },
    {
     "name": "stdout",
     "output_type": "stream",
     "text": [
      "***** train metrics *****\n",
      "  epoch                    =       10.0\n",
      "  total_flos               =  4805871GF\n",
      "  train_loss               =     0.1683\n",
      "  train_runtime            = 0:10:17.13\n",
      "  train_samples_per_second =     127.12\n",
      "  train_steps_per_second   =      3.986\n"
     ]
    }
   ],
   "source": [
    "train_results = trainer.train()\n",
    "trainer.save_model()\n",
    "trainer.log_metrics(\"train\", train_results.metrics)\n",
    "trainer.save_metrics(\"train\", train_results.metrics)\n",
    "trainer.save_state()"
   ]
  },
  {
   "cell_type": "code",
   "execution_count": null,
   "id": "835978f5-864a-4121-9306-b7c936714c44",
   "metadata": {},
   "outputs": [],
   "source": []
  }
 ],
 "metadata": {
  "kernelspec": {
   "display_name": "Python 3 (ipykernel)",
   "language": "python",
   "name": "python3"
  },
  "language_info": {
   "codemirror_mode": {
    "name": "ipython",
    "version": 3
   },
   "file_extension": ".py",
   "mimetype": "text/x-python",
   "name": "python",
   "nbconvert_exporter": "python",
   "pygments_lexer": "ipython3",
   "version": "3.10.8"
  }
 },
 "nbformat": 4,
 "nbformat_minor": 5
}
