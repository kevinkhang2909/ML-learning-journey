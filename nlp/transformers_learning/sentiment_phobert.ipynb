{
 "cells": [
  {
   "cell_type": "markdown",
   "source": [
    "# Sentiment Classification - PhoBERT + Captum"
   ],
   "metadata": {
    "collapsed": false
   }
  },
  {
   "cell_type": "code",
   "execution_count": 38,
   "id": "5e8a3722",
   "metadata": {
    "collapsed": false,
    "jupyter": {
     "outputs_hidden": false
    }
   },
   "outputs": [],
   "source": [
    "import pandas as pd\n",
    "from collections import Counter\n",
    "from datasets import Dataset, DatasetDict\n",
    "from transformers import AutoTokenizer, AutoModelForSequenceClassification, TrainingArguments, Trainer, DataCollatorWithPadding\n",
    "from underthesea import word_tokenize, sent_tokenize, text_normalize\n",
    "from evaluate import load\n",
    "import torch\n",
    "import gc\n",
    "\n",
    "\n",
    "class Colors:\n",
    "    HEADER = '\\033[95m'\n",
    "    OKBLUE = '\\033[94m'\n",
    "    OKCYAN = '\\033[96m'\n",
    "    OKGREEN = '\\033[92m'\n",
    "    WARNING = '\\033[93m'\n",
    "    FAIL = '\\033[91m'\n",
    "    ENDC = '\\033[0m'\n",
    "    BOLD = '\\033[1m'\n",
    "    UNDERLINE = '\\033[4m'"
   ]
  },
  {
   "cell_type": "markdown",
   "source": [
    "## 1. Data"
   ],
   "metadata": {
    "collapsed": false
   }
  },
  {
   "cell_type": "code",
   "execution_count": 15,
   "id": "f614c91f-d10d-4c01-917c-1301878bc53a",
   "metadata": {},
   "outputs": [
    {
     "name": "stdout",
     "output_type": "stream",
     "text": [
      "label: {0: 'positive', 1: 'negative'}\n"
     ]
    }
   ],
   "source": [
    "df = pd.read_feather('data/facebook_comments.ftr')\n",
    "\n",
    "# labels\n",
    "labels = df['sentiment'].unique().tolist()\n",
    "id2label = {idx: label for idx, label in enumerate(labels)}\n",
    "label2id = {label: idx for idx, label in enumerate(labels)}\n",
    "print(f'label: {id2label}')\n",
    "\n",
    "df['label'] = df['sentiment'].map({'positive': 0, 'negative': 1})\n",
    "df.drop(columns=['sentiment'], inplace=True)"
   ]
  },
  {
   "cell_type": "markdown",
   "source": [
    "### 1.1 Tokenizer"
   ],
   "metadata": {
    "collapsed": false
   }
  },
  {
   "cell_type": "code",
   "execution_count": 18,
   "outputs": [
    {
     "data": {
      "text/plain": "   label                                              token\n0      0  mình cần mua xúc_xích cho chó nên mình đặt và ...\n1      1  mệt_mỏi quá mọi người ơi . j & t , ghn dừng nh...\n2      0  mấy ac nào mà giờ con ham gửi hàng thì chuẩn_b...\n3      0  tình_hình kho pi exress - bưu_cục chi_nhánh ch...\n4      1  🛑 tất_cả đơn_vị vận_chuyển shopee đã được bật ...",
      "text/html": "<div>\n<style scoped>\n    .dataframe tbody tr th:only-of-type {\n        vertical-align: middle;\n    }\n\n    .dataframe tbody tr th {\n        vertical-align: top;\n    }\n\n    .dataframe thead th {\n        text-align: right;\n    }\n</style>\n<table border=\"1\" class=\"dataframe\">\n  <thead>\n    <tr style=\"text-align: right;\">\n      <th></th>\n      <th>label</th>\n      <th>token</th>\n    </tr>\n  </thead>\n  <tbody>\n    <tr>\n      <th>0</th>\n      <td>0</td>\n      <td>mình cần mua xúc_xích cho chó nên mình đặt và ...</td>\n    </tr>\n    <tr>\n      <th>1</th>\n      <td>1</td>\n      <td>mệt_mỏi quá mọi người ơi . j &amp; t , ghn dừng nh...</td>\n    </tr>\n    <tr>\n      <th>2</th>\n      <td>0</td>\n      <td>mấy ac nào mà giờ con ham gửi hàng thì chuẩn_b...</td>\n    </tr>\n    <tr>\n      <th>3</th>\n      <td>0</td>\n      <td>tình_hình kho pi exress - bưu_cục chi_nhánh ch...</td>\n    </tr>\n    <tr>\n      <th>4</th>\n      <td>1</td>\n      <td>🛑 tất_cả đơn_vị vận_chuyển shopee đã được bật ...</td>\n    </tr>\n  </tbody>\n</table>\n</div>"
     },
     "execution_count": 18,
     "metadata": {},
     "output_type": "execute_result"
    }
   ],
   "source": [
    "def apply_word_tokenize(sen):\n",
    "    sen = \" \".join(sen.split())\n",
    "    sens = sent_tokenize(sen)\n",
    "    tokenized_sen = []\n",
    "    for sen in sens:\n",
    "        tokenized_sen += word_tokenize(text_normalize(sen))\n",
    "    return ' '.join(['_'.join(words.split(' ')) for words in tokenized_sen])\n",
    "\n",
    "\n",
    "df['token'] = df['content'].map(lambda x: apply_word_tokenize(x.lower()))\n",
    "df.drop(columns=['content'], inplace=True)\n",
    "df.head()"
   ],
   "metadata": {
    "collapsed": false
   }
  },
  {
   "cell_type": "code",
   "execution_count": 19,
   "outputs": [
    {
     "data": {
      "text/plain": "DatasetDict({\n    train: Dataset({\n        features: ['label', 'token'],\n        num_rows: 7845\n    })\n    test: Dataset({\n        features: ['label', 'token'],\n        num_rows: 1681\n    })\n    valid: Dataset({\n        features: ['label', 'token'],\n        num_rows: 1682\n    })\n})"
     },
     "execution_count": 19,
     "metadata": {},
     "output_type": "execute_result"
    }
   ],
   "source": [
    "splits = Dataset.from_pandas(df).train_test_split(test_size=0.3)\n",
    "dataset_test_valid = splits['test'].train_test_split(test_size=0.5)\n",
    "train_data, val_data, test_data = splits['train'], dataset_test_valid['train'], dataset_test_valid['test']\n",
    "\n",
    "raw_dataset = DatasetDict({\n",
    "    'train': splits['train'].shuffle(seed=42),\n",
    "    'test': dataset_test_valid['train'],\n",
    "    'valid': dataset_test_valid['test'],\n",
    "})\n",
    "raw_dataset"
   ],
   "metadata": {
    "collapsed": false
   }
  },
  {
   "cell_type": "code",
   "execution_count": 20,
   "outputs": [
    {
     "name": "stdout",
     "output_type": "stream",
     "text": [
      "train Counter({0: 4722, 1: 3123})\n",
      "test Counter({0: 992, 1: 689})\n",
      "valid Counter({0: 1018, 1: 664})\n"
     ]
    }
   ],
   "source": [
    "for i in raw_dataset:\n",
    "    print(i, Counter(raw_dataset[i]['label']))"
   ],
   "metadata": {
    "collapsed": false
   }
  },
  {
   "cell_type": "markdown",
   "source": [
    "### 1.2 Tokenizer BERT"
   ],
   "metadata": {
    "collapsed": false
   }
  },
  {
   "cell_type": "code",
   "execution_count": 21,
   "id": "ca7e4e46",
   "metadata": {
    "collapsed": false,
    "jupyter": {
     "outputs_hidden": false
    }
   },
   "outputs": [
    {
     "name": "stderr",
     "output_type": "stream",
     "text": [
      "Special tokens have been added in the vocabulary, make sure the associated word embeddings are fine-tuned or trained.\n"
     ]
    }
   ],
   "source": [
    "pretrain_name = \"vinai/phobert-base\"\n",
    "tokenizer = AutoTokenizer.from_pretrained(pretrain_name)"
   ]
  },
  {
   "cell_type": "code",
   "execution_count": 33,
   "outputs": [
    {
     "name": "stdout",
     "output_type": "stream",
     "text": [
      "\u001B[92mText:\u001B[0m có_thể làm_ơn cho shop tự tắt shopee express thân_yêu được không ? đơn đổ hết về spx thân_yêu của các bạn mà shiper không được tới lấy . làm ơn đi shopee .\n",
      "\u001B[92mLen of token:\u001B[0m 15\n",
      "\u001B[92mInput_ids:\u001B[0m [0, 62, 43025, 13, 9405, 385, 2135, 12231, 36653, 7928, 33157, 14027, 11, 17, 2]\n"
     ]
    }
   ],
   "source": [
    "num = 25\n",
    "token = tokenizer(raw_dataset['train'][num]['token'], padding='max_length', max_length=15, truncation=True)\n",
    "\n",
    "print(f\"{Colors.OKGREEN}Text:{Colors.ENDC} {raw_dataset['train'][num]['token']}\")\n",
    "print(f\"{Colors.OKGREEN}Len of token:{Colors.ENDC} {len(token['input_ids'])}\")\n",
    "print(f\"{Colors.OKGREEN}Input_ids:{Colors.ENDC} {token['input_ids']}\")"
   ],
   "metadata": {
    "collapsed": false
   }
  },
  {
   "cell_type": "code",
   "execution_count": 34,
   "outputs": [
    {
     "data": {
      "text/plain": "  0%|          | 0/8 [00:00<?, ?ba/s]",
      "application/vnd.jupyter.widget-view+json": {
       "version_major": 2,
       "version_minor": 0,
       "model_id": "f0b461b7e12142f4a0617c0d36599c3b"
      },
      "application/json": {
       "n": 0,
       "total": 8,
       "elapsed": 0.025370121002197266,
       "ncols": null,
       "nrows": null,
       "prefix": "",
       "ascii": false,
       "unit": "ba",
       "unit_scale": false,
       "rate": null,
       "bar_format": null,
       "postfix": null,
       "unit_divisor": 1000,
       "initial": 0,
       "colour": null
      }
     },
     "metadata": {},
     "output_type": "display_data"
    },
    {
     "data": {
      "text/plain": "  0%|          | 0/2 [00:00<?, ?ba/s]",
      "application/vnd.jupyter.widget-view+json": {
       "version_major": 2,
       "version_minor": 0,
       "model_id": "a417167d7f6e4ee8b316e1874bb55715"
      },
      "application/json": {
       "n": 0,
       "total": 2,
       "elapsed": 0.007502079010009766,
       "ncols": null,
       "nrows": null,
       "prefix": "",
       "ascii": false,
       "unit": "ba",
       "unit_scale": false,
       "rate": null,
       "bar_format": null,
       "postfix": null,
       "unit_divisor": 1000,
       "initial": 0,
       "colour": null
      }
     },
     "metadata": {},
     "output_type": "display_data"
    },
    {
     "data": {
      "text/plain": "  0%|          | 0/2 [00:00<?, ?ba/s]",
      "application/vnd.jupyter.widget-view+json": {
       "version_major": 2,
       "version_minor": 0,
       "model_id": "99e7589c2c7a4283b4bd97568f1c1b1e"
      },
      "application/json": {
       "n": 0,
       "total": 2,
       "elapsed": 0.0058972835540771484,
       "ncols": null,
       "nrows": null,
       "prefix": "",
       "ascii": false,
       "unit": "ba",
       "unit_scale": false,
       "rate": null,
       "bar_format": null,
       "postfix": null,
       "unit_divisor": 1000,
       "initial": 0,
       "colour": null
      }
     },
     "metadata": {},
     "output_type": "display_data"
    }
   ],
   "source": [
    "def preprocess_function(examples):\n",
    "    return tokenizer(examples['token'], padding=\"max_length\", truncation=True, max_length=128)\n",
    "\n",
    "tokenized_train = raw_dataset['train'].map(preprocess_function, batched=True)\n",
    "tokenized_valid = raw_dataset['valid'].map(preprocess_function, batched=True)\n",
    "tokenized_test = raw_dataset['test'].map(preprocess_function, batched=True)"
   ],
   "metadata": {
    "collapsed": false
   }
  },
  {
   "cell_type": "code",
   "execution_count": 37,
   "outputs": [
    {
     "name": "stdout",
     "output_type": "stream",
     "text": [
      "dict_keys(['label', 'token', 'input_ids', 'token_type_ids', 'attention_mask'])\n",
      "<s> có_thể làm_ơn cho shop tự tắt shopee express thân_yêu được không? đơn đổ hết về spx thân_yêu của các bạn mà shiper không được tới lấy. làm ơn đi shopee. </s> <pad> <pad> <pad> <pad> <pad> <pad> <pad> <pad> <pad> <pad> <pad> <pad> <pad> <pad> <pad> <pad> <pad> <pad> <pad> <pad> <pad> <pad> <pad> <pad> <pad> <pad> <pad> <pad> <pad> <pad> <pad> <pad> <pad> <pad> <pad> <pad> <pad> <pad> <pad> <pad> <pad> <pad> <pad> <pad> <pad> <pad> <pad> <pad> <pad> <pad> <pad> <pad> <pad> <pad> <pad> <pad> <pad> <pad> <pad> <pad> <pad> <pad> <pad> <pad> <pad> <pad> <pad> <pad> <pad> <pad> <pad> <pad> <pad> <pad> <pad> <pad> <pad> <pad> <pad> <pad> <pad> <pad> <pad> <pad> <pad> <pad> <pad> <pad>\n",
      "1\n"
     ]
    }
   ],
   "source": [
    "example = tokenized_train[26]\n",
    "print(example.keys())\n",
    "print(tokenizer.decode(example['input_ids']))\n",
    "print(example['label'])"
   ],
   "metadata": {
    "collapsed": false
   }
  },
  {
   "cell_type": "markdown",
   "source": [
    "## 2. Models"
   ],
   "metadata": {
    "collapsed": false
   }
  },
  {
   "cell_type": "code",
   "execution_count": 39,
   "outputs": [
    {
     "name": "stderr",
     "output_type": "stream",
     "text": [
      "Some weights of the model checkpoint at vinai/phobert-base were not used when initializing RobertaForSequenceClassification: ['lm_head.dense.weight', 'roberta.pooler.dense.weight', 'roberta.pooler.dense.bias', 'lm_head.layer_norm.bias', 'lm_head.bias', 'lm_head.decoder.bias', 'lm_head.decoder.weight', 'lm_head.layer_norm.weight', 'lm_head.dense.bias']\n",
      "- This IS expected if you are initializing RobertaForSequenceClassification from the checkpoint of a model trained on another task or with another architecture (e.g. initializing a BertForSequenceClassification model from a BertForPreTraining model).\n",
      "- This IS NOT expected if you are initializing RobertaForSequenceClassification from the checkpoint of a model that you expect to be exactly identical (initializing a BertForSequenceClassification model from a BertForSequenceClassification model).\n",
      "Some weights of RobertaForSequenceClassification were not initialized from the model checkpoint at vinai/phobert-base and are newly initialized: ['classifier.out_proj.weight', 'classifier.out_proj.bias', 'classifier.dense.bias', 'classifier.dense.weight']\n",
      "You should probably TRAIN this model on a down-stream task to be able to use it for predictions and inference.\n"
     ]
    }
   ],
   "source": [
    "data_collator = DataCollatorWithPadding(tokenizer=tokenizer)\n",
    "model = AutoModelForSequenceClassification.from_pretrained(\n",
    "    pretrain_name,\n",
    "    num_labels=len(labels),\n",
    "    id2label=id2label,\n",
    "    label2id=label2id)\n",
    "\n",
    "\n",
    "def compute_metrics(eval_pred):\n",
    "    logits, labels = eval_pred\n",
    "    predictions = logits.argmax(-1)\n",
    "    acc = load('accuracy').compute(predictions=predictions, references=labels)\n",
    "    f1_macro = load('f1').compute(predictions=predictions, references=labels, average='macro')\n",
    "    f1_weight = load('f1').compute(predictions=predictions, references=labels, average='weighted')\n",
    "    return {'accuracy': acc, 'F1 macro': f1_macro, 'F1 weighted': f1_weight}"
   ],
   "metadata": {
    "collapsed": false
   }
  },
  {
   "cell_type": "code",
   "execution_count": 9,
   "id": "a415c5f0",
   "metadata": {
    "collapsed": false,
    "jupyter": {
     "outputs_hidden": false
    }
   },
   "outputs": [
    {
     "name": "stderr",
     "output_type": "stream",
     "text": [
      "The following columns in the training set don't have a corresponding argument in `RobertaForSequenceClassification.forward` and have been ignored: text. If text are not expected by `RobertaForSequenceClassification.forward`,  you can safely ignore this message.\n",
      "C:\\Users\\Kevin\\miniconda3\\envs\\nlp\\lib\\site-packages\\transformers\\optimization.py:306: FutureWarning: This implementation of AdamW is deprecated and will be removed in a future version. Use the PyTorch implementation torch.optim.AdamW instead, or set `no_deprecation_warning=True` to disable this warning\n",
      "  warnings.warn(\n",
      "***** Running training *****\n",
      "  Num examples = 7845\n",
      "  Num Epochs = 5\n",
      "  Instantaneous batch size per device = 16\n",
      "  Total train batch size (w. parallel, distributed & accumulation) = 16\n",
      "  Gradient Accumulation steps = 1\n",
      "  Total optimization steps = 2455\n",
      "  Number of trainable parameters = 134999810\n"
     ]
    },
    {
     "data": {
      "text/html": [
       "\n",
       "    <div>\n",
       "      \n",
       "      <progress value='2455' max='2455' style='width:300px; height:20px; vertical-align: middle;'></progress>\n",
       "      [2455/2455 07:13, Epoch 5/5]\n",
       "    </div>\n",
       "    <table border=\"1\" class=\"dataframe\">\n",
       "  <thead>\n",
       " <tr style=\"text-align: left;\">\n",
       "      <th>Step</th>\n",
       "      <th>Training Loss</th>\n",
       "    </tr>\n",
       "  </thead>\n",
       "  <tbody>\n",
       "    <tr>\n",
       "      <td>500</td>\n",
       "      <td>0.422900</td>\n",
       "    </tr>\n",
       "    <tr>\n",
       "      <td>1000</td>\n",
       "      <td>0.303500</td>\n",
       "    </tr>\n",
       "    <tr>\n",
       "      <td>1500</td>\n",
       "      <td>0.223800</td>\n",
       "    </tr>\n",
       "    <tr>\n",
       "      <td>2000</td>\n",
       "      <td>0.180700</td>\n",
       "    </tr>\n",
       "  </tbody>\n",
       "</table><p>"
      ],
      "text/plain": [
       "<IPython.core.display.HTML object>"
      ]
     },
     "metadata": {},
     "output_type": "display_data"
    },
    {
     "name": "stderr",
     "output_type": "stream",
     "text": [
      "Saving model checkpoint to ./sentiment_phobert\\checkpoint-500\n",
      "Configuration saved in ./sentiment_phobert\\checkpoint-500\\config.json\n",
      "Model weights saved in ./sentiment_phobert\\checkpoint-500\\pytorch_model.bin\n",
      "tokenizer config file saved in ./sentiment_phobert\\checkpoint-500\\tokenizer_config.json\n",
      "Special tokens file saved in ./sentiment_phobert\\checkpoint-500\\special_tokens_map.json\n",
      "added tokens file saved in ./sentiment_phobert\\checkpoint-500\\added_tokens.json\n",
      "Saving model checkpoint to ./sentiment_phobert\\checkpoint-1000\n",
      "Configuration saved in ./sentiment_phobert\\checkpoint-1000\\config.json\n",
      "Model weights saved in ./sentiment_phobert\\checkpoint-1000\\pytorch_model.bin\n",
      "tokenizer config file saved in ./sentiment_phobert\\checkpoint-1000\\tokenizer_config.json\n",
      "Special tokens file saved in ./sentiment_phobert\\checkpoint-1000\\special_tokens_map.json\n",
      "added tokens file saved in ./sentiment_phobert\\checkpoint-1000\\added_tokens.json\n",
      "Saving model checkpoint to ./sentiment_phobert\\checkpoint-1500\n",
      "Configuration saved in ./sentiment_phobert\\checkpoint-1500\\config.json\n",
      "Model weights saved in ./sentiment_phobert\\checkpoint-1500\\pytorch_model.bin\n",
      "tokenizer config file saved in ./sentiment_phobert\\checkpoint-1500\\tokenizer_config.json\n",
      "Special tokens file saved in ./sentiment_phobert\\checkpoint-1500\\special_tokens_map.json\n",
      "added tokens file saved in ./sentiment_phobert\\checkpoint-1500\\added_tokens.json\n",
      "Saving model checkpoint to ./sentiment_phobert\\checkpoint-2000\n",
      "Configuration saved in ./sentiment_phobert\\checkpoint-2000\\config.json\n",
      "Model weights saved in ./sentiment_phobert\\checkpoint-2000\\pytorch_model.bin\n",
      "tokenizer config file saved in ./sentiment_phobert\\checkpoint-2000\\tokenizer_config.json\n",
      "Special tokens file saved in ./sentiment_phobert\\checkpoint-2000\\special_tokens_map.json\n",
      "added tokens file saved in ./sentiment_phobert\\checkpoint-2000\\added_tokens.json\n",
      "\n",
      "\n",
      "Training completed. Do not forget to share your model on huggingface.co/models =)\n",
      "\n",
      "\n"
     ]
    },
    {
     "data": {
      "text/plain": [
       "TrainOutput(global_step=2455, training_loss=0.25804647845794615, metrics={'train_runtime': 435.5828, 'train_samples_per_second': 90.052, 'train_steps_per_second': 5.636, 'total_flos': 2418874487460000.0, 'train_loss': 0.25804647845794615, 'epoch': 5.0})"
      ]
     },
     "execution_count": 9,
     "metadata": {},
     "output_type": "execute_result"
    }
   ],
   "source": [
    "torch.cuda.empty_cache()\n",
    "gc.collect()\n",
    "\n",
    "training_args = TrainingArguments(\n",
    "    output_dir='phobert/sentiment',\n",
    "    warmup_ratio=0.1,\n",
    "    lr_scheduler_type='cosine',\n",
    "    weight_decay=0.001,\n",
    "    learning_rate=1e-4,\n",
    "    per_device_train_batch_size=32,\n",
    "    num_train_epochs=10,\n",
    "    fp16=True,\n",
    "    logging_strategy='epoch',\n",
    "    save_strategy='epoch',\n",
    "    evaluation_strategy='epoch',\n",
    "    # evaluation_strategy='steps',\n",
    "    # save_steps=200,\n",
    "    # eval_steps=200,\n",
    "    # logging_steps=20,\n",
    "    save_total_limit=2,\n",
    "    push_to_hub=False,\n",
    "    load_best_model_at_end=True,\n",
    ")\n",
    "\n",
    "trainer = Trainer(\n",
    "    model=model,\n",
    "    args=training_args,\n",
    "    train_dataset=tokenized_train,\n",
    "    eval_dataset=tokenized_test,\n",
    "    tokenizer=tokenizer,\n",
    "    data_collator=data_collator,\n",
    "    compute_metrics=compute_metrics,\n",
    ")"
   ]
  },
  {
   "cell_type": "code",
   "execution_count": 10,
   "id": "f5e1d09f",
   "metadata": {
    "collapsed": false,
    "jupyter": {
     "outputs_hidden": false
    }
   },
   "outputs": [
    {
     "data": {
      "application/vnd.jupyter.widget-view+json": {
       "model_id": "f5a70614c5674d3eb60d5abce1288702",
       "version_major": 2,
       "version_minor": 0
      },
      "text/plain": [
       "VBox(children=(HTML(value='<center> <img\\nsrc=https://huggingface.co/front/assets/huggingface_logo-noborder.sv…"
      ]
     },
     "metadata": {},
     "output_type": "display_data"
    }
   ],
   "source": [
    "train_results = trainer.train()\n",
    "trainer.save_model()\n",
    "trainer.log_metrics(\"train\", train_results.metrics)\n",
    "trainer.save_metrics(\"train\", train_results.metrics)\n",
    "trainer.save_state()"
   ]
  },
  {
   "cell_type": "code",
   "execution_count": null,
   "id": "835978f5-864a-4121-9306-b7c936714c44",
   "metadata": {},
   "outputs": [],
   "source": []
  }
 ],
 "metadata": {
  "kernelspec": {
   "display_name": "Python 3 (ipykernel)",
   "language": "python",
   "name": "python3"
  },
  "language_info": {
   "codemirror_mode": {
    "name": "ipython",
    "version": 3
   },
   "file_extension": ".py",
   "mimetype": "text/x-python",
   "name": "python",
   "nbconvert_exporter": "python",
   "pygments_lexer": "ipython3",
   "version": "3.10.6"
  }
 },
 "nbformat": 4,
 "nbformat_minor": 5
}
