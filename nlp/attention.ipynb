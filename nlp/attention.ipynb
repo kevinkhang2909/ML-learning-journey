{
 "cells": [
  {
   "cell_type": "code",
   "execution_count": 1,
   "id": "04f11472-ce57-4450-bf76-828bd5178415",
   "metadata": {},
   "outputs": [],
   "source": [
    "import numpy as np\n",
    "from scipy.special import softmax\n",
    "\n",
    "np.random.seed(42)"
   ]
  },
  {
   "cell_type": "code",
   "execution_count": 2,
   "id": "133985b1-72c3-4ce6-be15-a2ba2f4ecbc6",
   "metadata": {},
   "outputs": [
    {
     "data": {
      "text/plain": [
       "array([[1, 0, 0],\n",
       "       [0, 1, 0],\n",
       "       [1, 1, 0],\n",
       "       [0, 0, 1]])"
      ]
     },
     "execution_count": 2,
     "metadata": {},
     "output_type": "execute_result"
    }
   ],
   "source": [
    "word_1 = np.array([1, 0, 0])\n",
    "word_2 = np.array([0, 1, 0])\n",
    "word_3 = np.array([1, 1, 0])\n",
    "word_4 = np.array([0, 0, 1])\n",
    "\n",
    "words = np.array([word_1, word_2, word_3, word_4])\n",
    "words"
   ]
  },
  {
   "cell_type": "code",
   "execution_count": 3,
   "id": "d5421b90-02ed-4037-b375-cac29fa5d5c9",
   "metadata": {},
   "outputs": [],
   "source": [
    "# weight\n",
    "W_Q = np.random.randint(3, size=(3, 3))\n",
    "W_K = np.random.randint(3, size=(3, 3))\n",
    "W_V = np.random.randint(3, size=(3, 3))"
   ]
  },
  {
   "cell_type": "code",
   "execution_count": 4,
   "id": "89e39258-56a5-4ee2-8b73-f90096692fec",
   "metadata": {},
   "outputs": [],
   "source": [
    "Q = words @ W_Q\n",
    "K = words @ W_K\n",
    "V = words @ W_V"
   ]
  },
  {
   "cell_type": "code",
   "execution_count": 5,
   "id": "8fb3a635-db70-4ae5-8b04-be6178a0fa0a",
   "metadata": {},
   "outputs": [
    {
     "data": {
      "text/plain": [
       "(array([[2, 0, 2],\n",
       "        [2, 0, 0],\n",
       "        [4, 0, 2],\n",
       "        [2, 1, 2]]),\n",
       " array([[2, 2, 2],\n",
       "        [0, 2, 1],\n",
       "        [2, 4, 3],\n",
       "        [0, 1, 1]]),\n",
       " array([[1, 1, 0],\n",
       "        [0, 1, 1],\n",
       "        [1, 2, 1],\n",
       "        [0, 0, 0]]))"
      ]
     },
     "execution_count": 5,
     "metadata": {},
     "output_type": "execute_result"
    }
   ],
   "source": [
    "Q, K, V"
   ]
  },
  {
   "cell_type": "code",
   "execution_count": 6,
   "id": "46892691-496a-45f0-9ce7-8a3c75b417b3",
   "metadata": {},
   "outputs": [
    {
     "data": {
      "text/plain": [
       "array([[ 8,  2, 10,  2],\n",
       "       [ 4,  0,  4,  0],\n",
       "       [12,  2, 14,  2],\n",
       "       [10,  4, 14,  3]])"
      ]
     },
     "execution_count": 6,
     "metadata": {},
     "output_type": "execute_result"
    }
   ],
   "source": [
    "scores = Q @ K.transpose()\n",
    "scores"
   ]
  },
  {
   "cell_type": "code",
   "execution_count": 7,
   "id": "cb408ae8-0943-45d9-9747-e196911b52b5",
   "metadata": {},
   "outputs": [
    {
     "data": {
      "text/plain": [
       "array([[2.36089863e-01, 7.38987555e-03, 7.49130386e-01, 7.38987555e-03],\n",
       "       [4.54826323e-01, 4.51736775e-02, 4.54826323e-01, 4.51736775e-02],\n",
       "       [2.39275049e-01, 7.43870015e-04, 7.59237211e-01, 7.43870015e-04],\n",
       "       [8.99501754e-02, 2.81554063e-03, 9.05653685e-01, 1.58059922e-03]])"
      ]
     },
     "execution_count": 7,
     "metadata": {},
     "output_type": "execute_result"
    }
   ],
   "source": [
    "weights = softmax(scores / K.shape[1] ** 0.5, axis=1)\n",
    "weights"
   ]
  },
  {
   "cell_type": "code",
   "execution_count": 8,
   "id": "62ff57ba-8d06-47c2-9c74-074b91261e4a",
   "metadata": {},
   "outputs": [
    {
     "data": {
      "text/plain": [
       "array([[0.98522025, 1.74174051, 0.75652026],\n",
       "       [0.90965265, 1.40965265, 0.5       ],\n",
       "       [0.99851226, 1.75849334, 0.75998108],\n",
       "       [0.99560386, 1.90407309, 0.90846923]])"
      ]
     },
     "execution_count": 8,
     "metadata": {},
     "output_type": "execute_result"
    }
   ],
   "source": [
    "attention = weights @ V\n",
    "attention"
   ]
  },
  {
   "cell_type": "code",
   "execution_count": null,
   "id": "fdf8c400-6664-4fdb-91b7-141f624ff016",
   "metadata": {},
   "outputs": [],
   "source": []
  }
 ],
 "metadata": {
  "kernelspec": {
   "display_name": "Python 3 (ipykernel)",
   "language": "python",
   "name": "python3"
  },
  "language_info": {
   "codemirror_mode": {
    "name": "ipython",
    "version": 3
   },
   "file_extension": ".py",
   "mimetype": "text/x-python",
   "name": "python",
   "nbconvert_exporter": "python",
   "pygments_lexer": "ipython3",
   "version": "3.11.3"
  }
 },
 "nbformat": 4,
 "nbformat_minor": 5
}
