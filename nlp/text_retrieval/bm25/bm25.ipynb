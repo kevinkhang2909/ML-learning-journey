{
 "cells": [
  {
   "cell_type": "code",
   "execution_count": 10,
   "metadata": {
    "collapsed": true,
    "ExecuteTime": {
     "end_time": "2023-07-09T04:27:49.237544Z",
     "start_time": "2023-07-09T04:27:49.229624Z"
    }
   },
   "outputs": [],
   "source": [
    "from pathlib import Path\n",
    "import pandas as pd\n",
    "from tqdm import tqdm\n",
    "from rank_bm25 import BM25Okapi\n",
    "from fastbm25 import fastbm25\n",
    "from joblib import Parallel, delayed"
   ]
  },
  {
   "cell_type": "code",
   "execution_count": 11,
   "outputs": [
    {
     "data": {
      "text/plain": "       Line Number                        Company Name  Company CIK Key  \\\n0                1                              !J INC          1438823   \n1                2       #1 A LIFESAFER HOLDINGS, INC.          1509607   \n2                3  #1 ARIZONA DISCOUNT PROPERTIES LLC          1457512   \n3                4                   #1 PAINTBALL CORP          1433777   \n4                5                               $ LLC          1427189   \n...            ...                                 ...              ...   \n49995        49996                      BABB DOUGLAS J          1190359   \n49996        49997                        BABB HENRY C          1193948   \n49997        49998              BABB INTERNATIONAL INC          1139504   \n49998        49999                         BABB JACK J          1280368   \n49999        50000                   BABB JAMES G. III          1575424   \n\n                        company_edit_name  \\\n0                                  !j inc   \n1           #1 a lifesafer holdings, inc.   \n2      #1 arizona discount properties llc   \n3                       #1 paintball corp   \n4                                   $ llc   \n...                                   ...   \n49995                      babb douglas j   \n49996                        babb henry c   \n49997              babb international inc   \n49998                         babb jack j   \n49999                   babb james g. iii   \n\n                                          token  \n0                                     [!j, inc]  \n1           [#1, a, lifesafer, holdings,, inc.]  \n2      [#1, arizona, discount, properties, llc]  \n3                         [#1, paintball, corp]  \n4                                      [$, llc]  \n...                                         ...  \n49995                        [babb, douglas, j]  \n49996                          [babb, henry, c]  \n49997                [babb, international, inc]  \n49998                           [babb, jack, j]  \n49999                    [babb, james, g., iii]  \n\n[50000 rows x 5 columns]",
      "text/html": "<div>\n<style scoped>\n    .dataframe tbody tr th:only-of-type {\n        vertical-align: middle;\n    }\n\n    .dataframe tbody tr th {\n        vertical-align: top;\n    }\n\n    .dataframe thead th {\n        text-align: right;\n    }\n</style>\n<table border=\"1\" class=\"dataframe\">\n  <thead>\n    <tr style=\"text-align: right;\">\n      <th></th>\n      <th>Line Number</th>\n      <th>Company Name</th>\n      <th>Company CIK Key</th>\n      <th>company_edit_name</th>\n      <th>token</th>\n    </tr>\n  </thead>\n  <tbody>\n    <tr>\n      <th>0</th>\n      <td>1</td>\n      <td>!J INC</td>\n      <td>1438823</td>\n      <td>!j inc</td>\n      <td>[!j, inc]</td>\n    </tr>\n    <tr>\n      <th>1</th>\n      <td>2</td>\n      <td>#1 A LIFESAFER HOLDINGS, INC.</td>\n      <td>1509607</td>\n      <td>#1 a lifesafer holdings, inc.</td>\n      <td>[#1, a, lifesafer, holdings,, inc.]</td>\n    </tr>\n    <tr>\n      <th>2</th>\n      <td>3</td>\n      <td>#1 ARIZONA DISCOUNT PROPERTIES LLC</td>\n      <td>1457512</td>\n      <td>#1 arizona discount properties llc</td>\n      <td>[#1, arizona, discount, properties, llc]</td>\n    </tr>\n    <tr>\n      <th>3</th>\n      <td>4</td>\n      <td>#1 PAINTBALL CORP</td>\n      <td>1433777</td>\n      <td>#1 paintball corp</td>\n      <td>[#1, paintball, corp]</td>\n    </tr>\n    <tr>\n      <th>4</th>\n      <td>5</td>\n      <td>$ LLC</td>\n      <td>1427189</td>\n      <td>$ llc</td>\n      <td>[$, llc]</td>\n    </tr>\n    <tr>\n      <th>...</th>\n      <td>...</td>\n      <td>...</td>\n      <td>...</td>\n      <td>...</td>\n      <td>...</td>\n    </tr>\n    <tr>\n      <th>49995</th>\n      <td>49996</td>\n      <td>BABB DOUGLAS J</td>\n      <td>1190359</td>\n      <td>babb douglas j</td>\n      <td>[babb, douglas, j]</td>\n    </tr>\n    <tr>\n      <th>49996</th>\n      <td>49997</td>\n      <td>BABB HENRY C</td>\n      <td>1193948</td>\n      <td>babb henry c</td>\n      <td>[babb, henry, c]</td>\n    </tr>\n    <tr>\n      <th>49997</th>\n      <td>49998</td>\n      <td>BABB INTERNATIONAL INC</td>\n      <td>1139504</td>\n      <td>babb international inc</td>\n      <td>[babb, international, inc]</td>\n    </tr>\n    <tr>\n      <th>49998</th>\n      <td>49999</td>\n      <td>BABB JACK J</td>\n      <td>1280368</td>\n      <td>babb jack j</td>\n      <td>[babb, jack, j]</td>\n    </tr>\n    <tr>\n      <th>49999</th>\n      <td>50000</td>\n      <td>BABB JAMES G. III</td>\n      <td>1575424</td>\n      <td>babb james g. iii</td>\n      <td>[babb, james, g., iii]</td>\n    </tr>\n  </tbody>\n</table>\n<p>50000 rows × 5 columns</p>\n</div>"
     },
     "execution_count": 11,
     "metadata": {},
     "output_type": "execute_result"
    }
   ],
   "source": [
    "path = Path.home() / 'PycharmProjects/ML-learning-journey/nlp/text_retrieval/data/'\n",
    "df = pd.read_csv(path / 'data.csv')\n",
    "df['token'] = df['company_edit_name'].str.split()\n",
    "df"
   ],
   "metadata": {
    "collapsed": false,
    "ExecuteTime": {
     "end_time": "2023-07-09T04:27:49.348672Z",
     "start_time": "2023-07-09T04:27:49.233717Z"
    }
   }
  },
  {
   "cell_type": "code",
   "execution_count": 12,
   "outputs": [],
   "source": [
    "corpus = df['token'].values.tolist()\n",
    "bm25 = BM25Okapi(corpus)\n",
    "model_fast = fastbm25(corpus)"
   ],
   "metadata": {
    "collapsed": false,
    "ExecuteTime": {
     "end_time": "2023-07-09T04:27:49.606484Z",
     "start_time": "2023-07-09T04:27:49.364898Z"
    }
   }
  },
  {
   "cell_type": "code",
   "execution_count": 13,
   "outputs": [
    {
     "data": {
      "text/plain": "{'09': ['09 proud citizen/marialua, llc',\n  '09 flashy bull/laelia, llc',\n  '09 silver train/alotofappeal, llc',\n  '09 flashy bull/desert sunrise, llc',\n  \"09 city zip/capote's tune, llc\"]}"
     },
     "execution_count": 13,
     "metadata": {},
     "output_type": "execute_result"
    }
   ],
   "source": [
    "queries = '09'\n",
    "meta = {}\n",
    "scores = bm25.get_top_n(queries.split(), corpus, 5)\n",
    "meta[queries] = list(map(' '.join, scores))\n",
    "meta"
   ],
   "metadata": {
    "collapsed": false,
    "ExecuteTime": {
     "end_time": "2023-07-09T04:27:49.616922Z",
     "start_time": "2023-07-09T04:27:49.614060Z"
    }
   }
  },
  {
   "cell_type": "code",
   "execution_count": 14,
   "outputs": [
    {
     "data": {
      "text/plain": "{'09': [(['09', 'flashy', 'bull/laelia,', 'llc'], 142, 7.64),\n  (['09', 'proud', 'citizen/marialua,', 'llc'], 148, 7.64),\n  (['09', 'silver', 'train/alotofappeal,', 'llc'], 154, 7.64),\n  (['09', 'awesome', 'again/blind', 'canyon,', 'llc'], 133, 6.87),\n  (['09', 'bellamy', 'road/forever', 'dixie,', 'llc'], 134, 6.87)]}"
     },
     "execution_count": 14,
     "metadata": {},
     "output_type": "execute_result"
    }
   ],
   "source": [
    "queries = '09'\n",
    "meta = {}\n",
    "scores = model_fast.top_k_sentence(queries.split(), 5)\n",
    "meta[queries] = scores\n",
    "meta"
   ],
   "metadata": {
    "collapsed": false,
    "ExecuteTime": {
     "end_time": "2023-07-09T04:27:49.623789Z",
     "start_time": "2023-07-09T04:27:49.618226Z"
    }
   }
  },
  {
   "cell_type": "code",
   "execution_count": 15,
   "outputs": [
    {
     "data": {
      "text/plain": "(['09', 'flashy', 'bull/laelia,', 'llc'], 142, 7.64)"
     },
     "execution_count": 15,
     "metadata": {},
     "output_type": "execute_result"
    }
   ],
   "source": [
    "scores[0]"
   ],
   "metadata": {
    "collapsed": false,
    "ExecuteTime": {
     "end_time": "2023-07-09T04:27:49.624066Z",
     "start_time": "2023-07-09T04:27:49.620366Z"
    }
   }
  },
  {
   "cell_type": "code",
   "execution_count": 16,
   "outputs": [],
   "source": [
    "def run_func(queries, corpus, top_k=5):\n",
    "    meta = {}\n",
    "    scores = bm25.get_top_n(queries.split(), corpus, top_k)\n",
    "    meta[queries] = list(map(' '.join, scores))\n",
    "    return meta"
   ],
   "metadata": {
    "collapsed": false,
    "ExecuteTime": {
     "end_time": "2023-07-09T04:27:49.625739Z",
     "start_time": "2023-07-09T04:27:49.623381Z"
    }
   }
  },
  {
   "cell_type": "code",
   "execution_count": 17,
   "outputs": [
    {
     "name": "stderr",
     "output_type": "stream",
     "text": [
      "100%|██████████| 3/3 [00:00<00:00, 5904.70it/s]\n"
     ]
    }
   ],
   "source": [
    "num_jobs = -1\n",
    "queries = ['09', '08', 'flashy']\n",
    "results = Parallel(n_jobs=num_jobs)(delayed(run_func)(query, corpus, 5) for query in tqdm(queries))"
   ],
   "metadata": {
    "collapsed": false,
    "ExecuteTime": {
     "end_time": "2023-07-09T04:27:49.809552Z",
     "start_time": "2023-07-09T04:27:49.625248Z"
    }
   }
  },
  {
   "cell_type": "code",
   "execution_count": 18,
   "outputs": [
    {
     "data": {
      "text/plain": "        0                                   1\n0      09      09 proud citizen/marialua, llc\n0      09          09 flashy bull/laelia, llc\n0      09   09 silver train/alotofappeal, llc\n0      09  09 flashy bull/desert sunrise, llc\n0      09      09 city zip/capote's tune, llc\n0      08           08 flatter/glamorama, llc\n0      08               08 johar/zawaaya, llc\n0      08        08 da stoops/jathibiyah, llc\n0      08        08 smoke glacken/minado, llc\n0      08         08 grand slam/feminine, llc\n0  flashy          09 flashy bull/laelia, llc\n0  flashy      09 flashy bull/dream city, llc\n0  flashy  09 flashy bull/desert sunrise, llc\n0  flashy   09 flashy bull/carol's amore, llc\n0  flashy    12 flashy bull/pleasure cat, llc",
      "text/html": "<div>\n<style scoped>\n    .dataframe tbody tr th:only-of-type {\n        vertical-align: middle;\n    }\n\n    .dataframe tbody tr th {\n        vertical-align: top;\n    }\n\n    .dataframe thead th {\n        text-align: right;\n    }\n</style>\n<table border=\"1\" class=\"dataframe\">\n  <thead>\n    <tr style=\"text-align: right;\">\n      <th></th>\n      <th>0</th>\n      <th>1</th>\n    </tr>\n  </thead>\n  <tbody>\n    <tr>\n      <th>0</th>\n      <td>09</td>\n      <td>09 proud citizen/marialua, llc</td>\n    </tr>\n    <tr>\n      <th>0</th>\n      <td>09</td>\n      <td>09 flashy bull/laelia, llc</td>\n    </tr>\n    <tr>\n      <th>0</th>\n      <td>09</td>\n      <td>09 silver train/alotofappeal, llc</td>\n    </tr>\n    <tr>\n      <th>0</th>\n      <td>09</td>\n      <td>09 flashy bull/desert sunrise, llc</td>\n    </tr>\n    <tr>\n      <th>0</th>\n      <td>09</td>\n      <td>09 city zip/capote's tune, llc</td>\n    </tr>\n    <tr>\n      <th>0</th>\n      <td>08</td>\n      <td>08 flatter/glamorama, llc</td>\n    </tr>\n    <tr>\n      <th>0</th>\n      <td>08</td>\n      <td>08 johar/zawaaya, llc</td>\n    </tr>\n    <tr>\n      <th>0</th>\n      <td>08</td>\n      <td>08 da stoops/jathibiyah, llc</td>\n    </tr>\n    <tr>\n      <th>0</th>\n      <td>08</td>\n      <td>08 smoke glacken/minado, llc</td>\n    </tr>\n    <tr>\n      <th>0</th>\n      <td>08</td>\n      <td>08 grand slam/feminine, llc</td>\n    </tr>\n    <tr>\n      <th>0</th>\n      <td>flashy</td>\n      <td>09 flashy bull/laelia, llc</td>\n    </tr>\n    <tr>\n      <th>0</th>\n      <td>flashy</td>\n      <td>09 flashy bull/dream city, llc</td>\n    </tr>\n    <tr>\n      <th>0</th>\n      <td>flashy</td>\n      <td>09 flashy bull/desert sunrise, llc</td>\n    </tr>\n    <tr>\n      <th>0</th>\n      <td>flashy</td>\n      <td>09 flashy bull/carol's amore, llc</td>\n    </tr>\n    <tr>\n      <th>0</th>\n      <td>flashy</td>\n      <td>12 flashy bull/pleasure cat, llc</td>\n    </tr>\n  </tbody>\n</table>\n</div>"
     },
     "execution_count": 18,
     "metadata": {},
     "output_type": "execute_result"
    }
   ],
   "source": [
    "tmp = pd.concat([pd.DataFrame(i.items()) for i in results])\n",
    "tmp = tmp.explode(1)\n",
    "tmp"
   ],
   "metadata": {
    "collapsed": false,
    "ExecuteTime": {
     "end_time": "2023-07-09T04:27:49.815476Z",
     "start_time": "2023-07-09T04:27:49.813544Z"
    }
   }
  }
 ],
 "metadata": {
  "kernelspec": {
   "display_name": "Python 3",
   "language": "python",
   "name": "python3"
  },
  "language_info": {
   "codemirror_mode": {
    "name": "ipython",
    "version": 2
   },
   "file_extension": ".py",
   "mimetype": "text/x-python",
   "name": "python",
   "nbconvert_exporter": "python",
   "pygments_lexer": "ipython2",
   "version": "2.7.6"
  }
 },
 "nbformat": 4,
 "nbformat_minor": 0
}
