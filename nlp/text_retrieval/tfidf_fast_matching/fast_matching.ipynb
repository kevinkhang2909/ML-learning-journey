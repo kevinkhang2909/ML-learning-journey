{
 "cells": [
  {
   "cell_type": "markdown",
   "source": [
    "# Fast Text Matching"
   ],
   "metadata": {
    "collapsed": false
   }
  },
  {
   "cell_type": "code",
   "execution_count": 1,
   "id": "15bf60ed-95eb-4cad-905d-eb58ca9edb0d",
   "metadata": {},
   "outputs": [],
   "source": [
    "import pandas as pd\n",
    "from function import TextMatch"
   ]
  },
  {
   "cell_type": "markdown",
   "source": [
    "## 1. Pipeline"
   ],
   "metadata": {
    "collapsed": false
   }
  },
  {
   "cell_type": "code",
   "execution_count": 2,
   "id": "1fd2261e-d115-4ab1-a773-03015f67cd28",
   "metadata": {},
   "outputs": [
    {
     "name": "stdout",
     "output_type": "stream",
     "text": [
      "(50000, 4)\n"
     ]
    },
    {
     "data": {
      "text/plain": "   Line Number                        Company Name  Company CIK Key  \\\n0            1                              !J INC          1438823   \n1            2       #1 A LIFESAFER HOLDINGS, INC.          1509607   \n2            3  #1 ARIZONA DISCOUNT PROPERTIES LLC          1457512   \n3            4                   #1 PAINTBALL CORP          1433777   \n4            5                               $ LLC          1427189   \n\n                    company_edit_name  \n0                              !j inc  \n1       #1 a lifesafer holdings, inc.  \n2  #1 arizona discount properties llc  \n3                   #1 paintball corp  \n4                               $ llc  ",
      "text/html": "<div>\n<style scoped>\n    .dataframe tbody tr th:only-of-type {\n        vertical-align: middle;\n    }\n\n    .dataframe tbody tr th {\n        vertical-align: top;\n    }\n\n    .dataframe thead th {\n        text-align: right;\n    }\n</style>\n<table border=\"1\" class=\"dataframe\">\n  <thead>\n    <tr style=\"text-align: right;\">\n      <th></th>\n      <th>Line Number</th>\n      <th>Company Name</th>\n      <th>Company CIK Key</th>\n      <th>company_edit_name</th>\n    </tr>\n  </thead>\n  <tbody>\n    <tr>\n      <th>0</th>\n      <td>1</td>\n      <td>!J INC</td>\n      <td>1438823</td>\n      <td>!j inc</td>\n    </tr>\n    <tr>\n      <th>1</th>\n      <td>2</td>\n      <td>#1 A LIFESAFER HOLDINGS, INC.</td>\n      <td>1509607</td>\n      <td>#1 a lifesafer holdings, inc.</td>\n    </tr>\n    <tr>\n      <th>2</th>\n      <td>3</td>\n      <td>#1 ARIZONA DISCOUNT PROPERTIES LLC</td>\n      <td>1457512</td>\n      <td>#1 arizona discount properties llc</td>\n    </tr>\n    <tr>\n      <th>3</th>\n      <td>4</td>\n      <td>#1 PAINTBALL CORP</td>\n      <td>1433777</td>\n      <td>#1 paintball corp</td>\n    </tr>\n    <tr>\n      <th>4</th>\n      <td>5</td>\n      <td>$ LLC</td>\n      <td>1427189</td>\n      <td>$ llc</td>\n    </tr>\n  </tbody>\n</table>\n</div>"
     },
     "execution_count": 2,
     "metadata": {},
     "output_type": "execute_result"
    }
   ],
   "source": [
    "df = pd.read_csv('data.csv')\n",
    "print(df.shape)\n",
    "\n",
    "df['company_edit_name'] = df['Company Name'].map(lambda x: x.lower().strip())\n",
    "df.head()"
   ]
  },
  {
   "cell_type": "code",
   "execution_count": 3,
   "outputs": [
    {
     "name": "stdout",
     "output_type": "stream",
     "text": [
      "Process vectorize: 2.3s\n",
      "Process optimized: 15.09s\n",
      "49,627 items in BASE match 49,627 items in SOURCE with top 5 match and similarity threshold: 0.5\n"
     ]
    },
    {
     "data": {
      "text/plain": "                                      base  \\\n0                                   !j inc   \n1            #1 a lifesafer holdings, inc.   \n2       #1 arizona discount properties llc   \n3       #1 arizona discount properties llc   \n4                        #1 paintball corp   \n...                                    ...   \n191912                         babb jack j   \n191913                         babb jack j   \n191914                         babb jack j   \n191915                   babb james g. iii   \n191916                   babb james g. iii   \n\n                                    source  similarity  rank  \n0                                   !j inc        1.00     1  \n1            #1 a lifesafer holdings, inc.        1.00     1  \n2       #1 arizona discount properties llc        1.00     1  \n3            arizona income properties llc        0.61     2  \n4                        #1 paintball corp        1.00     1  \n...                                    ...         ...   ...  \n191912                   babb james g. iii        0.57     2  \n191913                        allen jack j        0.54     3  \n191914                         africk jack        0.51     4  \n191915                   babb james g. iii        1.00     1  \n191916                         babb jack j        0.57     2  \n\n[191917 rows x 4 columns]",
      "text/html": "<div>\n<style scoped>\n    .dataframe tbody tr th:only-of-type {\n        vertical-align: middle;\n    }\n\n    .dataframe tbody tr th {\n        vertical-align: top;\n    }\n\n    .dataframe thead th {\n        text-align: right;\n    }\n</style>\n<table border=\"1\" class=\"dataframe\">\n  <thead>\n    <tr style=\"text-align: right;\">\n      <th></th>\n      <th>base</th>\n      <th>source</th>\n      <th>similarity</th>\n      <th>rank</th>\n    </tr>\n  </thead>\n  <tbody>\n    <tr>\n      <th>0</th>\n      <td>!j inc</td>\n      <td>!j inc</td>\n      <td>1.00</td>\n      <td>1</td>\n    </tr>\n    <tr>\n      <th>1</th>\n      <td>#1 a lifesafer holdings, inc.</td>\n      <td>#1 a lifesafer holdings, inc.</td>\n      <td>1.00</td>\n      <td>1</td>\n    </tr>\n    <tr>\n      <th>2</th>\n      <td>#1 arizona discount properties llc</td>\n      <td>#1 arizona discount properties llc</td>\n      <td>1.00</td>\n      <td>1</td>\n    </tr>\n    <tr>\n      <th>3</th>\n      <td>#1 arizona discount properties llc</td>\n      <td>arizona income properties llc</td>\n      <td>0.61</td>\n      <td>2</td>\n    </tr>\n    <tr>\n      <th>4</th>\n      <td>#1 paintball corp</td>\n      <td>#1 paintball corp</td>\n      <td>1.00</td>\n      <td>1</td>\n    </tr>\n    <tr>\n      <th>...</th>\n      <td>...</td>\n      <td>...</td>\n      <td>...</td>\n      <td>...</td>\n    </tr>\n    <tr>\n      <th>191912</th>\n      <td>babb jack j</td>\n      <td>babb james g. iii</td>\n      <td>0.57</td>\n      <td>2</td>\n    </tr>\n    <tr>\n      <th>191913</th>\n      <td>babb jack j</td>\n      <td>allen jack j</td>\n      <td>0.54</td>\n      <td>3</td>\n    </tr>\n    <tr>\n      <th>191914</th>\n      <td>babb jack j</td>\n      <td>africk jack</td>\n      <td>0.51</td>\n      <td>4</td>\n    </tr>\n    <tr>\n      <th>191915</th>\n      <td>babb james g. iii</td>\n      <td>babb james g. iii</td>\n      <td>1.00</td>\n      <td>1</td>\n    </tr>\n    <tr>\n      <th>191916</th>\n      <td>babb james g. iii</td>\n      <td>babb jack j</td>\n      <td>0.57</td>\n      <td>2</td>\n    </tr>\n  </tbody>\n</table>\n<p>191917 rows × 4 columns</p>\n</div>"
     },
     "execution_count": 3,
     "metadata": {},
     "output_type": "execute_result"
    }
   ],
   "source": [
    "item = df['company_edit_name'].unique().tolist()\n",
    "match_df = TextMatch(item, item).run_match()\n",
    "match_df"
   ],
   "metadata": {
    "collapsed": false
   }
  },
  {
   "cell_type": "code",
   "execution_count": 4,
   "outputs": [
    {
     "data": {
      "text/plain": "                               base  \\\n68398  aim variable insurance funds   \n68399  aim variable insurance funds   \n68400  aim variable insurance funds   \n68401  aim variable insurance funds   \n68402  aim variable insurance funds   \n\n                                                  source  similarity  rank  \n68398                       aim variable insurance funds        1.00     1  \n68399                   aim variable insurance funds inc        0.97     2  \n68400  aim variable insurance funds (invesco variable...        0.88     3  \n68401                       aip variable insurance trust        0.68     4  \n68402                    access variable insurance trust        0.68     5  ",
      "text/html": "<div>\n<style scoped>\n    .dataframe tbody tr th:only-of-type {\n        vertical-align: middle;\n    }\n\n    .dataframe tbody tr th {\n        vertical-align: top;\n    }\n\n    .dataframe thead th {\n        text-align: right;\n    }\n</style>\n<table border=\"1\" class=\"dataframe\">\n  <thead>\n    <tr style=\"text-align: right;\">\n      <th></th>\n      <th>base</th>\n      <th>source</th>\n      <th>similarity</th>\n      <th>rank</th>\n    </tr>\n  </thead>\n  <tbody>\n    <tr>\n      <th>68398</th>\n      <td>aim variable insurance funds</td>\n      <td>aim variable insurance funds</td>\n      <td>1.00</td>\n      <td>1</td>\n    </tr>\n    <tr>\n      <th>68399</th>\n      <td>aim variable insurance funds</td>\n      <td>aim variable insurance funds inc</td>\n      <td>0.97</td>\n      <td>2</td>\n    </tr>\n    <tr>\n      <th>68400</th>\n      <td>aim variable insurance funds</td>\n      <td>aim variable insurance funds (invesco variable...</td>\n      <td>0.88</td>\n      <td>3</td>\n    </tr>\n    <tr>\n      <th>68401</th>\n      <td>aim variable insurance funds</td>\n      <td>aip variable insurance trust</td>\n      <td>0.68</td>\n      <td>4</td>\n    </tr>\n    <tr>\n      <th>68402</th>\n      <td>aim variable insurance funds</td>\n      <td>access variable insurance trust</td>\n      <td>0.68</td>\n      <td>5</td>\n    </tr>\n  </tbody>\n</table>\n</div>"
     },
     "execution_count": 4,
     "metadata": {},
     "output_type": "execute_result"
    }
   ],
   "source": [
    "match_df.query('base == \"aim variable insurance funds\"')"
   ],
   "metadata": {
    "collapsed": false
   }
  },
  {
   "cell_type": "markdown",
   "source": [
    "## 2. Reproduce"
   ],
   "metadata": {
    "collapsed": false
   }
  },
  {
   "cell_type": "code",
   "execution_count": 5,
   "outputs": [
    {
     "name": "stdout",
     "output_type": "stream",
     "text": [
      "Process vectorize: 0.0s\n",
      "Process optimized: 0.01s\n",
      "4 items in BASE match 4 items in SOURCE with top 5 match and similarity threshold: 0.5\n"
     ]
    },
    {
     "data": {
      "text/plain": "                                    base  \\\n0            This is the first document.   \n1            This is the first document.   \n2            This is the first document.   \n3  This document is the second document.   \n4  This document is the second document.   \n5             And this is the third one.   \n6            Is this the first document?   \n7            Is this the first document?   \n\n                                  source  similarity  rank  \n0            This is the first document.        1.00     1  \n1            Is this the first document?        0.79     2  \n2  This document is the second document.        0.54     3  \n3  This document is the second document.        1.00     1  \n4            This is the first document.        0.54     2  \n5             And this is the third one.        1.00     1  \n6            Is this the first document?        1.00     1  \n7            This is the first document.        0.79     2  ",
      "text/html": "<div>\n<style scoped>\n    .dataframe tbody tr th:only-of-type {\n        vertical-align: middle;\n    }\n\n    .dataframe tbody tr th {\n        vertical-align: top;\n    }\n\n    .dataframe thead th {\n        text-align: right;\n    }\n</style>\n<table border=\"1\" class=\"dataframe\">\n  <thead>\n    <tr style=\"text-align: right;\">\n      <th></th>\n      <th>base</th>\n      <th>source</th>\n      <th>similarity</th>\n      <th>rank</th>\n    </tr>\n  </thead>\n  <tbody>\n    <tr>\n      <th>0</th>\n      <td>This is the first document.</td>\n      <td>This is the first document.</td>\n      <td>1.00</td>\n      <td>1</td>\n    </tr>\n    <tr>\n      <th>1</th>\n      <td>This is the first document.</td>\n      <td>Is this the first document?</td>\n      <td>0.79</td>\n      <td>2</td>\n    </tr>\n    <tr>\n      <th>2</th>\n      <td>This is the first document.</td>\n      <td>This document is the second document.</td>\n      <td>0.54</td>\n      <td>3</td>\n    </tr>\n    <tr>\n      <th>3</th>\n      <td>This document is the second document.</td>\n      <td>This document is the second document.</td>\n      <td>1.00</td>\n      <td>1</td>\n    </tr>\n    <tr>\n      <th>4</th>\n      <td>This document is the second document.</td>\n      <td>This is the first document.</td>\n      <td>0.54</td>\n      <td>2</td>\n    </tr>\n    <tr>\n      <th>5</th>\n      <td>And this is the third one.</td>\n      <td>And this is the third one.</td>\n      <td>1.00</td>\n      <td>1</td>\n    </tr>\n    <tr>\n      <th>6</th>\n      <td>Is this the first document?</td>\n      <td>Is this the first document?</td>\n      <td>1.00</td>\n      <td>1</td>\n    </tr>\n    <tr>\n      <th>7</th>\n      <td>Is this the first document?</td>\n      <td>This is the first document.</td>\n      <td>0.79</td>\n      <td>2</td>\n    </tr>\n  </tbody>\n</table>\n</div>"
     },
     "execution_count": 5,
     "metadata": {},
     "output_type": "execute_result"
    }
   ],
   "source": [
    "corpus = [\n",
    "    'This is the first document.',\n",
    "    'This document is the second document.',\n",
    "    'And this is the third one.',\n",
    "    'Is this the first document?',\n",
    "]\n",
    "TextMatch(corpus, corpus).run_match()"
   ],
   "metadata": {
    "collapsed": false
   }
  },
  {
   "cell_type": "markdown",
   "source": [
    "### 2.1 N-grams"
   ],
   "metadata": {
    "collapsed": false
   }
  },
  {
   "cell_type": "code",
   "execution_count": 6,
   "outputs": [
    {
     "name": "stdout",
     "output_type": "stream",
     "text": [
      "['Thi', 'his', 'is ', 's i', ' is', 'is ', 's t', ' th', 'the', 'he ', 'e f', ' fi', 'fir', 'irs', 'rst', 'st ', 't d', ' do', 'doc', 'ocu', 'cum', 'ume', 'men', 'ent']\n"
     ]
    }
   ],
   "source": [
    "from re import sub\n",
    "\n",
    "\n",
    "def ngrams_func(string, n=3):\n",
    "    string = sub(r'[,-./]|\\sBD', r'', string)\n",
    "    ngrams = zip(*[string[i:] for i in range(n)])\n",
    "    return [''.join(ngram) for ngram in ngrams]\n",
    "\n",
    "print(ngrams_func(corpus[0]))"
   ],
   "metadata": {
    "collapsed": false
   }
  },
  {
   "cell_type": "markdown",
   "source": [
    "### 2.2 TFIDF"
   ],
   "metadata": {
    "collapsed": false
   }
  },
  {
   "cell_type": "code",
   "execution_count": 7,
   "outputs": [
    {
     "name": "stdout",
     "output_type": "stream",
     "text": [
      "[' do' ' fi' ' is' ' on' ' se' ' th' 'And' 'Is ' 'Thi' 'con' 'cum' 'd d'\n",
      " 'd o' 'd t' 'doc' 'e f' 'e s' 'e t' 'eco' 'ent' 'fir' 'he ' 'hir' 'his'\n",
      " 'ird' 'irs' 'is ' 'men' 'nd ' 'nt ' 'nt?' 'ocu' 'ond' 'one' 'rd ' 'rst'\n",
      " 's d' 's i' 's t' 'sec' 'st ' 't d' 't i' 'the' 'thi' 'ume']\n"
     ]
    }
   ],
   "source": [
    "from sklearn.feature_extraction.text import TfidfVectorizer\n",
    "\n",
    "\n",
    "vectorizer = TfidfVectorizer(analyzer=ngrams_func)\n",
    "X = vectorizer.fit_transform(corpus)\n",
    "print(vectorizer.get_feature_names_out())"
   ],
   "metadata": {
    "collapsed": false
   }
  },
  {
   "cell_type": "code",
   "execution_count": 8,
   "outputs": [
    {
     "data": {
      "text/plain": "array([[0.18984129, 0.23449176, 0.18984129, 0.        , 0.        ,\n        0.15520769, 0.        , 0.        , 0.23449176, 0.        ,\n        0.18984129, 0.        , 0.        , 0.        , 0.18984129,\n        0.23449176, 0.        , 0.        , 0.        , 0.18984129,\n        0.23449176, 0.15520769, 0.        , 0.15520769, 0.        ,\n        0.23449176, 0.31041538, 0.18984129, 0.        , 0.        ,\n        0.        , 0.18984129, 0.        , 0.        , 0.        ,\n        0.23449176, 0.        , 0.23449176, 0.15520769, 0.        ,\n        0.23449176, 0.23449176, 0.        , 0.15520769, 0.        ,\n        0.18984129],\n       [0.25275498, 0.        , 0.12637749, 0.        , 0.19799476,\n        0.10332188, 0.        , 0.        , 0.15610134, 0.19799476,\n        0.25275498, 0.19799476, 0.        , 0.        , 0.25275498,\n        0.        , 0.19799476, 0.        , 0.19799476, 0.25275498,\n        0.        , 0.10332188, 0.        , 0.10332188, 0.        ,\n        0.        , 0.20664375, 0.25275498, 0.15610134, 0.19799476,\n        0.        , 0.25275498, 0.19799476, 0.        , 0.        ,\n        0.        , 0.19799476, 0.        , 0.10332188, 0.19799476,\n        0.        , 0.        , 0.19799476, 0.10332188, 0.        ,\n        0.25275498],\n       [0.        , 0.        , 0.15143161, 0.23724688, 0.        ,\n        0.37141579, 0.23724688, 0.        , 0.        , 0.        ,\n        0.        , 0.        , 0.23724688, 0.23724688, 0.        ,\n        0.        , 0.        , 0.23724688, 0.        , 0.        ,\n        0.        , 0.12380526, 0.23724688, 0.12380526, 0.23724688,\n        0.        , 0.24761053, 0.        , 0.18704816, 0.        ,\n        0.        , 0.        , 0.        , 0.23724688, 0.23724688,\n        0.        , 0.        , 0.18704816, 0.12380526, 0.        ,\n        0.        , 0.        , 0.        , 0.12380526, 0.37409633,\n        0.        ],\n       [0.17640293, 0.21789271, 0.        , 0.        , 0.        ,\n        0.28844191, 0.        , 0.27636928, 0.        , 0.        ,\n        0.17640293, 0.        , 0.        , 0.        , 0.17640293,\n        0.21789271, 0.        , 0.        , 0.        , 0.17640293,\n        0.21789271, 0.14422095, 0.        , 0.14422095, 0.        ,\n        0.21789271, 0.14422095, 0.17640293, 0.        , 0.        ,\n        0.27636928, 0.17640293, 0.        , 0.        , 0.        ,\n        0.21789271, 0.        , 0.        , 0.28844191, 0.        ,\n        0.21789271, 0.21789271, 0.        , 0.14422095, 0.21789271,\n        0.17640293]])"
     },
     "execution_count": 8,
     "metadata": {},
     "output_type": "execute_result"
    }
   ],
   "source": [
    "X.toarray()"
   ],
   "metadata": {
    "collapsed": false
   }
  },
  {
   "cell_type": "markdown",
   "source": [
    "### 2.3 CSR"
   ],
   "metadata": {
    "collapsed": false
   }
  },
  {
   "cell_type": "code",
   "execution_count": 9,
   "outputs": [
    {
     "data": {
      "text/plain": "array([[1.        , 0.        , 0.        , 0.79353604],\n       [0.        , 1.        , 0.        , 0.        ],\n       [0.        , 0.        , 1.        , 0.        ],\n       [0.79353604, 0.        , 0.        , 1.        ]])"
     },
     "execution_count": 9,
     "metadata": {},
     "output_type": "execute_result"
    }
   ],
   "source": [
    "from sparse_dot_topn import awesome_cossim_topn\n",
    "import numpy as np\n",
    "\n",
    "matches = awesome_cossim_topn(X, X.transpose(), 10, 0.6, use_threads=True, n_jobs=4)\n",
    "matches.toarray()"
   ],
   "metadata": {
    "collapsed": false
   }
  },
  {
   "cell_type": "code",
   "execution_count": 10,
   "outputs": [
    {
     "data": {
      "text/plain": "                                    base  \\\n0            This is the first document.   \n1            This is the first document.   \n2  This document is the second document.   \n3             And this is the third one.   \n4            Is this the first document?   \n5            Is this the first document?   \n\n                                  source  similarity  \n0            This is the first document.    1.000000  \n1            Is this the first document?    0.793536  \n2  This document is the second document.    1.000000  \n3             And this is the third one.    1.000000  \n4            Is this the first document?    1.000000  \n5            This is the first document.    0.793536  ",
      "text/html": "<div>\n<style scoped>\n    .dataframe tbody tr th:only-of-type {\n        vertical-align: middle;\n    }\n\n    .dataframe tbody tr th {\n        vertical-align: top;\n    }\n\n    .dataframe thead th {\n        text-align: right;\n    }\n</style>\n<table border=\"1\" class=\"dataframe\">\n  <thead>\n    <tr style=\"text-align: right;\">\n      <th></th>\n      <th>base</th>\n      <th>source</th>\n      <th>similarity</th>\n    </tr>\n  </thead>\n  <tbody>\n    <tr>\n      <th>0</th>\n      <td>This is the first document.</td>\n      <td>This is the first document.</td>\n      <td>1.000000</td>\n    </tr>\n    <tr>\n      <th>1</th>\n      <td>This is the first document.</td>\n      <td>Is this the first document?</td>\n      <td>0.793536</td>\n    </tr>\n    <tr>\n      <th>2</th>\n      <td>This document is the second document.</td>\n      <td>This document is the second document.</td>\n      <td>1.000000</td>\n    </tr>\n    <tr>\n      <th>3</th>\n      <td>And this is the third one.</td>\n      <td>And this is the third one.</td>\n      <td>1.000000</td>\n    </tr>\n    <tr>\n      <th>4</th>\n      <td>Is this the first document?</td>\n      <td>Is this the first document?</td>\n      <td>1.000000</td>\n    </tr>\n    <tr>\n      <th>5</th>\n      <td>Is this the first document?</td>\n      <td>This is the first document.</td>\n      <td>0.793536</td>\n    </tr>\n  </tbody>\n</table>\n</div>"
     },
     "execution_count": 10,
     "metadata": {},
     "output_type": "execute_result"
    }
   ],
   "source": [
    "non_zeros = matches.nonzero()\n",
    "\n",
    "sparserows = non_zeros[0]\n",
    "sparsecols = non_zeros[1]\n",
    "\n",
    "nr_matches = sparsecols.size\n",
    "\n",
    "left_side = np.empty([nr_matches], dtype=object)\n",
    "right_side = np.empty([nr_matches], dtype=object)\n",
    "similairity = np.zeros(nr_matches)\n",
    "\n",
    "for index in range(0, nr_matches):\n",
    "    left_side[index] = corpus[sparserows[index]]\n",
    "    right_side[index] = corpus[sparsecols[index]]\n",
    "    similairity[index] = matches.data[index]\n",
    "\n",
    "pd.DataFrame({'base': left_side, 'source': right_side, 'similarity': similairity})"
   ],
   "metadata": {
    "collapsed": false
   }
  }
 ],
 "metadata": {
  "kernelspec": {
   "display_name": "Python 3 (ipykernel)",
   "language": "python",
   "name": "python3"
  },
  "language_info": {
   "codemirror_mode": {
    "name": "ipython",
    "version": 3
   },
   "file_extension": ".py",
   "mimetype": "text/x-python",
   "name": "python",
   "nbconvert_exporter": "python",
   "pygments_lexer": "ipython3",
   "version": "3.9.12"
  }
 },
 "nbformat": 4,
 "nbformat_minor": 5
}
