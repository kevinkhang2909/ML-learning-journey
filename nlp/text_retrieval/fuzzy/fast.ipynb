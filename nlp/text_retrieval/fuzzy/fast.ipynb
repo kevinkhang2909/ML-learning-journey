{
 "cells": [
  {
   "cell_type": "code",
   "execution_count": 1,
   "metadata": {
    "collapsed": true,
    "ExecuteTime": {
     "end_time": "2023-08-06T08:54:14.019255Z",
     "start_time": "2023-08-06T08:54:13.912152Z"
    }
   },
   "outputs": [],
   "source": [
    "from pathlib import Path\n",
    "import polars as pl\n",
    "from tqdm import tqdm\n",
    "from rapidfuzz import process, fuzz"
   ]
  },
  {
   "cell_type": "code",
   "execution_count": 2,
   "outputs": [
    {
     "data": {
      "text/plain": "shape: (50_000, 4)\n┌─────────────┬─────────────────────────────────┬─────────────────┬────────────────────────────────┐\n│ Line Number ┆ Company Name                    ┆ Company CIK Key ┆ company_edit_name              │\n│ ---         ┆ ---                             ┆ ---             ┆ ---                            │\n│ i64         ┆ str                             ┆ i64             ┆ str                            │\n╞═════════════╪═════════════════════════════════╪═════════════════╪════════════════════════════════╡\n│ 1           ┆ !J INC                          ┆ 1438823         ┆ !j inc                         │\n│ 2           ┆ #1 A LIFESAFER HOLDINGS, INC.   ┆ 1509607         ┆ #1 a lifesafer holdings, inc.  │\n│ 3           ┆ #1 ARIZONA DISCOUNT PROPERTIES  ┆ 1457512         ┆ #1 arizona discount properties │\n│             ┆ L…                              ┆                 ┆ l…                             │\n│ 4           ┆ #1 PAINTBALL CORP               ┆ 1433777         ┆ #1 paintball corp              │\n│ …           ┆ …                               ┆ …               ┆ …                              │\n│ 49997       ┆ BABB HENRY C                    ┆ 1193948         ┆ babb henry c                   │\n│ 49998       ┆ BABB INTERNATIONAL INC          ┆ 1139504         ┆ babb international inc         │\n│ 49999       ┆ BABB JACK J                     ┆ 1280368         ┆ babb jack j                    │\n│ 50000       ┆ BABB JAMES G. III               ┆ 1575424         ┆ babb james g. iii              │\n└─────────────┴─────────────────────────────────┴─────────────────┴────────────────────────────────┘",
      "text/html": "<div><style>\n.dataframe > thead > tr > th,\n.dataframe > tbody > tr > td {\n  text-align: right;\n}\n</style>\n<small>shape: (50_000, 4)</small><table border=\"1\" class=\"dataframe\"><thead><tr><th>Line Number</th><th>Company Name</th><th>Company CIK Key</th><th>company_edit_name</th></tr><tr><td>i64</td><td>str</td><td>i64</td><td>str</td></tr></thead><tbody><tr><td>1</td><td>&quot;!J INC&quot;</td><td>1438823</td><td>&quot;!j inc&quot;</td></tr><tr><td>2</td><td>&quot;#1 A LIFESAFER…</td><td>1509607</td><td>&quot;#1 a lifesafer…</td></tr><tr><td>3</td><td>&quot;#1 ARIZONA DIS…</td><td>1457512</td><td>&quot;#1 arizona dis…</td></tr><tr><td>4</td><td>&quot;#1 PAINTBALL C…</td><td>1433777</td><td>&quot;#1 paintball c…</td></tr><tr><td>5</td><td>&quot;$ LLC&quot;</td><td>1427189</td><td>&quot;$ llc&quot;</td></tr><tr><td>6</td><td>&quot;&amp; S MEDIA GROU…</td><td>1447162</td><td>&quot;&amp; s media grou…</td></tr><tr><td>7</td><td>&quot;&amp;TV COMMUNICAT…</td><td>1479357</td><td>&quot;&amp;tv communicat…</td></tr><tr><td>8</td><td>&quot;&#x27;MKTG, INC.&#x27;&quot;</td><td>886475</td><td>&quot;&#x27;mktg, inc.&#x27;&quot;</td></tr><tr><td>9</td><td>&quot;&#x27;OHANA LABS IN…</td><td>1703629</td><td>&quot;&#x27;ohana labs in…</td></tr><tr><td>10</td><td>&quot;(OURCROWD INVE…</td><td>1599496</td><td>&quot;(ourcrowd inve…</td></tr><tr><td>11</td><td>&quot;(Y.Z) QUEENCO …</td><td>1623088</td><td>&quot;(y.z) queenco …</td></tr><tr><td>12</td><td>&quot;.CLUB DOMAINS,…</td><td>1577787</td><td>&quot;.club domains,…</td></tr><tr><td>&hellip;</td><td>&hellip;</td><td>&hellip;</td><td>&hellip;</td></tr><tr><td>49989</td><td>&quot;BABA JOE DIAMO…</td><td>1688976</td><td>&quot;baba joe diamo…</td></tr><tr><td>49990</td><td>&quot;BABA&#x27;S BACKYAR…</td><td>1616002</td><td>&quot;baba&#x27;s backyar…</td></tr><tr><td>49991</td><td>&quot;BABACAN THOMAS…</td><td>1615648</td><td>&quot;babacan thomas…</td></tr><tr><td>49992</td><td>&quot;BABAD SHOLOM C…</td><td>1443093</td><td>&quot;babad sholom c…</td></tr><tr><td>49993</td><td>&quot;BABALU LLC&quot;</td><td>1208255</td><td>&quot;babalu llc&quot;</td></tr><tr><td>49994</td><td>&quot;BABANI SUSIE&quot;</td><td>1270229</td><td>&quot;babani susie&quot;</td></tr><tr><td>49995</td><td>&quot;BABAY KARIM&quot;</td><td>1660243</td><td>&quot;babay karim&quot;</td></tr><tr><td>49996</td><td>&quot;BABB DOUGLAS J…</td><td>1190359</td><td>&quot;babb douglas j…</td></tr><tr><td>49997</td><td>&quot;BABB HENRY C&quot;</td><td>1193948</td><td>&quot;babb henry c&quot;</td></tr><tr><td>49998</td><td>&quot;BABB INTERNATI…</td><td>1139504</td><td>&quot;babb internati…</td></tr><tr><td>49999</td><td>&quot;BABB JACK J&quot;</td><td>1280368</td><td>&quot;babb jack j&quot;</td></tr><tr><td>50000</td><td>&quot;BABB JAMES G. …</td><td>1575424</td><td>&quot;babb james g. …</td></tr></tbody></table></div>"
     },
     "execution_count": 2,
     "metadata": {},
     "output_type": "execute_result"
    }
   ],
   "source": [
    "path = Path.home() / 'PycharmProjects/ML-learning-journey/nlp/text_retrieval/data/'\n",
    "df = pl.read_csv(path / 'data.csv')\n",
    "df"
   ],
   "metadata": {
    "collapsed": false,
    "ExecuteTime": {
     "end_time": "2023-08-06T08:54:14.102585Z",
     "start_time": "2023-08-06T08:54:14.076476Z"
    }
   }
  },
  {
   "cell_type": "code",
   "execution_count": 3,
   "outputs": [],
   "source": [
    "corpus = df['company_edit_name'].to_numpy().tolist()\n",
    "result = process.extract('media group llc', corpus, scorer=fuzz.WRatio, limit=5)"
   ],
   "metadata": {
    "collapsed": false,
    "ExecuteTime": {
     "end_time": "2023-08-06T08:54:19.117236Z",
     "start_time": "2023-08-06T08:54:14.105786Z"
    }
   }
  },
  {
   "cell_type": "code",
   "execution_count": 4,
   "outputs": [
    {
     "name": "stderr",
     "output_type": "stream",
     "text": [
      "100%|██████████| 100/100 [00:07<00:00, 13.53it/s]\n"
     ]
    },
    {
     "data": {
      "text/plain": "shape: (500, 4)\n┌───────────────────────────────────┬───────────┬───────┬──────────────────┐\n│ result                            ┆ score     ┆ index ┆ query            │\n│ ---                               ┆ ---       ┆ ---   ┆ ---              │\n│ str                               ┆ f64       ┆ i64   ┆ str              │\n╞═══════════════════════════════════╪═══════════╪═══════╪══════════════════╡\n│ & s media group llc               ┆ 95.0      ┆ 5     ┆ !j inc           │\n│ 2am media group llc               ┆ 95.0      ┆ 2186  ┆ !j inc           │\n│ amelia group llc                  ┆ 90.322581 ┆ 26772 ┆ !j inc           │\n│ 4me group llc                     ┆ 85.714286 ┆ 3255  ┆ !j inc           │\n│ …                                 ┆ …         ┆ …     ┆ …                │\n│ 2am media group llc               ┆ 95.0      ┆ 2186  ┆ 0792725 b.c. ltd │\n│ amelia group llc                  ┆ 90.322581 ┆ 26772 ┆ 0792725 b.c. ltd │\n│ 4me group llc                     ┆ 85.714286 ┆ 3255  ┆ 0792725 b.c. ltd │\n│ #1 arizona discount properties l… ┆ 85.5      ┆ 2     ┆ 0792725 b.c. ltd │\n└───────────────────────────────────┴───────────┴───────┴──────────────────┘",
      "text/html": "<div><style>\n.dataframe > thead > tr > th,\n.dataframe > tbody > tr > td {\n  text-align: right;\n}\n</style>\n<small>shape: (500, 4)</small><table border=\"1\" class=\"dataframe\"><thead><tr><th>result</th><th>score</th><th>index</th><th>query</th></tr><tr><td>str</td><td>f64</td><td>i64</td><td>str</td></tr></thead><tbody><tr><td>&quot;&amp; s media grou…</td><td>95.0</td><td>5</td><td>&quot;!j inc&quot;</td></tr><tr><td>&quot;2am media grou…</td><td>95.0</td><td>2186</td><td>&quot;!j inc&quot;</td></tr><tr><td>&quot;amelia group l…</td><td>90.322581</td><td>26772</td><td>&quot;!j inc&quot;</td></tr><tr><td>&quot;4me group llc&quot;</td><td>85.714286</td><td>3255</td><td>&quot;!j inc&quot;</td></tr><tr><td>&quot;#1 arizona dis…</td><td>85.5</td><td>2</td><td>&quot;!j inc&quot;</td></tr><tr><td>&quot;&amp; s media grou…</td><td>95.0</td><td>5</td><td>&quot;#1 a lifesafer…</td></tr><tr><td>&quot;2am media grou…</td><td>95.0</td><td>2186</td><td>&quot;#1 a lifesafer…</td></tr><tr><td>&quot;amelia group l…</td><td>90.322581</td><td>26772</td><td>&quot;#1 a lifesafer…</td></tr><tr><td>&quot;4me group llc&quot;</td><td>85.714286</td><td>3255</td><td>&quot;#1 a lifesafer…</td></tr><tr><td>&quot;#1 arizona dis…</td><td>85.5</td><td>2</td><td>&quot;#1 a lifesafer…</td></tr><tr><td>&quot;&amp; s media grou…</td><td>95.0</td><td>5</td><td>&quot;#1 arizona dis…</td></tr><tr><td>&quot;2am media grou…</td><td>95.0</td><td>2186</td><td>&quot;#1 arizona dis…</td></tr><tr><td>&hellip;</td><td>&hellip;</td><td>&hellip;</td><td>&hellip;</td></tr><tr><td>&quot;4me group llc&quot;</td><td>85.714286</td><td>3255</td><td>&quot;0766284 b.c. l…</td></tr><tr><td>&quot;#1 arizona dis…</td><td>85.5</td><td>2</td><td>&quot;0766284 b.c. l…</td></tr><tr><td>&quot;&amp; s media grou…</td><td>95.0</td><td>5</td><td>&quot;0787251 bc ltd…</td></tr><tr><td>&quot;2am media grou…</td><td>95.0</td><td>2186</td><td>&quot;0787251 bc ltd…</td></tr><tr><td>&quot;amelia group l…</td><td>90.322581</td><td>26772</td><td>&quot;0787251 bc ltd…</td></tr><tr><td>&quot;4me group llc&quot;</td><td>85.714286</td><td>3255</td><td>&quot;0787251 bc ltd…</td></tr><tr><td>&quot;#1 arizona dis…</td><td>85.5</td><td>2</td><td>&quot;0787251 bc ltd…</td></tr><tr><td>&quot;&amp; s media grou…</td><td>95.0</td><td>5</td><td>&quot;0792725 b.c. l…</td></tr><tr><td>&quot;2am media grou…</td><td>95.0</td><td>2186</td><td>&quot;0792725 b.c. l…</td></tr><tr><td>&quot;amelia group l…</td><td>90.322581</td><td>26772</td><td>&quot;0792725 b.c. l…</td></tr><tr><td>&quot;4me group llc&quot;</td><td>85.714286</td><td>3255</td><td>&quot;0792725 b.c. l…</td></tr><tr><td>&quot;#1 arizona dis…</td><td>85.5</td><td>2</td><td>&quot;0792725 b.c. l…</td></tr></tbody></table></div>"
     },
     "execution_count": 4,
     "metadata": {},
     "output_type": "execute_result"
    }
   ],
   "source": [
    "# query = 'media group llc'\n",
    "df_report = pl.DataFrame()\n",
    "for query in tqdm(corpus[:100]):\n",
    "    result = process.extract('media group llc', corpus, scorer=fuzz.WRatio, limit=5)\n",
    "    df_result = (\n",
    "        pl.DataFrame(result, schema=['result', 'score', 'index'])\n",
    "        .with_columns(pl.lit(query).alias('query'))\n",
    "    )\n",
    "    df_report = df_report.vstack(df_result)\n",
    "df_report"
   ],
   "metadata": {
    "collapsed": false,
    "ExecuteTime": {
     "end_time": "2023-08-06T08:54:21.813700Z",
     "start_time": "2023-08-06T08:54:14.408655Z"
    }
   }
  }
 ],
 "metadata": {
  "kernelspec": {
   "display_name": "Python 3",
   "language": "python",
   "name": "python3"
  },
  "language_info": {
   "codemirror_mode": {
    "name": "ipython",
    "version": 2
   },
   "file_extension": ".py",
   "mimetype": "text/x-python",
   "name": "python",
   "nbconvert_exporter": "python",
   "pygments_lexer": "ipython2",
   "version": "2.7.6"
  }
 },
 "nbformat": 4,
 "nbformat_minor": 0
}
